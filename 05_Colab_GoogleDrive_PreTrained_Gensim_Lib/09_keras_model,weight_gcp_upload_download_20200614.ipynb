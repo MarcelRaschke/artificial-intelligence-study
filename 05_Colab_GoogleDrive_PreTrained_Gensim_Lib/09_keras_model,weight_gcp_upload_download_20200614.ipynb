{
  "nbformat": 4,
  "nbformat_minor": 0,
  "metadata": {
    "colab": {
      "name": "keras-model,weight_gcp-upload-download_20200614.ipynb",
      "provenance": [],
      "collapsed_sections": [],
      "machine_shape": "hm"
    },
    "kernelspec": {
      "name": "python3",
      "display_name": "Python 3"
    },
    "accelerator": "GPU"
  },
  "cells": [
    {
      "cell_type": "code",
      "metadata": {
        "id": "ke9PqYovmusB",
        "colab_type": "code",
        "colab": {
          "base_uri": "https://localhost:8080/",
          "height": 53
        },
        "outputId": "ee66b9e2-2f3f-44a3-d35e-cdcbd7be2edc"
      },
      "source": [
        "###########################\n",
        "# google drive 저장/로딩\n",
        "###########################\n",
        "#구글 드라이브 저장\n",
        "!pip install -U -q PyDrive\n",
        "from pydrive.auth import GoogleAuth\n",
        "from pydrive.drive import GoogleDrive\n",
        "from google.colab import auth\n",
        "from oauth2client.client import GoogleCredentials\n",
        "\n",
        "def doGoodleDriveAuth():\n",
        "    # 1. Authenticate and create the PyDrive client.\n",
        "    auth.authenticate_user()\n",
        "    gauth = GoogleAuth()\n",
        "    print('gauth:',gauth)\n",
        "    gauth.credentials = GoogleCredentials.get_application_default()\n",
        "\n",
        "    drive = GoogleDrive(gauth)\n",
        "    print('drive:', drive)\n",
        "    return drive\n",
        "\n",
        "drive = doGoodleDriveAuth()\n",
        "\n",
        "# PyDrive reference:\n",
        "# https://googledrive.github.io/PyDrive/docs/build/html/index.html\n",
        "def gcp_upload(file_path, w_file_name, drive=drive):\n",
        "    # 특정 폴더 안으로 파일 삽입\n",
        "    uploaded = drive.CreateFile({'title': w_file_name}) #, \"parents\": [{\"kind\": \"drive#fileLink\",\"id\": 'jukyellow@gmail.com'}]})\n",
        "    uploaded.SetContentString(w_file_name)\n",
        "    uploaded.SetContentFile(file_path + w_file_name)\n",
        "    uploaded.Upload()\n",
        "    print('Uploaded file with ID {}'.format(uploaded.get('id')))"
      ],
      "execution_count": 1,
      "outputs": [
        {
          "output_type": "stream",
          "text": [
            "gauth: <pydrive.auth.GoogleAuth object at 0x7f4361e31da0>\n",
            "drive: <pydrive.drive.GoogleDrive object at 0x7f436e769278>\n"
          ],
          "name": "stdout"
        }
      ]
    },
    {
      "cell_type": "code",
      "metadata": {
        "id": "FkUUpw6km7Ic",
        "colab_type": "code",
        "colab": {}
      },
      "source": [
        "#구글 드라이브에서 다운로드\n",
        "from google.colab import auth\n",
        "auth.authenticate_user()\n",
        "from googleapiclient.discovery import build\n",
        "drive_service = build('drive', 'v3')\n",
        "import io\n",
        "from io import BytesIO \n",
        "from googleapiclient.http import MediaIoBaseDownload\n",
        "\n",
        "TEMP_PATH = '/tmp/'\n",
        "def gcp_download(file_name, key):\n",
        "    #3. 모델 다운로드\n",
        "    #https://drive.google.com/open?id=1TlvbayGRCjAI6bOZrUYMmv6g6b95rnRM\n",
        "    request = drive_service.files().get_media(fileId=key)\n",
        "\n",
        "    downloaded = io.BytesIO()\n",
        "    downloader = MediaIoBaseDownload(downloaded, request)\n",
        "    done = False\n",
        "    while done is False:\n",
        "      status, done = downloader.next_chunk()\n",
        "      if status:\n",
        "          print(\"Download %%%d%%.\" % int(status.progress() * 100))\n",
        "      print(\"Download Complete!\")\n",
        "    downloaded.seek(0)\n",
        "\n",
        "    with open(TEMP_PATH + file_name, 'wb') as f:\n",
        "        f.write(downloaded.read())"
      ],
      "execution_count": 0,
      "outputs": []
    },
    {
      "cell_type": "code",
      "metadata": {
        "id": "27ntMs4KndXR",
        "colab_type": "code",
        "colab": {
          "base_uri": "https://localhost:8080/",
          "height": 89
        },
        "outputId": "cbecde5d-50e2-42da-ac15-bb2e0e246122"
      },
      "source": [
        "#https://keras.io/examples/mnist_cnn/\n",
        "from __future__ import print_function\n",
        "import keras\n",
        "from keras.datasets import mnist\n",
        "from keras.models import Sequential\n",
        "from keras.layers import Dense, Dropout, Flatten\n",
        "from keras.layers import Conv2D, MaxPooling2D\n",
        "from keras import backend as K\n",
        "\n",
        "batch_size = 128\n",
        "num_classes = 10\n",
        "epochs = 12\n",
        "\n",
        "# input image dimensions\n",
        "img_rows, img_cols = 28, 28\n",
        "\n",
        "# the data, split between train and test sets\n",
        "(x_train, y_train), (x_test, y_test) = mnist.load_data()\n",
        "\n",
        "if K.image_data_format() == 'channels_first':\n",
        "    x_train = x_train.reshape(x_train.shape[0], 1, img_rows, img_cols)\n",
        "    x_test = x_test.reshape(x_test.shape[0], 1, img_rows, img_cols)\n",
        "    input_shape = (1, img_rows, img_cols)\n",
        "else:\n",
        "    x_train = x_train.reshape(x_train.shape[0], img_rows, img_cols, 1)\n",
        "    x_test = x_test.reshape(x_test.shape[0], img_rows, img_cols, 1)\n",
        "    input_shape = (img_rows, img_cols, 1)\n",
        "\n",
        "x_train = x_train.astype('float32')\n",
        "x_test = x_test.astype('float32')\n",
        "x_train /= 255\n",
        "x_test /= 255\n",
        "print('x_train shape:', x_train.shape)\n",
        "print(x_train.shape[0], 'train samples')\n",
        "print(x_test.shape[0], 'test samples')\n",
        "\n",
        "# convert class vectors to binary class matrices\n",
        "y_train = keras.utils.to_categorical(y_train, num_classes)\n",
        "y_test = keras.utils.to_categorical(y_test, num_classes)"
      ],
      "execution_count": 3,
      "outputs": [
        {
          "output_type": "stream",
          "text": [
            "Using TensorFlow backend.\n"
          ],
          "name": "stderr"
        },
        {
          "output_type": "stream",
          "text": [
            "x_train shape: (60000, 28, 28, 1)\n",
            "60000 train samples\n",
            "10000 test samples\n"
          ],
          "name": "stdout"
        }
      ]
    },
    {
      "cell_type": "code",
      "metadata": {
        "id": "PULwDuFyn28d",
        "colab_type": "code",
        "colab": {
          "base_uri": "https://localhost:8080/",
          "height": 503
        },
        "outputId": "767a30d9-045e-4b16-bbaf-ab213b25ce38"
      },
      "source": [
        "model = Sequential()\n",
        "model.add(Conv2D(32, kernel_size=(3, 3),\n",
        "                 activation='relu',\n",
        "                 input_shape=input_shape))\n",
        "model.add(Conv2D(64, (3, 3), activation='relu'))\n",
        "model.add(MaxPooling2D(pool_size=(2, 2)))\n",
        "model.add(Dropout(0.25))\n",
        "model.add(Flatten())\n",
        "model.add(Dense(128, activation='relu'))\n",
        "model.add(Dropout(0.5))\n",
        "model.add(Dense(num_classes, activation='softmax'))\n",
        "\n",
        "model.compile(loss=keras.losses.categorical_crossentropy,\n",
        "              optimizer=keras.optimizers.Adadelta(),\n",
        "              metrics=['accuracy'])\n",
        "\n",
        "model.fit(x_train, y_train,\n",
        "          batch_size=batch_size,\n",
        "          epochs=epochs,\n",
        "          verbose=1,\n",
        "          validation_data=(x_test, y_test))\n",
        "score = model.evaluate(x_test, y_test, verbose=0)\n",
        "print('Test loss:', score[0])\n",
        "print('Test accuracy:', score[1])"
      ],
      "execution_count": 4,
      "outputs": [
        {
          "output_type": "stream",
          "text": [
            "Train on 60000 samples, validate on 10000 samples\n",
            "Epoch 1/12\n",
            "60000/60000 [==============================] - 5s 79us/step - loss: 0.2652 - accuracy: 0.9178 - val_loss: 0.0614 - val_accuracy: 0.9797\n",
            "Epoch 2/12\n",
            "60000/60000 [==============================] - 3s 54us/step - loss: 0.0891 - accuracy: 0.9732 - val_loss: 0.0431 - val_accuracy: 0.9850\n",
            "Epoch 3/12\n",
            "60000/60000 [==============================] - 3s 54us/step - loss: 0.0669 - accuracy: 0.9796 - val_loss: 0.0335 - val_accuracy: 0.9887\n",
            "Epoch 4/12\n",
            "60000/60000 [==============================] - 3s 53us/step - loss: 0.0547 - accuracy: 0.9831 - val_loss: 0.0347 - val_accuracy: 0.9877\n",
            "Epoch 5/12\n",
            "60000/60000 [==============================] - 3s 53us/step - loss: 0.0470 - accuracy: 0.9858 - val_loss: 0.0290 - val_accuracy: 0.9900\n",
            "Epoch 6/12\n",
            "60000/60000 [==============================] - 3s 53us/step - loss: 0.0426 - accuracy: 0.9873 - val_loss: 0.0276 - val_accuracy: 0.9900\n",
            "Epoch 7/12\n",
            "60000/60000 [==============================] - 3s 54us/step - loss: 0.0377 - accuracy: 0.9882 - val_loss: 0.0286 - val_accuracy: 0.9904\n",
            "Epoch 8/12\n",
            "60000/60000 [==============================] - 3s 53us/step - loss: 0.0328 - accuracy: 0.9894 - val_loss: 0.0277 - val_accuracy: 0.9915\n",
            "Epoch 9/12\n",
            "60000/60000 [==============================] - 3s 53us/step - loss: 0.0321 - accuracy: 0.9904 - val_loss: 0.0261 - val_accuracy: 0.9906\n",
            "Epoch 10/12\n",
            "60000/60000 [==============================] - 3s 53us/step - loss: 0.0291 - accuracy: 0.9910 - val_loss: 0.0283 - val_accuracy: 0.9908\n",
            "Epoch 11/12\n",
            "60000/60000 [==============================] - 3s 54us/step - loss: 0.0280 - accuracy: 0.9913 - val_loss: 0.0260 - val_accuracy: 0.9918\n",
            "Epoch 12/12\n",
            "60000/60000 [==============================] - 3s 54us/step - loss: 0.0267 - accuracy: 0.9921 - val_loss: 0.0258 - val_accuracy: 0.9914\n",
            "Test loss: 0.02584999199801441\n",
            "Test accuracy: 0.9914000034332275\n"
          ],
          "name": "stdout"
        }
      ]
    },
    {
      "cell_type": "code",
      "metadata": {
        "id": "sau8XvAnnzPV",
        "colab_type": "code",
        "colab": {
          "base_uri": "https://localhost:8080/",
          "height": 35
        },
        "outputId": "8c2077cc-bb9f-40c9-e255-89466ac1f43d"
      },
      "source": [
        "#모델 저장/로딩 테스트\n",
        "from keras.models import load_model\n",
        "model_name = 'MODEL_SAVE_LOADING_TEST_MINIST.h5'\n",
        "file_path = './'\n",
        "\n",
        "model.save(model_name)\n",
        "gcp_upload(file_path, model_name) #gcp root경로에 저장됨"
      ],
      "execution_count": 5,
      "outputs": [
        {
          "output_type": "stream",
          "text": [
            "Uploaded file with ID 1KT_qKfn6htBzw9DErJ6g4S4rrhwk9AE9\n"
          ],
          "name": "stdout"
        }
      ]
    },
    {
      "cell_type": "code",
      "metadata": {
        "id": "lo0ve9n4n673",
        "colab_type": "code",
        "colab": {
          "base_uri": "https://localhost:8080/",
          "height": 89
        },
        "outputId": "12525cb0-67a2-4ef5-f8b4-67d04299ce6f"
      },
      "source": [
        "gcp_key = '1KT_qKfn6htBzw9DErJ6g4S4rrhwk9AE9'\n",
        "gcp_download(model_name, gcp_key) #temp 경로에 다운로드\n",
        "model = load_model(TEMP_PATH + 'MODEL_SAVE_LOADING_TEST_MINIST.h5') \n",
        "\n",
        "score = model.evaluate(x_test, y_test, verbose=0)\n",
        "print('Test loss:', score[0])\n",
        "print('Test accuracy:', score[1])"
      ],
      "execution_count": 7,
      "outputs": [
        {
          "output_type": "stream",
          "text": [
            "Download %100%.\n",
            "Download Complete!\n",
            "Test loss: 0.02584999199801441\n",
            "Test accuracy: 0.9914000034332275\n"
          ],
          "name": "stdout"
        }
      ]
    }
  ]
}