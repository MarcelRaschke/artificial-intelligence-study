{
  "nbformat": 4,
  "nbformat_minor": 0,
  "metadata": {
    "colab": {
      "name": "keras_newsgroup_TFIDF-DNN-classification_report_20200731.ipynb",
      "provenance": [],
      "collapsed_sections": [],
      "machine_shape": "hm"
    },
    "kernelspec": {
      "name": "python3",
      "display_name": "Python 3"
    },
    "accelerator": "GPU"
  },
  "cells": [
    {
      "cell_type": "code",
      "metadata": {
        "id": "wjseIsDsZaaN",
        "colab_type": "code",
        "colab": {}
      },
      "source": [
        "# https://github.com/jukyellow/Text_Classification"
      ],
      "execution_count": null,
      "outputs": []
    },
    {
      "cell_type": "code",
      "metadata": {
        "id": "ozjEA_ZRahWs",
        "colab_type": "code",
        "colab": {
          "base_uri": "https://localhost:8080/",
          "height": 35
        },
        "outputId": "9fa60f6e-713b-4d8a-c328-299bb8f2822d"
      },
      "source": [
        "from sklearn.datasets import fetch_20newsgroups\n",
        "from keras.layers import  Dropout, Dense\n",
        "from keras.models import Sequential\n",
        "from sklearn.feature_extraction.text import TfidfVectorizer\n",
        "import numpy as np\n",
        "from sklearn import metrics"
      ],
      "execution_count": 1,
      "outputs": [
        {
          "output_type": "stream",
          "text": [
            "Using TensorFlow backend.\n"
          ],
          "name": "stderr"
        }
      ]
    },
    {
      "cell_type": "code",
      "metadata": {
        "id": "izh1rPcxahZj",
        "colab_type": "code",
        "colab": {}
      },
      "source": [
        "def TFIDF(X_train, X_test,MAX_NB_WORDS=75000):\n",
        "    vectorizer_x = TfidfVectorizer(max_features=MAX_NB_WORDS)\n",
        "    X_train = vectorizer_x.fit_transform(X_train).toarray()\n",
        "    X_test = vectorizer_x.transform(X_test).toarray()\n",
        "    print(\"tf-idf with\",str(np.array(X_train).shape[1]),\"features\")\n",
        "    return (X_train,X_test)"
      ],
      "execution_count": 2,
      "outputs": []
    },
    {
      "cell_type": "code",
      "metadata": {
        "id": "TET1n5vpahiT",
        "colab_type": "code",
        "colab": {}
      },
      "source": [
        "def Build_Model_DNN_Text(shape, nClasses, dropout=0.5):\n",
        "    \"\"\"\n",
        "    buildModel_DNN_Tex(shape, nClasses,dropout)\n",
        "    Build Deep neural networks Model for text classification\n",
        "    Shape is input feature space\n",
        "    nClasses is number of classes\n",
        "    \"\"\"\n",
        "    model = Sequential()\n",
        "    node = 512 # number of nodes\n",
        "    nLayers = 4 # number of  hidden layer\n",
        "\n",
        "    model.add(Dense(node,input_dim=shape,activation='relu'))\n",
        "    model.add(Dropout(dropout))\n",
        "    for i in range(0,nLayers):\n",
        "        model.add(Dense(node,input_dim=node,activation='relu'))\n",
        "        model.add(Dropout(dropout))\n",
        "    model.add(Dense(nClasses, activation='softmax'))\n",
        "\n",
        "    model.compile(loss='sparse_categorical_crossentropy',\n",
        "                  optimizer='adam',\n",
        "                  metrics=['accuracy'])\n",
        "    model.summary()\n",
        "\n",
        "    return model"
      ],
      "execution_count": 3,
      "outputs": []
    },
    {
      "cell_type": "code",
      "metadata": {
        "id": "WlL6lMzPahpl",
        "colab_type": "code",
        "colab": {
          "base_uri": "https://localhost:8080/",
          "height": 53
        },
        "outputId": "a9a129b3-63b2-4ef3-fe2d-e6b8a8091ab7"
      },
      "source": [
        "newsgroups_train = fetch_20newsgroups(subset='train')\n",
        "newsgroups_test = fetch_20newsgroups(subset='test')\n",
        "X_train = newsgroups_train.data\n",
        "X_test = newsgroups_test.data\n",
        "y_train = newsgroups_train.target\n",
        "y_test = newsgroups_test.target"
      ],
      "execution_count": 4,
      "outputs": [
        {
          "output_type": "stream",
          "text": [
            "Downloading 20news dataset. This may take a few minutes.\n",
            "Downloading dataset from https://ndownloader.figshare.com/files/5975967 (14 MB)\n"
          ],
          "name": "stderr"
        }
      ]
    },
    {
      "cell_type": "code",
      "metadata": {
        "id": "PX-Io9iOahsr",
        "colab_type": "code",
        "colab": {
          "base_uri": "https://localhost:8080/",
          "height": 35
        },
        "outputId": "8f0463e5-a3d3-46db-e9b3-6cfb135c99e4"
      },
      "source": [
        "X_train_tfidf,X_test_tfidf = TFIDF(X_train,X_test)"
      ],
      "execution_count": 5,
      "outputs": [
        {
          "output_type": "stream",
          "text": [
            "tf-idf with 75000 features\n"
          ],
          "name": "stdout"
        }
      ]
    },
    {
      "cell_type": "code",
      "metadata": {
        "id": "jH-082zwawih",
        "colab_type": "code",
        "colab": {
          "base_uri": "https://localhost:8080/",
          "height": 557
        },
        "outputId": "2671bdf3-58c3-40c2-ac08-48144bb09bf6"
      },
      "source": [
        "model_DNN = Build_Model_DNN_Text(X_train_tfidf.shape[1], 20)"
      ],
      "execution_count": 6,
      "outputs": [
        {
          "output_type": "stream",
          "text": [
            "Model: \"sequential_1\"\n",
            "_________________________________________________________________\n",
            "Layer (type)                 Output Shape              Param #   \n",
            "=================================================================\n",
            "dense_1 (Dense)              (None, 512)               38400512  \n",
            "_________________________________________________________________\n",
            "dropout_1 (Dropout)          (None, 512)               0         \n",
            "_________________________________________________________________\n",
            "dense_2 (Dense)              (None, 512)               262656    \n",
            "_________________________________________________________________\n",
            "dropout_2 (Dropout)          (None, 512)               0         \n",
            "_________________________________________________________________\n",
            "dense_3 (Dense)              (None, 512)               262656    \n",
            "_________________________________________________________________\n",
            "dropout_3 (Dropout)          (None, 512)               0         \n",
            "_________________________________________________________________\n",
            "dense_4 (Dense)              (None, 512)               262656    \n",
            "_________________________________________________________________\n",
            "dropout_4 (Dropout)          (None, 512)               0         \n",
            "_________________________________________________________________\n",
            "dense_5 (Dense)              (None, 512)               262656    \n",
            "_________________________________________________________________\n",
            "dropout_5 (Dropout)          (None, 512)               0         \n",
            "_________________________________________________________________\n",
            "dense_6 (Dense)              (None, 20)                10260     \n",
            "=================================================================\n",
            "Total params: 39,461,396\n",
            "Trainable params: 39,461,396\n",
            "Non-trainable params: 0\n",
            "_________________________________________________________________\n"
          ],
          "name": "stdout"
        }
      ]
    },
    {
      "cell_type": "code",
      "metadata": {
        "id": "-Kc4rQBMa5SZ",
        "colab_type": "code",
        "colab": {
          "base_uri": "https://localhost:8080/",
          "height": 413
        },
        "outputId": "e0a24238-ff40-4ae2-d11c-cd7bea9c684d"
      },
      "source": [
        "model_DNN.fit(X_train_tfidf, y_train,\n",
        "                              validation_data=(X_test_tfidf, y_test),\n",
        "                              epochs=10,\n",
        "                              batch_size=128,\n",
        "                              verbose=2)\n"
      ],
      "execution_count": 7,
      "outputs": [
        {
          "output_type": "stream",
          "text": [
            "Train on 11314 samples, validate on 7532 samples\n",
            "Epoch 1/10\n",
            " - 9s - loss: 2.7730 - accuracy: 0.1085 - val_loss: 1.8301 - val_accuracy: 0.3759\n",
            "Epoch 2/10\n",
            " - 7s - loss: 1.4199 - accuracy: 0.4808 - val_loss: 0.9671 - val_accuracy: 0.6826\n",
            "Epoch 3/10\n",
            " - 7s - loss: 0.6188 - accuracy: 0.7724 - val_loss: 0.7831 - val_accuracy: 0.7643\n",
            "Epoch 4/10\n",
            " - 7s - loss: 0.3080 - accuracy: 0.8955 - val_loss: 0.7867 - val_accuracy: 0.7812\n",
            "Epoch 5/10\n",
            " - 7s - loss: 0.1584 - accuracy: 0.9481 - val_loss: 0.8195 - val_accuracy: 0.8054\n",
            "Epoch 6/10\n",
            " - 7s - loss: 0.0977 - accuracy: 0.9686 - val_loss: 0.8653 - val_accuracy: 0.8151\n",
            "Epoch 7/10\n",
            " - 7s - loss: 0.0725 - accuracy: 0.9808 - val_loss: 0.8776 - val_accuracy: 0.8072\n",
            "Epoch 8/10\n",
            " - 7s - loss: 0.0514 - accuracy: 0.9862 - val_loss: 0.8967 - val_accuracy: 0.8234\n",
            "Epoch 9/10\n",
            " - 7s - loss: 0.0496 - accuracy: 0.9869 - val_loss: 0.9250 - val_accuracy: 0.8140\n",
            "Epoch 10/10\n",
            " - 7s - loss: 0.0485 - accuracy: 0.9866 - val_loss: 0.8970 - val_accuracy: 0.8176\n"
          ],
          "name": "stdout"
        },
        {
          "output_type": "execute_result",
          "data": {
            "text/plain": [
              "<keras.callbacks.callbacks.History at 0x7fc4818bacf8>"
            ]
          },
          "metadata": {
            "tags": []
          },
          "execution_count": 7
        }
      ]
    },
    {
      "cell_type": "code",
      "metadata": {
        "id": "9OrmLEqPa6tq",
        "colab_type": "code",
        "colab": {
          "base_uri": "https://localhost:8080/",
          "height": 269
        },
        "outputId": "72dd6c28-64d6-469f-cac7-1c88e06ca854"
      },
      "source": [
        "predicted = model_DNN.predict(X_test_tfidf)\n",
        "print(predicted)\n",
        "print(np.argmax(predicted, axis=-1))"
      ],
      "execution_count": 12,
      "outputs": [
        {
          "output_type": "stream",
          "text": [
            "[[4.6388433e-07 5.2116445e-04 3.4765373e-05 ... 2.2602130e-06\n",
            "  1.5863210e-05 2.4647265e-05]\n",
            " [4.7071222e-03 2.1579240e-02 9.5080268e-03 ... 5.9332405e-03\n",
            "  2.0314550e-02 3.1350091e-02]\n",
            " [9.9999118e-01 2.3446174e-11 3.3761452e-15 ... 4.1729034e-08\n",
            "  1.1419759e-07 7.8155144e-06]\n",
            " ...\n",
            " [6.1763711e-07 6.6114805e-04 4.7359590e-05 ... 2.4479933e-08\n",
            "  6.3384402e-07 3.7599170e-07]\n",
            " [5.1017798e-11 3.3610075e-05 4.9444593e-06 ... 1.2882909e-09\n",
            "  8.6406056e-09 1.4537258e-07]\n",
            " [1.2121112e-05 5.1949387e-09 3.1907932e-09 ... 5.5452908e-08\n",
            "  7.6236307e-07 1.1531975e-04]]\n",
            "[12 11  0 ...  9 12 15]\n"
          ],
          "name": "stdout"
        }
      ]
    },
    {
      "cell_type": "code",
      "metadata": {
        "id": "-Rlgj6NKcf-M",
        "colab_type": "code",
        "colab": {
          "base_uri": "https://localhost:8080/",
          "height": 35
        },
        "outputId": "24d98900-e6fd-43be-8585-49ebcb272c0d"
      },
      "source": [
        "print(y_test)"
      ],
      "execution_count": 14,
      "outputs": [
        {
          "output_type": "stream",
          "text": [
            "[ 7  5  0 ...  9  6 15]\n"
          ],
          "name": "stdout"
        }
      ]
    },
    {
      "cell_type": "code",
      "metadata": {
        "id": "CfTwbfpJbrzk",
        "colab_type": "code",
        "colab": {
          "base_uri": "https://localhost:8080/",
          "height": 503
        },
        "outputId": "53e48329-52ab-406a-e28b-71187bb65885"
      },
      "source": [
        "pre_classes = np.argmax(predicted, axis=-1)\n",
        "print(metrics.classification_report(y_test, pre_classes))"
      ],
      "execution_count": 13,
      "outputs": [
        {
          "output_type": "stream",
          "text": [
            "              precision    recall  f1-score   support\n",
            "\n",
            "           0       0.81      0.71      0.76       319\n",
            "           1       0.74      0.73      0.73       389\n",
            "           2       0.77      0.67      0.72       394\n",
            "           3       0.69      0.78      0.73       392\n",
            "           4       0.67      0.86      0.75       385\n",
            "           5       0.77      0.77      0.77       395\n",
            "           6       0.72      0.85      0.78       390\n",
            "           7       0.92      0.85      0.88       396\n",
            "           8       0.96      0.93      0.95       398\n",
            "           9       0.93      0.92      0.93       397\n",
            "          10       0.96      0.96      0.96       399\n",
            "          11       0.95      0.91      0.93       396\n",
            "          12       0.69      0.73      0.71       393\n",
            "          13       0.90      0.74      0.81       396\n",
            "          14       0.87      0.89      0.88       394\n",
            "          15       0.92      0.92      0.92       398\n",
            "          16       0.75      0.90      0.82       364\n",
            "          17       0.97      0.85      0.91       376\n",
            "          18       0.87      0.58      0.70       310\n",
            "          19       0.58      0.71      0.63       251\n",
            "\n",
            "    accuracy                           0.82      7532\n",
            "   macro avg       0.82      0.81      0.81      7532\n",
            "weighted avg       0.83      0.82      0.82      7532\n",
            "\n"
          ],
          "name": "stdout"
        }
      ]
    }
  ]
}