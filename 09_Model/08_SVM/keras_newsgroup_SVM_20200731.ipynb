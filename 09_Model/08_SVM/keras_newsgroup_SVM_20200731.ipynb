{
  "nbformat": 4,
  "nbformat_minor": 0,
  "metadata": {
    "colab": {
      "name": "keras_newsgroup_SVM_20200731.ipynb",
      "provenance": [],
      "collapsed_sections": []
    },
    "kernelspec": {
      "name": "python3",
      "display_name": "Python 3"
    },
    "accelerator": "GPU"
  },
  "cells": [
    {
      "cell_type": "code",
      "metadata": {
        "id": "XZ3PaKlkbUOL",
        "colab_type": "code",
        "colab": {}
      },
      "source": [
        "#https://github.com/jukyellow/Text_Classification"
      ],
      "execution_count": null,
      "outputs": []
    },
    {
      "cell_type": "code",
      "metadata": {
        "id": "hy2YeQ2vby8j",
        "colab_type": "code",
        "colab": {}
      },
      "source": [
        "from sklearn.datasets import fetch_20newsgroups\n",
        "from sklearn.svm import LinearSVC\n",
        "from sklearn.pipeline import Pipeline\n",
        "from sklearn import metrics\n",
        "from sklearn.feature_extraction.text import CountVectorizer\n",
        "from sklearn.feature_extraction.text import TfidfTransformer\n",
        "from sklearn.datasets import fetch_20newsgroups"
      ],
      "execution_count": 2,
      "outputs": []
    },
    {
      "cell_type": "code",
      "metadata": {
        "id": "scZZuCnibzA8",
        "colab_type": "code",
        "colab": {
          "base_uri": "https://localhost:8080/",
          "height": 53
        },
        "outputId": "55222384-b03c-4ce8-b4c3-c361043cca0b"
      },
      "source": [
        "newsgroups_train = fetch_20newsgroups(subset='train')\n",
        "newsgroups_test = fetch_20newsgroups(subset='test')\n",
        "X_train = newsgroups_train.data\n",
        "X_test = newsgroups_test.data\n",
        "y_train = newsgroups_train.target\n",
        "y_test = newsgroups_test.target"
      ],
      "execution_count": 3,
      "outputs": [
        {
          "output_type": "stream",
          "text": [
            "Downloading 20news dataset. This may take a few minutes.\n",
            "Downloading dataset from https://ndownloader.figshare.com/files/5975967 (14 MB)\n"
          ],
          "name": "stderr"
        }
      ]
    },
    {
      "cell_type": "code",
      "metadata": {
        "id": "rX8_Wyd5by_V",
        "colab_type": "code",
        "colab": {
          "base_uri": "https://localhost:8080/",
          "height": 395
        },
        "outputId": "169c0cd0-b84b-4876-f38a-64046d428e09"
      },
      "source": [
        "text_clf = Pipeline([('vect', CountVectorizer()),\n",
        "                     ('tfidf', TfidfTransformer()),\n",
        "                     ('clf', LinearSVC()),\n",
        "                     ])\n",
        "\n",
        "result = text_clf.fit(X_train, y_train)\n",
        "print(result)"
      ],
      "execution_count": 5,
      "outputs": [
        {
          "output_type": "stream",
          "text": [
            "Pipeline(memory=None,\n",
            "         steps=[('vect',\n",
            "                 CountVectorizer(analyzer='word', binary=False,\n",
            "                                 decode_error='strict',\n",
            "                                 dtype=<class 'numpy.int64'>, encoding='utf-8',\n",
            "                                 input='content', lowercase=True, max_df=1.0,\n",
            "                                 max_features=None, min_df=1,\n",
            "                                 ngram_range=(1, 1), preprocessor=None,\n",
            "                                 stop_words=None, strip_accents=None,\n",
            "                                 token_pattern='(?u)\\\\b\\\\w\\\\w+\\\\b',\n",
            "                                 tokenizer=None, vocabulary=None)),\n",
            "                ('tfidf',\n",
            "                 TfidfTransformer(norm='l2', smooth_idf=True,\n",
            "                                  sublinear_tf=False, use_idf=True)),\n",
            "                ('clf',\n",
            "                 LinearSVC(C=1.0, class_weight=None, dual=True,\n",
            "                           fit_intercept=True, intercept_scaling=1,\n",
            "                           loss='squared_hinge', max_iter=1000,\n",
            "                           multi_class='ovr', penalty='l2', random_state=None,\n",
            "                           tol=0.0001, verbose=0))],\n",
            "         verbose=False)\n"
          ],
          "name": "stdout"
        }
      ]
    },
    {
      "cell_type": "code",
      "metadata": {
        "id": "f1UuouAXb2_g",
        "colab_type": "code",
        "colab": {
          "base_uri": "https://localhost:8080/",
          "height": 503
        },
        "outputId": "24b7e551-0595-4915-f113-db689c79c556"
      },
      "source": [
        "predicted = text_clf.predict(X_test)\n",
        "\n",
        "print(metrics.classification_report(y_test, predicted))"
      ],
      "execution_count": 6,
      "outputs": [
        {
          "output_type": "stream",
          "text": [
            "              precision    recall  f1-score   support\n",
            "\n",
            "           0       0.82      0.80      0.81       319\n",
            "           1       0.76      0.80      0.78       389\n",
            "           2       0.77      0.73      0.75       394\n",
            "           3       0.71      0.76      0.74       392\n",
            "           4       0.84      0.86      0.85       385\n",
            "           5       0.87      0.76      0.81       395\n",
            "           6       0.83      0.91      0.87       390\n",
            "           7       0.92      0.91      0.91       396\n",
            "           8       0.95      0.95      0.95       398\n",
            "           9       0.92      0.95      0.93       397\n",
            "          10       0.96      0.98      0.97       399\n",
            "          11       0.93      0.94      0.93       396\n",
            "          12       0.81      0.79      0.80       393\n",
            "          13       0.90      0.87      0.88       396\n",
            "          14       0.90      0.93      0.92       394\n",
            "          15       0.84      0.93      0.88       398\n",
            "          16       0.75      0.92      0.82       364\n",
            "          17       0.97      0.89      0.93       376\n",
            "          18       0.82      0.62      0.71       310\n",
            "          19       0.75      0.61      0.68       251\n",
            "\n",
            "    accuracy                           0.85      7532\n",
            "   macro avg       0.85      0.85      0.85      7532\n",
            "weighted avg       0.85      0.85      0.85      7532\n",
            "\n"
          ],
          "name": "stdout"
        }
      ]
    }
  ]
}