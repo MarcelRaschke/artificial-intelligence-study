{
  "nbformat": 4,
  "nbformat_minor": 0,
  "metadata": {
    "colab": {
      "name": "keras_moel-append-layer_20200522.ipynb",
      "provenance": [],
      "collapsed_sections": []
    },
    "kernelspec": {
      "name": "python3",
      "display_name": "Python 3"
    }
  },
  "cells": [
    {
      "cell_type": "code",
      "metadata": {
        "id": "chmqnGuR-tjB",
        "colab_type": "code",
        "colab": {}
      },
      "source": [
        "# multi-input인데, 입력 데이터가 다르다\n",
        "# 그 다르다 함은, 주입력data 옆에 부 입력데이터가 있는것이 아니고,\n",
        "# 주입력과 부입력data가 전혀 다른 건수로 존재할때(ex: 주입력200만건, 부입력1000건.)"
      ],
      "execution_count": 0,
      "outputs": []
    },
    {
      "cell_type": "code",
      "metadata": {
        "id": "OuyP_5bI_lpk",
        "colab_type": "code",
        "outputId": "ee5f71dc-d4dc-48e7-c6c0-a23364fb7854",
        "colab": {
          "base_uri": "https://localhost:8080/",
          "height": 808
        }
      },
      "source": [
        "from keras import layers\n",
        "from keras.layers import Input, Dense\n",
        "from keras.models import Model\n",
        "\n",
        "input_dim = 32\n",
        "\n",
        "inputs_x = Input(shape=(input_dim,))\n",
        "x = Dense(64, activation='relu')(inputs_x)\n",
        "x = Dense(32, activation='relu')(x)\n",
        "x = Dense(16, activation='relu')(x)\n",
        "x = Dense(10, activation='softmax')(x)\n",
        "model_x = Model(inputs=inputs_x, outputs=x)\n",
        "model_x.summary()\n",
        "\n",
        "from keras.utils import plot_model\n",
        "plot_model(model_x, to_file='model.png')\n"
      ],
      "execution_count": 0,
      "outputs": [
        {
          "output_type": "stream",
          "text": [
            "Using TensorFlow backend.\n"
          ],
          "name": "stderr"
        },
        {
          "output_type": "stream",
          "text": [
            "Model: \"model_1\"\n",
            "_________________________________________________________________\n",
            "Layer (type)                 Output Shape              Param #   \n",
            "=================================================================\n",
            "input_1 (InputLayer)         (None, 32)                0         \n",
            "_________________________________________________________________\n",
            "dense_1 (Dense)              (None, 64)                2112      \n",
            "_________________________________________________________________\n",
            "dense_2 (Dense)              (None, 32)                2080      \n",
            "_________________________________________________________________\n",
            "dense_3 (Dense)              (None, 16)                528       \n",
            "_________________________________________________________________\n",
            "dense_4 (Dense)              (None, 10)                170       \n",
            "=================================================================\n",
            "Total params: 4,890\n",
            "Trainable params: 4,890\n",
            "Non-trainable params: 0\n",
            "_________________________________________________________________\n"
          ],
          "name": "stdout"
        },
        {
          "output_type": "execute_result",
          "data": {
            "image/png": "[encoded data removed]",
            "text/plain": [
              "<IPython.core.display.Image object>"
            ]
          },
          "metadata": {
            "tags": []
          },
          "execution_count": 2
        }
      ]
    },
    {
      "cell_type": "code",
      "metadata": {
        "id": "eLTxZlEHDdqZ",
        "colab_type": "code",
        "outputId": "a9fd951c-c589-4602-dffb-57c11bc6e212",
        "colab": {
          "base_uri": "https://localhost:8080/",
          "height": 395
        }
      },
      "source": [
        "import numpy as np\n",
        "N = 10000\n",
        "\n",
        "\"\"\"\n",
        " Data generation. x is purely random except that it's first value equals the target y.\n",
        "    In practice, the network should learn that the target = x[attention_column].\n",
        "    Therefore, most of its attention should be focused on the value addressed by attention_column.\n",
        "    :param n: the number of samples to retrieve.\n",
        "    :param input_dim: the number of dimensions of each element in the series.\n",
        "    :param attention_column: the column linked to the target. Everything else is purely random.\n",
        "    :return: x: model inputs, y: model targets\n",
        "\"\"\"\n",
        "def get_data(n, input_dim, attention_column=1):\n",
        "    x = np.random.standard_normal(size=(n, input_dim))\n",
        "    print(x.shape)\n",
        "    print(x[0])\n",
        "    y = np.random.randint(low=0, high=2, size=(n, 10))\n",
        "    print(y.shape)\n",
        "    print(y[0])\n",
        "    x[:, attention_column] = y[:, 0] # attention 컬럼에 y에서 0번째 항목을 매핑\n",
        "    return x, y\n",
        "\n",
        "input_data_x, output_y = get_data(N, input_dim)\n",
        "print(input_data_x.shape)\n",
        "print(output_y.shape)\n",
        "\n",
        "input_data_y, output_y2 = get_data(100, input_dim)\n",
        "print(input_data_y.shape)"
      ],
      "execution_count": 0,
      "outputs": [
        {
          "output_type": "stream",
          "text": [
            "(10000, 32)\n",
            "[ 0.95286693 -0.32025646 -0.7438854  -2.13390575 -0.35314943  0.75252162\n",
            "  0.89446506  0.27663434  1.54831699 -0.64131075  1.37466456 -0.17567449\n",
            "  1.43330521 -0.42471391 -0.74768307 -1.24011621 -0.15035953 -0.12947515\n",
            "  2.12387268 -0.02914899  0.16049119  0.03517797 -0.48321069 -0.39440866\n",
            " -2.52624258  1.04142423 -0.86208303  1.52639986  0.38574524  1.99220084\n",
            " -1.77963362  0.51384655]\n",
            "(10000, 10)\n",
            "[1 0 1 0 1 1 1 1 0 1]\n",
            "(10000, 32)\n",
            "(10000, 10)\n",
            "(100, 32)\n",
            "[ 0.14927193  0.94617587 -1.55004373  0.45084439  0.24205122  1.13598416\n",
            " -0.32946627  1.35692023 -0.3752379   1.05414611  0.58355113  1.1332046\n",
            " -0.42904811 -2.73987019 -0.42992252 -0.67015086  0.88928413  0.13080482\n",
            "  0.04441482  0.99073677 -1.15720943 -0.89106246 -0.68161414  0.47255532\n",
            " -2.49897227  1.49757009 -0.89357313  0.84671851  0.54167148 -0.11604101\n",
            " -1.9240562   1.46401614]\n",
            "(100, 10)\n",
            "[1 1 1 0 0 0 1 0 1 1]\n",
            "(100, 32)\n"
          ],
          "name": "stdout"
        }
      ]
    },
    {
      "cell_type": "code",
      "metadata": {
        "id": "N_hTQucEDdtE",
        "colab_type": "code",
        "outputId": "c514045c-0ead-4cd4-bb61-795fb986357e",
        "colab": {
          "base_uri": "https://localhost:8080/",
          "height": 413
        }
      },
      "source": [
        "model_x.compile(optimizer='adam', loss='categorical_crossentropy', metrics=['accuracy']) #\n",
        "model_x.fit(input_data_x, output_y, epochs=10, batch_size=32, validation_split=0.2) # batch_size=3, "
      ],
      "execution_count": 0,
      "outputs": [
        {
          "output_type": "stream",
          "text": [
            "Train on 8000 samples, validate on 2000 samples\n",
            "Epoch 1/10\n",
            "8000/8000 [==============================] - 0s 60us/step - loss: 195.3552 - accuracy: 0.1435 - val_loss: 843.5906 - val_accuracy: 0.0655\n",
            "Epoch 2/10\n",
            "8000/8000 [==============================] - 0s 46us/step - loss: 2744.5405 - accuracy: 0.1460 - val_loss: 4678.8826 - val_accuracy: 0.2115\n",
            "Epoch 3/10\n",
            "8000/8000 [==============================] - 0s 43us/step - loss: 3996.2434 - accuracy: 0.1386 - val_loss: 2622.2564 - val_accuracy: 0.0540\n",
            "Epoch 4/10\n",
            "8000/8000 [==============================] - 0s 44us/step - loss: 1231.4799 - accuracy: 0.1205 - val_loss: 1947.3705 - val_accuracy: 0.1220\n",
            "Epoch 5/10\n",
            "8000/8000 [==============================] - 0s 44us/step - loss: 1862.6154 - accuracy: 0.1182 - val_loss: 2015.6533 - val_accuracy: 0.5110\n",
            "Epoch 6/10\n",
            "8000/8000 [==============================] - 0s 42us/step - loss: 3001.4636 - accuracy: 0.1146 - val_loss: 6688.9895 - val_accuracy: 0.0035\n",
            "Epoch 7/10\n",
            "8000/8000 [==============================] - 0s 44us/step - loss: 5429.6722 - accuracy: 0.1200 - val_loss: 4050.1301 - val_accuracy: 0.5110\n",
            "Epoch 8/10\n",
            "8000/8000 [==============================] - 0s 44us/step - loss: 7650.5422 - accuracy: 0.1168 - val_loss: 6878.2642 - val_accuracy: 0.4015\n",
            "Epoch 9/10\n",
            "8000/8000 [==============================] - 0s 43us/step - loss: 11739.0013 - accuracy: 0.1185 - val_loss: 16259.8602 - val_accuracy: 0.0010\n",
            "Epoch 10/10\n",
            "8000/8000 [==============================] - 0s 43us/step - loss: 13606.4707 - accuracy: 0.1215 - val_loss: 9799.5948 - val_accuracy: 0.0035\n"
          ],
          "name": "stdout"
        },
        {
          "output_type": "execute_result",
          "data": {
            "text/plain": [
              "<keras.callbacks.callbacks.History at 0x7f53e5607f98>"
            ]
          },
          "metadata": {
            "tags": []
          },
          "execution_count": 4
        }
      ]
    },
    {
      "cell_type": "code",
      "metadata": {
        "id": "06KcYX_KLK4p",
        "colab_type": "code",
        "colab": {}
      },
      "source": [
        "from keras.models import load_model\n",
        "# 모델 저장\n",
        "model_x.save('model_x.h5')"
      ],
      "execution_count": 0,
      "outputs": []
    },
    {
      "cell_type": "code",
      "metadata": {
        "id": "_AapdkGMMP-K",
        "colab_type": "code",
        "outputId": "7c16022b-37b6-4631-93af-1814ba85632a",
        "colab": {
          "base_uri": "https://localhost:8080/",
          "height": 143
        }
      },
      "source": [
        "ls -alrt"
      ],
      "execution_count": 0,
      "outputs": [
        {
          "output_type": "stream",
          "text": [
            "total 120\n",
            "drwxr-xr-x 1 root root  4096 May 13 16:29 \u001b[0m\u001b[01;34msample_data\u001b[0m/\n",
            "drwxr-xr-x 1 root root  4096 May 20 16:14 \u001b[01;34m.config\u001b[0m/\n",
            "drwxr-xr-x 1 root root  4096 May 22 02:20 \u001b[01;34m..\u001b[0m/\n",
            "drwxr-xr-x 1 root root  4096 May 22 02:23 \u001b[01;34m.\u001b[0m/\n",
            "-rw-r--r-- 1 root root  9655 May 22 07:56 model.png\n",
            "-rw-r--r-- 1 root root 90240 May 22 07:56 model_x.h5\n"
          ],
          "name": "stdout"
        }
      ]
    },
    {
      "cell_type": "code",
      "metadata": {
        "id": "a1-El577LwWu",
        "colab_type": "code",
        "colab": {}
      },
      "source": [
        "# 모델 불러오기\n",
        "model_x_load = load_model('model_x.h5')"
      ],
      "execution_count": 0,
      "outputs": []
    },
    {
      "cell_type": "code",
      "metadata": {
        "id": "2HbpPwxZMZbv",
        "colab_type": "code",
        "outputId": "6477cac2-3ff4-4d05-a942-89d64fd283e3",
        "colab": {
          "base_uri": "https://localhost:8080/",
          "height": 1000
        }
      },
      "source": [
        "#새로운 layer를 붙일수 있음\n",
        "inputs_y = Input(shape=(input_dim,))\n",
        "y = Dense(64, activation='relu')(model_x_load.output) #이전 모델의 output\n",
        "y = Dense(32, activation='relu')(y)\n",
        "output = Dense(10, activation='softmax')(y)\n",
        "\n",
        "model_y = Model(inputs=model_x_load.input, outputs=output) #이전모델의 input\n",
        "model_y.summary()\n",
        "\n",
        "from keras.utils import plot_model\n",
        "plot_model(model_y, to_file='model.png')"
      ],
      "execution_count": 0,
      "outputs": [
        {
          "output_type": "stream",
          "text": [
            "Model: \"model_2\"\n",
            "_________________________________________________________________\n",
            "Layer (type)                 Output Shape              Param #   \n",
            "=================================================================\n",
            "input_1 (InputLayer)         (None, 32)                0         \n",
            "_________________________________________________________________\n",
            "dense_1 (Dense)              (None, 64)                2112      \n",
            "_________________________________________________________________\n",
            "dense_2 (Dense)              (None, 32)                2080      \n",
            "_________________________________________________________________\n",
            "dense_3 (Dense)              (None, 16)                528       \n",
            "_________________________________________________________________\n",
            "dense_4 (Dense)              (None, 10)                170       \n",
            "_________________________________________________________________\n",
            "dense_5 (Dense)              (None, 64)                704       \n",
            "_________________________________________________________________\n",
            "dense_6 (Dense)              (None, 32)                2080      \n",
            "_________________________________________________________________\n",
            "dense_7 (Dense)              (None, 10)                330       \n",
            "=================================================================\n",
            "Total params: 8,004\n",
            "Trainable params: 8,004\n",
            "Non-trainable params: 0\n",
            "_________________________________________________________________\n"
          ],
          "name": "stdout"
        },
        {
          "output_type": "execute_result",
          "data": {
            "image/png": "[encoded data removed]",
            "text/plain": [
              "<IPython.core.display.Image object>"
            ]
          },
          "metadata": {
            "tags": []
          },
          "execution_count": 8
        }
      ]
    },
    {
      "cell_type": "code",
      "metadata": {
        "id": "dYAmrd89MjKQ",
        "colab_type": "code",
        "outputId": "03b40973-6de3-4458-bedb-73d03b1e9e45",
        "colab": {
          "base_uri": "https://localhost:8080/",
          "height": 413
        }
      },
      "source": [
        "model_y.compile(optimizer='adam', loss='categorical_crossentropy', metrics=['accuracy']) #\n",
        "model_y.fit(input_data_y, output_y2, epochs=10, batch_size=32, validation_split=0.2) # 새로운 input/output으로 세팅"
      ],
      "execution_count": 0,
      "outputs": [
        {
          "output_type": "stream",
          "text": [
            "Train on 80 samples, validate on 20 samples\n",
            "Epoch 1/10\n",
            "80/80 [==============================] - 0s 2ms/step - loss: 11.6404 - accuracy: 0.5875 - val_loss: 10.2750 - val_accuracy: 0.5000\n",
            "Epoch 2/10\n",
            "80/80 [==============================] - 0s 124us/step - loss: 11.6421 - accuracy: 0.5875 - val_loss: 10.2775 - val_accuracy: 0.5000\n",
            "Epoch 3/10\n",
            "80/80 [==============================] - 0s 118us/step - loss: 11.6443 - accuracy: 0.5875 - val_loss: 10.2803 - val_accuracy: 0.5000\n",
            "Epoch 4/10\n",
            "80/80 [==============================] - 0s 119us/step - loss: 11.6479 - accuracy: 0.5875 - val_loss: 10.2837 - val_accuracy: 0.5000\n",
            "Epoch 5/10\n",
            "80/80 [==============================] - 0s 147us/step - loss: 11.6529 - accuracy: 0.5875 - val_loss: 10.2887 - val_accuracy: 0.5000\n",
            "Epoch 6/10\n",
            "80/80 [==============================] - 0s 136us/step - loss: 11.6572 - accuracy: 0.5875 - val_loss: 10.2946 - val_accuracy: 0.5000\n",
            "Epoch 7/10\n",
            "80/80 [==============================] - 0s 144us/step - loss: 11.6655 - accuracy: 0.5875 - val_loss: 10.3035 - val_accuracy: 0.5000\n",
            "Epoch 8/10\n",
            "80/80 [==============================] - 0s 132us/step - loss: 11.6767 - accuracy: 0.5875 - val_loss: 10.3149 - val_accuracy: 0.5000\n",
            "Epoch 9/10\n",
            "80/80 [==============================] - 0s 153us/step - loss: 11.6887 - accuracy: 0.5875 - val_loss: 10.3278 - val_accuracy: 0.5000\n",
            "Epoch 10/10\n",
            "80/80 [==============================] - 0s 122us/step - loss: 11.7032 - accuracy: 0.5875 - val_loss: 10.3431 - val_accuracy: 0.5000\n"
          ],
          "name": "stdout"
        },
        {
          "output_type": "execute_result",
          "data": {
            "text/plain": [
              "<keras.callbacks.callbacks.History at 0x7f53e48517b8>"
            ]
          },
          "metadata": {
            "tags": []
          },
          "execution_count": 9
        }
      ]
    }
  ]
}