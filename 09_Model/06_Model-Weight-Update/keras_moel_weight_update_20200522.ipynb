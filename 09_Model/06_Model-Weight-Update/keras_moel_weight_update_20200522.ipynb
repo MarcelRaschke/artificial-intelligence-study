{
  "nbformat": 4,
  "nbformat_minor": 0,
  "metadata": {
    "colab": {
      "name": "keras_moel-weight-update_20200522.ipynb",
      "provenance": [],
      "collapsed_sections": []
    },
    "kernelspec": {
      "name": "python3",
      "display_name": "Python 3"
    }
  },
  "cells": [
    {
      "cell_type": "code",
      "metadata": {
        "id": "chmqnGuR-tjB",
        "colab_type": "code",
        "colab": {}
      },
      "source": [
        "# multi-input인데, 입력 데이터가 다르다\n",
        "# 그 다르다 함은, 주입력data 옆에 부 입력데이터가 있는것이 아니고,\n",
        "# 주입력과 부입력data가 전혀 다른 건수로 존재할때(ex: 주입력200만건, 부입력1000건.)"
      ],
      "execution_count": 0,
      "outputs": []
    },
    {
      "cell_type": "code",
      "metadata": {
        "id": "OuyP_5bI_lpk",
        "colab_type": "code",
        "outputId": "fa7a4567-ee3c-4148-9d47-59353726a541",
        "colab": {
          "base_uri": "https://localhost:8080/",
          "height": 808
        }
      },
      "source": [
        "from keras import layers\n",
        "from keras.layers import Input, Dense\n",
        "from keras.models import Model\n",
        "\n",
        "input_dim = 32\n",
        "inputs_x = Input(shape=(input_dim,))\n",
        "def create_model(inputs_x):    \n",
        "    x = Dense(64, activation='relu')(inputs_x)\n",
        "    x = Dense(32, activation='relu')(x)\n",
        "    x = Dense(16, activation='relu')(x)\n",
        "    x = Dense(1, activation='sigmoid')(x)\n",
        "    model = Model(inputs=inputs_x, outputs=x)\n",
        "    model.summary()\n",
        "\n",
        "    return model\n",
        "\n",
        "model_x = create_model(inputs_x)\n",
        "\n",
        "from keras.utils import plot_model\n",
        "plot_model(model_x, to_file='model.png')"
      ],
      "execution_count": 0,
      "outputs": [
        {
          "output_type": "stream",
          "text": [
            "Using TensorFlow backend.\n"
          ],
          "name": "stderr"
        },
        {
          "output_type": "stream",
          "text": [
            "Model: \"model_1\"\n",
            "_________________________________________________________________\n",
            "Layer (type)                 Output Shape              Param #   \n",
            "=================================================================\n",
            "input_1 (InputLayer)         (None, 32)                0         \n",
            "_________________________________________________________________\n",
            "dense_1 (Dense)              (None, 64)                2112      \n",
            "_________________________________________________________________\n",
            "dense_2 (Dense)              (None, 32)                2080      \n",
            "_________________________________________________________________\n",
            "dense_3 (Dense)              (None, 16)                528       \n",
            "_________________________________________________________________\n",
            "dense_4 (Dense)              (None, 1)                 17        \n",
            "=================================================================\n",
            "Total params: 4,737\n",
            "Trainable params: 4,737\n",
            "Non-trainable params: 0\n",
            "_________________________________________________________________\n"
          ],
          "name": "stdout"
        },
        {
          "output_type": "execute_result",
          "data": {
            "image/png": "[encoded data removed]",
            "text/plain": [
              "<IPython.core.display.Image object>"
            ]
          },
          "metadata": {
            "tags": []
          },
          "execution_count": 2
        }
      ]
    },
    {
      "cell_type": "code",
      "metadata": {
        "id": "eLTxZlEHDdqZ",
        "colab_type": "code",
        "outputId": "a856303d-62b9-45a1-f93e-b2df0031290d",
        "colab": {
          "base_uri": "https://localhost:8080/",
          "height": 395
        }
      },
      "source": [
        "import numpy as np\n",
        "N = 10000\n",
        "\n",
        "\"\"\"\n",
        " Data generation. x is purely random except that it's first value equals the target y.\n",
        "    In practice, the network should learn that the target = x[attention_column].\n",
        "    Therefore, most of its attention should be focused on the value addressed by attention_column.\n",
        "    :param n: the number of samples to retrieve.\n",
        "    :param input_dim: the number of dimensions of each element in the series.\n",
        "    :param attention_column: the column linked to the target. Everything else is purely random.\n",
        "    :return: x: model inputs, y: model targets\n",
        "\"\"\"\n",
        "def get_data(n, input_dim, attention_column=1):\n",
        "    x = np.random.standard_normal(size=(n, input_dim))\n",
        "    print(x.shape)\n",
        "    print(x[0])\n",
        "    y = np.random.randint(low=0, high=2, size=(n, 1))\n",
        "    print(y.shape)\n",
        "    print(y[0])\n",
        "    x[:, attention_column] = y[:, 0] # attention 컬럼에 y에서 0번째 항목을 매핑\n",
        "    return x, y\n",
        "\n",
        "input_data_x, output_y = get_data(N, input_dim)\n",
        "print(input_data_x.shape)\n",
        "print(output_y.shape)\n",
        "\n",
        "input_data_y, output_y2 = get_data(100, input_dim, 9)\n",
        "print(input_data_y.shape)"
      ],
      "execution_count": 0,
      "outputs": [
        {
          "output_type": "stream",
          "text": [
            "(10000, 32)\n",
            "[-0.70065178 -0.59975135 -1.30857961 -0.97643203 -0.3857281  -0.11647708\n",
            "  1.42533646 -0.27359462  0.5716321  -0.338254   -1.39779164 -0.6742179\n",
            "  1.5754749   1.11398071  0.26166663 -0.06002876 -0.22224355 -0.30340729\n",
            "  1.17915844 -0.05760417  0.26554569  1.22846274 -0.68885231 -0.03634022\n",
            " -0.14447254  1.96722418 -1.71834791  1.37679462 -0.99546101  0.67297302\n",
            "  0.44182269  0.79634882]\n",
            "(10000, 1)\n",
            "[0]\n",
            "(10000, 32)\n",
            "(10000, 1)\n",
            "(100, 32)\n",
            "[-1.23638904  0.44110332 -2.18165315 -0.4495486   1.24358794  0.11807836\n",
            " -0.16053932 -1.55665872  0.69500157 -0.40749508 -1.92019786  1.34793494\n",
            "  2.4963287   0.81998468 -0.17294754  0.19205182  0.33361353 -0.82335631\n",
            " -0.90250571 -0.32121939  0.25655435  0.43590746 -0.99354867  0.31875477\n",
            " -0.26697068 -1.43483939  1.04826116 -0.05818601  0.56353226  1.07328068\n",
            " -1.1021529   0.63734755]\n",
            "(100, 1)\n",
            "[1]\n",
            "(100, 32)\n"
          ],
          "name": "stdout"
        }
      ]
    },
    {
      "cell_type": "code",
      "metadata": {
        "id": "N_hTQucEDdtE",
        "colab_type": "code",
        "outputId": "a6c05cdd-c8af-49e7-fb0b-70b7eca13ac7",
        "colab": {
          "base_uri": "https://localhost:8080/",
          "height": 413
        }
      },
      "source": [
        "model_x.compile(optimizer='adam', loss='binary_crossentropy', metrics=['accuracy']) #categorical_crossentropy\n",
        "model_x.fit(input_data_x, output_y, epochs=10, batch_size=32, validation_split=0.2)"
      ],
      "execution_count": 0,
      "outputs": [
        {
          "output_type": "stream",
          "text": [
            "Train on 8000 samples, validate on 2000 samples\n",
            "Epoch 1/10\n",
            "8000/8000 [==============================] - 1s 87us/step - loss: 0.3400 - accuracy: 0.8508 - val_loss: 0.0271 - val_accuracy: 0.9975\n",
            "Epoch 2/10\n",
            "8000/8000 [==============================] - 1s 74us/step - loss: 0.0084 - accuracy: 0.9996 - val_loss: 0.0055 - val_accuracy: 0.9985\n",
            "Epoch 3/10\n",
            "8000/8000 [==============================] - 0s 55us/step - loss: 0.0015 - accuracy: 1.0000 - val_loss: 0.0021 - val_accuracy: 0.9995\n",
            "Epoch 4/10\n",
            "8000/8000 [==============================] - 0s 54us/step - loss: 5.4122e-04 - accuracy: 1.0000 - val_loss: 0.0014 - val_accuracy: 0.9995\n",
            "Epoch 5/10\n",
            "8000/8000 [==============================] - 0s 55us/step - loss: 2.7511e-04 - accuracy: 1.0000 - val_loss: 0.0010 - val_accuracy: 1.0000\n",
            "Epoch 6/10\n",
            "8000/8000 [==============================] - 0s 49us/step - loss: 1.6893e-04 - accuracy: 1.0000 - val_loss: 8.0651e-04 - val_accuracy: 1.0000\n",
            "Epoch 7/10\n",
            "8000/8000 [==============================] - 0s 51us/step - loss: 1.1296e-04 - accuracy: 1.0000 - val_loss: 6.6251e-04 - val_accuracy: 1.0000\n",
            "Epoch 8/10\n",
            "8000/8000 [==============================] - 0s 48us/step - loss: 7.9589e-05 - accuracy: 1.0000 - val_loss: 5.8293e-04 - val_accuracy: 1.0000\n",
            "Epoch 9/10\n",
            "8000/8000 [==============================] - 0s 48us/step - loss: 5.8279e-05 - accuracy: 1.0000 - val_loss: 4.6678e-04 - val_accuracy: 1.0000\n",
            "Epoch 10/10\n",
            "8000/8000 [==============================] - 0s 49us/step - loss: 4.3924e-05 - accuracy: 1.0000 - val_loss: 4.0478e-04 - val_accuracy: 1.0000\n"
          ],
          "name": "stdout"
        },
        {
          "output_type": "execute_result",
          "data": {
            "text/plain": [
              "<keras.callbacks.callbacks.History at 0x7fdf81b970f0>"
            ]
          },
          "metadata": {
            "tags": []
          },
          "execution_count": 4
        }
      ]
    },
    {
      "cell_type": "code",
      "metadata": {
        "id": "06KcYX_KLK4p",
        "colab_type": "code",
        "colab": {}
      },
      "source": [
        "from keras.models import load_model\n",
        "# 모델 저장\n",
        "#model_x.save('model_x.h5')\n",
        "#weight값 저장\n",
        "model_x.save_weights('model_x_weight') "
      ],
      "execution_count": 0,
      "outputs": []
    },
    {
      "cell_type": "code",
      "metadata": {
        "id": "_AapdkGMMP-K",
        "colab_type": "code",
        "outputId": "2aca5d55-7f9a-43f5-cd97-d7b543bd52b0",
        "colab": {
          "base_uri": "https://localhost:8080/",
          "height": 161
        }
      },
      "source": [
        "ls -alrt"
      ],
      "execution_count": 0,
      "outputs": [
        {
          "output_type": "stream",
          "text": [
            "total 156\n",
            "drwxr-xr-x 1 root root  4096 May 13 16:29 \u001b[0m\u001b[01;34msample_data\u001b[0m/\n",
            "drwxr-xr-x 1 root root  4096 May 20 16:14 \u001b[01;34m.config\u001b[0m/\n",
            "drwxr-xr-x 1 root root  4096 May 22 06:54 \u001b[01;34m..\u001b[0m/\n",
            "drwxr-xr-x 1 root root  4096 May 22 07:00 \u001b[01;34m.\u001b[0m/\n",
            "-rw-r--r-- 1 root root  9655 May 22 07:31 model.png\n",
            "-rw-r--r-- 1 root root 88192 May 22 07:31 model_x.h5\n",
            "-rw-r--r-- 1 root root 37944 May 22 07:31 model_x_weight\n"
          ],
          "name": "stdout"
        }
      ]
    },
    {
      "cell_type": "code",
      "metadata": {
        "id": "a1-El577LwWu",
        "colab_type": "code",
        "colab": {}
      },
      "source": [
        "# 모델 불러오기\n",
        "#model_x_load = load_model('model_x.h5')"
      ],
      "execution_count": 0,
      "outputs": []
    },
    {
      "cell_type": "code",
      "metadata": {
        "id": "2HbpPwxZMZbv",
        "colab_type": "code",
        "outputId": "12835f5b-26ed-4355-de72-1034b25a2e7e",
        "colab": {
          "base_uri": "https://localhost:8080/",
          "height": 790
        }
      },
      "source": [
        "inputs_y = Input(shape=(input_dim,))\n",
        "model_y = create_model(inputs_y) #동일한 모델 Layer를 그대로 사용\n",
        "\n",
        "from keras.utils import plot_model\n",
        "plot_model(model_y, to_file='model.png')"
      ],
      "execution_count": 0,
      "outputs": [
        {
          "output_type": "stream",
          "text": [
            "Model: \"model_2\"\n",
            "_________________________________________________________________\n",
            "Layer (type)                 Output Shape              Param #   \n",
            "=================================================================\n",
            "input_2 (InputLayer)         (None, 32)                0         \n",
            "_________________________________________________________________\n",
            "dense_5 (Dense)              (None, 64)                2112      \n",
            "_________________________________________________________________\n",
            "dense_6 (Dense)              (None, 32)                2080      \n",
            "_________________________________________________________________\n",
            "dense_7 (Dense)              (None, 16)                528       \n",
            "_________________________________________________________________\n",
            "dense_8 (Dense)              (None, 1)                 17        \n",
            "=================================================================\n",
            "Total params: 4,737\n",
            "Trainable params: 4,737\n",
            "Non-trainable params: 0\n",
            "_________________________________________________________________\n"
          ],
          "name": "stdout"
        },
        {
          "output_type": "execute_result",
          "data": {
            "image/png": "[encoded data removed]",
            "text/plain": [
              "<IPython.core.display.Image object>"
            ]
          },
          "metadata": {
            "tags": []
          },
          "execution_count": 8
        }
      ]
    },
    {
      "cell_type": "code",
      "metadata": {
        "id": "dYAmrd89MjKQ",
        "colab_type": "code",
        "outputId": "aec31e68-e4ea-4974-ea8d-ce62f9c38959",
        "colab": {
          "base_uri": "https://localhost:8080/",
          "height": 413
        }
      },
      "source": [
        "model_y.load_weights('model_x_weight') #weight값 로딩\n",
        "\n",
        "model_y.compile(optimizer='adam', loss='binary_crossentropy', metrics=['accuracy']) #categorical_crossentropy\n",
        "model_y.fit(input_data_y, output_y2, epochs=10, batch_size=32, validation_split=0.2) # 새로운 data로 추가학습"
      ],
      "execution_count": 0,
      "outputs": [
        {
          "output_type": "stream",
          "text": [
            "Train on 80 samples, validate on 20 samples\n",
            "Epoch 1/10\n",
            "80/80 [==============================] - 0s 2ms/step - loss: 5.5007 - accuracy: 0.5750 - val_loss: 11.5356 - val_accuracy: 0.3500\n",
            "Epoch 2/10\n",
            "80/80 [==============================] - 0s 162us/step - loss: 4.9449 - accuracy: 0.6250 - val_loss: 11.0010 - val_accuracy: 0.3500\n",
            "Epoch 3/10\n",
            "80/80 [==============================] - 0s 155us/step - loss: 4.5063 - accuracy: 0.6375 - val_loss: 10.4774 - val_accuracy: 0.3500\n",
            "Epoch 4/10\n",
            "80/80 [==============================] - 0s 134us/step - loss: 4.1214 - accuracy: 0.6500 - val_loss: 9.9608 - val_accuracy: 0.3500\n",
            "Epoch 5/10\n",
            "80/80 [==============================] - 0s 142us/step - loss: 3.7624 - accuracy: 0.6625 - val_loss: 9.4448 - val_accuracy: 0.3500\n",
            "Epoch 6/10\n",
            "80/80 [==============================] - 0s 166us/step - loss: 3.4690 - accuracy: 0.6750 - val_loss: 8.9325 - val_accuracy: 0.3500\n",
            "Epoch 7/10\n",
            "80/80 [==============================] - 0s 169us/step - loss: 3.1206 - accuracy: 0.6750 - val_loss: 8.4575 - val_accuracy: 0.3500\n",
            "Epoch 8/10\n",
            "80/80 [==============================] - 0s 136us/step - loss: 2.8771 - accuracy: 0.6875 - val_loss: 7.9858 - val_accuracy: 0.3500\n",
            "Epoch 9/10\n",
            "80/80 [==============================] - 0s 133us/step - loss: 2.5930 - accuracy: 0.6875 - val_loss: 7.5416 - val_accuracy: 0.3500\n",
            "Epoch 10/10\n",
            "80/80 [==============================] - 0s 148us/step - loss: 2.3428 - accuracy: 0.7000 - val_loss: 7.1231 - val_accuracy: 0.3500\n"
          ],
          "name": "stdout"
        },
        {
          "output_type": "execute_result",
          "data": {
            "text/plain": [
              "<keras.callbacks.callbacks.History at 0x7fdf80d65e80>"
            ]
          },
          "metadata": {
            "tags": []
          },
          "execution_count": 10
        }
      ]
    }
  ]
}