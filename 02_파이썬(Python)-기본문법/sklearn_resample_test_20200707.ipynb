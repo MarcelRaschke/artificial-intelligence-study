{
  "nbformat": 4,
  "nbformat_minor": 0,
  "metadata": {
    "colab": {
      "name": "sklearn-resample_test_20200707.ipynb",
      "provenance": []
    },
    "kernelspec": {
      "name": "python3",
      "display_name": "Python 3"
    }
  },
  "cells": [
    {
      "cell_type": "code",
      "metadata": {
        "id": "uOYbgyR5lLAm",
        "colab_type": "code",
        "colab": {
          "base_uri": "https://localhost:8080/",
          "height": 107
        },
        "outputId": "4a779d96-88a6-4f8b-dadf-684699043540"
      },
      "source": [
        "from sklearn.utils import resample\n",
        "import pandas as pd\n",
        "\n",
        "# https://towardsdatascience.com/methods-for-dealing-with-imbalanced-data-5b761be45a18\n",
        "# # separate minority and majority classes\n",
        "# not_fraud = X[X.Class==0]\n",
        "# fraud = X[X.Class==1]\n",
        "\n",
        "# # upsample minority\n",
        "# fraud_upsampled = resample(fraud,\n",
        "#                           replace=True, # sample with replacement\n",
        "#                           n_samples=len(not_fraud), # match number in majority class\n",
        "#                           random_state=27) # reproducible results\n",
        "\n",
        "# # combine majority and upsampled minority\n",
        "# upsampled = pd.concat([not_fraud, fraud_upsampled])\n",
        "\n",
        "# # check new class counts\n",
        "# upsampled.Class.value_counts()\n",
        "#     1    213245\n",
        "#     0    213245\n",
        "\n",
        "X = []\n",
        "for idx in range(10):\n",
        "    if idx<2: X.append([0, '0'+str(idx)]) #[class, data]\n",
        "    else:     X.append([1, '0'+str(idx)])\n",
        "print('X:', X)\n",
        "not_fraud  = [data for data in X if data[0]==1 ]\n",
        "fraud = [data for data in X if data[0]==0 ]\n",
        "print('not_fraud:', len(not_fraud), ' ,fraud:', len(fraud)) # 8, 2\n",
        "\n",
        "fraud_upsampled = resample(fraud,\n",
        "                          replace=True, # sample with replacement\n",
        "                          n_samples=len(not_fraud), # match number in majority class\n",
        "                          random_state=27) # reproducible results\n",
        "print('len(fraud_upsampled)', len(fraud_upsampled)) # 8\n",
        "#print(fraud_upsampled)\n",
        "\n",
        "new_fraud = fraud_upsampled + fraud # 8 + 2\n",
        "print('len(new_fraud):', len(new_fraud))\n",
        "print(new_fraud)"
      ],
      "execution_count": null,
      "outputs": [
        {
          "output_type": "stream",
          "text": [
            "X: [[0, '00'], [0, '01'], [1, '02'], [1, '03'], [1, '04'], [1, '05'], [1, '06'], [1, '07'], [1, '08'], [1, '09']]\n",
            "not_fraud: 8  ,fraud: 2\n",
            "len(fraud_upsampled) 8\n",
            "len(new_fraud): 10\n",
            "[[0, '01'], [0, '00'], [0, '00'], [0, '01'], [0, '00'], [0, '00'], [0, '01'], [0, '00'], [0, '00'], [0, '01']]\n"
          ],
          "name": "stdout"
        }
      ]
    }
  ]
}