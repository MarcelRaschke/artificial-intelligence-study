{
 "cells": [
  {
   "cell_type": "markdown",
   "metadata": {},
   "source": [
    "# California Housing Price \n",
    "reference : exercise in chapter 2 of 'Hands-On Machine Learning with Scikit-learn and Tensorflow' by Aurélien Géron. \n",
    "\n",
    "##### Tip> shortcuts for Jupyter Notebook\n",
    "* Ctrl + Enter : run cell\n",
    "* Shift + Enter : run cell and select below"
   ]
  },
  {
   "cell_type": "markdown",
   "metadata": {},
   "source": [
    "![title](california.png)"
   ]
  },
  {
   "cell_type": "markdown",
   "metadata": {},
   "source": [
    "## 1. Data Load\n",
    "\n",
    "Load the data by using *read_csv()* method in __Pandas__ module. Then, let's take a look at the top 10 rows using the *head()* method. "
   ]
  },
  {
   "cell_type": "code",
   "execution_count": 1,
   "metadata": {
    "scrolled": false
   },
   "outputs": [
    {
     "data": {
      "text/html": [
       "<div>\n",
       "<style scoped>\n",
       "    .dataframe tbody tr th:only-of-type {\n",
       "        vertical-align: middle;\n",
       "    }\n",
       "\n",
       "    .dataframe tbody tr th {\n",
       "        vertical-align: top;\n",
       "    }\n",
       "\n",
       "    .dataframe thead th {\n",
       "        text-align: right;\n",
       "    }\n",
       "</style>\n",
       "<table border=\"1\" class=\"dataframe\">\n",
       "  <thead>\n",
       "    <tr style=\"text-align: right;\">\n",
       "      <th></th>\n",
       "      <th>longitude</th>\n",
       "      <th>latitude</th>\n",
       "      <th>housing_median_age</th>\n",
       "      <th>total_rooms</th>\n",
       "      <th>total_bedrooms</th>\n",
       "      <th>population</th>\n",
       "      <th>households</th>\n",
       "      <th>median_income</th>\n",
       "      <th>median_house_value</th>\n",
       "      <th>ocean_proximity</th>\n",
       "    </tr>\n",
       "  </thead>\n",
       "  <tbody>\n",
       "    <tr>\n",
       "      <th>0</th>\n",
       "      <td>-122.23</td>\n",
       "      <td>37.88</td>\n",
       "      <td>41.0</td>\n",
       "      <td>880.0</td>\n",
       "      <td>129.0</td>\n",
       "      <td>322.0</td>\n",
       "      <td>126.0</td>\n",
       "      <td>8.3252</td>\n",
       "      <td>452600.0</td>\n",
       "      <td>NEAR BAY</td>\n",
       "    </tr>\n",
       "    <tr>\n",
       "      <th>1</th>\n",
       "      <td>-122.22</td>\n",
       "      <td>37.86</td>\n",
       "      <td>21.0</td>\n",
       "      <td>7099.0</td>\n",
       "      <td>1106.0</td>\n",
       "      <td>2401.0</td>\n",
       "      <td>1138.0</td>\n",
       "      <td>8.3014</td>\n",
       "      <td>358500.0</td>\n",
       "      <td>NEAR BAY</td>\n",
       "    </tr>\n",
       "    <tr>\n",
       "      <th>2</th>\n",
       "      <td>-122.24</td>\n",
       "      <td>37.85</td>\n",
       "      <td>52.0</td>\n",
       "      <td>1467.0</td>\n",
       "      <td>190.0</td>\n",
       "      <td>496.0</td>\n",
       "      <td>177.0</td>\n",
       "      <td>7.2574</td>\n",
       "      <td>352100.0</td>\n",
       "      <td>NEAR BAY</td>\n",
       "    </tr>\n",
       "    <tr>\n",
       "      <th>3</th>\n",
       "      <td>-122.25</td>\n",
       "      <td>37.85</td>\n",
       "      <td>52.0</td>\n",
       "      <td>1274.0</td>\n",
       "      <td>235.0</td>\n",
       "      <td>558.0</td>\n",
       "      <td>219.0</td>\n",
       "      <td>5.6431</td>\n",
       "      <td>341300.0</td>\n",
       "      <td>NEAR BAY</td>\n",
       "    </tr>\n",
       "    <tr>\n",
       "      <th>4</th>\n",
       "      <td>-122.25</td>\n",
       "      <td>37.85</td>\n",
       "      <td>52.0</td>\n",
       "      <td>1627.0</td>\n",
       "      <td>280.0</td>\n",
       "      <td>565.0</td>\n",
       "      <td>259.0</td>\n",
       "      <td>3.8462</td>\n",
       "      <td>342200.0</td>\n",
       "      <td>NEAR BAY</td>\n",
       "    </tr>\n",
       "    <tr>\n",
       "      <th>5</th>\n",
       "      <td>-122.25</td>\n",
       "      <td>37.85</td>\n",
       "      <td>52.0</td>\n",
       "      <td>919.0</td>\n",
       "      <td>213.0</td>\n",
       "      <td>413.0</td>\n",
       "      <td>193.0</td>\n",
       "      <td>4.0368</td>\n",
       "      <td>269700.0</td>\n",
       "      <td>NEAR BAY</td>\n",
       "    </tr>\n",
       "    <tr>\n",
       "      <th>6</th>\n",
       "      <td>-122.25</td>\n",
       "      <td>37.84</td>\n",
       "      <td>52.0</td>\n",
       "      <td>2535.0</td>\n",
       "      <td>489.0</td>\n",
       "      <td>1094.0</td>\n",
       "      <td>514.0</td>\n",
       "      <td>3.6591</td>\n",
       "      <td>299200.0</td>\n",
       "      <td>NEAR BAY</td>\n",
       "    </tr>\n",
       "    <tr>\n",
       "      <th>7</th>\n",
       "      <td>-122.25</td>\n",
       "      <td>37.84</td>\n",
       "      <td>52.0</td>\n",
       "      <td>3104.0</td>\n",
       "      <td>687.0</td>\n",
       "      <td>1157.0</td>\n",
       "      <td>647.0</td>\n",
       "      <td>3.1200</td>\n",
       "      <td>241400.0</td>\n",
       "      <td>NEAR BAY</td>\n",
       "    </tr>\n",
       "    <tr>\n",
       "      <th>8</th>\n",
       "      <td>-122.26</td>\n",
       "      <td>37.84</td>\n",
       "      <td>42.0</td>\n",
       "      <td>2555.0</td>\n",
       "      <td>665.0</td>\n",
       "      <td>1206.0</td>\n",
       "      <td>595.0</td>\n",
       "      <td>2.0804</td>\n",
       "      <td>226700.0</td>\n",
       "      <td>NEAR BAY</td>\n",
       "    </tr>\n",
       "    <tr>\n",
       "      <th>9</th>\n",
       "      <td>-122.25</td>\n",
       "      <td>37.84</td>\n",
       "      <td>52.0</td>\n",
       "      <td>3549.0</td>\n",
       "      <td>707.0</td>\n",
       "      <td>1551.0</td>\n",
       "      <td>714.0</td>\n",
       "      <td>3.6912</td>\n",
       "      <td>261100.0</td>\n",
       "      <td>NEAR BAY</td>\n",
       "    </tr>\n",
       "  </tbody>\n",
       "</table>\n",
       "</div>"
      ],
      "text/plain": [
       "   longitude  latitude  housing_median_age  total_rooms  total_bedrooms  \\\n",
       "0    -122.23     37.88                41.0        880.0           129.0   \n",
       "1    -122.22     37.86                21.0       7099.0          1106.0   \n",
       "2    -122.24     37.85                52.0       1467.0           190.0   \n",
       "3    -122.25     37.85                52.0       1274.0           235.0   \n",
       "4    -122.25     37.85                52.0       1627.0           280.0   \n",
       "5    -122.25     37.85                52.0        919.0           213.0   \n",
       "6    -122.25     37.84                52.0       2535.0           489.0   \n",
       "7    -122.25     37.84                52.0       3104.0           687.0   \n",
       "8    -122.26     37.84                42.0       2555.0           665.0   \n",
       "9    -122.25     37.84                52.0       3549.0           707.0   \n",
       "\n",
       "   population  households  median_income  median_house_value ocean_proximity  \n",
       "0       322.0       126.0         8.3252            452600.0        NEAR BAY  \n",
       "1      2401.0      1138.0         8.3014            358500.0        NEAR BAY  \n",
       "2       496.0       177.0         7.2574            352100.0        NEAR BAY  \n",
       "3       558.0       219.0         5.6431            341300.0        NEAR BAY  \n",
       "4       565.0       259.0         3.8462            342200.0        NEAR BAY  \n",
       "5       413.0       193.0         4.0368            269700.0        NEAR BAY  \n",
       "6      1094.0       514.0         3.6591            299200.0        NEAR BAY  \n",
       "7      1157.0       647.0         3.1200            241400.0        NEAR BAY  \n",
       "8      1206.0       595.0         2.0804            226700.0        NEAR BAY  \n",
       "9      1551.0       714.0         3.6912            261100.0        NEAR BAY  "
      ]
     },
     "execution_count": 1,
     "metadata": {},
     "output_type": "execute_result"
    }
   ],
   "source": [
    "# Data load\n",
    "import pandas as pd\n",
    "\n",
    "housing = pd.read_csv('housing.csv')\n",
    "housing.head(10)"
   ]
  },
  {
   "cell_type": "markdown",
   "metadata": {},
   "source": [
    "Let's see the distribution of the data by using __matplotlib__ module briefly."
   ]
  },
  {
   "cell_type": "code",
   "execution_count": 2,
   "metadata": {},
   "outputs": [
    {
     "data": {
      "text/plain": [
       "<matplotlib.legend.Legend at 0x1c22e862278>"
      ]
     },
     "execution_count": 2,
     "metadata": {},
     "output_type": "execute_result"
    },
    {
     "data": {
      "image/png": "[encoded data removed]",
      "text/plain": [
       "<Figure size 720x504 with 2 Axes>"
      ]
     },
     "metadata": {
      "needs_background": "light"
     },
     "output_type": "display_data"
    }
   ],
   "source": [
    "# figures plotting with data\n",
    "%matplotlib inline\n",
    "import matplotlib\n",
    "import matplotlib.pyplot as plt\n",
    "plt.rcParams['axes.labelsize'] = 14\n",
    "plt.rcParams['xtick.labelsize'] = 12\n",
    "plt.rcParams['ytick.labelsize'] = 12\n",
    "\n",
    "housing.plot(kind=\"scatter\", x=\"longitude\", y=\"latitude\", alpha=0.4,\n",
    "    s=housing[\"population\"]/50, label=\"population\", figsize=(10,7),\n",
    "    c=\"median_house_value\", cmap=plt.get_cmap(\"jet\"), colorbar=True,\n",
    "    sharex=False)\n",
    "\n",
    "plt.legend()"
   ]
  },
  {
   "cell_type": "markdown",
   "metadata": {},
   "source": [
    "To better understand the characteristics of each feature, let's apply the *info()* method."
   ]
  },
  {
   "cell_type": "code",
   "execution_count": 3,
   "metadata": {
    "scrolled": false
   },
   "outputs": [
    {
     "name": "stdout",
     "output_type": "stream",
     "text": [
      "<class 'pandas.core.frame.DataFrame'>\n",
      "RangeIndex: 20640 entries, 0 to 20639\n",
      "Data columns (total 10 columns):\n",
      "longitude             20640 non-null float64\n",
      "latitude              20640 non-null float64\n",
      "housing_median_age    20640 non-null float64\n",
      "total_rooms           20640 non-null float64\n",
      "total_bedrooms        20433 non-null float64\n",
      "population            20640 non-null float64\n",
      "households            20640 non-null float64\n",
      "median_income         20640 non-null float64\n",
      "median_house_value    20640 non-null float64\n",
      "ocean_proximity       20640 non-null object\n",
      "dtypes: float64(9), object(1)\n",
      "memory usage: 1.6+ MB\n"
     ]
    }
   ],
   "source": [
    "# check a structure of the data\n",
    "housing.info()"
   ]
  },
  {
   "cell_type": "markdown",
   "metadata": {},
   "source": [
    "Let’s look at how much each attribute correlates with the *median house value*:"
   ]
  },
  {
   "cell_type": "code",
   "execution_count": 4,
   "metadata": {},
   "outputs": [
    {
     "data": {
      "text/plain": [
       "median_house_value    1.000000\n",
       "median_income         0.688075\n",
       "total_rooms           0.134153\n",
       "housing_median_age    0.105623\n",
       "households            0.065843\n",
       "total_bedrooms        0.049686\n",
       "population           -0.024650\n",
       "longitude            -0.045967\n",
       "latitude             -0.144160\n",
       "Name: median_house_value, dtype: float64"
      ]
     },
     "execution_count": 4,
     "metadata": {},
     "output_type": "execute_result"
    }
   ],
   "source": [
    "# correlation between the median_house_value and other features\n",
    "corr_matrix = housing.corr()\n",
    "corr_matrix['median_house_value'].sort_values(ascending=False)"
   ]
  },
  {
   "cell_type": "markdown",
   "metadata": {},
   "source": [
    "## 2. Prepare the Data\n",
    "\n",
    "this step consists of 'pre-processing', 'train-test seperation', and 'feature-label seperation'."
   ]
  },
  {
   "cell_type": "markdown",
   "metadata": {},
   "source": [
    "### 2-1) Pre-processing \n",
    "\n",
    "#### 2-1.1) Data cleaning\n",
    "Most Machine Learning algorithms cannot work with missing features, so let’s replace the empty values of 'total_bedrooms' with the median value."
   ]
  },
  {
   "cell_type": "code",
   "execution_count": 5,
   "metadata": {},
   "outputs": [
    {
     "name": "stdout",
     "output_type": "stream",
     "text": [
      "<class 'pandas.core.frame.DataFrame'>\n",
      "RangeIndex: 20640 entries, 0 to 20639\n",
      "Data columns (total 10 columns):\n",
      "longitude             20640 non-null float64\n",
      "latitude              20640 non-null float64\n",
      "housing_median_age    20640 non-null float64\n",
      "total_rooms           20640 non-null float64\n",
      "total_bedrooms        20640 non-null float64\n",
      "population            20640 non-null float64\n",
      "households            20640 non-null float64\n",
      "median_income         20640 non-null float64\n",
      "median_house_value    20640 non-null float64\n",
      "ocean_proximity       20640 non-null object\n",
      "dtypes: float64(9), object(1)\n",
      "memory usage: 1.6+ MB\n"
     ]
    }
   ],
   "source": [
    "# replace the empty values with the median\n",
    "median =housing[\"total_bedrooms\"].median()\n",
    "housing[\"total_bedrooms\"] = housing[\"total_bedrooms\"].fillna(median) \n",
    "housing.info()"
   ]
  },
  {
   "cell_type": "markdown",
   "metadata": {},
   "source": [
    "#### 2-1.2) Attributes combinations\n",
    "*rooms_per_household* is more meaningful than *total_rooms*. Also, *bedrooms_per_room* is more meaningful than *total_bedrooms*."
   ]
  },
  {
   "cell_type": "code",
   "execution_count": 6,
   "metadata": {},
   "outputs": [
    {
     "name": "stdout",
     "output_type": "stream",
     "text": [
      "<class 'pandas.core.frame.DataFrame'>\n",
      "RangeIndex: 20640 entries, 0 to 20639\n",
      "Data columns (total 10 columns):\n",
      "longitude                 20640 non-null float64\n",
      "latitude                  20640 non-null float64\n",
      "housing_median_age        20640 non-null float64\n",
      "population                20640 non-null float64\n",
      "households                20640 non-null float64\n",
      "median_income             20640 non-null float64\n",
      "median_house_value        20640 non-null float64\n",
      "ocean_proximity           20640 non-null object\n",
      "rooms_per_household       20640 non-null float64\n",
      "bedrooms_per_household    20640 non-null float64\n",
      "dtypes: float64(9), object(1)\n",
      "memory usage: 1.6+ MB\n"
     ]
    }
   ],
   "source": [
    "# Attributes combinations\n",
    "housing[\"rooms_per_household\"] = housing[\"total_rooms\"]/housing[\"households\"]\n",
    "housing[\"bedrooms_per_household\"] = housing[\"total_bedrooms\"]/housing[\"households\"]\n",
    "del housing[\"total_rooms\"], housing[\"total_bedrooms\"]\n",
    "\n",
    "housing.info()"
   ]
  },
  {
   "cell_type": "markdown",
   "metadata": {},
   "source": [
    "#### 2-1.3) Feature Scaling\n",
    "Machine Learning algorithms don’t perform well when the input numerical attributes have very different scales.\n",
    "\n",
    "__Scikit-Learn__ provides a transformer called *StandardScaler* for *standardization*."
   ]
  },
  {
   "cell_type": "code",
   "execution_count": 7,
   "metadata": {
    "scrolled": true
   },
   "outputs": [
    {
     "data": {
      "text/html": [
       "<div>\n",
       "<style scoped>\n",
       "    .dataframe tbody tr th:only-of-type {\n",
       "        vertical-align: middle;\n",
       "    }\n",
       "\n",
       "    .dataframe tbody tr th {\n",
       "        vertical-align: top;\n",
       "    }\n",
       "\n",
       "    .dataframe thead th {\n",
       "        text-align: right;\n",
       "    }\n",
       "</style>\n",
       "<table border=\"1\" class=\"dataframe\">\n",
       "  <thead>\n",
       "    <tr style=\"text-align: right;\">\n",
       "      <th></th>\n",
       "      <th>longitude</th>\n",
       "      <th>latitude</th>\n",
       "      <th>housing_median_age</th>\n",
       "      <th>population</th>\n",
       "      <th>households</th>\n",
       "      <th>median_income</th>\n",
       "      <th>rooms_per_household</th>\n",
       "      <th>bedrooms_per_household</th>\n",
       "      <th>median_house_value</th>\n",
       "      <th>ocean_proximity</th>\n",
       "    </tr>\n",
       "  </thead>\n",
       "  <tbody>\n",
       "    <tr>\n",
       "      <th>0</th>\n",
       "      <td>-1.327835</td>\n",
       "      <td>1.052548</td>\n",
       "      <td>0.982143</td>\n",
       "      <td>-0.974429</td>\n",
       "      <td>-0.977033</td>\n",
       "      <td>2.344766</td>\n",
       "      <td>0.628559</td>\n",
       "      <td>-0.148514</td>\n",
       "      <td>452600.0</td>\n",
       "      <td>NEAR BAY</td>\n",
       "    </tr>\n",
       "    <tr>\n",
       "      <th>1</th>\n",
       "      <td>-1.322844</td>\n",
       "      <td>1.043185</td>\n",
       "      <td>-0.607019</td>\n",
       "      <td>0.861439</td>\n",
       "      <td>1.669961</td>\n",
       "      <td>2.332238</td>\n",
       "      <td>0.327041</td>\n",
       "      <td>-0.248542</td>\n",
       "      <td>358500.0</td>\n",
       "      <td>NEAR BAY</td>\n",
       "    </tr>\n",
       "    <tr>\n",
       "      <th>2</th>\n",
       "      <td>-1.332827</td>\n",
       "      <td>1.038503</td>\n",
       "      <td>1.856182</td>\n",
       "      <td>-0.820777</td>\n",
       "      <td>-0.843637</td>\n",
       "      <td>1.782699</td>\n",
       "      <td>1.155620</td>\n",
       "      <td>-0.052902</td>\n",
       "      <td>352100.0</td>\n",
       "      <td>NEAR BAY</td>\n",
       "    </tr>\n",
       "    <tr>\n",
       "      <th>3</th>\n",
       "      <td>-1.337818</td>\n",
       "      <td>1.038503</td>\n",
       "      <td>1.856182</td>\n",
       "      <td>-0.766028</td>\n",
       "      <td>-0.733781</td>\n",
       "      <td>0.932968</td>\n",
       "      <td>0.156966</td>\n",
       "      <td>-0.053647</td>\n",
       "      <td>341300.0</td>\n",
       "      <td>NEAR BAY</td>\n",
       "    </tr>\n",
       "    <tr>\n",
       "      <th>4</th>\n",
       "      <td>-1.337818</td>\n",
       "      <td>1.038503</td>\n",
       "      <td>1.856182</td>\n",
       "      <td>-0.759847</td>\n",
       "      <td>-0.629157</td>\n",
       "      <td>-0.012881</td>\n",
       "      <td>0.344711</td>\n",
       "      <td>-0.038196</td>\n",
       "      <td>342200.0</td>\n",
       "      <td>NEAR BAY</td>\n",
       "    </tr>\n",
       "  </tbody>\n",
       "</table>\n",
       "</div>"
      ],
      "text/plain": [
       "   longitude  latitude  housing_median_age  population  households  \\\n",
       "0  -1.327835  1.052548            0.982143   -0.974429   -0.977033   \n",
       "1  -1.322844  1.043185           -0.607019    0.861439    1.669961   \n",
       "2  -1.332827  1.038503            1.856182   -0.820777   -0.843637   \n",
       "3  -1.337818  1.038503            1.856182   -0.766028   -0.733781   \n",
       "4  -1.337818  1.038503            1.856182   -0.759847   -0.629157   \n",
       "\n",
       "   median_income  rooms_per_household  bedrooms_per_household  \\\n",
       "0       2.344766             0.628559               -0.148514   \n",
       "1       2.332238             0.327041               -0.248542   \n",
       "2       1.782699             1.155620               -0.052902   \n",
       "3       0.932968             0.156966               -0.053647   \n",
       "4      -0.012881             0.344711               -0.038196   \n",
       "\n",
       "   median_house_value ocean_proximity  \n",
       "0            452600.0        NEAR BAY  \n",
       "1            358500.0        NEAR BAY  \n",
       "2            352100.0        NEAR BAY  \n",
       "3            341300.0        NEAR BAY  \n",
       "4            342200.0        NEAR BAY  "
      ]
     },
     "execution_count": 7,
     "metadata": {},
     "output_type": "execute_result"
    }
   ],
   "source": [
    "# feature standardization\n",
    "from sklearn.preprocessing import StandardScaler\n",
    "\n",
    "scaler = StandardScaler()\n",
    "\n",
    "# delete columns of text type and target variable\n",
    "col_list = list(housing) \n",
    "col_list.remove('ocean_proximity') # text type\n",
    "col_list.remove('median_house_value') # target variable needs not to be scaled\n",
    "\n",
    "# generate a new dataframe that consist of numeric type only\n",
    "housing_numeric = housing[col_list]\n",
    "housing_scaled = scaler.fit_transform(housing_numeric)\n",
    "# Data type conversion from 'Series' to 'DataFrame'\n",
    "housing_scaled_df = pd.DataFrame(housing_scaled, index=housing_numeric.index, columns=housing_numeric.columns)\n",
    "\n",
    "# Concatenate \n",
    "housing = pd.concat([housing_scaled_df, housing['median_house_value'], housing['ocean_proximity']], axis=1)\n",
    "housing.head()"
   ]
  },
  {
   "cell_type": "markdown",
   "metadata": {},
   "source": [
    "#### 2-1.4) Handling Text and Categorical Attributes\n",
    "Most Machine Learning algorithms prefer to work with numbers anyway, so let’s convert the 'ocean_proximity' to numbers.\n",
    "\n",
    "__Pandas__ provides a *get_dummies* method to convert integer categorical values into one-hot vectors. "
   ]
  },
  {
   "cell_type": "code",
   "execution_count": 8,
   "metadata": {},
   "outputs": [
    {
     "data": {
      "text/html": [
       "<div>\n",
       "<style scoped>\n",
       "    .dataframe tbody tr th:only-of-type {\n",
       "        vertical-align: middle;\n",
       "    }\n",
       "\n",
       "    .dataframe tbody tr th {\n",
       "        vertical-align: top;\n",
       "    }\n",
       "\n",
       "    .dataframe thead th {\n",
       "        text-align: right;\n",
       "    }\n",
       "</style>\n",
       "<table border=\"1\" class=\"dataframe\">\n",
       "  <thead>\n",
       "    <tr style=\"text-align: right;\">\n",
       "      <th></th>\n",
       "      <th>longitude</th>\n",
       "      <th>latitude</th>\n",
       "      <th>housing_median_age</th>\n",
       "      <th>population</th>\n",
       "      <th>households</th>\n",
       "      <th>median_income</th>\n",
       "      <th>rooms_per_household</th>\n",
       "      <th>bedrooms_per_household</th>\n",
       "      <th>median_house_value</th>\n",
       "      <th>ocean_proximity_&lt;1H OCEAN</th>\n",
       "      <th>ocean_proximity_INLAND</th>\n",
       "      <th>ocean_proximity_ISLAND</th>\n",
       "      <th>ocean_proximity_NEAR BAY</th>\n",
       "      <th>ocean_proximity_NEAR OCEAN</th>\n",
       "    </tr>\n",
       "  </thead>\n",
       "  <tbody>\n",
       "    <tr>\n",
       "      <th>0</th>\n",
       "      <td>-1.327835</td>\n",
       "      <td>1.052548</td>\n",
       "      <td>0.982143</td>\n",
       "      <td>-0.974429</td>\n",
       "      <td>-0.977033</td>\n",
       "      <td>2.344766</td>\n",
       "      <td>0.628559</td>\n",
       "      <td>-0.148514</td>\n",
       "      <td>452600.0</td>\n",
       "      <td>0</td>\n",
       "      <td>0</td>\n",
       "      <td>0</td>\n",
       "      <td>1</td>\n",
       "      <td>0</td>\n",
       "    </tr>\n",
       "    <tr>\n",
       "      <th>1</th>\n",
       "      <td>-1.322844</td>\n",
       "      <td>1.043185</td>\n",
       "      <td>-0.607019</td>\n",
       "      <td>0.861439</td>\n",
       "      <td>1.669961</td>\n",
       "      <td>2.332238</td>\n",
       "      <td>0.327041</td>\n",
       "      <td>-0.248542</td>\n",
       "      <td>358500.0</td>\n",
       "      <td>0</td>\n",
       "      <td>0</td>\n",
       "      <td>0</td>\n",
       "      <td>1</td>\n",
       "      <td>0</td>\n",
       "    </tr>\n",
       "    <tr>\n",
       "      <th>2</th>\n",
       "      <td>-1.332827</td>\n",
       "      <td>1.038503</td>\n",
       "      <td>1.856182</td>\n",
       "      <td>-0.820777</td>\n",
       "      <td>-0.843637</td>\n",
       "      <td>1.782699</td>\n",
       "      <td>1.155620</td>\n",
       "      <td>-0.052902</td>\n",
       "      <td>352100.0</td>\n",
       "      <td>0</td>\n",
       "      <td>0</td>\n",
       "      <td>0</td>\n",
       "      <td>1</td>\n",
       "      <td>0</td>\n",
       "    </tr>\n",
       "    <tr>\n",
       "      <th>3</th>\n",
       "      <td>-1.337818</td>\n",
       "      <td>1.038503</td>\n",
       "      <td>1.856182</td>\n",
       "      <td>-0.766028</td>\n",
       "      <td>-0.733781</td>\n",
       "      <td>0.932968</td>\n",
       "      <td>0.156966</td>\n",
       "      <td>-0.053647</td>\n",
       "      <td>341300.0</td>\n",
       "      <td>0</td>\n",
       "      <td>0</td>\n",
       "      <td>0</td>\n",
       "      <td>1</td>\n",
       "      <td>0</td>\n",
       "    </tr>\n",
       "    <tr>\n",
       "      <th>4</th>\n",
       "      <td>-1.337818</td>\n",
       "      <td>1.038503</td>\n",
       "      <td>1.856182</td>\n",
       "      <td>-0.759847</td>\n",
       "      <td>-0.629157</td>\n",
       "      <td>-0.012881</td>\n",
       "      <td>0.344711</td>\n",
       "      <td>-0.038196</td>\n",
       "      <td>342200.0</td>\n",
       "      <td>0</td>\n",
       "      <td>0</td>\n",
       "      <td>0</td>\n",
       "      <td>1</td>\n",
       "      <td>0</td>\n",
       "    </tr>\n",
       "    <tr>\n",
       "      <th>5</th>\n",
       "      <td>-1.337818</td>\n",
       "      <td>1.038503</td>\n",
       "      <td>1.856182</td>\n",
       "      <td>-0.894071</td>\n",
       "      <td>-0.801787</td>\n",
       "      <td>0.087447</td>\n",
       "      <td>-0.269730</td>\n",
       "      <td>0.005233</td>\n",
       "      <td>269700.0</td>\n",
       "      <td>0</td>\n",
       "      <td>0</td>\n",
       "      <td>0</td>\n",
       "      <td>1</td>\n",
       "      <td>0</td>\n",
       "    </tr>\n",
       "    <tr>\n",
       "      <th>6</th>\n",
       "      <td>-1.337818</td>\n",
       "      <td>1.033821</td>\n",
       "      <td>1.856182</td>\n",
       "      <td>-0.292712</td>\n",
       "      <td>0.037823</td>\n",
       "      <td>-0.111366</td>\n",
       "      <td>-0.200918</td>\n",
       "      <td>-0.288066</td>\n",
       "      <td>299200.0</td>\n",
       "      <td>0</td>\n",
       "      <td>0</td>\n",
       "      <td>0</td>\n",
       "      <td>1</td>\n",
       "      <td>0</td>\n",
       "    </tr>\n",
       "    <tr>\n",
       "      <th>7</th>\n",
       "      <td>-1.337818</td>\n",
       "      <td>1.033821</td>\n",
       "      <td>1.856182</td>\n",
       "      <td>-0.237079</td>\n",
       "      <td>0.385698</td>\n",
       "      <td>-0.395137</td>\n",
       "      <td>-0.255232</td>\n",
       "      <td>-0.075290</td>\n",
       "      <td>241400.0</td>\n",
       "      <td>0</td>\n",
       "      <td>0</td>\n",
       "      <td>0</td>\n",
       "      <td>1</td>\n",
       "      <td>0</td>\n",
       "    </tr>\n",
       "    <tr>\n",
       "      <th>8</th>\n",
       "      <td>-1.342809</td>\n",
       "      <td>1.033821</td>\n",
       "      <td>1.061601</td>\n",
       "      <td>-0.193810</td>\n",
       "      <td>0.249687</td>\n",
       "      <td>-0.942359</td>\n",
       "      <td>-0.458703</td>\n",
       "      <td>0.032239</td>\n",
       "      <td>226700.0</td>\n",
       "      <td>0</td>\n",
       "      <td>0</td>\n",
       "      <td>0</td>\n",
       "      <td>1</td>\n",
       "      <td>0</td>\n",
       "    </tr>\n",
       "    <tr>\n",
       "      <th>9</th>\n",
       "      <td>-1.337818</td>\n",
       "      <td>1.033821</td>\n",
       "      <td>1.856182</td>\n",
       "      <td>0.110844</td>\n",
       "      <td>0.560944</td>\n",
       "      <td>-0.094470</td>\n",
       "      <td>-0.185283</td>\n",
       "      <td>-0.213262</td>\n",
       "      <td>261100.0</td>\n",
       "      <td>0</td>\n",
       "      <td>0</td>\n",
       "      <td>0</td>\n",
       "      <td>1</td>\n",
       "      <td>0</td>\n",
       "    </tr>\n",
       "  </tbody>\n",
       "</table>\n",
       "</div>"
      ],
      "text/plain": [
       "   longitude  latitude  housing_median_age  population  households  \\\n",
       "0  -1.327835  1.052548            0.982143   -0.974429   -0.977033   \n",
       "1  -1.322844  1.043185           -0.607019    0.861439    1.669961   \n",
       "2  -1.332827  1.038503            1.856182   -0.820777   -0.843637   \n",
       "3  -1.337818  1.038503            1.856182   -0.766028   -0.733781   \n",
       "4  -1.337818  1.038503            1.856182   -0.759847   -0.629157   \n",
       "5  -1.337818  1.038503            1.856182   -0.894071   -0.801787   \n",
       "6  -1.337818  1.033821            1.856182   -0.292712    0.037823   \n",
       "7  -1.337818  1.033821            1.856182   -0.237079    0.385698   \n",
       "8  -1.342809  1.033821            1.061601   -0.193810    0.249687   \n",
       "9  -1.337818  1.033821            1.856182    0.110844    0.560944   \n",
       "\n",
       "   median_income  rooms_per_household  bedrooms_per_household  \\\n",
       "0       2.344766             0.628559               -0.148514   \n",
       "1       2.332238             0.327041               -0.248542   \n",
       "2       1.782699             1.155620               -0.052902   \n",
       "3       0.932968             0.156966               -0.053647   \n",
       "4      -0.012881             0.344711               -0.038196   \n",
       "5       0.087447            -0.269730                0.005233   \n",
       "6      -0.111366            -0.200918               -0.288066   \n",
       "7      -0.395137            -0.255232               -0.075290   \n",
       "8      -0.942359            -0.458703                0.032239   \n",
       "9      -0.094470            -0.185283               -0.213262   \n",
       "\n",
       "   median_house_value  ocean_proximity_<1H OCEAN  ocean_proximity_INLAND  \\\n",
       "0            452600.0                          0                       0   \n",
       "1            358500.0                          0                       0   \n",
       "2            352100.0                          0                       0   \n",
       "3            341300.0                          0                       0   \n",
       "4            342200.0                          0                       0   \n",
       "5            269700.0                          0                       0   \n",
       "6            299200.0                          0                       0   \n",
       "7            241400.0                          0                       0   \n",
       "8            226700.0                          0                       0   \n",
       "9            261100.0                          0                       0   \n",
       "\n",
       "   ocean_proximity_ISLAND  ocean_proximity_NEAR BAY  \\\n",
       "0                       0                         1   \n",
       "1                       0                         1   \n",
       "2                       0                         1   \n",
       "3                       0                         1   \n",
       "4                       0                         1   \n",
       "5                       0                         1   \n",
       "6                       0                         1   \n",
       "7                       0                         1   \n",
       "8                       0                         1   \n",
       "9                       0                         1   \n",
       "\n",
       "   ocean_proximity_NEAR OCEAN  \n",
       "0                           0  \n",
       "1                           0  \n",
       "2                           0  \n",
       "3                           0  \n",
       "4                           0  \n",
       "5                           0  \n",
       "6                           0  \n",
       "7                           0  \n",
       "8                           0  \n",
       "9                           0  "
      ]
     },
     "execution_count": 8,
     "metadata": {},
     "output_type": "execute_result"
    }
   ],
   "source": [
    "# One-hot encoding\n",
    "housing = pd.get_dummies(housing)\n",
    "housing.head(10)"
   ]
  },
  {
   "cell_type": "markdown",
   "metadata": {},
   "source": [
    "### 2-2) Training and Test Set Seperation\n",
    "__Scikit-Learn__ provides *train_test_split* function to split dataset into multiple subsets in various ways. "
   ]
  },
  {
   "cell_type": "code",
   "execution_count": 9,
   "metadata": {},
   "outputs": [
    {
     "name": "stdout",
     "output_type": "stream",
     "text": [
      "# of train_set : 16512, # of test_set : 4128\n"
     ]
    }
   ],
   "source": [
    "# training - test seperation\n",
    "from sklearn.model_selection import train_test_split\n",
    "\n",
    "train_set, test_set = train_test_split(housing, test_size=0.2, random_state=42)\n",
    "\n",
    "print('# of train_set : %.0f, # of test_set : %.0f' %(train_set.shape[0], test_set.shape[0]))"
   ]
  },
  {
   "cell_type": "markdown",
   "metadata": {},
   "source": [
    "### 2-3) Features and Target Value Seperation of the Training Set\n",
    "It’s time to prepare the data for your Machine Learning algorithms. \n",
    "\n",
    "Let’s separate the features and target value to generate the model H(X)."
   ]
  },
  {
   "cell_type": "code",
   "execution_count": 10,
   "metadata": {},
   "outputs": [],
   "source": [
    "# feature and label seperation of training set\n",
    "train_set_features = train_set.drop('median_house_value',axis=1)\n",
    "train_set_target = train_set[\"median_house_value\"].copy()"
   ]
  },
  {
   "cell_type": "markdown",
   "metadata": {},
   "source": [
    "## 3. Linear Regression\n",
    "generate the linear regression model by using *LinearRegression* function from __Scikit-learn__.\n",
    "\n",
    "For calculating our RMSE, *mean_square_error* function will be used from __scikit-learn__. Also, __numpy__ module will be used to use sqaure-root operation.\n",
    "\n",
    " $$RMSE = \\sqrt{\\sum{(y - \\widehat y)^2}\\over N}$$\n",
    " <br/>\n",
    " \n",
    "$y$ : actual median_house_value, $\\widehat y$ : median_house_value predicted. $N$ : total number of data<br/>"
   ]
  },
  {
   "cell_type": "code",
   "execution_count": 11,
   "metadata": {},
   "outputs": [],
   "source": [
    "def RMSE_calculation(param1, param2):\n",
    "    mse = mean_squared_error(param1, param2)\n",
    "    rmse = np.sqrt(mse)\n",
    "\n",
    "    return rmse"
   ]
  },
  {
   "cell_type": "code",
   "execution_count": 12,
   "metadata": {},
   "outputs": [
    {
     "name": "stdout",
     "output_type": "stream",
     "text": [
      "train_RMSE : 68182.37 , test_RMSE : 74495.52\n"
     ]
    }
   ],
   "source": [
    "from sklearn.linear_model import LinearRegression\n",
    "from sklearn.metrics import mean_squared_error\n",
    "import numpy as np # for a sqaure root calcuation\n",
    "\n",
    "# generate model by using training set\n",
    "lin_reg = LinearRegression()\n",
    "lin_reg.fit(train_set_features, train_set_target) \n",
    "\n",
    "# Feature and target value Seperation of the test set\n",
    "test_set_features = test_set.drop('median_house_value',axis=1)\n",
    "test_set_target = test_set[\"median_house_value\"].copy()\n",
    "\n",
    "# target value predicted from our model\n",
    "train_final_predictions = lin_reg.predict(train_set_features)\n",
    "test_final_predictions = lin_reg.predict(test_set_features)\n",
    "\n",
    "# RMSE\n",
    "train_final_rmse = RMSE_calculation(train_set_target, train_final_predictions)\n",
    "test_final_rmse = RMSE_calculation(test_set_target, test_final_predictions)\n",
    "\n",
    "print('train_RMSE : %.2f , test_RMSE : %.2f' %(train_final_rmse, test_final_rmse))"
   ]
  },
  {
   "cell_type": "markdown",
   "metadata": {},
   "source": [
    "## 4. Linear Regression with Gradient Descent"
   ]
  },
  {
   "cell_type": "markdown",
   "metadata": {},
   "source": [
    "To compute matrix calculations easily, convert data types from dataframe to numpy array. "
   ]
  },
  {
   "cell_type": "code",
   "execution_count": 13,
   "metadata": {},
   "outputs": [],
   "source": [
    "train_set_features_array = train_set_features.values\n",
    "train_set_target_array =np.expand_dims(train_set_target,axis=1)\n",
    "\n",
    "test_set_features_array = test_set_features.values\n",
    "test_set_target_array = np.expand_dims(test_set_target,axis=1)\n",
    "\n",
    "train_y = train_set_target.values.reshape(-1,1)\n",
    "test_y = test_set_target.values.reshape(-1,1)"
   ]
  },
  {
   "cell_type": "markdown",
   "metadata": {},
   "source": [
    "Generate the augmented matrix $X_{b}$ by adding bias column which consists of all 1s."
   ]
  },
  {
   "cell_type": "code",
   "execution_count": 14,
   "metadata": {},
   "outputs": [],
   "source": [
    "train_bias_column = np.ones([train_set_features_array.shape[0],1])\n",
    "train_X_b = np.concatenate((train_set_features_array, train_bias_column),axis=1)\n",
    "\n",
    "test_bias_column = np.ones([test_set_features_array.shape[0],1])\n",
    "test_X_b = np.concatenate((test_set_features_array, test_bias_column),axis=1)"
   ]
  },
  {
   "cell_type": "markdown",
   "metadata": {},
   "source": [
    "### 4-1) Batch Gradient Descent"
   ]
  },
  {
   "cell_type": "markdown",
   "metadata": {},
   "source": [
    "The gradient descent mothod is as follows."
   ]
  },
  {
   "cell_type": "markdown",
   "metadata": {},
   "source": [
    "$$ \\theta \\leftarrow \\theta - \\eta\\nabla_{\\theta} J(\\theta) \\quad ,\\,where \\; \\eta = learning\\, rate$$ \n"
   ]
  },
  {
   "cell_type": "markdown",
   "metadata": {},
   "source": [
    "Recall that "
   ]
  },
  {
   "cell_type": "markdown",
   "metadata": {},
   "source": [
    "$$ \\nabla_{\\theta} J(\\theta) = X^{T}X\\theta - X^{T}y $$\n",
    "$$ = X^{T}(X\\theta-y)$$"
   ]
  },
  {
   "cell_type": "markdown",
   "metadata": {},
   "source": [
    "It is batch gradient descent that $X$ contains all training instances."
   ]
  },
  {
   "cell_type": "markdown",
   "metadata": {},
   "source": [
    "At first, initialize $\\theta$ and store the training RMSE and validation RMSE for this initialized $\\theta$."
   ]
  },
  {
   "cell_type": "code",
   "execution_count": 15,
   "metadata": {},
   "outputs": [
    {
     "name": "stdout",
     "output_type": "stream",
     "text": [
      "RMSE of the initialized theta - train_RMSE : 237270.83, val_RMSE : 235232.82\n"
     ]
    }
   ],
   "source": [
    "# initialize theta \n",
    "feature_num = train_X_b.shape[1]\n",
    "theta = np.random.randn(feature_num,1)\n",
    "\n",
    "GD_train_rmse = []\n",
    "GD_val_rmse = []\n",
    "\n",
    "initialized_theta_train_RMSE = RMSE_calculation(np.dot(train_X_b,theta), train_y)\n",
    "initialized_theta_val_RMSE = RMSE_calculation(np.dot(test_X_b,theta), test_y)\n",
    "\n",
    "GD_train_rmse.append(initialized_theta_train_RMSE)\n",
    "GD_val_rmse.append(initialized_theta_val_RMSE)\n",
    "\n",
    "print('RMSE of the initialized theta - train_RMSE : %.2f, val_RMSE : %.2f' %(initialized_theta_train_RMSE, initialized_theta_val_RMSE))"
   ]
  },
  {
   "cell_type": "markdown",
   "metadata": {},
   "source": [
    "Execute your batch gradient descent."
   ]
  },
  {
   "cell_type": "code",
   "execution_count": 16,
   "metadata": {
    "scrolled": true
   },
   "outputs": [
    {
     "name": "stdout",
     "output_type": "stream",
     "text": [
      "0번째 train_RMSE : 236721.21, val_RMSE : 234690.26\n",
      "100번째 train_RMSE : 189305.65, val_RMSE : 187936.35\n",
      "200번째 train_RMSE : 154499.83, val_RMSE : 153704.28\n",
      "300번째 train_RMSE : 129401.28, val_RMSE : 129091.67\n",
      "400번째 train_RMSE : 111690.96, val_RMSE : 111778.15\n",
      "500번째 train_RMSE : 99476.08, val_RMSE : 99871.74\n",
      "600번째 train_RMSE : 91217.28, val_RMSE : 91839.82\n",
      "700번째 train_RMSE : 85703.97, val_RMSE : 86484.91\n",
      "800번째 train_RMSE : 82032.88, val_RMSE : 82919.91\n",
      "900번째 train_RMSE : 79566.18, val_RMSE : 80522.53\n",
      "1000번째 train_RMSE : 77874.10, val_RMSE : 78875.58\n",
      "1100번째 train_RMSE : 76676.82, val_RMSE : 77708.46\n",
      "1200번째 train_RMSE : 75796.24, val_RMSE : 76849.33\n",
      "1300번째 train_RMSE : 75120.44, val_RMSE : 76190.38\n",
      "1400번째 train_RMSE : 74579.46, val_RMSE : 75664.23\n",
      "1500번째 train_RMSE : 74129.55, val_RMSE : 75228.74\n",
      "1600번째 train_RMSE : 73743.22, val_RMSE : 74857.41\n",
      "1700번째 train_RMSE : 73403.02, val_RMSE : 74533.33\n",
      "1800번째 train_RMSE : 73097.69, val_RMSE : 74245.58\n",
      "1900번째 train_RMSE : 72819.84, val_RMSE : 73986.92\n",
      "2000번째 train_RMSE : 72564.50, val_RMSE : 73752.43\n",
      "2100번째 train_RMSE : 72328.22, val_RMSE : 73538.63\n",
      "2200번째 train_RMSE : 72108.49, val_RMSE : 73342.97\n",
      "2300번째 train_RMSE : 71903.46, val_RMSE : 73163.52\n",
      "2400번째 train_RMSE : 71711.68, val_RMSE : 72998.74\n",
      "2500번째 train_RMSE : 71531.99, val_RMSE : 72847.35\n",
      "2600번째 train_RMSE : 71363.40, val_RMSE : 72708.29\n",
      "2700번째 train_RMSE : 71205.08, val_RMSE : 72580.61\n",
      "2800번째 train_RMSE : 71056.29, val_RMSE : 72463.49\n",
      "2900번째 train_RMSE : 70916.38, val_RMSE : 72356.16\n",
      "3000번째 train_RMSE : 70784.76, val_RMSE : 72257.96\n",
      "3100번째 train_RMSE : 70660.88, val_RMSE : 72168.24\n",
      "3200번째 train_RMSE : 70544.24, val_RMSE : 72086.45\n",
      "3300번째 train_RMSE : 70434.38, val_RMSE : 72012.03\n",
      "3400번째 train_RMSE : 70330.88, val_RMSE : 71944.50\n",
      "3500번째 train_RMSE : 70233.33, val_RMSE : 71883.38\n",
      "3600번째 train_RMSE : 70141.37, val_RMSE : 71828.25\n",
      "3700번째 train_RMSE : 70054.64, val_RMSE : 71778.71\n",
      "3800번째 train_RMSE : 69972.83, val_RMSE : 71734.38\n",
      "3900번째 train_RMSE : 69895.62, val_RMSE : 71694.90\n",
      "4000번째 train_RMSE : 69822.75, val_RMSE : 71659.96\n",
      "4100번째 train_RMSE : 69753.94, val_RMSE : 71629.24\n",
      "4200번째 train_RMSE : 69688.94, val_RMSE : 71602.46\n",
      "4300번째 train_RMSE : 69627.52, val_RMSE : 71579.35\n",
      "4400번째 train_RMSE : 69569.46, val_RMSE : 71559.66\n",
      "4500번째 train_RMSE : 69514.57, val_RMSE : 71543.15\n",
      "4600번째 train_RMSE : 69462.65, val_RMSE : 71529.61\n",
      "4700번째 train_RMSE : 69413.51, val_RMSE : 71518.83\n",
      "4800번째 train_RMSE : 69367.00, val_RMSE : 71510.62\n",
      "4900번째 train_RMSE : 69322.95, val_RMSE : 71504.80\n",
      "5000번째 train_RMSE : 69281.22, val_RMSE : 71501.19\n",
      "5100번째 train_RMSE : 69241.68, val_RMSE : 71499.66\n",
      "5200번째 train_RMSE : 69204.18, val_RMSE : 71500.04\n",
      "5300번째 train_RMSE : 69168.61, val_RMSE : 71502.20\n",
      "5400번째 train_RMSE : 69134.86, val_RMSE : 71506.01\n",
      "5500번째 train_RMSE : 69102.82, val_RMSE : 71511.36\n",
      "5600번째 train_RMSE : 69072.39, val_RMSE : 71518.13\n",
      "5700번째 train_RMSE : 69043.48, val_RMSE : 71526.21\n",
      "5800번째 train_RMSE : 69016.00, val_RMSE : 71535.51\n",
      "5900번째 train_RMSE : 68989.86, val_RMSE : 71545.94\n",
      "6000번째 train_RMSE : 68964.99, val_RMSE : 71557.40\n",
      "6100번째 train_RMSE : 68941.32, val_RMSE : 71569.83\n",
      "6200번째 train_RMSE : 68918.78, val_RMSE : 71583.14\n",
      "6300번째 train_RMSE : 68897.30, val_RMSE : 71597.26\n",
      "6400번째 train_RMSE : 68876.83, val_RMSE : 71612.13\n",
      "6500번째 train_RMSE : 68857.31, val_RMSE : 71627.70\n",
      "6600번째 train_RMSE : 68838.68, val_RMSE : 71643.89\n",
      "6700번째 train_RMSE : 68820.90, val_RMSE : 71660.66\n",
      "6800번째 train_RMSE : 68803.93, val_RMSE : 71677.95\n",
      "6900번째 train_RMSE : 68787.70, val_RMSE : 71695.73\n",
      "7000번째 train_RMSE : 68772.19, val_RMSE : 71713.94\n",
      "7100번째 train_RMSE : 68757.36, val_RMSE : 71732.55\n",
      "7200번째 train_RMSE : 68743.17, val_RMSE : 71751.51\n",
      "7300번째 train_RMSE : 68729.58, val_RMSE : 71770.80\n",
      "7400번째 train_RMSE : 68716.57, val_RMSE : 71790.37\n",
      "7500번째 train_RMSE : 68704.10, val_RMSE : 71810.21\n",
      "7600번째 train_RMSE : 68692.15, val_RMSE : 71830.27\n",
      "7700번째 train_RMSE : 68680.68, val_RMSE : 71850.53\n",
      "7800번째 train_RMSE : 68669.68, val_RMSE : 71870.97\n",
      "7900번째 train_RMSE : 68659.11, val_RMSE : 71891.56\n",
      "8000번째 train_RMSE : 68648.97, val_RMSE : 71912.28\n",
      "8100번째 train_RMSE : 68639.22, val_RMSE : 71933.11\n",
      "8200번째 train_RMSE : 68629.84, val_RMSE : 71954.04\n",
      "8300번째 train_RMSE : 68620.82, val_RMSE : 71975.03\n",
      "8400번째 train_RMSE : 68612.14, val_RMSE : 71996.08\n",
      "8500번째 train_RMSE : 68603.78, val_RMSE : 72017.17\n",
      "8600번째 train_RMSE : 68595.73, val_RMSE : 72038.29\n",
      "8700번째 train_RMSE : 68587.98, val_RMSE : 72059.42\n",
      "8800번째 train_RMSE : 68580.50, val_RMSE : 72080.55\n",
      "8900번째 train_RMSE : 68573.28, val_RMSE : 72101.66\n",
      "9000번째 train_RMSE : 68566.32, val_RMSE : 72122.76\n",
      "9100번째 train_RMSE : 68559.59, val_RMSE : 72143.82\n",
      "9200번째 train_RMSE : 68553.10, val_RMSE : 72164.84\n",
      "9300번째 train_RMSE : 68546.83, val_RMSE : 72185.81\n",
      "9400번째 train_RMSE : 68540.76, val_RMSE : 72206.71\n",
      "9500번째 train_RMSE : 68534.89, val_RMSE : 72227.56\n",
      "9600번째 train_RMSE : 68529.22, val_RMSE : 72248.32\n",
      "9700번째 train_RMSE : 68523.72, val_RMSE : 72269.01\n",
      "9800번째 train_RMSE : 68518.40, val_RMSE : 72289.61\n",
      "9900번째 train_RMSE : 68513.24, val_RMSE : 72310.12\n"
     ]
    }
   ],
   "source": [
    "train_num = train_X_b.shape[0]\n",
    "\n",
    "batch_size = train_num\n",
    "n_epoch = 10000\n",
    "eta = 0.001 # learning rate\n",
    "\n",
    "for epoch in range(n_epoch):\n",
    "    gradient = 2 / batch_size * np.dot(train_X_b.T , np.dot(train_X_b, theta) - train_y)\n",
    "    theta = theta - eta * gradient\n",
    "    \n",
    "    # train error\n",
    "    GD_train_predictions = np.dot(train_X_b, theta)\n",
    "    GD_train_final_rmse = RMSE_calculation(train_y, GD_train_predictions)\n",
    "    GD_train_rmse.append(GD_train_final_rmse)\n",
    "    \n",
    "    # val error\n",
    "    GD_val_predictions = np.dot(test_X_b, theta)\n",
    "    GD_val_final_rmse = RMSE_calculation(test_y, GD_val_predictions)\n",
    "    GD_val_rmse.append(GD_val_final_rmse)\n",
    "    \n",
    "    if epoch%100 == 0:\n",
    "        print('%d번째 train_RMSE : %.2f, val_RMSE : %.2f' %(epoch, GD_train_final_rmse, GD_val_final_rmse))"
   ]
  },
  {
   "cell_type": "markdown",
   "metadata": {},
   "source": [
    "Check for changes of RMSE as epoch increases."
   ]
  },
  {
   "cell_type": "code",
   "execution_count": 17,
   "metadata": {},
   "outputs": [
    {
     "data": {
      "text/plain": [
       "Text(0, 0.5, 'RMSE')"
      ]
     },
     "execution_count": 17,
     "metadata": {},
     "output_type": "execute_result"
    },
    {
     "data": {
      "image/png": "[encoded data removed]",
      "text/plain": [
       "<Figure size 432x288 with 1 Axes>"
      ]
     },
     "metadata": {
      "needs_background": "light"
     },
     "output_type": "display_data"
    }
   ],
   "source": [
    "plt.plot(GD_train_rmse, \"r+\", linewidth=2, label=\"train\")\n",
    "plt.plot(GD_val_rmse, \"b-\", linewidth=3, label=\"val\")\n",
    "\n",
    "plt.ylim([60000, 250000])\n",
    "plt.legend(loc='upper right')\n",
    "plt.xlabel('epoch')\n",
    "plt.ylabel('RMSE')"
   ]
  },
  {
   "cell_type": "markdown",
   "metadata": {},
   "source": [
    "### 4-2) Mini-Batch Gradient Descent"
   ]
  },
  {
   "cell_type": "markdown",
   "metadata": {},
   "source": [
    "It is mini-batch gradient descent that  𝑋  contains only a small set of randomly selected training instances.<br/>\n",
    "It is important to shuffle the order of train instances after each epochs."
   ]
  },
  {
   "cell_type": "markdown",
   "metadata": {},
   "source": [
    "Initialize  𝜃  and store the training RMSE and validation RMSE for this initialized  𝜃 ."
   ]
  },
  {
   "cell_type": "code",
   "execution_count": 18,
   "metadata": {},
   "outputs": [
    {
     "name": "stdout",
     "output_type": "stream",
     "text": [
      "RMSE of the initialized theta - train_RMSE : 237271.57, val_RMSE : 235233.63\n"
     ]
    }
   ],
   "source": [
    "theta = np.random.randn(feature_num,1)\n",
    "theta_bkp = theta # back-up the theta values\n",
    "\n",
    "GD_train_rmse = []\n",
    "GD_val_rmse = []\n",
    "\n",
    "GD_batch_train_rmse = []\n",
    "GD_batch_val_rmse = []\n",
    "\n",
    "initialized_theta_train_RMSE = RMSE_calculation(np.dot(train_X_b,theta), train_y)\n",
    "initialized_theta_val_RMSE = RMSE_calculation(np.dot(test_X_b,theta), test_y)\n",
    "\n",
    "GD_train_rmse.append(initialized_theta_train_RMSE)\n",
    "GD_val_rmse.append(initialized_theta_val_RMSE)\n",
    "GD_batch_train_rmse.append(initialized_theta_train_RMSE)\n",
    "GD_batch_val_rmse.append(initialized_theta_val_RMSE)\n",
    "\n",
    "print('RMSE of the initialized theta - train_RMSE : %.2f, val_RMSE : %.2f' %(initialized_theta_train_RMSE, initialized_theta_val_RMSE))"
   ]
  },
  {
   "cell_type": "markdown",
   "metadata": {},
   "source": [
    "Execute your mini-batch gradient descent."
   ]
  },
  {
   "cell_type": "code",
   "execution_count": 19,
   "metadata": {
    "scrolled": true
   },
   "outputs": [
    {
     "name": "stdout",
     "output_type": "stream",
     "text": [
      "0번째 train_RMSE : 178439.16, val_RMSE : 177239.04\n",
      "10번째 train_RMSE : 74492.75, val_RMSE : 75585.67\n",
      "20번째 train_RMSE : 71193.21, val_RMSE : 72567.51\n",
      "30번째 train_RMSE : 69824.71, val_RMSE : 71669.34\n",
      "40번째 train_RMSE : 69173.43, val_RMSE : 71495.85\n",
      "50번째 train_RMSE : 68843.45, val_RMSE : 71634.90\n",
      "60번째 train_RMSE : 68663.31, val_RMSE : 71880.55\n",
      "70번째 train_RMSE : 68556.49, val_RMSE : 72152.92\n",
      "80번째 train_RMSE : 68488.28, val_RMSE : 72420.26\n",
      "90번째 train_RMSE : 68441.48, val_RMSE : 72672.69\n"
     ]
    }
   ],
   "source": [
    "batch_size = 128\n",
    "n_epoch = 100\n",
    "eta = 0.001 # learning rate\n",
    "\n",
    "for epoch in range(n_epoch):\n",
    "    \n",
    "    # shuffle\n",
    "    shuffle_indices = np.random.permutation(train_num)\n",
    "    feature_shuffled = train_X_b[shuffle_indices,:]\n",
    "    target_shuffled = train_y[shuffle_indices,:]\n",
    "    \n",
    "    for i in range(0, train_num, batch_size):\n",
    "        batch_x = feature_shuffled[i:i+batch_size,:]\n",
    "        batch_y = target_shuffled[i:i+batch_size,:]\n",
    "\n",
    "        gradient = 2/batch_size * np.dot(batch_x.T , np.dot(batch_x, theta) - batch_y)\n",
    "        theta = theta - eta * gradient\n",
    "        \n",
    "        # train error after batch update \n",
    "        train_batch_predictions = np.dot(train_X_b, theta)\n",
    "        train_batch_rmse = RMSE_calculation(train_y, train_batch_predictions)\n",
    "        GD_batch_train_rmse.append(train_batch_rmse)\n",
    "        \n",
    "        # test error after batch update\n",
    "        val_batch_predictions = np.dot(test_X_b, theta)\n",
    "        val_batch_rmse = RMSE_calculation(test_y, val_batch_predictions)\n",
    "        GD_batch_val_rmse.append(val_batch_rmse)\n",
    "        \n",
    "    # train error after epoch \n",
    "    GD_train_predictions = np.dot(train_X_b, theta)\n",
    "    GD_train_final_rmse = RMSE_calculation(train_y, GD_train_predictions)\n",
    "    GD_train_rmse.append(GD_train_final_rmse)\n",
    "    \n",
    "    # val error after epoch \n",
    "    GD_val_predictions = np.dot(test_X_b, theta)\n",
    "    GD_val_final_rmse = RMSE_calculation(test_y, GD_val_predictions)\n",
    "    GD_val_rmse.append(GD_val_final_rmse)\n",
    "    \n",
    "    if epoch%10 == 0:\n",
    "        print('%d번째 train_RMSE : %.2f, val_RMSE : %.2f' %(epoch, GD_train_final_rmse, GD_val_final_rmse))"
   ]
  },
  {
   "cell_type": "markdown",
   "metadata": {},
   "source": [
    "Check for changes of RMSE as epoch increases."
   ]
  },
  {
   "cell_type": "code",
   "execution_count": 20,
   "metadata": {
    "scrolled": false
   },
   "outputs": [
    {
     "data": {
      "text/plain": [
       "Text(0, 0.5, 'RMSE')"
      ]
     },
     "execution_count": 20,
     "metadata": {},
     "output_type": "execute_result"
    },
    {
     "data": {
      "image/png": "[encoded data removed]",
      "text/plain": [
       "<Figure size 432x288 with 1 Axes>"
      ]
     },
     "metadata": {
      "needs_background": "light"
     },
     "output_type": "display_data"
    }
   ],
   "source": [
    "plt.plot(GD_train_rmse, \"r+\", linewidth=2, label=\"train\")\n",
    "plt.plot(GD_val_rmse, \"b-\", linewidth=3, label=\"val\")\n",
    "\n",
    "plt.ylim([60000, 250000])\n",
    "plt.legend(loc='upper right')\n",
    "plt.xlabel('epoch')\n",
    "plt.ylabel('RMSE')"
   ]
  },
  {
   "cell_type": "markdown",
   "metadata": {},
   "source": [
    "Check for changes of RMSE as the number of updates increases."
   ]
  },
  {
   "cell_type": "code",
   "execution_count": 21,
   "metadata": {},
   "outputs": [
    {
     "data": {
      "text/plain": [
       "Text(0, 0.5, 'RMSE')"
      ]
     },
     "execution_count": 21,
     "metadata": {},
     "output_type": "execute_result"
    },
    {
     "data": {
      "image/png": "[encoded data removed]",
      "text/plain": [
       "<Figure size 432x288 with 1 Axes>"
      ]
     },
     "metadata": {
      "needs_background": "light"
     },
     "output_type": "display_data"
    }
   ],
   "source": [
    "plt.plot(GD_batch_train_rmse, \"r+\", linewidth=2, label=\"train\")\n",
    "plt.plot(GD_batch_val_rmse, \"b-\", linewidth=3, label=\"val\")\n",
    "\n",
    "plt.ylim([60000, 250000])\n",
    "plt.xlim([0,2000])\n",
    "plt.legend(loc='upper right')\n",
    "plt.xlabel('updates')\n",
    "plt.ylabel('RMSE')"
   ]
  },
  {
   "cell_type": "markdown",
   "metadata": {},
   "source": [
    "### 4-3) Stochastic Gradient Descent"
   ]
  },
  {
   "cell_type": "markdown",
   "metadata": {},
   "source": [
    "It is stochastic gradient descent that $𝑋$ contains only one training instance selected randomly."
   ]
  },
  {
   "cell_type": "markdown",
   "metadata": {},
   "source": [
    "Initialize 𝜃 and store the training RMSE and validation RMSE for this initialized 𝜃 "
   ]
  },
  {
   "cell_type": "code",
   "execution_count": 22,
   "metadata": {},
   "outputs": [
    {
     "name": "stdout",
     "output_type": "stream",
     "text": [
      "RMSE of the initialized theta - train_RMSE : 237269.96, val_RMSE : 235231.94\n"
     ]
    }
   ],
   "source": [
    "theta = np.random.randn(feature_num,1)\n",
    "theta_bkp = theta # back-up the theta values\n",
    "\n",
    "GD_train_rmse = []\n",
    "GD_val_rmse = []\n",
    "\n",
    "GD_batch_train_rmse = []\n",
    "GD_batch_val_rmse = []\n",
    "\n",
    "initialized_theta_train_RMSE = RMSE_calculation(np.dot(train_X_b,theta), train_y)\n",
    "initialized_theta_val_RMSE = RMSE_calculation(np.dot(test_X_b,theta), test_y)\n",
    "\n",
    "GD_train_rmse.append(initialized_theta_train_RMSE)\n",
    "GD_val_rmse.append(initialized_theta_val_RMSE)\n",
    "GD_batch_train_rmse.append(initialized_theta_train_RMSE)\n",
    "GD_batch_val_rmse.append(initialized_theta_val_RMSE)\n",
    "\n",
    "print('RMSE of the initialized theta - train_RMSE : %.2f, val_RMSE : %.2f' %(initialized_theta_train_RMSE, initialized_theta_val_RMSE))"
   ]
  },
  {
   "cell_type": "markdown",
   "metadata": {},
   "source": [
    "Execute your stochastic gradient descent algorithm.<br/>"
   ]
  },
  {
   "cell_type": "code",
   "execution_count": 23,
   "metadata": {},
   "outputs": [
    {
     "name": "stdout",
     "output_type": "stream",
     "text": [
      "0번째 train_RMSE : 68571.30, val_RMSE : 75345.90\n",
      "5번째 train_RMSE : 68445.67, val_RMSE : 74307.50\n"
     ]
    },
    {
     "ename": "KeyboardInterrupt",
     "evalue": "",
     "output_type": "error",
     "traceback": [
      "\u001b[1;31m---------------------------------------------------------------------------\u001b[0m",
      "\u001b[1;31mKeyboardInterrupt\u001b[0m                         Traceback (most recent call last)",
      "\u001b[1;32m<ipython-input-23-0747119873fd>\u001b[0m in \u001b[0;36m<module>\u001b[1;34m\u001b[0m\n\u001b[0;32m     24\u001b[0m         \u001b[1;31m# train error after batch update\u001b[0m\u001b[1;33m\u001b[0m\u001b[1;33m\u001b[0m\u001b[1;33m\u001b[0m\u001b[0m\n\u001b[0;32m     25\u001b[0m         \u001b[0mtrain_batch_predictions\u001b[0m \u001b[1;33m=\u001b[0m \u001b[0mnp\u001b[0m\u001b[1;33m.\u001b[0m\u001b[0mdot\u001b[0m\u001b[1;33m(\u001b[0m\u001b[0mtrain_X_b\u001b[0m\u001b[1;33m,\u001b[0m \u001b[0mtheta\u001b[0m\u001b[1;33m)\u001b[0m\u001b[1;33m\u001b[0m\u001b[1;33m\u001b[0m\u001b[0m\n\u001b[1;32m---> 26\u001b[1;33m         \u001b[0mtrain_batch_rmse\u001b[0m \u001b[1;33m=\u001b[0m \u001b[0mRMSE_calculation\u001b[0m\u001b[1;33m(\u001b[0m\u001b[0mtrain_y\u001b[0m\u001b[1;33m,\u001b[0m \u001b[0mtrain_batch_predictions\u001b[0m\u001b[1;33m)\u001b[0m\u001b[1;33m\u001b[0m\u001b[1;33m\u001b[0m\u001b[0m\n\u001b[0m\u001b[0;32m     27\u001b[0m         \u001b[0mGD_batch_train_rmse\u001b[0m\u001b[1;33m.\u001b[0m\u001b[0mappend\u001b[0m\u001b[1;33m(\u001b[0m\u001b[0mtrain_batch_rmse\u001b[0m\u001b[1;33m)\u001b[0m\u001b[1;33m\u001b[0m\u001b[1;33m\u001b[0m\u001b[0m\n\u001b[0;32m     28\u001b[0m \u001b[1;33m\u001b[0m\u001b[0m\n",
      "\u001b[1;32m<ipython-input-11-0e42ea82fa94>\u001b[0m in \u001b[0;36mRMSE_calculation\u001b[1;34m(param1, param2)\u001b[0m\n\u001b[0;32m      1\u001b[0m \u001b[1;32mdef\u001b[0m \u001b[0mRMSE_calculation\u001b[0m\u001b[1;33m(\u001b[0m\u001b[0mparam1\u001b[0m\u001b[1;33m,\u001b[0m \u001b[0mparam2\u001b[0m\u001b[1;33m)\u001b[0m\u001b[1;33m:\u001b[0m\u001b[1;33m\u001b[0m\u001b[1;33m\u001b[0m\u001b[0m\n\u001b[1;32m----> 2\u001b[1;33m     \u001b[0mmse\u001b[0m \u001b[1;33m=\u001b[0m \u001b[0mmean_squared_error\u001b[0m\u001b[1;33m(\u001b[0m\u001b[0mparam1\u001b[0m\u001b[1;33m,\u001b[0m \u001b[0mparam2\u001b[0m\u001b[1;33m)\u001b[0m\u001b[1;33m\u001b[0m\u001b[1;33m\u001b[0m\u001b[0m\n\u001b[0m\u001b[0;32m      3\u001b[0m     \u001b[0mrmse\u001b[0m \u001b[1;33m=\u001b[0m \u001b[0mnp\u001b[0m\u001b[1;33m.\u001b[0m\u001b[0msqrt\u001b[0m\u001b[1;33m(\u001b[0m\u001b[0mmse\u001b[0m\u001b[1;33m)\u001b[0m\u001b[1;33m\u001b[0m\u001b[1;33m\u001b[0m\u001b[0m\n\u001b[0;32m      4\u001b[0m \u001b[1;33m\u001b[0m\u001b[0m\n\u001b[0;32m      5\u001b[0m     \u001b[1;32mreturn\u001b[0m \u001b[0mrmse\u001b[0m\u001b[1;33m\u001b[0m\u001b[1;33m\u001b[0m\u001b[0m\n",
      "\u001b[1;32mC:\\ProgramData\\Anaconda3\\lib\\site-packages\\sklearn\\metrics\\regression.py\u001b[0m in \u001b[0;36mmean_squared_error\u001b[1;34m(y_true, y_pred, sample_weight, multioutput)\u001b[0m\n\u001b[0;32m    237\u001b[0m     \"\"\"\n\u001b[0;32m    238\u001b[0m     y_type, y_true, y_pred, multioutput = _check_reg_targets(\n\u001b[1;32m--> 239\u001b[1;33m         y_true, y_pred, multioutput)\n\u001b[0m\u001b[0;32m    240\u001b[0m     \u001b[0mcheck_consistent_length\u001b[0m\u001b[1;33m(\u001b[0m\u001b[0my_true\u001b[0m\u001b[1;33m,\u001b[0m \u001b[0my_pred\u001b[0m\u001b[1;33m,\u001b[0m \u001b[0msample_weight\u001b[0m\u001b[1;33m)\u001b[0m\u001b[1;33m\u001b[0m\u001b[1;33m\u001b[0m\u001b[0m\n\u001b[0;32m    241\u001b[0m     output_errors = np.average((y_true - y_pred) ** 2, axis=0,\n",
      "\u001b[1;32mC:\\ProgramData\\Anaconda3\\lib\\site-packages\\sklearn\\metrics\\regression.py\u001b[0m in \u001b[0;36m_check_reg_targets\u001b[1;34m(y_true, y_pred, multioutput)\u001b[0m\n\u001b[0;32m     74\u001b[0m     \"\"\"\n\u001b[0;32m     75\u001b[0m     \u001b[0mcheck_consistent_length\u001b[0m\u001b[1;33m(\u001b[0m\u001b[0my_true\u001b[0m\u001b[1;33m,\u001b[0m \u001b[0my_pred\u001b[0m\u001b[1;33m)\u001b[0m\u001b[1;33m\u001b[0m\u001b[1;33m\u001b[0m\u001b[0m\n\u001b[1;32m---> 76\u001b[1;33m     \u001b[0my_true\u001b[0m \u001b[1;33m=\u001b[0m \u001b[0mcheck_array\u001b[0m\u001b[1;33m(\u001b[0m\u001b[0my_true\u001b[0m\u001b[1;33m,\u001b[0m \u001b[0mensure_2d\u001b[0m\u001b[1;33m=\u001b[0m\u001b[1;32mFalse\u001b[0m\u001b[1;33m)\u001b[0m\u001b[1;33m\u001b[0m\u001b[1;33m\u001b[0m\u001b[0m\n\u001b[0m\u001b[0;32m     77\u001b[0m     \u001b[0my_pred\u001b[0m \u001b[1;33m=\u001b[0m \u001b[0mcheck_array\u001b[0m\u001b[1;33m(\u001b[0m\u001b[0my_pred\u001b[0m\u001b[1;33m,\u001b[0m \u001b[0mensure_2d\u001b[0m\u001b[1;33m=\u001b[0m\u001b[1;32mFalse\u001b[0m\u001b[1;33m)\u001b[0m\u001b[1;33m\u001b[0m\u001b[1;33m\u001b[0m\u001b[0m\n\u001b[0;32m     78\u001b[0m \u001b[1;33m\u001b[0m\u001b[0m\n",
      "\u001b[1;32mC:\\ProgramData\\Anaconda3\\lib\\site-packages\\sklearn\\utils\\validation.py\u001b[0m in \u001b[0;36mcheck_array\u001b[1;34m(array, accept_sparse, accept_large_sparse, dtype, order, copy, force_all_finite, ensure_2d, allow_nd, ensure_min_samples, ensure_min_features, warn_on_dtype, estimator)\u001b[0m\n\u001b[0;32m    571\u001b[0m         \u001b[1;32mif\u001b[0m \u001b[0mforce_all_finite\u001b[0m\u001b[1;33m:\u001b[0m\u001b[1;33m\u001b[0m\u001b[1;33m\u001b[0m\u001b[0m\n\u001b[0;32m    572\u001b[0m             _assert_all_finite(array,\n\u001b[1;32m--> 573\u001b[1;33m                                allow_nan=force_all_finite == 'allow-nan')\n\u001b[0m\u001b[0;32m    574\u001b[0m \u001b[1;33m\u001b[0m\u001b[0m\n\u001b[0;32m    575\u001b[0m     \u001b[0mshape_repr\u001b[0m \u001b[1;33m=\u001b[0m \u001b[0m_shape_repr\u001b[0m\u001b[1;33m(\u001b[0m\u001b[0marray\u001b[0m\u001b[1;33m.\u001b[0m\u001b[0mshape\u001b[0m\u001b[1;33m)\u001b[0m\u001b[1;33m\u001b[0m\u001b[1;33m\u001b[0m\u001b[0m\n",
      "\u001b[1;32mC:\\ProgramData\\Anaconda3\\lib\\site-packages\\sklearn\\utils\\validation.py\u001b[0m in \u001b[0;36m_assert_all_finite\u001b[1;34m(X, allow_nan)\u001b[0m\n\u001b[0;32m     47\u001b[0m     \u001b[1;31m# false positives from overflow in sum method.\u001b[0m\u001b[1;33m\u001b[0m\u001b[1;33m\u001b[0m\u001b[1;33m\u001b[0m\u001b[0m\n\u001b[0;32m     48\u001b[0m     \u001b[0mis_float\u001b[0m \u001b[1;33m=\u001b[0m \u001b[0mX\u001b[0m\u001b[1;33m.\u001b[0m\u001b[0mdtype\u001b[0m\u001b[1;33m.\u001b[0m\u001b[0mkind\u001b[0m \u001b[1;32min\u001b[0m \u001b[1;34m'fc'\u001b[0m\u001b[1;33m\u001b[0m\u001b[1;33m\u001b[0m\u001b[0m\n\u001b[1;32m---> 49\u001b[1;33m     \u001b[1;32mif\u001b[0m \u001b[0mis_float\u001b[0m \u001b[1;32mand\u001b[0m \u001b[0mnp\u001b[0m\u001b[1;33m.\u001b[0m\u001b[0misfinite\u001b[0m\u001b[1;33m(\u001b[0m\u001b[0mX\u001b[0m\u001b[1;33m.\u001b[0m\u001b[0msum\u001b[0m\u001b[1;33m(\u001b[0m\u001b[1;33m)\u001b[0m\u001b[1;33m)\u001b[0m\u001b[1;33m:\u001b[0m\u001b[1;33m\u001b[0m\u001b[1;33m\u001b[0m\u001b[0m\n\u001b[0m\u001b[0;32m     50\u001b[0m         \u001b[1;32mpass\u001b[0m\u001b[1;33m\u001b[0m\u001b[1;33m\u001b[0m\u001b[0m\n\u001b[0;32m     51\u001b[0m     \u001b[1;32melif\u001b[0m \u001b[0mis_float\u001b[0m\u001b[1;33m:\u001b[0m\u001b[1;33m\u001b[0m\u001b[1;33m\u001b[0m\u001b[0m\n",
      "\u001b[1;32mC:\\ProgramData\\Anaconda3\\lib\\site-packages\\numpy\\core\\_methods.py\u001b[0m in \u001b[0;36m_sum\u001b[1;34m(a, axis, dtype, out, keepdims, initial)\u001b[0m\n\u001b[0;32m     34\u001b[0m def _sum(a, axis=None, dtype=None, out=None, keepdims=False,\n\u001b[0;32m     35\u001b[0m          initial=_NoValue):\n\u001b[1;32m---> 36\u001b[1;33m     \u001b[1;32mreturn\u001b[0m \u001b[0mumr_sum\u001b[0m\u001b[1;33m(\u001b[0m\u001b[0ma\u001b[0m\u001b[1;33m,\u001b[0m \u001b[0maxis\u001b[0m\u001b[1;33m,\u001b[0m \u001b[0mdtype\u001b[0m\u001b[1;33m,\u001b[0m \u001b[0mout\u001b[0m\u001b[1;33m,\u001b[0m \u001b[0mkeepdims\u001b[0m\u001b[1;33m,\u001b[0m \u001b[0minitial\u001b[0m\u001b[1;33m)\u001b[0m\u001b[1;33m\u001b[0m\u001b[1;33m\u001b[0m\u001b[0m\n\u001b[0m\u001b[0;32m     37\u001b[0m \u001b[1;33m\u001b[0m\u001b[0m\n\u001b[0;32m     38\u001b[0m def _prod(a, axis=None, dtype=None, out=None, keepdims=False,\n",
      "\u001b[1;31mKeyboardInterrupt\u001b[0m: "
     ]
    }
   ],
   "source": [
    "######################## Q1. ##################################\n",
    "#  TO DO : Fill in the blank with your stochastic gradient descent code.\n",
    "# set the hyper-parameters as follows.\n",
    "# parameters setting : batch size = 1 , epoch = 50 , learning rate = 0.001\n",
    "\n",
    "batch_size = 1\n",
    "n_epoch = 50\n",
    "eta = 0.001 # learning rate\n",
    "\n",
    "for epoch in range(n_epoch):\n",
    "    \n",
    "    # shuffle\n",
    "    shuffle_indices = np.random.permutation(train_num)\n",
    "    feature_shuffled = train_X_b[shuffle_indices,:]\n",
    "    target_shuffled = train_y[shuffle_indices,:]\n",
    "    \n",
    "    for i in range(0, train_num, batch_size):\n",
    "        batch_x = feature_shuffled[i:i+batch_size,:]\n",
    "        batch_y = target_shuffled[i:i+batch_size,:]\n",
    "\n",
    "        gradient = 2/batch_size * np.dot(batch_x.T , np.dot(batch_x, theta) - batch_y)\n",
    "        theta = theta - eta * gradient\n",
    "        \n",
    "        # train error after batch update \n",
    "        train_batch_predictions = np.dot(train_X_b, theta)\n",
    "        train_batch_rmse = RMSE_calculation(train_y, train_batch_predictions)\n",
    "        GD_batch_train_rmse.append(train_batch_rmse)\n",
    "        \n",
    "        # test error after batch update\n",
    "        val_batch_predictions = np.dot(test_X_b, theta)\n",
    "        val_batch_rmse = RMSE_calculation(test_y, val_batch_predictions)\n",
    "        GD_batch_val_rmse.append(val_batch_rmse)\n",
    "        \n",
    "    # train error after epoch \n",
    "    GD_train_predictions = np.dot(train_X_b, theta)\n",
    "    GD_train_final_rmse = RMSE_calculation(train_y, GD_train_predictions)\n",
    "    GD_train_rmse.append(GD_train_final_rmse)\n",
    "    \n",
    "    # val error after epoch \n",
    "    GD_val_predictions = np.dot(test_X_b, theta)\n",
    "    GD_val_final_rmse = RMSE_calculation(test_y, GD_val_predictions)\n",
    "    GD_val_rmse.append(GD_val_final_rmse)\n",
    "    \n",
    "    if epoch%5 == 0:\n",
    "        print('%d번째 train_RMSE : %.2f, val_RMSE : %.2f' %(epoch, GD_train_final_rmse, GD_val_final_rmse))\n",
    "\n",
    "\n",
    "\n",
    "\n",
    "\n",
    "\n",
    "\n",
    "\n",
    "\n",
    "\n",
    "\n",
    "\n",
    "\n",
    "\n",
    "\n",
    "\n",
    "    \n",
    "    ######################## Q2. ##################################\n",
    "    \n",
    "    \n",
    "    ##############################################################\n",
    "    \n",
    "    \n",
    "    \n",
    "##############################################################"
   ]
  },
  {
   "cell_type": "code",
   "execution_count": null,
   "metadata": {},
   "outputs": [],
   "source": [
    "plt.plot(GD_train_rmse, \"r+\", linewidth=2, label=\"train\")\n",
    "plt.plot(GD_val_rmse, \"b-\", linewidth=3, label=\"val\")\n",
    "\n",
    "plt.ylim([60000, 250000])\n",
    "plt.legend(loc='upper right')\n",
    "plt.xlabel('epoch')\n",
    "plt.ylabel('RMSE')"
   ]
  },
  {
   "cell_type": "code",
   "execution_count": null,
   "metadata": {},
   "outputs": [],
   "source": [
    "######################## Q4. ##################################\n",
    "# TO DO : plot the learning curve of each updates.\n",
    "\n",
    "\n",
    "\n",
    "\n",
    "\n",
    "##############################################################"
   ]
  },
  {
   "cell_type": "markdown",
   "metadata": {},
   "source": [
    "### 4-4) Stochastic Gradient Descent using SGDRegressor"
   ]
  },
  {
   "cell_type": "markdown",
   "metadata": {},
   "source": [
    "Scikit-Learn provides a function for stochastic gradient descent, SGDRegressor().<br/>\n",
    "SGDRegressor() has 2 methods, 'fit()' and 'partial_fit()'. <br/>\n",
    "If you use 'fit()' method, you can check the RMSE after total epoches. In the case of 'partial_fit()' method, you can check the RMSE of each epoch.<br/>\n",
    "To plot the changes of RMSE depending on each epoch, please use 'partial_fit()' method.<br/>\n",
    "\n",
    "reference : https://scikit-learn.org/stable/modules/generated/sklearn.linear_model.SGDRegressor.html"
   ]
  },
  {
   "cell_type": "code",
   "execution_count": 24,
   "metadata": {},
   "outputs": [
    {
     "name": "stdout",
     "output_type": "stream",
     "text": [
      "RMSE of the initialized theta - train_RMSE : 237269.96, val_RMSE : 235231.94\n"
     ]
    }
   ],
   "source": [
    "SGDfunc_train_rmse = []\n",
    "SGDfunc_val_rmse = []\n",
    "\n",
    "SGDfunc_initialized_theta_train_RMSE = RMSE_calculation(np.dot(train_X_b,theta_bkp), train_y)\n",
    "SGDfunc_initialized_theta_val_RMSE = RMSE_calculation(np.dot(test_X_b,theta_bkp), test_y)\n",
    "\n",
    "SGDfunc_train_rmse.append(SGDfunc_initialized_theta_train_RMSE)\n",
    "SGDfunc_val_rmse.append(SGDfunc_initialized_theta_val_RMSE)\n",
    "\n",
    "\n",
    "print('RMSE of the initialized theta - train_RMSE : %.2f, val_RMSE : %.2f' \n",
    "      %(SGDfunc_initialized_theta_train_RMSE, SGDfunc_initialized_theta_val_RMSE))"
   ]
  },
  {
   "cell_type": "markdown",
   "metadata": {},
   "source": [
    "Fill in the blanks with your code."
   ]
  },
  {
   "cell_type": "code",
   "execution_count": 25,
   "metadata": {
    "scrolled": false
   },
   "outputs": [
    {
     "name": "stdout",
     "output_type": "stream",
     "text": [
      "0번째 train_RMSE : 68666.62, val_RMSE : 72552.36\n",
      "5번째 train_RMSE : 69520.61, val_RMSE : 81171.99\n",
      "10번째 train_RMSE : 68832.79, val_RMSE : 78009.35\n",
      "15번째 train_RMSE : 68340.17, val_RMSE : 75920.35\n",
      "20번째 train_RMSE : 68338.11, val_RMSE : 74759.61\n",
      "25번째 train_RMSE : 68425.77, val_RMSE : 75246.62\n",
      "30번째 train_RMSE : 68449.08, val_RMSE : 74249.04\n",
      "35번째 train_RMSE : 68565.52, val_RMSE : 74607.80\n",
      "40번째 train_RMSE : 68480.39, val_RMSE : 73915.87\n",
      "45번째 train_RMSE : 68494.63, val_RMSE : 73707.04\n"
     ]
    }
   ],
   "source": [
    "######################## Q1. ##################################\n",
    "#  TO DO : import SGDRegressor() function.\n",
    "from sklearn.linear_model import SGDRegressor\n",
    "\n",
    "##############################################################\n",
    "\n",
    "\n",
    "\n",
    "######################## Q2. ##################################\n",
    "# TO DO : set the number of n_epoch to 50\n",
    "n_epoch = 50\n",
    "##############################################################\n",
    "\n",
    "\n",
    "\n",
    "######################## Q3. ##################################\n",
    "# TO DO : set the parameters of SGDRegressor() as follows.\n",
    "# parameters setting : penalty='none', learning_rate='constant', eta0=0.001\n",
    "\n",
    "SGD_model = SGDRegressor(penalty='none', learning_rate='constant', eta0=0.001)\n",
    "##############################################################\n",
    "\n",
    "\n",
    "for epoch in range(n_epoch):   \n",
    "    ######################## Q4. ##################################\n",
    "    # TO DO : execute 'partial_fit()' method.\n",
    "    SGD_model.partial_fit(train_set_features, train_set_target)\n",
    "    ##############################################################\n",
    "    \n",
    "    # train error\n",
    "    SGD_train_predictions = SGD_model.predict(train_set_features)\n",
    "    SGD_train_final_rmse = RMSE_calculation(SGD_train_predictions, train_set_target)\n",
    "    SGDfunc_train_rmse.append(SGD_train_final_rmse)\n",
    "    \n",
    "    # val error\n",
    "    SGD_val_predictions = SGD_model.predict(test_set_features)\n",
    "    SGD_val_final_rmse = RMSE_calculation(SGD_val_predictions, test_set_target)\n",
    "    SGDfunc_val_rmse.append(SGD_val_final_rmse)\n",
    "    \n",
    "    if epoch%5 == 0:\n",
    "           print('%d번째 train_RMSE : %.2f, val_RMSE : %.2f' %(epoch, SGD_train_final_rmse, SGD_val_final_rmse))\n",
    "\n",
    "    # command to hide the warning box\n",
    "    import warnings\n",
    "    warnings.filterwarnings(action = 'ignore')\n"
   ]
  },
  {
   "cell_type": "code",
   "execution_count": 28,
   "metadata": {},
   "outputs": [
    {
     "data": {
      "text/plain": [
       "Text(0, 0.5, 'RMSE')"
      ]
     },
     "execution_count": 28,
     "metadata": {},
     "output_type": "execute_result"
    },
    {
     "data": {
      "image/png": "[encoded data removed]",
      "text/plain": [
       "<Figure size 432x288 with 1 Axes>"
      ]
     },
     "metadata": {
      "needs_background": "light"
     },
     "output_type": "display_data"
    }
   ],
   "source": [
    "######################## Q5. ##################################\n",
    "# TO DO : plot the learning curve as epoch changes.\n",
    "\n",
    "plt.plot(SGDfunc_train_rmse, \"r+\", linewidth=2, label=\"train\")\n",
    "plt.plot(SGDfunc_val_rmse, \"b-\", linewidth=3, label=\"val\")\n",
    "\n",
    "plt.ylim([60000, 250000])\n",
    "plt.legend(loc='upper right')\n",
    "plt.xlabel('epoch')\n",
    "plt.ylabel('RMSE')\n",
    "\n",
    "\n",
    "##############################################################"
   ]
  }
 ],
 "metadata": {
  "kernelspec": {
   "display_name": "Python 3",
   "language": "python",
   "name": "python3"
  },
  "language_info": {
   "codemirror_mode": {
    "name": "ipython",
    "version": 3
   },
   "file_extension": ".py",
   "mimetype": "text/x-python",
   "name": "python",
   "nbconvert_exporter": "python",
   "pygments_lexer": "ipython3",
   "version": "3.7.1"
  },
  "nav_menu": {
   "height": "279px",
   "width": "309px"
  },
  "toc": {
   "nav_menu": {},
   "number_sections": true,
   "sideBar": true,
   "skip_h1_title": false,
   "toc_cell": false,
   "toc_position": {},
   "toc_section_display": "block",
   "toc_window_display": false
  }
 },
 "nbformat": 4,
 "nbformat_minor": 1
}
