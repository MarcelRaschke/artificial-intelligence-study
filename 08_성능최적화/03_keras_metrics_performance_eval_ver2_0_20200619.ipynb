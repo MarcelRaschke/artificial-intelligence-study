{
  "nbformat": 4,
  "nbformat_minor": 0,
  "metadata": {
    "colab": {
      "name": "keras-metrics_performance-eval_ver2.0_20200618.ipynb",
      "provenance": [],
      "collapsed_sections": [],
      "machine_shape": "hm"
    },
    "kernelspec": {
      "name": "python3",
      "display_name": "Python 3"
    },
    "accelerator": "GPU"
  },
  "cells": [
    {
      "cell_type": "code",
      "metadata": {
        "id": "yhaIervSvpzt",
        "colab_type": "code",
        "colab": {}
      },
      "source": [
        "##################################################\n",
        "# 1. keras 엔진을 활용하여 precision, recall 계산\n",
        "##################################################"
      ],
      "execution_count": 1,
      "outputs": []
    },
    {
      "cell_type": "code",
      "metadata": {
        "id": "thpGK39PEFK3",
        "colab_type": "code",
        "colab": {
          "base_uri": "https://localhost:8080/",
          "height": 35
        },
        "outputId": "a9c871d8-8550-41aa-8ac5-7addb3e49f3b"
      },
      "source": [
        "#http://blog.naver.com/PostView.nhn?blogId=wideeyed&logNo=221226716255\n",
        "#1. keras metrics로 precision,recall custom정의\n",
        "from keras import backend as K\n",
        "def recall(y_target, y_pred):\n",
        "    # clip(t, clip_value_min, clip_value_max) : clip_value_min~clip_value_max 이외 가장자리를 깎아 낸다\n",
        "    # round : 반올림한다\n",
        "    y_target_yn = K.round(K.clip(y_target, 0, 1)) # 실제값을 0(Negative) 또는 1(Positive)로 설정한다\n",
        "    y_pred_yn = K.round(K.clip(y_pred, 0, 1)) # 예측값을 0(Negative) 또는 1(Positive)로 설정한다\n",
        "\n",
        "    # True Positive는 실제 값과 예측 값이 모두 1(Positive)인 경우이다\n",
        "    count_true_positive = K.sum(y_target_yn * y_pred_yn) \n",
        "\n",
        "    # (True Positive + False Negative) = 실제 값이 1(Positive) 전체\n",
        "    count_true_positive_false_negative = K.sum(y_target_yn)\n",
        "\n",
        "    # Recall =  (True Positive) / (True Positive + False Negative)\n",
        "    # K.epsilon()는 'divide by zero error' 예방차원에서 작은 수를 더한다\n",
        "    recall = count_true_positive / (count_true_positive_false_negative + K.epsilon())\n",
        "\n",
        "    # return a single tensor value\n",
        "    return recall\n",
        "\n",
        "def precision(y_target, y_pred):\n",
        "    # clip(t, clip_value_min, clip_value_max) : clip_value_min~clip_value_max 이외 가장자리를 깎아 낸다\n",
        "    # round : 반올림한다\n",
        "    y_pred_yn = K.round(K.clip(y_pred, 0, 1)) # 예측값을 0(Negative) 또는 1(Positive)로 설정한다\n",
        "    y_target_yn = K.round(K.clip(y_target, 0, 1)) # 실제값을 0(Negative) 또는 1(Positive)로 설정한다\n",
        "\n",
        "    # True Positive는 실제 값과 예측 값이 모두 1(Positive)인 경우이다\n",
        "    count_true_positive = K.sum(y_target_yn * y_pred_yn) \n",
        "\n",
        "    # (True Positive + False Positive) = 예측 값이 1(Positive) 전체\n",
        "    count_true_positive_false_positive = K.sum(y_pred_yn)\n",
        "\n",
        "    # Precision = (True Positive) / (True Positive + False Positive)\n",
        "    # K.epsilon()는 'divide by zero error' 예방차원에서 작은 수를 더한다\n",
        "    precision = count_true_positive / (count_true_positive_false_positive + K.epsilon())\n",
        "\n",
        "    # return a single tensor value\n",
        "    return precision\n",
        "\n",
        "def f1score(y_target, y_pred):\n",
        "    _recall = recall(y_target, y_pred)\n",
        "    _precision = precision(y_target, y_pred)\n",
        "    # K.epsilon()는 'divide by zero error' 예방차원에서 작은 수를 더한다\n",
        "    _f1score = ( 2 * _recall * _precision) / (_recall + _precision+ K.epsilon())\n",
        "    \n",
        "    # return a single tensor value\n",
        "    return _f1score"
      ],
      "execution_count": 2,
      "outputs": [
        {
          "output_type": "stream",
          "text": [
            "Using TensorFlow backend.\n"
          ],
          "name": "stderr"
        }
      ]
    },
    {
      "cell_type": "code",
      "metadata": {
        "id": "27ntMs4KndXR",
        "colab_type": "code",
        "colab": {
          "base_uri": "https://localhost:8080/",
          "height": 89
        },
        "outputId": "77cec03c-4f9d-4fe0-9c1c-4434713d9c2c"
      },
      "source": [
        "#https://keras.io/examples/mnist_cnn/\n",
        "from __future__ import print_function\n",
        "import keras\n",
        "from keras.datasets import mnist\n",
        "from keras.models import Sequential\n",
        "from keras.layers import Dense, Dropout, Flatten\n",
        "from keras.layers import Conv2D, MaxPooling2D\n",
        "from keras import backend as K\n",
        "\n",
        "batch_size = 128\n",
        "num_classes = 10\n",
        "epochs = 12\n",
        "\n",
        "# input image dimensions\n",
        "img_rows, img_cols = 28, 28\n",
        "\n",
        "# the data, split between train and test sets\n",
        "(x_train, y_train), (x_test, y_test) = mnist.load_data()\n",
        "\n",
        "if K.image_data_format() == 'channels_first':\n",
        "    x_train = x_train.reshape(x_train.shape[0], 1, img_rows, img_cols)\n",
        "    x_test = x_test.reshape(x_test.shape[0], 1, img_rows, img_cols)\n",
        "    input_shape = (1, img_rows, img_cols)\n",
        "else:\n",
        "    x_train = x_train.reshape(x_train.shape[0], img_rows, img_cols, 1)\n",
        "    x_test = x_test.reshape(x_test.shape[0], img_rows, img_cols, 1)\n",
        "    input_shape = (img_rows, img_cols, 1)\n",
        "print('input_shape:', input_shape)\n",
        "\n",
        "x_train = x_train.astype('float32')\n",
        "x_test = x_test.astype('float32')\n",
        "x_train /= 255\n",
        "x_test /= 255\n",
        "print('x_train shape:', x_train.shape)\n",
        "print(x_train.shape[0], 'train samples')\n",
        "print(x_test.shape[0], 'test samples')\n",
        "\n",
        "# convert class vectors to binary class matrices\n",
        "y_train = keras.utils.to_categorical(y_train, num_classes)\n",
        "y_test_cate = keras.utils.to_categorical(y_test, num_classes)"
      ],
      "execution_count": 3,
      "outputs": [
        {
          "output_type": "stream",
          "text": [
            "input_shape: (28, 28, 1)\n",
            "x_train shape: (60000, 28, 28, 1)\n",
            "60000 train samples\n",
            "10000 test samples\n"
          ],
          "name": "stdout"
        }
      ]
    },
    {
      "cell_type": "code",
      "metadata": {
        "id": "PULwDuFyn28d",
        "colab_type": "code",
        "colab": {
          "base_uri": "https://localhost:8080/",
          "height": 505
        },
        "outputId": "38c65ed8-9c58-4107-9be1-93ae5a3921dd"
      },
      "source": [
        "model = Sequential()\n",
        "model.add(Conv2D(32, kernel_size=(3, 3),\n",
        "                 activation='relu',\n",
        "                 input_shape=input_shape))\n",
        "model.add(Conv2D(64, (3, 3), activation='relu'))\n",
        "model.add(MaxPooling2D(pool_size=(2, 2)))\n",
        "model.add(Dropout(0.25))\n",
        "model.add(Flatten())\n",
        "model.add(Dense(128, activation='relu'))\n",
        "model.add(Dropout(0.5))\n",
        "model.add(Dense(num_classes, activation='softmax'))\n",
        "\n",
        "#model.compile(loss=keras.losses.categorical_crossentropy,optimizer=keras.optimizers.Adadelta(), metrics=['accuracy'])\n",
        "model.compile(optimizer=keras.optimizers.Adadelta(), loss=keras.losses.categorical_crossentropy, metrics=['accuracy', precision, recall, f1score])\n",
        "\n",
        "model.fit(x_train, y_train,\n",
        "          batch_size=batch_size,\n",
        "          epochs=epochs,\n",
        "          verbose=1,\n",
        "          validation_data=(x_test, y_test_cate))\n",
        "\n",
        "#score = model.evaluate(x_test, y_test_cate, verbose=0)\n",
        "#print('Test loss:', score[0])\n",
        "#print('Test accuracy:', score[1])\n",
        "\n",
        "_loss, _acc, _precision, _recall, _f1score = model.evaluate(x_test, y_test_cate, verbose=0)\n",
        "print('loss: {:.3f}, accuracy: {:.3f}, precision: {:.3f}, recall: {:.3f}, f1score: {:.3f}'.format(_loss, _acc, _precision, _recall, _f1score))\n"
      ],
      "execution_count": 4,
      "outputs": [
        {
          "output_type": "stream",
          "text": [
            "Train on 60000 samples, validate on 10000 samples\n",
            "Epoch 1/12\n",
            "60000/60000 [==============================] - 5s 84us/step - loss: 0.2703 - accuracy: 0.9172 - precision: 0.9370 - recall: 0.8908 - f1score: 0.9086 - val_loss: 0.0570 - val_accuracy: 0.9815 - val_precision: 0.9843 - val_recall: 0.9791 - val_f1score: 0.9817\n",
            "Epoch 2/12\n",
            "60000/60000 [==============================] - 3s 58us/step - loss: 0.0915 - accuracy: 0.9731 - precision: 0.9779 - recall: 0.9696 - f1score: 0.9737 - val_loss: 0.0438 - val_accuracy: 0.9857 - val_precision: 0.9883 - val_recall: 0.9838 - val_f1score: 0.9860\n",
            "Epoch 3/12\n",
            "60000/60000 [==============================] - 3s 58us/step - loss: 0.0680 - accuracy: 0.9801 - precision: 0.9829 - recall: 0.9776 - f1score: 0.9802 - val_loss: 0.0335 - val_accuracy: 0.9884 - val_precision: 0.9899 - val_recall: 0.9877 - val_f1score: 0.9888\n",
            "Epoch 4/12\n",
            "60000/60000 [==============================] - 3s 57us/step - loss: 0.0555 - accuracy: 0.9835 - precision: 0.9858 - recall: 0.9815 - f1score: 0.9836 - val_loss: 0.0347 - val_accuracy: 0.9890 - val_precision: 0.9906 - val_recall: 0.9874 - val_f1score: 0.9890\n",
            "Epoch 5/12\n",
            "60000/60000 [==============================] - 3s 58us/step - loss: 0.0483 - accuracy: 0.9852 - precision: 0.9876 - recall: 0.9837 - f1score: 0.9856 - val_loss: 0.0347 - val_accuracy: 0.9885 - val_precision: 0.9897 - val_recall: 0.9875 - val_f1score: 0.9886\n",
            "Epoch 6/12\n",
            "60000/60000 [==============================] - 4s 59us/step - loss: 0.0444 - accuracy: 0.9867 - precision: 0.9883 - recall: 0.9853 - f1score: 0.9868 - val_loss: 0.0303 - val_accuracy: 0.9895 - val_precision: 0.9903 - val_recall: 0.9890 - val_f1score: 0.9897\n",
            "Epoch 7/12\n",
            "60000/60000 [==============================] - 3s 58us/step - loss: 0.0380 - accuracy: 0.9882 - precision: 0.9895 - recall: 0.9869 - f1score: 0.9882 - val_loss: 0.0329 - val_accuracy: 0.9895 - val_precision: 0.9907 - val_recall: 0.9882 - val_f1score: 0.9894\n",
            "Epoch 8/12\n",
            "60000/60000 [==============================] - 3s 58us/step - loss: 0.0353 - accuracy: 0.9897 - precision: 0.9909 - recall: 0.9887 - f1score: 0.9898 - val_loss: 0.0263 - val_accuracy: 0.9912 - val_precision: 0.9920 - val_recall: 0.9909 - val_f1score: 0.9914\n",
            "Epoch 9/12\n",
            "60000/60000 [==============================] - 3s 58us/step - loss: 0.0335 - accuracy: 0.9899 - precision: 0.9912 - recall: 0.9889 - f1score: 0.9900 - val_loss: 0.0295 - val_accuracy: 0.9903 - val_precision: 0.9915 - val_recall: 0.9897 - val_f1score: 0.9906\n",
            "Epoch 10/12\n",
            "60000/60000 [==============================] - 3s 57us/step - loss: 0.0289 - accuracy: 0.9912 - precision: 0.9920 - recall: 0.9904 - f1score: 0.9912 - val_loss: 0.0286 - val_accuracy: 0.9909 - val_precision: 0.9919 - val_recall: 0.9905 - val_f1score: 0.9912\n",
            "Epoch 11/12\n",
            "60000/60000 [==============================] - 3s 58us/step - loss: 0.0282 - accuracy: 0.9911 - precision: 0.9920 - recall: 0.9903 - f1score: 0.9912 - val_loss: 0.0276 - val_accuracy: 0.9914 - val_precision: 0.9921 - val_recall: 0.9906 - val_f1score: 0.9913\n",
            "Epoch 12/12\n",
            "60000/60000 [==============================] - 3s 58us/step - loss: 0.0270 - accuracy: 0.9916 - precision: 0.9924 - recall: 0.9909 - f1score: 0.9917 - val_loss: 0.0283 - val_accuracy: 0.9919 - val_precision: 0.9924 - val_recall: 0.9917 - val_f1score: 0.9920\n",
            "loss: 0.028, accuracy: 0.992, precision: 0.992, recall: 0.992, f1score: 0.992\n"
          ],
          "name": "stdout"
        }
      ]
    },
    {
      "cell_type": "code",
      "metadata": {
        "id": "QJogWxRq5s4e",
        "colab_type": "code",
        "colab": {
          "base_uri": "https://localhost:8080/",
          "height": 449
        },
        "outputId": "eee4f367-2a33-49b2-d3ce-d4053d1c5a69"
      },
      "source": [
        "model.summary()"
      ],
      "execution_count": 6,
      "outputs": [
        {
          "output_type": "stream",
          "text": [
            "Model: \"sequential_1\"\n",
            "_________________________________________________________________\n",
            "Layer (type)                 Output Shape              Param #   \n",
            "=================================================================\n",
            "conv2d_1 (Conv2D)            (None, 26, 26, 32)        320       \n",
            "_________________________________________________________________\n",
            "conv2d_2 (Conv2D)            (None, 24, 24, 64)        18496     \n",
            "_________________________________________________________________\n",
            "max_pooling2d_1 (MaxPooling2 (None, 12, 12, 64)        0         \n",
            "_________________________________________________________________\n",
            "dropout_1 (Dropout)          (None, 12, 12, 64)        0         \n",
            "_________________________________________________________________\n",
            "flatten_1 (Flatten)          (None, 9216)              0         \n",
            "_________________________________________________________________\n",
            "dense_1 (Dense)              (None, 128)               1179776   \n",
            "_________________________________________________________________\n",
            "dropout_2 (Dropout)          (None, 128)               0         \n",
            "_________________________________________________________________\n",
            "dense_2 (Dense)              (None, 10)                1290      \n",
            "=================================================================\n",
            "Total params: 1,199,882\n",
            "Trainable params: 1,199,882\n",
            "Non-trainable params: 0\n",
            "_________________________________________________________________\n"
          ],
          "name": "stdout"
        }
      ]
    },
    {
      "cell_type": "code",
      "metadata": {
        "id": "4kqxlPh54B7Z",
        "colab_type": "code",
        "colab": {
          "base_uri": "https://localhost:8080/",
          "height": 89
        },
        "outputId": "b9ef57fe-c006-413c-ea14-f497ad032a62"
      },
      "source": [
        "#수동검증\n",
        "import numpy as np\n",
        "print(x_test[0].shape)\n",
        "print(np.array([x_test[0]]).shape)\n",
        "pre_result =  model.predict(np.array([x_test[0]]))\n",
        "print(np.argmax(pre_result, axis=-1))\n",
        "print(y_test[0])"
      ],
      "execution_count": 17,
      "outputs": [
        {
          "output_type": "stream",
          "text": [
            "(28, 28, 1)\n",
            "(1, 28, 28, 1)\n",
            "[7]\n",
            "7\n"
          ],
          "name": "stdout"
        }
      ]
    },
    {
      "cell_type": "code",
      "metadata": {
        "id": "6dl_EZW2tRuS",
        "colab_type": "code",
        "colab": {
          "base_uri": "https://localhost:8080/",
          "height": 269
        },
        "outputId": "429a1398-74f7-46fd-a9e6-d99df142b4a8"
      },
      "source": [
        "#라벨별 건수(분포) 확인\n",
        "import pandas as pd\n",
        "\n",
        "print('y_test.shape:', y_test.shape)\n",
        "df = pd.DataFrame({\"num\":y_test, \"data\":y_test})\n",
        "print('df.shape:', df.shape)\n",
        "#print(df)\n",
        "print(df.groupby(\"num\").count())"
      ],
      "execution_count": 18,
      "outputs": [
        {
          "output_type": "stream",
          "text": [
            "y_test.shape: (10000,)\n",
            "df.shape: (10000, 2)\n",
            "     data\n",
            "num      \n",
            "0     980\n",
            "1    1135\n",
            "2    1032\n",
            "3    1010\n",
            "4     982\n",
            "5     892\n",
            "6     958\n",
            "7    1028\n",
            "8     974\n",
            "9    1009\n"
          ],
          "name": "stdout"
        }
      ]
    },
    {
      "cell_type": "code",
      "metadata": {
        "id": "ehr5U7HKv01J",
        "colab_type": "code",
        "colab": {}
      },
      "source": [
        "##############################################################\n",
        "# 2. sklearn 패키지를 이용하여 precision, recall, roc/auc 확인\n",
        "##############################################################"
      ],
      "execution_count": null,
      "outputs": []
    },
    {
      "cell_type": "code",
      "metadata": {
        "id": "EWzVkhJjFYCP",
        "colab_type": "code",
        "colab": {
          "base_uri": "https://localhost:8080/",
          "height": 179
        },
        "outputId": "2f8be27d-37a7-413f-e657-3b87a4a9700f"
      },
      "source": [
        "#https://datascienceschool.net/view-notebook/731e0d2ef52c41c686ba53dcaf346f32/\n",
        "#2-1. (binary class) sklearn 패키지로 좀더 친절하게 수치출력 및 표시\n",
        "from sklearn.metrics import classification_report\n",
        "\n",
        "y_true = [0, 0, 0, 1, 1, 0, 0]\n",
        "y_pred = [0, 0, 0, 0, 1, 1, 1]\n",
        "\n",
        "print(classification_report(y_true, y_pred, target_names=['class 0', 'class 1']))"
      ],
      "execution_count": 19,
      "outputs": [
        {
          "output_type": "stream",
          "text": [
            "              precision    recall  f1-score   support\n",
            "\n",
            "     class 0       0.75      0.60      0.67         5\n",
            "     class 1       0.33      0.50      0.40         2\n",
            "\n",
            "    accuracy                           0.57         7\n",
            "   macro avg       0.54      0.55      0.53         7\n",
            "weighted avg       0.63      0.57      0.59         7\n",
            "\n"
          ],
          "name": "stdout"
        }
      ]
    },
    {
      "cell_type": "code",
      "metadata": {
        "id": "BUT5wI-nFgCN",
        "colab_type": "code",
        "colab": {
          "base_uri": "https://localhost:8080/",
          "height": 53
        },
        "outputId": "d984f305-4189-426f-ca12-2cee30332a77"
      },
      "source": [
        "from sklearn.datasets import make_classification\n",
        "from sklearn.linear_model import LogisticRegression\n",
        "from sklearn.metrics import confusion_matrix\n",
        "import pandas as pd\n",
        "import numpy as np\n",
        "\n",
        "X, y = make_classification(n_samples=16, n_features=2,\n",
        "                           n_informative=2, n_redundant=0,\n",
        "                           random_state=0)\n",
        "\n",
        "L_model = LogisticRegression().fit(X, y)\n",
        "y_hat = L_model.predict(X)\n",
        "f_value = L_model.decision_function(X)\n",
        "\n",
        "df = pd.DataFrame(np.vstack([f_value, y_hat, y]).T, columns=[\"f\", \"y_hat\", \"y\"])\n",
        "df.sort_values(\"f\", ascending=False).reset_index(drop=True)\n",
        "\n",
        "c_matrix = confusion_matrix(y, y_hat, labels=[1, 0])\n",
        "print(c_matrix)\n",
        "# \t          양성이라고 예측\t                  음성이라고 예측\n",
        "# 실제 양성 :\t양성 예측이 맞음 (True Positive)\t음성 예측이 틀림 (False Negative)\n",
        "# 실제 음성 :\t양성 예측이 틀림 (False Positive)\t음성 예측이 맞음 (True Negative)"
      ],
      "execution_count": 20,
      "outputs": [
        {
          "output_type": "stream",
          "text": [
            "[[7 1]\n",
            " [1 7]]\n"
          ],
          "name": "stdout"
        }
      ]
    },
    {
      "cell_type": "code",
      "metadata": {
        "id": "UReGwq8aHC48",
        "colab_type": "code",
        "colab": {}
      },
      "source": [
        "def get_matrics_info(c_matrix):\n",
        "    #recall = TP / (TP + FN)\n",
        "    TP = c_matrix[0][0]\n",
        "    FN = c_matrix[0][1]    \n",
        "    FP = c_matrix[1][0]\n",
        "    TN = c_matrix[1][1]\n",
        "    print('TP:',TP, ' FN:', FN, ' ,FP:',FP, ' ,TN:', TN)\n",
        "\n",
        "    recall= TP / (TP+FN)\n",
        "    precision = TP /(TP+FP)\n",
        "    fallout= FP / (FP+TN)    \n",
        "    print('recall:',recall, ' ,precision:', precision, 'fallout:',fallout)\n",
        "    \n",
        "    return recall, precision, fallout"
      ],
      "execution_count": 21,
      "outputs": []
    },
    {
      "cell_type": "code",
      "metadata": {
        "id": "iS_Cv6ZzGR6V",
        "colab_type": "code",
        "colab": {
          "base_uri": "https://localhost:8080/",
          "height": 925
        },
        "outputId": "896e5ece-344b-407b-dedf-7b67422166bb"
      },
      "source": [
        "from sklearn.metrics import roc_curve, auc\n",
        "import matplotlib.pyplot as plt\n",
        "\n",
        "def print_roc(y, pre_y, c_matrix):  \n",
        "  fpr, tpr, thresholds = roc_curve(y, pre_y)\n",
        "  print(fpr, tpr, thresholds)\n",
        "  recall, precision, fallout = get_matrics_info(c_matrix)\n",
        "  \n",
        "  plt.plot(fpr, tpr, 'o-', label=\"Logistic Regression\")\n",
        "  plt.plot([0, 1], [0, 1], 'k--', label=\"random guess\")\n",
        "  plt.plot([fallout], [recall], 'ro', ms=10)\n",
        "  plt.xlabel('위양성률(Fall-Out)')\n",
        "  plt.ylabel('재현률(Recall)')\n",
        "  plt.title('Receiver operating characteristic example')\n",
        "  plt.show()\n",
        "\n",
        "  return fpr, tpr, recall, precision, fallout\n",
        "\n",
        "print('y.shape:', y.shape)\n",
        "print('y:', y)\n",
        "pre_y_dec = L_model.decision_function(X)\n",
        "print('pre_y_dec.shape:', pre_y_dec.shape)\n",
        "print('pre_y_dec:', pre_y_dec)\n",
        "print()\n",
        "\n",
        "fpr, tpr, recall, precision, fallout = print_roc(y, pre_y_dec, c_matrix)"
      ],
      "execution_count": 22,
      "outputs": [
        {
          "output_type": "stream",
          "text": [
            "y.shape: (16,)\n",
            "y: [0 1 0 1 1 0 0 0 1 0 1 0 1 1 0 1]\n",
            "pre_y_dec.shape: (16,)\n",
            "pre_y_dec: [ 0.37829565  1.6336573  -1.42938156  1.21967832  2.06504666 -4.11896895\n",
            " -1.04677034 -1.21469968  1.62496692 -0.43866584 -0.92693183 -0.76588836\n",
            "  0.09428499  1.62617134 -2.08158634  2.36316277]\n",
            "\n",
            "[0.    0.    0.    0.125 0.125 0.375 0.375 1.   ] [0.    0.125 0.75  0.75  0.875 0.875 1.    1.   ] [ 3.36316277  2.36316277  1.21967832  0.37829565  0.09428499 -0.76588836\n",
            " -0.92693183 -4.11896895]\n",
            "TP: 7  FN: 1  ,FP: 1  ,TN: 7\n",
            "recall: 0.875  ,precision: 0.875 fallout: 0.125\n"
          ],
          "name": "stdout"
        },
        {
          "output_type": "stream",
          "text": [
            "/usr/local/lib/python3.6/dist-packages/matplotlib/backends/backend_agg.py:214: RuntimeWarning: Glyph 50948 missing from current font.\n",
            "  font.set_text(s, 0.0, flags=flags)\n",
            "/usr/local/lib/python3.6/dist-packages/matplotlib/backends/backend_agg.py:214: RuntimeWarning: Glyph 50577 missing from current font.\n",
            "  font.set_text(s, 0.0, flags=flags)\n",
            "/usr/local/lib/python3.6/dist-packages/matplotlib/backends/backend_agg.py:214: RuntimeWarning: Glyph 49457 missing from current font.\n",
            "  font.set_text(s, 0.0, flags=flags)\n",
            "/usr/local/lib/python3.6/dist-packages/matplotlib/backends/backend_agg.py:214: RuntimeWarning: Glyph 47456 missing from current font.\n",
            "  font.set_text(s, 0.0, flags=flags)\n",
            "/usr/local/lib/python3.6/dist-packages/matplotlib/backends/backend_agg.py:214: RuntimeWarning: Glyph 51116 missing from current font.\n",
            "  font.set_text(s, 0.0, flags=flags)\n",
            "/usr/local/lib/python3.6/dist-packages/matplotlib/backends/backend_agg.py:214: RuntimeWarning: Glyph 54788 missing from current font.\n",
            "  font.set_text(s, 0.0, flags=flags)\n",
            "/usr/local/lib/python3.6/dist-packages/matplotlib/backends/backend_agg.py:183: RuntimeWarning: Glyph 50948 missing from current font.\n",
            "  font.set_text(s, 0, flags=flags)\n",
            "/usr/local/lib/python3.6/dist-packages/matplotlib/backends/backend_agg.py:183: RuntimeWarning: Glyph 50577 missing from current font.\n",
            "  font.set_text(s, 0, flags=flags)\n",
            "/usr/local/lib/python3.6/dist-packages/matplotlib/backends/backend_agg.py:183: RuntimeWarning: Glyph 49457 missing from current font.\n",
            "  font.set_text(s, 0, flags=flags)\n",
            "/usr/local/lib/python3.6/dist-packages/matplotlib/backends/backend_agg.py:183: RuntimeWarning: Glyph 47456 missing from current font.\n",
            "  font.set_text(s, 0, flags=flags)\n",
            "/usr/local/lib/python3.6/dist-packages/matplotlib/backends/backend_agg.py:183: RuntimeWarning: Glyph 51116 missing from current font.\n",
            "  font.set_text(s, 0, flags=flags)\n",
            "/usr/local/lib/python3.6/dist-packages/matplotlib/backends/backend_agg.py:183: RuntimeWarning: Glyph 54788 missing from current font.\n",
            "  font.set_text(s, 0, flags=flags)\n"
          ],
          "name": "stderr"
        },
        {
          "output_type": "display_data",
          "data": {
            "image/png": "[encoded data removed]",
            "text/plain": [
              "<Figure size 432x288 with 1 Axes>"
            ]
          },
          "metadata": {
            "tags": [],
            "needs_background": "light"
          }
        }
      ]
    },
    {
      "cell_type": "code",
      "metadata": {
        "id": "RVCyzKM7wkk6",
        "colab_type": "code",
        "colab": {
          "base_uri": "https://localhost:8080/",
          "height": 35
        },
        "outputId": "00e0c53f-af7d-4e56-ae14-23e21c6472dd"
      },
      "source": [
        "#모델이 여러개 있을때, AUC값이 1에 가까울수록  좋은 모형이다.\n",
        "from sklearn.metrics import auc\n",
        "print(auc(fpr, tpr))"
      ],
      "execution_count": 24,
      "outputs": [
        {
          "output_type": "stream",
          "text": [
            "0.9375\n"
          ],
          "name": "stdout"
        }
      ]
    },
    {
      "cell_type": "code",
      "metadata": {
        "id": "YcFDjcg5wRnH",
        "colab_type": "code",
        "colab": {
          "base_uri": "https://localhost:8080/",
          "height": 215
        },
        "outputId": "dfbfcfdf-6eea-4948-c914-546447d14448"
      },
      "source": [
        "#2-2. (multi-class) 개별 class 값을 추출->2-1의 방식으로 개별환산\n",
        "from sklearn.naive_bayes import GaussianNB\n",
        "from sklearn.datasets import load_iris\n",
        "from sklearn.preprocessing import label_binarize\n",
        "\n",
        "iris = load_iris()\n",
        "X = iris.data\n",
        "print('iris.target.shape:', iris.target.shape)\n",
        "print('iris.target[0]:', iris.target[0])\n",
        "y = label_binarize(iris.target, [0, 1, 2])\n",
        "\n",
        "print('X.shape:', X.shape)\n",
        "print('X[0]:', X[0])\n",
        "print('y.shape:', y.shape)\n",
        "print('y[0]:', y[0])\n",
        "print('y[:, 2]:', y[:, 2])"
      ],
      "execution_count": 23,
      "outputs": [
        {
          "output_type": "stream",
          "text": [
            "iris.target.shape: (150,)\n",
            "iris.target[0]: 0\n",
            "X.shape: (150, 4)\n",
            "X[0]: [5.1 3.5 1.4 0.2]\n",
            "y.shape: (150, 3)\n",
            "y[0]: [1 0 0]\n",
            "y[:, 2]: [0 0 0 0 0 0 0 0 0 0 0 0 0 0 0 0 0 0 0 0 0 0 0 0 0 0 0 0 0 0 0 0 0 0 0 0 0\n",
            " 0 0 0 0 0 0 0 0 0 0 0 0 0 0 0 0 0 0 0 0 0 0 0 0 0 0 0 0 0 0 0 0 0 0 0 0 0\n",
            " 0 0 0 0 0 0 0 0 0 0 0 0 0 0 0 0 0 0 0 0 0 0 0 0 0 0 1 1 1 1 1 1 1 1 1 1 1\n",
            " 1 1 1 1 1 1 1 1 1 1 1 1 1 1 1 1 1 1 1 1 1 1 1 1 1 1 1 1 1 1 1 1 1 1 1 1 1\n",
            " 1 1]\n"
          ],
          "name": "stdout"
        }
      ]
    },
    {
      "cell_type": "code",
      "metadata": {
        "id": "xNjXM_jiwRry",
        "colab_type": "code",
        "colab": {
          "base_uri": "https://localhost:8080/",
          "height": 765
        },
        "outputId": "321f04d4-0360-4160-cfc1-7d5379d4f733"
      },
      "source": [
        "fpr = [None] * 3\n",
        "tpr = [None] * 3\n",
        "thr = [None] * 3\n",
        "\n",
        "for i in range(3):\n",
        "    model_G = GaussianNB().fit(X, y[:, i])\n",
        "    pre_proba = model_G.predict_proba(X) #model_G.predict_proba(X)[:, 1] \n",
        "    pre_proba = pre_proba[:, 1] #[loss acc]\n",
        "    fpr[i], tpr[i], thr[i] = roc_curve(y[:, i], pre_proba)\n",
        "    plt.plot(fpr[i], tpr[i])\n",
        "    print('i:', i , ' ,auc:', auc(fpr[i], tpr[i]))\n",
        "\n",
        "plt.xlabel('위양성률(Fall-Out)')\n",
        "plt.ylabel('재현률(Recall)')\n",
        "plt.show()"
      ],
      "execution_count": 25,
      "outputs": [
        {
          "output_type": "stream",
          "text": [
            "i: 0  ,auc: 1.0\n",
            "i: 1  ,auc: 0.9818\n",
            "i: 2  ,auc: 0.989\n"
          ],
          "name": "stdout"
        },
        {
          "output_type": "stream",
          "text": [
            "/usr/local/lib/python3.6/dist-packages/matplotlib/backends/backend_agg.py:214: RuntimeWarning: Glyph 50948 missing from current font.\n",
            "  font.set_text(s, 0.0, flags=flags)\n",
            "/usr/local/lib/python3.6/dist-packages/matplotlib/backends/backend_agg.py:214: RuntimeWarning: Glyph 50577 missing from current font.\n",
            "  font.set_text(s, 0.0, flags=flags)\n",
            "/usr/local/lib/python3.6/dist-packages/matplotlib/backends/backend_agg.py:214: RuntimeWarning: Glyph 49457 missing from current font.\n",
            "  font.set_text(s, 0.0, flags=flags)\n",
            "/usr/local/lib/python3.6/dist-packages/matplotlib/backends/backend_agg.py:214: RuntimeWarning: Glyph 47456 missing from current font.\n",
            "  font.set_text(s, 0.0, flags=flags)\n",
            "/usr/local/lib/python3.6/dist-packages/matplotlib/backends/backend_agg.py:214: RuntimeWarning: Glyph 51116 missing from current font.\n",
            "  font.set_text(s, 0.0, flags=flags)\n",
            "/usr/local/lib/python3.6/dist-packages/matplotlib/backends/backend_agg.py:214: RuntimeWarning: Glyph 54788 missing from current font.\n",
            "  font.set_text(s, 0.0, flags=flags)\n",
            "/usr/local/lib/python3.6/dist-packages/matplotlib/backends/backend_agg.py:183: RuntimeWarning: Glyph 50948 missing from current font.\n",
            "  font.set_text(s, 0, flags=flags)\n",
            "/usr/local/lib/python3.6/dist-packages/matplotlib/backends/backend_agg.py:183: RuntimeWarning: Glyph 50577 missing from current font.\n",
            "  font.set_text(s, 0, flags=flags)\n",
            "/usr/local/lib/python3.6/dist-packages/matplotlib/backends/backend_agg.py:183: RuntimeWarning: Glyph 49457 missing from current font.\n",
            "  font.set_text(s, 0, flags=flags)\n",
            "/usr/local/lib/python3.6/dist-packages/matplotlib/backends/backend_agg.py:183: RuntimeWarning: Glyph 47456 missing from current font.\n",
            "  font.set_text(s, 0, flags=flags)\n",
            "/usr/local/lib/python3.6/dist-packages/matplotlib/backends/backend_agg.py:183: RuntimeWarning: Glyph 51116 missing from current font.\n",
            "  font.set_text(s, 0, flags=flags)\n",
            "/usr/local/lib/python3.6/dist-packages/matplotlib/backends/backend_agg.py:183: RuntimeWarning: Glyph 54788 missing from current font.\n",
            "  font.set_text(s, 0, flags=flags)\n"
          ],
          "name": "stderr"
        },
        {
          "output_type": "display_data",
          "data": {
            "image/png": "[encoded data removed]",
            "text/plain": [
              "<Figure size 432x288 with 1 Axes>"
            ]
          },
          "metadata": {
            "tags": [],
            "needs_background": "light"
          }
        }
      ]
    },
    {
      "cell_type": "code",
      "metadata": {
        "id": "BeIyOw5oLrQj",
        "colab_type": "code",
        "colab": {
          "base_uri": "https://localhost:8080/",
          "height": 143
        },
        "outputId": "8aca235d-a13d-4cd8-f688-0ac3ed523cdb"
      },
      "source": [
        "######################################\n",
        "# MNIST결과를 ROC에 적용(multi-calls)\n",
        "######################################\n",
        "import numpy as np\n",
        "\n",
        "label_bin = []\n",
        "for idx in range(num_classes): #MNIST에서 정의한 class갯수(num_classes)\n",
        "  label_bin.append(idx)\n",
        "print('label_bin:', label_bin)\n",
        "\n",
        "# #binary로 변환\n",
        "y_bin = label_binarize(y_test, label_bin)\n",
        "print('y_bin.shape:', y_bin.shape)\n",
        "print('y_bin[0].shape:', y_bin[0].shape)\n",
        "print('y_bin[:, 0].shape:', y_bin[:, 0].shape)\n",
        "print('y_bin[0]:', y_bin[0])\n",
        "print('y_bin[:, 0]:', y_bin[:, 0])\n",
        "print('y_bin[:, 1]:', y_bin[:, 1])\n"
      ],
      "execution_count": 26,
      "outputs": [
        {
          "output_type": "stream",
          "text": [
            "label_bin: [0, 1, 2, 3, 4, 5, 6, 7, 8, 9]\n",
            "y_bin.shape: (10000, 10)\n",
            "y_bin[0].shape: (10,)\n",
            "y_bin[:, 0].shape: (10000,)\n",
            "y_bin[0]: [0 0 0 0 0 0 0 1 0 0]\n",
            "y_bin[:, 0]: [0 0 0 ... 0 0 0]\n",
            "y_bin[:, 1]: [0 0 1 ... 0 0 0]\n"
          ],
          "name": "stdout"
        }
      ]
    },
    {
      "cell_type": "code",
      "metadata": {
        "id": "tapm0fZV3qKJ",
        "colab_type": "code",
        "colab": {
          "base_uri": "https://localhost:8080/",
          "height": 891
        },
        "outputId": "881bb054-9fa8-42a1-c389-6b0901d9e3ee"
      },
      "source": [
        "fpr = [None] * num_classes #MNIST 정의한 class갯수(num_classes)\n",
        "tpr = [None] * num_classes\n",
        "thr = [None] * num_classes\n",
        "\n",
        "for i in range(num_classes):\n",
        "    #fpr[i], tpr[i], thr[i] = roc_curve(y_bin[:, i], model.predict_proba(x_test)[:, 1])\n",
        "    fpr[i], tpr[i], thr[i] = roc_curve(y_bin[:, i], model.predict(x_test)[:, 1])\n",
        "    plt.plot(fpr[i], tpr[i])\n",
        "    print('i:', i , ' ,auc:', auc(fpr[i], tpr[i]))    \n",
        "plt.xlabel('위양성률(Fall-Out)')\n",
        "plt.ylabel('재현률(Recall)')\n",
        "plt.show()"
      ],
      "execution_count": 27,
      "outputs": [
        {
          "output_type": "stream",
          "text": [
            "i: 0  ,auc: 0.4431841938549255\n",
            "i: 1  ,auc: 0.9999845951633783\n",
            "i: 2  ,auc: 0.5346183501718427\n",
            "i: 3  ,auc: 0.3768658795801716\n",
            "i: 4  ,auc: 0.5097571320359959\n",
            "i: 5  ,auc: 0.3095032012462311\n",
            "i: 6  ,auc: 0.4002159488612409\n",
            "i: 7  ,auc: 0.7703154734747619\n",
            "i: 8  ,auc: 0.24025414146947605\n",
            "i: 9  ,auc: 0.32198793882529153\n"
          ],
          "name": "stdout"
        },
        {
          "output_type": "stream",
          "text": [
            "/usr/local/lib/python3.6/dist-packages/matplotlib/backends/backend_agg.py:214: RuntimeWarning: Glyph 50948 missing from current font.\n",
            "  font.set_text(s, 0.0, flags=flags)\n",
            "/usr/local/lib/python3.6/dist-packages/matplotlib/backends/backend_agg.py:214: RuntimeWarning: Glyph 50577 missing from current font.\n",
            "  font.set_text(s, 0.0, flags=flags)\n",
            "/usr/local/lib/python3.6/dist-packages/matplotlib/backends/backend_agg.py:214: RuntimeWarning: Glyph 49457 missing from current font.\n",
            "  font.set_text(s, 0.0, flags=flags)\n",
            "/usr/local/lib/python3.6/dist-packages/matplotlib/backends/backend_agg.py:214: RuntimeWarning: Glyph 47456 missing from current font.\n",
            "  font.set_text(s, 0.0, flags=flags)\n",
            "/usr/local/lib/python3.6/dist-packages/matplotlib/backends/backend_agg.py:214: RuntimeWarning: Glyph 51116 missing from current font.\n",
            "  font.set_text(s, 0.0, flags=flags)\n",
            "/usr/local/lib/python3.6/dist-packages/matplotlib/backends/backend_agg.py:214: RuntimeWarning: Glyph 54788 missing from current font.\n",
            "  font.set_text(s, 0.0, flags=flags)\n",
            "/usr/local/lib/python3.6/dist-packages/matplotlib/backends/backend_agg.py:183: RuntimeWarning: Glyph 50948 missing from current font.\n",
            "  font.set_text(s, 0, flags=flags)\n",
            "/usr/local/lib/python3.6/dist-packages/matplotlib/backends/backend_agg.py:183: RuntimeWarning: Glyph 50577 missing from current font.\n",
            "  font.set_text(s, 0, flags=flags)\n",
            "/usr/local/lib/python3.6/dist-packages/matplotlib/backends/backend_agg.py:183: RuntimeWarning: Glyph 49457 missing from current font.\n",
            "  font.set_text(s, 0, flags=flags)\n",
            "/usr/local/lib/python3.6/dist-packages/matplotlib/backends/backend_agg.py:183: RuntimeWarning: Glyph 47456 missing from current font.\n",
            "  font.set_text(s, 0, flags=flags)\n",
            "/usr/local/lib/python3.6/dist-packages/matplotlib/backends/backend_agg.py:183: RuntimeWarning: Glyph 51116 missing from current font.\n",
            "  font.set_text(s, 0, flags=flags)\n",
            "/usr/local/lib/python3.6/dist-packages/matplotlib/backends/backend_agg.py:183: RuntimeWarning: Glyph 54788 missing from current font.\n",
            "  font.set_text(s, 0, flags=flags)\n"
          ],
          "name": "stderr"
        },
        {
          "output_type": "display_data",
          "data": {
            "image/png": "[encoded data removed]",
            "text/plain": [
              "<Figure size 432x288 with 1 Axes>"
            ]
          },
          "metadata": {
            "tags": [],
            "needs_background": "light"
          }
        }
      ]
    },
    {
      "cell_type": "code",
      "metadata": {
        "id": "lY0swmrIhJNm",
        "colab_type": "code",
        "colab": {}
      },
      "source": [
        "# https://analysis-flood.tistory.com/76\n",
        "# precision/recall trade-off 그래프 그리기\n",
        "# from sklearn.metrics import precision_recall_curve\n",
        "# from sklearn.model_selection import cross_val_predict\n",
        "\n",
        "# def plot_precision_recall_vs_threshold(precision, recall, threshlod):\n",
        "#     plt.plot(threshlod, precision[:-1], \"b--\", label=\"Precision\")\n",
        "#     plt.plot(threshlod, recall[:-1], \"g-\", label=\"Recall\")\n",
        "#     plt.xlabel(\"Threshold\")\n",
        "#     plt.legend(loc=\"best\")\n",
        "#     plt.ylim([0, 1])\n",
        "#     plt.show()"
      ],
      "execution_count": null,
      "outputs": []
    },
    {
      "cell_type": "code",
      "metadata": {
        "id": "mZjPHnUSf0Pl",
        "colab_type": "code",
        "colab": {
          "base_uri": "https://localhost:8080/",
          "height": 197
        },
        "outputId": "a4f0748f-2249-4d49-a772-f77427a1ab72"
      },
      "source": [
        "pre_y = np.argmax(model.predict(x_test), axis=-1)\n",
        "result_dic = {}\n",
        "for idx, pre_label in enumerate(pre_y):\n",
        "    if y_test[idx] == pre_label : \n",
        "        if y_test[idx] not in result_dic:\n",
        "            result_dic[y_test[idx]] = [1, 0]\n",
        "        else:\n",
        "            result = result_dic[y_test[idx]]\n",
        "            result = [result[0]+1, result[1]] #정답인 경우 +1 저장\n",
        "            result_dic[y_test[idx]] = result\n",
        "    else:\n",
        "        if y_test[idx] not in result_dic:\n",
        "            result_dic[y_test[idx]] = [0, 1]\n",
        "        else:\n",
        "            result = result_dic[y_test[idx]]\n",
        "            result = [result[0], result[1]+1] #오답인 경우 +1 저장\n",
        "            result_dic[y_test[idx]] = result\n",
        "\n",
        "for key in result_dic.keys():\n",
        "    result = result_dic[key]\n",
        "    print('key:', key, ' ,corr/err:', result_dic[key], ' ,per:', result[0]/(result[0]+result[1]))"
      ],
      "execution_count": 28,
      "outputs": [
        {
          "output_type": "stream",
          "text": [
            "key: 7  ,corr/err: [1014, 14]  ,per: 0.9863813229571985\n",
            "key: 2  ,corr/err: [1027, 5]  ,per: 0.9951550387596899\n",
            "key: 1  ,corr/err: [1133, 2]  ,per: 0.9982378854625551\n",
            "key: 0  ,corr/err: [976, 4]  ,per: 0.9959183673469387\n",
            "key: 4  ,corr/err: [971, 11]  ,per: 0.9887983706720977\n",
            "key: 9  ,corr/err: [995, 14]  ,per: 0.9861248761149654\n",
            "key: 5  ,corr/err: [883, 9]  ,per: 0.9899103139013453\n",
            "key: 6  ,corr/err: [948, 10]  ,per: 0.9895615866388309\n",
            "key: 3  ,corr/err: [1005, 5]  ,per: 0.995049504950495\n",
            "key: 8  ,corr/err: [967, 7]  ,per: 0.9928131416837782\n"
          ],
          "name": "stdout"
        }
      ]
    },
    {
      "cell_type": "code",
      "metadata": {
        "id": "n5qAryIhsdub",
        "colab_type": "code",
        "colab": {}
      },
      "source": [
        "# #클래스별로 담아서 ROC 다시 구해보기\n",
        "\n",
        "# data_dic = {} # [[label], [data]]\n",
        "# for idx, num in enumerate(y_test):\n",
        "#     if num not in data_dic:\n",
        "#         data_dic[num] = [[num],[x_test[idx]]]\n",
        "#     else: \n",
        "#         label_list = data_dic[num][0]\n",
        "#         label_list.append(num)\n",
        "#         data_list = data_dic[num][1]\n",
        "#         data_list.append(x_test[idx])\n",
        "#         data_dic[num] = [label_list, data_list]\n",
        "# print('len(data_dic):', len(data_dic))\n",
        "\n",
        "# for num in data_dic.keys():\n",
        "#     data = data_dic[num]\n",
        "#     print('len:', len(data[0]))\n",
        "\n",
        "#     y_bin = label_binarize(data[0], label_bin)\n",
        "#     #print('y_bin.shape:', y_bin.shape)\n",
        "#     #print('np.array(data[1]).shape:', np.array(data[1]).shape)\n",
        "#     #print('model.predict(np.array(data[1]))[:, 1].shape:',model.predict(np.array(data[1]))[:, 1].shape)\n",
        "#     #print(y_bin[:, 0])\n",
        "#     #fpr, tpr, thr = roc_curve(y_bin[:, num], model.predict(np.array(data[1]))[:, 1])\n",
        "#     plt.plot(fpr, tpr)\n",
        "#     print('num:', num , ' ,auc:', auc(fpr, tpr))  \n",
        "#     #break\n",
        "# plt.xlabel('위양성률(Fall-Out)')\n",
        "# plt.ylabel('재현률(Recall)')\n",
        "# plt.show()  "
      ],
      "execution_count": 49,
      "outputs": []
    }
  ]
}