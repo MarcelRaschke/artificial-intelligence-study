{
  "nbformat": 4,
  "nbformat_minor": 0,
  "metadata": {
    "colab": {
      "name": "keras_bagging-cancel_sample_20200803.ipynb",
      "provenance": []
    },
    "kernelspec": {
      "name": "python3",
      "display_name": "Python 3"
    }
  },
  "cells": [
    {
      "cell_type": "code",
      "metadata": {
        "id": "vXogRyKWGZCw",
        "colab_type": "code",
        "colab": {}
      },
      "source": [
        "#https://m.blog.naver.com/cjh226/221359032956"
      ],
      "execution_count": null,
      "outputs": []
    },
    {
      "cell_type": "code",
      "metadata": {
        "id": "Kb0hLd5aGd6M",
        "colab_type": "code",
        "colab": {
          "base_uri": "https://localhost:8080/",
          "height": 53
        },
        "outputId": "2c6c10bc-7763-479f-c9ea-bc12b6dbf55b"
      },
      "source": [
        "import numpy as np\n",
        "import time\n",
        "from sklearn.datasets import load_breast_cancer\n",
        "from sklearn.svm import SVC, LinearSVC\n",
        "from sklearn.ensemble import BaggingClassifier\n",
        "from sklearn.model_selection import train_test_split\n",
        "\n",
        "## 1. Load data\n",
        "data = load_breast_cancer()\n",
        "X = np.array(data.data)\n",
        "y = np.array(data.target)\n",
        "print('X.shape: {}'.format(X.shape))\n",
        "print('y.shape: {}'.format(y.shape))"
      ],
      "execution_count": 1,
      "outputs": [
        {
          "output_type": "stream",
          "text": [
            "X.shape: (569, 30)\n",
            "y.shape: (569,)\n"
          ],
          "name": "stdout"
        }
      ]
    },
    {
      "cell_type": "code",
      "metadata": {
        "id": "r6VtBaabGd8o",
        "colab_type": "code",
        "colab": {}
      },
      "source": [
        "## 2. Build estimators\n",
        "kernel = 'linear'\n",
        "dual = False if X.shape[0] > X.shape[1] else True\n",
        "\n",
        "estimator_names = ['SVC', 'LinearSVC', 'Bagging+SVC', 'Bagging+LinearSVC', 'Bagging+SVC+Multiprocess', 'Bagging+LinearSVC+Multiprocess']\n",
        "estimators = [SVC(kernel=kernel),\n",
        "\t\t\t  LinearSVC(dual=dual),\n",
        "\t\t\t  BaggingClassifier(SVC(kernel=kernel), n_estimators=10, max_samples=0.1, n_jobs=1),\n",
        "\t\t\t  BaggingClassifier(LinearSVC(dual=dual), n_estimators=10, max_samples=0.1, n_jobs=1),\n",
        "\t\t\t  BaggingClassifier(SVC(kernel=kernel), n_estimators=10, max_samples=0.1, n_jobs=10),\n",
        "\t\t\t  BaggingClassifier(LinearSVC(dual=dual), n_estimators=10, max_samples=0.1, n_jobs=10)]\n"
      ],
      "execution_count": 2,
      "outputs": []
    },
    {
      "cell_type": "code",
      "metadata": {
        "id": "_53gaSyhGi3L",
        "colab_type": "code",
        "colab": {}
      },
      "source": [
        "## 3. Split into train and test\n",
        "X_train, X_test, y_train, y_test = train_test_split(X, y, test_size=0.2)"
      ],
      "execution_count": 3,
      "outputs": []
    },
    {
      "cell_type": "code",
      "metadata": {
        "id": "QvOCIVFQGi5n",
        "colab_type": "code",
        "colab": {
          "base_uri": "https://localhost:8080/",
          "height": 143
        },
        "outputId": "ca29baa2-68a1-44a9-d95a-c27e1625ebea"
      },
      "source": [
        "\n",
        "## 4. Fit and Prediction\n",
        "print('Estimator\\tAccuracy\\tTime')\n",
        "for name, estimator in zip(estimator_names, estimators):\n",
        "\tstart_time = time.time()\n",
        "\testimator.fit(X_train, y_train)\n",
        "\tscore = estimator.score(X_test, y_test) # accuracy\n",
        "\tend_time = time.time()\n",
        "\tprint('{}\\t{:.3f}\\t{:.3f}'.format(name, score, (end_time-start_time)))"
      ],
      "execution_count": 4,
      "outputs": [
        {
          "output_type": "stream",
          "text": [
            "Estimator\tAccuracy\tTime\n",
            "SVC\t0.965\t0.919\n",
            "LinearSVC\t0.965\t0.006\n",
            "Bagging+SVC\t0.965\t0.037\n",
            "Bagging+LinearSVC\t0.939\t0.024\n",
            "Bagging+SVC+Multiprocess\t0.965\t5.972\n",
            "Bagging+LinearSVC+Multiprocess\t0.939\t0.105\n"
          ],
          "name": "stdout"
        }
      ]
    }
  ]
}