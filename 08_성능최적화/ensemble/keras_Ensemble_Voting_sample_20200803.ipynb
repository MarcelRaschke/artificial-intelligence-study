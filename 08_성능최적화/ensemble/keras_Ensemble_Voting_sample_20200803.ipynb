{
  "nbformat": 4,
  "nbformat_minor": 0,
  "metadata": {
    "colab": {
      "name": "keras_Ensemble-Voting_sample_20200803.ipynb",
      "provenance": [],
      "collapsed_sections": []
    },
    "kernelspec": {
      "name": "python3",
      "display_name": "Python 3"
    }
  },
  "cells": [
    {
      "cell_type": "code",
      "metadata": {
        "id": "xJHRM_yV12OR",
        "colab_type": "code",
        "colab": {}
      },
      "source": [
        "#https://buomsoo-kim.github.io/keras/2018/04/24/Easy-deep-learning-with-Keras-5.md/"
      ],
      "execution_count": 1,
      "outputs": []
    },
    {
      "cell_type": "code",
      "metadata": {
        "id": "r-7Xu33p2x-5",
        "colab_type": "code",
        "colab": {
          "base_uri": "https://localhost:8080/",
          "height": 71
        },
        "outputId": "fc0d6929-8cf6-4c55-ba4e-163811d43315"
      },
      "source": [
        "# 케라스에 내장된 mnist 데이터 셋을 함수로 불러와 바로 활용 가능하다\n",
        "from keras.datasets import mnist\n",
        "import matplotlib.pyplot as plt\n",
        "\n",
        "(X_train, y_train), (X_test, y_test) = mnist.load_data()"
      ],
      "execution_count": 2,
      "outputs": [
        {
          "output_type": "stream",
          "text": [
            "Using TensorFlow backend.\n"
          ],
          "name": "stderr"
        },
        {
          "output_type": "stream",
          "text": [
            "Downloading data from https://s3.amazonaws.com/img-datasets/mnist.npz\n",
            "11493376/11490434 [==============================] - 2s 0us/step\n"
          ],
          "name": "stdout"
        }
      ]
    },
    {
      "cell_type": "code",
      "metadata": {
        "id": "83hn7v5l2yBi",
        "colab_type": "code",
        "colab": {
          "base_uri": "https://localhost:8080/",
          "height": 35
        },
        "outputId": "7465f8a7-af8e-43f2-ed87-27aec460280e"
      },
      "source": [
        "from keras.utils.np_utils import to_categorical\n",
        "from sklearn.model_selection import train_test_split\n",
        "\n",
        "# reshaping X data: (n, 28, 28) => (n, 784)\n",
        "X_train = X_train.reshape((X_train.shape[0], -1))\n",
        "X_test = X_test.reshape((X_test.shape[0], -1))\n",
        "\n",
        "# 학습 과정을 단축시키기 위해 학습 데이터의 1/3만 활용한다\n",
        "X_train, _ , y_train, _ = train_test_split(X_train, y_train, test_size = 0.67, random_state = 7)\n",
        "\n",
        "# 타겟 변수를 one-hot encoding 한다\n",
        "y_train = to_categorical(y_train)\n",
        "y_test = to_categorical(y_test)\n",
        "\n",
        "print(X_train.shape, X_test.shape, y_train.shape, y_test.shape)"
      ],
      "execution_count": 10,
      "outputs": [
        {
          "output_type": "stream",
          "text": [
            "(6534, 784) (10000, 784) (6534, 10) (10000, 10)\n"
          ],
          "name": "stdout"
        }
      ]
    },
    {
      "cell_type": "code",
      "metadata": {
        "id": "171_H4p_4e6R",
        "colab_type": "code",
        "colab": {
          "base_uri": "https://localhost:8080/",
          "height": 35
        },
        "outputId": "7c7c42f2-a7b1-493b-d3b3-642d97201e2c"
      },
      "source": [
        "import numpy as np\n",
        "y_train = np.argmax(y_train, axis = 1)\n",
        "y_test = np.argmax(y_test, axis = 1)\n",
        "\n",
        "print(y_train.shape)"
      ],
      "execution_count": 13,
      "outputs": [
        {
          "output_type": "stream",
          "text": [
            "(6534,)\n"
          ],
          "name": "stdout"
        }
      ]
    },
    {
      "cell_type": "code",
      "metadata": {
        "id": "onlG79HR2yDu",
        "colab_type": "code",
        "colab": {}
      },
      "source": [
        "# from keras.models import Sequential\n",
        "# from keras.layers import Activation, Dense, BatchNormalization\n",
        "# from keras import optimizers\n",
        "\n",
        "\n",
        "# def make_model(dense):\n",
        "#   #N = len(white_wine)\n",
        "#   n_in=11\n",
        "#   n_hiddens=32\n",
        "#   n_out=11\n",
        "#   p_keep=0.5 # 드롭아웃 확률의 비율\n",
        "\n",
        "#   model = Sequential()\n",
        "\n",
        "#   model.add(Dense(dense,input_dim=n_in))\n",
        "#   model.add(BatchNormalization())\n",
        "#   model.add(Activation('relu'))\n",
        "#   model.add(Dense(dense))\n",
        "#   model.add(BatchNormalization())\n",
        "#   model.add(Activation('relu'))\n",
        "#   model.add(Dense(dense))\n",
        "#   model.add(BatchNormalization())\n",
        "#   model.add(Activation('relu'))\n",
        "#   model.add(Dense(dense))\n",
        "#   model.add(BatchNormalization())\n",
        "#   model.add(Activation('relu'))\n",
        "#   model.add(Dense(units=n_out,activation='softmax'))\n",
        "\n",
        "#   sgd = optimizers.SGD(lr=0.001, decay=1e-6, momentum=0.9, nesterov=True)\n",
        "#   #model.compile(loss='sparse_categorical_crossentropy', optimizer='adam', metrics=['accuracy'])\n",
        "#   model.compile(loss='sparse_categorical_crossentropy', optimizer=sgd, metrics=['accuracy'])\n",
        "\n",
        "#   return model\n",
        "\n",
        "# epochs = 100\n",
        "# batch_size =150\n",
        "\n",
        "# # 서로 다른 모델을 만들어 합치기 (Model Ensemble)\n",
        "# model1 = KerasClassifier(build_fn=make_model(500),epochs=epochs, verbose=0)\n",
        "# model1._estimator_type=\"classifier\" #https://hororolol.tistory.com/362\n",
        "# model2 = KerasClassifier(build_fn=make_model(100),epochs=epochs, verbose=0)\n",
        "# model2._estimator_type=\"classifier\"\n",
        "# model3 = KerasClassifier(build_fn=make_model(50),epochs=epochs, verbose=0)\n",
        "# model3._estimator_type=\"classifier\"\n",
        "\n",
        "# ensemble_model=VotingClassifier(estimators = [('model1', model1), ('model2', model2), ('model3', model3)], voting = 'soft')"
      ],
      "execution_count": 5,
      "outputs": []
    },
    {
      "cell_type": "code",
      "metadata": {
        "id": "F3teTX4L3giY",
        "colab_type": "code",
        "colab": {}
      },
      "source": [
        "from keras.wrappers.scikit_learn import KerasClassifier\n",
        "from sklearn.ensemble import VotingClassifier\n",
        "from sklearn.metrics import accuracy_score\n",
        "# #from skmultilearn.ensemble import MajorityVotingClassifier\n",
        "\n",
        "def mlp_model():\n",
        "    model = Sequential()\n",
        "    \n",
        "    model.add(Dense(50, input_shape = (784, )))\n",
        "    model.add(Activation('sigmoid'))    \n",
        "    model.add(Dense(50))\n",
        "    model.add(Activation('sigmoid'))    \n",
        "    model.add(Dense(50))\n",
        "    model.add(Activation('sigmoid'))    \n",
        "    model.add(Dense(50))\n",
        "    model.add(Activation('sigmoid'))    \n",
        "    model.add(Dense(10))\n",
        "    model.add(Activation('softmax'))\n",
        "    \n",
        "    sgd = optimizers.SGD(lr = 0.001)\n",
        "    model.compile(optimizer = sgd, loss = 'categorical_crossentropy', metrics = ['accuracy'])\n",
        "    \n",
        "    return model\n",
        "\n",
        "model1 = KerasClassifier(build_fn = mlp_model, epochs = 100, verbose = 0)\n",
        "model1._estimator_type=\"classifier\"\n",
        "model2 = KerasClassifier(build_fn = mlp_model, epochs = 100, verbose = 0)\n",
        "model2._estimator_type=\"classifier\"\n",
        "model3 = KerasClassifier(build_fn = mlp_model, epochs = 100, verbose = 0)\n",
        "model3._estimator_type=\"classifier\"\n",
        "\n",
        "ensemble_clf = VotingClassifier(estimators = [('model1', model1), ('model2', model2), ('model3', model3)], voting = 'soft')"
      ],
      "execution_count": 17,
      "outputs": []
    },
    {
      "cell_type": "code",
      "metadata": {
        "id": "jnpuuUjRDJ5r",
        "colab_type": "code",
        "colab": {}
      },
      "source": [
        "#muilti-label???\n",
        "#http://scikit.ml/api/skmultilearn.ensemble.voting.html\n",
        "#!pip install scikit-multilearn"
      ],
      "execution_count": 7,
      "outputs": []
    },
    {
      "cell_type": "code",
      "metadata": {
        "id": "da-6kd-MDKgz",
        "colab_type": "code",
        "colab": {}
      },
      "source": [
        "#ensemble_model= EnsembleVoteClassifier(clfs=[model1,model2,model3],weights=[1,1,1],voting='soft')\n",
        "\n",
        "# from skmultilearn.ensemble import MajorityVotingClassifier\n",
        "# from skmultilearn.cluster import FixedLabelSpaceClusterer\n",
        "# from skmultilearn.problem_transform import ClassifierChain\n",
        "# from sklearn.naive_bayes import GaussianNB\n",
        "\n",
        "# classifier = MajorityVotingClassifier(\n",
        "#     clusterer = FixedLabelSpaceClusterer(clusters = [[1,2,3], [0, 2, 5], [4, 5]]),\n",
        "#     classifier = ClassifierChain(classifier=GaussianNB())\n",
        "# )\n",
        "# classifier.fit(X_train,y_train)\n",
        "# predictions = classifier.predict(X_test)"
      ],
      "execution_count": 8,
      "outputs": []
    },
    {
      "cell_type": "code",
      "metadata": {
        "id": "GIHLUfiS2yK5",
        "colab_type": "code",
        "colab": {
          "base_uri": "https://localhost:8080/",
          "height": 161
        },
        "outputId": "c11706f0-7c07-4488-f63d-51e943c517f9"
      },
      "source": [
        "#single label...\n",
        "ensemble_clf.fit(X_train, y_train)"
      ],
      "execution_count": 18,
      "outputs": [
        {
          "output_type": "execute_result",
          "data": {
            "text/plain": [
              "VotingClassifier(estimators=[('model1',\n",
              "                              <keras.wrappers.scikit_learn.KerasClassifier object at 0x7fb9e09f9358>),\n",
              "                             ('model2',\n",
              "                              <keras.wrappers.scikit_learn.KerasClassifier object at 0x7fb9e09f96a0>),\n",
              "                             ('model3',\n",
              "                              <keras.wrappers.scikit_learn.KerasClassifier object at 0x7fb9e09f9518>)],\n",
              "                 flatten_transform=True, n_jobs=None, voting='soft',\n",
              "                 weights=None)"
            ]
          },
          "metadata": {
            "tags": []
          },
          "execution_count": 18
        }
      ]
    },
    {
      "cell_type": "code",
      "metadata": {
        "id": "3R4DKIaz2yNU",
        "colab_type": "code",
        "colab": {
          "base_uri": "https://localhost:8080/",
          "height": 35
        },
        "outputId": "031fe204-3b52-45e7-dd38-19cce10d3efe"
      },
      "source": [
        "y_pred = ensemble_clf.predict(X_test)\n",
        "print(y_pred)"
      ],
      "execution_count": 19,
      "outputs": [
        {
          "output_type": "stream",
          "text": [
            "[1 1 1 ... 1 1 1]\n"
          ],
          "name": "stdout"
        }
      ]
    },
    {
      "cell_type": "code",
      "metadata": {
        "id": "Cg_iIrG72yJW",
        "colab_type": "code",
        "colab": {
          "base_uri": "https://localhost:8080/",
          "height": 35
        },
        "outputId": "735e8814-791c-4aa3-cf1a-a7524ebacf07"
      },
      "source": [
        "print('Test accuracy:', accuracy_score(y_pred, y_test))"
      ],
      "execution_count": 20,
      "outputs": [
        {
          "output_type": "stream",
          "text": [
            "Test accuracy: 0.1135\n"
          ],
          "name": "stdout"
        }
      ]
    }
  ]
}