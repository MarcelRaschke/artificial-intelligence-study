{
  "nbformat": 4,
  "nbformat_minor": 0,
  "metadata": {
    "colab": {
      "name": "keras_focal-loss_test_20200709.ipynb",
      "provenance": [],
      "collapsed_sections": []
    },
    "kernelspec": {
      "name": "python3",
      "display_name": "Python 3"
    }
  },
  "cells": [
    {
      "cell_type": "code",
      "metadata": {
        "id": "4Il8J1g-MnBb",
        "colab_type": "code",
        "colab": {}
      },
      "source": [
        "#https://www.dlology.com/blog/multi-class-classification-with-focal-loss-for-imbalanced-datasets/\n",
        "#>https://github.com/Tony607/Focal_Loss_Keras/blob/master/src/keras_focal_loss.ipynb\n",
        "#https://www.kaggle.com/ntnu-testimon/paysim1"
      ],
      "execution_count": 1,
      "outputs": []
    },
    {
      "cell_type": "code",
      "metadata": {
        "id": "dVvtoCaxWFZL",
        "colab_type": "code",
        "colab": {}
      },
      "source": [
        "# %tensorflow_version 1.x\n",
        "# import tensorflow"
      ],
      "execution_count": 2,
      "outputs": []
    },
    {
      "cell_type": "code",
      "metadata": {
        "id": "9xmKxfd1UaGN",
        "colab_type": "code",
        "colab": {
          "base_uri": "https://localhost:8080/",
          "height": 35
        },
        "outputId": "3f0c06d6-d266-4545-e81a-99cc001affb9"
      },
      "source": [
        "import os\n",
        "from google.colab import drive\n",
        "drive.mount('/content/gdrive')"
      ],
      "execution_count": 3,
      "outputs": [
        {
          "output_type": "stream",
          "text": [
            "Drive already mounted at /content/gdrive; to attempt to forcibly remount, call drive.mount(\"/content/gdrive\", force_remount=True).\n"
          ],
          "name": "stdout"
        }
      ]
    },
    {
      "cell_type": "code",
      "metadata": {
        "id": "WygTLb0BNWPk",
        "colab_type": "code",
        "colab": {}
      },
      "source": [
        "import numpy as np # linear algebra\n",
        "import pandas as pd # data processing, CSV file I/O (e.g. pd.read_csv)\n",
        "from tensorflow import keras\n",
        "np.random.seed(42)"
      ],
      "execution_count": 4,
      "outputs": []
    },
    {
      "cell_type": "code",
      "metadata": {
        "id": "nQqzVwXQSyOK",
        "colab_type": "code",
        "colab": {
          "base_uri": "https://localhost:8080/",
          "height": 204
        },
        "outputId": "f54f8c99-3ff2-40b6-f2e0-42c83d676766"
      },
      "source": [
        "# create data frame containing your data, each column can be accessed # by df['column   name']\n",
        "file_path = os.path.join('/content/gdrive/My Drive/AI/kaggle/', 'PS_20174392719_1491204439457_log.csv')\n",
        "dataset = pd.read_csv(file_path)\n",
        "del dataset['nameDest']\n",
        "del dataset['nameOrig']\n",
        "del dataset['type']\n",
        "\n",
        "dataset.head()"
      ],
      "execution_count": 5,
      "outputs": [
        {
          "output_type": "execute_result",
          "data": {
            "text/html": [
              "<div>\n",
              "<style scoped>\n",
              "    .dataframe tbody tr th:only-of-type {\n",
              "        vertical-align: middle;\n",
              "    }\n",
              "\n",
              "    .dataframe tbody tr th {\n",
              "        vertical-align: top;\n",
              "    }\n",
              "\n",
              "    .dataframe thead th {\n",
              "        text-align: right;\n",
              "    }\n",
              "</style>\n",
              "<table border=\"1\" class=\"dataframe\">\n",
              "  <thead>\n",
              "    <tr style=\"text-align: right;\">\n",
              "      <th></th>\n",
              "      <th>step</th>\n",
              "      <th>amount</th>\n",
              "      <th>oldbalanceOrg</th>\n",
              "      <th>newbalanceOrig</th>\n",
              "      <th>oldbalanceDest</th>\n",
              "      <th>newbalanceDest</th>\n",
              "      <th>isFraud</th>\n",
              "      <th>isFlaggedFraud</th>\n",
              "    </tr>\n",
              "  </thead>\n",
              "  <tbody>\n",
              "    <tr>\n",
              "      <th>0</th>\n",
              "      <td>1</td>\n",
              "      <td>9839.64</td>\n",
              "      <td>170136.0</td>\n",
              "      <td>160296.36</td>\n",
              "      <td>0.0</td>\n",
              "      <td>0.0</td>\n",
              "      <td>0</td>\n",
              "      <td>0</td>\n",
              "    </tr>\n",
              "    <tr>\n",
              "      <th>1</th>\n",
              "      <td>1</td>\n",
              "      <td>1864.28</td>\n",
              "      <td>21249.0</td>\n",
              "      <td>19384.72</td>\n",
              "      <td>0.0</td>\n",
              "      <td>0.0</td>\n",
              "      <td>0</td>\n",
              "      <td>0</td>\n",
              "    </tr>\n",
              "    <tr>\n",
              "      <th>2</th>\n",
              "      <td>1</td>\n",
              "      <td>181.00</td>\n",
              "      <td>181.0</td>\n",
              "      <td>0.00</td>\n",
              "      <td>0.0</td>\n",
              "      <td>0.0</td>\n",
              "      <td>1</td>\n",
              "      <td>0</td>\n",
              "    </tr>\n",
              "    <tr>\n",
              "      <th>3</th>\n",
              "      <td>1</td>\n",
              "      <td>181.00</td>\n",
              "      <td>181.0</td>\n",
              "      <td>0.00</td>\n",
              "      <td>21182.0</td>\n",
              "      <td>0.0</td>\n",
              "      <td>1</td>\n",
              "      <td>0</td>\n",
              "    </tr>\n",
              "    <tr>\n",
              "      <th>4</th>\n",
              "      <td>1</td>\n",
              "      <td>11668.14</td>\n",
              "      <td>41554.0</td>\n",
              "      <td>29885.86</td>\n",
              "      <td>0.0</td>\n",
              "      <td>0.0</td>\n",
              "      <td>0</td>\n",
              "      <td>0</td>\n",
              "    </tr>\n",
              "  </tbody>\n",
              "</table>\n",
              "</div>"
            ],
            "text/plain": [
              "   step    amount  oldbalanceOrg  ...  newbalanceDest  isFraud  isFlaggedFraud\n",
              "0     1   9839.64       170136.0  ...             0.0        0               0\n",
              "1     1   1864.28        21249.0  ...             0.0        0               0\n",
              "2     1    181.00          181.0  ...             0.0        1               0\n",
              "3     1    181.00          181.0  ...             0.0        1               0\n",
              "4     1  11668.14        41554.0  ...             0.0        0               0\n",
              "\n",
              "[5 rows x 8 columns]"
            ]
          },
          "metadata": {
            "tags": []
          },
          "execution_count": 5
        }
      ]
    },
    {
      "cell_type": "code",
      "metadata": {
        "id": "QlavzgIVSyaN",
        "colab_type": "code",
        "colab": {
          "base_uri": "https://localhost:8080/",
          "height": 71
        },
        "outputId": "7b1f2d63-3067-429e-bc10-39de19281fdb"
      },
      "source": [
        "dataset['isFraud'].value_counts()"
      ],
      "execution_count": 6,
      "outputs": [
        {
          "output_type": "execute_result",
          "data": {
            "text/plain": [
              "0    6354407\n",
              "1       8213\n",
              "Name: isFraud, dtype: int64"
            ]
          },
          "metadata": {
            "tags": []
          },
          "execution_count": 6
        }
      ]
    },
    {
      "cell_type": "code",
      "metadata": {
        "id": "BajuhCaJSyYY",
        "colab_type": "code",
        "colab": {}
      },
      "source": [
        "def feature_normalize(dataset):\n",
        "    mu = np.mean(dataset, axis=0)\n",
        "    sigma = np.std(dataset, axis=0)\n",
        "    return (dataset - mu) / sigma"
      ],
      "execution_count": 7,
      "outputs": []
    },
    {
      "cell_type": "code",
      "metadata": {
        "id": "aAOLEPe4SyVc",
        "colab_type": "code",
        "colab": {
          "base_uri": "https://localhost:8080/",
          "height": 521
        },
        "outputId": "c8e92895-a5ba-4b2a-b86e-3501c7eaf2d2"
      },
      "source": [
        "from sklearn.model_selection  import train_test_split\n",
        "X, y = dataset.iloc[:,:-2], dataset.iloc[:, -2]\n",
        "print('X:', X)\n",
        "y = keras.utils.to_categorical(y, num_classes=2)\n",
        "\n",
        "#X = feature_normalize(X.as_matrix()) #AttributeError: 'DataFrame' object has no attribute 'as_matrix'\n",
        "X = feature_normalize(X.to_numpy())   #https://stackoverflow.com/questions/60164560/attributeerror-series-object-has-no-attribute-as-matrix-why-is-it-error\n",
        "print('feature_normalize X:', X)\n",
        "\n",
        "X_train, X_test, y_train, y_test = train_test_split(X, y, test_size=0.2, random_state=1)\n",
        "print('X_train.shape:', X_train.shape, ' ,X_test.shape:', X_test.shape)"
      ],
      "execution_count": 8,
      "outputs": [
        {
          "output_type": "stream",
          "text": [
            "X:          step      amount  ...  oldbalanceDest  newbalanceDest\n",
            "0           1     9839.64  ...            0.00            0.00\n",
            "1           1     1864.28  ...            0.00            0.00\n",
            "2           1      181.00  ...            0.00            0.00\n",
            "3           1      181.00  ...        21182.00            0.00\n",
            "4           1    11668.14  ...            0.00            0.00\n",
            "...       ...         ...  ...             ...             ...\n",
            "6362615   743   339682.13  ...            0.00       339682.13\n",
            "6362616   743  6311409.28  ...            0.00            0.00\n",
            "6362617   743  6311409.28  ...        68488.84      6379898.11\n",
            "6362618   743   850002.52  ...            0.00            0.00\n",
            "6362619   743   850002.52  ...      6510099.11      7360101.63\n",
            "\n",
            "[6362620 rows x 6 columns]\n",
            "feature_normalize X: [[-1.70304158e+00 -2.81559923e-01 -2.29810037e-01 -2.37621696e-01\n",
            "  -3.23813895e-01 -3.33411405e-01]\n",
            " [-1.70304158e+00 -2.94767262e-01 -2.81359380e-01 -2.85812295e-01\n",
            "  -3.23813895e-01 -3.33411405e-01]\n",
            " [-1.70304158e+00 -2.97554804e-01 -2.88653782e-01 -2.92441707e-01\n",
            "  -3.23813895e-01 -3.33411405e-01]\n",
            " ...\n",
            " [ 3.51012348e+00  1.01539526e+01  1.89649113e+00 -2.92441707e-01\n",
            "  -3.03665258e-01  1.40302700e+00]\n",
            " [ 3.51012348e+00  1.10976490e+00  5.58104668e-03 -2.92441707e-01\n",
            "  -3.23813895e-01 -3.33411405e-01]\n",
            " [ 3.51012348e+00  1.10976490e+00  5.58104668e-03 -2.92441707e-01\n",
            "   1.59138312e+00  1.66981230e+00]]\n",
            "X_train.shape: (5090096, 6)  ,X_test.shape: (1272524, 6)\n"
          ],
          "name": "stdout"
        }
      ]
    },
    {
      "cell_type": "code",
      "metadata": {
        "id": "giNPia2tS8BI",
        "colab_type": "code",
        "colab": {}
      },
      "source": [
        "from tensorflow.keras.models import Sequential\n",
        "from tensorflow.keras.layers import Dense\n",
        "\n",
        "input_dim = X_train.shape[1]\n",
        "nb_classes = y_train.shape[1]\n",
        "\n",
        "model = Sequential()\n",
        "model.add(Dense(10, input_dim=input_dim, activation='relu', name='input'))\n",
        "model.add(Dense(20, activation='relu', name='fc1'))\n",
        "model.add(Dense(10, activation='relu', name='fc2'))\n",
        "model.add(Dense(nb_classes, activation='softmax', name='output'))\n"
      ],
      "execution_count": 9,
      "outputs": []
    },
    {
      "cell_type": "code",
      "metadata": {
        "id": "2GCoRHOkS8F5",
        "colab_type": "code",
        "colab": {}
      },
      "source": [
        "# #########################################\n",
        "# #1. 기본모델\n",
        "# ##########################################\n",
        "\n",
        "# model.compile(loss='categorical_crossentropy',\n",
        "#               optimizer='nadam',\n",
        "#               metrics=['accuracy'])\n",
        "\n",
        "# # from sklearn.utils import class_weight\n",
        "# # class_weight = class_weight.compute_class_weight('balanced', np.unique(y_train), y_train)\n",
        "# class_weight = {0 : 1., 1: 20.}\n",
        "# model.fit(X_train, y_train, epochs=3, batch_size=1000, class_weight=class_weight)\n",
        "\n",
        "# Train on 5090096 samples\n",
        "# Epoch 1/3\n",
        "# 5090096/5090096 [==============================] - 14s 3us/sample - loss: 0.0613 - acc: 0.9985\n",
        "# Epoch 2/3\n",
        "# 5090096/5090096 [==============================] - 13s 3us/sample - loss: 0.0402 - acc: 0.9981\n",
        "# Epoch 3/3\n",
        "# 5090096/5090096 [==============================] - 13s 3us/sample - loss: 0.0353 - acc: 0.9982"
      ],
      "execution_count": 10,
      "outputs": []
    },
    {
      "cell_type": "code",
      "metadata": {
        "id": "HBLhrz5ZS8Ih",
        "colab_type": "code",
        "colab": {
          "base_uri": "https://localhost:8080/",
          "height": 143
        },
        "outputId": "c00db4ad-2643-44e2-d5bd-38b3afe58808"
      },
      "source": [
        "#########################################\n",
        "#2. Forcal-Loss\n",
        "##########################################\n",
        "\n",
        "from tensorflow import keras\n",
        "import tensorflow as tf\n",
        "\n",
        "class FocalLoss(keras.losses.Loss):\n",
        "    def __init__(self, gamma=2., alpha=4.,\n",
        "                 reduction=keras.losses.Reduction.AUTO, name='focal_loss'):\n",
        "        \"\"\"Focal loss for multi-classification\n",
        "        FL(p_t)=-alpha(1-p_t)^{gamma}ln(p_t)\n",
        "        Notice: y_pred is probability after softmax\n",
        "        gradient is d(Fl)/d(p_t) not d(Fl)/d(x) as described in paper\n",
        "        d(Fl)/d(p_t) * [p_t(1-p_t)] = d(Fl)/d(x)\n",
        "        Focal Loss for Dense Object Detection\n",
        "        https://arxiv.org/abs/1708.02002\n",
        "\n",
        "        Keyword Arguments:\n",
        "            gamma {float} -- (default: {2.0})\n",
        "            alpha {float} -- (default: {4.0})\n",
        "        \"\"\"\n",
        "        super(FocalLoss, self).__init__(reduction=reduction,\n",
        "                                        name=name)\n",
        "        self.gamma = float(gamma)\n",
        "        self.alpha = float(alpha)\n",
        "\n",
        "    def call(self, y_true, y_pred):\n",
        "        \"\"\"\n",
        "        Arguments:\n",
        "            y_true {tensor} -- ground truth labels, shape of [batch_size, num_cls]\n",
        "            y_pred {tensor} -- model's output, shape of [batch_size, num_cls]\n",
        "\n",
        "        Returns:\n",
        "            [tensor] -- loss.\n",
        "        \"\"\"\n",
        "        epsilon = 1.e-9\n",
        "        y_true = tf.convert_to_tensor(y_true, tf.float32)\n",
        "        y_pred = tf.convert_to_tensor(y_pred, tf.float32)\n",
        "\n",
        "        model_out = tf.add(y_pred, epsilon)\n",
        "        ce = tf.multiply(y_true, -tf.math.log(model_out))\n",
        "        weight = tf.multiply(y_true, tf.pow(\n",
        "            tf.subtract(1., model_out), self.gamma))\n",
        "        fl = tf.multiply(self.alpha, tf.multiply(weight, ce))\n",
        "        reduced_fl = tf.reduce_max(fl, axis=1)\n",
        "        return tf.reduce_mean(reduced_fl)\n",
        "\n",
        "\n",
        "model.compile(loss=FocalLoss(alpha=1),\n",
        "              optimizer='nadam',\n",
        "              metrics=['accuracy'])\n",
        "\n",
        "model.fit(X_train, y_train, epochs=3, batch_size=1000)"
      ],
      "execution_count": 12,
      "outputs": [
        {
          "output_type": "stream",
          "text": [
            "Epoch 1/3\n",
            "5091/5091 [==============================] - 10s 2ms/step - loss: 0.0052 - accuracy: 0.9958\n",
            "Epoch 2/3\n",
            "5091/5091 [==============================] - 10s 2ms/step - loss: 0.0012 - accuracy: 0.9993\n",
            "Epoch 3/3\n",
            "5091/5091 [==============================] - 10s 2ms/step - loss: 0.0010 - accuracy: 0.9993\n"
          ],
          "name": "stdout"
        },
        {
          "output_type": "execute_result",
          "data": {
            "text/plain": [
              "<tensorflow.python.keras.callbacks.History at 0x7f39ec385278>"
            ]
          },
          "metadata": {
            "tags": []
          },
          "execution_count": 12
        }
      ]
    },
    {
      "cell_type": "code",
      "metadata": {
        "id": "sSejMBDESyTz",
        "colab_type": "code",
        "colab": {
          "base_uri": "https://localhost:8080/",
          "height": 53
        },
        "outputId": "8d404047-1a78-47a4-d4be-a8563d26fa50"
      },
      "source": [
        "score = model.evaluate(X_test, y_test, batch_size=1000)\n",
        "score\n",
        "\n",
        "#1.기본모델\n",
        "# 1272524/1272524 [==============================] - 2s 1us/sample - loss: 0.0110 - acc: 0.9985\n",
        "# [0.011038452221895432, 0.99853206]"
      ],
      "execution_count": 13,
      "outputs": [
        {
          "output_type": "stream",
          "text": [
            "1273/1273 [==============================] - 2s 1ms/step - loss: 9.6803e-04 - accuracy: 0.9993\n"
          ],
          "name": "stdout"
        },
        {
          "output_type": "execute_result",
          "data": {
            "text/plain": [
              "[0.0009680264629423618, 0.9993210434913635]"
            ]
          },
          "metadata": {
            "tags": []
          },
          "execution_count": 13
        }
      ]
    },
    {
      "cell_type": "code",
      "metadata": {
        "id": "-XzwTb5aSyRz",
        "colab_type": "code",
        "colab": {
          "base_uri": "https://localhost:8080/",
          "height": 412
        },
        "outputId": "13656df4-d879-441f-f0f9-25658003ef18"
      },
      "source": [
        "%matplotlib inline\n",
        "from sklearn import metrics\n",
        "import matplotlib.pyplot as plt\n",
        "import seaborn as sns\n",
        "sns.set(font_scale=2)\n",
        "predictions = model.predict(X_test, batch_size=1000)\n",
        "\n",
        "LABELS = ['Normal','Fraud'] \n",
        "\n",
        "max_test = np.argmax(y_test, axis=1)\n",
        "max_predictions = np.argmax(predictions, axis=1)\n",
        "confusion_matrix = metrics.confusion_matrix(max_test, max_predictions)\n",
        "\n",
        "plt.figure(figsize=(5, 5))\n",
        "sns.heatmap(confusion_matrix, xticklabels=LABELS, yticklabels=LABELS, annot=True, fmt=\"d\", annot_kws={\"size\": 20});\n",
        "plt.title(\"Confusion matrix\", fontsize=20)\n",
        "plt.ylabel('True label', fontsize=20)\n",
        "plt.xlabel('Predicted label', fontsize=20)\n",
        "plt.show()"
      ],
      "execution_count": 14,
      "outputs": [
        {
          "output_type": "stream",
          "text": [
            "/usr/local/lib/python3.6/dist-packages/statsmodels/tools/_testing.py:19: FutureWarning: pandas.util.testing is deprecated. Use the functions in the public API at pandas.testing instead.\n",
            "  import pandas.util.testing as tm\n"
          ],
          "name": "stderr"
        },
        {
          "output_type": "display_data",
          "data": {
            "image/png": "[encoded data removed]",
            "text/plain": [
              "<Figure size 360x360 with 2 Axes>"
            ]
          },
          "metadata": {
            "tags": []
          }
        }
      ]
    },
    {
      "cell_type": "code",
      "metadata": {
        "id": "KOJx_SqxNWVw",
        "colab_type": "code",
        "colab": {
          "base_uri": "https://localhost:8080/",
          "height": 35
        },
        "outputId": "828751ec-b78b-4e86-8b49-63f2adf0da21"
      },
      "source": [
        "values = confusion_matrix.view()\n",
        "error_count = values.sum() - np.trace(values)\n",
        "error_count\n",
        "#1.기본모델\n",
        "#1868"
      ],
      "execution_count": 15,
      "outputs": [
        {
          "output_type": "execute_result",
          "data": {
            "text/plain": [
              "864"
            ]
          },
          "metadata": {
            "tags": []
          },
          "execution_count": 15
        }
      ]
    },
    {
      "cell_type": "code",
      "metadata": {
        "id": "uEAgN800NWZk",
        "colab_type": "code",
        "colab": {}
      },
      "source": [
        ""
      ],
      "execution_count": null,
      "outputs": []
    }
  ]
}