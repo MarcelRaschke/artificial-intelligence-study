{
  "nbformat": 4,
  "nbformat_minor": 0,
  "metadata": {
    "colab": {
      "name": "test_normalization_minmaxsacaler_20200814.ipynb",
      "provenance": [],
      "collapsed_sections": []
    },
    "kernelspec": {
      "name": "python3",
      "display_name": "Python 3"
    }
  },
  "cells": [
    {
      "cell_type": "code",
      "metadata": {
        "id": "PJTIJV3hcDLX",
        "colab_type": "code",
        "colab": {}
      },
      "source": [
        "#https://scikit-learn.org/stable/modules/generated/sklearn.preprocessing.MinMaxScaler.html"
      ],
      "execution_count": null,
      "outputs": []
    },
    {
      "cell_type": "code",
      "metadata": {
        "id": "FZpHdKJPcOHP",
        "colab_type": "code",
        "colab": {
          "base_uri": "https://localhost:8080/",
          "height": 71
        },
        "outputId": "c1469bd7-1fed-41e6-ae3d-6b0466835638"
      },
      "source": [
        "from sklearn.preprocessing import MinMaxScaler\n",
        "data = [[-1, 2], [-0.5, 6], [0, 10], [1, 18]]\n",
        "scaler = MinMaxScaler()\n",
        "print(scaler.fit(data))\n",
        "print(scaler.data_max_)\n",
        "print(scaler.data_min_)"
      ],
      "execution_count": null,
      "outputs": [
        {
          "output_type": "stream",
          "text": [
            "MinMaxScaler(copy=True, feature_range=(0, 1))\n",
            "[ 1. 18.]\n",
            "[-1.  2.]\n"
          ],
          "name": "stdout"
        }
      ]
    },
    {
      "cell_type": "code",
      "metadata": {
        "id": "eCHKarG6cON1",
        "colab_type": "code",
        "colab": {}
      },
      "source": [
        "#https://m.blog.naver.com/PostView.nhn?blogId=wideeyed&logNo=221614354947&proxyReferer=https:%2F%2Fwww.google.com%2F"
      ],
      "execution_count": null,
      "outputs": []
    },
    {
      "cell_type": "code",
      "metadata": {
        "id": "aJWr_5h_cOKV",
        "colab_type": "code",
        "colab": {
          "base_uri": "https://localhost:8080/",
          "height": 53
        },
        "outputId": "268c5cac-ddc6-49e4-c690-c826f4ccaafc"
      },
      "source": [
        "data2 = [[-5, 25]]\n",
        "scaler.partial_fit(data2)\n",
        "print(scaler.data_max_)\n",
        "print(scaler.data_min_)"
      ],
      "execution_count": null,
      "outputs": [
        {
          "output_type": "stream",
          "text": [
            "[ 1. 25.]\n",
            "[-5.  2.]\n"
          ],
          "name": "stdout"
        }
      ]
    },
    {
      "cell_type": "code",
      "metadata": {
        "id": "tArdlL_GdbyW",
        "colab_type": "code",
        "colab": {
          "base_uri": "https://localhost:8080/",
          "height": 107
        },
        "outputId": "261e0a86-2c35-4157-df79-fbd23f3551cc"
      },
      "source": [
        "print(scaler.transform(data))\n",
        "print(scaler.transform(data2))"
      ],
      "execution_count": null,
      "outputs": [
        {
          "output_type": "stream",
          "text": [
            "[[0.66666667 0.        ]\n",
            " [0.75       0.17391304]\n",
            " [0.83333333 0.34782609]\n",
            " [1.         0.69565217]]\n",
            "[[0. 1.]]\n"
          ],
          "name": "stdout"
        }
      ]
    },
    {
      "cell_type": "code",
      "metadata": {
        "id": "yUQo60Buedv9",
        "colab_type": "code",
        "colab": {}
      },
      "source": [
        "#https://datascienceschool.net/view-notebook/f43be7d6515b48c0beb909826993c856/"
      ],
      "execution_count": null,
      "outputs": []
    },
    {
      "cell_type": "code",
      "metadata": {
        "id": "ZtXzipDXkhTn",
        "colab_type": "code",
        "colab": {
          "base_uri": "https://localhost:8080/",
          "height": 125
        },
        "outputId": "ec272799-260d-4361-d4a4-0d5629f17c00"
      },
      "source": [
        "import numpy as np\n",
        "data3 = [-10, 30]\n",
        "print(data3)\n",
        "\n",
        "data3 = np.array(data3).reshape(-1, 2)\n",
        "scaler.partial_fit(data3)\n",
        "print(data3)\n",
        "print(scaler.data_max_)\n",
        "print(scaler.data_min_)\n",
        "print(scaler.transform(data3))\n",
        "\n",
        "print(data3[0])"
      ],
      "execution_count": null,
      "outputs": [
        {
          "output_type": "stream",
          "text": [
            "[-10, 30]\n",
            "[[-10  30]]\n",
            "[30. 30.]\n",
            "[-10. -10.]\n",
            "[[0. 1.]]\n",
            "[-10]\n"
          ],
          "name": "stdout"
        }
      ]
    },
    {
      "cell_type": "code",
      "metadata": {
        "id": "60y2s9o-p2PL",
        "colab_type": "code",
        "colab": {
          "base_uri": "https://localhost:8080/",
          "height": 251
        },
        "outputId": "a1a05bd5-70fc-4de2-8aca-665d74ec2c5b"
      },
      "source": [
        "data4 = [1,2,3,4,5]\n",
        "scaler = MinMaxScaler()\n",
        "data4 = np.array(data4).reshape(-1, 1)\n",
        "print(data4)\n",
        "\n",
        "scaler.fit(data4)\n",
        "print(scaler.transform(data4))\n",
        "\n",
        "print(data4[:10, 0])\n",
        "print(np.array(data4[:, 0]))\n",
        "print(np.array(data4[:, 0])[:10])"
      ],
      "execution_count": null,
      "outputs": [
        {
          "output_type": "stream",
          "text": [
            "[[1]\n",
            " [2]\n",
            " [3]\n",
            " [4]\n",
            " [5]]\n",
            "[[0.  ]\n",
            " [0.25]\n",
            " [0.5 ]\n",
            " [0.75]\n",
            " [1.  ]]\n",
            "[1 2 3 4 5]\n",
            "[1 2 3 4 5]\n",
            "[1 2 3 4 5]\n"
          ],
          "name": "stdout"
        }
      ]
    }
  ]
}