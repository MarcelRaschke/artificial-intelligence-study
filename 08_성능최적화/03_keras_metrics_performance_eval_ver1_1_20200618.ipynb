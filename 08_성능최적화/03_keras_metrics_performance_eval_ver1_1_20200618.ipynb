{
  "nbformat": 4,
  "nbformat_minor": 0,
  "metadata": {
    "colab": {
      "name": "keras-metrics_performance-eval_ver1.1_20200618.ipynb",
      "provenance": [],
      "collapsed_sections": [],
      "machine_shape": "hm"
    },
    "kernelspec": {
      "name": "python3",
      "display_name": "Python 3"
    },
    "accelerator": "GPU"
  },
  "cells": [
    {
      "cell_type": "code",
      "metadata": {
        "id": "yhaIervSvpzt",
        "colab_type": "code",
        "colab": {}
      },
      "source": [
        "##################################################\n",
        "# 1. keras 엔진을 활용하여 precision, recall 계산\n",
        "##################################################"
      ],
      "execution_count": null,
      "outputs": []
    },
    {
      "cell_type": "code",
      "metadata": {
        "id": "thpGK39PEFK3",
        "colab_type": "code",
        "colab": {
          "base_uri": "https://localhost:8080/",
          "height": 35
        },
        "outputId": "2f8e15a7-acb7-4a9c-8eed-b409a7509d1a"
      },
      "source": [
        "#http://blog.naver.com/PostView.nhn?blogId=wideeyed&logNo=221226716255\n",
        "#1. keras metrics로 precision,recall custom정의\n",
        "from keras import backend as K\n",
        "def recall(y_target, y_pred):\n",
        "    # clip(t, clip_value_min, clip_value_max) : clip_value_min~clip_value_max 이외 가장자리를 깎아 낸다\n",
        "    # round : 반올림한다\n",
        "    y_target_yn = K.round(K.clip(y_target, 0, 1)) # 실제값을 0(Negative) 또는 1(Positive)로 설정한다\n",
        "    y_pred_yn = K.round(K.clip(y_pred, 0, 1)) # 예측값을 0(Negative) 또는 1(Positive)로 설정한다\n",
        "\n",
        "    # True Positive는 실제 값과 예측 값이 모두 1(Positive)인 경우이다\n",
        "    count_true_positive = K.sum(y_target_yn * y_pred_yn) \n",
        "\n",
        "    # (True Positive + False Negative) = 실제 값이 1(Positive) 전체\n",
        "    count_true_positive_false_negative = K.sum(y_target_yn)\n",
        "\n",
        "    # Recall =  (True Positive) / (True Positive + False Negative)\n",
        "    # K.epsilon()는 'divide by zero error' 예방차원에서 작은 수를 더한다\n",
        "    recall = count_true_positive / (count_true_positive_false_negative + K.epsilon())\n",
        "\n",
        "    # return a single tensor value\n",
        "    return recall\n",
        "\n",
        "def precision(y_target, y_pred):\n",
        "    # clip(t, clip_value_min, clip_value_max) : clip_value_min~clip_value_max 이외 가장자리를 깎아 낸다\n",
        "    # round : 반올림한다\n",
        "    y_pred_yn = K.round(K.clip(y_pred, 0, 1)) # 예측값을 0(Negative) 또는 1(Positive)로 설정한다\n",
        "    y_target_yn = K.round(K.clip(y_target, 0, 1)) # 실제값을 0(Negative) 또는 1(Positive)로 설정한다\n",
        "\n",
        "    # True Positive는 실제 값과 예측 값이 모두 1(Positive)인 경우이다\n",
        "    count_true_positive = K.sum(y_target_yn * y_pred_yn) \n",
        "\n",
        "    # (True Positive + False Positive) = 예측 값이 1(Positive) 전체\n",
        "    count_true_positive_false_positive = K.sum(y_pred_yn)\n",
        "\n",
        "    # Precision = (True Positive) / (True Positive + False Positive)\n",
        "    # K.epsilon()는 'divide by zero error' 예방차원에서 작은 수를 더한다\n",
        "    precision = count_true_positive / (count_true_positive_false_positive + K.epsilon())\n",
        "\n",
        "    # return a single tensor value\n",
        "    return precision\n",
        "\n",
        "def f1score(y_target, y_pred):\n",
        "    _recall = recall(y_target, y_pred)\n",
        "    _precision = precision(y_target, y_pred)\n",
        "    # K.epsilon()는 'divide by zero error' 예방차원에서 작은 수를 더한다\n",
        "    _f1score = ( 2 * _recall * _precision) / (_recall + _precision+ K.epsilon())\n",
        "    \n",
        "    # return a single tensor value\n",
        "    return _f1score"
      ],
      "execution_count": null,
      "outputs": [
        {
          "output_type": "stream",
          "text": [
            "Using TensorFlow backend.\n"
          ],
          "name": "stderr"
        }
      ]
    },
    {
      "cell_type": "code",
      "metadata": {
        "id": "27ntMs4KndXR",
        "colab_type": "code",
        "colab": {
          "base_uri": "https://localhost:8080/",
          "height": 71
        },
        "outputId": "386da39f-4d22-4243-9610-c43367378048"
      },
      "source": [
        "#https://keras.io/examples/mnist_cnn/\n",
        "from __future__ import print_function\n",
        "import keras\n",
        "from keras.datasets import mnist\n",
        "from keras.models import Sequential\n",
        "from keras.layers import Dense, Dropout, Flatten\n",
        "from keras.layers import Conv2D, MaxPooling2D\n",
        "from keras import backend as K\n",
        "\n",
        "batch_size = 128\n",
        "num_classes = 10\n",
        "epochs = 12\n",
        "\n",
        "# input image dimensions\n",
        "img_rows, img_cols = 28, 28\n",
        "\n",
        "# the data, split between train and test sets\n",
        "(x_train, y_train), (x_test, y_test) = mnist.load_data()\n",
        "\n",
        "if K.image_data_format() == 'channels_first':\n",
        "    x_train = x_train.reshape(x_train.shape[0], 1, img_rows, img_cols)\n",
        "    x_test = x_test.reshape(x_test.shape[0], 1, img_rows, img_cols)\n",
        "    input_shape = (1, img_rows, img_cols)\n",
        "else:\n",
        "    x_train = x_train.reshape(x_train.shape[0], img_rows, img_cols, 1)\n",
        "    x_test = x_test.reshape(x_test.shape[0], img_rows, img_cols, 1)\n",
        "    input_shape = (img_rows, img_cols, 1)\n",
        "\n",
        "x_train = x_train.astype('float32')\n",
        "x_test = x_test.astype('float32')\n",
        "x_train /= 255\n",
        "x_test /= 255\n",
        "print('x_train shape:', x_train.shape)\n",
        "print(x_train.shape[0], 'train samples')\n",
        "print(x_test.shape[0], 'test samples')\n",
        "\n",
        "# convert class vectors to binary class matrices\n",
        "y_train = keras.utils.to_categorical(y_train, num_classes)\n",
        "y_test_cate = keras.utils.to_categorical(y_test, num_classes)"
      ],
      "execution_count": null,
      "outputs": [
        {
          "output_type": "stream",
          "text": [
            "x_train shape: (60000, 28, 28, 1)\n",
            "60000 train samples\n",
            "10000 test samples\n"
          ],
          "name": "stdout"
        }
      ]
    },
    {
      "cell_type": "code",
      "metadata": {
        "id": "PULwDuFyn28d",
        "colab_type": "code",
        "colab": {
          "base_uri": "https://localhost:8080/",
          "height": 505
        },
        "outputId": "294a38fa-87b0-4748-cb70-924bd6d081cb"
      },
      "source": [
        "model = Sequential()\n",
        "model.add(Conv2D(32, kernel_size=(3, 3),\n",
        "                 activation='relu',\n",
        "                 input_shape=input_shape))\n",
        "model.add(Conv2D(64, (3, 3), activation='relu'))\n",
        "model.add(MaxPooling2D(pool_size=(2, 2)))\n",
        "model.add(Dropout(0.25))\n",
        "model.add(Flatten())\n",
        "model.add(Dense(128, activation='relu'))\n",
        "model.add(Dropout(0.5))\n",
        "model.add(Dense(num_classes, activation='softmax'))\n",
        "\n",
        "#model.compile(loss=keras.losses.categorical_crossentropy,optimizer=keras.optimizers.Adadelta(), metrics=['accuracy'])\n",
        "model.compile(optimizer=keras.optimizers.Adadelta(), loss=keras.losses.categorical_crossentropy, metrics=['accuracy', precision, recall, f1score])\n",
        "\n",
        "model.fit(x_train, y_train,\n",
        "          batch_size=batch_size,\n",
        "          epochs=epochs,\n",
        "          verbose=1,\n",
        "          validation_data=(x_test, y_test_cate))\n",
        "\n",
        "#score = model.evaluate(x_test, y_test_cate, verbose=0)\n",
        "#print('Test loss:', score[0])\n",
        "#print('Test accuracy:', score[1])\n",
        "\n",
        "_loss, _acc, _precision, _recall, _f1score = model.evaluate(x_test, y_test_cate, verbose=0)\n",
        "print('loss: {:.3f}, accuracy: {:.3f}, precision: {:.3f}, recall: {:.3f}, f1score: {:.3f}'.format(_loss, _acc, _precision, _recall, _f1score))\n"
      ],
      "execution_count": null,
      "outputs": [
        {
          "output_type": "stream",
          "text": [
            "Train on 60000 samples, validate on 10000 samples\n",
            "Epoch 1/12\n",
            "60000/60000 [==============================] - 5s 83us/step - loss: 0.2649 - accuracy: 0.9189 - precision: 0.9375 - recall: 0.8943 - f1score: 0.9112 - val_loss: 0.0574 - val_accuracy: 0.9818 - val_precision: 0.9860 - val_recall: 0.9791 - val_f1score: 0.9825\n",
            "Epoch 2/12\n",
            "60000/60000 [==============================] - 3s 57us/step - loss: 0.0900 - accuracy: 0.9733 - precision: 0.9773 - recall: 0.9700 - f1score: 0.9736 - val_loss: 0.0435 - val_accuracy: 0.9856 - val_precision: 0.9873 - val_recall: 0.9840 - val_f1score: 0.9856\n",
            "Epoch 3/12\n",
            "60000/60000 [==============================] - 3s 57us/step - loss: 0.0659 - accuracy: 0.9804 - precision: 0.9831 - recall: 0.9780 - f1score: 0.9806 - val_loss: 0.0364 - val_accuracy: 0.9880 - val_precision: 0.9894 - val_recall: 0.9871 - val_f1score: 0.9883\n",
            "Epoch 4/12\n",
            "60000/60000 [==============================] - 3s 57us/step - loss: 0.0534 - accuracy: 0.9844 - precision: 0.9864 - recall: 0.9826 - f1score: 0.9844 - val_loss: 0.0391 - val_accuracy: 0.9864 - val_precision: 0.9878 - val_recall: 0.9857 - val_f1score: 0.9867\n",
            "Epoch 5/12\n",
            "60000/60000 [==============================] - 3s 57us/step - loss: 0.0475 - accuracy: 0.9857 - precision: 0.9876 - recall: 0.9843 - f1score: 0.9859 - val_loss: 0.0310 - val_accuracy: 0.9895 - val_precision: 0.9904 - val_recall: 0.9894 - val_f1score: 0.9899\n",
            "Epoch 6/12\n",
            "60000/60000 [==============================] - 3s 57us/step - loss: 0.0417 - accuracy: 0.9875 - precision: 0.9893 - recall: 0.9862 - f1score: 0.9878 - val_loss: 0.0277 - val_accuracy: 0.9904 - val_precision: 0.9915 - val_recall: 0.9896 - val_f1score: 0.9905\n",
            "Epoch 7/12\n",
            "60000/60000 [==============================] - 3s 57us/step - loss: 0.0370 - accuracy: 0.9887 - precision: 0.9901 - recall: 0.9877 - f1score: 0.9889 - val_loss: 0.0314 - val_accuracy: 0.9902 - val_precision: 0.9912 - val_recall: 0.9895 - val_f1score: 0.9903\n",
            "Epoch 8/12\n",
            "60000/60000 [==============================] - 3s 57us/step - loss: 0.0333 - accuracy: 0.9896 - precision: 0.9909 - recall: 0.9887 - f1score: 0.9898 - val_loss: 0.0279 - val_accuracy: 0.9906 - val_precision: 0.9913 - val_recall: 0.9902 - val_f1score: 0.9907\n",
            "Epoch 9/12\n",
            "60000/60000 [==============================] - 3s 57us/step - loss: 0.0305 - accuracy: 0.9905 - precision: 0.9916 - recall: 0.9897 - f1score: 0.9906 - val_loss: 0.0257 - val_accuracy: 0.9918 - val_precision: 0.9926 - val_recall: 0.9916 - val_f1score: 0.9921\n",
            "Epoch 10/12\n",
            "60000/60000 [==============================] - 3s 57us/step - loss: 0.0286 - accuracy: 0.9914 - precision: 0.9923 - recall: 0.9906 - f1score: 0.9915 - val_loss: 0.0316 - val_accuracy: 0.9906 - val_precision: 0.9910 - val_recall: 0.9904 - val_f1score: 0.9907\n",
            "Epoch 11/12\n",
            "60000/60000 [==============================] - 4s 59us/step - loss: 0.0270 - accuracy: 0.9920 - precision: 0.9926 - recall: 0.9913 - f1score: 0.9919 - val_loss: 0.0311 - val_accuracy: 0.9907 - val_precision: 0.9913 - val_recall: 0.9902 - val_f1score: 0.9907\n",
            "Epoch 12/12\n",
            "60000/60000 [==============================] - 4s 65us/step - loss: 0.0267 - accuracy: 0.9922 - precision: 0.9928 - recall: 0.9915 - f1score: 0.9922 - val_loss: 0.0279 - val_accuracy: 0.9916 - val_precision: 0.9927 - val_recall: 0.9912 - val_f1score: 0.9919\n",
            "loss: 0.028, accuracy: 0.992, precision: 0.993, recall: 0.991, f1score: 0.992\n"
          ],
          "name": "stdout"
        }
      ]
    },
    {
      "cell_type": "code",
      "metadata": {
        "id": "ehr5U7HKv01J",
        "colab_type": "code",
        "colab": {}
      },
      "source": [
        "##############################################################\n",
        "# 2. sklearn 패키지를 이용하여 precision, recall, roc/auc 확인\n",
        "##############################################################"
      ],
      "execution_count": null,
      "outputs": []
    },
    {
      "cell_type": "code",
      "metadata": {
        "id": "EWzVkhJjFYCP",
        "colab_type": "code",
        "colab": {
          "base_uri": "https://localhost:8080/",
          "height": 179
        },
        "outputId": "0ccbfa9a-0e73-4369-e438-f241cdfb7219"
      },
      "source": [
        "#https://datascienceschool.net/view-notebook/731e0d2ef52c41c686ba53dcaf346f32/\n",
        "#2-1. (binary class) sklearn 패키지로 좀더 친절하게 수치출력 및 표시\n",
        "from sklearn.metrics import classification_report\n",
        "\n",
        "y_true = [0, 0, 0, 1, 1, 0, 0]\n",
        "y_pred = [0, 0, 0, 0, 1, 1, 1]\n",
        "\n",
        "print(classification_report(y_true, y_pred, target_names=['class 0', 'class 1']))"
      ],
      "execution_count": null,
      "outputs": [
        {
          "output_type": "stream",
          "text": [
            "              precision    recall  f1-score   support\n",
            "\n",
            "     class 0       0.75      0.60      0.67         5\n",
            "     class 1       0.33      0.50      0.40         2\n",
            "\n",
            "    accuracy                           0.57         7\n",
            "   macro avg       0.54      0.55      0.53         7\n",
            "weighted avg       0.63      0.57      0.59         7\n",
            "\n"
          ],
          "name": "stdout"
        }
      ]
    },
    {
      "cell_type": "code",
      "metadata": {
        "id": "BUT5wI-nFgCN",
        "colab_type": "code",
        "colab": {
          "base_uri": "https://localhost:8080/",
          "height": 53
        },
        "outputId": "cd6c0aaa-2366-491e-8f95-bb98de470e4c"
      },
      "source": [
        "from sklearn.datasets import make_classification\n",
        "from sklearn.linear_model import LogisticRegression\n",
        "from sklearn.metrics import confusion_matrix\n",
        "import pandas as pd\n",
        "import numpy as np\n",
        "\n",
        "X, y = make_classification(n_samples=16, n_features=2,\n",
        "                           n_informative=2, n_redundant=0,\n",
        "                           random_state=0)\n",
        "\n",
        "L_model = LogisticRegression().fit(X, y)\n",
        "y_hat = L_model.predict(X)\n",
        "f_value = L_model.decision_function(X)\n",
        "\n",
        "df = pd.DataFrame(np.vstack([f_value, y_hat, y]).T, columns=[\"f\", \"y_hat\", \"y\"])\n",
        "df.sort_values(\"f\", ascending=False).reset_index(drop=True)\n",
        "\n",
        "c_matrix = confusion_matrix(y, y_hat, labels=[1, 0])\n",
        "print(c_matrix)\n",
        "# \t          양성이라고 예측\t                  음성이라고 예측\n",
        "# 실제 양성 :\t양성 예측이 맞음 (True Positive)\t음성 예측이 틀림 (False Negative)\n",
        "# 실제 음성 :\t양성 예측이 틀림 (False Positive)\t음성 예측이 맞음 (True Negative)"
      ],
      "execution_count": null,
      "outputs": [
        {
          "output_type": "stream",
          "text": [
            "[[7 1]\n",
            " [1 7]]\n"
          ],
          "name": "stdout"
        }
      ]
    },
    {
      "cell_type": "code",
      "metadata": {
        "id": "UReGwq8aHC48",
        "colab_type": "code",
        "colab": {}
      },
      "source": [
        "def get_matrics_info(c_matrix):\n",
        "    #recall = TP / (TP + FN)\n",
        "    TP = c_matrix[0][0]\n",
        "    FN = c_matrix[0][1]\n",
        "    recall= TP / (TP+FN)\n",
        "    print('TP:',TP)\n",
        "    print('FN:',FN)\n",
        "    print('recall:',recall)\n",
        "\n",
        "    #fallout= FP / (FP+TN)\n",
        "    FP = c_matrix[1][0]\n",
        "    TN = c_matrix[1][1]\n",
        "    fallout= FP / (FP+TN)\n",
        "    print('FP:',FP)\n",
        "    print('TN:',TN)\n",
        "    print('fallout:',fallout)\n",
        "    return recall, fallout"
      ],
      "execution_count": null,
      "outputs": []
    },
    {
      "cell_type": "code",
      "metadata": {
        "id": "iS_Cv6ZzGR6V",
        "colab_type": "code",
        "colab": {
          "base_uri": "https://localhost:8080/",
          "height": 997
        },
        "outputId": "f7acedd3-15d5-4c3e-b54b-e442ee72cdef"
      },
      "source": [
        "from sklearn.metrics import roc_curve, auc\n",
        "import matplotlib.pyplot as plt\n",
        "\n",
        "def print_roc(y, pre_y, c_matrix):  \n",
        "  fpr, tpr, thresholds = roc_curve(y, pre_y)\n",
        "  print(fpr, tpr, thresholds)\n",
        "  recall, fallout = get_matrics_info(c_matrix)\n",
        "  \n",
        "  plt.plot(fpr, tpr, 'o-', label=\"Logistic Regression\")\n",
        "  plt.plot([0, 1], [0, 1], 'k--', label=\"random guess\")\n",
        "  plt.plot([fallout], [recall], 'ro', ms=10)\n",
        "  plt.xlabel('위양성률(Fall-Out)')\n",
        "  plt.ylabel('재현률(Recall)')\n",
        "  plt.title('Receiver operating characteristic example')\n",
        "  plt.show()\n",
        "\n",
        "  return fpr, tpr\n",
        "\n",
        "print('y.shape:', y.shape)\n",
        "print('y:', y)\n",
        "pre_y_dec = L_model.decision_function(X)\n",
        "print('pre_y_dec.shape:', pre_y_dec.shape)\n",
        "print('pre_y_dec:', pre_y_dec)\n",
        "print()\n",
        "\n",
        "fpr, tpr = print_roc(y, pre_y_dec, c_matrix)"
      ],
      "execution_count": null,
      "outputs": [
        {
          "output_type": "stream",
          "text": [
            "y.shape: (16,)\n",
            "y: [0 1 0 1 1 0 0 0 1 0 1 0 1 1 0 1]\n",
            "pre_y_dec.shape: (16,)\n",
            "pre_y_dec: [ 0.37829565  1.6336573  -1.42938156  1.21967832  2.06504666 -4.11896895\n",
            " -1.04677034 -1.21469968  1.62496692 -0.43866584 -0.92693183 -0.76588836\n",
            "  0.09428499  1.62617134 -2.08158634  2.36316277]\n",
            "\n",
            "[0.    0.    0.    0.125 0.125 0.375 0.375 1.   ] [0.    0.125 0.75  0.75  0.875 0.875 1.    1.   ] [ 3.36316277  2.36316277  1.21967832  0.37829565  0.09428499 -0.76588836\n",
            " -0.92693183 -4.11896895]\n",
            "TP: 7\n",
            "FN: 1\n",
            "recall: 0.875\n",
            "FP: 1\n",
            "TN: 7\n",
            "fallout: 0.125\n"
          ],
          "name": "stdout"
        },
        {
          "output_type": "stream",
          "text": [
            "/usr/local/lib/python3.6/dist-packages/matplotlib/backends/backend_agg.py:214: RuntimeWarning: Glyph 50948 missing from current font.\n",
            "  font.set_text(s, 0.0, flags=flags)\n",
            "/usr/local/lib/python3.6/dist-packages/matplotlib/backends/backend_agg.py:214: RuntimeWarning: Glyph 50577 missing from current font.\n",
            "  font.set_text(s, 0.0, flags=flags)\n",
            "/usr/local/lib/python3.6/dist-packages/matplotlib/backends/backend_agg.py:214: RuntimeWarning: Glyph 49457 missing from current font.\n",
            "  font.set_text(s, 0.0, flags=flags)\n",
            "/usr/local/lib/python3.6/dist-packages/matplotlib/backends/backend_agg.py:214: RuntimeWarning: Glyph 47456 missing from current font.\n",
            "  font.set_text(s, 0.0, flags=flags)\n",
            "/usr/local/lib/python3.6/dist-packages/matplotlib/backends/backend_agg.py:214: RuntimeWarning: Glyph 51116 missing from current font.\n",
            "  font.set_text(s, 0.0, flags=flags)\n",
            "/usr/local/lib/python3.6/dist-packages/matplotlib/backends/backend_agg.py:214: RuntimeWarning: Glyph 54788 missing from current font.\n",
            "  font.set_text(s, 0.0, flags=flags)\n",
            "/usr/local/lib/python3.6/dist-packages/matplotlib/backends/backend_agg.py:183: RuntimeWarning: Glyph 50948 missing from current font.\n",
            "  font.set_text(s, 0, flags=flags)\n",
            "/usr/local/lib/python3.6/dist-packages/matplotlib/backends/backend_agg.py:183: RuntimeWarning: Glyph 50577 missing from current font.\n",
            "  font.set_text(s, 0, flags=flags)\n",
            "/usr/local/lib/python3.6/dist-packages/matplotlib/backends/backend_agg.py:183: RuntimeWarning: Glyph 49457 missing from current font.\n",
            "  font.set_text(s, 0, flags=flags)\n",
            "/usr/local/lib/python3.6/dist-packages/matplotlib/backends/backend_agg.py:183: RuntimeWarning: Glyph 47456 missing from current font.\n",
            "  font.set_text(s, 0, flags=flags)\n",
            "/usr/local/lib/python3.6/dist-packages/matplotlib/backends/backend_agg.py:183: RuntimeWarning: Glyph 51116 missing from current font.\n",
            "  font.set_text(s, 0, flags=flags)\n",
            "/usr/local/lib/python3.6/dist-packages/matplotlib/backends/backend_agg.py:183: RuntimeWarning: Glyph 54788 missing from current font.\n",
            "  font.set_text(s, 0, flags=flags)\n"
          ],
          "name": "stderr"
        },
        {
          "output_type": "display_data",
          "data": {
            "image/png": "[encoded data removed]",
            "text/plain": [
              "<Figure size 432x288 with 1 Axes>"
            ]
          },
          "metadata": {
            "tags": [],
            "needs_background": "light"
          }
        }
      ]
    },
    {
      "cell_type": "code",
      "metadata": {
        "id": "RVCyzKM7wkk6",
        "colab_type": "code",
        "colab": {
          "base_uri": "https://localhost:8080/",
          "height": 35
        },
        "outputId": "75b900da-647b-425b-d0e0-7ed8702fb173"
      },
      "source": [
        "#모델이 여러개 있을때, AUC값이 1에 가까울수록  좋은 모형이다.\n",
        "from sklearn.metrics import auc\n",
        "print(auc(fpr, tpr))"
      ],
      "execution_count": null,
      "outputs": [
        {
          "output_type": "stream",
          "text": [
            "0.9375\n"
          ],
          "name": "stdout"
        }
      ]
    },
    {
      "cell_type": "code",
      "metadata": {
        "id": "YcFDjcg5wRnH",
        "colab_type": "code",
        "colab": {
          "base_uri": "https://localhost:8080/",
          "height": 215
        },
        "outputId": "4057d453-c50f-4167-c434-209b967d41cc"
      },
      "source": [
        "#2-2. (multi-class) 개별 class 값을 추출->2-1의 방식으로 개별환산\n",
        "from sklearn.naive_bayes import GaussianNB\n",
        "from sklearn.datasets import load_iris\n",
        "from sklearn.preprocessing import label_binarize\n",
        "\n",
        "iris = load_iris()\n",
        "X = iris.data\n",
        "print('iris.target.shape:', iris.target.shape)\n",
        "print('iris.target[0]:', iris.target[0])\n",
        "y = label_binarize(iris.target, [0, 1, 2])\n",
        "\n",
        "print('X.shape:', X.shape)\n",
        "print('X[0]:', X[0])\n",
        "print('y.shape:', y.shape)\n",
        "print('y[0]:', y[0])\n",
        "\n",
        "print('y[:, 2]:', y[:, 2])"
      ],
      "execution_count": null,
      "outputs": [
        {
          "output_type": "stream",
          "text": [
            "iris.target.shape: (150,)\n",
            "iris.target[0]: 0\n",
            "X.shape: (150, 4)\n",
            "X[0]: [5.1 3.5 1.4 0.2]\n",
            "y.shape: (150, 3)\n",
            "y[0]: [1 0 0]\n",
            "y[:, 2]: [0 0 0 0 0 0 0 0 0 0 0 0 0 0 0 0 0 0 0 0 0 0 0 0 0 0 0 0 0 0 0 0 0 0 0 0 0\n",
            " 0 0 0 0 0 0 0 0 0 0 0 0 0 0 0 0 0 0 0 0 0 0 0 0 0 0 0 0 0 0 0 0 0 0 0 0 0\n",
            " 0 0 0 0 0 0 0 0 0 0 0 0 0 0 0 0 0 0 0 0 0 0 0 0 0 0 1 1 1 1 1 1 1 1 1 1 1\n",
            " 1 1 1 1 1 1 1 1 1 1 1 1 1 1 1 1 1 1 1 1 1 1 1 1 1 1 1 1 1 1 1 1 1 1 1 1 1\n",
            " 1 1]\n"
          ],
          "name": "stdout"
        }
      ]
    },
    {
      "cell_type": "code",
      "metadata": {
        "id": "xNjXM_jiwRry",
        "colab_type": "code",
        "colab": {
          "base_uri": "https://localhost:8080/",
          "height": 981
        },
        "outputId": "10fdb6dc-f7c3-4e07-f5a2-1cfad2959e7f"
      },
      "source": [
        "fpr = [None] * 3\n",
        "tpr = [None] * 3\n",
        "thr = [None] * 3\n",
        "\n",
        "for i in range(3):\n",
        "    model_G = GaussianNB().fit(X, y[:, i])\n",
        "    pre_proba = model_G.predict_proba(X) #model_G.predict_proba(X)[:, 1]\n",
        "    print('pre_proba.shape:', pre_proba.shape)\n",
        "    print('pre_proba[0]:', pre_proba[0])\n",
        "    pre_proba = pre_proba[:, 1]\n",
        "    print('pre_proba.shape:', pre_proba.shape)\n",
        "    print('pre_proba[0]:', pre_proba[0])\n",
        "    fpr[i], tpr[i], thr[i] = roc_curve(y[:, i], pre_proba)\n",
        "    plt.plot(fpr[i], tpr[i])\n",
        "    print('i:', i , ' ,auc:', auc(fpr[i], tpr[i]))\n",
        "\n",
        "plt.xlabel('위양성률(Fall-Out)')\n",
        "plt.ylabel('재현률(Recall)')\n",
        "plt.show()"
      ],
      "execution_count": null,
      "outputs": [
        {
          "output_type": "stream",
          "text": [
            "pre_proba.shape: (150, 2)\n",
            "pre_proba[0]: [6.71160012e-10 9.99999999e-01]\n",
            "pre_proba.shape: (150,)\n",
            "pre_proba[0]: 0.99999999932884\n",
            "i: 0  ,auc: 1.0\n",
            "pre_proba.shape: (150, 2)\n",
            "pre_proba[0]: [1.00000000e+00 8.32082778e-16]\n",
            "pre_proba.shape: (150,)\n",
            "pre_proba[0]: 8.320827776172383e-16\n",
            "i: 1  ,auc: 0.9818\n",
            "pre_proba.shape: (150, 2)\n",
            "pre_proba[0]: [1.00000000e+00 1.45863603e-23]\n",
            "pre_proba.shape: (150,)\n",
            "pre_proba[0]: 1.458636025994255e-23\n",
            "i: 2  ,auc: 0.989\n"
          ],
          "name": "stdout"
        },
        {
          "output_type": "stream",
          "text": [
            "/usr/local/lib/python3.6/dist-packages/matplotlib/backends/backend_agg.py:214: RuntimeWarning: Glyph 50948 missing from current font.\n",
            "  font.set_text(s, 0.0, flags=flags)\n",
            "/usr/local/lib/python3.6/dist-packages/matplotlib/backends/backend_agg.py:214: RuntimeWarning: Glyph 50577 missing from current font.\n",
            "  font.set_text(s, 0.0, flags=flags)\n",
            "/usr/local/lib/python3.6/dist-packages/matplotlib/backends/backend_agg.py:214: RuntimeWarning: Glyph 49457 missing from current font.\n",
            "  font.set_text(s, 0.0, flags=flags)\n",
            "/usr/local/lib/python3.6/dist-packages/matplotlib/backends/backend_agg.py:214: RuntimeWarning: Glyph 47456 missing from current font.\n",
            "  font.set_text(s, 0.0, flags=flags)\n",
            "/usr/local/lib/python3.6/dist-packages/matplotlib/backends/backend_agg.py:214: RuntimeWarning: Glyph 51116 missing from current font.\n",
            "  font.set_text(s, 0.0, flags=flags)\n",
            "/usr/local/lib/python3.6/dist-packages/matplotlib/backends/backend_agg.py:214: RuntimeWarning: Glyph 54788 missing from current font.\n",
            "  font.set_text(s, 0.0, flags=flags)\n",
            "/usr/local/lib/python3.6/dist-packages/matplotlib/backends/backend_agg.py:183: RuntimeWarning: Glyph 50948 missing from current font.\n",
            "  font.set_text(s, 0, flags=flags)\n",
            "/usr/local/lib/python3.6/dist-packages/matplotlib/backends/backend_agg.py:183: RuntimeWarning: Glyph 50577 missing from current font.\n",
            "  font.set_text(s, 0, flags=flags)\n",
            "/usr/local/lib/python3.6/dist-packages/matplotlib/backends/backend_agg.py:183: RuntimeWarning: Glyph 49457 missing from current font.\n",
            "  font.set_text(s, 0, flags=flags)\n",
            "/usr/local/lib/python3.6/dist-packages/matplotlib/backends/backend_agg.py:183: RuntimeWarning: Glyph 47456 missing from current font.\n",
            "  font.set_text(s, 0, flags=flags)\n",
            "/usr/local/lib/python3.6/dist-packages/matplotlib/backends/backend_agg.py:183: RuntimeWarning: Glyph 51116 missing from current font.\n",
            "  font.set_text(s, 0, flags=flags)\n",
            "/usr/local/lib/python3.6/dist-packages/matplotlib/backends/backend_agg.py:183: RuntimeWarning: Glyph 54788 missing from current font.\n",
            "  font.set_text(s, 0, flags=flags)\n"
          ],
          "name": "stderr"
        },
        {
          "output_type": "display_data",
          "data": {
            "image/png": "[encoded data removed]",
            "text/plain": [
              "<Figure size 432x288 with 1 Axes>"
            ]
          },
          "metadata": {
            "tags": [],
            "needs_background": "light"
          }
        }
      ]
    },
    {
      "cell_type": "code",
      "metadata": {
        "id": "BeIyOw5oLrQj",
        "colab_type": "code",
        "colab": {
          "base_uri": "https://localhost:8080/",
          "height": 595
        },
        "outputId": "fe307e05-96cd-442e-d7ec-54297daed4c8"
      },
      "source": [
        "######################################\n",
        "# MNIST결과를 ROC에 적용(multi-calls)\n",
        "######################################\n",
        "import numpy as np\n",
        "\n",
        "pre_y = model.predict(x_test)\n",
        "#print(pre_y)\n",
        "pre_y_argmax = np.argmax(pre_y, axis=-1)\n",
        "print('pre_y_argmax[0]:', pre_y_argmax[0])\n",
        "print(pre_y_argmax.shape)\n",
        "print(y_test.shape)\n",
        "\n",
        "label_bin = []\n",
        "for idx in range(num_classes): #MNIST에서 정의한 class갯수(num_classes)\n",
        "  label_bin.append(idx)\n",
        "\n",
        "# #binary로 변환\n",
        "# #y = label_binarize(pre_y_argmax, [0, 1, 2])\n",
        "y_bin = label_binarize(pre_y_argmax, label_bin)\n",
        "print('y_bin.shape:', y_bin.shape)\n",
        "print('y_bin[0].shape:', y_bin[0].shape)\n",
        "print('y_bin[:, 0].shape:', y_bin[:, 0].shape)\n",
        "print('y_bin[0]:', y_bin[0])\n",
        "print('y_bin[:, 0]:', y_bin[:, 0])\n",
        "print('y_bin[:, 1]:', y_bin[:, 1])\n",
        "\n",
        "# def getCategorical(val, num_classes):\n",
        "#     return keras.utils.to_categorical(val, num_classes)\n",
        "\n",
        "#label별로 data와 label을 따로 담는다\n",
        "x_test_cls = []\n",
        "x_cls_dic = {}\n",
        "y_cls_dic = {}\n",
        "for idx, label in enumerate(y_test):\n",
        "    if label not in x_cls_dic: \n",
        "        x_cls_dic[label] =  [x_test[idx]]       \n",
        "        y_cls_dic[label] =  [y_test[idx]] #binary로 변환\n",
        "    else: \n",
        "        x_test_list = x_cls_dic[label]\n",
        "        x_test_list.append(x_test[idx])\n",
        "        y_test_list = y_cls_dic[label]\n",
        "        y_test_list.append(y_test[idx]) #binary로 변환\n",
        "for key in x_cls_dic.keys():\n",
        "    print('key:', key, ' ,len:', len(x_cls_dic[key]), ' ,type:', type(x_cls_dic[key]))\n",
        "    print('key:', key, ' ,len:', len(y_cls_dic[key]), ' ,type:', type(y_cls_dic[key]))\n",
        "print(y_cls_dic[0][0])\n",
        "print(y_cls_dic[0])"
      ],
      "execution_count": null,
      "outputs": [
        {
          "output_type": "stream",
          "text": [
            "pre_y_argmax[0]: 7\n",
            "(10000,)\n",
            "(10000,)\n",
            "y_bin.shape: (10000, 10)\n",
            "y_bin[0].shape: (10,)\n",
            "y_bin[:, 0].shape: (10000,)\n",
            "y_bin[0]: [0 0 0 0 0 0 0 1 0 0]\n",
            "y_bin[:, 0]: [0 0 0 ... 0 0 0]\n",
            "y_bin[:, 1]: [0 0 1 ... 0 0 0]\n",
            "key: 7  ,len: 1028  ,type: <class 'list'>\n",
            "key: 7  ,len: 1028  ,type: <class 'list'>\n",
            "key: 2  ,len: 1032  ,type: <class 'list'>\n",
            "key: 2  ,len: 1032  ,type: <class 'list'>\n",
            "key: 1  ,len: 1135  ,type: <class 'list'>\n",
            "key: 1  ,len: 1135  ,type: <class 'list'>\n",
            "key: 0  ,len: 980  ,type: <class 'list'>\n",
            "key: 0  ,len: 980  ,type: <class 'list'>\n",
            "key: 4  ,len: 982  ,type: <class 'list'>\n",
            "key: 4  ,len: 982  ,type: <class 'list'>\n",
            "key: 9  ,len: 1009  ,type: <class 'list'>\n",
            "key: 9  ,len: 1009  ,type: <class 'list'>\n",
            "key: 5  ,len: 892  ,type: <class 'list'>\n",
            "key: 5  ,len: 892  ,type: <class 'list'>\n",
            "key: 6  ,len: 958  ,type: <class 'list'>\n",
            "key: 6  ,len: 958  ,type: <class 'list'>\n",
            "key: 3  ,len: 1010  ,type: <class 'list'>\n",
            "key: 3  ,len: 1010  ,type: <class 'list'>\n",
            "key: 8  ,len: 974  ,type: <class 'list'>\n",
            "key: 8  ,len: 974  ,type: <class 'list'>\n",
            "0\n",
            "[0, 0, 0, 0, 0, 0, 0, 0, 0, 0, 0, 0, 0, 0, 0, 0, 0, 0, 0, 0, 0, 0, 0, 0, 0, 0, 0, 0, 0, 0, 0, 0, 0, 0, 0, 0, 0, 0, 0, 0, 0, 0, 0, 0, 0, 0, 0, 0, 0, 0, 0, 0, 0, 0, 0, 0, 0, 0, 0, 0, 0, 0, 0, 0, 0, 0, 0, 0, 0, 0, 0, 0, 0, 0, 0, 0, 0, 0, 0, 0, 0, 0, 0, 0, 0, 0, 0, 0, 0, 0, 0, 0, 0, 0, 0, 0, 0, 0, 0, 0, 0, 0, 0, 0, 0, 0, 0, 0, 0, 0, 0, 0, 0, 0, 0, 0, 0, 0, 0, 0, 0, 0, 0, 0, 0, 0, 0, 0, 0, 0, 0, 0, 0, 0, 0, 0, 0, 0, 0, 0, 0, 0, 0, 0, 0, 0, 0, 0, 0, 0, 0, 0, 0, 0, 0, 0, 0, 0, 0, 0, 0, 0, 0, 0, 0, 0, 0, 0, 0, 0, 0, 0, 0, 0, 0, 0, 0, 0, 0, 0, 0, 0, 0, 0, 0, 0, 0, 0, 0, 0, 0, 0, 0, 0, 0, 0, 0, 0, 0, 0, 0, 0, 0, 0, 0, 0, 0, 0, 0, 0, 0, 0, 0, 0, 0, 0, 0, 0, 0, 0, 0, 0, 0, 0, 0, 0, 0, 0, 0, 0, 0, 0, 0, 0, 0, 0, 0, 0, 0, 0, 0, 0, 0, 0, 0, 0, 0, 0, 0, 0, 0, 0, 0, 0, 0, 0, 0, 0, 0, 0, 0, 0, 0, 0, 0, 0, 0, 0, 0, 0, 0, 0, 0, 0, 0, 0, 0, 0, 0, 0, 0, 0, 0, 0, 0, 0, 0, 0, 0, 0, 0, 0, 0, 0, 0, 0, 0, 0, 0, 0, 0, 0, 0, 0, 0, 0, 0, 0, 0, 0, 0, 0, 0, 0, 0, 0, 0, 0, 0, 0, 0, 0, 0, 0, 0, 0, 0, 0, 0, 0, 0, 0, 0, 0, 0, 0, 0, 0, 0, 0, 0, 0, 0, 0, 0, 0, 0, 0, 0, 0, 0, 0, 0, 0, 0, 0, 0, 0, 0, 0, 0, 0, 0, 0, 0, 0, 0, 0, 0, 0, 0, 0, 0, 0, 0, 0, 0, 0, 0, 0, 0, 0, 0, 0, 0, 0, 0, 0, 0, 0, 0, 0, 0, 0, 0, 0, 0, 0, 0, 0, 0, 0, 0, 0, 0, 0, 0, 0, 0, 0, 0, 0, 0, 0, 0, 0, 0, 0, 0, 0, 0, 0, 0, 0, 0, 0, 0, 0, 0, 0, 0, 0, 0, 0, 0, 0, 0, 0, 0, 0, 0, 0, 0, 0, 0, 0, 0, 0, 0, 0, 0, 0, 0, 0, 0, 0, 0, 0, 0, 0, 0, 0, 0, 0, 0, 0, 0, 0, 0, 0, 0, 0, 0, 0, 0, 0, 0, 0, 0, 0, 0, 0, 0, 0, 0, 0, 0, 0, 0, 0, 0, 0, 0, 0, 0, 0, 0, 0, 0, 0, 0, 0, 0, 0, 0, 0, 0, 0, 0, 0, 0, 0, 0, 0, 0, 0, 0, 0, 0, 0, 0, 0, 0, 0, 0, 0, 0, 0, 0, 0, 0, 0, 0, 0, 0, 0, 0, 0, 0, 0, 0, 0, 0, 0, 0, 0, 0, 0, 0, 0, 0, 0, 0, 0, 0, 0, 0, 0, 0, 0, 0, 0, 0, 0, 0, 0, 0, 0, 0, 0, 0, 0, 0, 0, 0, 0, 0, 0, 0, 0, 0, 0, 0, 0, 0, 0, 0, 0, 0, 0, 0, 0, 0, 0, 0, 0, 0, 0, 0, 0, 0, 0, 0, 0, 0, 0, 0, 0, 0, 0, 0, 0, 0, 0, 0, 0, 0, 0, 0, 0, 0, 0, 0, 0, 0, 0, 0, 0, 0, 0, 0, 0, 0, 0, 0, 0, 0, 0, 0, 0, 0, 0, 0, 0, 0, 0, 0, 0, 0, 0, 0, 0, 0, 0, 0, 0, 0, 0, 0, 0, 0, 0, 0, 0, 0, 0, 0, 0, 0, 0, 0, 0, 0, 0, 0, 0, 0, 0, 0, 0, 0, 0, 0, 0, 0, 0, 0, 0, 0, 0, 0, 0, 0, 0, 0, 0, 0, 0, 0, 0, 0, 0, 0, 0, 0, 0, 0, 0, 0, 0, 0, 0, 0, 0, 0, 0, 0, 0, 0, 0, 0, 0, 0, 0, 0, 0, 0, 0, 0, 0, 0, 0, 0, 0, 0, 0, 0, 0, 0, 0, 0, 0, 0, 0, 0, 0, 0, 0, 0, 0, 0, 0, 0, 0, 0, 0, 0, 0, 0, 0, 0, 0, 0, 0, 0, 0, 0, 0, 0, 0, 0, 0, 0, 0, 0, 0, 0, 0, 0, 0, 0, 0, 0, 0, 0, 0, 0, 0, 0, 0, 0, 0, 0, 0, 0, 0, 0, 0, 0, 0, 0, 0, 0, 0, 0, 0, 0, 0, 0, 0, 0, 0, 0, 0, 0, 0, 0, 0, 0, 0, 0, 0, 0, 0, 0, 0, 0, 0, 0, 0, 0, 0, 0, 0, 0, 0, 0, 0, 0, 0, 0, 0, 0, 0, 0, 0, 0, 0, 0, 0, 0, 0, 0, 0, 0, 0, 0, 0, 0, 0, 0, 0, 0, 0, 0, 0, 0, 0, 0, 0, 0, 0, 0, 0, 0, 0, 0, 0, 0, 0, 0, 0, 0, 0, 0, 0, 0, 0, 0, 0, 0, 0, 0, 0, 0, 0, 0, 0, 0, 0, 0, 0, 0, 0, 0, 0, 0, 0, 0, 0, 0, 0, 0, 0, 0, 0, 0, 0, 0, 0, 0, 0, 0, 0, 0, 0, 0, 0, 0, 0, 0, 0, 0, 0, 0, 0, 0, 0, 0, 0, 0, 0, 0, 0, 0, 0, 0, 0, 0, 0, 0, 0, 0, 0, 0, 0, 0, 0, 0, 0, 0, 0, 0, 0, 0, 0, 0, 0, 0, 0, 0, 0, 0, 0, 0, 0, 0, 0, 0, 0]\n"
          ],
          "name": "stdout"
        }
      ]
    },
    {
      "cell_type": "code",
      "metadata": {
        "id": "tapm0fZV3qKJ",
        "colab_type": "code",
        "colab": {
          "base_uri": "https://localhost:8080/",
          "height": 891
        },
        "outputId": "8a72d03a-387a-4c39-8d66-3c3e7c564ef6"
      },
      "source": [
        "fpr = [None] * num_classes #MNIST 정의한 class갯수(num_classes)\n",
        "tpr = [None] * num_classes\n",
        "thr = [None] * num_classes\n",
        "\n",
        "for i in range(num_classes):\n",
        "    #model = model.fit(X, y[:, i])\n",
        "    #model.fit(x_train, y_train, batch_size=batch_size, epochs=epochs, verbose=1, validation_data=(x_test, y_test_cate))\n",
        "    fpr[i], tpr[i], thr[i] = roc_curve(y_bin[:, i], model.predict_proba(x_test)[:, 1])\n",
        "    plt.plot(fpr[i], tpr[i])\n",
        "    print('i:', i , ' ,auc:', auc(fpr[i], tpr[i]))\n",
        "\n",
        "plt.xlabel('위양성률(Fall-Out)')\n",
        "plt.ylabel('재현률(Recall)')\n",
        "plt.show()\n"
      ],
      "execution_count": null,
      "outputs": [
        {
          "output_type": "stream",
          "text": [
            "i: 0  ,auc: 0.37968042429660454\n",
            "i: 1  ,auc: 1.0\n",
            "i: 2  ,auc: 0.49454518131503156\n",
            "i: 3  ,auc: 0.43148814580496253\n",
            "i: 4  ,auc: 0.5638431216318212\n",
            "i: 5  ,auc: 0.3356227240749866\n",
            "i: 6  ,auc: 0.22245954922378552\n",
            "i: 7  ,auc: 0.6985160801585154\n",
            "i: 8  ,auc: 0.3660241372481599\n",
            "i: 9  ,auc: 0.4099437488618651\n"
          ],
          "name": "stdout"
        },
        {
          "output_type": "stream",
          "text": [
            "/usr/local/lib/python3.6/dist-packages/matplotlib/backends/backend_agg.py:214: RuntimeWarning: Glyph 50948 missing from current font.\n",
            "  font.set_text(s, 0.0, flags=flags)\n",
            "/usr/local/lib/python3.6/dist-packages/matplotlib/backends/backend_agg.py:214: RuntimeWarning: Glyph 50577 missing from current font.\n",
            "  font.set_text(s, 0.0, flags=flags)\n",
            "/usr/local/lib/python3.6/dist-packages/matplotlib/backends/backend_agg.py:214: RuntimeWarning: Glyph 49457 missing from current font.\n",
            "  font.set_text(s, 0.0, flags=flags)\n",
            "/usr/local/lib/python3.6/dist-packages/matplotlib/backends/backend_agg.py:214: RuntimeWarning: Glyph 47456 missing from current font.\n",
            "  font.set_text(s, 0.0, flags=flags)\n",
            "/usr/local/lib/python3.6/dist-packages/matplotlib/backends/backend_agg.py:214: RuntimeWarning: Glyph 51116 missing from current font.\n",
            "  font.set_text(s, 0.0, flags=flags)\n",
            "/usr/local/lib/python3.6/dist-packages/matplotlib/backends/backend_agg.py:214: RuntimeWarning: Glyph 54788 missing from current font.\n",
            "  font.set_text(s, 0.0, flags=flags)\n",
            "/usr/local/lib/python3.6/dist-packages/matplotlib/backends/backend_agg.py:183: RuntimeWarning: Glyph 50948 missing from current font.\n",
            "  font.set_text(s, 0, flags=flags)\n",
            "/usr/local/lib/python3.6/dist-packages/matplotlib/backends/backend_agg.py:183: RuntimeWarning: Glyph 50577 missing from current font.\n",
            "  font.set_text(s, 0, flags=flags)\n",
            "/usr/local/lib/python3.6/dist-packages/matplotlib/backends/backend_agg.py:183: RuntimeWarning: Glyph 49457 missing from current font.\n",
            "  font.set_text(s, 0, flags=flags)\n",
            "/usr/local/lib/python3.6/dist-packages/matplotlib/backends/backend_agg.py:183: RuntimeWarning: Glyph 47456 missing from current font.\n",
            "  font.set_text(s, 0, flags=flags)\n",
            "/usr/local/lib/python3.6/dist-packages/matplotlib/backends/backend_agg.py:183: RuntimeWarning: Glyph 51116 missing from current font.\n",
            "  font.set_text(s, 0, flags=flags)\n",
            "/usr/local/lib/python3.6/dist-packages/matplotlib/backends/backend_agg.py:183: RuntimeWarning: Glyph 54788 missing from current font.\n",
            "  font.set_text(s, 0, flags=flags)\n"
          ],
          "name": "stderr"
        },
        {
          "output_type": "display_data",
          "data": {
            "image/png": "[encoded data removed]",
            "text/plain": [
              "<Figure size 432x288 with 1 Axes>"
            ]
          },
          "metadata": {
            "tags": [],
            "needs_background": "light"
          }
        }
      ]
    },
    {
      "cell_type": "code",
      "metadata": {
        "id": "mZjPHnUSf0Pl",
        "colab_type": "code",
        "colab": {
          "base_uri": "https://localhost:8080/",
          "height": 197
        },
        "outputId": "adbbdf79-7480-48d4-ff5b-9da6a0c9534c"
      },
      "source": [
        "pre_y = np.argmax(model.predict(x_test), axis=-1)\n",
        "result_dic = {}\n",
        "for idx, pre_label in enumerate(pre_y):\n",
        "    if y_test[idx] == pre_label : \n",
        "        if y_test[idx] not in result_dic:\n",
        "            result_dic[y_test[idx]] = [1, 0]\n",
        "        else:\n",
        "            result = result_dic[y_test[idx]]\n",
        "            result = [result[0]+1, result[1]] #정답인 경우 +1 저장\n",
        "            result_dic[y_test[idx]] = result\n",
        "    else:\n",
        "        if y_test[idx] not in result_dic:\n",
        "            result_dic[y_test[idx]] = [0, 1]\n",
        "        else:\n",
        "            result = result_dic[y_test[idx]]\n",
        "            result = [result[0], result[1]+1] #오답인 경우 +1 저장\n",
        "            result_dic[y_test[idx]] = result\n",
        "\n",
        "for key in result_dic.keys():\n",
        "    result = result_dic[key]\n",
        "    print('key:', key, ' ,corr/err:', result_dic[key], ' ,per:', result[0]/(result[0]+result[1]))"
      ],
      "execution_count": null,
      "outputs": [
        {
          "output_type": "stream",
          "text": [
            "key: 7  ,corr/err: [1018, 10]  ,per: 0.9902723735408561\n",
            "key: 2  ,corr/err: [1023, 9]  ,per: 0.9912790697674418\n",
            "key: 1  ,corr/err: [1133, 2]  ,per: 0.9982378854625551\n",
            "key: 0  ,corr/err: [978, 2]  ,per: 0.9979591836734694\n",
            "key: 4  ,corr/err: [975, 7]  ,per: 0.9928716904276986\n",
            "key: 9  ,corr/err: [992, 17]  ,per: 0.9831516352824579\n",
            "key: 5  ,corr/err: [879, 13]  ,per: 0.9854260089686099\n",
            "key: 6  ,corr/err: [949, 9]  ,per: 0.9906054279749478\n",
            "key: 3  ,corr/err: [1005, 5]  ,per: 0.995049504950495\n",
            "key: 8  ,corr/err: [964, 10]  ,per: 0.9897330595482546\n"
          ],
          "name": "stdout"
        }
      ]
    },
    {
      "cell_type": "code",
      "metadata": {
        "id": "BQCVIUx6O6fN",
        "colab_type": "code",
        "colab": {}
      },
      "source": [
        ""
      ],
      "execution_count": null,
      "outputs": []
    }
  ]
}