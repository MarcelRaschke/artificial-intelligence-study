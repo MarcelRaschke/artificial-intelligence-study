{
  "nbformat": 4,
  "nbformat_minor": 0,
  "metadata": {
    "colab": {
      "name": "Untitled12.ipynb",
      "version": "0.3.2",
      "provenance": []
    },
    "kernelspec": {
      "name": "python3",
      "display_name": "Python 3"
    },
    "accelerator": "GPU"
  },
  "cells": [
    {
      "cell_type": "code",
      "metadata": {
        "id": "hcTbvRFGhwK9",
        "colab_type": "code",
        "colab": {
          "base_uri": "https://localhost:8080/",
          "height": 35
        },
        "outputId": "459b2566-943f-486b-f092-fd1b3d2e7121"
      },
      "source": [
        "import numpy as np\n",
        "from keras.models import Sequential\n",
        "from keras.layers.core import Dense"
      ],
      "execution_count": 1,
      "outputs": [
        {
          "output_type": "stream",
          "text": [
            "Using TensorFlow backend.\n"
          ],
          "name": "stderr"
        }
      ]
    },
    {
      "cell_type": "code",
      "metadata": {
        "id": "QB3rtGpHhxJq",
        "colab_type": "code",
        "colab": {
          "base_uri": "https://localhost:8080/",
          "height": 35
        },
        "outputId": "38df0ad3-9362-4d77-f037-a7572db92681"
      },
      "source": [
        "import random\n",
        "\n",
        "input = []\n",
        "output = []\n",
        "\n",
        "for i in range(10000):\n",
        "    x1 = int(random.random()*100)\n",
        "    x2 = int(random.random()*100)\n",
        "    input.append([x1, x2])\n",
        "    output.append([x1+x2])\n",
        "    \n",
        "print(\"i:\", input[100], \"o:\", output[100])"
      ],
      "execution_count": 2,
      "outputs": [
        {
          "output_type": "stream",
          "text": [
            "i: [88, 57] o: [145]\n"
          ],
          "name": "stdout"
        }
      ]
    },
    {
      "cell_type": "code",
      "metadata": {
        "id": "XqXi8Wrkh55v",
        "colab_type": "code",
        "colab": {
          "base_uri": "https://localhost:8080/",
          "height": 54
        },
        "outputId": "bdc00ee9-b6c6-4cda-af1d-c94fced02df3"
      },
      "source": [
        "features = np.array(input, \"float32\")\n",
        "labels = np.array(output, \"float32\")\n",
        "\n",
        "print(features.shape)\n",
        "print(labels.shape)"
      ],
      "execution_count": 3,
      "outputs": [
        {
          "output_type": "stream",
          "text": [
            "(10000, 2)\n",
            "(10000, 1)\n"
          ],
          "name": "stdout"
        }
      ]
    },
    {
      "cell_type": "code",
      "metadata": {
        "id": "1uRUqs67it3A",
        "colab_type": "code",
        "colab": {
          "base_uri": "https://localhost:8080/",
          "height": 365
        },
        "outputId": "9ce3526a-fd87-4a9a-f6fe-e04317e3da95"
      },
      "source": [
        "model = Sequential()\n",
        "model.add(Dense(2, input_dim=2, activation='relu')) #input 차원2개(첫번째 히든레이어에만 기재가)\n",
        "model.add(Dense(1, activation='relu')) #뎃셈일때는 -값이 불필요하기에 relu(0~1)사\n",
        "model.summary()"
      ],
      "execution_count": 4,
      "outputs": [
        {
          "output_type": "stream",
          "text": [
            "WARNING: Logging before flag parsing goes to stderr.\n",
            "W0620 01:53:47.566049 139865222481792 deprecation_wrapper.py:119] From /usr/local/lib/python3.6/dist-packages/keras/backend/tensorflow_backend.py:74: The name tf.get_default_graph is deprecated. Please use tf.compat.v1.get_default_graph instead.\n",
            "\n",
            "W0620 01:53:47.614151 139865222481792 deprecation_wrapper.py:119] From /usr/local/lib/python3.6/dist-packages/keras/backend/tensorflow_backend.py:517: The name tf.placeholder is deprecated. Please use tf.compat.v1.placeholder instead.\n",
            "\n",
            "W0620 01:53:47.620379 139865222481792 deprecation_wrapper.py:119] From /usr/local/lib/python3.6/dist-packages/keras/backend/tensorflow_backend.py:4138: The name tf.random_uniform is deprecated. Please use tf.random.uniform instead.\n",
            "\n"
          ],
          "name": "stderr"
        },
        {
          "output_type": "stream",
          "text": [
            "_________________________________________________________________\n",
            "Layer (type)                 Output Shape              Param #   \n",
            "=================================================================\n",
            "dense_1 (Dense)              (None, 2)                 6         \n",
            "_________________________________________________________________\n",
            "dense_2 (Dense)              (None, 1)                 3         \n",
            "=================================================================\n",
            "Total params: 9\n",
            "Trainable params: 9\n",
            "Non-trainable params: 0\n",
            "_________________________________________________________________\n"
          ],
          "name": "stdout"
        }
      ]
    },
    {
      "cell_type": "code",
      "metadata": {
        "id": "my5FUOU4jTQl",
        "colab_type": "code",
        "colab": {
          "base_uri": "https://localhost:8080/",
          "height": 74
        },
        "outputId": "8166f1d8-3c1c-4eca-b5ee-3da765185910"
      },
      "source": [
        "model.compile(loss='mean_absolute_error', optimizer='adam', metrics=['accuracy'])\n"
      ],
      "execution_count": 5,
      "outputs": [
        {
          "output_type": "stream",
          "text": [
            "W0620 01:53:50.332860 139865222481792 deprecation_wrapper.py:119] From /usr/local/lib/python3.6/dist-packages/keras/optimizers.py:790: The name tf.train.Optimizer is deprecated. Please use tf.compat.v1.train.Optimizer instead.\n",
            "\n"
          ],
          "name": "stderr"
        }
      ]
    },
    {
      "cell_type": "code",
      "metadata": {
        "id": "iTcvU0j1j3cL",
        "colab_type": "code",
        "colab": {
          "base_uri": "https://localhost:8080/",
          "height": 3765
        },
        "outputId": "982cd58b-ad62-424f-9049-a03a3405e9e6"
      },
      "source": [
        "#batch_size=100 -> 한번에 수행할 입력data 갯수\n",
        "#validation_split=0.1 -> epoch당 10%만 검증(테스트)\n",
        "\n",
        "##history = model.fit(\n",
        "##  features, labels, epochs=100, verbose=2, validation_split=0.1, shuffle=True\n",
        "##)\n",
        "\n",
        "history = model.fit(\n",
        "    features,\n",
        "    labels,\n",
        "    epochs=100,\n",
        "    verbose=2,\n",
        "    validation_split=0.1,\n",
        "    shuffle=True\n",
        ")"
      ],
      "execution_count": 6,
      "outputs": [
        {
          "output_type": "stream",
          "text": [
            "W0620 01:53:53.001880 139865222481792 deprecation_wrapper.py:119] From /usr/local/lib/python3.6/dist-packages/keras/backend/tensorflow_backend.py:986: The name tf.assign_add is deprecated. Please use tf.compat.v1.assign_add instead.\n",
            "\n",
            "W0620 01:53:53.065227 139865222481792 deprecation_wrapper.py:119] From /usr/local/lib/python3.6/dist-packages/keras/backend/tensorflow_backend.py:973: The name tf.assign is deprecated. Please use tf.compat.v1.assign instead.\n",
            "\n"
          ],
          "name": "stderr"
        },
        {
          "output_type": "stream",
          "text": [
            "Train on 9000 samples, validate on 1000 samples\n",
            "Epoch 1/100\n",
            " - 5s - loss: 85.7371 - acc: 0.0000e+00 - val_loss: 63.8925 - val_acc: 0.0000e+00\n",
            "Epoch 2/100\n",
            " - 1s - loss: 36.3660 - acc: 0.0099 - val_loss: 19.5896 - val_acc: 0.0230\n",
            "Epoch 3/100\n",
            " - 1s - loss: 11.5870 - acc: 0.0483 - val_loss: 5.4853 - val_acc: 0.1260\n",
            "Epoch 4/100\n",
            " - 1s - loss: 2.8171 - acc: 0.4461 - val_loss: 1.5143 - val_acc: 0.4800\n",
            "Epoch 5/100\n",
            " - 1s - loss: 0.9502 - acc: 0.6501 - val_loss: 0.6056 - val_acc: 0.7560\n",
            "Epoch 6/100\n",
            " - 1s - loss: 0.3517 - acc: 0.9043 - val_loss: 0.2815 - val_acc: 0.9550\n",
            "Epoch 7/100\n",
            " - 1s - loss: 0.1337 - acc: 0.9712 - val_loss: 0.0668 - val_acc: 0.9730\n",
            "Epoch 8/100\n",
            " - 1s - loss: 0.0974 - acc: 0.9818 - val_loss: 0.0973 - val_acc: 0.9770\n",
            "Epoch 9/100\n",
            " - 1s - loss: 0.0574 - acc: 0.9883 - val_loss: 0.0585 - val_acc: 0.9830\n",
            "Epoch 10/100\n",
            " - 1s - loss: 0.0440 - acc: 0.9913 - val_loss: 0.0788 - val_acc: 0.9890\n",
            "Epoch 11/100\n",
            " - 1s - loss: 0.0495 - acc: 0.9936 - val_loss: 0.0756 - val_acc: 0.9940\n",
            "Epoch 12/100\n",
            " - 1s - loss: 0.0401 - acc: 0.9951 - val_loss: 0.0187 - val_acc: 0.9940\n",
            "Epoch 13/100\n",
            " - 1s - loss: 0.0353 - acc: 0.9966 - val_loss: 0.0141 - val_acc: 0.9970\n",
            "Epoch 14/100\n",
            " - 1s - loss: 0.0315 - acc: 0.9978 - val_loss: 0.0591 - val_acc: 0.9980\n",
            "Epoch 15/100\n",
            " - 1s - loss: 0.0435 - acc: 0.9980 - val_loss: 0.0433 - val_acc: 0.9980\n",
            "Epoch 16/100\n",
            " - 1s - loss: 0.0349 - acc: 0.9986 - val_loss: 0.0526 - val_acc: 1.0000\n",
            "Epoch 17/100\n",
            " - 1s - loss: 0.0341 - acc: 0.9991 - val_loss: 0.0355 - val_acc: 1.0000\n",
            "Epoch 18/100\n",
            " - 1s - loss: 0.0313 - acc: 0.9994 - val_loss: 0.0229 - val_acc: 1.0000\n",
            "Epoch 19/100\n",
            " - 1s - loss: 0.0281 - acc: 0.9998 - val_loss: 0.0101 - val_acc: 1.0000\n",
            "Epoch 20/100\n",
            " - 1s - loss: 0.0244 - acc: 1.0000 - val_loss: 0.0385 - val_acc: 1.0000\n",
            "Epoch 21/100\n",
            " - 1s - loss: 0.0360 - acc: 1.0000 - val_loss: 0.0196 - val_acc: 1.0000\n",
            "Epoch 22/100\n",
            " - 1s - loss: 0.0275 - acc: 1.0000 - val_loss: 0.0337 - val_acc: 1.0000\n",
            "Epoch 23/100\n",
            " - 1s - loss: 0.0273 - acc: 1.0000 - val_loss: 0.0252 - val_acc: 1.0000\n",
            "Epoch 24/100\n",
            " - 1s - loss: 0.0326 - acc: 1.0000 - val_loss: 0.0372 - val_acc: 1.0000\n",
            "Epoch 25/100\n",
            " - 1s - loss: 0.0374 - acc: 1.0000 - val_loss: 0.0558 - val_acc: 1.0000\n",
            "Epoch 26/100\n",
            " - 1s - loss: 0.0401 - acc: 1.0000 - val_loss: 0.0246 - val_acc: 1.0000\n",
            "Epoch 27/100\n",
            " - 1s - loss: 0.0308 - acc: 1.0000 - val_loss: 0.0210 - val_acc: 1.0000\n",
            "Epoch 28/100\n",
            " - 1s - loss: 0.0311 - acc: 1.0000 - val_loss: 0.0229 - val_acc: 1.0000\n",
            "Epoch 29/100\n",
            " - 1s - loss: 0.0331 - acc: 1.0000 - val_loss: 0.0334 - val_acc: 1.0000\n",
            "Epoch 30/100\n",
            " - 1s - loss: 0.0311 - acc: 1.0000 - val_loss: 0.0092 - val_acc: 1.0000\n",
            "Epoch 31/100\n",
            " - 1s - loss: 0.0327 - acc: 1.0000 - val_loss: 0.1134 - val_acc: 1.0000\n",
            "Epoch 32/100\n",
            " - 1s - loss: 0.0499 - acc: 1.0000 - val_loss: 0.0088 - val_acc: 1.0000\n",
            "Epoch 33/100\n",
            " - 1s - loss: 0.0358 - acc: 1.0000 - val_loss: 0.0250 - val_acc: 1.0000\n",
            "Epoch 34/100\n",
            " - 1s - loss: 0.0302 - acc: 1.0000 - val_loss: 0.0503 - val_acc: 1.0000\n",
            "Epoch 35/100\n",
            " - 1s - loss: 0.0256 - acc: 1.0000 - val_loss: 0.0417 - val_acc: 1.0000\n",
            "Epoch 36/100\n",
            " - 1s - loss: 0.0358 - acc: 1.0000 - val_loss: 0.0285 - val_acc: 1.0000\n",
            "Epoch 37/100\n",
            " - 1s - loss: 0.0326 - acc: 1.0000 - val_loss: 0.0243 - val_acc: 1.0000\n",
            "Epoch 38/100\n",
            " - 1s - loss: 0.0407 - acc: 1.0000 - val_loss: 0.0046 - val_acc: 1.0000\n",
            "Epoch 39/100\n",
            " - 1s - loss: 0.0359 - acc: 1.0000 - val_loss: 0.0415 - val_acc: 1.0000\n",
            "Epoch 40/100\n",
            " - 1s - loss: 0.0404 - acc: 1.0000 - val_loss: 0.0188 - val_acc: 1.0000\n",
            "Epoch 41/100\n",
            " - 1s - loss: 0.0240 - acc: 1.0000 - val_loss: 0.0183 - val_acc: 1.0000\n",
            "Epoch 42/100\n",
            " - 1s - loss: 0.0351 - acc: 1.0000 - val_loss: 0.0251 - val_acc: 1.0000\n",
            "Epoch 43/100\n",
            " - 1s - loss: 0.0304 - acc: 1.0000 - val_loss: 0.0516 - val_acc: 1.0000\n",
            "Epoch 44/100\n",
            " - 1s - loss: 0.0326 - acc: 1.0000 - val_loss: 0.0145 - val_acc: 1.0000\n",
            "Epoch 45/100\n",
            " - 1s - loss: 0.0364 - acc: 1.0000 - val_loss: 0.0040 - val_acc: 1.0000\n",
            "Epoch 46/100\n",
            " - 1s - loss: 0.0344 - acc: 1.0000 - val_loss: 0.0162 - val_acc: 1.0000\n",
            "Epoch 47/100\n",
            " - 1s - loss: 0.0332 - acc: 1.0000 - val_loss: 0.0168 - val_acc: 1.0000\n",
            "Epoch 48/100\n",
            " - 1s - loss: 0.0368 - acc: 1.0000 - val_loss: 0.0605 - val_acc: 1.0000\n",
            "Epoch 49/100\n",
            " - 1s - loss: 0.0329 - acc: 1.0000 - val_loss: 0.0080 - val_acc: 1.0000\n",
            "Epoch 50/100\n",
            " - 1s - loss: 0.0333 - acc: 1.0000 - val_loss: 0.0538 - val_acc: 1.0000\n",
            "Epoch 51/100\n",
            " - 1s - loss: 0.0280 - acc: 1.0000 - val_loss: 0.0070 - val_acc: 1.0000\n",
            "Epoch 52/100\n",
            " - 1s - loss: 0.0214 - acc: 1.0000 - val_loss: 0.0132 - val_acc: 1.0000\n",
            "Epoch 53/100\n",
            " - 1s - loss: 0.0327 - acc: 1.0000 - val_loss: 0.0579 - val_acc: 1.0000\n",
            "Epoch 54/100\n",
            " - 1s - loss: 0.0318 - acc: 1.0000 - val_loss: 0.0068 - val_acc: 1.0000\n",
            "Epoch 55/100\n",
            " - 1s - loss: 0.0327 - acc: 1.0000 - val_loss: 0.0338 - val_acc: 1.0000\n",
            "Epoch 56/100\n",
            " - 1s - loss: 0.0334 - acc: 1.0000 - val_loss: 0.0505 - val_acc: 1.0000\n",
            "Epoch 57/100\n",
            " - 1s - loss: 0.0326 - acc: 1.0000 - val_loss: 0.0150 - val_acc: 1.0000\n",
            "Epoch 58/100\n",
            " - 1s - loss: 0.0333 - acc: 1.0000 - val_loss: 0.0668 - val_acc: 1.0000\n",
            "Epoch 59/100\n",
            " - 1s - loss: 0.0406 - acc: 1.0000 - val_loss: 0.0273 - val_acc: 1.0000\n",
            "Epoch 60/100\n",
            " - 1s - loss: 0.0279 - acc: 1.0000 - val_loss: 0.0668 - val_acc: 1.0000\n",
            "Epoch 61/100\n",
            " - 1s - loss: 0.0322 - acc: 1.0000 - val_loss: 0.1109 - val_acc: 1.0000\n",
            "Epoch 62/100\n",
            " - 1s - loss: 0.0367 - acc: 1.0000 - val_loss: 0.0766 - val_acc: 1.0000\n",
            "Epoch 63/100\n",
            " - 1s - loss: 0.0352 - acc: 1.0000 - val_loss: 0.0140 - val_acc: 1.0000\n",
            "Epoch 64/100\n",
            " - 1s - loss: 0.0250 - acc: 1.0000 - val_loss: 0.0118 - val_acc: 1.0000\n",
            "Epoch 65/100\n",
            " - 1s - loss: 0.0373 - acc: 1.0000 - val_loss: 0.0166 - val_acc: 1.0000\n",
            "Epoch 66/100\n",
            " - 1s - loss: 0.0344 - acc: 1.0000 - val_loss: 0.0090 - val_acc: 1.0000\n",
            "Epoch 67/100\n",
            " - 1s - loss: 0.0294 - acc: 1.0000 - val_loss: 0.0155 - val_acc: 1.0000\n",
            "Epoch 68/100\n",
            " - 1s - loss: 0.0316 - acc: 1.0000 - val_loss: 0.0195 - val_acc: 1.0000\n",
            "Epoch 69/100\n",
            " - 1s - loss: 0.0352 - acc: 1.0000 - val_loss: 0.0832 - val_acc: 1.0000\n",
            "Epoch 70/100\n",
            " - 1s - loss: 0.0300 - acc: 1.0000 - val_loss: 0.0567 - val_acc: 1.0000\n",
            "Epoch 71/100\n",
            " - 1s - loss: 0.0302 - acc: 1.0000 - val_loss: 0.0052 - val_acc: 1.0000\n",
            "Epoch 72/100\n",
            " - 1s - loss: 0.0275 - acc: 1.0000 - val_loss: 0.0346 - val_acc: 1.0000\n",
            "Epoch 73/100\n",
            " - 1s - loss: 0.0386 - acc: 1.0000 - val_loss: 0.0096 - val_acc: 1.0000\n",
            "Epoch 74/100\n",
            " - 1s - loss: 0.0282 - acc: 1.0000 - val_loss: 0.0292 - val_acc: 1.0000\n",
            "Epoch 75/100\n",
            " - 1s - loss: 0.0308 - acc: 1.0000 - val_loss: 0.0074 - val_acc: 1.0000\n",
            "Epoch 76/100\n",
            " - 1s - loss: 0.0262 - acc: 1.0000 - val_loss: 0.0399 - val_acc: 1.0000\n",
            "Epoch 77/100\n",
            " - 1s - loss: 0.0393 - acc: 1.0000 - val_loss: 0.0116 - val_acc: 1.0000\n",
            "Epoch 78/100\n",
            " - 1s - loss: 0.0333 - acc: 1.0000 - val_loss: 0.0256 - val_acc: 1.0000\n",
            "Epoch 79/100\n",
            " - 1s - loss: 0.0326 - acc: 1.0000 - val_loss: 0.0084 - val_acc: 1.0000\n",
            "Epoch 80/100\n",
            " - 1s - loss: 0.0342 - acc: 1.0000 - val_loss: 0.0193 - val_acc: 1.0000\n",
            "Epoch 81/100\n",
            " - 1s - loss: 0.0306 - acc: 1.0000 - val_loss: 0.0577 - val_acc: 1.0000\n",
            "Epoch 82/100\n",
            " - 1s - loss: 0.0307 - acc: 1.0000 - val_loss: 0.0144 - val_acc: 1.0000\n",
            "Epoch 83/100\n",
            " - 1s - loss: 0.0331 - acc: 1.0000 - val_loss: 0.0165 - val_acc: 1.0000\n",
            "Epoch 84/100\n",
            " - 1s - loss: 0.0311 - acc: 1.0000 - val_loss: 0.0250 - val_acc: 1.0000\n",
            "Epoch 85/100\n",
            " - 1s - loss: 0.0363 - acc: 1.0000 - val_loss: 0.0285 - val_acc: 1.0000\n",
            "Epoch 86/100\n",
            " - 1s - loss: 0.0379 - acc: 1.0000 - val_loss: 0.0283 - val_acc: 1.0000\n",
            "Epoch 87/100\n",
            " - 1s - loss: 0.0394 - acc: 1.0000 - val_loss: 0.0702 - val_acc: 1.0000\n",
            "Epoch 88/100\n",
            " - 1s - loss: 0.0317 - acc: 1.0000 - val_loss: 0.0295 - val_acc: 1.0000\n",
            "Epoch 89/100\n",
            " - 1s - loss: 0.0279 - acc: 1.0000 - val_loss: 0.0144 - val_acc: 1.0000\n",
            "Epoch 90/100\n",
            " - 1s - loss: 0.0373 - acc: 1.0000 - val_loss: 0.0354 - val_acc: 1.0000\n",
            "Epoch 91/100\n",
            " - 1s - loss: 0.0361 - acc: 1.0000 - val_loss: 0.0379 - val_acc: 1.0000\n",
            "Epoch 92/100\n",
            " - 1s - loss: 0.0496 - acc: 1.0000 - val_loss: 0.0676 - val_acc: 1.0000\n",
            "Epoch 93/100\n",
            " - 1s - loss: 0.0371 - acc: 1.0000 - val_loss: 0.0377 - val_acc: 1.0000\n",
            "Epoch 94/100\n",
            " - 1s - loss: 0.0356 - acc: 1.0000 - val_loss: 0.0343 - val_acc: 1.0000\n",
            "Epoch 95/100\n",
            " - 1s - loss: 0.0250 - acc: 1.0000 - val_loss: 0.0410 - val_acc: 1.0000\n",
            "Epoch 96/100\n",
            " - 1s - loss: 0.0298 - acc: 1.0000 - val_loss: 0.0111 - val_acc: 1.0000\n",
            "Epoch 97/100\n",
            " - 1s - loss: 0.0353 - acc: 1.0000 - val_loss: 0.0221 - val_acc: 1.0000\n",
            "Epoch 98/100\n",
            " - 1s - loss: 0.0401 - acc: 1.0000 - val_loss: 0.0635 - val_acc: 1.0000\n",
            "Epoch 99/100\n",
            " - 1s - loss: 0.0293 - acc: 1.0000 - val_loss: 0.0272 - val_acc: 1.0000\n",
            "Epoch 100/100\n",
            " - 1s - loss: 0.0254 - acc: 1.0000 - val_loss: 0.0565 - val_acc: 1.0000\n"
          ],
          "name": "stdout"
        }
      ]
    },
    {
      "cell_type": "code",
      "metadata": {
        "id": "qOw7h5pRlFjn",
        "colab_type": "code",
        "colab": {
          "base_uri": "https://localhost:8080/",
          "height": 521
        },
        "outputId": "afa46113-eeec-4666-defb-cb4299d9741a"
      },
      "source": [
        "import matplotlib.pyplot as plt\n",
        "\n",
        "plt.plot(history.history['loss'])\n",
        "plt.show()\n",
        "\n",
        "plt.plot(history.history['acc'])\n",
        "plt.show()"
      ],
      "execution_count": 7,
      "outputs": [
        {
          "output_type": "display_data",
          "data": {
            "image/png": "[encoded data removed]",
            "text/plain": [
              "<Figure size 432x288 with 1 Axes>"
            ]
          },
          "metadata": {
            "tags": []
          }
        },
        {
          "output_type": "display_data",
          "data": {
            "image/png": "[encoded data removed]",
            "text/plain": [
              "<Figure size 432x288 with 1 Axes>"
            ]
          },
          "metadata": {
            "tags": []
          }
        }
      ]
    },
    {
      "cell_type": "code",
      "metadata": {
        "id": "NwBWnohrm_QF",
        "colab_type": "code",
        "colab": {
          "base_uri": "https://localhost:8080/",
          "height": 54
        },
        "outputId": "2da16560-8b61-4e6d-a4cf-3a2d122b2385"
      },
      "source": [
        "print(model.predict(np.array([[100,100], [1,2]])))"
      ],
      "execution_count": 12,
      "outputs": [
        {
          "output_type": "stream",
          "text": [
            "[[200.11545  ]\n",
            " [  3.0004573]]\n"
          ],
          "name": "stdout"
        }
      ]
    }
  ]
}