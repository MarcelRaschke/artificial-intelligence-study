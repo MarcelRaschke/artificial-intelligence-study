{
 "cells": [
  {
   "cell_type": "code",
   "execution_count": 1,
   "metadata": {
    "colab": {
     "base_uri": "https://localhost:8080/",
     "height": 35
    },
    "colab_type": "code",
    "id": "TSCscbDTLmEr",
    "outputId": "31dece0b-44e4-472a-ad50-96a85e7dfd69"
   },
   "outputs": [
    {
     "name": "stdout",
     "output_type": "stream",
     "text": [
      "Requirement already satisfied: numpy==1.16.1 in /usr/local/lib/python3.6/dist-packages (1.16.1)\n"
     ]
    }
   ],
   "source": [
    "!pip install numpy==1.16.1 #numpy 엔진에 버그가 있는듯하여, downgrade"
   ]
  },
  {
   "cell_type": "code",
   "execution_count": 2,
   "metadata": {
    "colab": {
     "base_uri": "https://localhost:8080/",
     "height": 35
    },
    "colab_type": "code",
    "id": "0UASZkapLvEh",
    "outputId": "9a1cd2d4-392b-4400-ab36-af1ab01484b7"
   },
   "outputs": [
    {
     "name": "stderr",
     "output_type": "stream",
     "text": [
      "Using TensorFlow backend.\n"
     ]
    }
   ],
   "source": [
    "import keras\n",
    "import numpy as np"
   ]
  },
  {
   "cell_type": "code",
   "execution_count": 3,
   "metadata": {
    "colab": {
     "base_uri": "https://localhost:8080/",
     "height": 54
    },
    "colab_type": "code",
    "id": "xK-scNmWJUft",
    "outputId": "ce4dcc64-a710-457b-a26d-e1eadf0f5f92"
   },
   "outputs": [
    {
     "name": "stdout",
     "output_type": "stream",
     "text": [
      "Training entries: 25000, labels: 25000\n",
      "(25000,)\n"
     ]
    }
   ],
   "source": [
    "vocab_size = 10000\n",
    "imdb = keras.datasets.imdb\n",
    "\n",
    "#preprocessing이 이미 적용된 data가 로딩됨 (word_to_index, but index_to_word는 없음, 일부 indicatior 없어서 add(START...))\n",
    "(train_data, train_labels), (test_data, test_labels) = imdb.load_data(num_words=vocab_size)\n",
    "print(\"Training entries: {}, labels: {}\".format(len(train_data), len(train_labels)))\n",
    "print(train_data.shape)"
   ]
  },
  {
   "cell_type": "code",
   "execution_count": 4,
   "metadata": {
    "colab": {
     "base_uri": "https://localhost:8080/",
     "height": 90
    },
    "colab_type": "code",
    "id": "nOPwK4UcL7uE",
    "outputId": "2dc383de-4661-4af9-85c0-508200960e2a"
   },
   "outputs": [
    {
     "name": "stdout",
     "output_type": "stream",
     "text": [
      "Training entries: 50000, labels: 50000\n",
      "(50000,)\n",
      "(50000,)\n",
      "train_data: (40000,) train_labels: (40000,) test_data: (10000,) test_labels: (10000,)\n"
     ]
    }
   ],
   "source": [
    "# Training/Test 데이트 분할(8:2)를 위해 행렬병합 \n",
    "merge_train_data = np.hstack((train_data, test_data))\n",
    "merge_train_labels = np.hstack((train_labels, test_labels))\n",
    "print(\"Training entries: {}, labels: {}\".format(len(merge_train_data), len(merge_train_labels)))\n",
    "print(merge_train_data.shape)\n",
    "print(merge_train_labels.shape)\n",
    "\n",
    "#4:1 분할 \n",
    "train_data = merge_train_data[:40000]\n",
    "train_labels = merge_train_labels[:40000]\n",
    "test_data = merge_train_data[40000:]\n",
    "test_labels = merge_train_labels[40000:]\n",
    "\n",
    "print(\"train_data:\", train_data.shape, \"train_labels:\", train_labels.shape, \"test_data:\", test_data.shape, \"test_labels:\", test_labels.shape)"
   ]
  },
  {
   "cell_type": "code",
   "execution_count": 5,
   "metadata": {
    "colab": {
     "base_uri": "https://localhost:8080/",
     "height": 74
    },
    "colab_type": "code",
    "id": "uSoVhX2tMEsk",
    "outputId": "b8f6cd1c-0f33-4f8b-bffb-09de2955568c"
   },
   "outputs": [
    {
     "name": "stdout",
     "output_type": "stream",
     "text": [
      "[1, 14, 22, 16, 43, 530, 973, 1622, 1385, 65, 458, 4468, 66, 3941, 4, 173, 36, 256, 5, 25, 100, 43, 838, 112, 50, 670, 2, 9, 35, 480, 284, 5, 150, 4, 172, 112, 167, 2, 336, 385, 39, 4, 172, 4536, 1111, 17, 546, 38, 13, 447, 4, 192, 50, 16, 6, 147, 2025, 19, 14, 22, 4, 1920, 4613, 469, 4, 22, 71, 87, 12, 16, 43, 530, 38, 76, 15, 13, 1247, 4, 22, 17, 515, 17, 12, 16, 626, 18, 2, 5, 62, 386, 12, 8, 316, 8, 106, 5, 4, 2223, 5244, 16, 480, 66, 3785, 33, 4, 130, 12, 16, 38, 619, 5, 25, 124, 51, 36, 135, 48, 25, 1415, 33, 6, 22, 12, 215, 28, 77, 52, 5, 14, 407, 16, 82, 2, 8, 4, 107, 117, 5952, 15, 256, 4, 2, 7, 3766, 5, 723, 36, 71, 43, 530, 476, 26, 400, 317, 46, 7, 4, 2, 1029, 13, 104, 88, 4, 381, 15, 297, 98, 32, 2071, 56, 26, 141, 6, 194, 7486, 18, 4, 226, 22, 21, 134, 476, 26, 480, 5, 144, 30, 5535, 18, 51, 36, 28, 224, 92, 25, 104, 4, 226, 65, 16, 38, 1334, 88, 12, 16, 283, 5, 16, 4472, 113, 103, 32, 15, 16, 5345, 19, 178, 32]\n"
     ]
    },
    {
     "data": {
      "text/plain": [
       "(218, 189)"
      ]
     },
     "execution_count": 5,
     "metadata": {
      "tags": []
     },
     "output_type": "execute_result"
    }
   ],
   "source": [
    "print(train_data[0])\n",
    "len(train_data[0]), len(train_data[1])"
   ]
  },
  {
   "cell_type": "code",
   "execution_count": 0,
   "metadata": {
    "colab": {},
    "colab_type": "code",
    "id": "t-iSFH26MVzt"
   },
   "outputs": [],
   "source": [
    "# A dictionary mapping words to an integer index\n",
    "word_index = imdb.get_word_index()\n",
    "\n",
    "# The first indices are reserved\n",
    "word_index = {k:(v+3) for k,v in word_index.items()}\n",
    "word_index[\"<PAD>\"] = 0\n",
    "word_index[\"<START>\"] = 1\n",
    "word_index[\"<UNK>\"] = 2  # unknown\n",
    "word_index[\"<UNUSED>\"] = 3\n",
    "\n",
    "reverse_word_index = dict([(value, key) for (key, value) in word_index.items()])\n",
    "\n",
    "def decode_review(text):\n",
    "    return ' '.join([reverse_word_index.get(i, '?') for i in text])"
   ]
  },
  {
   "cell_type": "code",
   "execution_count": 7,
   "metadata": {
    "colab": {
     "base_uri": "https://localhost:8080/",
     "height": 74
    },
    "colab_type": "code",
    "id": "eegZi5v9Ma19",
    "outputId": "c54ea80f-7ac2-4b6e-c334-c5a999e0b2ca"
   },
   "outputs": [
    {
     "name": "stdout",
     "output_type": "stream",
     "text": [
      "<START> this film was just brilliant casting location scenery story direction everyone's really suited the part they played and you could just imagine being there robert <UNK> is an amazing actor and now the same being director <UNK> father came from the same scottish island as myself so i loved the fact there was a real connection with this film the witty remarks throughout the film were great it was just brilliant so much that i bought the film as soon as it was released for <UNK> and would recommend it to everyone to watch and the fly fishing was amazing really cried at the end it was so sad and you know what they say if you cry at a film it must have been good and this definitely was also <UNK> to the two little boy's that played the <UNK> of norman and paul they were just brilliant children are often left out of the <UNK> list i think because the stars that play them all grown up are such a big profile for the whole film but these children are amazing and should be praised for what they have done don't you think the whole story was so lovely because it was true and was someone's life after all that was shared with us all\n",
      "1\n"
     ]
    }
   ],
   "source": [
    "print(decode_review(train_data[0]))\n",
    "print(train_labels[0])"
   ]
  },
  {
   "cell_type": "code",
   "execution_count": 0,
   "metadata": {
    "colab": {},
    "colab_type": "code",
    "id": "SwHmxxb5MgRG"
   },
   "outputs": [],
   "source": [
    "train_data = keras.preprocessing.sequence.pad_sequences(train_data,\n",
    "                                                        value=word_index[\"<PAD>\"],\n",
    "                                                        padding='post',\n",
    "                                                        maxlen=256)\n",
    "\n",
    "test_data = keras.preprocessing.sequence.pad_sequences(test_data,\n",
    "                                                       value=word_index[\"<PAD>\"],\n",
    "                                                       padding='post',\n",
    "                                                       maxlen=256)"
   ]
  },
  {
   "cell_type": "code",
   "execution_count": 9,
   "metadata": {
    "colab": {
     "base_uri": "https://localhost:8080/",
     "height": 399
    },
    "colab_type": "code",
    "id": "_sT43g7eMj5r",
    "outputId": "3386dacb-a43a-4829-8104-73726629da80"
   },
   "outputs": [
    {
     "name": "stdout",
     "output_type": "stream",
     "text": [
      "256\n",
      "256\n",
      "[   1   14   22   16   43  530  973 1622 1385   65  458 4468   66 3941\n",
      "    4  173   36  256    5   25  100   43  838  112   50  670    2    9\n",
      "   35  480  284    5  150    4  172  112  167    2  336  385   39    4\n",
      "  172 4536 1111   17  546   38   13  447    4  192   50   16    6  147\n",
      " 2025   19   14   22    4 1920 4613  469    4   22   71   87   12   16\n",
      "   43  530   38   76   15   13 1247    4   22   17  515   17   12   16\n",
      "  626   18    2    5   62  386   12    8  316    8  106    5    4 2223\n",
      " 5244   16  480   66 3785   33    4  130   12   16   38  619    5   25\n",
      "  124   51   36  135   48   25 1415   33    6   22   12  215   28   77\n",
      "   52    5   14  407   16   82    2    8    4  107  117 5952   15  256\n",
      "    4    2    7 3766    5  723   36   71   43  530  476   26  400  317\n",
      "   46    7    4    2 1029   13  104   88    4  381   15  297   98   32\n",
      " 2071   56   26  141    6  194 7486   18    4  226   22   21  134  476\n",
      "   26  480    5  144   30 5535   18   51   36   28  224   92   25  104\n",
      "    4  226   65   16   38 1334   88   12   16  283    5   16 4472  113\n",
      "  103   32   15   16 5345   19  178   32    0    0    0    0    0    0\n",
      "    0    0    0    0    0    0    0    0    0    0    0    0    0    0\n",
      "    0    0    0    0    0    0    0    0    0    0    0    0    0    0\n",
      "    0    0    0    0]\n"
     ]
    }
   ],
   "source": [
    "print(len(train_data[0]))\n",
    "print(len(train_data[1]))\n",
    "print(train_data[0])"
   ]
  },
  {
   "cell_type": "code",
   "execution_count": 10,
   "metadata": {
    "colab": {
     "base_uri": "https://localhost:8080/",
     "height": 54
    },
    "colab_type": "code",
    "id": "5TVBqEpwRycX",
    "outputId": "cd71e602-0241-4f66-92e2-b35eb4d80839"
   },
   "outputs": [
    {
     "name": "stdout",
     "output_type": "stream",
     "text": [
      "Drive already mounted at /content/gdrive; to attempt to forcibly remount, call drive.mount(\"/content/gdrive\", force_remount=True).\n",
      "Found 400000 word vectors.\n"
     ]
    }
   ],
   "source": [
    "#Pre-Trained data를 사용(find-tune)\n",
    "embeddings_index = {}\n",
    "\n",
    "# driver code\n",
    "from google.colab import drive\n",
    "import os\n",
    "drive.mount('/content/gdrive')\n",
    "\n",
    "f = open(os.path.join('/content/gdrive/My Drive', 'glove.6B.100d.txt'))\n",
    "for line in f:\n",
    "    values = line.split()\n",
    "    word = values[0]\n",
    "    coefs = np.asarray(values[1:], dtype='float32')\n",
    "    embeddings_index[word] = coefs\n",
    "f.close()\n",
    "\n",
    "print('Found %s word vectors.' % len(embeddings_index))"
   ]
  },
  {
   "cell_type": "code",
   "execution_count": 11,
   "metadata": {
    "colab": {
     "base_uri": "https://localhost:8080/",
     "height": 35
    },
    "colab_type": "code",
    "id": "S6iqUhs-UpsR",
    "outputId": "8440b7d3-480a-4cdd-fa00-79ffcc724acd"
   },
   "outputs": [
    {
     "name": "stdout",
     "output_type": "stream",
     "text": [
      "88588\n"
     ]
    }
   ],
   "source": [
    "print(len(word_index))"
   ]
  },
  {
   "cell_type": "code",
   "execution_count": 0,
   "metadata": {
    "colab": {},
    "colab_type": "code",
    "id": "WYASAkekSAby"
   },
   "outputs": [],
   "source": [
    "EMBEDDING_DIM = 100 # y 100? 100이 아닐때 embedding_matrix[i] = embedding_vector에서 오류발\n",
    "embedding_matrix = np.zeros((len(word_index) + 1, EMBEDDING_DIM))\n",
    "for word, i in word_index.items():\n",
    "    embedding_vector = embeddings_index.get(word)\n",
    "    if embedding_vector is not None:\n",
    "        # words not found in embedding index will be all-zeros.\n",
    "        embedding_matrix[i] = embedding_vector\n",
    "        "
   ]
  },
  {
   "cell_type": "code",
   "execution_count": 13,
   "metadata": {
    "colab": {
     "base_uri": "https://localhost:8080/",
     "height": 92
    },
    "colab_type": "code",
    "id": "-0b8Dp8ASHbn",
    "outputId": "03680d76-76ea-42d1-8466-8e6282da13d2"
   },
   "outputs": [
    {
     "name": "stderr",
     "output_type": "stream",
     "text": [
      "WARNING: Logging before flag parsing goes to stderr.\n",
      "W0621 18:46:20.372272 140105586505600 deprecation_wrapper.py:119] From /usr/local/lib/python3.6/dist-packages/keras/backend/tensorflow_backend.py:74: The name tf.get_default_graph is deprecated. Please use tf.compat.v1.get_default_graph instead.\n",
      "\n"
     ]
    }
   ],
   "source": [
    "MAX_SEQUENCE_LENGTH = 256\n",
    "embedding_layer = keras.layers.Embedding(len(word_index) + 1,\n",
    "                            EMBEDDING_DIM,\n",
    "                            weights=[embedding_matrix],\n",
    "                            input_length=MAX_SEQUENCE_LENGTH,\n",
    "                            trainable=True)"
   ]
  },
  {
   "cell_type": "code",
   "execution_count": 14,
   "metadata": {
    "colab": {
     "base_uri": "https://localhost:8080/",
     "height": 455
    },
    "colab_type": "code",
    "id": "gG1-5mryMpH7",
    "outputId": "03aa269b-fec3-47e3-ccaa-01b8ec3619dd"
   },
   "outputs": [
    {
     "name": "stderr",
     "output_type": "stream",
     "text": [
      "W0621 18:46:27.220690 140105586505600 deprecation_wrapper.py:119] From /usr/local/lib/python3.6/dist-packages/keras/backend/tensorflow_backend.py:517: The name tf.placeholder is deprecated. Please use tf.compat.v1.placeholder instead.\n",
      "\n",
      "W0621 18:46:27.227388 140105586505600 deprecation_wrapper.py:119] From /usr/local/lib/python3.6/dist-packages/keras/backend/tensorflow_backend.py:4138: The name tf.random_uniform is deprecated. Please use tf.random.uniform instead.\n",
      "\n",
      "W0621 18:46:27.243973 140105586505600 deprecation_wrapper.py:119] From /usr/local/lib/python3.6/dist-packages/keras/backend/tensorflow_backend.py:174: The name tf.get_default_session is deprecated. Please use tf.compat.v1.get_default_session instead.\n",
      "\n",
      "W0621 18:46:27.244771 140105586505600 deprecation_wrapper.py:119] From /usr/local/lib/python3.6/dist-packages/keras/backend/tensorflow_backend.py:181: The name tf.ConfigProto is deprecated. Please use tf.compat.v1.ConfigProto instead.\n",
      "\n"
     ]
    },
    {
     "name": "stdout",
     "output_type": "stream",
     "text": [
      "_________________________________________________________________\n",
      "Layer (type)                 Output Shape              Param #   \n",
      "=================================================================\n",
      "embedding_1 (Embedding)      (None, 256, 100)          8858900   \n",
      "_________________________________________________________________\n",
      "global_average_pooling1d_1 ( (None, 100)               0         \n",
      "_________________________________________________________________\n",
      "dense_1 (Dense)              (None, 16)                1616      \n",
      "_________________________________________________________________\n",
      "dense_2 (Dense)              (None, 1)                 17        \n",
      "=================================================================\n",
      "Total params: 8,860,533\n",
      "Trainable params: 8,860,533\n",
      "Non-trainable params: 0\n",
      "_________________________________________________________________\n"
     ]
    }
   ],
   "source": [
    "model = keras.Sequential()\n",
    "#model.add(keras.layers.Embedding(vocab_size, 16))\n",
    "model.add(embedding_layer)\n",
    "model.add(keras.layers.GlobalAveragePooling1D())    #embedding out의 차원을 맞추기위해 일반적으로 추가\n",
    "model.add(keras.layers.Dense(16, activation=\"relu\"))\n",
    "model.add(keras.layers.Dense(1, activation=\"sigmoid\"))\n",
    "\n",
    "model.summary()"
   ]
  },
  {
   "cell_type": "code",
   "execution_count": 15,
   "metadata": {
    "colab": {
     "base_uri": "https://localhost:8080/",
     "height": 128
    },
    "colab_type": "code",
    "id": "cZ1FcipiM1Xw",
    "outputId": "cca6ed6b-724c-44d3-9ff3-e3a0433149f9"
   },
   "outputs": [
    {
     "name": "stderr",
     "output_type": "stream",
     "text": [
      "W0621 18:46:47.065110 140105586505600 deprecation_wrapper.py:119] From /usr/local/lib/python3.6/dist-packages/keras/optimizers.py:790: The name tf.train.Optimizer is deprecated. Please use tf.compat.v1.train.Optimizer instead.\n",
      "\n",
      "W0621 18:46:47.098697 140105586505600 deprecation.py:323] From /usr/local/lib/python3.6/dist-packages/tensorflow/python/ops/nn_impl.py:180: add_dispatch_support.<locals>.wrapper (from tensorflow.python.ops.array_ops) is deprecated and will be removed in a future version.\n",
      "Instructions for updating:\n",
      "Use tf.where in 2.0, which has the same broadcast rule as np.where\n"
     ]
    }
   ],
   "source": [
    "model.compile(optimizer='adam',\n",
    "              loss='binary_crossentropy',\n",
    "              metrics=['acc'])"
   ]
  },
  {
   "cell_type": "code",
   "execution_count": 0,
   "metadata": {
    "colab": {},
    "colab_type": "code",
    "id": "3TfqOyrMM5gQ"
   },
   "outputs": [],
   "source": [
    "#x_val = train_data[:10000]\n",
    "#partial_x_train = train_data[10000:]\n",
    "\n",
    "#y_val = train_labels[:10000]\n",
    "#partial_y_train = train_labels[10000:]"
   ]
  },
  {
   "cell_type": "code",
   "execution_count": 16,
   "metadata": {
    "colab": {
     "base_uri": "https://localhost:8080/",
     "height": 1490
    },
    "colab_type": "code",
    "id": "OhTn_Bt0M9Ad",
    "outputId": "07c721a8-618a-41de-ef1c-d5f49be18e31"
   },
   "outputs": [
    {
     "name": "stdout",
     "output_type": "stream",
     "text": [
      "Train on 36000 samples, validate on 4000 samples\n",
      "Epoch 1/40\n",
      "36000/36000 [==============================] - 2s 43us/step - loss: 0.6704 - acc: 0.6385 - val_loss: 0.6438 - val_acc: 0.6955\n",
      "Epoch 2/40\n",
      "36000/36000 [==============================] - 1s 23us/step - loss: 0.5984 - acc: 0.7372 - val_loss: 0.5533 - val_acc: 0.7647\n",
      "Epoch 3/40\n",
      "36000/36000 [==============================] - 1s 23us/step - loss: 0.4868 - acc: 0.8114 - val_loss: 0.4436 - val_acc: 0.8277\n",
      "Epoch 4/40\n",
      "36000/36000 [==============================] - 1s 23us/step - loss: 0.3851 - acc: 0.8545 - val_loss: 0.3671 - val_acc: 0.8553\n",
      "Epoch 5/40\n",
      "36000/36000 [==============================] - 1s 23us/step - loss: 0.3240 - acc: 0.8766 - val_loss: 0.3264 - val_acc: 0.8695\n",
      "Epoch 6/40\n",
      "36000/36000 [==============================] - 1s 23us/step - loss: 0.2880 - acc: 0.8885 - val_loss: 0.3025 - val_acc: 0.8772\n",
      "Epoch 7/40\n",
      "36000/36000 [==============================] - 1s 23us/step - loss: 0.2610 - acc: 0.9003 - val_loss: 0.2869 - val_acc: 0.8840\n",
      "Epoch 8/40\n",
      "36000/36000 [==============================] - 1s 22us/step - loss: 0.2403 - acc: 0.9087 - val_loss: 0.2786 - val_acc: 0.8862\n",
      "Epoch 9/40\n",
      "36000/36000 [==============================] - 1s 23us/step - loss: 0.2239 - acc: 0.9153 - val_loss: 0.2723 - val_acc: 0.8895\n",
      "Epoch 10/40\n",
      "36000/36000 [==============================] - 1s 22us/step - loss: 0.2116 - acc: 0.9190 - val_loss: 0.2686 - val_acc: 0.8905\n",
      "Epoch 11/40\n",
      "36000/36000 [==============================] - 1s 23us/step - loss: 0.1990 - acc: 0.9251 - val_loss: 0.2673 - val_acc: 0.8935\n",
      "Epoch 12/40\n",
      "36000/36000 [==============================] - 1s 23us/step - loss: 0.1893 - acc: 0.9293 - val_loss: 0.2664 - val_acc: 0.8927\n",
      "Epoch 13/40\n",
      "36000/36000 [==============================] - 1s 22us/step - loss: 0.1808 - acc: 0.9334 - val_loss: 0.2676 - val_acc: 0.8925\n",
      "Epoch 14/40\n",
      "36000/36000 [==============================] - 1s 23us/step - loss: 0.1736 - acc: 0.9364 - val_loss: 0.2729 - val_acc: 0.8930\n",
      "Epoch 15/40\n",
      "36000/36000 [==============================] - 1s 23us/step - loss: 0.1672 - acc: 0.9382 - val_loss: 0.2732 - val_acc: 0.8935\n",
      "Epoch 16/40\n",
      "36000/36000 [==============================] - 1s 23us/step - loss: 0.1603 - acc: 0.9417 - val_loss: 0.2810 - val_acc: 0.8893\n",
      "Epoch 17/40\n",
      "36000/36000 [==============================] - 1s 23us/step - loss: 0.1543 - acc: 0.9437 - val_loss: 0.2820 - val_acc: 0.8915\n",
      "Epoch 18/40\n",
      "36000/36000 [==============================] - 1s 22us/step - loss: 0.1494 - acc: 0.9460 - val_loss: 0.2842 - val_acc: 0.8912\n",
      "Epoch 19/40\n",
      "36000/36000 [==============================] - 1s 23us/step - loss: 0.1442 - acc: 0.9485 - val_loss: 0.2891 - val_acc: 0.8892\n",
      "Epoch 20/40\n",
      "36000/36000 [==============================] - 1s 23us/step - loss: 0.1400 - acc: 0.9507 - val_loss: 0.2958 - val_acc: 0.8888\n",
      "Epoch 21/40\n",
      "36000/36000 [==============================] - 1s 23us/step - loss: 0.1354 - acc: 0.9519 - val_loss: 0.2998 - val_acc: 0.8880\n",
      "Epoch 22/40\n",
      "36000/36000 [==============================] - 1s 23us/step - loss: 0.1314 - acc: 0.9534 - val_loss: 0.3091 - val_acc: 0.8850\n",
      "Epoch 23/40\n",
      "36000/36000 [==============================] - 1s 23us/step - loss: 0.1267 - acc: 0.9548 - val_loss: 0.3163 - val_acc: 0.8840\n",
      "Epoch 24/40\n",
      "36000/36000 [==============================] - 1s 23us/step - loss: 0.1233 - acc: 0.9572 - val_loss: 0.3194 - val_acc: 0.8845\n",
      "Epoch 25/40\n",
      "36000/36000 [==============================] - 1s 23us/step - loss: 0.1192 - acc: 0.9588 - val_loss: 0.3286 - val_acc: 0.8827\n",
      "Epoch 26/40\n",
      "36000/36000 [==============================] - 1s 23us/step - loss: 0.1166 - acc: 0.9596 - val_loss: 0.3348 - val_acc: 0.8842\n",
      "Epoch 27/40\n",
      "36000/36000 [==============================] - 1s 23us/step - loss: 0.1131 - acc: 0.9611 - val_loss: 0.3503 - val_acc: 0.8788\n",
      "Epoch 28/40\n",
      "36000/36000 [==============================] - 1s 22us/step - loss: 0.1095 - acc: 0.9631 - val_loss: 0.3484 - val_acc: 0.8805\n",
      "Epoch 29/40\n",
      "36000/36000 [==============================] - 1s 23us/step - loss: 0.1068 - acc: 0.9639 - val_loss: 0.3595 - val_acc: 0.8765\n",
      "Epoch 30/40\n",
      "36000/36000 [==============================] - 1s 23us/step - loss: 0.1041 - acc: 0.9660 - val_loss: 0.3640 - val_acc: 0.8785\n",
      "Epoch 31/40\n",
      "36000/36000 [==============================] - 1s 23us/step - loss: 0.1012 - acc: 0.9668 - val_loss: 0.3722 - val_acc: 0.8770\n",
      "Epoch 32/40\n",
      "36000/36000 [==============================] - 1s 22us/step - loss: 0.0984 - acc: 0.9675 - val_loss: 0.3812 - val_acc: 0.8745\n",
      "Epoch 33/40\n",
      "36000/36000 [==============================] - 1s 23us/step - loss: 0.0961 - acc: 0.9686 - val_loss: 0.3887 - val_acc: 0.8743\n",
      "Epoch 34/40\n",
      "36000/36000 [==============================] - 1s 23us/step - loss: 0.0951 - acc: 0.9678 - val_loss: 0.3979 - val_acc: 0.8735\n",
      "Epoch 35/40\n",
      "36000/36000 [==============================] - 1s 23us/step - loss: 0.0906 - acc: 0.9708 - val_loss: 0.4062 - val_acc: 0.8713\n",
      "Epoch 36/40\n",
      "36000/36000 [==============================] - 1s 23us/step - loss: 0.0886 - acc: 0.9720 - val_loss: 0.4166 - val_acc: 0.8713\n",
      "Epoch 37/40\n",
      "36000/36000 [==============================] - 1s 23us/step - loss: 0.0863 - acc: 0.9734 - val_loss: 0.4235 - val_acc: 0.8690\n",
      "Epoch 38/40\n",
      "36000/36000 [==============================] - 1s 23us/step - loss: 0.0851 - acc: 0.9733 - val_loss: 0.4392 - val_acc: 0.8665\n",
      "Epoch 39/40\n",
      "36000/36000 [==============================] - 1s 23us/step - loss: 0.0840 - acc: 0.9734 - val_loss: 0.4455 - val_acc: 0.8672\n",
      "Epoch 40/40\n",
      "36000/36000 [==============================] - 1s 22us/step - loss: 0.0794 - acc: 0.9768 - val_loss: 0.4540 - val_acc: 0.8650\n"
     ]
    }
   ],
   "source": [
    "history = model.fit(#partial_x_train,partial_y_train,\n",
    "                    train_data, train_labels,\n",
    "                    epochs=40,\n",
    "                    batch_size=512,\n",
    "                    #validation_data=(x_val, y_val),\n",
    "                    validation_split=0.1,              #validation data를 트레이닝 data에서 분할하여 사용하고 셔플해서 씀\n",
    "                    shuffle=True,\n",
    "                    verbose=1)"
   ]
  },
  {
   "cell_type": "code",
   "execution_count": 17,
   "metadata": {
    "colab": {
     "base_uri": "https://localhost:8080/",
     "height": 54
    },
    "colab_type": "code",
    "id": "wvS7ksGMNC_l",
    "outputId": "7e7c7b81-802c-4dd9-d3ca-7a4c52c52a83"
   },
   "outputs": [
    {
     "name": "stdout",
     "output_type": "stream",
     "text": [
      "10000/10000 [==============================] - 0s 42us/step\n",
      "[0.45309038655757905, 0.8658]\n"
     ]
    }
   ],
   "source": [
    "results = model.evaluate(test_data, test_labels)\n",
    "\n",
    "print(results) \n",
    "#1. train/test data분할 8:2 + val(0.1, suffle) 86.9% -> 87.2%로 향상\n",
    "#2. Embedding Layer Output 16->512일때 Overfitting, 16->64 다소 Overfitting인듯 (일단 16으로 고정!)\n",
    "#3. word embedding(gloves) 로딩하여 사용하는 경우, trainable=False의 경우 78.9% 오히려 성능이 떨어짐, trainable=True의 경우 86.5% 튜토리얼?과 성능 거의 동일"
   ]
  },
  {
   "cell_type": "code",
   "execution_count": 25,
   "metadata": {
    "colab": {
     "base_uri": "https://localhost:8080/",
     "height": 3890
    },
    "colab_type": "code",
    "id": "lIrNbuXzH057",
    "outputId": "63b7e38e-fc4b-4653-c0af-06b8f92f4a0d"
   },
   "outputs": [
    {
     "name": "stdout",
     "output_type": "stream",
     "text": [
      "2 0 1\n",
      "5 1 0\n",
      "7 0 1\n",
      "9 1 0\n",
      "10 1 0\n",
      "11 0 1\n",
      "18 0 1\n",
      "23 0 1\n",
      "26 0 1\n",
      "28 1 0\n",
      "31 0 1\n",
      "32 1 0\n",
      "38 0 1\n",
      "43 0 1\n",
      "44 1 0\n",
      "53 0 1\n",
      "56 0 1\n",
      "62 0 1\n",
      "65 1 0\n",
      "69 0 1\n",
      "71 0 1\n",
      "82 1 0\n",
      "86 1 0\n",
      "87 0 1\n",
      "90 0 1\n",
      "92 0 1\n",
      "93 0 1\n",
      "94 1 0\n",
      "98 0 1\n",
      "100 1 0\n",
      "102 0 1\n",
      "109 0 1\n",
      "111 0 1\n",
      "113 0 1\n",
      "114 0 1\n",
      "116 0 1\n",
      "119 1 0\n",
      "122 0 1\n",
      "124 0 1\n",
      "130 0 1\n",
      "133 0 1\n",
      "138 1 0\n",
      "141 0 1\n",
      "146 0 1\n",
      "153 1 0\n",
      "155 1 0\n",
      "157 0 1\n",
      "158 0 1\n",
      "163 0 1\n",
      "167 1 0\n",
      "178 0 1\n",
      "190 0 1\n",
      "193 0 1\n",
      "199 1 0\n",
      "204 1 0\n",
      "207 1 0\n",
      "217 0 1\n",
      "218 0 1\n",
      "224 0 1\n",
      "228 0 1\n",
      "229 0 1\n",
      "242 0 1\n",
      "246 0 1\n",
      "250 0 1\n",
      "261 1 0\n",
      "269 1 0\n",
      "270 0 1\n",
      "275 0 1\n",
      "281 1 0\n",
      "284 0 1\n",
      "285 0 1\n",
      "289 0 1\n",
      "293 1 0\n",
      "303 0 1\n",
      "306 1 0\n",
      "307 0 1\n",
      "309 1 0\n",
      "318 0 1\n",
      "319 1 0\n",
      "323 0 1\n",
      "330 1 0\n",
      "331 0 1\n",
      "333 1 0\n",
      "345 0 1\n",
      "354 1 0\n",
      "357 1 0\n",
      "366 1 0\n",
      "368 1 0\n",
      "375 1 0\n",
      "381 1 0\n",
      "385 1 0\n",
      "387 0 1\n",
      "389 1 0\n",
      "394 1 0\n",
      "399 1 0\n",
      "403 0 1\n",
      "408 1 0\n",
      "409 1 0\n",
      "415 0 1\n",
      "426 0 1\n",
      "427 0 1\n",
      "439 0 1\n",
      "441 1 0\n",
      "442 0 1\n",
      "450 1 0\n",
      "451 0 1\n",
      "457 1 0\n",
      "458 0 1\n",
      "467 0 1\n",
      "470 1 0\n",
      "472 1 0\n",
      "473 0 1\n",
      "474 1 0\n",
      "487 0 1\n",
      "495 0 1\n",
      "499 1 0\n",
      "509 1 0\n",
      "510 1 0\n",
      "512 1 0\n",
      "515 1 0\n",
      "526 0 1\n",
      "531 1 0\n",
      "532 1 0\n",
      "533 0 1\n",
      "536 0 1\n",
      "537 0 1\n",
      "545 0 1\n",
      "546 0 1\n",
      "550 1 0\n",
      "554 0 1\n",
      "570 0 1\n",
      "575 1 0\n",
      "578 1 0\n",
      "579 0 1\n",
      "583 1 0\n",
      "586 1 0\n",
      "593 1 0\n",
      "604 1 0\n",
      "615 1 0\n",
      "622 1 0\n",
      "627 0 1\n",
      "631 0 1\n",
      "635 1 0\n",
      "638 0 1\n",
      "651 0 1\n",
      "654 0 1\n",
      "655 1 0\n",
      "669 0 1\n",
      "676 0 1\n",
      "686 1 0\n",
      "691 0 1\n",
      "693 1 0\n",
      "694 0 1\n",
      "701 0 1\n",
      "706 0 1\n",
      "710 1 0\n",
      "711 1 0\n",
      "713 1 0\n",
      "717 0 1\n",
      "724 1 0\n",
      "726 0 1\n",
      "728 1 0\n",
      "730 0 1\n",
      "732 0 1\n",
      "735 0 1\n",
      "737 0 1\n",
      "743 0 1\n",
      "751 1 0\n",
      "753 0 1\n",
      "760 0 1\n",
      "762 0 1\n",
      "763 1 0\n",
      "765 0 1\n",
      "777 1 0\n",
      "781 1 0\n",
      "783 1 0\n",
      "789 0 1\n",
      "791 1 0\n",
      "798 1 0\n",
      "800 0 1\n",
      "804 1 0\n",
      "809 0 1\n",
      "811 0 1\n",
      "823 0 1\n",
      "827 1 0\n",
      "828 1 0\n",
      "831 0 1\n",
      "832 0 1\n",
      "843 1 0\n",
      "854 1 0\n",
      "874 0 1\n",
      "875 0 1\n",
      "879 1 0\n",
      "890 1 0\n",
      "893 0 1\n",
      "894 1 0\n",
      "895 0 1\n",
      "897 0 1\n",
      "902 1 0\n",
      "904 0 1\n",
      "906 0 1\n",
      "913 1 0\n",
      "929 1 0\n",
      "930 0 1\n",
      "933 0 1\n",
      "943 1 0\n",
      "947 1 0\n",
      "956 0 1\n",
      "957 1 0\n",
      "967 0 1\n",
      "970 1 0\n",
      "972 0 1\n",
      "996 0 1\n"
     ]
    }
   ],
   "source": [
    "predicted_test_labels = model.predict_classes(test_data)\n",
    "for i in range(len(test_labels)):\n",
    "    if i>1000 : break\n",
    "    if predicted_test_labels[i][0] != test_labels[i]:\n",
    "        print(i, predicted_test_labels[i][0], test_labels[i])"
   ]
  },
  {
   "cell_type": "markdown",
   "metadata": {
    "colab_type": "text",
    "id": "Q9Kg4x4eJIJd"
   },
   "source": [
    "### 22th review has predicted review of positive (0) and truth is negative (1)\n",
    "### 526th has prediction of positive but truth is negative"
   ]
  },
  {
   "cell_type": "code",
   "execution_count": 18,
   "metadata": {
    "colab": {
     "base_uri": "https://localhost:8080/",
     "height": 74
    },
    "colab_type": "code",
    "id": "D7JQCpwRI9FK",
    "outputId": "7b16d35a-60b7-4c0c-f202-c76afc391074"
   },
   "outputs": [
    {
     "name": "stdout",
     "output_type": "stream",
     "text": [
      "<START> i just saw this at the toronto international film festival in the beautiful <UNK> theatre i was blown away by the beautiful cinematography the brilliant adaptation of a very <UNK> play and last but not least the <UNK> performance of al pacino who was born to play this role which was perfectly balanced by an equally strong performance from jeremy <UNK> br br the film <UNK> explores the themes of love vs loyalty law vs justice and passion vs reason some might protest that the content is <UNK> anti <UNK> however they should consider the historical context of the story and the delicate and nuanced way in which it is told in this adaptation br br 9 10 <PAD> <PAD> <PAD> <PAD> <PAD> <PAD> <PAD> <PAD> <PAD> <PAD> <PAD> <PAD> <PAD> <PAD> <PAD> <PAD> <PAD> <PAD> <PAD> <PAD> <PAD> <PAD> <PAD> <PAD> <PAD> <PAD> <PAD> <PAD> <PAD> <PAD> <PAD> <PAD> <PAD> <PAD> <PAD> <PAD> <PAD> <PAD> <PAD> <PAD> <PAD> <PAD> <PAD> <PAD> <PAD> <PAD> <PAD> <PAD> <PAD> <PAD> <PAD> <PAD> <PAD> <PAD> <PAD> <PAD> <PAD> <PAD> <PAD> <PAD> <PAD> <PAD> <PAD> <PAD> <PAD> <PAD> <PAD> <PAD> <PAD> <PAD> <PAD> <PAD> <PAD> <PAD> <PAD> <PAD> <PAD> <PAD> <PAD> <PAD> <PAD> <PAD> <PAD> <PAD> <PAD> <PAD> <PAD> <PAD> <PAD> <PAD> <PAD> <PAD> <PAD> <PAD> <PAD> <PAD> <PAD> <PAD> <PAD> <PAD> <PAD> <PAD> <PAD> <PAD> <PAD> <PAD> <PAD> <PAD> <PAD> <PAD> <PAD> <PAD> <PAD> <PAD> <PAD> <PAD> <PAD> <PAD> <PAD> <PAD> <PAD> <PAD> <PAD> <PAD> <PAD> <PAD> <PAD> <PAD> <PAD> <PAD> <PAD> <PAD> <PAD> <PAD> <PAD> <PAD> <PAD>\n",
      "<START> this show has an amazing plot with good and recognizable actors like the girl from boston legal and boris the butcher from snatch even the extras and the kid whom i thought from the commercial might be a weak link surprised me with his skill it's just the little things that the director needs to <UNK> like the guy who does the <UNK> of the last episode at the beginning of each new episode needs to be fired having a narrator tell you what happened kind of ruins the story the only other small problem i had was that sometimes they take too long to do things but no where near as long as some shows like prison break anyone know when they will resume the season <PAD> <PAD> <PAD> <PAD> <PAD> <PAD> <PAD> <PAD> <PAD> <PAD> <PAD> <PAD> <PAD> <PAD> <PAD> <PAD> <PAD> <PAD> <PAD> <PAD> <PAD> <PAD> <PAD> <PAD> <PAD> <PAD> <PAD> <PAD> <PAD> <PAD> <PAD> <PAD> <PAD> <PAD> <PAD> <PAD> <PAD> <PAD> <PAD> <PAD> <PAD> <PAD> <PAD> <PAD> <PAD> <PAD> <PAD> <PAD> <PAD> <PAD> <PAD> <PAD> <PAD> <PAD> <PAD> <PAD> <PAD> <PAD> <PAD> <PAD> <PAD> <PAD> <PAD> <PAD> <PAD> <PAD> <PAD> <PAD> <PAD> <PAD> <PAD> <PAD> <PAD> <PAD> <PAD> <PAD> <PAD> <PAD> <PAD> <PAD> <PAD> <PAD> <PAD> <PAD> <PAD> <PAD> <PAD> <PAD> <PAD> <PAD> <PAD> <PAD> <PAD> <PAD> <PAD> <PAD> <PAD> <PAD> <PAD> <PAD> <PAD> <PAD> <PAD> <PAD> <PAD> <PAD> <PAD> <PAD> <PAD> <PAD> <PAD> <PAD> <PAD> <PAD> <PAD> <PAD> <PAD> <PAD> <PAD> <PAD> <PAD> <PAD> <PAD> <PAD> <PAD> <PAD> <PAD> <PAD>\n"
     ]
    }
   ],
   "source": [
    "print(decode_review(test_data[22]))\n",
    "print(decode_review(test_data[526]))"
   ]
  },
  {
   "cell_type": "code",
   "execution_count": 19,
   "metadata": {
    "colab": {
     "base_uri": "https://localhost:8080/",
     "height": 35
    },
    "colab_type": "code",
    "id": "hXWpjxGQNItv",
    "outputId": "3a13df79-e762-47f3-a83e-b01ea80213f8"
   },
   "outputs": [
    {
     "data": {
      "text/plain": [
       "dict_keys(['val_loss', 'val_acc', 'loss', 'acc'])"
      ]
     },
     "execution_count": 19,
     "metadata": {
      "tags": []
     },
     "output_type": "execute_result"
    }
   ],
   "source": [
    "history_dict = history.history\n",
    "history_dict.keys()"
   ]
  },
  {
   "cell_type": "code",
   "execution_count": 20,
   "metadata": {
    "colab": {
     "base_uri": "https://localhost:8080/",
     "height": 295
    },
    "colab_type": "code",
    "id": "o8t30n8vNN3-",
    "outputId": "106367ad-a2f9-46ae-91ed-667f89284f8c"
   },
   "outputs": [
    {
     "data": {
      "image/png": "[encoded data removed]",
      "text/plain": [
       "<Figure size 432x288 with 1 Axes>"
      ]
     },
     "metadata": {
      "tags": []
     },
     "output_type": "display_data"
    }
   ],
   "source": [
    "import matplotlib.pyplot as plt\n",
    "\n",
    "acc = history_dict['acc']\n",
    "val_acc = history_dict['val_acc']\n",
    "loss = history_dict['loss']\n",
    "val_loss = history_dict['val_loss']\n",
    "\n",
    "epochs = range(1, len(acc) + 1)\n",
    "\n",
    "# \"bo\" is for \"blue dot\"\n",
    "plt.plot(epochs, loss, 'bo', label='Training loss')\n",
    "# b is for \"solid blue line\"\n",
    "plt.plot(epochs, val_loss, 'b', label='Validation loss')\n",
    "plt.title('Training and validation loss')\n",
    "plt.xlabel('Epochs')\n",
    "plt.ylabel('Loss')\n",
    "plt.legend()\n",
    "\n",
    "plt.show()"
   ]
  },
  {
   "cell_type": "code",
   "execution_count": 21,
   "metadata": {
    "colab": {
     "base_uri": "https://localhost:8080/",
     "height": 295
    },
    "colab_type": "code",
    "id": "8KdroOmrNT9r",
    "outputId": "81bccd66-f6db-4155-a072-c71d1cf268ab"
   },
   "outputs": [
    {
     "data": {
      "image/png": "[encoded data removed]",
      "text/plain": [
       "<Figure size 432x288 with 1 Axes>"
      ]
     },
     "metadata": {
      "tags": []
     },
     "output_type": "display_data"
    }
   ],
   "source": [
    "plt.clf()   # clear figure\n",
    "\n",
    "plt.plot(epochs, acc, 'bo', label='Training acc')\n",
    "plt.plot(epochs, val_acc, 'b', label='Validation acc')\n",
    "plt.title('Training and validation accuracy')\n",
    "plt.xlabel('Epochs')\n",
    "plt.ylabel('Accuracy')\n",
    "plt.legend()\n",
    "\n",
    "plt.show()"
   ]
  },
  {
   "cell_type": "markdown",
   "metadata": {
    "colab_type": "text",
    "id": "6mV2gbhN85hm"
   },
   "source": [
    "Model saving and loading"
   ]
  },
  {
   "cell_type": "code",
   "execution_count": 0,
   "metadata": {
    "colab": {},
    "colab_type": "code",
    "id": "0Zu6qPmY87YC"
   },
   "outputs": [],
   "source": [
    "from keras.models import load_model\n",
    "model.save('imdb_movie_review_sentiment.h5')\n",
    "\n",
    "# 특정 레이어의 weights를 얻어내서 저장하고 싶다면\n",
    "# layer.get_weights()를 호출하고 그 결과를 numpy.save로 저장\n",
    "\n",
    "# 저장된 weights를 읽어다가 (numpy.load) 다시 로드하고 싶다면\n",
    "# layer.set_weights(weights)를 사용. Refer to https://stackoverflow.com/questions/44644800/is-it-possible-to-save-a-trained-layer-to-use-layer-on-keras\n",
    "\n",
    "# model을 일단 날리고 다시 로드\n",
    "del model  \n",
    "model = load_model('imdb_movie_review_sentiment.h5')"
   ]
  },
  {
   "cell_type": "markdown",
   "metadata": {
    "colab_type": "text",
    "id": "lLGF8TkD9p79"
   },
   "source": [
    "Try some random review text"
   ]
  },
  {
   "cell_type": "code",
   "execution_count": 23,
   "metadata": {
    "colab": {
     "base_uri": "https://localhost:8080/",
     "height": 381
    },
    "colab_type": "code",
    "id": "_vT3DeD89pYZ",
    "outputId": "e11976c0-3238-4c3c-cf32-b906dd8bc576"
   },
   "outputs": [
    {
     "name": "stdout",
     "output_type": "stream",
     "text": [
      "[   6    2 4005   54    6 4927 1042    9 1059   56   11    4  341 1582\n",
      "    4 2297 3123    2  884  742 1148 1091    9  446   11    8 3928  260\n",
      "  952   17    6 1042   18   99  111  153    5  170  143    6 1696  113\n",
      " 3112    7   27  205  884  659    4  170 1211   29 1068    8 3538 1720\n",
      "   21   95   29  892 2197 4399    2    6  185 4934  936  625 5855 6102\n",
      "   23  113  339    4 4339   10   10 6167  328  212  944    6  852    2\n",
      "  239   39 2496  284  742 1148 1091  240   52   33  395  312 7583  622\n",
      "  105  625 6821 6725   26 5498 9188   86  320    7    4   22 4186   40\n",
      "    6 2616  743    6  184   52 2650    7 1550  113    5    4    2   36\n",
      "  518   26   21   95   17  183  168  270   18    6  905 1330   12    2\n",
      "   83 2764  212   48    2  229   69    2   94  905  235   13  594   48\n",
      " 1091 2533 2529   46   19  160  118  284  735   29   69 2453 1199   12\n",
      "    2    4  291  159   27 6508 1720  136    9   31    7    4   91 5565\n",
      "    2  147   11  438  479   10   10 3194  884  236  314   13 1829   11\n",
      "   61 1455  673 6695    4    2    7   61  113    5    2 1720   13  301\n",
      "    2   92   81   12  335    6 1042    6    2  335    6 1670  415  335\n",
      "  113    9   95   13  169   46   15   31    7   61 5916   16  556   34\n",
      "    6  378    7    2   89  244   13    8 8361   61  547    7    2   11\n",
      "    4  393    7   14]\n",
      "1\n"
     ]
    }
   ],
   "source": [
    "# print two and compare test_data, test_labels\n",
    "print(test_data[0])\n",
    "print(test_labels[0])"
   ]
  },
  {
   "cell_type": "code",
   "execution_count": 24,
   "metadata": {
    "colab": {
     "base_uri": "https://localhost:8080/",
     "height": 35
    },
    "colab_type": "code",
    "id": "LTHwo7EQED-I",
    "outputId": "14ae12c0-5f57-4a99-d720-b5c401e75969"
   },
   "outputs": [
    {
     "data": {
      "text/plain": [
       "(256,)"
      ]
     },
     "execution_count": 24,
     "metadata": {
      "tags": []
     },
     "output_type": "execute_result"
    }
   ],
   "source": [
    "test_data[0].shape"
   ]
  },
  {
   "cell_type": "code",
   "execution_count": 25,
   "metadata": {
    "colab": {
     "base_uri": "https://localhost:8080/",
     "height": 35
    },
    "colab_type": "code",
    "id": "MrEmwtGXA25f",
    "outputId": "85d48fa3-e9e0-4868-a03c-33b402cb9ca0"
   },
   "outputs": [
    {
     "name": "stdout",
     "output_type": "stream",
     "text": [
      "[1, 17, 66, 35, 73, 3398, 18, 9, 158, 906, 58, 6612]\n"
     ]
    }
   ],
   "source": [
    "def encode_review(review_text):\n",
    "    word_index = imdb.get_word_index()\n",
    "    words = review_text.split(\" \")\n",
    "    \n",
    "    return [word_index.get(word, 2) for word in words]\n",
    "  \n",
    "test_review_text = \"the movie had so much hype but it didn't meet my expectation\"\n",
    "test_review_vec = encode_review(test_review_text)\n",
    "print(test_review_vec)"
   ]
  },
  {
   "cell_type": "code",
   "execution_count": 26,
   "metadata": {
    "colab": {
     "base_uri": "https://localhost:8080/",
     "height": 35
    },
    "colab_type": "code",
    "id": "QXQ4OMiLCDx-",
    "outputId": "fdb157e9-5019-4fd8-be54-a924d0e3a069"
   },
   "outputs": [
    {
     "data": {
      "text/plain": [
       "array([[0.78464067]], dtype=float32)"
      ]
     },
     "execution_count": 26,
     "metadata": {
      "tags": []
     },
     "output_type": "execute_result"
    }
   ],
   "source": [
    "test_review_vec_padded = keras.preprocessing.sequence.pad_sequences([test_review_vec],\n",
    "                                                        value=word_index[\"<PAD>\"],\n",
    "                                                        padding='post',\n",
    "                                                        maxlen=256)\n",
    "model.predict(test_review_vec_padded)"
   ]
  },
  {
   "cell_type": "code",
   "execution_count": 27,
   "metadata": {
    "colab": {
     "base_uri": "https://localhost:8080/",
     "height": 35
    },
    "colab_type": "code",
    "id": "d5ZPgq6DHpN4",
    "outputId": "8b0b5f50-6a8f-4e96-b0d7-6986e90ea9d9"
   },
   "outputs": [
    {
     "data": {
      "text/plain": [
       "array([[1]], dtype=int32)"
      ]
     },
     "execution_count": 27,
     "metadata": {
      "tags": []
     },
     "output_type": "execute_result"
    }
   ],
   "source": [
    "model.predict_classes(test_review_vec_padded)"
   ]
  }
 ],
 "metadata": {
  "accelerator": "GPU",
  "colab": {
   "collapsed_sections": [],
   "name": "6_imdb_movie_review_sentiment_ipynb의_사본.ipynb",
   "provenance": [],
   "version": "0.3.2"
  },
  "kernelspec": {
   "display_name": "Python 3",
   "language": "python",
   "name": "python3"
  },
  "language_info": {
   "codemirror_mode": {
    "name": "ipython",
    "version": 3
   },
   "file_extension": ".py",
   "mimetype": "text/x-python",
   "name": "python",
   "nbconvert_exporter": "python",
   "pygments_lexer": "ipython3",
   "version": "3.7.1"
  }
 },
 "nbformat": 4,
 "nbformat_minor": 1
}
