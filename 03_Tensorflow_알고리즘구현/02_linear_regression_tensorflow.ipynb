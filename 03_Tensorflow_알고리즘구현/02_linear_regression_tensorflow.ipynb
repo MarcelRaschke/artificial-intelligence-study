{
 "cells": [
  {
   "cell_type": "code",
   "execution_count": 5,
   "metadata": {
    "colab": {
     "base_uri": "https://localhost:8080/",
     "height": 390
    },
    "colab_type": "code",
    "id": "LfnOImZtQA50",
    "outputId": "a0a4e93b-6e54-43d3-a19e-031cb173964f"
   },
   "outputs": [
    {
     "name": "stdout",
     "output_type": "stream",
     "text": [
      "0 23.698854 [-1.1192474] [0.2675548]\n",
      "100 0.09001815 [0.6523582] [0.7902361]\n",
      "200 0.055625748 [0.7267322] [0.6212021]\n",
      "300 0.034373302 [0.78518665] [0.48832124]\n",
      "400 0.021240585 [0.8311372] [0.38386494]\n",
      "500 0.013125427 [0.86725837] [0.3017529]\n",
      "600 0.008110702 [0.89565307] [0.23720524]\n",
      "700 0.0050119287 [0.91797364] [0.18646502]\n",
      "800 0.003097064 [0.9355199] [0.14657846]\n",
      "900 0.0019138061 [0.9493126] [0.11522409]\n",
      "1000 0.001182614 [0.9601551] [0.09057674]\n",
      "1100 0.00073078444 [0.96867824] [0.07120153]\n",
      "1200 0.00045157838 [0.9753783] [0.05597093]\n",
      "1300 0.00027905212 [0.98064506] [0.04399838]\n",
      "1400 0.00017243488 [0.9847853] [0.03458666]\n",
      "1500 0.00010655347 [0.9880398] [0.02718829]\n",
      "1600 6.584384e-05 [0.99059826] [0.02137248]\n",
      "1700 4.068743e-05 [0.9926094] [0.01680064]\n",
      "1800 2.5142837e-05 [0.9941902] [0.01320689]\n",
      "1900 1.553625e-05 [0.99543303] [0.01038189]\n",
      "2000 9.600575e-06 [0.99640995] [0.00816107]\n"
     ]
    }
   ],
   "source": [
    "import tensorflow as tf\n",
    "import matplotlib.pyplot as plt\n",
    "\n",
    "# y = W * x + b\n",
    "x_train = [1, 2, 3]\n",
    "y_train = [1, 2, 3]\n",
    "W = tf.Variable(tf.random_normal([1]), name=\"weight\")\n",
    "b = tf.Variable(tf.random_normal([1]), name=\"bias\")\n",
    "\n",
    "# H:Hypothesis\n",
    "H = W * x_train + b\n",
    "\n",
    "# cost(loss) function\n",
    "# (H-y)*(H-y)->minimumize\n",
    "cost =  tf.reduce_mean(tf.square(H - y_train))\n",
    "\n",
    "#Optimizer\n",
    "train_op = tf.train.GradientDescentOptimizer(learning_rate=0.01).minimize(cost)\n",
    "#train_op = train_op.minimize(cost)\n",
    "\n",
    "# Lainch the graph on a session.\n",
    "W_val_arr = []\n",
    "b_val_arr = []\n",
    "with tf.Session() as sess:\n",
    "    sess.run(tf.global_variables_initializer())\n",
    "\n",
    "    #fit\n",
    "    for step in range(2001):\n",
    "        _, cost_val, W_val, b_val = sess.run([train_op, cost, W, b])\n",
    "        W_val_arr.append(W_val)\n",
    "        b_val_arr.append(b_val)\n",
    "\n",
    "        if step % 100 == 0 :\n",
    "            print(step, cost_val, W_val, b_val)\n",
    "# Learns best fit W:[ 1.],  b:[ 0.]\n"
   ]
  },
  {
   "cell_type": "code",
   "execution_count": null,
   "metadata": {},
   "outputs": [],
   "source": []
  },
  {
   "cell_type": "code",
   "execution_count": 9,
   "metadata": {
    "colab": {
     "base_uri": "https://localhost:8080/",
     "height": 300
    },
    "colab_type": "code",
    "id": "b_D98SjHQHHm",
    "outputId": "0044b3ba-8017-444d-a1ee-4883d8834523"
   },
   "outputs": [
    {
     "data": {
      "text/plain": [
       "Text(0, 0.5, 'val')"
      ]
     },
     "execution_count": 9,
     "metadata": {
      "tags": []
     },
     "output_type": "execute_result"
    },
    {
     "data": {
      "image/png": "[encoded data removed]",
      "text/plain": [
       "<Figure size 432x288 with 1 Axes>"
      ]
     },
     "metadata": {
      "tags": []
     },
     "output_type": "display_data"
    }
   ],
   "source": [
    "plt.plot(W_val_arr, \"r+\", linewidth=0.01, label=\"W_val\")\n",
    "plt.plot(b_val_arr, \"b+\", linewidth=0.05, label=\"b_val\")\n",
    "\n",
    "plt.ylim([-0.5, 1.5])\n",
    "plt.legend(loc='upper right')\n",
    "plt.xlabel('epoch')\n",
    "plt.ylabel('val')\n",
    "#plt.show()\n"
   ]
  }
 ],
 "metadata": {
  "colab": {
   "collapsed_sections": [],
   "name": "Untitled1.ipynb",
   "provenance": [],
   "version": "0.3.2"
  },
  "kernelspec": {
   "display_name": "Python 3",
   "language": "python",
   "name": "python3"
  },
  "language_info": {
   "codemirror_mode": {
    "name": "ipython",
    "version": 3
   },
   "file_extension": ".py",
   "mimetype": "text/x-python",
   "name": "python",
   "nbconvert_exporter": "python",
   "pygments_lexer": "ipython3",
   "version": "3.7.1"
  }
 },
 "nbformat": 4,
 "nbformat_minor": 1
}
