{
  "nbformat": 4,
  "nbformat_minor": 0,
  "metadata": {
    "colab": {
      "name": "05_2-logistic_regression_by_sckit_learn.ipynb",
      "version": "0.3.2",
      "provenance": [],
      "collapsed_sections": []
    },
    "language_info": {
      "codemirror_mode": {
        "name": "ipython",
        "version": 3
      },
      "file_extension": ".py",
      "mimetype": "text/x-python",
      "name": "python",
      "nbconvert_exporter": "python",
      "pygments_lexer": "ipython3",
      "version": "3.7.1"
    },
    "kernelspec": {
      "display_name": "Python 3",
      "language": "python",
      "name": "python3"
    },
    "accelerator": "GPU"
  },
  "cells": [
    {
      "cell_type": "code",
      "metadata": {
        "colab_type": "code",
        "id": "6ppMnL9onI8S",
        "colab": {}
      },
      "source": [
        "import numpy as np\n",
        "from sklearn import linear_model\n",
        "import matplotlib.pyplot as plt"
      ],
      "execution_count": 0,
      "outputs": []
    },
    {
      "cell_type": "code",
      "metadata": {
        "colab_type": "code",
        "id": "GaRNeRaunpaS",
        "outputId": "138620b3-103f-4802-ee14-440cfe4962ab",
        "colab": {
          "base_uri": "https://localhost:8080/",
          "height": 54
        }
      },
      "source": [
        "x_data = [[1, 2],\n",
        "          [2, 3],\n",
        "          [3, 1],\n",
        "          [4, 3],\n",
        "          [5, 3],\n",
        "          [6, 2]]\n",
        "y_data = [[0],\n",
        "          [0],\n",
        "          [0],\n",
        "          [1],\n",
        "          [1],\n",
        "          [1]]\n",
        "print(np.array(x_data).shape) #(6,2)\n",
        "print(np.array(y_data).shape) #(6,1)\n",
        "\n",
        "# X*W = Y\n",
        "#(6,2)*W(?,?)=(6,1)\n",
        "# W는 X출력와 Y의 출력을 가져야함(합성곱에 의해) => (2, 1)\n",
        "# W.shape(2, 1)"
      ],
      "execution_count": 6,
      "outputs": [
        {
          "output_type": "stream",
          "text": [
            "(6, 2)\n",
            "(6, 1)\n"
          ],
          "name": "stdout"
        }
      ]
    },
    {
      "cell_type": "code",
      "metadata": {
        "colab_type": "code",
        "id": "YCOqu8QaraKa",
        "outputId": "59da6020-ac94-4782-bdc3-43a8e31e86d0",
        "colab": {
          "base_uri": "https://localhost:8080/",
          "height": 74
        }
      },
      "source": [
        "logreg = linear_model.LogisticRegression(solver='lbfgs') # BFGS(2차미분을 근사값으로 계산)를 제한된 메모리구조에서 구현한 최적화 알고리즘\n",
        "result = logreg.fit(x_data, y_data)"
      ],
      "execution_count": 7,
      "outputs": [
        {
          "output_type": "stream",
          "text": [
            "/usr/local/lib/python3.6/dist-packages/sklearn/utils/validation.py:724: DataConversionWarning: A column-vector y was passed when a 1d array was expected. Please change the shape of y to (n_samples, ), for example using ravel().\n",
            "  y = column_or_1d(y, warn=True)\n"
          ],
          "name": "stderr"
        }
      ]
    },
    {
      "cell_type": "code",
      "metadata": {
        "colab_type": "code",
        "id": "BJX7U3x3r4tG",
        "outputId": "2d1c4ddf-4fd6-4632-e7cb-22c808499d9f",
        "colab": {
          "base_uri": "https://localhost:8080/",
          "height": 163
        }
      },
      "source": [
        "#학습 data로 확인\n",
        "Class = logreg.predict(x_data)\n",
        "Prob = logreg.predict_proba(x_data)\n",
        "print(\"학습data Class:\",Class, \", Prob:\", Prob);\n",
        "\n",
        "x_test1 = [[3,4]] \n",
        "#검산\n",
        "# tensorflow코드(05_1-logistic_regression.ipynb)에서 W,b를 추정해보면 (w1=1.5, w2=0.3, b=-5.8)\n",
        "# [6,2]=1, [3,4]=1 \n",
        "Class = logreg.predict(x_test1)\n",
        "Prob = logreg.predict_proba(x_test1)\n",
        "print(\"test1 Class:\",Class, \", Prob:\", Prob);\n",
        "\n",
        "x_test2 = [[6,2]] \n",
        "#검산\n",
        "# tensorflow코드(05_1-logistic_regression.ipynb)에서 W,b를 추정해보면 (w1=1.5, w2=0.3, b=-5.8)\n",
        "# [6,2]=1, [3,4]=0 \n",
        "Class = logreg.predict(x_test2)\n",
        "Prob = logreg.predict_proba(x_test2)  #[[0.0720027 0.9279973]]  첫 번째 값은 label이 0일 확률이고 두 번째 값은 label이 1일 확률입니다.\n",
        "print(\"test2 Class:\",Class, \", Prob:\", Prob);\n"
      ],
      "execution_count": 10,
      "outputs": [
        {
          "output_type": "stream",
          "text": [
            "학습data Class: [0 0 0 1 1 1] , Prob: [[0.94670947 0.05329053]\n",
            " [0.79126159 0.20873841]\n",
            " [0.76165694 0.23834306]\n",
            " [0.30135017 0.69864983]\n",
            " [0.12701774 0.87298226]\n",
            " [0.0720027  0.9279973 ]]\n",
            "test1 Class: [1] , Prob: [[0.447163 0.552837]]\n",
            "test2 Class: [1] , Prob: [[0.0720027 0.9279973]]\n"
          ],
          "name": "stdout"
        }
      ]
    },
    {
      "cell_type": "code",
      "metadata": {
        "colab_type": "code",
        "id": "cvb40_-s4roE",
        "colab": {}
      },
      "source": [
        ""
      ],
      "execution_count": 0,
      "outputs": []
    }
  ]
}