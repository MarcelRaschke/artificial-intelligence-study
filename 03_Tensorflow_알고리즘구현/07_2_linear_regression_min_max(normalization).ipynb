{
  "nbformat": 4,
  "nbformat_minor": 0,
  "metadata": {
    "colab": {
      "name": "Untitled11.ipynb",
      "version": "0.3.2",
      "provenance": [],
      "collapsed_sections": []
    },
    "kernelspec": {
      "name": "python3",
      "display_name": "Python 3"
    },
    "accelerator": "GPU"
  },
  "cells": [
    {
      "cell_type": "code",
      "metadata": {
        "id": "aDIr2qeaAyMS",
        "colab_type": "code",
        "colab": {}
      },
      "source": [
        "import tensorflow as tf\n",
        "import numpy as np\n",
        "tf.set_random_seed(777)"
      ],
      "execution_count": 0,
      "outputs": []
    },
    {
      "cell_type": "code",
      "metadata": {
        "id": "ORWVyOmaBUQF",
        "colab_type": "code",
        "colab": {
          "base_uri": "https://localhost:8080/",
          "height": 35
        },
        "outputId": "d17b6f0d-b281-4c03-f788-8a7d2193a49b"
      },
      "source": [
        "xy = np.array(\n",
        "    [\n",
        "        [828.659973, 833.450012, 908100, 828.349976, 831.659973],\n",
        "        [823.02002, 828.070007, 1828100, 821.655029, 828.070007],\n",
        "        [819.929993, 824.400024, 1438100, 818.97998, 824.159973],\n",
        "        [816, 820.958984, 1008100, 815.48999, 819.23999],\n",
        "        [819.359985, 823, 1188100, 818.469971, 818.97998],\n",
        "        [819, 823, 1198100, 816, 820.450012],\n",
        "        [811.700012, 815.25, 1098100, 809.780029, 813.669983],\n",
        "        [809.51001, 816.659973, 1398100, 804.539978, 809.559998],\n",
        "    ]\n",
        ")\n",
        "\n",
        "print(xy.shape)"
      ],
      "execution_count": 2,
      "outputs": [
        {
          "output_type": "stream",
          "text": [
            "(8, 5)\n"
          ],
          "name": "stdout"
        }
      ]
    },
    {
      "cell_type": "code",
      "metadata": {
        "id": "q3Ae2SIACjD4",
        "colab_type": "code",
        "colab": {}
      },
      "source": [
        "#In [6]: X_MinMax = (X - X.min(axis=0)) / (X.max(axis=0) - X.min(axis=0))\n",
        "#참고: https://rfriend.tistory.com/270\n",
        "def min_max_scaler(data):\n",
        "    print(\"np.min(data, 0):\", np.min(data, 0))\n",
        "    \n",
        "    numerator = data - np.min(data, 0)\n",
        "    print(\"numerator:\", numerator)\n",
        "    \n",
        "    print(\"np.max(data, 0):\", np.max(data, 0))\n",
        "    denominator = np.max(data, 0) - np.min(data, 0)\n",
        "    print(\"denominator:\", denominator)\n",
        "    \n",
        "    # noise term prevents the zero division\n",
        "    return numerator / (denominator + 1e-7)"
      ],
      "execution_count": 0,
      "outputs": []
    },
    {
      "cell_type": "code",
      "metadata": {
        "id": "tHxcphKJCsjJ",
        "colab_type": "code",
        "colab": {
          "base_uri": "https://localhost:8080/",
          "height": 363
        },
        "outputId": "c6529c91-1521-493b-f7fe-5ddfdd1a84bd"
      },
      "source": [
        "# very important. It does not work without it.\n",
        "xy = min_max_scaler(xy)\n",
        "print(\"xy:\", xy)"
      ],
      "execution_count": 5,
      "outputs": [
        {
          "output_type": "stream",
          "text": [
            "np.min(data, 0): [0. 0. 0. 0. 0.]\n",
            "numerator: [[0.99999999 0.99999999 0.         1.         1.        ]\n",
            " [0.70548491 0.70439552 1.         0.71881782 0.83755791]\n",
            " [0.54412549 0.50274824 0.57608696 0.606468   0.6606331 ]\n",
            " [0.33890353 0.31368023 0.10869565 0.45989134 0.43800918]\n",
            " [0.51436    0.42582389 0.30434783 0.58504805 0.42624401]\n",
            " [0.49556179 0.42582389 0.31521739 0.48131134 0.49276137]\n",
            " [0.11436064 0.         0.20652174 0.22007776 0.18597238]\n",
            " [0.         0.07747099 0.5326087  0.         0.        ]]\n",
            "np.max(data, 0): [0.99999999 0.99999999 1.         1.         1.        ]\n",
            "denominator: [0.99999999 0.99999999 1.         1.         1.        ]\n",
            "xy: [[0.9999999  0.9999999  0.         0.9999999  0.9999999 ]\n",
            " [0.70548484 0.70439545 0.9999999  0.71881775 0.83755783]\n",
            " [0.54412544 0.50274819 0.5760869  0.60646794 0.66063303]\n",
            " [0.33890349 0.3136802  0.10869564 0.4598913  0.43800914]\n",
            " [0.51435995 0.42582385 0.3043478  0.585048   0.42624397]\n",
            " [0.49556174 0.42582385 0.31521736 0.48131129 0.49276132]\n",
            " [0.11436063 0.         0.20652172 0.22007774 0.18597236]\n",
            " [0.         0.07747099 0.53260864 0.         0.        ]]\n"
          ],
          "name": "stdout"
        }
      ]
    },
    {
      "cell_type": "code",
      "metadata": {
        "id": "L4XtcxXWCkd-",
        "colab_type": "code",
        "colab": {
          "base_uri": "https://localhost:8080/",
          "height": 181
        },
        "outputId": "f7d148d5-57c9-4406-ff74-82d291699233"
      },
      "source": [
        "x_data = xy[:, 0:-1]\n",
        "y_data = xy[:, [-1]]\n",
        "\n",
        "print(x_data.shape, y_data.shape)\n",
        "print(y_data)"
      ],
      "execution_count": 6,
      "outputs": [
        {
          "output_type": "stream",
          "text": [
            "(8, 4) (8, 1)\n",
            "[[0.9999999 ]\n",
            " [0.83755783]\n",
            " [0.66063303]\n",
            " [0.43800914]\n",
            " [0.42624397]\n",
            " [0.49276132]\n",
            " [0.18597236]\n",
            " [0.        ]]\n"
          ],
          "name": "stdout"
        }
      ]
    },
    {
      "cell_type": "code",
      "metadata": {
        "id": "HO0MB5GWBsy5",
        "colab_type": "code",
        "colab": {}
      },
      "source": [
        "\n",
        "# placeholders for a tensor that will be always fed.\n",
        "X = tf.placeholder(tf.float32, shape=[None, 4])\n",
        "Y = tf.placeholder(tf.float32, shape=[None, 1])\n",
        "\n",
        "W = tf.Variable(tf.random_normal([4, 1]), name='weight')\n",
        "b = tf.Variable(tf.random_normal([1]), name='bias')"
      ],
      "execution_count": 0,
      "outputs": []
    },
    {
      "cell_type": "code",
      "metadata": {
        "id": "gKKvtolhBzZw",
        "colab_type": "code",
        "colab": {}
      },
      "source": [
        "\n",
        "# Hypothesis\n",
        "hypothesis = tf.matmul(X, W) + b\n",
        "\n",
        "# Simplified cost/loss function\n",
        "cost = tf.reduce_mean(tf.square(hypothesis - Y))\n",
        "\n",
        "# Minimize\n",
        "optimizer = tf.train.GradientDescentOptimizer(learning_rate=1e-5)\n",
        "train = optimizer.minimize(cost)"
      ],
      "execution_count": 0,
      "outputs": []
    },
    {
      "cell_type": "code",
      "metadata": {
        "id": "J84LlWEEB1D7",
        "colab_type": "code",
        "colab": {
          "base_uri": "https://localhost:8080/",
          "height": 1108
        },
        "outputId": "aa9c837d-15ad-493d-fb16-9dd143a5ec0d"
      },
      "source": [
        "\n",
        "# Launch the graph in a session.\n",
        "sess = tf.Session()\n",
        "# Initializes global variables in the graph.\n",
        "sess.run(tf.global_variables_initializer())\n",
        "\n",
        "for step in range(101):\n",
        "    cost_val, hy_val, _ = sess.run(\n",
        "        [cost, hypothesis, train], feed_dict={X: x_data, Y: y_data})\n",
        "    if step % 20 == 0 :\n",
        "      print(step, \"Cost: \", cost_val, \"\\nPrediction:\\n\", hy_val)"
      ],
      "execution_count": 9,
      "outputs": [
        {
          "output_type": "stream",
          "text": [
            "0 Cost:  0.15230924 \n",
            "Prediction:\n",
            " [[ 1.634619  ]\n",
            " [ 0.06613705]\n",
            " [ 0.35008183]\n",
            " [ 0.6707252 ]\n",
            " [ 0.61130756]\n",
            " [ 0.6146441 ]\n",
            " [ 0.2317197 ]\n",
            " [-0.1372836 ]]\n",
            "20 Cost:  0.15229823 \n",
            "Prediction:\n",
            " [[ 1.6345959 ]\n",
            " [ 0.06616578]\n",
            " [ 0.35009497]\n",
            " [ 0.6707213 ]\n",
            " [ 0.61130923]\n",
            " [ 0.6146474 ]\n",
            " [ 0.23172614]\n",
            " [-0.13725987]]\n",
            "40 Cost:  0.15228717 \n",
            "Prediction:\n",
            " [[ 1.6345725 ]\n",
            " [ 0.0661945 ]\n",
            " [ 0.35010815]\n",
            " [ 0.67071736]\n",
            " [ 0.61131096]\n",
            " [ 0.6146507 ]\n",
            " [ 0.23173258]\n",
            " [-0.13723621]]\n",
            "60 Cost:  0.15227611 \n",
            "Prediction:\n",
            " [[ 1.6345494 ]\n",
            " [ 0.06622335]\n",
            " [ 0.35012132]\n",
            " [ 0.67071354]\n",
            " [ 0.6113127 ]\n",
            " [ 0.614654  ]\n",
            " [ 0.23173901]\n",
            " [-0.13721254]]\n",
            "80 Cost:  0.15226506 \n",
            "Prediction:\n",
            " [[ 1.634526  ]\n",
            " [ 0.0662522 ]\n",
            " [ 0.35013443]\n",
            " [ 0.6707096 ]\n",
            " [ 0.6113144 ]\n",
            " [ 0.6146573 ]\n",
            " [ 0.23174545]\n",
            " [-0.13718894]]\n",
            "100 Cost:  0.15225405 \n",
            "Prediction:\n",
            " [[ 1.6345029 ]\n",
            " [ 0.06628096]\n",
            " [ 0.3501476 ]\n",
            " [ 0.67070574]\n",
            " [ 0.61131614]\n",
            " [ 0.6146606 ]\n",
            " [ 0.23175189]\n",
            " [-0.13716522]]\n"
          ],
          "name": "stdout"
        }
      ]
    }
  ]
}