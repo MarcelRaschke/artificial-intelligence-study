{
  "nbformat": 4,
  "nbformat_minor": 0,
  "metadata": {
    "colab": {
      "name": "Untitled10.ipynb",
      "version": "0.3.2",
      "provenance": []
    },
    "kernelspec": {
      "name": "python3",
      "display_name": "Python 3"
    },
    "accelerator": "GPU"
  },
  "cells": [
    {
      "cell_type": "code",
      "metadata": {
        "id": "FFqPPB7x19-p",
        "colab_type": "code",
        "colab": {}
      },
      "source": [
        "import numpy as np\n",
        "from sklearn import linear_model\n"
      ],
      "execution_count": 0,
      "outputs": []
    },
    {
      "cell_type": "code",
      "metadata": {
        "id": "RHWCnbOg_ADR",
        "colab_type": "code",
        "outputId": "341b08eb-073a-4211-a933-80060e9b3ab3",
        "colab": {
          "base_uri": "https://localhost:8080/",
          "height": 35
        }
      },
      "source": [
        "np.random.seed(0)\n",
        "\n",
        "x_data = [[1, 2, 1, 1],\n",
        "          [2, 1, 3, 2],\n",
        "          [3, 1, 3, 4],\n",
        "          [4, 1, 5, 5],\n",
        "          [1, 7, 5, 5],\n",
        "          [1, 2, 5, 6],\n",
        "          [1, 6, 6, 6],\n",
        "          [1, 7, 7, 7]]\n",
        "\n",
        "#y_data = [[0, 0, 1], \n",
        "#          [0, 0, 1],\n",
        "#          [0, 0, 1],\n",
        "#          [0, 1, 0],\n",
        "#          [0, 1, 0],\n",
        "#          [0, 1, 0],\n",
        "#          [1, 0, 0],\n",
        "#          [1, 0, 0]]\n",
        "\n",
        "y_data = [2, 2, 2, 1, 1, 1, 0, 0]\n",
        "\n",
        "#x_data shape: [8,4] y_data shape: [8,3] (0,1,2 class) -> [8, ] 1차원 array로 결과값만 사용\n",
        "print(\"x_data.shape:\", np.array(x_data).shape, \"y_data.shape:\", np.array(y_data).shape)"
      ],
      "execution_count": 3,
      "outputs": [
        {
          "output_type": "stream",
          "text": [
            "x_data.shape: (8, 4) y_data.shape: (8,)\n"
          ],
          "name": "stdout"
        }
      ]
    },
    {
      "cell_type": "code",
      "metadata": {
        "id": "diGtGWSC_APS",
        "colab_type": "code",
        "outputId": "8e1bb7e1-9191-4665-ee0b-79bb3fee1fdc",
        "colab": {
          "base_uri": "https://localhost:8080/",
          "height": 54
        }
      },
      "source": [
        "softmax_reg = linear_model.LogisticRegression(multi_class=\"multinomial\", solver=\"lbfgs\", C=10) #C:Hyper parameter for regularization\n",
        "result = softmax_reg.fit(x_data, y_data)"
      ],
      "execution_count": 8,
      "outputs": [
        {
          "output_type": "stream",
          "text": [
            "/usr/local/lib/python3.6/dist-packages/sklearn/linear_model/logistic.py:947: ConvergenceWarning: lbfgs failed to converge. Increase the number of iterations.\n",
            "  \"of iterations.\", ConvergenceWarning)\n"
          ],
          "name": "stderr"
        }
      ]
    },
    {
      "cell_type": "code",
      "metadata": {
        "id": "-KW1Nh_6B6fO",
        "colab_type": "code",
        "colab": {
          "base_uri": "https://localhost:8080/",
          "height": 163
        },
        "outputId": "5eadb011-5c2c-4f44-db83-365b14412173"
      },
      "source": [
        "Class = softmax_reg.predict(x_data)\n",
        "prob = softmax_reg.predict_proba(x_data)\n",
        "print(\"Class:\", Class, \"prob:\", prob)"
      ],
      "execution_count": 9,
      "outputs": [
        {
          "output_type": "stream",
          "text": [
            "Class: [2 2 2 1 1 1 0 0] prob: [[2.08296417e-13 7.94686715e-05 9.99920531e-01]\n",
            " [2.80855884e-09 6.98567371e-03 9.93014323e-01]\n",
            " [8.09080598e-07 8.74583320e-02 9.12540859e-01]\n",
            " [2.37192094e-03 9.33723156e-01 6.39049233e-02]\n",
            " [1.46372059e-01 8.48657157e-01 4.97078393e-03]\n",
            " [4.70818357e-02 9.27417110e-01 2.55010547e-02]\n",
            " [8.07256015e-01 1.92643828e-01 1.00157131e-04]\n",
            " [9.96944467e-01 3.05548594e-03 4.75352729e-08]]\n"
          ],
          "name": "stdout"
        }
      ]
    },
    {
      "cell_type": "code",
      "metadata": {
        "id": "CoMp4CQqHhgx",
        "colab_type": "code",
        "colab": {
          "base_uri": "https://localhost:8080/",
          "height": 72
        },
        "outputId": "8d135dd9-abe3-4b82-dee9-a018ea2ef43f"
      },
      "source": [
        "x_test = [[1, 11, 7, 9], [1, 3, 4, 3], [1, 1, 0, 1]]\n",
        "Class = softmax_reg.predict(x_test)\n",
        "prob = softmax_reg.predict_proba(x_test)\n",
        "print(\"Class:\", Class, \"prob:\", prob)\n",
        "\n",
        "# 06_1_softmax_classifier.ipynb의 test data 결과가 다름;; 일단 pass"
      ],
      "execution_count": 11,
      "outputs": [
        {
          "output_type": "stream",
          "text": [
            "Class: [0 2 2] prob: [[9.99989812e-01 1.01875727e-05 1.72826590e-12]\n",
            " [1.68707181e-05 2.36489216e-01 7.63493913e-01]\n",
            " [1.39869488e-15 7.67730406e-06 9.99992323e-01]]\n"
          ],
          "name": "stdout"
        }
      ]
    }
  ]
}