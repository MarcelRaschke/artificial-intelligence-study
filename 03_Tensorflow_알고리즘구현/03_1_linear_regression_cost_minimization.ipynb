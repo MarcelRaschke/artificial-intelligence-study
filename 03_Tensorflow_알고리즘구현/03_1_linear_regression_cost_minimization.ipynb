{
  "nbformat": 4,
  "nbformat_minor": 0,
  "metadata": {
    "colab": {
      "name": "04_linear_regression_cost_minimization.ipynb",
      "version": "0.3.2",
      "provenance": [],
      "collapsed_sections": []
    },
    "kernelspec": {
      "name": "python3",
      "display_name": "Python 3"
    }
  },
  "cells": [
    {
      "cell_type": "code",
      "metadata": {
        "id": "eN0RX_klAJoF",
        "colab_type": "code",
        "colab": {
          "base_uri": "https://localhost:8080/",
          "height": 158
        },
        "outputId": "c4a68e9d-33c2-487f-f1bb-04708f13fd45"
      },
      "source": [
        "import tensorflow as tf\n",
        "import matplotlib.pyplot as plt\n",
        "\n",
        "X = [1, 2, 3]\n",
        "Y = [1, 2, 3]\n",
        "\n",
        "W = tf.placeholder(tf.float32)\n",
        "\n",
        "#simple setting\n",
        "H = X * W\n",
        "\n",
        "# cost/loss function\n",
        "cost = tf.reduce_mean(tf.square(H - Y))\n",
        "\n",
        "W_val_arr = []\n",
        "cost_val_arr = []\n",
        "\n",
        "with tf.Session() as sess:\n",
        "  for i in range(-30, 50):\n",
        "    W_curr = i * 0.1\n",
        "    cost_curr = sess.run(cost, feed_dict={W: W_curr})\n",
        "    if i % 10 == 0:\n",
        "      print(f\"i:{i} W_curr:{W_curr} cost_curr:{cost_curr}\")\n",
        "    \n",
        "    W_val_arr.append(W_curr)\n",
        "    cost_val_arr.append(cost_curr)"
      ],
      "execution_count": 8,
      "outputs": [
        {
          "output_type": "stream",
          "text": [
            "i:-30 W_curr:-3.0 cost_curr:74.66666412353516\n",
            "i:-20 W_curr:-2.0 cost_curr:42.0\n",
            "i:-10 W_curr:-1.0 cost_curr:18.66666603088379\n",
            "i:0 W_curr:0.0 cost_curr:4.666666507720947\n",
            "i:10 W_curr:1.0 cost_curr:0.0\n",
            "i:20 W_curr:2.0 cost_curr:4.666666507720947\n",
            "i:30 W_curr:3.0 cost_curr:18.66666603088379\n",
            "i:40 W_curr:4.0 cost_curr:42.0\n"
          ],
          "name": "stdout"
        }
      ]
    },
    {
      "cell_type": "code",
      "metadata": {
        "id": "sZZW3gDJBgbh",
        "colab_type": "code",
        "colab": {
          "base_uri": "https://localhost:8080/",
          "height": 283
        },
        "outputId": "8540f198-470d-41e5-9f26-d97fada8d1db"
      },
      "source": [
        "plt.plot(W_val_arr, cost_val_arr)\n",
        "plt.xlabel('weight')\n",
        "plt.ylabel('cost')\n",
        "\n",
        "#goal : Find weight(W)_value for minimizing cost\n",
        "plt.show()"
      ],
      "execution_count": 9,
      "outputs": [
        {
          "output_type": "display_data",
          "data": {
            "image/png": "[encoded data removed]",
            "text/plain": [
              "<Figure size 432x288 with 1 Axes>"
            ]
          },
          "metadata": {
            "tags": []
          }
        }
      ]
    }
  ]
}