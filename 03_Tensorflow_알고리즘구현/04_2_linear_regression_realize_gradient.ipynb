{
  "nbformat": 4,
  "nbformat_minor": 0,
  "metadata": {
    "colab": {
      "name": "04_linear_regression_realize_gradient.ipynb",
      "version": "0.3.2",
      "provenance": []
    },
    "kernelspec": {
      "name": "python3",
      "display_name": "Python 3"
    }
  },
  "cells": [
    {
      "cell_type": "code",
      "metadata": {
        "id": "mC6iH8k0H9J1",
        "colab_type": "code",
        "colab": {
          "base_uri": "https://localhost:8080/",
          "height": 386
        },
        "outputId": "76c2c4c4-f1d3-4d80-e9a4-f2331697c351"
      },
      "source": [
        "import tensorflow as tf\n",
        "import matplotlib.pyplot as plt\n",
        "\n",
        "tf.set_random_seed(777)  # for reproducibility\n",
        "\n",
        "x_data = [1, 2, 3]\n",
        "y_data = [1, 2, 3]\n",
        "\n",
        "#y_data = W * x_data\n",
        "W = tf.Variable(tf.random_normal([1]), name=\"weight\")\n",
        "\n",
        "X = tf.placeholder(tf.float32)\n",
        "Y = tf.placeholder(tf.float32)\n",
        "\n",
        "# Our hypothesis(H) for linear model X * W\n",
        "H = X * W\n",
        "\n",
        "# cost/loss function\n",
        "cost = tf.reduce_mean(tf.square(H - Y))\n",
        "\n",
        "# Minimize: Gradient Descent using derivative: W -= learning_rate * derivative\n",
        "learning_rate = 0.1\n",
        "gradient = tf.reduce_mean((W * X - Y) * X)\n",
        "descent = W - learning_rate * gradient\n",
        "update = W.assign(descent)\n",
        "\n",
        "W_val_arr = []\n",
        "cost_val_arr = []\n",
        "with tf.Session() as sess:\n",
        "    # Initializes global variables in the graph.\n",
        "    sess.run(tf.global_variables_initializer())\n",
        "\n",
        "    for step in range(21):\n",
        "        sess.run(update, feed_dict={X: x_data, Y: y_data})\n",
        "        cost_val = sess.run(cost, feed_dict={X: x_data, Y: y_data})\n",
        "        W_val = sess.run(W)\n",
        "        print(step, cost_val, W_val)\n",
        "\n",
        "        W_val_arr.append(W_val)\n",
        "        cost_val_arr.append(cost_val)"
      ],
      "execution_count": 8,
      "outputs": [
        {
          "output_type": "stream",
          "text": [
            "0 0.05809314 [0.888427]\n",
            "1 0.01652428 [0.9404944]\n",
            "2 0.004700233 [0.9682637]\n",
            "3 0.0013369588 [0.98307395]\n",
            "4 0.00038029184 [0.99097276]\n",
            "5 0.00010816968 [0.9951855]\n",
            "6 3.0769355e-05 [0.99743223]\n",
            "7 8.752172e-06 [0.9986305]\n",
            "8 2.4893866e-06 [0.9992696]\n",
            "9 7.0825735e-07 [0.9996104]\n",
            "10 2.0142573e-07 [0.9997922]\n",
            "11 5.7282985e-08 [0.9998892]\n",
            "12 1.6315122e-08 [0.9999409]\n",
            "13 4.6433364e-09 [0.99996847]\n",
            "14 1.3224669e-09 [0.9999832]\n",
            "15 3.7090805e-10 [0.99999106]\n",
            "16 1.0610771e-10 [0.99999523]\n",
            "17 3.0350833e-11 [0.99999744]\n",
            "18 8.608225e-12 [0.9999986]\n",
            "19 2.3874236e-12 [0.9999993]\n",
            "20 5.163277e-13 [0.99999964]\n"
          ],
          "name": "stdout"
        }
      ]
    },
    {
      "cell_type": "code",
      "metadata": {
        "id": "zKk-oHelKreS",
        "colab_type": "code",
        "colab": {
          "base_uri": "https://localhost:8080/",
          "height": 283
        },
        "outputId": "ae8ee4fd-bf39-4965-ce2b-264b5d597286"
      },
      "source": [
        "plt.plot(W_val_arr, cost_val_arr)\n",
        "plt.xlabel('weight')\n",
        "plt.ylabel('cost')\n",
        "\n",
        "#goal : Find weight(W)_value for minimizing cost\n",
        "plt.show()"
      ],
      "execution_count": 9,
      "outputs": [
        {
          "output_type": "display_data",
          "data": {
            "image/png": "[encoded data removed]",
            "text/plain": [
              "<Figure size 432x288 with 1 Axes>"
            ]
          },
          "metadata": {
            "tags": []
          }
        }
      ]
    }
  ]
}