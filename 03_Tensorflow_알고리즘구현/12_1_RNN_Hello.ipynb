{
  "nbformat": 4,
  "nbformat_minor": 0,
  "metadata": {
    "colab": {
      "name": "12_1_RNN_Hello.ipynb",
      "provenance": []
    },
    "kernelspec": {
      "name": "python3",
      "display_name": "Python 3"
    }
  },
  "cells": [
    {
      "cell_type": "code",
      "metadata": {
        "id": "z37ydVWI0i5B",
        "colab_type": "code",
        "colab": {}
      },
      "source": [
        "# Lab 12 RNN\n",
        "import tensorflow as tf\n",
        "import numpy as np\n",
        "tf.set_random_seed(777)  # reproducibility"
      ],
      "execution_count": 0,
      "outputs": []
    },
    {
      "cell_type": "code",
      "metadata": {
        "id": "wDK5fHAk1TJZ",
        "colab_type": "code",
        "colab": {}
      },
      "source": [
        "idx2char = ['h', 'i', 'e', 'l', 'o']\n",
        "# Teach hello: hihell -> ihello\n",
        "x_data = [[0, 1, 0, 2, 3, 3]]   # hihell\n",
        "x_one_hot = [[[1, 0, 0, 0, 0],   # h 0\n",
        "              [0, 1, 0, 0, 0],   # i 1\n",
        "              [1, 0, 0, 0, 0],   # h 0\n",
        "              [0, 0, 1, 0, 0],   # e 2\n",
        "              [0, 0, 0, 1, 0],   # l 3\n",
        "              [0, 0, 0, 1, 0]]]  # l 3\n",
        "\n",
        "y_data = [[1, 0, 2, 3, 3, 4]]    # ihello"
      ],
      "execution_count": 0,
      "outputs": []
    },
    {
      "cell_type": "code",
      "metadata": {
        "id": "EULd8iBd1Ta8",
        "colab_type": "code",
        "colab": {}
      },
      "source": [
        "num_classes = 5\n",
        "input_dim = 5  # one-hot size\n",
        "hidden_size = 5  # output from the LSTM. 5 to directly predict one-hot\n",
        "batch_size = 1   # one sentence\n",
        "sequence_length = 6  # |ihello| == 6\n",
        "learning_rate = 0.1"
      ],
      "execution_count": 0,
      "outputs": []
    },
    {
      "cell_type": "code",
      "metadata": {
        "id": "Ck2wCwNz17gq",
        "colab_type": "code",
        "colab": {}
      },
      "source": [
        "X = tf.placeholder(\n",
        "    tf.float32, [None, sequence_length, input_dim])  # X one-hot\n",
        "Y = tf.placeholder(tf.int32, [None, sequence_length])  # Y label"
      ],
      "execution_count": 0,
      "outputs": []
    },
    {
      "cell_type": "code",
      "metadata": {
        "id": "H32iIJgO17k6",
        "colab_type": "code",
        "colab": {
          "base_uri": "https://localhost:8080/",
          "height": 401
        },
        "outputId": "e57d5f59-1e5e-4aa5-b682-54fe5ae3a88f"
      },
      "source": [
        "cell = tf.contrib.rnn.BasicLSTMCell(num_units=hidden_size, state_is_tuple=True)\n",
        "initial_state = cell.zero_state(batch_size, tf.float32)\n",
        "outputs, _states = tf.nn.dynamic_rnn(\n",
        "    cell, X, initial_state=initial_state, dtype=tf.float32)"
      ],
      "execution_count": 7,
      "outputs": [
        {
          "output_type": "stream",
          "text": [
            "WARNING:tensorflow:\n",
            "The TensorFlow contrib module will not be included in TensorFlow 2.0.\n",
            "For more information, please see:\n",
            "  * https://github.com/tensorflow/community/blob/master/rfcs/20180907-contrib-sunset.md\n",
            "  * https://github.com/tensorflow/addons\n",
            "  * https://github.com/tensorflow/io (for I/O related ops)\n",
            "If you depend on functionality not listed there, please file an issue.\n",
            "\n",
            "WARNING:tensorflow:From <ipython-input-7-15522055987a>:1: BasicLSTMCell.__init__ (from tensorflow.python.ops.rnn_cell_impl) is deprecated and will be removed in a future version.\n",
            "Instructions for updating:\n",
            "This class is equivalent as tf.keras.layers.LSTMCell, and will be replaced by that in Tensorflow 2.0.\n",
            "WARNING:tensorflow:From <ipython-input-7-15522055987a>:4: dynamic_rnn (from tensorflow.python.ops.rnn) is deprecated and will be removed in a future version.\n",
            "Instructions for updating:\n",
            "Please use `keras.layers.RNN(cell)`, which is equivalent to this API\n",
            "WARNING:tensorflow:From /usr/local/lib/python3.6/dist-packages/tensorflow/python/ops/init_ops.py:1251: calling VarianceScaling.__init__ (from tensorflow.python.ops.init_ops) with dtype is deprecated and will be removed in a future version.\n",
            "Instructions for updating:\n",
            "Call initializer instance with the dtype argument instead of passing it to the constructor\n",
            "WARNING:tensorflow:From /usr/local/lib/python3.6/dist-packages/tensorflow/python/ops/rnn_cell_impl.py:738: calling Zeros.__init__ (from tensorflow.python.ops.init_ops) with dtype is deprecated and will be removed in a future version.\n",
            "Instructions for updating:\n",
            "Call initializer instance with the dtype argument instead of passing it to the constructor\n"
          ],
          "name": "stdout"
        }
      ]
    },
    {
      "cell_type": "code",
      "metadata": {
        "id": "Xl3ieKkm17q-",
        "colab_type": "code",
        "colab": {}
      },
      "source": [
        "# FC layer\n",
        "X_for_fc = tf.reshape(outputs, [-1, hidden_size])\n",
        "# fc_w = tf.get_variable(\"fc_w\", [hidden_size, num_classes])\n",
        "# fc_b = tf.get_variable(\"fc_b\", [num_classes])\n",
        "# outputs = tf.matmul(X_for_fc, fc_w) + fc_b\n",
        "outputs = tf.contrib.layers.fully_connected(\n",
        "    inputs=X_for_fc, num_outputs=num_classes, activation_fn=None)\n",
        "\n",
        "# reshape out for sequence_loss\n",
        "outputs = tf.reshape(outputs, [batch_size, sequence_length, num_classes])"
      ],
      "execution_count": 0,
      "outputs": []
    },
    {
      "cell_type": "code",
      "metadata": {
        "id": "w9Ezbq8a17s8",
        "colab_type": "code",
        "colab": {}
      },
      "source": [
        "\n",
        "weights = tf.ones([batch_size, sequence_length])\n",
        "sequence_loss = tf.contrib.seq2seq.sequence_loss(\n",
        "    logits=outputs, targets=Y, weights=weights)\n",
        "loss = tf.reduce_mean(sequence_loss)\n",
        "train = tf.train.AdamOptimizer(learning_rate=learning_rate).minimize(loss)\n",
        "\n",
        "prediction = tf.argmax(outputs, axis=2)"
      ],
      "execution_count": 0,
      "outputs": []
    },
    {
      "cell_type": "code",
      "metadata": {
        "id": "7cj-yI8Z17i_",
        "colab_type": "code",
        "colab": {
          "base_uri": "https://localhost:8080/",
          "height": 1000
        },
        "outputId": "8075d5fd-9e83-49e0-c14b-98a35eabe4fa"
      },
      "source": [
        "with tf.Session() as sess:\n",
        "    sess.run(tf.global_variables_initializer())\n",
        "    for i in range(50):\n",
        "        l, _ = sess.run([loss, train], feed_dict={X: x_one_hot, Y: y_data})\n",
        "        result = sess.run(prediction, feed_dict={X: x_one_hot})\n",
        "        print(i, \"loss:\", l, \"prediction: \", result, \"true Y: \", y_data)\n",
        "\n",
        "        # print char using dic\n",
        "        result_str = [idx2char[c] for c in np.squeeze(result)]\n",
        "        print(\"\\tPrediction str: \", ''.join(result_str))\n"
      ],
      "execution_count": 10,
      "outputs": [
        {
          "output_type": "stream",
          "text": [
            "0 loss: 1.6078763 prediction:  [[3 3 3 3 3 3]] true Y:  [[1, 0, 2, 3, 3, 4]]\n",
            "\tPrediction str:  llllll\n",
            "1 loss: 1.5102621 prediction:  [[3 3 3 3 3 3]] true Y:  [[1, 0, 2, 3, 3, 4]]\n",
            "\tPrediction str:  llllll\n",
            "2 loss: 1.4327029 prediction:  [[3 3 3 3 3 3]] true Y:  [[1, 0, 2, 3, 3, 4]]\n",
            "\tPrediction str:  llllll\n",
            "3 loss: 1.3489524 prediction:  [[3 3 3 3 3 3]] true Y:  [[1, 0, 2, 3, 3, 4]]\n",
            "\tPrediction str:  llllll\n",
            "4 loss: 1.2551297 prediction:  [[1 3 3 3 3 3]] true Y:  [[1, 0, 2, 3, 3, 4]]\n",
            "\tPrediction str:  illlll\n",
            "5 loss: 1.1404369 prediction:  [[1 3 3 3 3 3]] true Y:  [[1, 0, 2, 3, 3, 4]]\n",
            "\tPrediction str:  illlll\n",
            "6 loss: 1.0167552 prediction:  [[1 3 2 3 3 4]] true Y:  [[1, 0, 2, 3, 3, 4]]\n",
            "\tPrediction str:  ilello\n",
            "7 loss: 0.8969266 prediction:  [[1 3 2 3 3 4]] true Y:  [[1, 0, 2, 3, 3, 4]]\n",
            "\tPrediction str:  ilello\n",
            "8 loss: 0.7695255 prediction:  [[1 0 2 3 3 4]] true Y:  [[1, 0, 2, 3, 3, 4]]\n",
            "\tPrediction str:  ihello\n",
            "9 loss: 0.6550069 prediction:  [[1 0 2 3 3 4]] true Y:  [[1, 0, 2, 3, 3, 4]]\n",
            "\tPrediction str:  ihello\n",
            "10 loss: 0.54275775 prediction:  [[1 0 2 3 3 4]] true Y:  [[1, 0, 2, 3, 3, 4]]\n",
            "\tPrediction str:  ihello\n",
            "11 loss: 0.42847133 prediction:  [[1 0 2 3 3 4]] true Y:  [[1, 0, 2, 3, 3, 4]]\n",
            "\tPrediction str:  ihello\n",
            "12 loss: 0.3345147 prediction:  [[1 0 2 3 3 4]] true Y:  [[1, 0, 2, 3, 3, 4]]\n",
            "\tPrediction str:  ihello\n",
            "13 loss: 0.24750163 prediction:  [[1 0 2 3 3 4]] true Y:  [[1, 0, 2, 3, 3, 4]]\n",
            "\tPrediction str:  ihello\n",
            "14 loss: 0.18177082 prediction:  [[1 0 2 3 3 4]] true Y:  [[1, 0, 2, 3, 3, 4]]\n",
            "\tPrediction str:  ihello\n",
            "15 loss: 0.13267992 prediction:  [[1 0 2 3 3 4]] true Y:  [[1, 0, 2, 3, 3, 4]]\n",
            "\tPrediction str:  ihello\n",
            "16 loss: 0.094334126 prediction:  [[1 0 2 3 3 4]] true Y:  [[1, 0, 2, 3, 3, 4]]\n",
            "\tPrediction str:  ihello\n",
            "17 loss: 0.066492125 prediction:  [[1 0 2 3 3 4]] true Y:  [[1, 0, 2, 3, 3, 4]]\n",
            "\tPrediction str:  ihello\n",
            "18 loss: 0.047719415 prediction:  [[1 0 2 3 3 4]] true Y:  [[1, 0, 2, 3, 3, 4]]\n",
            "\tPrediction str:  ihello\n",
            "19 loss: 0.035096213 prediction:  [[1 0 2 3 3 4]] true Y:  [[1, 0, 2, 3, 3, 4]]\n",
            "\tPrediction str:  ihello\n",
            "20 loss: 0.026444651 prediction:  [[1 0 2 3 3 4]] true Y:  [[1, 0, 2, 3, 3, 4]]\n",
            "\tPrediction str:  ihello\n",
            "21 loss: 0.020456955 prediction:  [[1 0 2 3 3 4]] true Y:  [[1, 0, 2, 3, 3, 4]]\n",
            "\tPrediction str:  ihello\n",
            "22 loss: 0.016229099 prediction:  [[1 0 2 3 3 4]] true Y:  [[1, 0, 2, 3, 3, 4]]\n",
            "\tPrediction str:  ihello\n",
            "23 loss: 0.01314158 prediction:  [[1 0 2 3 3 4]] true Y:  [[1, 0, 2, 3, 3, 4]]\n",
            "\tPrediction str:  ihello\n",
            "24 loss: 0.010803193 prediction:  [[1 0 2 3 3 4]] true Y:  [[1, 0, 2, 3, 3, 4]]\n",
            "\tPrediction str:  ihello\n",
            "25 loss: 0.008980002 prediction:  [[1 0 2 3 3 4]] true Y:  [[1, 0, 2, 3, 3, 4]]\n",
            "\tPrediction str:  ihello\n",
            "26 loss: 0.0075339056 prediction:  [[1 0 2 3 3 4]] true Y:  [[1, 0, 2, 3, 3, 4]]\n",
            "\tPrediction str:  ihello\n",
            "27 loss: 0.0063786027 prediction:  [[1 0 2 3 3 4]] true Y:  [[1, 0, 2, 3, 3, 4]]\n",
            "\tPrediction str:  ihello\n",
            "28 loss: 0.0054539884 prediction:  [[1 0 2 3 3 4]] true Y:  [[1, 0, 2, 3, 3, 4]]\n",
            "\tPrediction str:  ihello\n",
            "29 loss: 0.0047134547 prediction:  [[1 0 2 3 3 4]] true Y:  [[1, 0, 2, 3, 3, 4]]\n",
            "\tPrediction str:  ihello\n",
            "30 loss: 0.004119486 prediction:  [[1 0 2 3 3 4]] true Y:  [[1, 0, 2, 3, 3, 4]]\n",
            "\tPrediction str:  ihello\n",
            "31 loss: 0.003641067 prediction:  [[1 0 2 3 3 4]] true Y:  [[1, 0, 2, 3, 3, 4]]\n",
            "\tPrediction str:  ihello\n",
            "32 loss: 0.0032533186 prediction:  [[1 0 2 3 3 4]] true Y:  [[1, 0, 2, 3, 3, 4]]\n",
            "\tPrediction str:  ihello\n",
            "33 loss: 0.0029363036 prediction:  [[1 0 2 3 3 4]] true Y:  [[1, 0, 2, 3, 3, 4]]\n",
            "\tPrediction str:  ihello\n",
            "34 loss: 0.0026745955 prediction:  [[1 0 2 3 3 4]] true Y:  [[1, 0, 2, 3, 3, 4]]\n",
            "\tPrediction str:  ihello\n",
            "35 loss: 0.002456005 prediction:  [[1 0 2 3 3 4]] true Y:  [[1, 0, 2, 3, 3, 4]]\n",
            "\tPrediction str:  ihello\n",
            "36 loss: 0.0022713586 prediction:  [[1 0 2 3 3 4]] true Y:  [[1, 0, 2, 3, 3, 4]]\n",
            "\tPrediction str:  ihello\n",
            "37 loss: 0.002113483 prediction:  [[1 0 2 3 3 4]] true Y:  [[1, 0, 2, 3, 3, 4]]\n",
            "\tPrediction str:  ihello\n",
            "38 loss: 0.0019770737 prediction:  [[1 0 2 3 3 4]] true Y:  [[1, 0, 2, 3, 3, 4]]\n",
            "\tPrediction str:  ihello\n",
            "39 loss: 0.0018580653 prediction:  [[1 0 2 3 3 4]] true Y:  [[1, 0, 2, 3, 3, 4]]\n",
            "\tPrediction str:  ihello\n",
            "40 loss: 0.0017534181 prediction:  [[1 0 2 3 3 4]] true Y:  [[1, 0, 2, 3, 3, 4]]\n",
            "\tPrediction str:  ihello\n",
            "41 loss: 0.0016607023 prediction:  [[1 0 2 3 3 4]] true Y:  [[1, 0, 2, 3, 3, 4]]\n",
            "\tPrediction str:  ihello\n",
            "42 loss: 0.0015781395 prediction:  [[1 0 2 3 3 4]] true Y:  [[1, 0, 2, 3, 3, 4]]\n",
            "\tPrediction str:  ihello\n",
            "43 loss: 0.0015044062 prediction:  [[1 0 2 3 3 4]] true Y:  [[1, 0, 2, 3, 3, 4]]\n",
            "\tPrediction str:  ihello\n",
            "44 loss: 0.001438276 prediction:  [[1 0 2 3 3 4]] true Y:  [[1, 0, 2, 3, 3, 4]]\n",
            "\tPrediction str:  ihello\n",
            "45 loss: 0.0013789787 prediction:  [[1 0 2 3 3 4]] true Y:  [[1, 0, 2, 3, 3, 4]]\n",
            "\tPrediction str:  ihello\n",
            "46 loss: 0.0013257032 prediction:  [[1 0 2 3 3 4]] true Y:  [[1, 0, 2, 3, 3, 4]]\n",
            "\tPrediction str:  ihello\n",
            "47 loss: 0.0012777768 prediction:  [[1 0 2 3 3 4]] true Y:  [[1, 0, 2, 3, 3, 4]]\n",
            "\tPrediction str:  ihello\n",
            "48 loss: 0.0012345855 prediction:  [[1 0 2 3 3 4]] true Y:  [[1, 0, 2, 3, 3, 4]]\n",
            "\tPrediction str:  ihello\n",
            "49 loss: 0.0011956157 prediction:  [[1 0 2 3 3 4]] true Y:  [[1, 0, 2, 3, 3, 4]]\n",
            "\tPrediction str:  ihello\n"
          ],
          "name": "stdout"
        }
      ]
    }
  ]
}