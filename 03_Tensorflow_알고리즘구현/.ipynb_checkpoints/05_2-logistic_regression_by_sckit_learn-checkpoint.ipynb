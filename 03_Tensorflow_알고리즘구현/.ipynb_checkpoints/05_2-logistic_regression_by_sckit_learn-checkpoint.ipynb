{
 "cells": [
  {
   "cell_type": "code",
   "execution_count": 3,
   "metadata": {
    "colab": {},
    "colab_type": "code",
    "id": "6ppMnL9onI8S"
   },
   "outputs": [],
   "source": [
    "import numpy as np\n",
    "from sklearn import linear_model\n",
    "import matplotlib.pyplot as plt"
   ]
  },
  {
   "cell_type": "code",
   "execution_count": 4,
   "metadata": {
    "colab": {
     "base_uri": "https://localhost:8080/",
     "height": 54
    },
    "colab_type": "code",
    "id": "GaRNeRaunpaS",
    "outputId": "de5a9aed-74ba-4e22-da76-11f799d65f64"
   },
   "outputs": [
    {
     "name": "stdout",
     "output_type": "stream",
     "text": [
      "(6, 2)\n",
      "(6, 1)\n"
     ]
    }
   ],
   "source": [
    "x_data = [[1, 2],\n",
    "          [2, 3],\n",
    "          [3, 1],\n",
    "          [4, 3],\n",
    "          [5, 3],\n",
    "          [6, 2]]\n",
    "y_data = [[0],\n",
    "          [0],\n",
    "          [0],\n",
    "          [1],\n",
    "          [1],\n",
    "          [1]]\n",
    "print(np.array(x_data).shape) #(6,2)\n",
    "print(np.array(y_data).shape) #(6,1)\n",
    "\n",
    "# X*W = Y\n",
    "#(6,2)*W(?,?)=(6,1)\n",
    "# W는 X출력와 Y의 출력을 가져야함(합성곱에 의해) => (2, 1)\n",
    "# W.shape(2, 1)"
   ]
  },
  {
   "cell_type": "code",
   "execution_count": 3,
   "metadata": {
    "colab": {
     "base_uri": "https://localhost:8080/",
     "height": 110
    },
    "colab_type": "code",
    "id": "YCOqu8QaraKa",
    "outputId": "c7832e38-93e0-4946-901b-bb3db82e8ab3"
   },
   "outputs": [
    {
     "name": "stderr",
     "output_type": "stream",
     "text": [
      "/usr/local/lib/python3.6/dist-packages/sklearn/linear_model/logistic.py:432: FutureWarning: Default solver will be changed to 'lbfgs' in 0.22. Specify a solver to silence this warning.\n",
      "  FutureWarning)\n",
      "/usr/local/lib/python3.6/dist-packages/sklearn/utils/validation.py:724: DataConversionWarning: A column-vector y was passed when a 1d array was expected. Please change the shape of y to (n_samples, ), for example using ravel().\n",
      "  y = column_or_1d(y, warn=True)\n"
     ]
    }
   ],
   "source": [
    "logreg = linear_model.LogisticRegression()\n",
    "result = logreg.fit(x_data, y_data)"
   ]
  },
  {
   "cell_type": "code",
   "execution_count": 7,
   "metadata": {
    "colab": {
     "base_uri": "https://localhost:8080/",
     "height": 163
    },
    "colab_type": "code",
    "id": "BJX7U3x3r4tG",
    "outputId": "7061a848-cd5e-4374-ce45-044eeb0e2084"
   },
   "outputs": [
    {
     "name": "stdout",
     "output_type": "stream",
     "text": [
      "학습data Class: [0 0 1 1 1 1] , Prob: [[0.66851947 0.33148053]\n",
      " [0.62072459 0.37927541]\n",
      " [0.34632726 0.65367274]\n",
      " [0.36870674 0.63129326]\n",
      " [0.25865599 0.74134401]\n",
      " [0.13302328 0.86697672]]\n",
      "test1 Class: [0] , Prob: [[0.57046615 0.42953385]]\n",
      "test2 Class: [1] , Prob: [[0.13302328 0.86697672]]\n"
     ]
    }
   ],
   "source": [
    "#학습 data로 확인\n",
    "Class = logreg.predict(x_data)\n",
    "Prob = logreg.predict_proba(x_data)\n",
    "print(\"학습data Class:\",Class, \", Prob:\", Prob);\n",
    "\n",
    "x_test1 = [[3,4]] \n",
    "#검산\n",
    "# tensorflow코드(05_1-logistic_regression.ipynb)에서 W,b를 추정해보면 (w1=1.5, w2=0.3, b=-5.8)\n",
    "# [6,2]=1, [3,4]=0 \n",
    "Class = logreg.predict(x_test1)\n",
    "Prob = logreg.predict_proba(x_test1)\n",
    "print(\"test1 Class:\",Class, \", Prob:\", Prob);\n",
    "\n",
    "x_test2 = [[6,2]] \n",
    "#검산\n",
    "# tensorflow코드(05_1-logistic_regression.ipynb)에서 W,b를 추정해보면 (w1=1.5, w2=0.3, b=-5.8)\n",
    "# [6,2]=1, [3,4]=0 \n",
    "Class = logreg.predict(x_test2)\n",
    "Prob = logreg.predict_proba(x_test2)\n",
    "print(\"test2 Class:\",Class, \", Prob:\", Prob);\n"
   ]
  },
  {
   "cell_type": "code",
   "execution_count": 0,
   "metadata": {
    "colab": {},
    "colab_type": "code",
    "id": "cvb40_-s4roE"
   },
   "outputs": [],
   "source": []
  }
 ],
 "metadata": {
  "accelerator": "GPU",
  "colab": {
   "name": "logistic_regression_by_sckit-learn_20190610.ipynb",
   "provenance": [],
   "version": "0.3.2"
  },
  "kernelspec": {
   "display_name": "Python 3",
   "language": "python",
   "name": "python3"
  },
  "language_info": {
   "codemirror_mode": {
    "name": "ipython",
    "version": 3
   },
   "file_extension": ".py",
   "mimetype": "text/x-python",
   "name": "python",
   "nbconvert_exporter": "python",
   "pygments_lexer": "ipython3",
   "version": "3.7.1"
  }
 },
 "nbformat": 4,
 "nbformat_minor": 1
}
