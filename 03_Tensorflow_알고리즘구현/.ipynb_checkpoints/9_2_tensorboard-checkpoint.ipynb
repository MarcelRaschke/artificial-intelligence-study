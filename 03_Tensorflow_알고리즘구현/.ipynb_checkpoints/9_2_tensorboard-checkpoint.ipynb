{
 "cells": [
  {
   "cell_type": "code",
   "execution_count": 2,
   "metadata": {
    "colab": {},
    "colab_type": "code",
    "id": "N7mZW8SWEY87"
   },
   "outputs": [
    {
     "ename": "ModuleNotFoundError",
     "evalue": "No module named 'tensorflow'",
     "output_type": "error",
     "traceback": [
      "\u001b[1;31m---------------------------------------------------------------------------\u001b[0m",
      "\u001b[1;31mModuleNotFoundError\u001b[0m                       Traceback (most recent call last)",
      "\u001b[1;32m<ipython-input-2-5b0296897b8a>\u001b[0m in \u001b[0;36m<module>\u001b[1;34m\u001b[0m\n\u001b[0;32m      1\u001b[0m \u001b[1;31m# Lab 9 XOR\u001b[0m\u001b[1;33m\u001b[0m\u001b[1;33m\u001b[0m\u001b[1;33m\u001b[0m\u001b[0m\n\u001b[1;32m----> 2\u001b[1;33m \u001b[1;32mimport\u001b[0m \u001b[0mtensorflow\u001b[0m \u001b[1;32mas\u001b[0m \u001b[0mtf\u001b[0m\u001b[1;33m\u001b[0m\u001b[1;33m\u001b[0m\u001b[0m\n\u001b[0m\u001b[0;32m      3\u001b[0m \u001b[1;32mimport\u001b[0m \u001b[0mnumpy\u001b[0m \u001b[1;32mas\u001b[0m \u001b[0mnp\u001b[0m\u001b[1;33m\u001b[0m\u001b[1;33m\u001b[0m\u001b[0m\n\u001b[0;32m      4\u001b[0m \u001b[1;33m\u001b[0m\u001b[0m\n\u001b[0;32m      5\u001b[0m \u001b[0mtf\u001b[0m\u001b[1;33m.\u001b[0m\u001b[0mset_random_seed\u001b[0m\u001b[1;33m(\u001b[0m\u001b[1;36m777\u001b[0m\u001b[1;33m)\u001b[0m\u001b[1;33m\u001b[0m\u001b[1;33m\u001b[0m\u001b[0m\n",
      "\u001b[1;31mModuleNotFoundError\u001b[0m: No module named 'tensorflow'"
     ]
    }
   ],
   "source": [
    "# Lab 9 XOR\n",
    "import tensorflow as tf\n",
    "import numpy as np\n",
    "\n",
    "tf.set_random_seed(777)"
   ]
  },
  {
   "cell_type": "code",
   "execution_count": 0,
   "metadata": {
    "colab": {},
    "colab_type": "code",
    "id": "_O4pqwYHEeCt"
   },
   "outputs": [],
   "source": [
    "x_data = np.array([[0, 0], [0, 1], [1, 0], [1, 1]], dtype=np.float32)\n",
    "y_data = np.array([[0], [1], [1], [0]], dtype=np.float32)\n",
    "\n",
    "X = tf.placeholder(tf.float32, [None, 2], name=\"x\")\n",
    "Y = tf.placeholder(tf.float32, [None, 1], name=\"y\")"
   ]
  },
  {
   "cell_type": "code",
   "execution_count": 0,
   "metadata": {
    "colab": {},
    "colab_type": "code",
    "id": "9c0LbNr4EeF9"
   },
   "outputs": [],
   "source": [
    "with tf.name_scope(\"Layer1\"):\n",
    "    W1 = tf.Variable(tf.random_normal([2, 2]), name=\"weight_1\")\n",
    "    b1 = tf.Variable(tf.random_normal([2]), name=\"bias_1\")\n",
    "    layer1 = tf.sigmoid(tf.matmul(X, W1) + b1)\n",
    "\n",
    "    tf.summary.histogram(\"W1\", W1)\n",
    "    tf.summary.histogram(\"b1\", b1)\n",
    "    tf.summary.histogram(\"Layer1\", layer1)"
   ]
  },
  {
   "cell_type": "code",
   "execution_count": 0,
   "metadata": {
    "colab": {},
    "colab_type": "code",
    "id": "4XIHVPG_EeIc"
   },
   "outputs": [],
   "source": [
    "\n",
    "with tf.name_scope(\"Layer2\"):\n",
    "    W2 = tf.Variable(tf.random_normal([2, 1]), name=\"weight_2\")\n",
    "    b2 = tf.Variable(tf.random_normal([1]), name=\"bias_2\")\n",
    "    hypothesis = tf.sigmoid(tf.matmul(layer1, W2) + b2)\n",
    "\n",
    "    tf.summary.histogram(\"W2\", W2)\n",
    "    tf.summary.histogram(\"b2\", b2)\n",
    "    tf.summary.histogram(\"Hypothesis\", hypothesis)"
   ]
  },
  {
   "cell_type": "code",
   "execution_count": 0,
   "metadata": {
    "colab": {},
    "colab_type": "code",
    "id": "O267Bvh2EeKy"
   },
   "outputs": [],
   "source": [
    "# cost/loss function\n",
    "with tf.name_scope(\"Cost\"):\n",
    "    cost = -tf.reduce_mean(Y * tf.log(hypothesis) + (1 - Y) * tf.log(1 - hypothesis))\n",
    "    tf.summary.scalar(\"Cost\", cost)\n",
    "\n",
    "with tf.name_scope(\"Train\"):\n",
    "    train = tf.train.AdamOptimizer(learning_rate=0.01).minimize(cost)"
   ]
  },
  {
   "cell_type": "code",
   "execution_count": 6,
   "metadata": {
    "colab": {
     "base_uri": "https://localhost:8080/",
     "height": 35
    },
    "colab_type": "code",
    "id": "i-w10nIbEeM_",
    "outputId": "f8b31ae9-a8b3-40e4-94f3-7bf71ba2fdd0"
   },
   "outputs": [
    {
     "data": {
      "text/plain": [
       "<tf.Tensor 'accuracy:0' shape=() dtype=string>"
      ]
     },
     "execution_count": 6,
     "metadata": {
      "tags": []
     },
     "output_type": "execute_result"
    }
   ],
   "source": [
    "\n",
    "# Accuracy computation\n",
    "# True if hypothesis>0.5 else False\n",
    "predicted = tf.cast(hypothesis > 0.5, dtype=tf.float32)\n",
    "accuracy = tf.reduce_mean(tf.cast(tf.equal(predicted, Y), dtype=tf.float32))\n",
    "tf.summary.scalar(\"accuracy\", accuracy)"
   ]
  },
  {
   "cell_type": "code",
   "execution_count": 7,
   "metadata": {
    "colab": {
     "base_uri": "https://localhost:8080/",
     "height": 1000
    },
    "colab_type": "code",
    "id": "QpMh27I7Es4n",
    "outputId": "afed7256-719f-4e4b-c7ee-76ca896d22be"
   },
   "outputs": [
    {
     "name": "stdout",
     "output_type": "stream",
     "text": [
      "0 0.7168676\n",
      "100 0.6908567\n",
      "200 0.49870044\n",
      "300 0.22536184\n",
      "400 0.1229167\n",
      "500 0.079145804\n",
      "600 0.05615393\n",
      "700 0.042352103\n",
      "800 0.033301692\n",
      "900 0.026986767\n",
      "1000 0.02237371\n",
      "1100 0.018883027\n",
      "1200 0.016166903\n",
      "1300 0.014005047\n",
      "1400 0.012251835\n",
      "1500 0.010807453\n",
      "1600 0.009601359\n",
      "1700 0.008582549\n",
      "1800 0.0077132173\n",
      "1900 0.0069648223\n",
      "2000 0.0063154213\n",
      "2100 0.0057480345\n",
      "2200 0.005249219\n",
      "2300 0.004808046\n",
      "2400 0.004416056\n",
      "2500 0.0040659807\n",
      "2600 0.0037521352\n",
      "2700 0.0034696562\n",
      "2800 0.0032144948\n",
      "2900 0.002983223\n",
      "3000 0.0027729846\n",
      "3100 0.0025813906\n",
      "3200 0.0024062349\n",
      "3300 0.0022458206\n",
      "3400 0.0020985433\n",
      "3500 0.0019630382\n",
      "3600 0.0018381808\n",
      "3700 0.0017228476\n",
      "3800 0.0016161846\n",
      "3900 0.0015173233\n",
      "4000 0.0014256197\n",
      "4100 0.0013404153\n",
      "4200 0.0012611416\n",
      "4300 0.0011873196\n",
      "4400 0.0011185006\n",
      "4500 0.0010541765\n",
      "4600 0.0009941373\n",
      "4700 0.00093794987\n",
      "4800 0.0008853452\n",
      "4900 0.00083606906\n",
      "5000 0.00078985246\n",
      "5100 0.00074644154\n",
      "5200 0.00070571667\n",
      "5300 0.0006673942\n",
      "5400 0.000631429\n",
      "5500 0.00059755263\n",
      "5600 0.00056564546\n",
      "5700 0.0005355731\n",
      "5800 0.0005072311\n",
      "5900 0.00048051495\n",
      "6000 0.00045532006\n",
      "6100 0.00043158684\n",
      "6200 0.00040909144\n",
      "6300 0.00038790837\n",
      "6400 0.00036781398\n",
      "6500 0.00034889753\n",
      "6600 0.00033099513\n",
      "6700 0.00031404698\n",
      "6800 0.00029800838\n",
      "6900 0.00028283458\n",
      "7000 0.00026849567\n",
      "7100 0.0002548426\n",
      "7200 0.00024202438\n",
      "7300 0.0002297578\n",
      "7400 0.000218177\n",
      "7500 0.0002072372\n",
      "7600 0.00019681916\n",
      "7700 0.00018698249\n",
      "7800 0.00017763776\n",
      "7900 0.00016878491\n",
      "8000 0.00016037928\n",
      "8100 0.00015239097\n",
      "8200 0.00014480515\n",
      "8300 0.00013762177\n",
      "8400 0.0001307961\n",
      "8500 0.00012432819\n",
      "8600 0.00011815835\n",
      "8700 0.00011236112\n",
      "8800 0.00010675767\n",
      "8900 0.000101526806\n",
      "9000 9.6549324e-05\n",
      "9100 9.17656e-05\n",
      "9200 8.727994e-05\n",
      "9300 8.2973136e-05\n",
      "9400 7.888988e-05\n",
      "9500 7.5045085e-05\n",
      "9600 7.134933e-05\n",
      "9700 6.784731e-05\n",
      "9800 6.452413e-05\n",
      "9900 6.137978e-05\n",
      "10000 5.841427e-05\n",
      "\n",
      "Hypothesis:\n",
      "[[6.1333179e-05]\n",
      " [9.9993688e-01]\n",
      " [9.9995077e-01]\n",
      " [5.9783459e-05]] \n",
      "Predicted:\n",
      "[[0.]\n",
      " [1.]\n",
      " [1.]\n",
      " [0.]] \n",
      "Accuracy:\n",
      "1.0\n"
     ]
    }
   ],
   "source": [
    "\n",
    "# Launch graph\n",
    "with tf.Session() as sess:\n",
    "    # tensorboard --logdir=./logs/xor_logs\n",
    "    merged_summary = tf.summary.merge_all()\n",
    "    writer = tf.summary.FileWriter(\"./logs/xor_logs_r0_01\")\n",
    "    writer.add_graph(sess.graph)  # Show the graph\n",
    "\n",
    "    # Initialize TensorFlow variables\n",
    "    sess.run(tf.global_variables_initializer())\n",
    "\n",
    "    for step in range(10001):\n",
    "        _, summary, cost_val = sess.run(\n",
    "            [train, merged_summary, cost], feed_dict={X: x_data, Y: y_data}\n",
    "        )\n",
    "        writer.add_summary(summary, global_step=step)\n",
    "\n",
    "        if step % 100 == 0:\n",
    "            print(step, cost_val)\n",
    "\n",
    "    # Accuracy report\n",
    "    h, p, a = sess.run(\n",
    "        [hypothesis, predicted, accuracy], feed_dict={X: x_data, Y: y_data}\n",
    "    )\n",
    "    \n",
    "    print(f\"\\nHypothesis:\\n{h} \\nPredicted:\\n{p} \\nAccuracy:\\n{a}\")\n"
   ]
  },
  {
   "cell_type": "code",
   "execution_count": 0,
   "metadata": {
    "colab": {},
    "colab_type": "code",
    "id": "7ZVWdUisEs7W"
   },
   "outputs": [],
   "source": []
  },
  {
   "cell_type": "code",
   "execution_count": 0,
   "metadata": {
    "colab": {},
    "colab_type": "code",
    "id": "AZJuGQToEs9i"
   },
   "outputs": [],
   "source": []
  }
 ],
 "metadata": {
  "accelerator": "GPU",
  "colab": {
   "name": "9_2_tensorboard.ipynb",
   "provenance": [],
   "version": "0.3.2"
  },
  "kernelspec": {
   "display_name": "Python 3",
   "language": "python",
   "name": "python3"
  },
  "language_info": {
   "codemirror_mode": {
    "name": "ipython",
    "version": 3
   },
   "file_extension": ".py",
   "mimetype": "text/x-python",
   "name": "python",
   "nbconvert_exporter": "python",
   "pygments_lexer": "ipython3",
   "version": "3.7.1"
  }
 },
 "nbformat": 4,
 "nbformat_minor": 1
}
