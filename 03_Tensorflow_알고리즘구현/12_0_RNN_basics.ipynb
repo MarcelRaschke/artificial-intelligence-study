{
  "nbformat": 4,
  "nbformat_minor": 0,
  "metadata": {
    "kernelspec": {
      "display_name": "Python 3",
      "language": "python",
      "name": "python3"
    },
    "language_info": {
      "codemirror_mode": {
        "name": "ipython",
        "version": 3
      },
      "file_extension": ".py",
      "mimetype": "text/x-python",
      "name": "python",
      "nbconvert_exporter": "python",
      "pygments_lexer": "ipython3",
      "version": "3.7.1"
    },
    "colab": {
      "name": "12_0_RNN_basics.ipynb",
      "provenance": []
    }
  },
  "cells": [
    {
      "cell_type": "code",
      "metadata": {
        "id": "qw9ESmYU6K__",
        "colab_type": "code",
        "colab": {}
      },
      "source": [
        "# http://www.wildml.com/2016/08/rnns-in-tensorflow-a-practical-guide-and-undocumented-features/\n",
        "# http://learningtensorflow.com/index.html\n",
        "# http://suriyadeepan.github.io/2016-12-31-practical-seq2seq/\n",
        "\n",
        "import tensorflow as tf\n",
        "import numpy as np\n",
        "from tensorflow.contrib import rnn\n",
        "import pprint\n",
        "pp = pprint.PrettyPrinter(indent=4)\n",
        "sess = tf.InteractiveSession()"
      ],
      "execution_count": 0,
      "outputs": []
    },
    {
      "cell_type": "code",
      "metadata": {
        "id": "BycQhVeP6LAG",
        "colab_type": "code",
        "colab": {}
      },
      "source": [
        "# One hot encoding for each char in 'hello'\n",
        "h = [1, 0, 0, 0]\n",
        "e = [0, 1, 0, 0]\n",
        "l = [0, 0, 1, 0]\n",
        "o = [0, 0, 0, 1]"
      ],
      "execution_count": 0,
      "outputs": []
    },
    {
      "cell_type": "markdown",
      "metadata": {
        "id": "zrMudqkT6LAK",
        "colab_type": "text"
      },
      "source": [
        "![image](https://cloud.githubusercontent.com/assets/901975/23348727/cc981856-fce7-11e6-83ea-4b187473466b.png)\n"
      ]
    },
    {
      "cell_type": "code",
      "metadata": {
        "id": "hFvfd1WU6LAL",
        "colab_type": "code",
        "outputId": "1b48ca73-383f-48a2-967d-af1c7a826ce0",
        "colab": {
          "base_uri": "https://localhost:8080/",
          "height": 201
        }
      },
      "source": [
        "with tf.variable_scope('one_cell') as scope:\n",
        "    # One cell RNN input_dim (4) -> output_dim (2)\n",
        "    hidden_size = 2\n",
        "    cell = tf.keras.layers.SimpleRNNCell(units=hidden_size)\n",
        "    print(cell.output_size, cell.state_size)\n",
        "\n",
        "    x_data = np.array([[h]], dtype=np.float32) # x_data = [[[1,0,0,0]]]\n",
        "    pp.pprint(x_data)\n",
        "    outputs, _states = tf.nn.dynamic_rnn(cell, x_data, dtype=tf.float32)\n",
        "\n",
        "    sess.run(tf.global_variables_initializer())\n",
        "    pp.pprint(outputs.eval())"
      ],
      "execution_count": 3,
      "outputs": [
        {
          "output_type": "stream",
          "text": [
            "WARNING:tensorflow:From /usr/local/lib/python3.6/dist-packages/tensorflow/python/ops/init_ops.py:1251: calling VarianceScaling.__init__ (from tensorflow.python.ops.init_ops) with dtype is deprecated and will be removed in a future version.\n",
            "Instructions for updating:\n",
            "Call initializer instance with the dtype argument instead of passing it to the constructor\n",
            "2 2\n",
            "array([[[1., 0., 0., 0.]]], dtype=float32)\n",
            "WARNING:tensorflow:From <ipython-input-3-336986ccd17e>:9: dynamic_rnn (from tensorflow.python.ops.rnn) is deprecated and will be removed in a future version.\n",
            "Instructions for updating:\n",
            "Please use `keras.layers.RNN(cell)`, which is equivalent to this API\n",
            "array([[[-0.65843123,  0.32726806]]], dtype=float32)\n"
          ],
          "name": "stdout"
        }
      ]
    },
    {
      "cell_type": "markdown",
      "metadata": {
        "id": "Ly2b5CEU6LAS",
        "colab_type": "text"
      },
      "source": [
        "![image](https://cloud.githubusercontent.com/assets/901975/23383634/649efd0a-fd82-11e6-925d-8041242743b0.png)"
      ]
    },
    {
      "cell_type": "code",
      "metadata": {
        "id": "O82AJ0tz6LAT",
        "colab_type": "code",
        "outputId": "da9b610e-7187-4ef0-8c7b-f140738fb2ad",
        "colab": {
          "base_uri": "https://localhost:8080/",
          "height": 217
        }
      },
      "source": [
        "with tf.variable_scope('two_sequances') as scope:\n",
        "    # One cell RNN input_dim (4) -> output_dim (2). sequence: 5\n",
        "    hidden_size = 2\n",
        "    cell = tf.keras.layers.SimpleRNNCell(units=hidden_size)\n",
        "    x_data = np.array([[h, e, l, l, o]], dtype=np.float32)\n",
        "    print(x_data.shape)\n",
        "    pp.pprint(x_data)\n",
        "    outputs, _states = tf.nn.dynamic_rnn(cell, x_data, dtype=tf.float32)\n",
        "    sess.run(tf.global_variables_initializer())\n",
        "    pp.pprint(outputs.eval())"
      ],
      "execution_count": 4,
      "outputs": [
        {
          "output_type": "stream",
          "text": [
            "(1, 5, 4)\n",
            "array([[[1., 0., 0., 0.],\n",
            "        [0., 1., 0., 0.],\n",
            "        [0., 0., 1., 0.],\n",
            "        [0., 0., 1., 0.],\n",
            "        [0., 0., 0., 1.]]], dtype=float32)\n",
            "array([[[ 0.53941244, -0.05471505],\n",
            "        [-0.6476672 , -0.21054497],\n",
            "        [ 0.4906486 ,  0.7511142 ],\n",
            "        [-0.31859222, -0.23215339],\n",
            "        [-0.34176582, -0.30596453]]], dtype=float32)\n"
          ],
          "name": "stdout"
        }
      ]
    },
    {
      "cell_type": "markdown",
      "metadata": {
        "id": "Lt8ylLNy6LAX",
        "colab_type": "text"
      },
      "source": [
        "![image](https://cloud.githubusercontent.com/assets/901975/23383681/9943a9fc-fd82-11e6-8121-bd187994e249.png)"
      ]
    },
    {
      "cell_type": "code",
      "metadata": {
        "id": "KtZtmQ-U6LAY",
        "colab_type": "code",
        "outputId": "dcedd0ee-3720-411c-cd65-3a967dcf2277",
        "colab": {
          "base_uri": "https://localhost:8080/",
          "height": 765
        }
      },
      "source": [
        "with tf.variable_scope('3_batches') as scope:\n",
        "    # One cell RNN input_dim (4) -> output_dim (2). sequence: 5, batch 3\n",
        "    # 3 batches 'hello', 'eolll', 'lleel'\n",
        "    x_data = np.array([[h, e, l, l, o],\n",
        "                       [e, o, l, l, l],\n",
        "                       [l, l, e, e, l]], dtype=np.float32)\n",
        "    pp.pprint(x_data)\n",
        "    \n",
        "    hidden_size = 2\n",
        "    cell = tf.nn.rnn_cell.LSTMCell(num_units=hidden_size, state_is_tuple=True)\n",
        "    outputs, _states = tf.nn.dynamic_rnn(\n",
        "        cell, x_data, dtype=tf.float32)\n",
        "    sess.run(tf.global_variables_initializer())\n",
        "    pp.pprint(outputs.eval())"
      ],
      "execution_count": 5,
      "outputs": [
        {
          "output_type": "stream",
          "text": [
            "array([[[1., 0., 0., 0.],\n",
            "        [0., 1., 0., 0.],\n",
            "        [0., 0., 1., 0.],\n",
            "        [0., 0., 1., 0.],\n",
            "        [0., 0., 0., 1.]],\n",
            "\n",
            "       [[0., 1., 0., 0.],\n",
            "        [0., 0., 0., 1.],\n",
            "        [0., 0., 1., 0.],\n",
            "        [0., 0., 1., 0.],\n",
            "        [0., 0., 1., 0.]],\n",
            "\n",
            "       [[0., 0., 1., 0.],\n",
            "        [0., 0., 1., 0.],\n",
            "        [0., 1., 0., 0.],\n",
            "        [0., 1., 0., 0.],\n",
            "        [0., 0., 1., 0.]]], dtype=float32)\n",
            "WARNING:tensorflow:From <ipython-input-5-5193cf803bd9>:10: LSTMCell.__init__ (from tensorflow.python.ops.rnn_cell_impl) is deprecated and will be removed in a future version.\n",
            "Instructions for updating:\n",
            "This class is equivalent as tf.keras.layers.LSTMCell, and will be replaced by that in Tensorflow 2.0.\n",
            "WARNING:tensorflow:From /usr/local/lib/python3.6/dist-packages/tensorflow/python/ops/rnn_cell_impl.py:961: calling Zeros.__init__ (from tensorflow.python.ops.init_ops) with dtype is deprecated and will be removed in a future version.\n",
            "Instructions for updating:\n",
            "Call initializer instance with the dtype argument instead of passing it to the constructor\n",
            "array([[[-0.11145942,  0.07092086],\n",
            "        [ 0.01376987,  0.18924557],\n",
            "        [-0.02466255, -0.01570756],\n",
            "        [-0.04397528, -0.15490042],\n",
            "        [-0.06038702, -0.30716556]],\n",
            "\n",
            "       [[ 0.07609063,  0.1250787 ],\n",
            "        [ 0.02167746, -0.09423095],\n",
            "        [-0.01732764, -0.20342104],\n",
            "        [-0.03628668, -0.30191904],\n",
            "        [-0.04686482, -0.3756438 ]],\n",
            "\n",
            "       [[-0.02861761, -0.14069262],\n",
            "        [-0.04444312, -0.25487363],\n",
            "        [ 0.04952266, -0.16842866],\n",
            "        [ 0.10998271, -0.01549945],\n",
            "        [ 0.02905758, -0.1463761 ]]], dtype=float32)\n"
          ],
          "name": "stdout"
        }
      ]
    },
    {
      "cell_type": "code",
      "metadata": {
        "id": "lqBv3iCO6LAe",
        "colab_type": "code",
        "outputId": "4a405e66-4d5a-49ff-bf7b-f4c28bc9c0bd",
        "colab": {
          "base_uri": "https://localhost:8080/",
          "height": 710
        }
      },
      "source": [
        "with tf.variable_scope('3_batches_dynamic_length') as scope:\n",
        "    # One cell RNN input_dim (4) -> output_dim (5). sequence: 5, batch 3\n",
        "    # 3 batches 'hello', 'eolll', 'lleel'\n",
        "    x_data = np.array([[h, e, l, l, o],\n",
        "                       [e, o, l, l, l],\n",
        "                       [l, l, e, e, l]], dtype=np.float32)\n",
        "    pp.pprint(x_data)\n",
        "    \n",
        "    hidden_size = 2\n",
        "    cell = tf.nn.rnn_cell.LSTMCell(num_units=hidden_size, state_is_tuple=True)\n",
        "    outputs, _states = tf.nn.dynamic_rnn(\n",
        "        cell, x_data, sequence_length=[5,3,4], dtype=tf.float32)\n",
        "    sess.run(tf.global_variables_initializer())\n",
        "    pp.pprint(outputs.eval())"
      ],
      "execution_count": 6,
      "outputs": [
        {
          "output_type": "stream",
          "text": [
            "array([[[1., 0., 0., 0.],\n",
            "        [0., 1., 0., 0.],\n",
            "        [0., 0., 1., 0.],\n",
            "        [0., 0., 1., 0.],\n",
            "        [0., 0., 0., 1.]],\n",
            "\n",
            "       [[0., 1., 0., 0.],\n",
            "        [0., 0., 0., 1.],\n",
            "        [0., 0., 1., 0.],\n",
            "        [0., 0., 1., 0.],\n",
            "        [0., 0., 1., 0.]],\n",
            "\n",
            "       [[0., 0., 1., 0.],\n",
            "        [0., 0., 1., 0.],\n",
            "        [0., 1., 0., 0.],\n",
            "        [0., 1., 0., 0.],\n",
            "        [0., 0., 1., 0.]]], dtype=float32)\n",
            "WARNING:tensorflow:From /usr/local/lib/python3.6/dist-packages/tensorflow/python/ops/rnn.py:244: add_dispatch_support.<locals>.wrapper (from tensorflow.python.ops.array_ops) is deprecated and will be removed in a future version.\n",
            "Instructions for updating:\n",
            "Use tf.where in 2.0, which has the same broadcast rule as np.where\n",
            "array([[[-0.11637528,  0.13894288],\n",
            "        [-0.20471992,  0.07923491],\n",
            "        [-0.01318292,  0.00682295],\n",
            "        [ 0.07467465, -0.08136898],\n",
            "        [ 0.08508225, -0.13696508]],\n",
            "\n",
            "       [[-0.11340948, -0.02317534],\n",
            "        [-0.03985403, -0.0921245 ],\n",
            "        [ 0.05778237, -0.19032201],\n",
            "        [ 0.        ,  0.        ],\n",
            "        [ 0.        ,  0.        ]],\n",
            "\n",
            "       [[ 0.08430346, -0.08852087],\n",
            "        [ 0.14592561, -0.16556457],\n",
            "        [ 0.0933261 , -0.14082196],\n",
            "        [-0.03314309, -0.12528618],\n",
            "        [ 0.        ,  0.        ]]], dtype=float32)\n"
          ],
          "name": "stdout"
        }
      ]
    },
    {
      "cell_type": "code",
      "metadata": {
        "id": "weJj6N-c6LAh",
        "colab_type": "code",
        "outputId": "b5a476ea-11a3-47d7-d5fb-f2eca529935b",
        "colab": {
          "base_uri": "https://localhost:8080/",
          "height": 635
        }
      },
      "source": [
        "with tf.variable_scope('initial_state') as scope:\n",
        "    batch_size = 3\n",
        "    x_data = np.array([[h, e, l, l, o],\n",
        "                      [e, o, l, l, l],\n",
        "                      [l, l, e, e, l]], dtype=np.float32)\n",
        "    pp.pprint(x_data)\n",
        "    \n",
        "    # One cell RNN input_dim (4) -> output_dim (5). sequence: 5, batch: 3\n",
        "    hidden_size=2\n",
        "    cell = tf.nn.rnn_cell.LSTMCell(num_units=hidden_size, state_is_tuple=True)\n",
        "    initial_state = cell.zero_state(batch_size, tf.float32)\n",
        "    outputs, _states = tf.nn.dynamic_rnn(cell, x_data,\n",
        "                                         initial_state=initial_state, dtype=tf.float32)\n",
        "    sess.run(tf.global_variables_initializer())\n",
        "    pp.pprint(outputs.eval())"
      ],
      "execution_count": 7,
      "outputs": [
        {
          "output_type": "stream",
          "text": [
            "array([[[1., 0., 0., 0.],\n",
            "        [0., 1., 0., 0.],\n",
            "        [0., 0., 1., 0.],\n",
            "        [0., 0., 1., 0.],\n",
            "        [0., 0., 0., 1.]],\n",
            "\n",
            "       [[0., 1., 0., 0.],\n",
            "        [0., 0., 0., 1.],\n",
            "        [0., 0., 1., 0.],\n",
            "        [0., 0., 1., 0.],\n",
            "        [0., 0., 1., 0.]],\n",
            "\n",
            "       [[0., 0., 1., 0.],\n",
            "        [0., 0., 1., 0.],\n",
            "        [0., 1., 0., 0.],\n",
            "        [0., 1., 0., 0.],\n",
            "        [0., 0., 1., 0.]]], dtype=float32)\n",
            "array([[[-0.11677026,  0.01737047],\n",
            "        [-0.1107178 ,  0.06037778],\n",
            "        [-0.06642947,  0.22075215],\n",
            "        [-0.03164529,  0.31510708],\n",
            "        [ 0.08299012,  0.19244897]],\n",
            "\n",
            "       [[-0.03365549,  0.07769935],\n",
            "        [ 0.0766806 , -0.00966449],\n",
            "        [ 0.03200316,  0.21300057],\n",
            "        [ 0.01097864,  0.32762852],\n",
            "        [ 0.01699776,  0.3843898 ]],\n",
            "\n",
            "       [[-0.03276348,  0.2036701 ],\n",
            "        [-0.01876371,  0.31066802],\n",
            "        [-0.01594847,  0.22918355],\n",
            "        [-0.02063621,  0.19965887],\n",
            "        [-0.01304272,  0.32257944]]], dtype=float32)\n"
          ],
          "name": "stdout"
        }
      ]
    },
    {
      "cell_type": "code",
      "metadata": {
        "id": "cmG3S7oK6LAm",
        "colab_type": "code",
        "outputId": "0ece264e-9d88-4928-f98e-fb984c07f06d",
        "colab": {
          "base_uri": "https://localhost:8080/",
          "height": 326
        }
      },
      "source": [
        "# Create input data\n",
        "batch_size=3\n",
        "sequence_length=5\n",
        "input_dim=3\n",
        "\n",
        "x_data = np.arange(45, dtype=np.float32).reshape(batch_size, sequence_length, input_dim)\n",
        "pp.pprint(x_data)  # batch, sequence_length, input_dim"
      ],
      "execution_count": 8,
      "outputs": [
        {
          "output_type": "stream",
          "text": [
            "array([[[ 0.,  1.,  2.],\n",
            "        [ 3.,  4.,  5.],\n",
            "        [ 6.,  7.,  8.],\n",
            "        [ 9., 10., 11.],\n",
            "        [12., 13., 14.]],\n",
            "\n",
            "       [[15., 16., 17.],\n",
            "        [18., 19., 20.],\n",
            "        [21., 22., 23.],\n",
            "        [24., 25., 26.],\n",
            "        [27., 28., 29.]],\n",
            "\n",
            "       [[30., 31., 32.],\n",
            "        [33., 34., 35.],\n",
            "        [36., 37., 38.],\n",
            "        [39., 40., 41.],\n",
            "        [42., 43., 44.]]], dtype=float32)\n"
          ],
          "name": "stdout"
        }
      ]
    },
    {
      "cell_type": "code",
      "metadata": {
        "id": "CFxUT_kt6LAs",
        "colab_type": "code",
        "outputId": "a2f19853-1a30-4f7e-d16b-1e153480ef97",
        "colab": {
          "base_uri": "https://localhost:8080/",
          "height": 599
        }
      },
      "source": [
        "with tf.variable_scope('generated_data') as scope:\n",
        "    # One cell RNN input_dim (3) -> output_dim (5). sequence: 5, batch: 3\n",
        "    cell = tf.nn.rnn_cell.LSTMCell(num_units=5, state_is_tuple=True)\n",
        "    initial_state = cell.zero_state(batch_size, tf.float32)\n",
        "    outputs, _states = tf.nn.dynamic_rnn(cell, x_data,\n",
        "                                         initial_state=initial_state, dtype=tf.float32)\n",
        "    sess.run(tf.global_variables_initializer())\n",
        "    pp.pprint(outputs.eval())"
      ],
      "execution_count": 9,
      "outputs": [
        {
          "output_type": "stream",
          "text": [
            "array([[[ 4.83113714e-02, -2.73982108e-01,  2.36387819e-01,\n",
            "         -5.21567799e-02, -1.27101362e-01],\n",
            "        [ 8.28524958e-03, -5.99403083e-01,  6.48140490e-01,\n",
            "         -2.60963738e-02, -2.08914861e-01],\n",
            "        [ 2.82008386e-05, -7.96928406e-01,  8.91707182e-01,\n",
            "         -2.59248936e-03, -2.15574607e-01],\n",
            "        [-1.97606962e-04, -9.00050402e-01,  9.71685529e-01,\n",
            "         -1.73898574e-04, -2.15951800e-01],\n",
            "        [-4.27434679e-05, -9.50984359e-01,  9.92762387e-01,\n",
            "         -1.43729785e-05, -2.15974599e-01]],\n",
            "\n",
            "       [[-2.94343613e-06, -5.30192792e-01,  7.52396941e-01,\n",
            "         -6.96113602e-07, -8.65397681e-07],\n",
            "        [-4.75712994e-07, -8.01240742e-01,  9.61051047e-01,\n",
            "         -8.59932783e-08, -9.36037168e-07],\n",
            "        [-5.73398573e-08, -9.19416308e-01,  9.94460940e-01,\n",
            "         -8.28457214e-09, -9.36037168e-07],\n",
            "        [-6.55215215e-09, -9.68169093e-01,  9.99219954e-01,\n",
            "         -1.55400688e-15, -9.36037168e-07],\n",
            "        [-8.75486628e-10, -9.87595439e-01,  9.99888062e-01,\n",
            "         -3.80242695e-23, -9.36037168e-07]],\n",
            "\n",
            "       [[-0.00000000e+00, -5.64417064e-01,  7.61299074e-01,\n",
            "          0.00000000e+00,  0.00000000e+00],\n",
            "        [-0.00000000e+00, -8.31068754e-01,  9.63937342e-01,\n",
            "          0.00000000e+00,  0.00000000e+00],\n",
            "        [-0.00000000e+00, -9.37600851e-01,  9.95038688e-01,\n",
            "          0.00000000e+00,  0.00000000e+00],\n",
            "        [-0.00000000e+00, -9.77675676e-01,  9.99326766e-01,\n",
            "          0.00000000e+00,  0.00000000e+00],\n",
            "        [-0.00000000e+00, -9.92182732e-01,  9.99908864e-01,\n",
            "          0.00000000e+00,  0.00000000e+00]]], dtype=float32)\n"
          ],
          "name": "stdout"
        }
      ]
    },
    {
      "cell_type": "code",
      "metadata": {
        "id": "ul_-DPnG6LA1",
        "colab_type": "code",
        "outputId": "4c651df7-43de-426b-fc00-bf69e1e20a33",
        "colab": {
          "base_uri": "https://localhost:8080/",
          "height": 942
        }
      },
      "source": [
        "with tf.variable_scope('MultiRNNCell') as scope:\n",
        "    # Make rnn\n",
        "    cell = tf.nn.rnn_cell.LSTMCell(num_units=5, state_is_tuple=True)\n",
        "    cell = rnn.MultiRNNCell([cell] * 3, state_is_tuple=True) # 3 layers\n",
        "\n",
        "    # rnn in/out\n",
        "    outputs, _states = tf.nn.dynamic_rnn(cell, x_data, dtype=tf.float32)\n",
        "    print(\"dynamic rnn: \", outputs)\n",
        "    sess.run(tf.global_variables_initializer())\n",
        "    pp.pprint(outputs.eval())  # batch size, unrolling (time), hidden_size"
      ],
      "execution_count": 10,
      "outputs": [
        {
          "output_type": "stream",
          "text": [
            "WARNING:tensorflow:From <ipython-input-10-33407b3902df>:4: MultiRNNCell.__init__ (from tensorflow.python.ops.rnn_cell_impl) is deprecated and will be removed in a future version.\n",
            "Instructions for updating:\n",
            "This class is equivalent as tf.keras.layers.StackedRNNCells, and will be replaced by that in Tensorflow 2.0.\n",
            "WARNING:tensorflow:At least two cells provided to MultiRNNCell are the same object and will share weights.\n"
          ],
          "name": "stdout"
        },
        {
          "output_type": "error",
          "ename": "ValueError",
          "evalue": "ignored",
          "traceback": [
            "\u001b[0;31m---------------------------------------------------------------------------\u001b[0m",
            "\u001b[0;31mValueError\u001b[0m                                Traceback (most recent call last)",
            "\u001b[0;32m<ipython-input-10-33407b3902df>\u001b[0m in \u001b[0;36m<module>\u001b[0;34m()\u001b[0m\n\u001b[1;32m      5\u001b[0m \u001b[0;34m\u001b[0m\u001b[0m\n\u001b[1;32m      6\u001b[0m     \u001b[0;31m# rnn in/out\u001b[0m\u001b[0;34m\u001b[0m\u001b[0;34m\u001b[0m\u001b[0;34m\u001b[0m\u001b[0m\n\u001b[0;32m----> 7\u001b[0;31m     \u001b[0moutputs\u001b[0m\u001b[0;34m,\u001b[0m \u001b[0m_states\u001b[0m \u001b[0;34m=\u001b[0m \u001b[0mtf\u001b[0m\u001b[0;34m.\u001b[0m\u001b[0mnn\u001b[0m\u001b[0;34m.\u001b[0m\u001b[0mdynamic_rnn\u001b[0m\u001b[0;34m(\u001b[0m\u001b[0mcell\u001b[0m\u001b[0;34m,\u001b[0m \u001b[0mx_data\u001b[0m\u001b[0;34m,\u001b[0m \u001b[0mdtype\u001b[0m\u001b[0;34m=\u001b[0m\u001b[0mtf\u001b[0m\u001b[0;34m.\u001b[0m\u001b[0mfloat32\u001b[0m\u001b[0;34m)\u001b[0m\u001b[0;34m\u001b[0m\u001b[0;34m\u001b[0m\u001b[0m\n\u001b[0m\u001b[1;32m      8\u001b[0m     \u001b[0mprint\u001b[0m\u001b[0;34m(\u001b[0m\u001b[0;34m\"dynamic rnn: \"\u001b[0m\u001b[0;34m,\u001b[0m \u001b[0moutputs\u001b[0m\u001b[0;34m)\u001b[0m\u001b[0;34m\u001b[0m\u001b[0;34m\u001b[0m\u001b[0m\n\u001b[1;32m      9\u001b[0m     \u001b[0msess\u001b[0m\u001b[0;34m.\u001b[0m\u001b[0mrun\u001b[0m\u001b[0;34m(\u001b[0m\u001b[0mtf\u001b[0m\u001b[0;34m.\u001b[0m\u001b[0mglobal_variables_initializer\u001b[0m\u001b[0;34m(\u001b[0m\u001b[0;34m)\u001b[0m\u001b[0;34m)\u001b[0m\u001b[0;34m\u001b[0m\u001b[0;34m\u001b[0m\u001b[0m\n",
            "\u001b[0;32m/usr/local/lib/python3.6/dist-packages/tensorflow/python/util/deprecation.py\u001b[0m in \u001b[0;36mnew_func\u001b[0;34m(*args, **kwargs)\u001b[0m\n\u001b[1;32m    322\u001b[0m               \u001b[0;34m'in a future version'\u001b[0m \u001b[0;32mif\u001b[0m \u001b[0mdate\u001b[0m \u001b[0;32mis\u001b[0m \u001b[0;32mNone\u001b[0m \u001b[0;32melse\u001b[0m \u001b[0;34m(\u001b[0m\u001b[0;34m'after %s'\u001b[0m \u001b[0;34m%\u001b[0m \u001b[0mdate\u001b[0m\u001b[0;34m)\u001b[0m\u001b[0;34m,\u001b[0m\u001b[0;34m\u001b[0m\u001b[0;34m\u001b[0m\u001b[0m\n\u001b[1;32m    323\u001b[0m               instructions)\n\u001b[0;32m--> 324\u001b[0;31m       \u001b[0;32mreturn\u001b[0m \u001b[0mfunc\u001b[0m\u001b[0;34m(\u001b[0m\u001b[0;34m*\u001b[0m\u001b[0margs\u001b[0m\u001b[0;34m,\u001b[0m \u001b[0;34m**\u001b[0m\u001b[0mkwargs\u001b[0m\u001b[0;34m)\u001b[0m\u001b[0;34m\u001b[0m\u001b[0;34m\u001b[0m\u001b[0m\n\u001b[0m\u001b[1;32m    325\u001b[0m     return tf_decorator.make_decorator(\n\u001b[1;32m    326\u001b[0m         \u001b[0mfunc\u001b[0m\u001b[0;34m,\u001b[0m \u001b[0mnew_func\u001b[0m\u001b[0;34m,\u001b[0m \u001b[0;34m'deprecated'\u001b[0m\u001b[0;34m,\u001b[0m\u001b[0;34m\u001b[0m\u001b[0;34m\u001b[0m\u001b[0m\n",
            "\u001b[0;32m/usr/local/lib/python3.6/dist-packages/tensorflow/python/ops/rnn.py\u001b[0m in \u001b[0;36mdynamic_rnn\u001b[0;34m(cell, inputs, sequence_length, initial_state, dtype, parallel_iterations, swap_memory, time_major, scope)\u001b[0m\n\u001b[1;32m    705\u001b[0m         \u001b[0mswap_memory\u001b[0m\u001b[0;34m=\u001b[0m\u001b[0mswap_memory\u001b[0m\u001b[0;34m,\u001b[0m\u001b[0;34m\u001b[0m\u001b[0;34m\u001b[0m\u001b[0m\n\u001b[1;32m    706\u001b[0m         \u001b[0msequence_length\u001b[0m\u001b[0;34m=\u001b[0m\u001b[0msequence_length\u001b[0m\u001b[0;34m,\u001b[0m\u001b[0;34m\u001b[0m\u001b[0;34m\u001b[0m\u001b[0m\n\u001b[0;32m--> 707\u001b[0;31m         dtype=dtype)\n\u001b[0m\u001b[1;32m    708\u001b[0m \u001b[0;34m\u001b[0m\u001b[0m\n\u001b[1;32m    709\u001b[0m     \u001b[0;31m# Outputs of _dynamic_rnn_loop are always shaped [time, batch, depth].\u001b[0m\u001b[0;34m\u001b[0m\u001b[0;34m\u001b[0m\u001b[0;34m\u001b[0m\u001b[0m\n",
            "\u001b[0;32m/usr/local/lib/python3.6/dist-packages/tensorflow/python/ops/rnn.py\u001b[0m in \u001b[0;36m_dynamic_rnn_loop\u001b[0;34m(cell, inputs, initial_state, parallel_iterations, swap_memory, sequence_length, dtype)\u001b[0m\n\u001b[1;32m    914\u001b[0m       \u001b[0mparallel_iterations\u001b[0m\u001b[0;34m=\u001b[0m\u001b[0mparallel_iterations\u001b[0m\u001b[0;34m,\u001b[0m\u001b[0;34m\u001b[0m\u001b[0;34m\u001b[0m\u001b[0m\n\u001b[1;32m    915\u001b[0m       \u001b[0mmaximum_iterations\u001b[0m\u001b[0;34m=\u001b[0m\u001b[0mtime_steps\u001b[0m\u001b[0;34m,\u001b[0m\u001b[0;34m\u001b[0m\u001b[0;34m\u001b[0m\u001b[0m\n\u001b[0;32m--> 916\u001b[0;31m       swap_memory=swap_memory)\n\u001b[0m\u001b[1;32m    917\u001b[0m \u001b[0;34m\u001b[0m\u001b[0m\n\u001b[1;32m    918\u001b[0m   \u001b[0;31m# Unpack final output if not using output tuples.\u001b[0m\u001b[0;34m\u001b[0m\u001b[0;34m\u001b[0m\u001b[0;34m\u001b[0m\u001b[0m\n",
            "\u001b[0;32m/usr/local/lib/python3.6/dist-packages/tensorflow/python/ops/control_flow_ops.py\u001b[0m in \u001b[0;36mwhile_loop\u001b[0;34m(cond, body, loop_vars, shape_invariants, parallel_iterations, back_prop, swap_memory, name, maximum_iterations, return_same_structure)\u001b[0m\n\u001b[1;32m   3499\u001b[0m       \u001b[0mops\u001b[0m\u001b[0;34m.\u001b[0m\u001b[0madd_to_collection\u001b[0m\u001b[0;34m(\u001b[0m\u001b[0mops\u001b[0m\u001b[0;34m.\u001b[0m\u001b[0mGraphKeys\u001b[0m\u001b[0;34m.\u001b[0m\u001b[0mWHILE_CONTEXT\u001b[0m\u001b[0;34m,\u001b[0m \u001b[0mloop_context\u001b[0m\u001b[0;34m)\u001b[0m\u001b[0;34m\u001b[0m\u001b[0;34m\u001b[0m\u001b[0m\n\u001b[1;32m   3500\u001b[0m     result = loop_context.BuildLoop(cond, body, loop_vars, shape_invariants,\n\u001b[0;32m-> 3501\u001b[0;31m                                     return_same_structure)\n\u001b[0m\u001b[1;32m   3502\u001b[0m     \u001b[0;32mif\u001b[0m \u001b[0mmaximum_iterations\u001b[0m \u001b[0;32mis\u001b[0m \u001b[0;32mnot\u001b[0m \u001b[0;32mNone\u001b[0m\u001b[0;34m:\u001b[0m\u001b[0;34m\u001b[0m\u001b[0;34m\u001b[0m\u001b[0m\n\u001b[1;32m   3503\u001b[0m       \u001b[0;32mreturn\u001b[0m \u001b[0mresult\u001b[0m\u001b[0;34m[\u001b[0m\u001b[0;36m1\u001b[0m\u001b[0;34m]\u001b[0m\u001b[0;34m\u001b[0m\u001b[0;34m\u001b[0m\u001b[0m\n",
            "\u001b[0;32m/usr/local/lib/python3.6/dist-packages/tensorflow/python/ops/control_flow_ops.py\u001b[0m in \u001b[0;36mBuildLoop\u001b[0;34m(self, pred, body, loop_vars, shape_invariants, return_same_structure)\u001b[0m\n\u001b[1;32m   3010\u001b[0m       \u001b[0;32mwith\u001b[0m \u001b[0mops\u001b[0m\u001b[0;34m.\u001b[0m\u001b[0mget_default_graph\u001b[0m\u001b[0;34m(\u001b[0m\u001b[0;34m)\u001b[0m\u001b[0;34m.\u001b[0m\u001b[0m_mutation_lock\u001b[0m\u001b[0;34m(\u001b[0m\u001b[0;34m)\u001b[0m\u001b[0;34m:\u001b[0m  \u001b[0;31m# pylint: disable=protected-access\u001b[0m\u001b[0;34m\u001b[0m\u001b[0;34m\u001b[0m\u001b[0m\n\u001b[1;32m   3011\u001b[0m         original_body_result, exit_vars = self._BuildLoop(\n\u001b[0;32m-> 3012\u001b[0;31m             pred, body, original_loop_vars, loop_vars, shape_invariants)\n\u001b[0m\u001b[1;32m   3013\u001b[0m     \u001b[0;32mfinally\u001b[0m\u001b[0;34m:\u001b[0m\u001b[0;34m\u001b[0m\u001b[0;34m\u001b[0m\u001b[0m\n\u001b[1;32m   3014\u001b[0m       \u001b[0mself\u001b[0m\u001b[0;34m.\u001b[0m\u001b[0mExit\u001b[0m\u001b[0;34m(\u001b[0m\u001b[0;34m)\u001b[0m\u001b[0;34m\u001b[0m\u001b[0;34m\u001b[0m\u001b[0m\n",
            "\u001b[0;32m/usr/local/lib/python3.6/dist-packages/tensorflow/python/ops/control_flow_ops.py\u001b[0m in \u001b[0;36m_BuildLoop\u001b[0;34m(self, pred, body, original_loop_vars, loop_vars, shape_invariants)\u001b[0m\n\u001b[1;32m   2935\u001b[0m         expand_composites=True)\n\u001b[1;32m   2936\u001b[0m     \u001b[0mpre_summaries\u001b[0m \u001b[0;34m=\u001b[0m \u001b[0mops\u001b[0m\u001b[0;34m.\u001b[0m\u001b[0mget_collection\u001b[0m\u001b[0;34m(\u001b[0m\u001b[0mops\u001b[0m\u001b[0;34m.\u001b[0m\u001b[0mGraphKeys\u001b[0m\u001b[0;34m.\u001b[0m\u001b[0m_SUMMARY_COLLECTION\u001b[0m\u001b[0;34m)\u001b[0m  \u001b[0;31m# pylint: disable=protected-access\u001b[0m\u001b[0;34m\u001b[0m\u001b[0;34m\u001b[0m\u001b[0m\n\u001b[0;32m-> 2937\u001b[0;31m     \u001b[0mbody_result\u001b[0m \u001b[0;34m=\u001b[0m \u001b[0mbody\u001b[0m\u001b[0;34m(\u001b[0m\u001b[0;34m*\u001b[0m\u001b[0mpacked_vars_for_body\u001b[0m\u001b[0;34m)\u001b[0m\u001b[0;34m\u001b[0m\u001b[0;34m\u001b[0m\u001b[0m\n\u001b[0m\u001b[1;32m   2938\u001b[0m     \u001b[0mpost_summaries\u001b[0m \u001b[0;34m=\u001b[0m \u001b[0mops\u001b[0m\u001b[0;34m.\u001b[0m\u001b[0mget_collection\u001b[0m\u001b[0;34m(\u001b[0m\u001b[0mops\u001b[0m\u001b[0;34m.\u001b[0m\u001b[0mGraphKeys\u001b[0m\u001b[0;34m.\u001b[0m\u001b[0m_SUMMARY_COLLECTION\u001b[0m\u001b[0;34m)\u001b[0m  \u001b[0;31m# pylint: disable=protected-access\u001b[0m\u001b[0;34m\u001b[0m\u001b[0;34m\u001b[0m\u001b[0m\n\u001b[1;32m   2939\u001b[0m     \u001b[0;32mif\u001b[0m \u001b[0;32mnot\u001b[0m \u001b[0mnest\u001b[0m\u001b[0;34m.\u001b[0m\u001b[0mis_sequence_or_composite\u001b[0m\u001b[0;34m(\u001b[0m\u001b[0mbody_result\u001b[0m\u001b[0;34m)\u001b[0m\u001b[0;34m:\u001b[0m\u001b[0;34m\u001b[0m\u001b[0;34m\u001b[0m\u001b[0m\n",
            "\u001b[0;32m/usr/local/lib/python3.6/dist-packages/tensorflow/python/ops/control_flow_ops.py\u001b[0m in \u001b[0;36m<lambda>\u001b[0;34m(i, lv)\u001b[0m\n\u001b[1;32m   3454\u001b[0m         cond = lambda i, lv: (  # pylint: disable=g-long-lambda\n\u001b[1;32m   3455\u001b[0m             math_ops.logical_and(i < maximum_iterations, orig_cond(*lv)))\n\u001b[0;32m-> 3456\u001b[0;31m         \u001b[0mbody\u001b[0m \u001b[0;34m=\u001b[0m \u001b[0;32mlambda\u001b[0m \u001b[0mi\u001b[0m\u001b[0;34m,\u001b[0m \u001b[0mlv\u001b[0m\u001b[0;34m:\u001b[0m \u001b[0;34m(\u001b[0m\u001b[0mi\u001b[0m \u001b[0;34m+\u001b[0m \u001b[0;36m1\u001b[0m\u001b[0;34m,\u001b[0m \u001b[0morig_body\u001b[0m\u001b[0;34m(\u001b[0m\u001b[0;34m*\u001b[0m\u001b[0mlv\u001b[0m\u001b[0;34m)\u001b[0m\u001b[0;34m)\u001b[0m\u001b[0;34m\u001b[0m\u001b[0;34m\u001b[0m\u001b[0m\n\u001b[0m\u001b[1;32m   3457\u001b[0m \u001b[0;34m\u001b[0m\u001b[0m\n\u001b[1;32m   3458\u001b[0m     \u001b[0;32mif\u001b[0m \u001b[0mexecuting_eagerly\u001b[0m\u001b[0;34m:\u001b[0m\u001b[0;34m\u001b[0m\u001b[0;34m\u001b[0m\u001b[0m\n",
            "\u001b[0;32m/usr/local/lib/python3.6/dist-packages/tensorflow/python/ops/rnn.py\u001b[0m in \u001b[0;36m_time_step\u001b[0;34m(time, output_ta_t, state)\u001b[0m\n\u001b[1;32m    882\u001b[0m           skip_conditionals=True)\n\u001b[1;32m    883\u001b[0m     \u001b[0;32melse\u001b[0m\u001b[0;34m:\u001b[0m\u001b[0;34m\u001b[0m\u001b[0;34m\u001b[0m\u001b[0m\n\u001b[0;32m--> 884\u001b[0;31m       \u001b[0;34m(\u001b[0m\u001b[0moutput\u001b[0m\u001b[0;34m,\u001b[0m \u001b[0mnew_state\u001b[0m\u001b[0;34m)\u001b[0m \u001b[0;34m=\u001b[0m \u001b[0mcall_cell\u001b[0m\u001b[0;34m(\u001b[0m\u001b[0;34m)\u001b[0m\u001b[0;34m\u001b[0m\u001b[0;34m\u001b[0m\u001b[0m\n\u001b[0m\u001b[1;32m    885\u001b[0m \u001b[0;34m\u001b[0m\u001b[0m\n\u001b[1;32m    886\u001b[0m     \u001b[0;31m# Keras cells always wrap state as list, even if it's a single tensor.\u001b[0m\u001b[0;34m\u001b[0m\u001b[0;34m\u001b[0m\u001b[0;34m\u001b[0m\u001b[0m\n",
            "\u001b[0;32m/usr/local/lib/python3.6/dist-packages/tensorflow/python/ops/rnn.py\u001b[0m in \u001b[0;36m<lambda>\u001b[0;34m()\u001b[0m\n\u001b[1;32m    868\u001b[0m     \u001b[0;32mif\u001b[0m \u001b[0mis_keras_rnn_cell\u001b[0m \u001b[0;32mand\u001b[0m \u001b[0;32mnot\u001b[0m \u001b[0mnest\u001b[0m\u001b[0;34m.\u001b[0m\u001b[0mis_sequence\u001b[0m\u001b[0;34m(\u001b[0m\u001b[0mstate\u001b[0m\u001b[0;34m)\u001b[0m\u001b[0;34m:\u001b[0m\u001b[0;34m\u001b[0m\u001b[0;34m\u001b[0m\u001b[0m\n\u001b[1;32m    869\u001b[0m       \u001b[0mstate\u001b[0m \u001b[0;34m=\u001b[0m \u001b[0;34m[\u001b[0m\u001b[0mstate\u001b[0m\u001b[0;34m]\u001b[0m\u001b[0;34m\u001b[0m\u001b[0;34m\u001b[0m\u001b[0m\n\u001b[0;32m--> 870\u001b[0;31m     \u001b[0mcall_cell\u001b[0m \u001b[0;34m=\u001b[0m \u001b[0;32mlambda\u001b[0m\u001b[0;34m:\u001b[0m \u001b[0mcell\u001b[0m\u001b[0;34m(\u001b[0m\u001b[0minput_t\u001b[0m\u001b[0;34m,\u001b[0m \u001b[0mstate\u001b[0m\u001b[0;34m)\u001b[0m\u001b[0;34m\u001b[0m\u001b[0;34m\u001b[0m\u001b[0m\n\u001b[0m\u001b[1;32m    871\u001b[0m \u001b[0;34m\u001b[0m\u001b[0m\n\u001b[1;32m    872\u001b[0m     \u001b[0;32mif\u001b[0m \u001b[0msequence_length\u001b[0m \u001b[0;32mis\u001b[0m \u001b[0;32mnot\u001b[0m \u001b[0;32mNone\u001b[0m\u001b[0;34m:\u001b[0m\u001b[0;34m\u001b[0m\u001b[0;34m\u001b[0m\u001b[0m\n",
            "\u001b[0;32m/usr/local/lib/python3.6/dist-packages/tensorflow/python/ops/rnn_cell_impl.py\u001b[0m in \u001b[0;36m__call__\u001b[0;34m(self, inputs, state, scope)\u001b[0m\n\u001b[1;32m    246\u001b[0m         \u001b[0msetattr\u001b[0m\u001b[0;34m(\u001b[0m\u001b[0mself\u001b[0m\u001b[0;34m,\u001b[0m \u001b[0mscope_attrname\u001b[0m\u001b[0;34m,\u001b[0m \u001b[0mscope\u001b[0m\u001b[0;34m)\u001b[0m\u001b[0;34m\u001b[0m\u001b[0;34m\u001b[0m\u001b[0m\n\u001b[1;32m    247\u001b[0m       \u001b[0;32mwith\u001b[0m \u001b[0mscope\u001b[0m\u001b[0;34m:\u001b[0m\u001b[0;34m\u001b[0m\u001b[0;34m\u001b[0m\u001b[0m\n\u001b[0;32m--> 248\u001b[0;31m         \u001b[0;32mreturn\u001b[0m \u001b[0msuper\u001b[0m\u001b[0;34m(\u001b[0m\u001b[0mRNNCell\u001b[0m\u001b[0;34m,\u001b[0m \u001b[0mself\u001b[0m\u001b[0;34m)\u001b[0m\u001b[0;34m.\u001b[0m\u001b[0m__call__\u001b[0m\u001b[0;34m(\u001b[0m\u001b[0minputs\u001b[0m\u001b[0;34m,\u001b[0m \u001b[0mstate\u001b[0m\u001b[0;34m)\u001b[0m\u001b[0;34m\u001b[0m\u001b[0;34m\u001b[0m\u001b[0m\n\u001b[0m\u001b[1;32m    249\u001b[0m \u001b[0;34m\u001b[0m\u001b[0m\n\u001b[1;32m    250\u001b[0m   \u001b[0;32mdef\u001b[0m \u001b[0m_rnn_get_variable\u001b[0m\u001b[0;34m(\u001b[0m\u001b[0mself\u001b[0m\u001b[0;34m,\u001b[0m \u001b[0mgetter\u001b[0m\u001b[0;34m,\u001b[0m \u001b[0;34m*\u001b[0m\u001b[0margs\u001b[0m\u001b[0;34m,\u001b[0m \u001b[0;34m**\u001b[0m\u001b[0mkwargs\u001b[0m\u001b[0;34m)\u001b[0m\u001b[0;34m:\u001b[0m\u001b[0;34m\u001b[0m\u001b[0;34m\u001b[0m\u001b[0m\n",
            "\u001b[0;32m/usr/local/lib/python3.6/dist-packages/tensorflow/python/layers/base.py\u001b[0m in \u001b[0;36m__call__\u001b[0;34m(self, inputs, *args, **kwargs)\u001b[0m\n\u001b[1;32m    535\u001b[0m \u001b[0;34m\u001b[0m\u001b[0m\n\u001b[1;32m    536\u001b[0m       \u001b[0;31m# Actually call layer\u001b[0m\u001b[0;34m\u001b[0m\u001b[0;34m\u001b[0m\u001b[0;34m\u001b[0m\u001b[0m\n\u001b[0;32m--> 537\u001b[0;31m       \u001b[0moutputs\u001b[0m \u001b[0;34m=\u001b[0m \u001b[0msuper\u001b[0m\u001b[0;34m(\u001b[0m\u001b[0mLayer\u001b[0m\u001b[0;34m,\u001b[0m \u001b[0mself\u001b[0m\u001b[0;34m)\u001b[0m\u001b[0;34m.\u001b[0m\u001b[0m__call__\u001b[0m\u001b[0;34m(\u001b[0m\u001b[0minputs\u001b[0m\u001b[0;34m,\u001b[0m \u001b[0;34m*\u001b[0m\u001b[0margs\u001b[0m\u001b[0;34m,\u001b[0m \u001b[0;34m**\u001b[0m\u001b[0mkwargs\u001b[0m\u001b[0;34m)\u001b[0m\u001b[0;34m\u001b[0m\u001b[0;34m\u001b[0m\u001b[0m\n\u001b[0m\u001b[1;32m    538\u001b[0m \u001b[0;34m\u001b[0m\u001b[0m\n\u001b[1;32m    539\u001b[0m     \u001b[0;32mif\u001b[0m \u001b[0;32mnot\u001b[0m \u001b[0mcontext\u001b[0m\u001b[0;34m.\u001b[0m\u001b[0mexecuting_eagerly\u001b[0m\u001b[0;34m(\u001b[0m\u001b[0;34m)\u001b[0m\u001b[0;34m:\u001b[0m\u001b[0;34m\u001b[0m\u001b[0;34m\u001b[0m\u001b[0m\n",
            "\u001b[0;32m/usr/local/lib/python3.6/dist-packages/tensorflow/python/keras/engine/base_layer.py\u001b[0m in \u001b[0;36m__call__\u001b[0;34m(self, inputs, *args, **kwargs)\u001b[0m\n\u001b[1;32m    632\u001b[0m                     \u001b[0moutputs\u001b[0m \u001b[0;34m=\u001b[0m \u001b[0mbase_layer_utils\u001b[0m\u001b[0;34m.\u001b[0m\u001b[0mmark_as_return\u001b[0m\u001b[0;34m(\u001b[0m\u001b[0moutputs\u001b[0m\u001b[0;34m,\u001b[0m \u001b[0macd\u001b[0m\u001b[0;34m)\u001b[0m\u001b[0;34m\u001b[0m\u001b[0;34m\u001b[0m\u001b[0m\n\u001b[1;32m    633\u001b[0m                 \u001b[0;32melse\u001b[0m\u001b[0;34m:\u001b[0m\u001b[0;34m\u001b[0m\u001b[0;34m\u001b[0m\u001b[0m\n\u001b[0;32m--> 634\u001b[0;31m                   \u001b[0moutputs\u001b[0m \u001b[0;34m=\u001b[0m \u001b[0mcall_fn\u001b[0m\u001b[0;34m(\u001b[0m\u001b[0minputs\u001b[0m\u001b[0;34m,\u001b[0m \u001b[0;34m*\u001b[0m\u001b[0margs\u001b[0m\u001b[0;34m,\u001b[0m \u001b[0;34m**\u001b[0m\u001b[0mkwargs\u001b[0m\u001b[0;34m)\u001b[0m\u001b[0;34m\u001b[0m\u001b[0;34m\u001b[0m\u001b[0m\n\u001b[0m\u001b[1;32m    635\u001b[0m \u001b[0;34m\u001b[0m\u001b[0m\n\u001b[1;32m    636\u001b[0m             \u001b[0;32mexcept\u001b[0m \u001b[0mTypeError\u001b[0m \u001b[0;32mas\u001b[0m \u001b[0me\u001b[0m\u001b[0;34m:\u001b[0m\u001b[0;34m\u001b[0m\u001b[0;34m\u001b[0m\u001b[0m\n",
            "\u001b[0;32m/usr/local/lib/python3.6/dist-packages/tensorflow/python/autograph/impl/api.py\u001b[0m in \u001b[0;36mwrapper\u001b[0;34m(*args, **kwargs)\u001b[0m\n\u001b[1;32m    147\u001b[0m       \u001b[0;32mexcept\u001b[0m \u001b[0mException\u001b[0m \u001b[0;32mas\u001b[0m \u001b[0me\u001b[0m\u001b[0;34m:\u001b[0m  \u001b[0;31m# pylint:disable=broad-except\u001b[0m\u001b[0;34m\u001b[0m\u001b[0;34m\u001b[0m\u001b[0m\n\u001b[1;32m    148\u001b[0m         \u001b[0;32mif\u001b[0m \u001b[0mhasattr\u001b[0m\u001b[0;34m(\u001b[0m\u001b[0me\u001b[0m\u001b[0;34m,\u001b[0m \u001b[0;34m'ag_error_metadata'\u001b[0m\u001b[0;34m)\u001b[0m\u001b[0;34m:\u001b[0m\u001b[0;34m\u001b[0m\u001b[0;34m\u001b[0m\u001b[0m\n\u001b[0;32m--> 149\u001b[0;31m           \u001b[0;32mraise\u001b[0m \u001b[0me\u001b[0m\u001b[0;34m.\u001b[0m\u001b[0mag_error_metadata\u001b[0m\u001b[0;34m.\u001b[0m\u001b[0mto_exception\u001b[0m\u001b[0;34m(\u001b[0m\u001b[0mtype\u001b[0m\u001b[0;34m(\u001b[0m\u001b[0me\u001b[0m\u001b[0;34m)\u001b[0m\u001b[0;34m)\u001b[0m\u001b[0;34m\u001b[0m\u001b[0;34m\u001b[0m\u001b[0m\n\u001b[0m\u001b[1;32m    150\u001b[0m         \u001b[0;32melse\u001b[0m\u001b[0;34m:\u001b[0m\u001b[0;34m\u001b[0m\u001b[0;34m\u001b[0m\u001b[0m\n\u001b[1;32m    151\u001b[0m           \u001b[0;32mraise\u001b[0m\u001b[0;34m\u001b[0m\u001b[0;34m\u001b[0m\u001b[0m\n",
            "\u001b[0;31mValueError\u001b[0m: in converted code:\n    relative to /usr/local/lib/python3.6/dist-packages/tensorflow/python:\n\n    ops/rnn_cell_impl.py:1719 call *\n        cur_inp, new_state = cell(cur_inp, cur_state)\n    ops/rnn_cell_impl.py:385 __call__\n        self, inputs, state, scope=scope, *args, **kwargs)\n    ops/rnn_cell_impl.py:1026 call *\n        lstm_matrix = math_ops.matmul(\n    util/dispatch.py:180 wrapper\n        return target(*args, **kwargs)\n    ops/math_ops.py:2647 matmul\n        a, b, transpose_a=transpose_a, transpose_b=transpose_b, name=name)\n    ops/gen_math_ops.py:5925 mat_mul\n        name=name)\n    framework/op_def_library.py:788 _apply_op_helper\n        op_def=op_def)\n    util/deprecation.py:507 new_func\n        return func(*args, **kwargs)\n    framework/ops.py:3616 create_op\n        op_def=op_def)\n    framework/ops.py:2027 __init__\n        control_input_ops)\n    framework/ops.py:1867 _create_c_op\n        raise ValueError(str(e))\n\n    ValueError: Dimensions must be equal, but are 10 and 8 for 'MultiRNNCell/rnn/while/rnn/multi_rnn_cell/cell_0/lstm_cell/MatMul_1' (op: 'MatMul') with input shapes: [3,10], [8,20].\n"
          ]
        }
      ]
    },
    {
      "cell_type": "code",
      "metadata": {
        "id": "8sieCQBc6LA9",
        "colab_type": "code",
        "outputId": "f51e88b2-03dd-4797-96d3-b18acae1d60d",
        "colab": {
          "base_uri": "https://localhost:8080/",
          "height": 617
        }
      },
      "source": [
        "with tf.variable_scope('dynamic_rnn') as scope:\n",
        "    cell = tf.nn.rnn_cell.LSTMCell(num_units=5, state_is_tuple=True)\n",
        "    outputs, _states = tf.nn.dynamic_rnn(cell, x_data, dtype=tf.float32,\n",
        "                                         sequence_length=[1, 3, 2])\n",
        "    # lentgh 1 for batch 1, lentgh 2 for batch 2\n",
        "    \n",
        "    print(\"dynamic rnn: \", outputs)\n",
        "    sess.run(tf.global_variables_initializer())\n",
        "    pp.pprint(outputs.eval())  # batch size, unrolling (time), hidden_size"
      ],
      "execution_count": 11,
      "outputs": [
        {
          "output_type": "stream",
          "text": [
            "dynamic rnn:  Tensor(\"dynamic_rnn/rnn/transpose_1:0\", shape=(3, 5, 5), dtype=float32)\n",
            "array([[[-1.6428888e-01, -7.2067864e-03, -1.0176742e-01,  1.8090969e-02,\n",
            "          1.1823841e-02],\n",
            "        [ 0.0000000e+00,  0.0000000e+00,  0.0000000e+00,  0.0000000e+00,\n",
            "          0.0000000e+00],\n",
            "        [ 0.0000000e+00,  0.0000000e+00,  0.0000000e+00,  0.0000000e+00,\n",
            "          0.0000000e+00],\n",
            "        [ 0.0000000e+00,  0.0000000e+00,  0.0000000e+00,  0.0000000e+00,\n",
            "          0.0000000e+00],\n",
            "        [ 0.0000000e+00,  0.0000000e+00,  0.0000000e+00,  0.0000000e+00,\n",
            "          0.0000000e+00]],\n",
            "\n",
            "       [[ 7.6073152e-01, -1.9564186e-01,  4.0167378e-04, -9.9156405e-06,\n",
            "         -3.9003612e-04],\n",
            "        [ 9.6382260e-01, -2.1772410e-01,  1.3378062e-04, -3.4842810e-06,\n",
            "         -1.3785949e-04],\n",
            "        [ 9.9502319e-01, -1.8302968e-01,  3.1781408e-05, -8.2613877e-07,\n",
            "         -3.7490652e-05],\n",
            "        [ 0.0000000e+00,  0.0000000e+00,  0.0000000e+00,  0.0000000e+00,\n",
            "          0.0000000e+00],\n",
            "        [ 0.0000000e+00,  0.0000000e+00,  0.0000000e+00,  0.0000000e+00,\n",
            "          0.0000000e+00]],\n",
            "\n",
            "       [[ 7.6159388e-01, -7.0527598e-02,  1.7815947e-07, -0.0000000e+00,\n",
            "         -5.0966912e-07],\n",
            "        [ 9.6402752e-01, -6.3687094e-02,  5.5147996e-08, -0.0000000e+00,\n",
            "         -1.4668038e-07],\n",
            "        [ 0.0000000e+00,  0.0000000e+00,  0.0000000e+00,  0.0000000e+00,\n",
            "          0.0000000e+00],\n",
            "        [ 0.0000000e+00,  0.0000000e+00,  0.0000000e+00,  0.0000000e+00,\n",
            "          0.0000000e+00],\n",
            "        [ 0.0000000e+00,  0.0000000e+00,  0.0000000e+00,  0.0000000e+00,\n",
            "          0.0000000e+00]]], dtype=float32)\n"
          ],
          "name": "stdout"
        }
      ]
    },
    {
      "cell_type": "code",
      "metadata": {
        "id": "8_XDiKP96LBF",
        "colab_type": "code",
        "outputId": "18a9bcd5-9739-4e77-cd8b-21f0f3a9a385",
        "colab": {
          "base_uri": "https://localhost:8080/",
          "height": 1000
        }
      },
      "source": [
        "with tf.variable_scope('bi-directional') as scope:\n",
        "    # bi-directional rnn\n",
        "    cell_fw = tf.nn.rnn_cell.LSTMCell(num_units=5, state_is_tuple=True)\n",
        "    cell_bw = tf.nn.rnn_cell.LSTMCell(num_units=5, state_is_tuple=True)\n",
        "\n",
        "    outputs, states = tf.nn.bidirectional_dynamic_rnn(cell_fw, cell_bw, x_data,\n",
        "                                                      sequence_length=[2, 3, 1],\n",
        "                                                      dtype=tf.float32)\n",
        "\n",
        "    sess.run(tf.global_variables_initializer())\n",
        "    pp.pprint(sess.run(outputs))\n",
        "    pp.pprint(sess.run(states))"
      ],
      "execution_count": 12,
      "outputs": [
        {
          "output_type": "stream",
          "text": [
            "WARNING:tensorflow:From <ipython-input-12-2ea73ef4e1a0>:8: bidirectional_dynamic_rnn (from tensorflow.python.ops.rnn) is deprecated and will be removed in a future version.\n",
            "Instructions for updating:\n",
            "Please use `keras.layers.Bidirectional(keras.layers.RNN(cell))`, which is equivalent to this API\n",
            "(   array([[[-1.28046330e-02,  5.68522401e-02, -2.36097276e-01,\n",
            "          1.01459906e-01, -5.68043925e-02],\n",
            "        [ 2.73677502e-02,  3.76021355e-01, -3.08276027e-01,\n",
            "          7.11068735e-02, -5.37600974e-03],\n",
            "        [ 0.00000000e+00,  0.00000000e+00,  0.00000000e+00,\n",
            "          0.00000000e+00,  0.00000000e+00],\n",
            "        [ 0.00000000e+00,  0.00000000e+00,  0.00000000e+00,\n",
            "          0.00000000e+00,  0.00000000e+00],\n",
            "        [ 0.00000000e+00,  0.00000000e+00,  0.00000000e+00,\n",
            "          0.00000000e+00,  0.00000000e+00]],\n",
            "\n",
            "       [[ 9.32964758e-06,  7.47370720e-01, -1.10331558e-01,\n",
            "          2.17993656e-05,  1.73601122e-09],\n",
            "        [ 9.16509180e-07,  9.59972382e-01, -6.29295856e-02,\n",
            "          8.51688492e-06,  4.60721253e-11],\n",
            "        [ 8.84075675e-08,  9.94328439e-01, -4.20176722e-02,\n",
            "          2.93840776e-06,  1.74932193e-12],\n",
            "        [ 0.00000000e+00,  0.00000000e+00,  0.00000000e+00,\n",
            "          0.00000000e+00,  0.00000000e+00],\n",
            "        [ 0.00000000e+00,  0.00000000e+00,  0.00000000e+00,\n",
            "          0.00000000e+00,  0.00000000e+00]],\n",
            "\n",
            "       [[ 8.12958798e-11,  7.61406064e-01, -2.06511337e-02,\n",
            "          1.27464828e-09,  0.00000000e+00],\n",
            "        [ 0.00000000e+00,  0.00000000e+00,  0.00000000e+00,\n",
            "          0.00000000e+00,  0.00000000e+00],\n",
            "        [ 0.00000000e+00,  0.00000000e+00,  0.00000000e+00,\n",
            "          0.00000000e+00,  0.00000000e+00],\n",
            "        [ 0.00000000e+00,  0.00000000e+00,  0.00000000e+00,\n",
            "          0.00000000e+00,  0.00000000e+00],\n",
            "        [ 0.00000000e+00,  0.00000000e+00,  0.00000000e+00,\n",
            "          0.00000000e+00,  0.00000000e+00]]], dtype=float32),\n",
            "    array([[[ 1.4695540e-01,  2.6072109e-01,  1.0737251e-01,  2.4008932e-02,\n",
            "         -9.3104586e-02],\n",
            "        [ 1.5200646e-02,  9.1484770e-02,  8.8301904e-02, -4.8953900e-03,\n",
            "         -2.5546756e-02],\n",
            "        [ 0.0000000e+00,  0.0000000e+00,  0.0000000e+00,  0.0000000e+00,\n",
            "          0.0000000e+00],\n",
            "        [ 0.0000000e+00,  0.0000000e+00,  0.0000000e+00,  0.0000000e+00,\n",
            "          0.0000000e+00],\n",
            "        [ 0.0000000e+00,  0.0000000e+00,  0.0000000e+00,  0.0000000e+00,\n",
            "          0.0000000e+00]],\n",
            "\n",
            "       [[ 1.9524876e-07,  1.3520513e-03,  9.0834191e-03, -3.1103916e-04,\n",
            "         -5.2848536e-05],\n",
            "        [ 1.0397549e-08,  3.9715032e-04,  3.8827015e-03, -6.5657528e-05,\n",
            "         -7.8756966e-06],\n",
            "        [ 5.5962690e-10,  9.5038013e-05,  1.6174692e-03, -1.1647470e-05,\n",
            "         -9.1824228e-07],\n",
            "        [ 0.0000000e+00,  0.0000000e+00,  0.0000000e+00,  0.0000000e+00,\n",
            "          0.0000000e+00],\n",
            "        [ 0.0000000e+00,  0.0000000e+00,  0.0000000e+00,  0.0000000e+00,\n",
            "          0.0000000e+00]],\n",
            "\n",
            "       [[ 0.0000000e+00,  2.6520738e-06,  1.0853889e-04, -1.4037153e-07,\n",
            "         -4.4499258e-09],\n",
            "        [ 0.0000000e+00,  0.0000000e+00,  0.0000000e+00,  0.0000000e+00,\n",
            "          0.0000000e+00],\n",
            "        [ 0.0000000e+00,  0.0000000e+00,  0.0000000e+00,  0.0000000e+00,\n",
            "          0.0000000e+00],\n",
            "        [ 0.0000000e+00,  0.0000000e+00,  0.0000000e+00,  0.0000000e+00,\n",
            "          0.0000000e+00],\n",
            "        [ 0.0000000e+00,  0.0000000e+00,  0.0000000e+00,  0.0000000e+00,\n",
            "          0.0000000e+00]]], dtype=float32))\n",
            "(   LSTMStateTuple(c=array([[ 1.5143365e-01,  5.0262922e-01, -9.4480854e-01,  5.8918941e-01,\n",
            "        -8.1707180e-02],\n",
            "       [ 4.5449156e-04,  2.9413872e+00, -9.9894249e-01,  1.7373549e-02,\n",
            "         9.4389461e-06],\n",
            "       [ 1.8043702e-05,  9.9955744e-01, -9.9992776e-01,  1.7174864e-04,\n",
            "         3.4836859e-07]], dtype=float32), h=array([[ 2.7367750e-02,  3.7602136e-01, -3.0827603e-01,  7.1106873e-02,\n",
            "        -5.3760097e-03],\n",
            "       [ 8.8407567e-08,  9.9432844e-01, -4.2017672e-02,  2.9384078e-06,\n",
            "         1.7493219e-12],\n",
            "       [ 8.1295880e-11,  7.6140606e-01, -2.0651134e-02,  1.2746483e-09,\n",
            "         0.0000000e+00]], dtype=float32)),\n",
            "    LSTMStateTuple(c=array([[ 4.70367342e-01,  9.29681182e-01,  1.76077977e-01,\n",
            "         5.64734191e-02, -2.49923155e-01],\n",
            "       [ 3.50159733e-03,  2.98427296e+00,  6.91532314e-01,\n",
            "        -1.12282801e+00, -1.16030890e-02],\n",
            "       [ 1.30079225e-05,  9.99781311e-01,  9.16159093e-01,\n",
            "        -8.82392049e-01, -1.36298098e-04]], dtype=float32), h=array([[ 1.4695540e-01,  2.6072109e-01,  1.0737251e-01,  2.4008932e-02,\n",
            "        -9.3104586e-02],\n",
            "       [ 1.9524876e-07,  1.3520513e-03,  9.0834191e-03, -3.1103916e-04,\n",
            "        -5.2848536e-05],\n",
            "       [ 0.0000000e+00,  2.6520738e-06,  1.0853889e-04, -1.4037153e-07,\n",
            "        -4.4499258e-09]], dtype=float32)))\n"
          ],
          "name": "stdout"
        }
      ]
    },
    {
      "cell_type": "code",
      "metadata": {
        "id": "Ndgpxbqi6LBK",
        "colab_type": "code",
        "outputId": "6c358c22-1819-4bfb-eed9-4cdbc0c8e697",
        "colab": {
          "base_uri": "https://localhost:8080/",
          "height": 908
        }
      },
      "source": [
        "# flattern based softmax\n",
        "hidden_size=3\n",
        "sequence_length=5\n",
        "batch_size=3\n",
        "num_classes=5\n",
        "\n",
        "pp.pprint(x_data) # hidden_size=3, sequence_length=4, batch_size=2\n",
        "x_data = x_data.reshape(-1, hidden_size)\n",
        "pp.pprint(x_data)\n",
        "\n",
        "softmax_w = np.arange(15, dtype=np.float32).reshape(hidden_size, num_classes)\n",
        "outputs = np.matmul(x_data, softmax_w)\n",
        "outputs = outputs.reshape(-1, sequence_length, num_classes) # batch, seq, class\n",
        "pp.pprint(outputs)"
      ],
      "execution_count": 13,
      "outputs": [
        {
          "output_type": "stream",
          "text": [
            "array([[[ 0.,  1.,  2.],\n",
            "        [ 3.,  4.,  5.],\n",
            "        [ 6.,  7.,  8.],\n",
            "        [ 9., 10., 11.],\n",
            "        [12., 13., 14.]],\n",
            "\n",
            "       [[15., 16., 17.],\n",
            "        [18., 19., 20.],\n",
            "        [21., 22., 23.],\n",
            "        [24., 25., 26.],\n",
            "        [27., 28., 29.]],\n",
            "\n",
            "       [[30., 31., 32.],\n",
            "        [33., 34., 35.],\n",
            "        [36., 37., 38.],\n",
            "        [39., 40., 41.],\n",
            "        [42., 43., 44.]]], dtype=float32)\n",
            "array([[ 0.,  1.,  2.],\n",
            "       [ 3.,  4.,  5.],\n",
            "       [ 6.,  7.,  8.],\n",
            "       [ 9., 10., 11.],\n",
            "       [12., 13., 14.],\n",
            "       [15., 16., 17.],\n",
            "       [18., 19., 20.],\n",
            "       [21., 22., 23.],\n",
            "       [24., 25., 26.],\n",
            "       [27., 28., 29.],\n",
            "       [30., 31., 32.],\n",
            "       [33., 34., 35.],\n",
            "       [36., 37., 38.],\n",
            "       [39., 40., 41.],\n",
            "       [42., 43., 44.]], dtype=float32)\n",
            "array([[[  25.,   28.,   31.,   34.,   37.],\n",
            "        [  70.,   82.,   94.,  106.,  118.],\n",
            "        [ 115.,  136.,  157.,  178.,  199.],\n",
            "        [ 160.,  190.,  220.,  250.,  280.],\n",
            "        [ 205.,  244.,  283.,  322.,  361.]],\n",
            "\n",
            "       [[ 250.,  298.,  346.,  394.,  442.],\n",
            "        [ 295.,  352.,  409.,  466.,  523.],\n",
            "        [ 340.,  406.,  472.,  538.,  604.],\n",
            "        [ 385.,  460.,  535.,  610.,  685.],\n",
            "        [ 430.,  514.,  598.,  682.,  766.]],\n",
            "\n",
            "       [[ 475.,  568.,  661.,  754.,  847.],\n",
            "        [ 520.,  622.,  724.,  826.,  928.],\n",
            "        [ 565.,  676.,  787.,  898., 1009.],\n",
            "        [ 610.,  730.,  850.,  970., 1090.],\n",
            "        [ 655.,  784.,  913., 1042., 1171.]]], dtype=float32)\n"
          ],
          "name": "stdout"
        }
      ]
    },
    {
      "cell_type": "code",
      "metadata": {
        "id": "GuyO74Va6LBP",
        "colab_type": "code",
        "outputId": "e109e35c-8ccb-43b2-f32a-bc646575bd7c",
        "colab": {
          "base_uri": "https://localhost:8080/",
          "height": 35
        }
      },
      "source": [
        "# [batch_size, sequence_length]\n",
        "y_data = tf.constant([[1, 1, 1]])\n",
        "\n",
        "# [batch_size, sequence_length, emb_dim ]\n",
        "prediction = tf.constant([[[0.2, 0.7], [0.6, 0.2], [0.2, 0.9]]], dtype=tf.float32)\n",
        "\n",
        "# [batch_size * sequence_length]\n",
        "weights = tf.constant([[1, 1, 1]], dtype=tf.float32)\n",
        "\n",
        "sequence_loss = tf.contrib.seq2seq.sequence_loss(logits=prediction, targets=y_data, weights=weights)\n",
        "sess.run(tf.global_variables_initializer())\n",
        "print(\"Loss: \", sequence_loss.eval())"
      ],
      "execution_count": 14,
      "outputs": [
        {
          "output_type": "stream",
          "text": [
            "Loss:  0.5967595\n"
          ],
          "name": "stdout"
        }
      ]
    },
    {
      "cell_type": "code",
      "metadata": {
        "id": "1ewbj3rh6LBS",
        "colab_type": "code",
        "outputId": "be14bcdb-ee42-46d6-955a-429cd7306ab8",
        "colab": {
          "base_uri": "https://localhost:8080/",
          "height": 35
        }
      },
      "source": [
        "# [batch_size, sequence_length]\n",
        "y_data = tf.constant([[1, 1, 1]])\n",
        "\n",
        "# [batch_size, sequence_length, emb_dim ]\n",
        "prediction1 = tf.constant([[[0.3, 0.7], [0.3, 0.7], [0.3, 0.7]]], dtype=tf.float32)\n",
        "prediction2 = tf.constant([[[0.1, 0.9], [0.1, 0.9], [0.1, 0.9]]], dtype=tf.float32)\n",
        "\n",
        "prediction3 = tf.constant([[[1, 0], [1, 0], [1, 0]]], dtype=tf.float32)\n",
        "prediction4 = tf.constant([[[0, 1], [1, 0], [0, 1]]], dtype=tf.float32)\n",
        "\n",
        "# [batch_size * sequence_length]\n",
        "weights = tf.constant([[1, 1, 1]], dtype=tf.float32)\n",
        "\n",
        "sequence_loss1 = tf.contrib.seq2seq.sequence_loss(prediction1, y_data, weights)\n",
        "sequence_loss2 = tf.contrib.seq2seq.sequence_loss(prediction2, y_data, weights)\n",
        "sequence_loss3 = tf.contrib.seq2seq.sequence_loss(prediction3, y_data, weights)\n",
        "sequence_loss4 = tf.contrib.seq2seq.sequence_loss(prediction3, y_data, weights)\n",
        "\n",
        "sess.run(tf.global_variables_initializer())\n",
        "print(\"Loss1: \", sequence_loss1.eval(),\n",
        "      \"Loss2: \", sequence_loss2.eval(),\n",
        "      \"Loss3: \", sequence_loss3.eval(),\n",
        "      \"Loss4: \", sequence_loss4.eval())"
      ],
      "execution_count": 15,
      "outputs": [
        {
          "output_type": "stream",
          "text": [
            "Loss1:  0.5130153 Loss2:  0.3711007 Loss3:  1.3132616 Loss4:  1.3132616\n"
          ],
          "name": "stdout"
        }
      ]
    }
  ]
}