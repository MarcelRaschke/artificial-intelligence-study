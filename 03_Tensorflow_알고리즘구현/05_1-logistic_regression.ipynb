{
  "nbformat": 4,
  "nbformat_minor": 0,
  "metadata": {
    "colab": {
      "name": "05_1-logistic_regression.ipynb",
      "version": "0.3.2",
      "provenance": []
    },
    "kernelspec": {
      "name": "python3",
      "display_name": "Python 3"
    }
  },
  "cells": [
    {
      "cell_type": "code",
      "metadata": {
        "id": "1ln7q0JIaFuI",
        "colab_type": "code",
        "colab": {}
      },
      "source": [
        "# Lab 5 Logistic Regression Classifier\n",
        "import tensorflow as tf\n",
        "tf.set_random_seed(777)  # for reproducibility\n",
        "\n",
        "x_data = [[1, 2],\n",
        "          [2, 3],\n",
        "          [3, 1],\n",
        "          [4, 3],\n",
        "          [5, 3],\n",
        "          [6, 2]]\n",
        "y_data = [[0],\n",
        "          [0],\n",
        "          [0],\n",
        "          [1],\n",
        "          [1],\n",
        "          [1]]"
      ],
      "execution_count": 0,
      "outputs": []
    },
    {
      "cell_type": "code",
      "metadata": {
        "id": "a-cG8254aJXl",
        "colab_type": "code",
        "colab": {}
      },
      "source": [
        "\n",
        "# placeholders for a tensor that will be always fed.\n",
        "X = tf.placeholder(tf.float32, shape=[None, 2])\n",
        "Y = tf.placeholder(tf.float32, shape=[None, 1])\n",
        "\n",
        "W = tf.Variable(tf.random_normal([2, 1]), name='weight')\n",
        "b = tf.Variable(tf.random_normal([1]), name='bias')\n"
      ],
      "execution_count": 0,
      "outputs": []
    },
    {
      "cell_type": "code",
      "metadata": {
        "id": "Va-mMBozaaN6",
        "colab_type": "code",
        "colab": {}
      },
      "source": [
        "\n",
        "# Hypothesis using sigmoid: tf.div(1., 1. + tf.exp(tf.matmul(X, W)))\n",
        "hypothesis = tf.sigmoid(tf.matmul(X, W) + b)\n",
        "\n",
        "# cost/loss function\n",
        "cost = -tf.reduce_mean(Y * tf.log(hypothesis) + (1 - Y) *\n",
        "                       tf.log(1 - hypothesis))\n",
        "\n",
        "train = tf.train.GradientDescentOptimizer(learning_rate=0.01).minimize(cost)\n"
      ],
      "execution_count": 0,
      "outputs": []
    },
    {
      "cell_type": "code",
      "metadata": {
        "id": "wECYAfRJahHo",
        "colab_type": "code",
        "colab": {}
      },
      "source": [
        "\n",
        "# Accuracy computation\n",
        "# True if hypothesis>0.5 else False\n",
        "predicted = tf.cast(hypothesis > 0.5, dtype=tf.float32)\n",
        "accuracy = tf.reduce_mean(tf.cast(tf.equal(predicted, Y), dtype=tf.float32))\n"
      ],
      "execution_count": 0,
      "outputs": []
    },
    {
      "cell_type": "code",
      "metadata": {
        "id": "p4BkHe26amfJ",
        "colab_type": "code",
        "outputId": "43da5cf5-54e6-409b-a865-95941fa5f046",
        "colab": {
          "base_uri": "https://localhost:8080/",
          "height": 1326
        }
      },
      "source": [
        "\n",
        "# Launch graph\n",
        "with tf.Session() as sess:\n",
        "    # Initialize TensorFlow variables\n",
        "    sess.run(tf.global_variables_initializer())\n",
        "\n",
        "    for step in range(10001):\n",
        "        cost_val, _, W_val, b_val = sess.run([cost, train, W, b], feed_dict={X: x_data, Y: y_data})\n",
        "        if step % 500 == 0:\n",
        "            print(step, cost_val, W_val, b_val)\n",
        "\n",
        "    # Accuracy report\n",
        "    h, c, a = sess.run([hypothesis, predicted, accuracy],\n",
        "                       feed_dict={X: x_data, Y: y_data})\n",
        "    print(\"\\nHypothesis: \", h, \"\\nCorrect (Y): \", c, \"\\nAccuracy: \", a)\n",
        "    \n",
        "    # test(compare sckit-learn linear_model.LogisticRegression())\n",
        "    # x_test1\n",
        "    x_test1 = [[6, 2]]\n",
        "    y_test1 = [[0]]  # 잘못된 값을 준경우\n",
        "    h, c, a = sess.run([hypothesis, predicted, accuracy],\n",
        "                       feed_dict={X: x_test1, Y: y_test1})\n",
        "    print(\"\\n x_test1 Hypothesis: \", h, \"\\nCorrect (Y): \", c, \"\\nAccuracy: \", a)\n",
        "    \n",
        "    # x_test2\n",
        "    x_test2 = [[3, 1]]\n",
        "    y_test2 = [[0]]  #정확한 값을 준경우\n",
        "    h, c, a = sess.run([hypothesis, predicted, accuracy],\n",
        "                       feed_dict={X: x_test2, Y: y_test2})\n",
        "    print(\"\\n x_test2 Hypothesis: \", h, \"\\nCorrect (Y): \", c, \"\\nAccuracy: \", a)\n",
        "    \n",
        "    # x_test3 : 모르는 값을 CLASS 구분확인\n",
        "    x_test3 = [[9, 1]]\n",
        "    y_test3 = [[0]]  #-->Accuracy:0 -> 0이틀렸고 1이라는 얘기!\n",
        "    h, c, a = sess.run([hypothesis, predicted, accuracy],\n",
        "                       feed_dict={X: x_test3, Y: y_test3})\n",
        "    print(\"\\n x_test3 Hypothesis: \", h, \"\\nCorrect (Y): \", c, \"\\nAccuracy: \", a)\n",
        "    \n",
        "    # x_test4 : 모르는 값을 CLASS 구분확인\n",
        "    x_test4 = [[3, 4]]\n",
        "    y_test4 = [[0]]  #-->Accuracy:0 -> 0이틀렸고 1이라는 얘기!\n",
        "    h, c, a = sess.run([hypothesis, predicted, accuracy],\n",
        "                       feed_dict={X: x_test4, Y: y_test4})\n",
        "    print(\"\\n x_test4 Hypothesis: \", h, \"\\nCorrect (Y): \", c, \"\\nAccuracy: \", a)\n"
      ],
      "execution_count": 18,
      "outputs": [
        {
          "output_type": "stream",
          "text": [
            "0 0.7943441 [[-0.20703001]\n",
            " [ 0.679495  ]] [-0.5104687]\n",
            "500 0.4330815 [[ 0.5294911 ]\n",
            " [-0.10661602]] [-1.1245306]\n",
            "1000 0.3719084 [[ 0.77772564]\n",
            " [-0.30135605]] [-1.5663476]\n",
            "1500 0.3396263 [[ 0.90092254]\n",
            " [-0.33070385]] [-1.9458826]\n",
            "2000 0.3144292 [[ 0.97665393]\n",
            " [-0.3028999 ]] [-2.2911499]\n",
            "2500 0.29278266 [[ 1.031558 ]\n",
            " [-0.2537678]] [-2.61164]\n",
            "3000 0.27371874 [[ 1.0765247 ]\n",
            " [-0.19769171]] [-2.9118085]\n",
            "3500 0.25678438 [[ 1.1164067 ]\n",
            " [-0.14086743]] [-3.1943207]\n",
            "4000 0.2416688 [[ 1.1534586 ]\n",
            " [-0.08595383]] [-3.4610746]\n",
            "4500 0.22812279 [[ 1.1887476 ]\n",
            " [-0.03399469]] [-3.7135775]\n",
            "5000 0.21593644 [[1.2227848 ]\n",
            " [0.01471568]] [-3.9531116]\n",
            "5500 0.20493184 [[1.2558165 ]\n",
            " [0.06022421]] [-4.180799]\n",
            "6000 0.19495739 [[1.2879623 ]\n",
            " [0.10272313]] [-4.3976293]\n",
            "6500 0.18588398 [[1.3192853 ]\n",
            " [0.14245683]] [-4.604493]\n",
            "7000 0.17760159 [[1.3498204 ]\n",
            " [0.17967689]] [-4.8021836]\n",
            "7500 0.17001586 [[1.3795934 ]\n",
            " [0.21462268]] [-4.9914184]\n",
            "8000 0.16304617 [[1.4086251 ]\n",
            " [0.24751331]] [-5.1728415]\n",
            "8500 0.15662308 [[1.4369367 ]\n",
            " [0.27854544]] [-5.3470325]\n",
            "9000 0.15068676 [[1.4645497 ]\n",
            " [0.30789396]] [-5.514515]\n",
            "9500 0.14518543 [[1.4914842 ]\n",
            " [0.33571357]] [-5.675763]\n",
            "10000 0.140074 [[1.5177637 ]\n",
            " [0.36214128]] [-5.8312054]\n",
            "\n",
            "Hypothesis:  [[0.02687911]\n",
            " [0.15326047]\n",
            " [0.28581998]\n",
            " [0.79022354]\n",
            " [0.94500965]\n",
            " [0.9820078 ]] \n",
            "Correct (Y):  [[0.]\n",
            " [0.]\n",
            " [0.]\n",
            " [1.]\n",
            " [1.]\n",
            " [1.]] \n",
            "Accuracy:  1.0\n",
            "\n",
            " x_test1 Hypothesis:  [[0.9820078]] \n",
            "Correct (Y):  [[1.]] \n",
            "Accuracy:  0.0\n",
            "\n",
            " x_test2 Hypothesis:  [[0.28581998]] \n",
            "Correct (Y):  [[0.]] \n",
            "Accuracy:  1.0\n",
            "\n",
            " x_test3 Hypothesis:  [[0.9997229]] \n",
            "Correct (Y):  [[1.]] \n",
            "Accuracy:  0.0\n",
            "\n",
            " x_test4 Hypothesis:  [[0.5425595]] \n",
            "Correct (Y):  [[1.]] \n",
            "Accuracy:  0.0\n"
          ],
          "name": "stdout"
        }
      ]
    }
  ]
}