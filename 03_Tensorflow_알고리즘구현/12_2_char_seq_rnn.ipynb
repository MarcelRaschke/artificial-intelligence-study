{
  "nbformat": 4,
  "nbformat_minor": 0,
  "metadata": {
    "colab": {
      "name": "12_2_char-seq-rnn.ipynb",
      "provenance": []
    },
    "kernelspec": {
      "name": "python3",
      "display_name": "Python 3"
    },
    "accelerator": "GPU"
  },
  "cells": [
    {
      "cell_type": "code",
      "metadata": {
        "id": "Y3tZ0pHiFO_r",
        "colab_type": "code",
        "colab": {}
      },
      "source": [
        "# Lab 12 Character Sequence RNN\n",
        "import tensorflow as tf\n",
        "import numpy as np\n",
        "tf.set_random_seed(777)  # reproducibility"
      ],
      "execution_count": 0,
      "outputs": []
    },
    {
      "cell_type": "code",
      "metadata": {
        "id": "4f-j86T4OzxC",
        "colab_type": "code",
        "colab": {
          "base_uri": "https://localhost:8080/",
          "height": 54
        },
        "outputId": "3067988a-5534-4156-9e59-881eb3bbca80"
      },
      "source": [
        "sample = \" if you want you\"\n",
        "idx2char = list(set(sample))  # index -> char\n",
        "print(idx2char)\n",
        "char2idx = {c: i for i, c in enumerate(idx2char)}  # char -> idex\n",
        "print(char2idx)"
      ],
      "execution_count": 2,
      "outputs": [
        {
          "output_type": "stream",
          "text": [
            "['t', 'a', ' ', 'i', 'u', 'w', 'y', 'n', 'o', 'f']\n",
            "{'t': 0, 'a': 1, ' ': 2, 'i': 3, 'u': 4, 'w': 5, 'y': 6, 'n': 7, 'o': 8, 'f': 9}\n"
          ],
          "name": "stdout"
        }
      ]
    },
    {
      "cell_type": "code",
      "metadata": {
        "id": "hYQ08gACOz2i",
        "colab_type": "code",
        "colab": {}
      },
      "source": [
        "# hyper parameters\n",
        "dic_size = len(char2idx)  # RNN input size (one hot size)\n",
        "hidden_size = len(char2idx)  # RNN output size\n",
        "num_classes = len(char2idx)  # final output size (RNN or softmax, etc.)\n",
        "batch_size = 1  # one sample data, one batch\n",
        "sequence_length = len(sample) - 1  # number of lstm rollings (unit #)\n",
        "learning_rate = 0.1"
      ],
      "execution_count": 0,
      "outputs": []
    },
    {
      "cell_type": "code",
      "metadata": {
        "id": "Yq-Rtz5eOz7L",
        "colab_type": "code",
        "colab": {
          "base_uri": "https://localhost:8080/",
          "height": 90
        },
        "outputId": "bb55b1a0-c50d-4204-f0c7-54f0b3d62248"
      },
      "source": [
        "\n",
        "sample_idx = [char2idx[c] for c in sample]  # char to index\n",
        "x_data = [sample_idx[:-1]]  # X data sample (0 ~ n-1) hello: hell\n",
        "y_data = [sample_idx[1:]]   # Y label sample (1 ~ n) hello: ello\n",
        "print(x_data)\n",
        "print(y_data)\n",
        "\n",
        "X = tf.placeholder(tf.int32, [None, sequence_length])  # X data\n",
        "Y = tf.placeholder(tf.int32, [None, sequence_length])  # Y label\n",
        "print(X)\n",
        "print(Y)"
      ],
      "execution_count": 4,
      "outputs": [
        {
          "output_type": "stream",
          "text": [
            "[[2, 3, 9, 2, 6, 8, 4, 2, 5, 1, 7, 0, 2, 6, 8]]\n",
            "[[3, 9, 2, 6, 8, 4, 2, 5, 1, 7, 0, 2, 6, 8, 4]]\n",
            "Tensor(\"Placeholder:0\", shape=(?, 15), dtype=int32)\n",
            "Tensor(\"Placeholder_1:0\", shape=(?, 15), dtype=int32)\n"
          ],
          "name": "stdout"
        }
      ]
    },
    {
      "cell_type": "code",
      "metadata": {
        "id": "Dtso_ulsOz9t",
        "colab_type": "code",
        "colab": {
          "base_uri": "https://localhost:8080/",
          "height": 528
        },
        "outputId": "e1bb47d9-8395-4496-bf7e-43efa7916079"
      },
      "source": [
        "\n",
        "x_one_hot = tf.one_hot(X, num_classes)  # one hot: 1 -> 0 1 0 0 0 0 0 0 0 0\n",
        "print(x_one_hot)\n",
        "\n",
        "cell = tf.contrib.rnn.BasicLSTMCell(num_units=hidden_size, state_is_tuple=True)\n",
        "print('cell:', cell)\n",
        "initial_state = cell.zero_state(batch_size, tf.float32)\n",
        "print('initial_state:', initial_state)\n",
        "\n",
        "outputs, _states = tf.nn.dynamic_rnn(\n",
        "    cell, x_one_hot, initial_state=initial_state, dtype=tf.float32)\n",
        "print('outputs', outputs)\n",
        "print('_states', _states)"
      ],
      "execution_count": 5,
      "outputs": [
        {
          "output_type": "stream",
          "text": [
            "Tensor(\"one_hot:0\", shape=(?, 15, 10), dtype=float32)\n",
            "WARNING:tensorflow:\n",
            "The TensorFlow contrib module will not be included in TensorFlow 2.0.\n",
            "For more information, please see:\n",
            "  * https://github.com/tensorflow/community/blob/master/rfcs/20180907-contrib-sunset.md\n",
            "  * https://github.com/tensorflow/addons\n",
            "  * https://github.com/tensorflow/io (for I/O related ops)\n",
            "If you depend on functionality not listed there, please file an issue.\n",
            "\n",
            "WARNING:tensorflow:From <ipython-input-5-9e798f137495>:5: BasicLSTMCell.__init__ (from tensorflow.python.ops.rnn_cell_impl) is deprecated and will be removed in a future version.\n",
            "Instructions for updating:\n",
            "This class is equivalent as tf.keras.layers.LSTMCell, and will be replaced by that in Tensorflow 2.0.\n",
            "cell: <tensorflow.python.ops.rnn_cell_impl.BasicLSTMCell object at 0x7f81f8a3ac18>\n",
            "initial_state: LSTMStateTuple(c=<tf.Tensor 'BasicLSTMCellZeroState/zeros:0' shape=(1, 10) dtype=float32>, h=<tf.Tensor 'BasicLSTMCellZeroState/zeros_1:0' shape=(1, 10) dtype=float32>)\n",
            "WARNING:tensorflow:From <ipython-input-5-9e798f137495>:11: dynamic_rnn (from tensorflow.python.ops.rnn) is deprecated and will be removed in a future version.\n",
            "Instructions for updating:\n",
            "Please use `keras.layers.RNN(cell)`, which is equivalent to this API\n",
            "WARNING:tensorflow:From /usr/local/lib/python3.6/dist-packages/tensorflow/python/ops/init_ops.py:1251: calling VarianceScaling.__init__ (from tensorflow.python.ops.init_ops) with dtype is deprecated and will be removed in a future version.\n",
            "Instructions for updating:\n",
            "Call initializer instance with the dtype argument instead of passing it to the constructor\n",
            "WARNING:tensorflow:From /usr/local/lib/python3.6/dist-packages/tensorflow/python/ops/rnn_cell_impl.py:738: calling Zeros.__init__ (from tensorflow.python.ops.init_ops) with dtype is deprecated and will be removed in a future version.\n",
            "Instructions for updating:\n",
            "Call initializer instance with the dtype argument instead of passing it to the constructor\n",
            "WARNING:tensorflow:Entity <bound method BasicLSTMCell.call of <tensorflow.python.ops.rnn_cell_impl.BasicLSTMCell object at 0x7f81f8a3ac18>> could not be transformed and will be executed as-is. Please report this to the AutgoGraph team. When filing the bug, set the verbosity to 10 (on Linux, `export AUTOGRAPH_VERBOSITY=10`) and attach the full output. Cause: converting <bound method BasicLSTMCell.call of <tensorflow.python.ops.rnn_cell_impl.BasicLSTMCell object at 0x7f81f8a3ac18>>: AssertionError: Bad argument number for Name: 3, expecting 4\n",
            "WARNING: Entity <bound method BasicLSTMCell.call of <tensorflow.python.ops.rnn_cell_impl.BasicLSTMCell object at 0x7f81f8a3ac18>> could not be transformed and will be executed as-is. Please report this to the AutgoGraph team. When filing the bug, set the verbosity to 10 (on Linux, `export AUTOGRAPH_VERBOSITY=10`) and attach the full output. Cause: converting <bound method BasicLSTMCell.call of <tensorflow.python.ops.rnn_cell_impl.BasicLSTMCell object at 0x7f81f8a3ac18>>: AssertionError: Bad argument number for Name: 3, expecting 4\n",
            "outputs Tensor(\"rnn/transpose_1:0\", shape=(1, 15, 10), dtype=float32)\n",
            "_states LSTMStateTuple(c=<tf.Tensor 'rnn/while/Exit_3:0' shape=(1, 10) dtype=float32>, h=<tf.Tensor 'rnn/while/Exit_4:0' shape=(1, 10) dtype=float32>)\n"
          ],
          "name": "stdout"
        }
      ]
    },
    {
      "cell_type": "code",
      "metadata": {
        "id": "hjRHWPGyOz48",
        "colab_type": "code",
        "colab": {
          "base_uri": "https://localhost:8080/",
          "height": 74
        },
        "outputId": "bfad6c61-5894-4c15-efa0-43c0f3f2de91"
      },
      "source": [
        "# FC layer\n",
        "X_for_fc = tf.reshape(outputs, [-1, hidden_size])\n",
        "outputs = tf.contrib.layers.fully_connected(X_for_fc, num_classes, activation_fn=None)\n",
        "\n",
        "# reshape out for sequence_loss\n",
        "outputs = tf.reshape(outputs, [batch_size, sequence_length, num_classes])\n"
      ],
      "execution_count": 6,
      "outputs": [
        {
          "output_type": "stream",
          "text": [
            "WARNING:tensorflow:Entity <bound method Dense.call of <tensorflow.python.layers.core.Dense object at 0x7f81f8a3a550>> could not be transformed and will be executed as-is. Please report this to the AutgoGraph team. When filing the bug, set the verbosity to 10 (on Linux, `export AUTOGRAPH_VERBOSITY=10`) and attach the full output. Cause: converting <bound method Dense.call of <tensorflow.python.layers.core.Dense object at 0x7f81f8a3a550>>: AssertionError: Bad argument number for Name: 3, expecting 4\n",
            "WARNING: Entity <bound method Dense.call of <tensorflow.python.layers.core.Dense object at 0x7f81f8a3a550>> could not be transformed and will be executed as-is. Please report this to the AutgoGraph team. When filing the bug, set the verbosity to 10 (on Linux, `export AUTOGRAPH_VERBOSITY=10`) and attach the full output. Cause: converting <bound method Dense.call of <tensorflow.python.layers.core.Dense object at 0x7f81f8a3a550>>: AssertionError: Bad argument number for Name: 3, expecting 4\n"
          ],
          "name": "stdout"
        }
      ]
    },
    {
      "cell_type": "code",
      "metadata": {
        "id": "liHSDeBsOz0E",
        "colab_type": "code",
        "colab": {
          "base_uri": "https://localhost:8080/",
          "height": 35
        },
        "outputId": "40852de6-551c-4d04-a40f-28db6ae82448"
      },
      "source": [
        "weights = tf.ones([batch_size, sequence_length])\n",
        "print(weights)\n",
        "\n",
        "sequence_loss = tf.contrib.seq2seq.sequence_loss(logits=outputs, targets=Y, weights=weights)\n",
        "loss = tf.reduce_mean(sequence_loss)\n",
        "train = tf.train.AdamOptimizer(learning_rate=learning_rate).minimize(loss)\n",
        "\n",
        "prediction = tf.argmax(outputs, axis=2)"
      ],
      "execution_count": 7,
      "outputs": [
        {
          "output_type": "stream",
          "text": [
            "Tensor(\"ones:0\", shape=(1, 15), dtype=float32)\n"
          ],
          "name": "stdout"
        }
      ]
    },
    {
      "cell_type": "code",
      "metadata": {
        "id": "4BIpfGUdOzuz",
        "colab_type": "code",
        "colab": {
          "base_uri": "https://localhost:8080/",
          "height": 926
        },
        "outputId": "91d1791e-7550-4f84-bbea-288dce135f1d"
      },
      "source": [
        "\n",
        "with tf.Session() as sess:\n",
        "    sess.run(tf.global_variables_initializer())\n",
        "    for i in range(50):\n",
        "        l, _ = sess.run([loss, train], feed_dict={X: x_data, Y: y_data})\n",
        "        result = sess.run(prediction, feed_dict={X: x_data})\n",
        "\n",
        "        # print char using dic\n",
        "        result_str = [idx2char[c] for c in np.squeeze(result)]\n",
        "\n",
        "        print(i, \"loss:\", l, \"Prediction:\", ''.join(result_str))\n"
      ],
      "execution_count": 8,
      "outputs": [
        {
          "output_type": "stream",
          "text": [
            "0 loss: 2.305699 Prediction: yy yy  yy yuyy \n",
            "1 loss: 2.1517203 Prediction: yy yo     y yy \n",
            "2 loss: 2.0170894 Prediction: y  yo        o \n",
            "3 loss: 1.8506474 Prediction: yo yo       you\n",
            "4 loss: 1.6128973 Prediction: yy you  an  you\n",
            "5 loss: 1.3273004 Prediction: yy you want you\n",
            "6 loss: 1.0743444 Prediction: yy you want you\n",
            "7 loss: 0.8385034 Prediction: yf you want you\n",
            "8 loss: 0.61607194 Prediction: yf you want you\n",
            "9 loss: 0.45938492 Prediction: yf you want you\n",
            "10 loss: 0.34142214 Prediction: yf you want you\n",
            "11 loss: 0.24435247 Prediction: yf you want you\n",
            "12 loss: 0.17649367 Prediction: if you want you\n",
            "13 loss: 0.13102789 Prediction: if you want you\n",
            "14 loss: 0.098099865 Prediction: if you want you\n",
            "15 loss: 0.074417435 Prediction: if you want you\n",
            "16 loss: 0.056767207 Prediction: if you want you\n",
            "17 loss: 0.042891033 Prediction: if you want you\n",
            "18 loss: 0.03202318 Prediction: if you want you\n",
            "19 loss: 0.023808694 Prediction: if you want you\n",
            "20 loss: 0.017812992 Prediction: if you want you\n",
            "21 loss: 0.013502681 Prediction: if you want you\n",
            "22 loss: 0.010383398 Prediction: if you want you\n",
            "23 loss: 0.0080964705 Prediction: if you want you\n",
            "24 loss: 0.006409311 Prediction: if you want you\n",
            "25 loss: 0.005163056 Prediction: if you want you\n",
            "26 loss: 0.0042395755 Prediction: if you want you\n",
            "27 loss: 0.0035492252 Prediction: if you want you\n",
            "28 loss: 0.00302536 Prediction: if you want you\n",
            "29 loss: 0.0026204332 Prediction: if you want you\n",
            "30 loss: 0.002300809 Prediction: if you want you\n",
            "31 loss: 0.0020430833 Prediction: if you want you\n",
            "32 loss: 0.0018310616 Prediction: if you want you\n",
            "33 loss: 0.0016534864 Prediction: if you want you\n",
            "34 loss: 0.0015025507 Prediction: if you want you\n",
            "35 loss: 0.0013728705 Prediction: if you want you\n",
            "36 loss: 0.0012604636 Prediction: if you want you\n",
            "37 loss: 0.0011626264 Prediction: if you want you\n",
            "38 loss: 0.0010772233 Prediction: if you want you\n",
            "39 loss: 0.0010024653 Prediction: if you want you\n",
            "40 loss: 0.00093708583 Prediction: if you want you\n",
            "41 loss: 0.0008798734 Prediction: if you want you\n",
            "42 loss: 0.0008297186 Prediction: if you want you\n",
            "43 loss: 0.0007858058 Prediction: if you want you\n",
            "44 loss: 0.0007472628 Prediction: if you want you\n",
            "45 loss: 0.0007132972 Prediction: if you want you\n",
            "46 loss: 0.0006833065 Prediction: if you want you\n",
            "47 loss: 0.00065664016 Prediction: if you want you\n",
            "48 loss: 0.00063290197 Prediction: if you want you\n",
            "49 loss: 0.0006115603 Prediction: if you want you\n"
          ],
          "name": "stdout"
        }
      ]
    }
  ]
}