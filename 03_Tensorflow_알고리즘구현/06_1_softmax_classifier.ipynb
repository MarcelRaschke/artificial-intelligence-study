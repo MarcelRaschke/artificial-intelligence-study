{
  "nbformat": 4,
  "nbformat_minor": 0,
  "metadata": {
    "colab": {
      "name": "Untitled6.ipynb",
      "version": "0.3.2",
      "provenance": []
    },
    "kernelspec": {
      "name": "python3",
      "display_name": "Python 3"
    }
  },
  "cells": [
    {
      "cell_type": "code",
      "metadata": {
        "id": "q3l11QxhFdhv",
        "colab_type": "code",
        "colab": {}
      },
      "source": [
        "import tensorflow as tf\n",
        "tf.set_random_seed(777)  # for reproducibility"
      ],
      "execution_count": 0,
      "outputs": []
    },
    {
      "cell_type": "code",
      "metadata": {
        "id": "rnFd9TKsFhaO",
        "colab_type": "code",
        "colab": {}
      },
      "source": [
        "x_data = [[1, 2, 1, 1],\n",
        "          [2, 1, 3, 2],\n",
        "          [3, 1, 3, 4],\n",
        "          [4, 1, 5, 5],\n",
        "          [1, 7, 5, 5],\n",
        "          [1, 2, 5, 6],\n",
        "          [1, 6, 6, 6],\n",
        "          [1, 7, 7, 7]]\n",
        "y_data = [[0, 0, 1],\n",
        "          [0, 0, 1],\n",
        "          [0, 0, 1],\n",
        "          [0, 1, 0],\n",
        "          [0, 1, 0],\n",
        "          [0, 1, 0],\n",
        "          [1, 0, 0],\n",
        "          [1, 0, 0]]\n",
        "\n",
        "#x_data shape: [8,4] y_data shape: [8,3]"
      ],
      "execution_count": 0,
      "outputs": []
    },
    {
      "cell_type": "code",
      "metadata": {
        "id": "lx517MWHFk9-",
        "colab_type": "code",
        "colab": {}
      },
      "source": [
        "X = tf.placeholder(\"float\", [None, 4])\n",
        "Y = tf.placeholder(\"float\", [None, 3])\n",
        "nb_classes = 3   #softmax에서 구분할 class 갯수 (y의 출력값)"
      ],
      "execution_count": 0,
      "outputs": []
    },
    {
      "cell_type": "code",
      "metadata": {
        "id": "hfbccY9yHTbe",
        "colab_type": "code",
        "colab": {
          "base_uri": "https://localhost:8080/",
          "height": 92
        },
        "outputId": "b2f9704b-1941-4259-b7f4-25b6a205b1a0"
      },
      "source": [
        "W = tf.Variable(tf.random_normal([4, nb_classes]), name='weight') #weight: 입력4, 출력3(class)\n",
        "b = tf.Variable(tf.random_normal([nb_classes]), name='bias')      #bias  : 출력3(class)"
      ],
      "execution_count": 8,
      "outputs": [
        {
          "output_type": "stream",
          "text": [
            "WARNING:tensorflow:From /usr/local/lib/python3.6/dist-packages/tensorflow/python/framework/op_def_library.py:263: colocate_with (from tensorflow.python.framework.ops) is deprecated and will be removed in a future version.\n",
            "Instructions for updating:\n",
            "Colocations handled automatically by placer.\n"
          ],
          "name": "stdout"
        }
      ]
    },
    {
      "cell_type": "code",
      "metadata": {
        "id": "dPR9iGvwHThx",
        "colab_type": "code",
        "colab": {}
      },
      "source": [
        "# tf.nn.softmax computes softmax activations\n",
        "# softmax = exp(logits) / reduce_sum(exp(logits), dim)\n",
        "hypothesis = tf.nn.softmax(tf.matmul(X, W) + b)"
      ],
      "execution_count": 0,
      "outputs": []
    },
    {
      "cell_type": "code",
      "metadata": {
        "id": "KNv1y-5bHklV",
        "colab_type": "code",
        "colab": {}
      },
      "source": [
        "# Cross entropy cost/loss\n",
        "cost = tf.reduce_mean(-tf.reduce_sum(Y * tf.log(hypothesis), axis=1)) # 수식에 맞춰서 계산"
      ],
      "execution_count": 0,
      "outputs": []
    },
    {
      "cell_type": "code",
      "metadata": {
        "id": "aKwPrY0AHtBe",
        "colab_type": "code",
        "colab": {
          "base_uri": "https://localhost:8080/",
          "height": 92
        },
        "outputId": "adcb52ab-857b-48ef-8129-86d9caed41a0"
      },
      "source": [
        "optimizer = tf.train.GradientDescentOptimizer(learning_rate=0.1).minimize(cost) # 경사하강법으로 cost를 최적"
      ],
      "execution_count": 11,
      "outputs": [
        {
          "output_type": "stream",
          "text": [
            "WARNING:tensorflow:From /usr/local/lib/python3.6/dist-packages/tensorflow/python/ops/math_ops.py:3066: to_int32 (from tensorflow.python.ops.math_ops) is deprecated and will be removed in a future version.\n",
            "Instructions for updating:\n",
            "Use tf.cast instead.\n"
          ],
          "name": "stdout"
        }
      ]
    },
    {
      "cell_type": "code",
      "metadata": {
        "id": "5U3CpSUNHksR",
        "colab_type": "code",
        "colab": {
          "base_uri": "https://localhost:8080/",
          "height": 399
        },
        "outputId": "9905ad7d-6c7f-45b5-a0cd-a076ec0c9853"
      },
      "source": [
        "\n",
        "# Launch graph\n",
        "with tf.Session() as sess:\n",
        "    sess.run(tf.global_variables_initializer())\n",
        "    # trainig\n",
        "    for step in range(2001):\n",
        "            _, cost_val = sess.run([optimizer, cost], feed_dict={X: x_data, Y: y_data})\n",
        "\n",
        "            if step % 200 == 0:\n",
        "                print(step, cost_val)\n",
        "              \n",
        "    # 최적화된 w,b에 대한 hypothesis를 가지고 테스트 진      \n",
        "    # Testing & One-hot encoding\n",
        "    print('--------------')\n",
        "    a = sess.run(hypothesis, feed_dict={X: [[1, 11, 7, 9]]})   #test data 입력\n",
        "    print(a, sess.run(tf.argmax(a, 1)))                        #softmax결과값에서 최대값을 출\n",
        "\n",
        "    print('--------------')\n",
        "    b = sess.run(hypothesis, feed_dict={X: [[1, 3, 4, 3]]})\n",
        "    print(b, sess.run(tf.argmax(b, 1)))\n",
        "\n",
        "    print('--------------')\n",
        "    c = sess.run(hypothesis, feed_dict={X: [[1, 1, 0, 1]]})\n",
        "    print(c, sess.run(tf.argmax(c, 1)))\n",
        "\n",
        "    print('--------------')\n",
        "    all = sess.run(hypothesis, feed_dict={X: [[1, 11, 7, 9], [1, 3, 4, 3], [1, 1, 0, 1]]})\n",
        "    print(all, sess.run(tf.argmax(all, 1))) # [1 0 2]"
      ],
      "execution_count": 15,
      "outputs": [
        {
          "output_type": "stream",
          "text": [
            "0 6.926112\n",
            "200 0.6005015\n",
            "400 0.47295794\n",
            "600 0.3734296\n",
            "800 0.28018382\n",
            "1000 0.23280518\n",
            "1200 0.21065344\n",
            "1400 0.19229898\n",
            "1600 0.17682318\n",
            "1800 0.16359559\n",
            "2000 0.15216145\n",
            "--------------\n",
            "[[1.3890372e-03 9.9860197e-01 9.0613012e-06]] [1]\n",
            "--------------\n",
            "[[0.93119216 0.062902   0.0059059 ]] [0]\n",
            "--------------\n",
            "[[1.2732767e-08 3.3411290e-04 9.9966586e-01]] [2]\n",
            "--------------\n",
            "[[1.3890372e-03 9.9860197e-01 9.0613012e-06]\n",
            " [9.3119216e-01 6.2902004e-02 5.9058964e-03]\n",
            " [1.2732768e-08 3.3411290e-04 9.9966586e-01]] [1 0 2]\n"
          ],
          "name": "stdout"
        }
      ]
    }
  ]
}