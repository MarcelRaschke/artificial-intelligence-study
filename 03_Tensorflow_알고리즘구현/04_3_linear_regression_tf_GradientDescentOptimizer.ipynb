{
  "nbformat": 4,
  "nbformat_minor": 0,
  "metadata": {
    "colab": {
      "name": "04_3_linear_regression_tf_GradientDescentOptimizer.ipynb",
      "version": "0.3.2",
      "provenance": []
    },
    "kernelspec": {
      "name": "python3",
      "display_name": "Python 3"
    }
  },
  "cells": [
    {
      "cell_type": "code",
      "metadata": {
        "id": "uBvXrIA0L6gH",
        "colab_type": "code",
        "colab": {
          "base_uri": "https://localhost:8080/",
          "height": 210
        },
        "outputId": "f0d46c22-f5ae-4847-869e-8e87bf2f6b6a"
      },
      "source": [
        "import tensorflow as tf\n",
        "import matplotlib.pyplot as plt\n",
        "\n",
        "X = [1, 2, 3]\n",
        "Y = [1, 2, 3]\n",
        "\n",
        "# Set wrong model weights\n",
        "W = tf.Variable(10.0)\n",
        "\n",
        "hypothesis = X * W\n",
        "\n",
        "cost = tf.reduce_mean(tf.square(hypothesis - Y))\n",
        "\n",
        "# Minimize: Gradient Descent Optimizer\n",
        "train = tf.train.GradientDescentOptimizer(learning_rate=0.1).minimize(cost)\n",
        "\n",
        "W_val_arr = []\n",
        "cost_val_arr = []\n",
        "with tf.Session() as sess:\n",
        "    # Initializes global variables in the graph.\n",
        "    sess.run(tf.global_variables_initializer())\n",
        "\n",
        "    for step in range(11):\n",
        "        sess.run(train)\n",
        "        W_val, cost_val = sess.run([W, cost])\n",
        "        print(step, W_val, cost_val)\n",
        "        \n",
        "        W_val_arr.append(W_val)\n",
        "        cost_val_arr.append(cost_val)"
      ],
      "execution_count": 15,
      "outputs": [
        {
          "output_type": "stream",
          "text": [
            "0 1.5999999 1.6799995\n",
            "1 1.04 0.007466653\n",
            "2 1.0026667 3.318631e-05\n",
            "3 1.0001777 1.473864e-07\n",
            "4 1.0000119 6.6317324e-10\n",
            "5 1.0000008 3.0553338e-12\n",
            "6 1.0000001 9.947598e-14\n",
            "7 1.0 0.0\n",
            "8 1.0 0.0\n",
            "9 1.0 0.0\n",
            "10 1.0 0.0\n"
          ],
          "name": "stdout"
        }
      ]
    },
    {
      "cell_type": "code",
      "metadata": {
        "id": "BMl8PKpjNXiz",
        "colab_type": "code",
        "colab": {
          "base_uri": "https://localhost:8080/",
          "height": 283
        },
        "outputId": "aeb003de-7ea1-43cb-c3fe-b307e3f9fb7b"
      },
      "source": [
        "plt.plot(W_val_arr, cost_val_arr)\n",
        "plt.xlabel('weight')\n",
        "plt.ylabel('cost')\n",
        "\n",
        "#goal : Find weight(W)_value for minimizing cost\n",
        "plt.show()"
      ],
      "execution_count": 16,
      "outputs": [
        {
          "output_type": "display_data",
          "data": {
            "image/png": "[encoded data removed]",
            "text/plain": [
              "<Figure size 432x288 with 1 Axes>"
            ]
          },
          "metadata": {
            "tags": []
          }
        }
      ]
    }
  ]
}