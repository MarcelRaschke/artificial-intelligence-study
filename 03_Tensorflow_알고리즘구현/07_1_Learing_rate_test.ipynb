{
  "nbformat": 4,
  "nbformat_minor": 0,
  "metadata": {
    "colab": {
      "name": "Untitled8.ipynb",
      "version": "0.3.2",
      "provenance": []
    },
    "kernelspec": {
      "name": "python3",
      "display_name": "Python 3"
    }
  },
  "cells": [
    {
      "cell_type": "code",
      "metadata": {
        "id": "HpUjUx4dWfrj",
        "colab_type": "code",
        "colab": {}
      },
      "source": [
        "import tensorflow as tf\n",
        "tf.set_random_seed(777)  # for reproducibility\n"
      ],
      "execution_count": 0,
      "outputs": []
    },
    {
      "cell_type": "code",
      "metadata": {
        "id": "AQpPxFfEW_fh",
        "colab_type": "code",
        "colab": {}
      },
      "source": [
        "\n",
        "x_data = [[1, 2, 1],\n",
        "          [1, 3, 2],\n",
        "          [1, 3, 4],\n",
        "          [1, 5, 5],\n",
        "          [1, 7, 5],\n",
        "          [1, 2, 5],\n",
        "          [1, 6, 6],\n",
        "          [1, 7, 7]]\n",
        "y_data = [[0, 0, 1],\n",
        "          [0, 0, 1],\n",
        "          [0, 0, 1],\n",
        "          [0, 1, 0],\n",
        "          [0, 1, 0],\n",
        "          [0, 1, 0],\n",
        "          [1, 0, 0],\n",
        "          [1, 0, 0]]\n",
        "\n",
        "# Evaluation our model using this test dataset\n",
        "x_test = [[2, 1, 1],\n",
        "          [3, 1, 2],\n",
        "          [3, 3, 4]]\n",
        "y_test = [[0, 0, 1],\n",
        "          [0, 0, 1],\n",
        "          [0, 0, 1]]\n"
      ],
      "execution_count": 0,
      "outputs": []
    },
    {
      "cell_type": "code",
      "metadata": {
        "id": "Ql_Wj6_jXT3d",
        "colab_type": "code",
        "colab": {
          "base_uri": "https://localhost:8080/",
          "height": 92
        },
        "outputId": "1c8f4b4f-438e-4b74-aca2-6214cf0d10cb"
      },
      "source": [
        "X = tf.placeholder(\"float\", [None, 3])\n",
        "Y = tf.placeholder(\"float\", [None, 3])\n",
        "\n",
        "W = tf.Variable(tf.random_normal([3, 3]))\n",
        "b = tf.Variable(tf.random_normal([3]))"
      ],
      "execution_count": 6,
      "outputs": [
        {
          "output_type": "stream",
          "text": [
            "WARNING:tensorflow:From /usr/local/lib/python3.6/dist-packages/tensorflow/python/framework/op_def_library.py:263: colocate_with (from tensorflow.python.framework.ops) is deprecated and will be removed in a future version.\n",
            "Instructions for updating:\n",
            "Colocations handled automatically by placer.\n"
          ],
          "name": "stdout"
        }
      ]
    },
    {
      "cell_type": "code",
      "metadata": {
        "id": "pnGk5bwrXceq",
        "colab_type": "code",
        "colab": {}
      },
      "source": [
        "\n",
        "# tf.nn.softmax computes softmax activations\n",
        "# softmax = exp(logits) / reduce_sum(exp(logits), dim)\n",
        "hypothesis = tf.nn.softmax(tf.matmul(X, W) + b)\n",
        "\n",
        "# Cross entropy cost/loss\n",
        "cost = tf.reduce_mean(-tf.reduce_sum(Y * tf.log(hypothesis), axis=1))\n",
        "# Try to change learning_rate to small numbers\n",
        "# 0.1:best, 1.5:big, small: 1e-10\n",
        "optimizer = tf.train.GradientDescentOptimizer(learning_rate=0.1).minimize(cost)"
      ],
      "execution_count": 0,
      "outputs": []
    },
    {
      "cell_type": "code",
      "metadata": {
        "id": "tvZhONLbXjCR",
        "colab_type": "code",
        "colab": {}
      },
      "source": [
        "\n",
        "# Correct prediction Test model\n",
        "prediction = tf.argmax(hypothesis, 1)\n",
        "is_correct = tf.equal(prediction, tf.argmax(Y, 1))\n",
        "accuracy = tf.reduce_mean(tf.cast(is_correct, tf.float32))"
      ],
      "execution_count": 0,
      "outputs": []
    },
    {
      "cell_type": "code",
      "metadata": {
        "id": "03HBHI6NXpVZ",
        "colab_type": "code",
        "colab": {
          "base_uri": "https://localhost:8080/",
          "height": 381
        },
        "outputId": "88b3fdf2-2a9a-405f-d4fe-59197ab3d18c"
      },
      "source": [
        "\n",
        "# Launch graph\n",
        "with tf.Session() as sess:\n",
        "    # Initialize TensorFlow variables\n",
        "    sess.run(tf.global_variables_initializer())\n",
        "\n",
        "    for step in range(201):\n",
        "        cost_val, W_val, _ = sess.run([cost, W, optimizer], feed_dict={X: x_data, Y: y_data})\n",
        "        if step % 40 == 0:\n",
        "          print(step, cost_val, W_val)\n",
        "\n",
        "    # predict\n",
        "    print(\"Prediction:\", sess.run(prediction, feed_dict={X: x_test}))\n",
        "    # Calculate the accuracy\n",
        "    print(\"Accuracy: \", sess.run(accuracy, feed_dict={X: x_test, Y: y_test}))"
      ],
      "execution_count": 20,
      "outputs": [
        {
          "output_type": "stream",
          "text": [
            "0 5.73203 [[ 0.7288166   0.71536213 -1.1801533 ]\n",
            " [-0.57753736 -0.12988332  1.6072978 ]\n",
            " [ 0.48373488 -0.51433605 -2.02127   ]]\n",
            "40 1.4070581 [[ 0.08632899  0.6441535  -0.4664571 ]\n",
            " [-0.27831444 -0.19541702  1.3736087 ]\n",
            " [-0.14105879 -0.16434796 -1.7464644 ]]\n",
            "80 1.0710084 [[-0.34550965  0.5168774   0.09265768]\n",
            " [ 0.01382137 -0.1167732   1.002829  ]\n",
            " [-0.28096503 -0.2181256  -1.5527804 ]]\n",
            "120 0.8621567 [[-0.6748464   0.4064304   0.5324417 ]\n",
            " [ 0.19237757  0.01887324  0.6886262 ]\n",
            " [-0.34947643 -0.32348004 -1.3789141 ]]\n",
            "160 0.7402976 [[-0.9389808   0.32821053  0.8747958 ]\n",
            " [ 0.3080351   0.12709346  0.46474844]\n",
            " [-0.37131408 -0.4019082  -1.278648  ]]\n",
            "200 0.6709087 [[-1.1588545   0.28058437  1.1422955 ]\n",
            " [ 0.376098    0.19073229  0.33304685]\n",
            " [-0.35536575 -0.44033214 -1.2561722 ]]\n",
            "Prediction: [2 2 2]\n",
            "Accuracy:  1.0\n"
          ],
          "name": "stdout"
        }
      ]
    }
  ]
}