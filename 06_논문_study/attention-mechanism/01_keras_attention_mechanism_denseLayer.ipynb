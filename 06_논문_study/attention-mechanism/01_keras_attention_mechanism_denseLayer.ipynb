{
  "nbformat": 4,
  "nbformat_minor": 0,
  "metadata": {
    "colab": {
      "name": "keras-attention-mechanism-denseLayer.ipynb",
      "provenance": [],
      "collapsed_sections": []
    },
    "kernelspec": {
      "name": "python3",
      "display_name": "Python 3"
    },
    "accelerator": "GPU"
  },
  "cells": [
    {
      "cell_type": "code",
      "metadata": {
        "id": "uxj08LQfK4Yp",
        "colab_type": "code",
        "outputId": "e2ad74ae-13e1-45f7-eaec-0a2db07261c7",
        "colab": {
          "base_uri": "https://localhost:8080/",
          "height": 35
        }
      },
      "source": [
        "#https://github.com/philipperemy/keras-attention-mechanism/blob/master/attention_dense.py\n",
        "\n",
        "!git clone https://github.com/philipperemy/keras-attention-mechanism.git"
      ],
      "execution_count": 1,
      "outputs": [
        {
          "output_type": "stream",
          "text": [
            "fatal: destination path 'keras-attention-mechanism' already exists and is not an empty directory.\n"
          ],
          "name": "stdout"
        }
      ]
    },
    {
      "cell_type": "code",
      "metadata": {
        "colab_type": "code",
        "outputId": "69eaf50d-6688-4f1c-f6bb-6adfe412069b",
        "id": "Kf7KnPxhMtt7",
        "colab": {
          "base_uri": "https://localhost:8080/",
          "height": 125
        }
      },
      "source": [
        "ls -alrt"
      ],
      "execution_count": 1,
      "outputs": [
        {
          "output_type": "stream",
          "text": [
            "total 20\n",
            "drwxr-xr-x 1 root root 4096 Oct 25 16:58 \u001b[0m\u001b[01;34msample_data\u001b[0m/\n",
            "drwxr-xr-x 1 root root 4096 Oct 29 15:16 \u001b[01;34m.config\u001b[0m/\n",
            "drwxr-xr-x 1 root root 4096 Oct 31 14:29 \u001b[01;34m..\u001b[0m/\n",
            "drwxr-xr-x 1 root root 4096 Oct 31 14:30 \u001b[01;34m.\u001b[0m/\n",
            "drwxr-xr-x 5 root root 4096 Oct 31 14:31 \u001b[01;34mkeras-attention-mechanism\u001b[0m/\n"
          ],
          "name": "stdout"
        }
      ]
    },
    {
      "cell_type": "code",
      "metadata": {
        "colab_type": "code",
        "outputId": "55022891-625b-429d-835c-ec51cffbf7a0",
        "id": "SeLTtTaZMs_t",
        "colab": {
          "base_uri": "https://localhost:8080/",
          "height": 35
        }
      },
      "source": [
        "cd keras-attention-mechanism"
      ],
      "execution_count": 2,
      "outputs": [
        {
          "output_type": "stream",
          "text": [
            "/content/keras-attention-mechanism\n"
          ],
          "name": "stdout"
        }
      ]
    },
    {
      "cell_type": "code",
      "metadata": {
        "id": "We-V2vv_LVEz",
        "colab_type": "code",
        "outputId": "5696862e-9272-4692-da9f-61cc1af3df7e",
        "colab": {
          "base_uri": "https://localhost:8080/",
          "height": 82
        }
      },
      "source": [
        "import numpy as np\n",
        "\n",
        "from attention_utils import get_activations, get_data\n",
        "\n",
        "np.random.seed(1337)  # for reproducibility\n",
        "from keras.models import *\n",
        "from keras.layers import Input, Dense, merge"
      ],
      "execution_count": 3,
      "outputs": [
        {
          "output_type": "stream",
          "text": [
            "Using TensorFlow backend.\n"
          ],
          "name": "stderr"
        },
        {
          "output_type": "display_data",
          "data": {
            "text/html": [
              "<p style=\"color: red;\">\n",
              "The default version of TensorFlow in Colab will soon switch to TensorFlow 2.x.<br>\n",
              "We recommend you <a href=\"https://www.tensorflow.org/guide/migrate\" target=\"_blank\">upgrade</a> now \n",
              "or ensure your notebook will continue to use TensorFlow 1.x via the <code>%tensorflow_version 1.x</code> magic:\n",
              "<a href=\"https://colab.research.google.com/notebooks/tensorflow_version.ipynb\" target=\"_blank\">more info</a>.</p>\n"
            ],
            "text/plain": [
              "<IPython.core.display.HTML object>"
            ]
          },
          "metadata": {
            "tags": []
          }
        }
      ]
    },
    {
      "cell_type": "code",
      "metadata": {
        "id": "n2CNYIKVNNGM",
        "colab_type": "code",
        "colab": {}
      },
      "source": [
        "input_dim = 32\n",
        "\n",
        "#from keras.layers import concatenate\n",
        "from keras.layers import multiply\n",
        "\n",
        "def build_model():\n",
        "    inputs = Input(shape=(input_dim,))\n",
        "\n",
        "    # ATTENTION PART STARTS HERE\n",
        "    attention_probs = Dense(input_dim, activation='softmax', name='attention_vec')(inputs)\n",
        "    #attention_mul = merge([inputs, attention_probs], output_shape=32, name='attention_mul', mode='mul')\n",
        "    #attention_mul = concatenate([inputs, attention_probs], name='attention_mul')\n",
        "    attention_mul = multiply([inputs, attention_probs], name='attention_mul')\n",
        "    print('attention_mul: ', attention_mul.shape)\n",
        "    # ATTENTION PART FINISHES HERE\n",
        "\n",
        "    attention_mul = Dense(64)(attention_mul)\n",
        "    output = Dense(1, activation='sigmoid')(attention_mul)\n",
        "    model = Model(input=[inputs], output=output)\n",
        "    return model\n"
      ],
      "execution_count": 0,
      "outputs": []
    },
    {
      "cell_type": "code",
      "metadata": {
        "id": "hBhab_hsNNTU",
        "colab_type": "code",
        "outputId": "42958648-0102-4497-8a3c-c078e441c4e0",
        "colab": {
          "base_uri": "https://localhost:8080/",
          "height": 1000
        }
      },
      "source": [
        "\n",
        "if __name__ == '__main__':\n",
        "    N = 10000\n",
        "    inputs_1, outputs = get_data(N, input_dim)\n",
        "\n",
        "    m = build_model()\n",
        "    m.compile(optimizer='adam', loss='binary_crossentropy', metrics=['accuracy'])\n",
        "    print(m.summary())\n",
        "\n",
        "    m.fit([inputs_1], outputs, epochs=20, batch_size=64, validation_split=0.5)\n",
        "\n",
        "    testing_inputs_1, testing_outputs = get_data(1, input_dim)\n",
        "\n",
        "    # Attention vector corresponds to the second matrix.\n",
        "    # The first one is the Inputs output.\n",
        "    attention_vector = get_activations(m, testing_inputs_1,\n",
        "                                       print_shape_only=True,\n",
        "                                       layer_name='attention_vec')[0].flatten()\n",
        "    print('attention =', attention_vector)\n",
        "\n"
      ],
      "execution_count": 6,
      "outputs": [
        {
          "output_type": "stream",
          "text": [
            "attention_mul:  (?, 32)\n",
            "Model: \"model_2\"\n",
            "__________________________________________________________________________________________________\n",
            "Layer (type)                    Output Shape         Param #     Connected to                     \n",
            "==================================================================================================\n",
            "input_2 (InputLayer)            (None, 32)           0                                            \n",
            "__________________________________________________________________________________________________\n",
            "attention_vec (Dense)           (None, 32)           1056        input_2[0][0]                    \n",
            "__________________________________________________________________________________________________\n",
            "attention_mul (Multiply)        (None, 32)           0           input_2[0][0]                    \n",
            "                                                                 attention_vec[0][0]              \n",
            "__________________________________________________________________________________________________\n",
            "dense_3 (Dense)                 (None, 64)           2112        attention_mul[0][0]              \n",
            "__________________________________________________________________________________________________\n",
            "dense_4 (Dense)                 (None, 1)            65          dense_3[0][0]                    \n",
            "==================================================================================================\n",
            "Total params: 3,233\n",
            "Trainable params: 3,233\n",
            "Non-trainable params: 0\n",
            "__________________________________________________________________________________________________\n",
            "None\n"
          ],
          "name": "stdout"
        },
        {
          "output_type": "stream",
          "text": [
            "/usr/local/lib/python3.6/dist-packages/ipykernel_launcher.py:19: UserWarning: Update your `Model` call to the Keras 2 API: `Model(inputs=[<tf.Tenso..., outputs=Tensor(\"de...)`\n"
          ],
          "name": "stderr"
        },
        {
          "output_type": "stream",
          "text": [
            "Train on 5000 samples, validate on 5000 samples\n",
            "Epoch 1/20\n",
            "5000/5000 [==============================] - 1s 158us/step - loss: 0.6886 - acc: 0.5530 - val_loss: 0.6799 - val_acc: 0.6328\n",
            "Epoch 2/20\n",
            "5000/5000 [==============================] - 1s 107us/step - loss: 0.6563 - acc: 0.7102 - val_loss: 0.6258 - val_acc: 0.7328\n",
            "Epoch 3/20\n",
            "5000/5000 [==============================] - 0s 100us/step - loss: 0.5691 - acc: 0.7680 - val_loss: 0.5218 - val_acc: 0.7854\n",
            "Epoch 4/20\n",
            "5000/5000 [==============================] - 1s 102us/step - loss: 0.4597 - acc: 0.8124 - val_loss: 0.4183 - val_acc: 0.8312\n",
            "Epoch 5/20\n",
            "5000/5000 [==============================] - 0s 97us/step - loss: 0.3542 - acc: 0.8668 - val_loss: 0.3072 - val_acc: 0.8852\n",
            "Epoch 6/20\n",
            "5000/5000 [==============================] - 1s 103us/step - loss: 0.2373 - acc: 0.9238 - val_loss: 0.1860 - val_acc: 0.9446\n",
            "Epoch 7/20\n",
            "5000/5000 [==============================] - 1s 104us/step - loss: 0.1225 - acc: 0.9718 - val_loss: 0.0812 - val_acc: 0.9848\n",
            "Epoch 8/20\n",
            "5000/5000 [==============================] - 1s 100us/step - loss: 0.0457 - acc: 0.9958 - val_loss: 0.0285 - val_acc: 0.9982\n",
            "Epoch 9/20\n",
            "5000/5000 [==============================] - 1s 104us/step - loss: 0.0163 - acc: 1.0000 - val_loss: 0.0120 - val_acc: 0.9992\n",
            "Epoch 10/20\n",
            "5000/5000 [==============================] - 1s 101us/step - loss: 0.0075 - acc: 1.0000 - val_loss: 0.0064 - val_acc: 0.9996\n",
            "Epoch 11/20\n",
            "5000/5000 [==============================] - 1s 102us/step - loss: 0.0043 - acc: 1.0000 - val_loss: 0.0041 - val_acc: 1.0000\n",
            "Epoch 12/20\n",
            "5000/5000 [==============================] - 1s 103us/step - loss: 0.0028 - acc: 1.0000 - val_loss: 0.0029 - val_acc: 1.0000\n",
            "Epoch 13/20\n",
            "5000/5000 [==============================] - 1s 102us/step - loss: 0.0020 - acc: 1.0000 - val_loss: 0.0022 - val_acc: 1.0000\n",
            "Epoch 14/20\n",
            "5000/5000 [==============================] - 1s 102us/step - loss: 0.0015 - acc: 1.0000 - val_loss: 0.0017 - val_acc: 1.0000\n",
            "Epoch 15/20\n",
            "5000/5000 [==============================] - 0s 98us/step - loss: 0.0012 - acc: 1.0000 - val_loss: 0.0014 - val_acc: 1.0000\n",
            "Epoch 16/20\n",
            "5000/5000 [==============================] - 1s 109us/step - loss: 9.7788e-04 - acc: 1.0000 - val_loss: 0.0011 - val_acc: 1.0000\n",
            "Epoch 17/20\n",
            "5000/5000 [==============================] - 1s 102us/step - loss: 8.1548e-04 - acc: 1.0000 - val_loss: 9.4520e-04 - val_acc: 1.0000\n",
            "Epoch 18/20\n",
            "5000/5000 [==============================] - 1s 106us/step - loss: 6.9147e-04 - acc: 1.0000 - val_loss: 8.0575e-04 - val_acc: 1.0000\n",
            "Epoch 19/20\n",
            "5000/5000 [==============================] - 1s 103us/step - loss: 5.9552e-04 - acc: 1.0000 - val_loss: 6.9875e-04 - val_acc: 1.0000\n",
            "Epoch 20/20\n",
            "5000/5000 [==============================] - 1s 101us/step - loss: 5.1902e-04 - acc: 1.0000 - val_loss: 6.1027e-04 - val_acc: 1.0000\n",
            "----- activations -----\n",
            "(1, 32)\n",
            "attention = [0.01584623 0.50442046 0.00728008 0.00749143 0.0086057  0.01675463\n",
            " 0.01416462 0.00658399 0.01105441 0.02209632 0.02595867 0.00837411\n",
            " 0.02975415 0.01808787 0.02363616 0.01063803 0.02352157 0.0378826\n",
            " 0.01282009 0.0097119  0.00548849 0.0080012  0.05293369 0.00945421\n",
            " 0.01528526 0.01152731 0.01068541 0.01384763 0.00808688 0.02873204\n",
            " 0.01186667 0.00940813]\n"
          ],
          "name": "stdout"
        }
      ]
    },
    {
      "cell_type": "code",
      "metadata": {
        "id": "FdiukVRPTrPp",
        "colab_type": "code",
        "colab": {
          "base_uri": "https://localhost:8080/",
          "height": 284
        },
        "outputId": "70b6079b-008f-4793-d17e-168b4751e6fd"
      },
      "source": [
        "    # plot part.\n",
        "    import matplotlib.pyplot as plt\n",
        "    import pandas as pd\n",
        "\n",
        "    pd.DataFrame(attention_vector, columns=['attention (%)']).plot(kind='bar',\n",
        "                                                                   title='Attention Mechanism as '\n",
        "                                                                         'a function of input'\n",
        "                                                                         ' dimensions.')\n",
        "    plt.show()"
      ],
      "execution_count": 7,
      "outputs": [
        {
          "output_type": "display_data",
          "data": {
            "image/png": "[encoded data removed]",
            "text/plain": [
              "<Figure size 432x288 with 1 Axes>"
            ]
          },
          "metadata": {
            "tags": []
          }
        }
      ]
    }
  ]
}