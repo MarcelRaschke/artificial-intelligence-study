{
  "nbformat": 4,
  "nbformat_minor": 0,
  "metadata": {
    "colab": {
      "name": "GPT-3_Test_20200812.ipynb",
      "provenance": [],
      "collapsed_sections": []
    },
    "kernelspec": {
      "name": "python3",
      "display_name": "Python 3"
    },
    "accelerator": "GPU"
  },
  "cells": [
    {
      "cell_type": "code",
      "metadata": {
        "id": "7gs9k-Bpgew0",
        "colab_type": "code",
        "colab": {}
      },
      "source": [
        "# https://github.com/minimaxir/gpt-3-experiments"
      ],
      "execution_count": null,
      "outputs": []
    },
    {
      "cell_type": "code",
      "metadata": {
        "id": "uOp-FzVAjG1f",
        "colab_type": "code",
        "colab": {
          "base_uri": "https://localhost:8080/",
          "height": 53
        },
        "outputId": "c0b60cb8-4e6e-451a-8463-b4aefe7163c1"
      },
      "source": [
        "%tensorflow_version 1.x\n",
        "import tensorflow\n",
        "print(tensorflow.__version__)"
      ],
      "execution_count": null,
      "outputs": [
        {
          "output_type": "stream",
          "text": [
            "TensorFlow 1.x selected.\n",
            "1.15.2\n"
          ],
          "name": "stdout"
        }
      ]
    },
    {
      "cell_type": "code",
      "metadata": {
        "id": "ryVZsqSdg23j",
        "colab_type": "code",
        "colab": {
          "base_uri": "https://localhost:8080/",
          "height": 143
        },
        "outputId": "25805e76-07e5-4484-a097-c70bc32747e2"
      },
      "source": [
        "!git clone https://github.com/minimaxir/gpt-3-experiments"
      ],
      "execution_count": null,
      "outputs": [
        {
          "output_type": "stream",
          "text": [
            "Cloning into 'gpt-3-experiments'...\n",
            "remote: Enumerating objects: 301, done.\u001b[K\n",
            "remote: Counting objects: 100% (301/301), done.\u001b[K\n",
            "remote: Compressing objects: 100% (225/225), done.\u001b[K\n",
            "remote: Total 301 (delta 129), reused 241 (delta 69), pack-reused 0\u001b[K\n",
            "Receiving objects: 100% (301/301), 440.77 KiB | 10.75 MiB/s, done.\n",
            "Resolving deltas: 100% (129/129), done.\n"
          ],
          "name": "stdout"
        }
      ]
    },
    {
      "cell_type": "code",
      "metadata": {
        "id": "5cxsCKSqhWX2",
        "colab_type": "code",
        "colab": {
          "base_uri": "https://localhost:8080/",
          "height": 125
        },
        "outputId": "d937c55b-5241-4ecb-a85c-accccd772534"
      },
      "source": [
        "ls -alrt"
      ],
      "execution_count": null,
      "outputs": [
        {
          "output_type": "stream",
          "text": [
            "total 20\n",
            "drwxr-xr-x 1 root root 4096 Jul 30 16:30 \u001b[0m\u001b[01;34msample_data\u001b[0m/\n",
            "drwxr-xr-x 1 root root 4096 Aug 10 21:25 \u001b[01;34m.config\u001b[0m/\n",
            "drwxr-xr-x 1 root root 4096 Aug 11 21:53 \u001b[01;34m..\u001b[0m/\n",
            "drwxr-xr-x 1 root root 4096 Aug 11 22:03 \u001b[01;34m.\u001b[0m/\n",
            "drwxr-xr-x 4 root root 4096 Aug 11 22:03 \u001b[01;34mgpt-3-experiments\u001b[0m/\n"
          ],
          "name": "stdout"
        }
      ]
    },
    {
      "cell_type": "code",
      "metadata": {
        "id": "Wt3cc5HRhYIw",
        "colab_type": "code",
        "colab": {
          "base_uri": "https://localhost:8080/",
          "height": 35
        },
        "outputId": "34a2d532-86a6-4707-d1f0-735eef5d6cd5"
      },
      "source": [
        "cd gpt-3-experiments/"
      ],
      "execution_count": null,
      "outputs": [
        {
          "output_type": "stream",
          "text": [
            "/content/gpt-3-experiments\n"
          ],
          "name": "stdout"
        }
      ]
    },
    {
      "cell_type": "code",
      "metadata": {
        "id": "N8yMGkeBgjPW",
        "colab_type": "code",
        "colab": {
          "base_uri": "https://localhost:8080/",
          "height": 521
        },
        "outputId": "358461bb-ffeb-451e-d2e1-6ffee098f5f0"
      },
      "source": [
        "!pip3 install httpx"
      ],
      "execution_count": null,
      "outputs": [
        {
          "output_type": "stream",
          "text": [
            "Collecting httpx\n",
            "\u001b[?25l  Downloading https://files.pythonhosted.org/packages/51/0a/0bb49284306076721715b6d131e342aabdaada1e7675b564ccaa61322d8a/httpx-0.14.1-py3-none-any.whl (60kB)\n",
            "\r\u001b[K     |█████▍                          | 10kB 24.0MB/s eta 0:00:01\r\u001b[K     |██████████▉                     | 20kB 2.9MB/s eta 0:00:01\r\u001b[K     |████████████████▏               | 30kB 3.8MB/s eta 0:00:01\r\u001b[K     |█████████████████████▋          | 40kB 4.2MB/s eta 0:00:01\r\u001b[K     |███████████████████████████     | 51kB 3.3MB/s eta 0:00:01\r\u001b[K     |████████████████████████████████| 61kB 2.1MB/s \n",
            "\u001b[?25hCollecting rfc3986<2,>=1.3\n",
            "  Downloading https://files.pythonhosted.org/packages/78/be/7b8b99fd74ff5684225f50dd0e865393d2265656ef3b4ba9eaaaffe622b8/rfc3986-1.4.0-py2.py3-none-any.whl\n",
            "Requirement already satisfied: chardet==3.* in /usr/local/lib/python3.6/dist-packages (from httpx) (3.0.4)\n",
            "Collecting sniffio\n",
            "  Downloading https://files.pythonhosted.org/packages/b3/82/4bd4b7d9c0d1dc0fbfbc2a1e00138e7f3ab85bc239358fe9b78aa2ab586d/sniffio-1.1.0-py3-none-any.whl\n",
            "Requirement already satisfied: certifi in /usr/local/lib/python3.6/dist-packages (from httpx) (2020.6.20)\n",
            "Requirement already satisfied: idna==2.* in /usr/local/lib/python3.6/dist-packages (from httpx) (2.10)\n",
            "Collecting httpcore==0.10.*\n",
            "\u001b[?25l  Downloading https://files.pythonhosted.org/packages/61/db/361503482fe727a6628bda004bf70afab90a8a934dc248d44e6f6cd81167/httpcore-0.10.1-py3-none-any.whl (47kB)\n",
            "\u001b[K     |████████████████████████████████| 51kB 7.7MB/s \n",
            "\u001b[?25hCollecting contextvars>=2.1; python_version < \"3.7\"\n",
            "  Downloading https://files.pythonhosted.org/packages/83/96/55b82d9f13763be9d672622e1b8106c85acb83edd7cc2fa5bc67cd9877e9/contextvars-2.4.tar.gz\n",
            "Collecting h11<0.10,>=0.8\n",
            "\u001b[?25l  Downloading https://files.pythonhosted.org/packages/5a/fd/3dad730b0f95e78aeeb742f96fa7bbecbdd56a58e405d3da440d5bfb90c6/h11-0.9.0-py2.py3-none-any.whl (53kB)\n",
            "\u001b[K     |████████████████████████████████| 61kB 8.5MB/s \n",
            "\u001b[?25hCollecting immutables>=0.9\n",
            "\u001b[?25l  Downloading https://files.pythonhosted.org/packages/99/e0/ea6fd4697120327d26773b5a84853f897a68e33d3f9376b00a8ff96e4f63/immutables-0.14-cp36-cp36m-manylinux1_x86_64.whl (98kB)\n",
            "\u001b[K     |████████████████████████████████| 102kB 11.0MB/s \n",
            "\u001b[?25hBuilding wheels for collected packages: contextvars\n",
            "  Building wheel for contextvars (setup.py) ... \u001b[?25l\u001b[?25hdone\n",
            "  Created wheel for contextvars: filename=contextvars-2.4-cp36-none-any.whl size=7666 sha256=49de3af8a801d6e6ccebd6ace38f9dff943045fdb48c313e420fd56b7af01149\n",
            "  Stored in directory: /root/.cache/pip/wheels/a5/7d/68/1ebae2668bda2228686e3c1cf16f2c2384cea6e9334ad5f6de\n",
            "Successfully built contextvars\n",
            "Installing collected packages: rfc3986, immutables, contextvars, sniffio, h11, httpcore, httpx\n",
            "Successfully installed contextvars-2.4 h11-0.9.0 httpcore-0.10.1 httpx-0.14.1 immutables-0.14 rfc3986-1.4.0 sniffio-1.1.0\n"
          ],
          "name": "stdout"
        }
      ]
    },
    {
      "cell_type": "code",
      "metadata": {
        "id": "JtYIA3EAiCKf",
        "colab_type": "code",
        "colab": {
          "base_uri": "https://localhost:8080/",
          "height": 35
        },
        "outputId": "b27e556c-7bbb-4b55-97b5-4e5bfcab215c"
      },
      "source": [
        "!pip3 install pyyaml"
      ],
      "execution_count": null,
      "outputs": [
        {
          "output_type": "stream",
          "text": [
            "Requirement already satisfied: pyyaml in /usr/local/lib/python3.6/dist-packages (3.13)\n"
          ],
          "name": "stdout"
        }
      ]
    },
    {
      "cell_type": "code",
      "metadata": {
        "id": "DjnIsy4-iEun",
        "colab_type": "code",
        "colab": {
          "base_uri": "https://localhost:8080/",
          "height": 233
        },
        "outputId": "2bac5842-be49-442e-cb2c-6176165d854d"
      },
      "source": [
        "!pip3 install fire"
      ],
      "execution_count": null,
      "outputs": [
        {
          "output_type": "stream",
          "text": [
            "Collecting fire\n",
            "\u001b[?25l  Downloading https://files.pythonhosted.org/packages/34/a7/0e22e70778aca01a52b9c899d9c145c6396d7b613719cd63db97ffa13f2f/fire-0.3.1.tar.gz (81kB)\n",
            "\r\u001b[K     |████                            | 10kB 22.5MB/s eta 0:00:01\r\u001b[K     |████████                        | 20kB 3.1MB/s eta 0:00:01\r\u001b[K     |████████████▏                   | 30kB 4.1MB/s eta 0:00:01\r\u001b[K     |████████████████▏               | 40kB 4.4MB/s eta 0:00:01\r\u001b[K     |████████████████████▏           | 51kB 3.5MB/s eta 0:00:01\r\u001b[K     |████████████████████████▎       | 61kB 4.0MB/s eta 0:00:01\r\u001b[K     |████████████████████████████▎   | 71kB 4.4MB/s eta 0:00:01\r\u001b[K     |████████████████████████████████| 81kB 3.5MB/s \n",
            "\u001b[?25hRequirement already satisfied: six in /usr/local/lib/python3.6/dist-packages (from fire) (1.15.0)\n",
            "Requirement already satisfied: termcolor in /usr/local/lib/python3.6/dist-packages (from fire) (1.1.0)\n",
            "Building wheels for collected packages: fire\n",
            "  Building wheel for fire (setup.py) ... \u001b[?25l\u001b[?25hdone\n",
            "  Created wheel for fire: filename=fire-0.3.1-py2.py3-none-any.whl size=111005 sha256=927857f9a3b391b2086303be83083d28db9a6ebb2aecb132f5dceccb7a41a2b8\n",
            "  Stored in directory: /root/.cache/pip/wheels/c1/61/df/768b03527bf006b546dce284eb4249b185669e65afc5fbb2ac\n",
            "Successfully built fire\n",
            "Installing collected packages: fire\n",
            "Successfully installed fire-0.3.1\n"
          ],
          "name": "stdout"
        }
      ]
    },
    {
      "cell_type": "code",
      "metadata": {
        "id": "klkEuNO-iHPQ",
        "colab_type": "code",
        "colab": {
          "base_uri": "https://localhost:8080/",
          "height": 35
        },
        "outputId": "6011b16a-1a55-4cf5-ffd9-660a2e064f6c"
      },
      "source": [
        " !pip3 install tqdm"
      ],
      "execution_count": null,
      "outputs": [
        {
          "output_type": "stream",
          "text": [
            "Requirement already satisfied: tqdm in /usr/local/lib/python3.6/dist-packages (4.41.1)\n"
          ],
          "name": "stdout"
        }
      ]
    },
    {
      "cell_type": "code",
      "metadata": {
        "id": "YzGDpfcHgjV1",
        "colab_type": "code",
        "colab": {
          "base_uri": "https://localhost:8080/",
          "height": 35
        },
        "outputId": "ecb56516-78b4-41c0-873d-6595fcfa39f9"
      },
      "source": [
        "!python --version"
      ],
      "execution_count": null,
      "outputs": [
        {
          "output_type": "stream",
          "text": [
            "Python 3.6.9\n"
          ],
          "name": "stdout"
        }
      ]
    },
    {
      "cell_type": "code",
      "metadata": {
        "id": "fYaCZsxTgjRm",
        "colab_type": "code",
        "colab": {
          "base_uri": "https://localhost:8080/",
          "height": 154
        },
        "outputId": "856e5269-9133-443f-f764-f414b6fabcbf"
      },
      "source": [
        "!python3 openai_api.py \"Digital trade logistics document distribution platform in one word?\" --markdown False"
      ],
      "execution_count": null,
      "outputs": [
        {
          "output_type": "stream",
          "text": [
            "08/11/2020 22:38:03 — INFO — gpt3-experiments — GPT-3 Model Prompt: Digital trade logistics document distribution platform in one word?.\n",
            "08/11/2020 22:38:03 — INFO — gpt3-experiments — Writing 1 sample at temperature 0.0 to output_0_0.txt.\n",
            "100% 1/1 [00:30<00:00, 30.41s/it]\n",
            "08/11/2020 22:38:33 — INFO — gpt3-experiments — Writing 10 samples at temperature 0.7 to output_0_7.txt.\n",
            "100% 10/10 [05:04<00:00, 30.47s/it]\n",
            "08/11/2020 22:43:38 — INFO — gpt3-experiments — Writing 10 samples at temperature 1.0 to output_1_0.txt.\n",
            " 20% 2/10 [01:00<04:03, 30.44s/it]"
          ],
          "name": "stdout"
        }
      ]
    },
    {
      "cell_type": "code",
      "metadata": {
        "id": "o8O3WLJfla-C",
        "colab_type": "code",
        "colab": {}
      },
      "source": [
        "ls -alrt"
      ],
      "execution_count": null,
      "outputs": []
    }
  ]
}