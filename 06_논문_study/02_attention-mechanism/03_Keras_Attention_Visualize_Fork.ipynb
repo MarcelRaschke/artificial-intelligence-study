{
  "nbformat": 4,
  "nbformat_minor": 0,
  "metadata": {
    "colab": {
      "name": "Keras-Attention-Visualize-Fork.ipynb",
      "provenance": [],
      "collapsed_sections": []
    },
    "kernelspec": {
      "name": "python3",
      "display_name": "Python 3"
    },
    "accelerator": "GPU"
  },
  "cells": [
    {
      "cell_type": "code",
      "metadata": {
        "id": "nNRdqf86o3Lu",
        "colab_type": "code",
        "colab": {
          "base_uri": "https://localhost:8080/",
          "height": 143
        },
        "outputId": "73094e14-cf9d-4fa2-d6d0-977c142ec175"
      },
      "source": [
        "#https://github.com/likejazz/jupyter-notebooks/tree/master/deep-learning/keras-attention\n",
        "#>> https://github.com/datalogue/keras-attention.git\n",
        "\n",
        "!git clone https://github.com/jukyellow/keras-attention.git"
      ],
      "execution_count": 1,
      "outputs": [
        {
          "output_type": "stream",
          "text": [
            "Cloning into 'keras-attention'...\n",
            "remote: Enumerating objects: 3, done.\u001b[K\n",
            "remote: Counting objects: 100% (3/3), done.\u001b[K\n",
            "remote: Compressing objects: 100% (3/3), done.\u001b[K\n",
            "remote: Total 146 (delta 0), reused 0 (delta 0), pack-reused 143\u001b[K\n",
            "Receiving objects: 100% (146/146), 15.62 MiB | 20.05 MiB/s, done.\n",
            "Resolving deltas: 100% (56/56), done.\n"
          ],
          "name": "stdout"
        }
      ]
    },
    {
      "cell_type": "code",
      "metadata": {
        "id": "Gpf4FCHspulb",
        "colab_type": "code",
        "colab": {
          "base_uri": "https://localhost:8080/",
          "height": 125
        },
        "outputId": "1edab8c7-73e9-46df-9c45-fd9bcafcb896"
      },
      "source": [
        "ls -alrt"
      ],
      "execution_count": 3,
      "outputs": [
        {
          "output_type": "stream",
          "text": [
            "total 20\n",
            "drwxr-xr-x 1 root root 4096 Oct 25 16:58 \u001b[0m\u001b[01;34msample_data\u001b[0m/\n",
            "drwxr-xr-x 1 root root 4096 Oct 30 15:14 \u001b[01;34m.config\u001b[0m/\n",
            "drwxr-xr-x 1 root root 4096 Oct 31 15:54 \u001b[01;34m..\u001b[0m/\n",
            "drwxr-xr-x 1 root root 4096 Oct 31 16:45 \u001b[01;34m.\u001b[0m/\n",
            "drwxr-xr-x 7 root root 4096 Oct 31 16:45 \u001b[01;34mkeras-attention\u001b[0m/\n"
          ],
          "name": "stdout"
        }
      ]
    },
    {
      "cell_type": "code",
      "metadata": {
        "id": "T0iMOqCLpxAc",
        "colab_type": "code",
        "colab": {
          "base_uri": "https://localhost:8080/",
          "height": 35
        },
        "outputId": "14ffc286-6ad2-4f6d-d3e1-4ab4a6619925"
      },
      "source": [
        "cd keras-attention"
      ],
      "execution_count": 2,
      "outputs": [
        {
          "output_type": "stream",
          "text": [
            "/content/keras-attention\n"
          ],
          "name": "stdout"
        }
      ]
    },
    {
      "cell_type": "code",
      "metadata": {
        "id": "3I2ykBDmo4I4",
        "colab_type": "code",
        "colab": {}
      },
      "source": [
        "#!pip install -r requirements-gpu.txt"
      ],
      "execution_count": 0,
      "outputs": []
    },
    {
      "cell_type": "code",
      "metadata": {
        "id": "7hUC-UxSo4P2",
        "colab_type": "code",
        "colab": {
          "base_uri": "https://localhost:8080/",
          "height": 683
        },
        "outputId": "0a396766-cd3d-4d93-e1be-fa51e3ba6687"
      },
      "source": [
        "!pip install -r requirements.txt"
      ],
      "execution_count": 3,
      "outputs": [
        {
          "output_type": "stream",
          "text": [
            "Requirement already satisfied: numpy in /usr/local/lib/python3.6/dist-packages (from -r requirements.txt (line 1)) (1.17.3)\n",
            "Requirement already satisfied: babel>=1.3 in /usr/local/lib/python3.6/dist-packages (from -r requirements.txt (line 2)) (2.7.0)\n",
            "Requirement already satisfied: tensorflow>=1.1.0 in /usr/local/lib/python3.6/dist-packages (from -r requirements.txt (line 3)) (1.15.0)\n",
            "Requirement already satisfied: keras>=2.0.4 in /usr/local/lib/python3.6/dist-packages (from -r requirements.txt (line 4)) (2.2.5)\n",
            "Requirement already satisfied: h5py in /usr/local/lib/python3.6/dist-packages (from -r requirements.txt (line 5)) (2.8.0)\n",
            "Collecting Faker\n",
            "\u001b[?25l  Downloading https://files.pythonhosted.org/packages/d4/ed/2fd5337ed405c4258dde1254e60f4e8ef9f1787576c0a2cd0d750b1716a6/Faker-2.0.3-py2.py3-none-any.whl (892kB)\n",
            "\u001b[K     |████████████████████████████████| 901kB 5.1MB/s \n",
            "\u001b[?25hRequirement already satisfied: matplotlib>=2.0.2 in /usr/local/lib/python3.6/dist-packages (from -r requirements.txt (line 7)) (3.1.1)\n",
            "Requirement already satisfied: pytz>=2015.7 in /usr/local/lib/python3.6/dist-packages (from babel>=1.3->-r requirements.txt (line 2)) (2018.9)\n",
            "Requirement already satisfied: google-pasta>=0.1.6 in /usr/local/lib/python3.6/dist-packages (from tensorflow>=1.1.0->-r requirements.txt (line 3)) (0.1.7)\n",
            "Requirement already satisfied: tensorboard<1.16.0,>=1.15.0 in /usr/local/lib/python3.6/dist-packages (from tensorflow>=1.1.0->-r requirements.txt (line 3)) (1.15.0)\n",
            "Requirement already satisfied: gast==0.2.2 in /usr/local/lib/python3.6/dist-packages (from tensorflow>=1.1.0->-r requirements.txt (line 3)) (0.2.2)\n",
            "Requirement already satisfied: keras-preprocessing>=1.0.5 in /usr/local/lib/python3.6/dist-packages (from tensorflow>=1.1.0->-r requirements.txt (line 3)) (1.1.0)\n",
            "Requirement already satisfied: termcolor>=1.1.0 in /usr/local/lib/python3.6/dist-packages (from tensorflow>=1.1.0->-r requirements.txt (line 3)) (1.1.0)\n",
            "Requirement already satisfied: absl-py>=0.7.0 in /usr/local/lib/python3.6/dist-packages (from tensorflow>=1.1.0->-r requirements.txt (line 3)) (0.8.1)\n",
            "Requirement already satisfied: six>=1.10.0 in /usr/local/lib/python3.6/dist-packages (from tensorflow>=1.1.0->-r requirements.txt (line 3)) (1.12.0)\n",
            "Requirement already satisfied: astor>=0.6.0 in /usr/local/lib/python3.6/dist-packages (from tensorflow>=1.1.0->-r requirements.txt (line 3)) (0.8.0)\n",
            "Requirement already satisfied: protobuf>=3.6.1 in /usr/local/lib/python3.6/dist-packages (from tensorflow>=1.1.0->-r requirements.txt (line 3)) (3.10.0)\n",
            "Requirement already satisfied: wrapt>=1.11.1 in /usr/local/lib/python3.6/dist-packages (from tensorflow>=1.1.0->-r requirements.txt (line 3)) (1.11.2)\n",
            "Requirement already satisfied: grpcio>=1.8.6 in /usr/local/lib/python3.6/dist-packages (from tensorflow>=1.1.0->-r requirements.txt (line 3)) (1.15.0)\n",
            "Requirement already satisfied: opt-einsum>=2.3.2 in /usr/local/lib/python3.6/dist-packages (from tensorflow>=1.1.0->-r requirements.txt (line 3)) (3.1.0)\n",
            "Requirement already satisfied: tensorflow-estimator==1.15.1 in /usr/local/lib/python3.6/dist-packages (from tensorflow>=1.1.0->-r requirements.txt (line 3)) (1.15.1)\n",
            "Requirement already satisfied: wheel>=0.26 in /usr/local/lib/python3.6/dist-packages (from tensorflow>=1.1.0->-r requirements.txt (line 3)) (0.33.6)\n",
            "Requirement already satisfied: keras-applications>=1.0.8 in /usr/local/lib/python3.6/dist-packages (from tensorflow>=1.1.0->-r requirements.txt (line 3)) (1.0.8)\n",
            "Requirement already satisfied: pyyaml in /usr/local/lib/python3.6/dist-packages (from keras>=2.0.4->-r requirements.txt (line 4)) (3.13)\n",
            "Requirement already satisfied: scipy>=0.14 in /usr/local/lib/python3.6/dist-packages (from keras>=2.0.4->-r requirements.txt (line 4)) (1.3.1)\n",
            "Requirement already satisfied: python-dateutil>=2.4 in /usr/local/lib/python3.6/dist-packages (from Faker->-r requirements.txt (line 6)) (2.6.1)\n",
            "Requirement already satisfied: text-unidecode==1.3 in /usr/local/lib/python3.6/dist-packages (from Faker->-r requirements.txt (line 6)) (1.3)\n",
            "Requirement already satisfied: cycler>=0.10 in /usr/local/lib/python3.6/dist-packages (from matplotlib>=2.0.2->-r requirements.txt (line 7)) (0.10.0)\n",
            "Requirement already satisfied: pyparsing!=2.0.4,!=2.1.2,!=2.1.6,>=2.0.1 in /usr/local/lib/python3.6/dist-packages (from matplotlib>=2.0.2->-r requirements.txt (line 7)) (2.4.2)\n",
            "Requirement already satisfied: kiwisolver>=1.0.1 in /usr/local/lib/python3.6/dist-packages (from matplotlib>=2.0.2->-r requirements.txt (line 7)) (1.1.0)\n",
            "Requirement already satisfied: setuptools>=41.0.0 in /usr/local/lib/python3.6/dist-packages (from tensorboard<1.16.0,>=1.15.0->tensorflow>=1.1.0->-r requirements.txt (line 3)) (41.4.0)\n",
            "Requirement already satisfied: markdown>=2.6.8 in /usr/local/lib/python3.6/dist-packages (from tensorboard<1.16.0,>=1.15.0->tensorflow>=1.1.0->-r requirements.txt (line 3)) (3.1.1)\n",
            "Requirement already satisfied: werkzeug>=0.11.15 in /usr/local/lib/python3.6/dist-packages (from tensorboard<1.16.0,>=1.15.0->tensorflow>=1.1.0->-r requirements.txt (line 3)) (0.16.0)\n",
            "Installing collected packages: Faker\n",
            "Successfully installed Faker-2.0.3\n"
          ],
          "name": "stdout"
        }
      ]
    },
    {
      "cell_type": "code",
      "metadata": {
        "id": "_v7xlzOOqKv2",
        "colab_type": "code",
        "colab": {
          "base_uri": "https://localhost:8080/",
          "height": 323
        },
        "outputId": "bee7a124-25ea-40f3-dd28-76e4f9022b2b"
      },
      "source": [
        "ls -alrt"
      ],
      "execution_count": 6,
      "outputs": [
        {
          "output_type": "stream",
          "text": [
            "total 100\n",
            "drwxr-xr-x 1 root root  4096 Oct 31 16:45 \u001b[0m\u001b[01;34m..\u001b[0m/\n",
            "-rw-r--r-- 1 root root 34520 Oct 31 16:45 LICENSE\n",
            "-rw-r--r-- 1 root root  1157 Oct 31 16:45 .gitignore\n",
            "-rw-r--r-- 1 root root  3968 Oct 31 16:45 run.py\n",
            "-rw-r--r-- 1 root root    76 Oct 31 16:45 requirements.txt\n",
            "-rw-r--r-- 1 root root    80 Oct 31 16:45 requirements-gpu.txt\n",
            "-rw-r--r-- 1 root root  4329 Oct 31 16:45 README.md\n",
            "drwxr-xr-x 2 root root  4096 Oct 31 16:45 \u001b[01;34mmodels\u001b[0m/\n",
            "-rw-r--r-- 1 root root     0 Oct 31 16:45 __init__.py\n",
            "-rw-r--r-- 1 root root   140 Oct 31 16:45 examples.txt\n",
            "drwxr-xr-x 2 root root  4096 Oct 31 16:45 \u001b[01;34mdata\u001b[0m/\n",
            "drwxr-xr-x 2 root root  4096 Oct 31 16:45 \u001b[01;34mweights\u001b[0m/\n",
            "-rw-r--r-- 1 root root  6341 Oct 31 16:45 visualize.py\n",
            "drwxr-xr-x 2 root root  4096 Oct 31 16:45 \u001b[01;34mutils\u001b[0m/\n",
            "drwxr-xr-x 7 root root  4096 Oct 31 16:45 \u001b[01;34m.\u001b[0m/\n",
            "drwxr-xr-x 8 root root  4096 Oct 31 16:45 \u001b[01;34m.git\u001b[0m/\n"
          ],
          "name": "stdout"
        }
      ]
    },
    {
      "cell_type": "code",
      "metadata": {
        "id": "SwpXnrkOqSLg",
        "colab_type": "code",
        "colab": {
          "base_uri": "https://localhost:8080/",
          "height": 35
        },
        "outputId": "379f2048-5d3e-4e9c-83cf-90386bbf42bc"
      },
      "source": [
        "cd data"
      ],
      "execution_count": 4,
      "outputs": [
        {
          "output_type": "stream",
          "text": [
            "/content/keras-attention/data\n"
          ],
          "name": "stdout"
        }
      ]
    },
    {
      "cell_type": "code",
      "metadata": {
        "id": "5v6a6nrmpGga",
        "colab_type": "code",
        "colab": {
          "base_uri": "https://localhost:8080/",
          "height": 53
        },
        "outputId": "386be609-a7f2-4578-ed07-9dbbc40f0793"
      },
      "source": [
        "!python generate.py"
      ],
      "execution_count": 5,
      "outputs": [
        {
          "output_type": "stream",
          "text": [
            "creating dataset\n",
            "dataset created.\n"
          ],
          "name": "stdout"
        }
      ]
    },
    {
      "cell_type": "code",
      "metadata": {
        "id": "BQZk2ke_rPTV",
        "colab_type": "code",
        "colab": {
          "base_uri": "https://localhost:8080/",
          "height": 215
        },
        "outputId": "88ae41fe-3a74-4548-cb39-7d2231bf5e63"
      },
      "source": [
        "ls -alrt"
      ],
      "execution_count": 6,
      "outputs": [
        {
          "output_type": "stream",
          "text": [
            "total 15356\n",
            "-rw-r--r-- 1 root root     3549 Oct 31 17:04 generate.py\n",
            "-rw-r--r-- 1 root root      115 Oct 31 17:04 sample_machine_vocab.json\n",
            "-rw-r--r-- 1 root root    21714 Oct 31 17:04 sample_human_vocab.json\n",
            "-rw-r--r-- 1 root root     4822 Oct 31 17:04 reader.py\n",
            "drwxr-xr-x 7 root root     4096 Oct 31 17:04 \u001b[0m\u001b[01;34m..\u001b[0m/\n",
            "-rw-r--r-- 1 root root 15613341 Oct 31 17:05 training.csv\n",
            "-rw-r--r-- 1 root root      115 Oct 31 17:05 machine_vocab.json\n",
            "-rw-r--r-- 1 root root    21153 Oct 31 17:05 human_vocab.json\n",
            "drwxr-xr-x 2 root root     4096 Oct 31 17:05 \u001b[01;34m.\u001b[0m/\n",
            "-rw-r--r-- 1 root root    31176 Oct 31 17:05 validation.csv\n"
          ],
          "name": "stdout"
        }
      ]
    },
    {
      "cell_type": "code",
      "metadata": {
        "id": "xGm44SXIqnUx",
        "colab_type": "code",
        "colab": {
          "base_uri": "https://localhost:8080/",
          "height": 35
        },
        "outputId": "95406332-fefe-4c8a-954d-4cb605a0e3b2"
      },
      "source": [
        "cd .."
      ],
      "execution_count": 7,
      "outputs": [
        {
          "output_type": "stream",
          "text": [
            "/content/keras-attention\n"
          ],
          "name": "stdout"
        }
      ]
    },
    {
      "cell_type": "code",
      "metadata": {
        "id": "bq6WU5adpLzr",
        "colab_type": "code",
        "colab": {
          "base_uri": "https://localhost:8080/",
          "height": 1000
        },
        "outputId": "5c085c47-eb34-4449-8c06-7b16ed31fae0"
      },
      "source": [
        "#epochs default 50! but long time, I set 5 times\n",
        "!python run.py"
      ],
      "execution_count": 8,
      "outputs": [
        {
          "output_type": "stream",
          "text": [
            "Using TensorFlow backend.\n",
            "Namespace(batch_size=32, epochs=5, gpu='0', padding=5, training_data='./data/training.csv', validation_data='./data/validation.csv')\n",
            "Loading datasets.\n",
            "Datasets Loaded.\n",
            "Compiling Model.\n",
            "WARNING:tensorflow:From /usr/local/lib/python3.6/dist-packages/keras/backend/tensorflow_backend.py:66: The name tf.get_default_graph is deprecated. Please use tf.compat.v1.get_default_graph instead.\n",
            "\n",
            "WARNING:tensorflow:From /usr/local/lib/python3.6/dist-packages/keras/backend/tensorflow_backend.py:541: The name tf.placeholder is deprecated. Please use tf.compat.v1.placeholder instead.\n",
            "\n",
            "WARNING:tensorflow:From /usr/local/lib/python3.6/dist-packages/keras/backend/tensorflow_backend.py:4432: The name tf.random_uniform is deprecated. Please use tf.random.uniform instead.\n",
            "\n",
            "WARNING:tensorflow:From /usr/local/lib/python3.6/dist-packages/keras/backend/tensorflow_backend.py:190: The name tf.get_default_session is deprecated. Please use tf.compat.v1.get_default_session instead.\n",
            "\n",
            "WARNING:tensorflow:From /usr/local/lib/python3.6/dist-packages/keras/backend/tensorflow_backend.py:197: The name tf.ConfigProto is deprecated. Please use tf.compat.v1.ConfigProto instead.\n",
            "\n",
            "WARNING:tensorflow:From /usr/local/lib/python3.6/dist-packages/keras/backend/tensorflow_backend.py:203: The name tf.Session is deprecated. Please use tf.compat.v1.Session instead.\n",
            "\n",
            "2019-10-31 17:06:51.834696: I tensorflow/core/platform/profile_utils/cpu_utils.cc:94] CPU Frequency: 2199995000 Hz\n",
            "2019-10-31 17:06:51.834936: I tensorflow/compiler/xla/service/service.cc:168] XLA service 0x2f95640 initialized for platform Host (this does not guarantee that XLA will be used). Devices:\n",
            "2019-10-31 17:06:51.835006: I tensorflow/compiler/xla/service/service.cc:176]   StreamExecutor device (0): Host, Default Version\n",
            "2019-10-31 17:06:51.839330: I tensorflow/stream_executor/platform/default/dso_loader.cc:44] Successfully opened dynamic library libcuda.so.1\n",
            "2019-10-31 17:06:51.966059: I tensorflow/stream_executor/cuda/cuda_gpu_executor.cc:983] successful NUMA node read from SysFS had negative value (-1), but there must be at least one NUMA node, so returning NUMA node zero\n",
            "2019-10-31 17:06:51.966915: I tensorflow/compiler/xla/service/service.cc:168] XLA service 0x12b9a1c0 initialized for platform CUDA (this does not guarantee that XLA will be used). Devices:\n",
            "2019-10-31 17:06:51.966968: I tensorflow/compiler/xla/service/service.cc:176]   StreamExecutor device (0): Tesla K80, Compute Capability 3.7\n",
            "2019-10-31 17:06:51.968198: I tensorflow/stream_executor/cuda/cuda_gpu_executor.cc:983] successful NUMA node read from SysFS had negative value (-1), but there must be at least one NUMA node, so returning NUMA node zero\n",
            "2019-10-31 17:06:51.968960: I tensorflow/core/common_runtime/gpu/gpu_device.cc:1618] Found device 0 with properties: \n",
            "name: Tesla K80 major: 3 minor: 7 memoryClockRate(GHz): 0.8235\n",
            "pciBusID: 0000:00:04.0\n",
            "2019-10-31 17:06:51.980305: I tensorflow/stream_executor/platform/default/dso_loader.cc:44] Successfully opened dynamic library libcudart.so.10.0\n",
            "2019-10-31 17:06:52.185793: I tensorflow/stream_executor/platform/default/dso_loader.cc:44] Successfully opened dynamic library libcublas.so.10.0\n",
            "2019-10-31 17:06:52.269022: I tensorflow/stream_executor/platform/default/dso_loader.cc:44] Successfully opened dynamic library libcufft.so.10.0\n",
            "2019-10-31 17:06:52.294414: I tensorflow/stream_executor/platform/default/dso_loader.cc:44] Successfully opened dynamic library libcurand.so.10.0\n",
            "2019-10-31 17:06:52.524782: I tensorflow/stream_executor/platform/default/dso_loader.cc:44] Successfully opened dynamic library libcusolver.so.10.0\n",
            "2019-10-31 17:06:52.664778: I tensorflow/stream_executor/platform/default/dso_loader.cc:44] Successfully opened dynamic library libcusparse.so.10.0\n",
            "2019-10-31 17:06:53.045603: I tensorflow/stream_executor/platform/default/dso_loader.cc:44] Successfully opened dynamic library libcudnn.so.7\n",
            "2019-10-31 17:06:53.045787: I tensorflow/stream_executor/cuda/cuda_gpu_executor.cc:983] successful NUMA node read from SysFS had negative value (-1), but there must be at least one NUMA node, so returning NUMA node zero\n",
            "2019-10-31 17:06:53.047037: I tensorflow/stream_executor/cuda/cuda_gpu_executor.cc:983] successful NUMA node read from SysFS had negative value (-1), but there must be at least one NUMA node, so returning NUMA node zero\n",
            "2019-10-31 17:06:53.047728: I tensorflow/core/common_runtime/gpu/gpu_device.cc:1746] Adding visible gpu devices: 0\n",
            "2019-10-31 17:06:53.051980: I tensorflow/stream_executor/platform/default/dso_loader.cc:44] Successfully opened dynamic library libcudart.so.10.0\n",
            "2019-10-31 17:06:53.053713: I tensorflow/core/common_runtime/gpu/gpu_device.cc:1159] Device interconnect StreamExecutor with strength 1 edge matrix:\n",
            "2019-10-31 17:06:53.053759: I tensorflow/core/common_runtime/gpu/gpu_device.cc:1165]      0 \n",
            "2019-10-31 17:06:53.053786: I tensorflow/core/common_runtime/gpu/gpu_device.cc:1178] 0:   N \n",
            "2019-10-31 17:06:53.055138: I tensorflow/stream_executor/cuda/cuda_gpu_executor.cc:983] successful NUMA node read from SysFS had negative value (-1), but there must be at least one NUMA node, so returning NUMA node zero\n",
            "2019-10-31 17:06:53.056349: I tensorflow/stream_executor/cuda/cuda_gpu_executor.cc:983] successful NUMA node read from SysFS had negative value (-1), but there must be at least one NUMA node, so returning NUMA node zero\n",
            "2019-10-31 17:06:53.057243: W tensorflow/core/common_runtime/gpu/gpu_bfc_allocator.cc:39] Overriding allow_growth setting because the TF_FORCE_GPU_ALLOW_GROWTH environment variable is set. Original config value was 0.\n",
            "2019-10-31 17:06:53.057307: I tensorflow/core/common_runtime/gpu/gpu_device.cc:1304] Created TensorFlow device (/job:localhost/replica:0/task:0/device:GPU:0 with 10805 MB memory) -> physical GPU (device: 0, name: Tesla K80, pci bus id: 0000:00:04.0, compute capability: 3.7)\n",
            "WARNING:tensorflow:From /usr/local/lib/python3.6/dist-packages/keras/backend/tensorflow_backend.py:207: The name tf.global_variables is deprecated. Please use tf.compat.v1.global_variables instead.\n",
            "\n",
            "WARNING:tensorflow:From /usr/local/lib/python3.6/dist-packages/keras/backend/tensorflow_backend.py:216: The name tf.is_variable_initialized is deprecated. Please use tf.compat.v1.is_variable_initialized instead.\n",
            "\n",
            "WARNING:tensorflow:From /usr/local/lib/python3.6/dist-packages/keras/backend/tensorflow_backend.py:223: The name tf.variables_initializer is deprecated. Please use tf.compat.v1.variables_initializer instead.\n",
            "\n",
            "inputs shape: (?, ?, 512)\n",
            "Model: \"model_1\"\n",
            "_________________________________________________________________\n",
            "Layer (type)                 Output Shape              Param #   \n",
            "=================================================================\n",
            "input_1 (InputLayer)         (None, 5)                 0         \n",
            "_________________________________________________________________\n",
            "OneHot (Embedding)           (None, 5, 1403)           1968409   \n",
            "_________________________________________________________________\n",
            "bidirectional_1 (Bidirection (None, 5, 512)            3399680   \n",
            "_________________________________________________________________\n",
            "attention_decoder_1 (Attenti (None, 5, 13)             938934    \n",
            "=================================================================\n",
            "Total params: 6,307,023\n",
            "Trainable params: 4,338,614\n",
            "Non-trainable params: 1,968,409\n",
            "_________________________________________________________________\n",
            "WARNING:tensorflow:From /usr/local/lib/python3.6/dist-packages/keras/optimizers.py:793: The name tf.train.Optimizer is deprecated. Please use tf.compat.v1.train.Optimizer instead.\n",
            "\n",
            "WARNING:tensorflow:From /usr/local/lib/python3.6/dist-packages/keras/backend/tensorflow_backend.py:3576: The name tf.log is deprecated. Please use tf.math.log instead.\n",
            "\n",
            "Model Compiled.\n",
            "Training. Ctrl+C to end early.\n",
            "WARNING:tensorflow:From /usr/local/lib/python3.6/dist-packages/tensorflow_core/python/ops/math_grad.py:1424: where (from tensorflow.python.ops.array_ops) is deprecated and will be removed in a future version.\n",
            "Instructions for updating:\n",
            "Use tf.where in 2.0, which has the same broadcast rule as np.where\n",
            "WARNING:tensorflow:From /usr/local/lib/python3.6/dist-packages/keras/backend/tensorflow_backend.py:1033: The name tf.assign_add is deprecated. Please use tf.compat.v1.assign_add instead.\n",
            "\n",
            "WARNING:tensorflow:From /usr/local/lib/python3.6/dist-packages/keras/backend/tensorflow_backend.py:1020: The name tf.assign is deprecated. Please use tf.compat.v1.assign instead.\n",
            "\n",
            "Epoch 1/5\n",
            "2019-10-31 17:07:01.877459: I tensorflow/stream_executor/platform/default/dso_loader.cc:44] Successfully opened dynamic library libcublas.so.10.0\n",
            "100/100 [==============================] - 11s 112ms/step - loss: 1.3164 - acc: 0.4789 - all_acc: 0.0000e+00 - val_loss: 1.0699 - val_acc: 0.4954 - val_all_acc: 0.0000e+00\n",
            "Epoch 2/5\n",
            "100/100 [==============================] - 8s 78ms/step - loss: 1.0757 - acc: 0.4902 - all_acc: 0.0000e+00 - val_loss: 1.0693 - val_acc: 0.5017 - val_all_acc: 0.0000e+00\n",
            "Epoch 3/5\n",
            "100/100 [==============================] - 8s 76ms/step - loss: 1.0618 - acc: 0.5114 - all_acc: 0.0000e+00 - val_loss: 1.0722 - val_acc: 0.5043 - val_all_acc: 0.0000e+00\n",
            "Epoch 4/5\n",
            "100/100 [==============================] - 8s 77ms/step - loss: 1.0633 - acc: 0.5035 - all_acc: 0.0000e+00 - val_loss: 1.0830 - val_acc: 0.4830 - val_all_acc: 0.0000e+00\n",
            "Epoch 5/5\n",
            "100/100 [==============================] - 8s 76ms/step - loss: 1.0713 - acc: 0.4831 - all_acc: 0.0000e+00 - val_loss: 1.0660 - val_acc: 0.4966 - val_all_acc: 0.0000e+00\n",
            "Model training complete.\n",
            "~~~~~\n",
            "input: 26th January 2016\n",
            "output: 1999<eot>\n",
            "~~~~~\n",
            "input: 3 April 1989\n",
            "output: 1909<eot>\n",
            "~~~~~\n",
            "input: 5 Dec 09\n",
            "output: 1999<eot>\n",
            "~~~~~\n",
            "input: Sat 8 Jun 2017\n",
            "output: 1999<eot>\n"
          ],
          "name": "stdout"
        }
      ]
    },
    {
      "cell_type": "code",
      "metadata": {
        "id": "s-m1tY12pmZr",
        "colab_type": "code",
        "colab": {
          "base_uri": "https://localhost:8080/",
          "height": 1000
        },
        "outputId": "58b4eb7e-b644-4467-9f68-68391a2c10a7"
      },
      "source": [
        "!python visualize.py -e examples.txt "
      ],
      "execution_count": 9,
      "outputs": [
        {
          "output_type": "stream",
          "text": [
            "Using TensorFlow backend.\n",
            "Total Number of Examples: 10\n",
            "Weights loading from: /content/keras-attention/weights/sample_NMT.49.0.01.hdf5\n",
            "Loading models\n",
            "WARNING:tensorflow:From /usr/local/lib/python3.6/dist-packages/keras/backend/tensorflow_backend.py:66: The name tf.get_default_graph is deprecated. Please use tf.compat.v1.get_default_graph instead.\n",
            "\n",
            "WARNING:tensorflow:From /usr/local/lib/python3.6/dist-packages/keras/backend/tensorflow_backend.py:541: The name tf.placeholder is deprecated. Please use tf.compat.v1.placeholder instead.\n",
            "\n",
            "WARNING:tensorflow:From /usr/local/lib/python3.6/dist-packages/keras/backend/tensorflow_backend.py:4432: The name tf.random_uniform is deprecated. Please use tf.random.uniform instead.\n",
            "\n",
            "WARNING:tensorflow:From /usr/local/lib/python3.6/dist-packages/keras/backend/tensorflow_backend.py:190: The name tf.get_default_session is deprecated. Please use tf.compat.v1.get_default_session instead.\n",
            "\n",
            "WARNING:tensorflow:From /usr/local/lib/python3.6/dist-packages/keras/backend/tensorflow_backend.py:197: The name tf.ConfigProto is deprecated. Please use tf.compat.v1.ConfigProto instead.\n",
            "\n",
            "WARNING:tensorflow:From /usr/local/lib/python3.6/dist-packages/keras/backend/tensorflow_backend.py:203: The name tf.Session is deprecated. Please use tf.compat.v1.Session instead.\n",
            "\n",
            "2019-10-31 17:07:53.751983: I tensorflow/core/platform/profile_utils/cpu_utils.cc:94] CPU Frequency: 2199995000 Hz\n",
            "2019-10-31 17:07:53.752237: I tensorflow/compiler/xla/service/service.cc:168] XLA service 0x255d640 initialized for platform Host (this does not guarantee that XLA will be used). Devices:\n",
            "2019-10-31 17:07:53.752275: I tensorflow/compiler/xla/service/service.cc:176]   StreamExecutor device (0): Host, Default Version\n",
            "2019-10-31 17:07:53.754319: I tensorflow/stream_executor/platform/default/dso_loader.cc:44] Successfully opened dynamic library libcuda.so.1\n",
            "2019-10-31 17:07:53.816556: I tensorflow/stream_executor/cuda/cuda_gpu_executor.cc:983] successful NUMA node read from SysFS had negative value (-1), but there must be at least one NUMA node, so returning NUMA node zero\n",
            "2019-10-31 17:07:53.817383: I tensorflow/compiler/xla/service/service.cc:168] XLA service 0x77824c0 initialized for platform CUDA (this does not guarantee that XLA will be used). Devices:\n",
            "2019-10-31 17:07:53.817412: I tensorflow/compiler/xla/service/service.cc:176]   StreamExecutor device (0): Tesla K80, Compute Capability 3.7\n",
            "2019-10-31 17:07:53.817602: I tensorflow/stream_executor/cuda/cuda_gpu_executor.cc:983] successful NUMA node read from SysFS had negative value (-1), but there must be at least one NUMA node, so returning NUMA node zero\n",
            "2019-10-31 17:07:53.818295: I tensorflow/core/common_runtime/gpu/gpu_device.cc:1618] Found device 0 with properties: \n",
            "name: Tesla K80 major: 3 minor: 7 memoryClockRate(GHz): 0.8235\n",
            "pciBusID: 0000:00:04.0\n",
            "2019-10-31 17:07:53.818588: I tensorflow/stream_executor/platform/default/dso_loader.cc:44] Successfully opened dynamic library libcudart.so.10.0\n",
            "2019-10-31 17:07:53.820044: I tensorflow/stream_executor/platform/default/dso_loader.cc:44] Successfully opened dynamic library libcublas.so.10.0\n",
            "2019-10-31 17:07:53.821399: I tensorflow/stream_executor/platform/default/dso_loader.cc:44] Successfully opened dynamic library libcufft.so.10.0\n",
            "2019-10-31 17:07:53.821764: I tensorflow/stream_executor/platform/default/dso_loader.cc:44] Successfully opened dynamic library libcurand.so.10.0\n",
            "2019-10-31 17:07:53.833794: I tensorflow/stream_executor/platform/default/dso_loader.cc:44] Successfully opened dynamic library libcusolver.so.10.0\n",
            "2019-10-31 17:07:53.835007: I tensorflow/stream_executor/platform/default/dso_loader.cc:44] Successfully opened dynamic library libcusparse.so.10.0\n",
            "2019-10-31 17:07:53.857194: I tensorflow/stream_executor/platform/default/dso_loader.cc:44] Successfully opened dynamic library libcudnn.so.7\n",
            "2019-10-31 17:07:53.857321: I tensorflow/stream_executor/cuda/cuda_gpu_executor.cc:983] successful NUMA node read from SysFS had negative value (-1), but there must be at least one NUMA node, so returning NUMA node zero\n",
            "2019-10-31 17:07:53.858146: I tensorflow/stream_executor/cuda/cuda_gpu_executor.cc:983] successful NUMA node read from SysFS had negative value (-1), but there must be at least one NUMA node, so returning NUMA node zero\n",
            "2019-10-31 17:07:53.858812: I tensorflow/core/common_runtime/gpu/gpu_device.cc:1746] Adding visible gpu devices: 0\n",
            "2019-10-31 17:07:53.858866: I tensorflow/stream_executor/platform/default/dso_loader.cc:44] Successfully opened dynamic library libcudart.so.10.0\n",
            "2019-10-31 17:07:53.860249: I tensorflow/core/common_runtime/gpu/gpu_device.cc:1159] Device interconnect StreamExecutor with strength 1 edge matrix:\n",
            "2019-10-31 17:07:53.860282: I tensorflow/core/common_runtime/gpu/gpu_device.cc:1165]      0 \n",
            "2019-10-31 17:07:53.860295: I tensorflow/core/common_runtime/gpu/gpu_device.cc:1178] 0:   N \n",
            "2019-10-31 17:07:53.860408: I tensorflow/stream_executor/cuda/cuda_gpu_executor.cc:983] successful NUMA node read from SysFS had negative value (-1), but there must be at least one NUMA node, so returning NUMA node zero\n",
            "2019-10-31 17:07:53.861148: I tensorflow/stream_executor/cuda/cuda_gpu_executor.cc:983] successful NUMA node read from SysFS had negative value (-1), but there must be at least one NUMA node, so returning NUMA node zero\n",
            "2019-10-31 17:07:53.861837: W tensorflow/core/common_runtime/gpu/gpu_bfc_allocator.cc:39] Overriding allow_growth setting because the TF_FORCE_GPU_ALLOW_GROWTH environment variable is set. Original config value was 0.\n",
            "2019-10-31 17:07:53.861880: I tensorflow/core/common_runtime/gpu/gpu_device.cc:1304] Created TensorFlow device (/job:localhost/replica:0/task:0/device:GPU:0 with 10805 MB memory) -> physical GPU (device: 0, name: Tesla K80, pci bus id: 0000:00:04.0, compute capability: 3.7)\n",
            "WARNING:tensorflow:From /usr/local/lib/python3.6/dist-packages/keras/backend/tensorflow_backend.py:207: The name tf.global_variables is deprecated. Please use tf.compat.v1.global_variables instead.\n",
            "\n",
            "WARNING:tensorflow:From /usr/local/lib/python3.6/dist-packages/keras/backend/tensorflow_backend.py:216: The name tf.is_variable_initialized is deprecated. Please use tf.compat.v1.is_variable_initialized instead.\n",
            "\n",
            "WARNING:tensorflow:From /usr/local/lib/python3.6/dist-packages/keras/backend/tensorflow_backend.py:223: The name tf.variables_initializer is deprecated. Please use tf.compat.v1.variables_initializer instead.\n",
            "\n",
            "inputs shape: (?, ?, 512)\n",
            "WARNING:tensorflow:From /usr/local/lib/python3.6/dist-packages/keras/optimizers.py:793: The name tf.train.Optimizer is deprecated. Please use tf.compat.v1.train.Optimizer instead.\n",
            "\n",
            "WARNING:tensorflow:From /usr/local/lib/python3.6/dist-packages/keras/backend/tensorflow_backend.py:3576: The name tf.log is deprecated. Please use tf.math.log instead.\n",
            "\n",
            "inputs shape: (?, ?, 512)\n",
            "Models loaded\n",
            "2019-10-31 17:07:58.018576: I tensorflow/stream_executor/platform/default/dso_loader.cc:44] Successfully opened dynamic library libcublas.so.10.0\n",
            "Completed visualizations\n"
          ],
          "name": "stdout"
        }
      ]
    },
    {
      "cell_type": "code",
      "metadata": {
        "id": "KkGbW7LjG7t5",
        "colab_type": "code",
        "colab": {
          "base_uri": "https://localhost:8080/",
          "height": 341
        },
        "outputId": "2845cd91-b742-45a7-d26c-59722702f171"
      },
      "source": [
        "ls -alrt"
      ],
      "execution_count": 10,
      "outputs": [
        {
          "output_type": "stream",
          "text": [
            "total 104\n",
            "drwxr-xr-x 1 root root  4096 Oct 31 17:04 \u001b[0m\u001b[01;34m..\u001b[0m/\n",
            "-rw-r--r-- 1 root root  4329 Oct 31 17:04 README.md\n",
            "-rw-r--r-- 1 root root 34520 Oct 31 17:04 LICENSE\n",
            "-rw-r--r-- 1 root root     0 Oct 31 17:04 __init__.py\n",
            "-rw-r--r-- 1 root root  1157 Oct 31 17:04 .gitignore\n",
            "-rw-r--r-- 1 root root  6341 Oct 31 17:04 visualize.py\n",
            "-rw-r--r-- 1 root root  4012 Oct 31 17:04 run.py\n",
            "-rw-r--r-- 1 root root    76 Oct 31 17:04 requirements.txt\n",
            "-rw-r--r-- 1 root root    80 Oct 31 17:04 requirements-gpu.txt\n",
            "-rw-r--r-- 1 root root   140 Oct 31 17:04 examples.txt\n",
            "drwxr-xr-x 8 root root  4096 Oct 31 17:04 \u001b[01;34m.git\u001b[0m/\n",
            "drwxr-xr-x 3 root root  4096 Oct 31 17:06 \u001b[01;34mmodels\u001b[0m/\n",
            "drwxr-xr-x 3 root root  4096 Oct 31 17:06 \u001b[01;34mutils\u001b[0m/\n",
            "drwxr-xr-x 3 root root  4096 Oct 31 17:06 \u001b[01;34mdata\u001b[0m/\n",
            "drwxr-xr-x 2 root root  4096 Oct 31 17:07 \u001b[01;34mweights\u001b[0m/\n",
            "drwxr-xr-x 8 root root  4096 Oct 31 17:07 \u001b[01;34m.\u001b[0m/\n",
            "drwxr-xr-x 2 root root  4096 Oct 31 17:08 \u001b[01;34mattention_maps\u001b[0m/\n"
          ],
          "name": "stdout"
        }
      ]
    },
    {
      "cell_type": "code",
      "metadata": {
        "id": "NLJxPk1vy1Y_",
        "colab_type": "code",
        "colab": {
          "base_uri": "https://localhost:8080/",
          "height": 35
        },
        "outputId": "c559c234-0d1d-4bb6-e3a1-ec4b9a8a45cb"
      },
      "source": [
        "cd attention_maps"
      ],
      "execution_count": 12,
      "outputs": [
        {
          "output_type": "stream",
          "text": [
            "/content/keras-attention/attention_maps\n"
          ],
          "name": "stdout"
        }
      ]
    },
    {
      "cell_type": "code",
      "metadata": {
        "id": "M-7itNUHzFQq",
        "colab_type": "code",
        "colab": {
          "base_uri": "https://localhost:8080/",
          "height": 251
        },
        "outputId": "ca56d1b0-342b-40d7-86dd-a541be746ef8"
      },
      "source": [
        "ls -alrt"
      ],
      "execution_count": 13,
      "outputs": [
        {
          "output_type": "stream",
          "text": [
            "total 172\n",
            "drwxr-xr-x 8 root root  4096 Oct 31 17:07  \u001b[0m\u001b[01;34m..\u001b[0m/\n",
            "-rw-r--r-- 1 root root 15531 Oct 31 17:07 'January 5 2016.pdf'\n",
            "-rw-r--r-- 1 root root 15520 Oct 31 17:07 '2016 January 5.pdf'\n",
            "-rw-r--r-- 1 root root 15640 Oct 31 17:08 'January 2016 5.pdf'\n",
            "-rw-r--r-- 1 root root 16054 Oct 31 17:08 'Jan 5 2016.pdf'\n",
            "-rw-r--r-- 1 root root 16339 Oct 31 17:08 'J 5 2016.pdf'\n",
            "-rw-r--r-- 1 root root 16430 Oct 31 17:08 'July 8th 1867.pdf'\n",
            "-rw-r--r-- 1 root root 16316 Oct 31 17:08 'June 8th 1867.pdf'\n",
            "-rw-r--r-- 1 root root 16337 Oct 31 17:08 'July 8th 1999.pdf'\n",
            "-rw-r--r-- 1 root root 16116 Oct 31 17:08 'June 8th 1999.pdf'\n",
            "drwxr-xr-x 2 root root  4096 Oct 31 17:08  \u001b[01;34m.\u001b[0m/\n",
            "-rw-r--r-- 1 root root 15926 Oct 31 17:08 'Saturday 9 May 2018.pdf'\n"
          ],
          "name": "stdout"
        }
      ]
    },
    {
      "cell_type": "code",
      "metadata": {
        "id": "HbA22RBKzHRv",
        "colab_type": "code",
        "colab": {}
      },
      "source": [
        "from google.colab import files\n",
        "files.download('January 5 2016.pdf')"
      ],
      "execution_count": 0,
      "outputs": []
    },
    {
      "cell_type": "code",
      "metadata": {
        "id": "rv5eTghg0ajQ",
        "colab_type": "code",
        "colab": {}
      },
      "source": [
        "files.download('June 8th 1999.pdf')"
      ],
      "execution_count": 0,
      "outputs": []
    }
  ]
}