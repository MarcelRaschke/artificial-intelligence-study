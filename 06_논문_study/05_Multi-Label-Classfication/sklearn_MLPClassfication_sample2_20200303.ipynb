{
  "nbformat": 4,
  "nbformat_minor": 0,
  "metadata": {
    "colab": {
      "name": "sklearn_MLPClassfication_sample2_20200303.ipynb",
      "provenance": []
    },
    "kernelspec": {
      "name": "python3",
      "display_name": "Python 3"
    }
  },
  "cells": [
    {
      "cell_type": "code",
      "metadata": {
        "id": "tYnTo5h62Lxa",
        "colab_type": "code",
        "colab": {}
      },
      "source": [
        "#참고: https://kofboy2000.tistory.com/30"
      ],
      "execution_count": 0,
      "outputs": []
    },
    {
      "cell_type": "code",
      "metadata": {
        "id": "kXPR9AHp2Udb",
        "colab_type": "code",
        "outputId": "8604129d-d126-407d-9f6d-870b0284a460",
        "colab": {
          "base_uri": "https://localhost:8080/",
          "height": 125
        }
      },
      "source": [
        "!git clone https://github.com/jukyellow/ai-sample-data/"
      ],
      "execution_count": 0,
      "outputs": [
        {
          "output_type": "stream",
          "text": [
            "Cloning into 'ai-sample-data'...\n",
            "remote: Enumerating objects: 9, done.\u001b[K\n",
            "remote: Counting objects: 100% (9/9), done.\u001b[K\n",
            "remote: Compressing objects: 100% (6/6), done.\u001b[K\n",
            "remote: Total 9 (delta 0), reused 9 (delta 0), pack-reused 0\u001b[K\n",
            "Unpacking objects: 100% (9/9), done.\n"
          ],
          "name": "stdout"
        }
      ]
    },
    {
      "cell_type": "code",
      "metadata": {
        "id": "qhUrNF_N4w1z",
        "colab_type": "code",
        "outputId": "1cdecdb1-2549-47c1-d4a6-c9c6ac673b24",
        "colab": {
          "base_uri": "https://localhost:8080/",
          "height": 125
        }
      },
      "source": [
        "ls -alrt"
      ],
      "execution_count": 0,
      "outputs": [
        {
          "output_type": "stream",
          "text": [
            "total 28\n",
            "drwxr-xr-x 4 root root  4096 Mar  3 00:57 \u001b[0m\u001b[01;34m..\u001b[0m/\n",
            "-rw-r--r-- 1 root root  3036 Mar  3 00:57 wine.names\n",
            "-rw-r--r-- 1 root root 10782 Mar  3 00:57 wine.data\n",
            "-rw-r--r-- 1 root root    44 Mar  3 00:57 download-source.txt\n",
            "drwxr-xr-x 2 root root  4096 Mar  3 00:57 \u001b[01;34m.\u001b[0m/\n"
          ],
          "name": "stdout"
        }
      ]
    },
    {
      "cell_type": "code",
      "metadata": {
        "id": "z84AVNom4y_k",
        "colab_type": "code",
        "outputId": "aab1d846-0629-4924-e048-f859a2155a54",
        "colab": {
          "base_uri": "https://localhost:8080/",
          "height": 35
        }
      },
      "source": [
        "cd ai-sample-data/wine/"
      ],
      "execution_count": 0,
      "outputs": [
        {
          "output_type": "stream",
          "text": [
            "/content/ai-sample-data/wine\n"
          ],
          "name": "stdout"
        }
      ]
    },
    {
      "cell_type": "code",
      "metadata": {
        "id": "xND_QDB92Uim",
        "colab_type": "code",
        "outputId": "b11f0b51-69fb-4de6-d55f-aa738ecd71fd",
        "colab": {
          "base_uri": "https://localhost:8080/",
          "height": 179
        }
      },
      "source": [
        "import pandas as pd\n",
        "\n",
        "#wine_data.csv\n",
        "wine = pd.read_csv('wine.data', names = [\"Cultivator\", \"Alchol\", \"Malic_Acid\", \"Ash\",\n",
        "                                             \"Alcalinity_of_Ash\", \"Magnesium\", \"Total_phenols\",\n",
        "                                             \"Falvanoids\", \"Nonflavanoid_phenols\",\n",
        "                                             \"Proanthocyanins\", \"Color_intensity\", \"Hue\",\n",
        "                                             \"OD280\", \"Proline\"])\n",
        "print (wine.head())\n",
        "print (wine.shape)"
      ],
      "execution_count": 0,
      "outputs": [
        {
          "output_type": "stream",
          "text": [
            "   Cultivator  Alchol  Malic_Acid   Ash  ...  Color_intensity   Hue  OD280  Proline\n",
            "0           1   14.23        1.71  2.43  ...             5.64  1.04   3.92     1065\n",
            "1           1   13.20        1.78  2.14  ...             4.38  1.05   3.40     1050\n",
            "2           1   13.16        2.36  2.67  ...             5.68  1.03   3.17     1185\n",
            "3           1   14.37        1.95  2.50  ...             7.80  0.86   3.45     1480\n",
            "4           1   13.24        2.59  2.87  ...             4.32  1.04   2.93      735\n",
            "\n",
            "[5 rows x 14 columns]\n",
            "(178, 14)\n"
          ],
          "name": "stdout"
        }
      ]
    },
    {
      "cell_type": "code",
      "metadata": {
        "id": "-G1jcRN82Uoe",
        "colab_type": "code",
        "outputId": "e73c8d0c-d4f9-425b-f744-f606f8cf8cd1",
        "colab": {
          "base_uri": "https://localhost:8080/",
          "height": 53
        }
      },
      "source": [
        "X = wine.drop('Cultivator',axis=1)\n",
        "print(X.shape)\n",
        "y = wine['Cultivator']\n",
        "print(y.shape)"
      ],
      "execution_count": 0,
      "outputs": [
        {
          "output_type": "stream",
          "text": [
            "(178, 13)\n",
            "(178,)\n"
          ],
          "name": "stdout"
        }
      ]
    },
    {
      "cell_type": "code",
      "metadata": {
        "id": "M3zRYWkF2Ul9",
        "colab_type": "code",
        "outputId": "bdaeadc8-816c-4765-a4df-05d78cc23e6c",
        "colab": {
          "base_uri": "https://localhost:8080/",
          "height": 53
        }
      },
      "source": [
        "from sklearn.model_selection import train_test_split\n",
        "X_train, X_test, y_train, y_test = train_test_split(X, y)\n",
        "print(X_train.shape)\n",
        "print(X_test.shape)"
      ],
      "execution_count": 0,
      "outputs": [
        {
          "output_type": "stream",
          "text": [
            "(133, 13)\n",
            "(45, 13)\n"
          ],
          "name": "stdout"
        }
      ]
    },
    {
      "cell_type": "code",
      "metadata": {
        "id": "NTgKANHH2UgH",
        "colab_type": "code",
        "colab": {}
      },
      "source": [
        "from sklearn.preprocessing import StandardScaler\n",
        "\n",
        "scaler = StandardScaler()\n",
        "scaler.fit(X_train)\n",
        "\n",
        "StandardScaler(copy=True, with_mean=True, with_std=True)\n",
        "\n",
        "X_train = scaler.transform(X_train)\n",
        "X_test = scaler.transform(X_test)"
      ],
      "execution_count": 0,
      "outputs": []
    },
    {
      "cell_type": "code",
      "metadata": {
        "id": "duL7JJRf6DNP",
        "colab_type": "code",
        "outputId": "f1f4482d-eca2-476f-9655-2c268f45295b",
        "colab": {
          "base_uri": "https://localhost:8080/",
          "height": 161
        }
      },
      "source": [
        "from sklearn.neural_network import MLPClassifier\n",
        "\n",
        "mlp = MLPClassifier(hidden_layer_sizes=(30,30,30))\n",
        "mlp.fit(X_train,y_train)"
      ],
      "execution_count": 0,
      "outputs": [
        {
          "output_type": "execute_result",
          "data": {
            "text/plain": [
              "MLPClassifier(activation='relu', alpha=0.0001, batch_size='auto', beta_1=0.9,\n",
              "              beta_2=0.999, early_stopping=False, epsilon=1e-08,\n",
              "              hidden_layer_sizes=(30, 30, 30), learning_rate='constant',\n",
              "              learning_rate_init=0.001, max_fun=15000, max_iter=200,\n",
              "              momentum=0.9, n_iter_no_change=10, nesterovs_momentum=True,\n",
              "              power_t=0.5, random_state=None, shuffle=True, solver='adam',\n",
              "              tol=0.0001, validation_fraction=0.1, verbose=False,\n",
              "              warm_start=False)"
            ]
          },
          "metadata": {
            "tags": []
          },
          "execution_count": 10
        }
      ]
    },
    {
      "cell_type": "code",
      "metadata": {
        "id": "BeJ0bYB86DXG",
        "colab_type": "code",
        "outputId": "afa67dad-d88c-43a9-bb18-c20ac931b61b",
        "colab": {
          "base_uri": "https://localhost:8080/",
          "height": 251
        }
      },
      "source": [
        "from sklearn.metrics import classification_report,confusion_matrix\n",
        "\n",
        "predictions = mlp.predict(X_test)\n",
        "\n",
        "print(confusion_matrix(y_test,predictions))\n",
        "print(classification_report(y_test,predictions))"
      ],
      "execution_count": 0,
      "outputs": [
        {
          "output_type": "stream",
          "text": [
            "[[14  0  0]\n",
            " [ 0 18  0]\n",
            " [ 0  0 13]]\n",
            "              precision    recall  f1-score   support\n",
            "\n",
            "           1       1.00      1.00      1.00        14\n",
            "           2       1.00      1.00      1.00        18\n",
            "           3       1.00      1.00      1.00        13\n",
            "\n",
            "    accuracy                           1.00        45\n",
            "   macro avg       1.00      1.00      1.00        45\n",
            "weighted avg       1.00      1.00      1.00        45\n",
            "\n"
          ],
          "name": "stdout"
        }
      ]
    },
    {
      "cell_type": "code",
      "metadata": {
        "id": "RF84iIde6DRb",
        "colab_type": "code",
        "colab": {}
      },
      "source": [
        ""
      ],
      "execution_count": 0,
      "outputs": []
    }
  ]
}