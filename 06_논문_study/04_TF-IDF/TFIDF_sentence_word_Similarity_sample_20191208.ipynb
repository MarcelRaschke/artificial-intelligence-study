{
  "nbformat": 4,
  "nbformat_minor": 0,
  "metadata": {
    "colab": {
      "name": "TFIDF-sentence-word-Similarity-sample_20191208.ipynb",
      "provenance": []
    },
    "kernelspec": {
      "name": "python3",
      "display_name": "Python 3"
    },
    "accelerator": "GPU"
  },
  "cells": [
    {
      "cell_type": "code",
      "metadata": {
        "id": "toCh6GU6xpoK",
        "colab_type": "code",
        "colab": {
          "base_uri": "https://localhost:8080/",
          "height": 143
        },
        "outputId": "cdc89d76-d074-4e48-bea6-2839c72f75bf"
      },
      "source": [
        "#두 문장간 유사도 측정(TF-IDF)\n",
        "from pandas import DataFrame #Series, \n",
        "\n",
        "data = {}\n",
        "data['gd']=[\n",
        "  'MEDICAL EYE WASH SOLUTION 500ML KOBAYASHI',\n",
        "  'DVF DRESSVINCE JACKET',\n",
        "  '(MP3)JBL PULSE 2 PORTABLE SPLASHPROOF BLUETOOTH SPEAKER ONE SIZE',\n",
        "  'ARTICLES OF DAILY USE A GLASS OF WINE',\n",
        "  'MEDICAL EYE WASH SOLUTION 500ML KOBAYASHI AAA',  \n",
        "  'CHAMPSSPORTS CHAMPSSPORTS NIKE AIR FLEECE PANTS'\n",
        "]\n",
        "#data['index']=[0,1,2,3,4]\n",
        "\n",
        "data = DataFrame(data)\n",
        "print(data)\n"
      ],
      "execution_count": 1,
      "outputs": [
        {
          "output_type": "stream",
          "text": [
            "                                                  gd\n",
            "0          MEDICAL EYE WASH SOLUTION 500ML KOBAYASHI\n",
            "1                              DVF DRESSVINCE JACKET\n",
            "2  (MP3)JBL PULSE 2 PORTABLE SPLASHPROOF BLUETOOT...\n",
            "3              ARTICLES OF DAILY USE A GLASS OF WINE\n",
            "4      MEDICAL EYE WASH SOLUTION 500ML KOBAYASHI AAA\n",
            "5    CHAMPSSPORTS CHAMPSSPORTS NIKE AIR FLEECE PANTS\n"
          ],
          "name": "stdout"
        }
      ]
    },
    {
      "cell_type": "code",
      "metadata": {
        "id": "-Mj_hJ5myDtj",
        "colab_type": "code",
        "colab": {
          "base_uri": "https://localhost:8080/",
          "height": 35
        },
        "outputId": "07a08b96-3271-4fb0-fe11-74321477186f"
      },
      "source": [
        "def cal_tfidf(data):\n",
        "    from sklearn.feature_extraction.text import TfidfVectorizer\n",
        "    tfidf = TfidfVectorizer(stop_words='english')\n",
        "    tfidf_matrix = tfidf.fit_transform(data['gd'])\n",
        "    # overview에 대해서 tf-idf 수행\n",
        "    print('tfidf_matrix:', tfidf_matrix.shape)\n",
        "    #print(tfidf_matrix)\n",
        "\n",
        "    from sklearn.metrics.pairwise import linear_kernel\n",
        "    cosine_sim = linear_kernel(tfidf_matrix, tfidf_matrix)\n",
        "    #print(cosine_sim)\n",
        "\n",
        "    #중복제거?\n",
        "    import pandas as pd\n",
        "    indices = pd.Series(data.index, index=data['gd']).drop_duplicates()\n",
        "    #print(indices.head())\n",
        "\n",
        "    #idx = indices['MEDICAL EYE WASH SOLUTION 500ML KOBAYASHI']\n",
        "    #print(idx)\n",
        "\n",
        "    return indices, cosine_sim\n",
        "\n",
        "indices, cosine_sim = cal_tfidf(data)"
      ],
      "execution_count": 9,
      "outputs": [
        {
          "output_type": "stream",
          "text": [
            "tfidf_matrix: (6, 28)\n"
          ],
          "name": "stdout"
        }
      ]
    },
    {
      "cell_type": "code",
      "metadata": {
        "id": "Sh8XdNXzyDwz",
        "colab_type": "code",
        "colab": {}
      },
      "source": [
        "def get_recommendations(title, indices, cosine_sim=cosine_sim):\n",
        "    loc = indices.get(title)\n",
        "    print('word loc:', loc)\n",
        "\n",
        "    # 선택한 영화의 타이틀로부터 해당되는 인덱스를 받아옵니다. 이제 선택한 영화를 가지고 연산할 수 있습니다.\n",
        "    idx = indices[title]\n",
        "\n",
        "    # 모든 영화에 대해서 해당 영화와의 유사도를 구합니다.\n",
        "    sim_scores = list(enumerate(cosine_sim[idx]))\n",
        "\n",
        "    # 유사도에 따라 영화들을 정렬합니다.\n",
        "    sim_scores = sorted(sim_scores, key=lambda x: x[1], reverse=True)\n",
        "    print('sim_scores:', sim_scores)\n",
        "\n",
        "    # 가장 유사한 3개의 문장을 받아옵니다.\n",
        "    sim_scores = sim_scores[1:1+3]\n",
        "\n",
        "    # 가장 유사한 10개의 영화의 인덱스를 받아옵니다.\n",
        "    movie_indices = [i[0] for i in sim_scores]\n",
        "\n",
        "    # 가장 유사한 10개의 영화의 제목을 리턴합니다.\n",
        "    return data['gd'].iloc[movie_indices]"
      ],
      "execution_count": 0,
      "outputs": []
    },
    {
      "cell_type": "code",
      "metadata": {
        "id": "JK1HecYOyDzC",
        "colab_type": "code",
        "colab": {
          "base_uri": "https://localhost:8080/",
          "height": 143
        },
        "outputId": "34809a52-6a86-466f-ab3c-1602056ae3f3"
      },
      "source": [
        "#새로운 단어/문장 추가\n",
        "add_data = DataFrame({'gd':['MEDICAL EYE WASH ']})\n",
        "new_data = data.append(add_data, ignore_index = True)\n",
        "#print(new_data)\n",
        "\n",
        "#유사도 재계산\n",
        "indices, cosine_sim  = cal_tfidf(new_data)\n",
        "\n",
        "#유사목록 출력\n",
        "get_recommendations('MEDICAL EYE WASH ', indices, cosine_sim)"
      ],
      "execution_count": 12,
      "outputs": [
        {
          "output_type": "stream",
          "text": [
            "tfidf_matrix: (7, 28)\n",
            "word loc: 6\n",
            "sim_scores: [(6, 1.0), (0, 0.649749587643745), (4, 0.5744082542553888), (1, 0.0), (2, 0.0), (3, 0.0), (5, 0.0)]\n"
          ],
          "name": "stdout"
        },
        {
          "output_type": "execute_result",
          "data": {
            "text/plain": [
              "0        MEDICAL EYE WASH SOLUTION 500ML KOBAYASHI\n",
              "4    MEDICAL EYE WASH SOLUTION 500ML KOBAYASHI AAA\n",
              "1                            DVF DRESSVINCE JACKET\n",
              "Name: gd, dtype: object"
            ]
          },
          "metadata": {
            "tags": []
          },
          "execution_count": 12
        }
      ]
    },
    {
      "cell_type": "code",
      "metadata": {
        "id": "ukkGOnE2yD1J",
        "colab_type": "code",
        "colab": {}
      },
      "source": [
        ""
      ],
      "execution_count": 0,
      "outputs": []
    }
  ]
}