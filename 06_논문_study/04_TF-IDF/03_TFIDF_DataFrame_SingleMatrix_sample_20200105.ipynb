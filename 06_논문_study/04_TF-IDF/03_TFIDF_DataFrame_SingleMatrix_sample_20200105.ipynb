{
  "nbformat": 4,
  "nbformat_minor": 0,
  "metadata": {
    "colab": {
      "name": "TFIDF_DataFrame_SingleMatrix_sample_20200105.ipynb",
      "provenance": [],
      "collapsed_sections": []
    },
    "kernelspec": {
      "name": "python3",
      "display_name": "Python 3"
    },
    "accelerator": "GPU"
  },
  "cells": [
    {
      "cell_type": "code",
      "metadata": {
        "id": "5bEUp8NpfAUS",
        "colab_type": "code",
        "colab": {
          "base_uri": "https://localhost:8080/",
          "height": 143
        },
        "outputId": "dc2fafa9-ddb2-4bdc-84dc-aeec1560b524"
      },
      "source": [
        "#두 문장간 유사도 측정(TF-IDF)\n",
        "from pandas import DataFrame #Series, \n",
        "\n",
        "data = {}\n",
        "data['gd']=[\n",
        "  'MEDICAL EYE WASH SOLUTION 500ML KOBAYASHI',\n",
        "  'DVF DRESSVINCE JACKET',\n",
        "  '(MP3)JBL PULSE 2 PORTABLE SPLASHPROOF BLUETOOTH SPEAKER ONE SIZE',\n",
        "  'ARTICLES OF DAILY USE A GLASS OF WINE',\n",
        "  'MEDICAL EYE WASH SOLUTION 500ML KOBAYASHI AAA',  \n",
        "  'CHAMPSSPORTS CHAMPSSPORTS NIKE AIR FLEECE PANTS'\n",
        "]\n",
        "data['weight']=[[0.1],[0.2],[0.3],[0.4],[0.5],[0.6]]\n",
        "data['hs']=['0001', '0002', '0003', '0004', '0005', '0006']\n",
        "#data['index']=[0,1,2,3,4]\n",
        "\n",
        "dataFrame = DataFrame(data)\n",
        "print(dataFrame)\n"
      ],
      "execution_count": 40,
      "outputs": [
        {
          "output_type": "stream",
          "text": [
            "                                                  gd weight    hs\n",
            "0          MEDICAL EYE WASH SOLUTION 500ML KOBAYASHI  [0.1]  0001\n",
            "1                              DVF DRESSVINCE JACKET  [0.2]  0002\n",
            "2  (MP3)JBL PULSE 2 PORTABLE SPLASHPROOF BLUETOOT...  [0.3]  0003\n",
            "3              ARTICLES OF DAILY USE A GLASS OF WINE  [0.4]  0004\n",
            "4      MEDICAL EYE WASH SOLUTION 500ML KOBAYASHI AAA  [0.5]  0005\n",
            "5    CHAMPSSPORTS CHAMPSSPORTS NIKE AIR FLEECE PANTS  [0.6]  0006\n"
          ],
          "name": "stdout"
        }
      ]
    },
    {
      "cell_type": "code",
      "metadata": {
        "id": "oF05dBZFfCmf",
        "colab_type": "code",
        "colab": {
          "base_uri": "https://localhost:8080/",
          "height": 53
        },
        "outputId": "624f4664-774c-46ec-c8df-a30f4d8c0127"
      },
      "source": [
        "def cal_tfidf(dataFrame, new_text):\n",
        "    from sklearn.feature_extraction.text import TfidfVectorizer\n",
        "    tfidf = TfidfVectorizer(stop_words='english')\n",
        "    tfidf_matrix = tfidf.fit_transform(dataFrame['gd'])\n",
        "    # overview에 대해서 tf-idf 수행\n",
        "    print(tfidf_matrix.shape)\n",
        "\n",
        "    add_tfidf_matirx = tfidf.transform([new_text])\n",
        "\n",
        "    from sklearn.metrics.pairwise import linear_kernel\n",
        "    cosine_sim = linear_kernel(add_tfidf_matirx, tfidf_matrix)\n",
        "    print('cosine_sim:', cosine_sim)\n",
        "\n",
        "    #중복제거\n",
        "    import pandas as pd\n",
        "    indices = pd.Series(dataFrame.index, index=dataFrame['gd']).drop_duplicates()\n",
        "    \n",
        "    return indices, cosine_sim\n",
        "\n",
        "new_text = 'MEDICAL'\n",
        "indices, cosine_sim = cal_tfidf(dataFrame, new_text)"
      ],
      "execution_count": 60,
      "outputs": [
        {
          "output_type": "stream",
          "text": [
            "(6, 28)\n",
            "cosine_sim: [[0.40824829 0.         0.         0.         0.36546139 0.        ]]\n"
          ],
          "name": "stdout"
        }
      ]
    },
    {
      "cell_type": "code",
      "metadata": {
        "id": "4VxJztE-fCoz",
        "colab_type": "code",
        "colab": {}
      },
      "source": [
        "def get_recommendations(dataFrame, title, indices, cosine_sim=cosine_sim):\n",
        "    #loc = indices.get(title)\n",
        "    #print('loc:', loc)\n",
        "\n",
        "    # 선택한 영화의 타이틀로부터 해당되는 인덱스를 받아옵니다. 이제 선택한 영화를 가지고 연산할 수 있습니다.\n",
        "    #idx = indices[title]\n",
        "\n",
        "    # 모든 영화에 대해서 해당 영화와의 유사도를 구합니다.\n",
        "    #sim_scores = list(enumerate(cosine_sim[idx]))\n",
        "    sim_scores = list(enumerate(cosine_sim[0, :])) #첫번 row가 결과임\n",
        "\n",
        "    # 유사도에 따라 영화들을 정렬합니다.\n",
        "    sim_scores = sorted(sim_scores, key=lambda x: x[1], reverse=True)\n",
        "\n",
        "    # 가장 유사한 5개의 문장을 받아옵니다.\n",
        "    sim_scores = sim_scores[0:0+5]  #0번째부터 받아옴\n",
        "    print('sim_scores:', sim_scores)\n",
        "\n",
        "    # 가장 유사한 10개의 영화의 인덱스를 받아옵니다.\n",
        "    movie_indices = [i[0] for i in sim_scores]\n",
        "\n",
        "    # 가장 유사한 10개의 영화의 제목을 리턴합니다.\n",
        "    return dataFrame['gd'].iloc[movie_indices], sim_scores"
      ],
      "execution_count": 0,
      "outputs": []
    },
    {
      "cell_type": "code",
      "metadata": {
        "id": "s6jZW3LrfFdY",
        "colab_type": "code",
        "colab": {
          "base_uri": "https://localhost:8080/",
          "height": 161
        },
        "outputId": "0de268bd-a119-4307-c097-0f130cc0007b"
      },
      "source": [
        "#새로운 단어/문장 추가\n",
        "new_text = 'MEDICAL'\n",
        "indices, cosine_sim  = cal_tfidf(dataFrame, new_text)\n",
        "\n",
        "top_gd, top_score  = get_recommendations(addDataFrame, new_text, indices, cosine_sim)\n",
        "\n",
        "top_score = sorted(top_score, key=lambda x: x[1], reverse=True)\n",
        "for idx, val in enumerate(top_score):\n",
        "    print('num', (idx+1), ', gd:', top_gd[top_score[idx][0]], 'percentage:', top_score[idx][1])\n",
        "\n"
      ],
      "execution_count": 78,
      "outputs": [
        {
          "output_type": "stream",
          "text": [
            "(6, 28)\n",
            "cosine_sim: [[0.40824829 0.         0.         0.         0.36546139 0.        ]]\n",
            "sim_scores: [(0, 0.40824829046386296), (4, 0.36546138682094764), (1, 0.0), (2, 0.0), (3, 0.0)]\n",
            "num 1 , gd: MEDICAL EYE WASH SOLUTION 500ML KOBAYASHI percentage: 0.40824829046386296\n",
            "num 2 , gd: MEDICAL EYE WASH SOLUTION 500ML KOBAYASHI AAA percentage: 0.36546138682094764\n",
            "num 3 , gd: DVF DRESSVINCE JACKET percentage: 0.0\n",
            "num 4 , gd: (MP3)JBL PULSE 2 PORTABLE SPLASHPROOF BLUETOOTH SPEAKER ONE SIZE percentage: 0.0\n",
            "num 5 , gd: ARTICLES OF DAILY USE A GLASS OF WINE percentage: 0.0\n"
          ],
          "name": "stdout"
        }
      ]
    }
  ]
}