{
  "nbformat": 4,
  "nbformat_minor": 0,
  "metadata": {
    "colab": {
      "name": "keras_tensorflow_noise추가.ipynb",
      "provenance": [],
      "collapsed_sections": []
    },
    "kernelspec": {
      "name": "python3",
      "display_name": "Python 3"
    }
  },
  "cells": [
    {
      "cell_type": "code",
      "metadata": {
        "id": "sjbF3-pPb6Zj",
        "colab_type": "code",
        "colab": {
          "base_uri": "https://localhost:8080/",
          "height": 53
        },
        "outputId": "3f36c175-74f8-4ec2-aff4-f58eb593d622"
      },
      "source": [
        "#keras tensorflow hello world\n",
        "%tensorflow_version 1.x\n",
        "import tensorflow\n",
        "\n",
        "import tensorflow as tf\n",
        "msg = tf.constant('Hello, TensorFlow!')\n",
        "sess = tf.Session()\n",
        "print(sess.run(msg))"
      ],
      "execution_count": 1,
      "outputs": [
        {
          "output_type": "stream",
          "text": [
            "TensorFlow 1.x selected.\n",
            "b'Hello, TensorFlow!'\n"
          ],
          "name": "stdout"
        }
      ]
    },
    {
      "cell_type": "code",
      "metadata": {
        "id": "2WonXwvWb1VE",
        "colab_type": "code",
        "colab": {
          "base_uri": "https://localhost:8080/",
          "height": 161
        },
        "outputId": "3f292879-ea72-4532-e89b-d6cca4d583f8"
      },
      "source": [
        "#keras, tensorflow noise 추가\n",
        "%tensorflow_version 1.x\n",
        "import tensorflow\n",
        "\n",
        "from keras.layers import Lambda\n",
        "import tensorflow as tf\n",
        "\n",
        "def add_noise( inputs , noise_std ):\n",
        "    return Lambda( lambda x: x + tf.random.normal(tf.shape(x)) * noise_std  )( inputs )\n",
        "\n",
        "a = tf.constant(1.0, tf.float32)\n",
        "b = tf.constant(2.0, tf.float32)\n",
        "c = tf.constant(3.0, tf.float32)\n",
        "d = tf.constant(4.0, tf.float32)\n",
        "e = tf.constant(5.0, tf.float32)\n",
        "\n",
        "N_VAL = add_noise([a, b, c, d, e], 0.01)\n",
        "print(N_VAL)\n",
        "with tf.Session() as sess:\n",
        "    print(N_VAL.eval())\n",
        "    for val in N_VAL.eval():\n",
        "        print(int(val))"
      ],
      "execution_count": 2,
      "outputs": [
        {
          "output_type": "stream",
          "text": [
            "Using TensorFlow backend.\n"
          ],
          "name": "stderr"
        },
        {
          "output_type": "stream",
          "text": [
            "Tensor(\"lambda_1/add:0\", shape=(5,), dtype=float32)\n",
            "[0.9981222 2.000537  3.000967  3.9909117 5.0064707]\n",
            "0\n",
            "2\n",
            "2\n",
            "3\n",
            "4\n"
          ],
          "name": "stdout"
        }
      ]
    }
  ]
}