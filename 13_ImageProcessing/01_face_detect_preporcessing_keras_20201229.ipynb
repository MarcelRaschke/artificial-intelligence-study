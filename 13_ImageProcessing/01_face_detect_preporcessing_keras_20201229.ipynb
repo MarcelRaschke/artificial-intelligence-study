{
  "nbformat": 4,
  "nbformat_minor": 0,
  "metadata": {
    "colab": {
      "name": "01_face_detect_preporcessing_keras_20201229.ipynb",
      "provenance": [],
      "collapsed_sections": []
    },
    "kernelspec": {
      "name": "python3",
      "display_name": "Python 3"
    },
    "accelerator": "GPU"
  },
  "cells": [
    {
      "cell_type": "code",
      "metadata": {
        "id": "fwWERJqYXPUp"
      },
      "source": [
        "# https://keraskorea.github.io/posts/2018-10-24-little_data_powerful_model/"
      ],
      "execution_count": 1,
      "outputs": []
    },
    {
      "cell_type": "code",
      "metadata": {
        "colab": {
          "base_uri": "https://localhost:8080/"
        },
        "id": "1yeipfKTfFgR",
        "outputId": "22227fc4-2f7d-402b-81c1-e9bae2030f58"
      },
      "source": [
        "# zip 유틸 설치\r\n",
        "!apt-get install zip unzip"
      ],
      "execution_count": 2,
      "outputs": [
        {
          "output_type": "stream",
          "text": [
            "Reading package lists... Done\n",
            "Building dependency tree       \n",
            "Reading state information... Done\n",
            "zip is already the newest version (3.0-11build1).\n",
            "unzip is already the newest version (6.0-21ubuntu1.1).\n",
            "0 upgraded, 0 newly installed, 0 to remove and 15 not upgraded.\n"
          ],
          "name": "stdout"
        }
      ]
    },
    {
      "cell_type": "code",
      "metadata": {
        "colab": {
          "base_uri": "https://localhost:8080/"
        },
        "id": "MRTYmLDdcuhj",
        "outputId": "ac9cc5fc-4527-45f2-e704-ef4db9e77ff9"
      },
      "source": [
        "# 원본경로 파일목록 읽기\r\n",
        "import os\r\n",
        "\r\n",
        "path = '/content/image'\r\n",
        "imgFileList = os.listdir(path)\r\n",
        "\r\n",
        "imgFileList = [x for x in imgFileList if 'jpg' in x] # jpg파일만 불러오기\r\n",
        "\r\n",
        "for i, file_name in enumerate(imgFileList):\r\n",
        "  print('i:',i+1 , ' ,name:', file_name)\r\n",
        "  #if i > 1 : break"
      ],
      "execution_count": 32,
      "outputs": [
        {
          "output_type": "stream",
          "text": [
            "i: 1  ,name: A08_한재호.jpg\n",
            "i: 2  ,name: B05_허덕진.jpg\n",
            "i: 3  ,name: B02_유두선.jpg\n",
            "i: 4  ,name: B03_임무영.jpg\n",
            "i: 5  ,name: C07_최학열.jpg\n",
            "i: 6  ,name: A06_정운국.jpg\n",
            "i: 7  ,name: E05_장정일.jpg\n",
            "i: 8  ,name: C04_김채미.jpg\n",
            "i: 9  ,name: C02_김성일.jpg\n",
            "i: 10  ,name: A03_안시형.jpg\n",
            "i: 11  ,name: B04_장호범.jpg\n",
            "i: 12  ,name: A05_이주형.jpg\n",
            "i: 13  ,name: B01_김용환.jpg\n",
            "i: 14  ,name: C06_이종석.jpg\n",
            "i: 15  ,name: E04_이은병.jpg\n",
            "i: 16  ,name: C03_김재천.jpg\n",
            "i: 17  ,name: A09_황정수.jpg\n",
            "i: 18  ,name: A04_이승헌.jpg\n",
            "i: 19  ,name: A02_김영학.jpg\n",
            "i: 20  ,name: A07_최찬웅.jpg\n",
            "i: 21  ,name: E06_최문섭.jpg\n",
            "i: 22  ,name: E03_송상현.jpg\n",
            "i: 23  ,name: D01_김현민.jpg\n",
            "i: 24  ,name: C01_김상훈.jpg\n",
            "i: 25  ,name: D02_백순철.jpg\n",
            "i: 26  ,name: A01_김기수.jpg\n",
            "i: 27  ,name: C05_문규.jpg\n",
            "i: 28  ,name: E02_김진하.jpg\n",
            "i: 29  ,name: E01_김기환.jpg\n",
            "i: 30  ,name: 김수정.jpg\n"
          ],
          "name": "stdout"
        }
      ]
    },
    {
      "cell_type": "code",
      "metadata": {
        "id": "IfDXHu06Xa3_"
      },
      "source": [
        "# preview 이미지 생성 메소드 \r\n",
        "from keras.preprocessing.image import ImageDataGenerator, array_to_img, img_to_array, load_img\r\n",
        "\r\n",
        "def save_img_by_img_gen(path, file_name, MAX_GEN_CNT):\r\n",
        "    datagen = ImageDataGenerator(\r\n",
        "        rotation_range=30,\r\n",
        "        width_shift_range=0.2,\r\n",
        "        height_shift_range=0.2,\r\n",
        "        rescale=1./255,\r\n",
        "        shear_range=0.3,\r\n",
        "        zoom_range=0.5, #확대/축소 비율\r\n",
        "        brightness_range= [0.01, 2.0], # 밝기 비율\r\n",
        "        channel_shift_range=150, # rgb 채널 랜덤 섞기(명암 어둡게 변함)\r\n",
        "        horizontal_flip=True,  #가로 대칭 전환\r\n",
        "        cval = 255, # constant일때 여백 흰색\r\n",
        "        fill_mode='constant') #nearest constant\r\n",
        "\r\n",
        "    img = load_img(path+\"/\"+file_name)  # PIL 이미지\r\n",
        "    x = img_to_array(img)  # (3, 100, 100) 크기의 NumPy 배열\r\n",
        "    x = x.reshape((1,) + x.shape)  # (1, 3, 150, 150) 크기의 NumPy 배열\r\n",
        "\r\n",
        "    #파일명별 폴더 생성\r\n",
        "    file_name = file_name.replace(\".jpg\",\"\")\r\n",
        "    new_path = '/content/img_gen/' + file_name\r\n",
        "    if not(os.path.isdir(new_path)): os.makedirs(os.path.join(new_path))\r\n",
        "\r\n",
        "    # 아래 .flow() 함수는 임의 변환된 이미지를 배치 단위로 생성해서, save_to_dir저장\r\n",
        "    i = 0\r\n",
        "    for batch in datagen.flow(x, batch_size=1, save_to_dir='img_gen'+'/'+file_name, save_prefix=file_name, save_format='jpeg'):\r\n",
        "        i += 1\r\n",
        "        if i > MAX_GEN_CNT: break "
      ],
      "execution_count": 33,
      "outputs": []
    },
    {
      "cell_type": "code",
      "metadata": {
        "colab": {
          "base_uri": "https://localhost:8080/"
        },
        "id": "ZgbNLU5RdiEe",
        "outputId": "331159ae-9b5e-4827-b95b-623bb1e74997"
      },
      "source": [
        "# 이미지 변환 파일 생성\r\n",
        "MAX_GEN_CNT = 200\r\n",
        "for i, file_name in enumerate(imgFileList):\r\n",
        "    save_img_by_img_gen(path, file_name, MAX_GEN_CNT)\r\n",
        "    print('i:',i+1 , ' ,name:', file_name + \" 변형 완료!\")"
      ],
      "execution_count": null,
      "outputs": [
        {
          "output_type": "stream",
          "text": [
            "i: 1  ,name: A08_한재호.jpg 변형 완료!\n",
            "i: 2  ,name: B05_허덕진.jpg 변형 완료!\n",
            "i: 3  ,name: B02_유두선.jpg 변형 완료!\n",
            "i: 4  ,name: B03_임무영.jpg 변형 완료!\n",
            "i: 5  ,name: C07_최학열.jpg 변형 완료!\n",
            "i: 6  ,name: A06_정운국.jpg 변형 완료!\n",
            "i: 7  ,name: E05_장정일.jpg 변형 완료!\n"
          ],
          "name": "stdout"
        }
      ]
    },
    {
      "cell_type": "code",
      "metadata": {
        "id": "jQPnvbTYzWJw"
      },
      "source": [
        "ls -alrt /content/image/"
      ],
      "execution_count": null,
      "outputs": []
    },
    {
      "cell_type": "code",
      "metadata": {
        "id": "9Vj7A9CBetI8"
      },
      "source": [
        "# #파일 목록 삭제\r\n",
        "# !\\rm -rf /content/tr_images.zip\r\n",
        "# !\\rm -rf /content/img_gen\r\n",
        "# # !\\rm -rf /content/image\r\n",
        "# !mkdir /content/img_gen\r\n",
        "# # !mkdir /content/image"
      ],
      "execution_count": 30,
      "outputs": []
    },
    {
      "cell_type": "code",
      "metadata": {
        "id": "YVzpTPFSXa6j"
      },
      "source": [
        "# 폴더압축 및 다운로드\r\n",
        "!zip -r /content/tr_images.zip /content/img_gen/*"
      ],
      "execution_count": null,
      "outputs": []
    },
    {
      "cell_type": "code",
      "metadata": {
        "id": "v5FOaJeerV-V"
      },
      "source": [
        "ls -alrt"
      ],
      "execution_count": null,
      "outputs": []
    },
    {
      "cell_type": "code",
      "metadata": {
        "id": "UsBmYSCPXa8r",
        "colab": {
          "base_uri": "https://localhost:8080/",
          "height": 334
        },
        "outputId": "ba6aadf1-8add-43b7-cf41-919c54e33dba"
      },
      "source": [
        "# 다운로드\r\n",
        "from google.colab import files\r\n",
        "files.download(\"/content/tr_images.zip\")"
      ],
      "execution_count": 10,
      "outputs": [
        {
          "output_type": "error",
          "ename": "FileNotFoundError",
          "evalue": "ignored",
          "traceback": [
            "\u001b[0;31m---------------------------------------------------------------------------\u001b[0m",
            "\u001b[0;31mFileNotFoundError\u001b[0m                         Traceback (most recent call last)",
            "\u001b[0;32m<ipython-input-10-cb90df8a3d2a>\u001b[0m in \u001b[0;36m<module>\u001b[0;34m()\u001b[0m\n\u001b[1;32m      1\u001b[0m \u001b[0;31m# 다운로드\u001b[0m\u001b[0;34m\u001b[0m\u001b[0;34m\u001b[0m\u001b[0;34m\u001b[0m\u001b[0m\n\u001b[1;32m      2\u001b[0m \u001b[0;32mfrom\u001b[0m \u001b[0mgoogle\u001b[0m\u001b[0;34m.\u001b[0m\u001b[0mcolab\u001b[0m \u001b[0;32mimport\u001b[0m \u001b[0mfiles\u001b[0m\u001b[0;34m\u001b[0m\u001b[0;34m\u001b[0m\u001b[0m\n\u001b[0;32m----> 3\u001b[0;31m \u001b[0mfiles\u001b[0m\u001b[0;34m.\u001b[0m\u001b[0mdownload\u001b[0m\u001b[0;34m(\u001b[0m\u001b[0;34m\"/content/tr_images.zip\"\u001b[0m\u001b[0;34m)\u001b[0m\u001b[0;34m\u001b[0m\u001b[0;34m\u001b[0m\u001b[0m\n\u001b[0m",
            "\u001b[0;32m/usr/local/lib/python3.6/dist-packages/google/colab/files.py\u001b[0m in \u001b[0;36mdownload\u001b[0;34m(filename)\u001b[0m\n\u001b[1;32m    141\u001b[0m       \u001b[0;32mraise\u001b[0m \u001b[0mOSError\u001b[0m\u001b[0;34m(\u001b[0m\u001b[0mmsg\u001b[0m\u001b[0;34m)\u001b[0m\u001b[0;34m\u001b[0m\u001b[0;34m\u001b[0m\u001b[0m\n\u001b[1;32m    142\u001b[0m     \u001b[0;32melse\u001b[0m\u001b[0;34m:\u001b[0m\u001b[0;34m\u001b[0m\u001b[0;34m\u001b[0m\u001b[0m\n\u001b[0;32m--> 143\u001b[0;31m       \u001b[0;32mraise\u001b[0m \u001b[0mFileNotFoundError\u001b[0m\u001b[0;34m(\u001b[0m\u001b[0mmsg\u001b[0m\u001b[0;34m)\u001b[0m  \u001b[0;31m# pylint: disable=undefined-variable\u001b[0m\u001b[0;34m\u001b[0m\u001b[0;34m\u001b[0m\u001b[0m\n\u001b[0m\u001b[1;32m    144\u001b[0m \u001b[0;34m\u001b[0m\u001b[0m\n\u001b[1;32m    145\u001b[0m   \u001b[0mcomm_manager\u001b[0m \u001b[0;34m=\u001b[0m \u001b[0m_IPython\u001b[0m\u001b[0;34m.\u001b[0m\u001b[0mget_ipython\u001b[0m\u001b[0;34m(\u001b[0m\u001b[0;34m)\u001b[0m\u001b[0;34m.\u001b[0m\u001b[0mkernel\u001b[0m\u001b[0;34m.\u001b[0m\u001b[0mcomm_manager\u001b[0m\u001b[0;34m\u001b[0m\u001b[0;34m\u001b[0m\u001b[0m\n",
            "\u001b[0;31mFileNotFoundError\u001b[0m: Cannot find file: /content/tr_images.zip"
          ]
        }
      ]
    }
  ]
}