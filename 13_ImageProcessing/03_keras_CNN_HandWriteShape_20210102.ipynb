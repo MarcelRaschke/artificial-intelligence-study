{
  "nbformat": 4,
  "nbformat_minor": 0,
  "metadata": {
    "colab": {
      "name": "03_keras_CNN_HandWriteShape_20210102.ipynb",
      "provenance": [],
      "collapsed_sections": []
    },
    "kernelspec": {
      "name": "python3",
      "display_name": "Python 3"
    },
    "accelerator": "GPU"
  },
  "cells": [
    {
      "cell_type": "code",
      "metadata": {
        "id": "oWzQaX_1Qbuo"
      },
      "source": [
        "#https://tykimos.github.io/2017/03/08/CNN_Getting_Started/"
      ],
      "execution_count": null,
      "outputs": []
    },
    {
      "cell_type": "code",
      "metadata": {
        "id": "DLZysG-hVpNe"
      },
      "source": [
        "#!\\rm -rf /content/tr_images.zip\r\n",
        "#!\\rm -rf /content/img_gen\r\n",
        "#!\\rm -rf /content/image\r\n",
        "!\\rm -rf /content/data\r\n",
        "#!\\rm -rf /content/train/rectangle\r\n",
        "!mkdir /content/data\r\n",
        "!mkdir /content/data/train\r\n",
        "!mkdir /content/data/train/circle\r\n",
        "!mkdir /content/data/train/rectangle\r\n",
        "!mkdir /content/data/train/triangle\r\n",
        "!mkdir /content/data/test\r\n",
        "!mkdir /content/data/test/circle\r\n",
        "!mkdir /content/data/test/rectangle\r\n",
        "!mkdir /content/data/test/triangle"
      ],
      "execution_count": null,
      "outputs": []
    },
    {
      "cell_type": "code",
      "metadata": {
        "id": "uuBEuWF7Rz2B"
      },
      "source": [
        "import numpy as np\r\n",
        "from keras.models import Sequential\r\n",
        "from keras.layers import Dense\r\n",
        "from keras.layers import Flatten\r\n",
        "from keras.layers.convolutional import Conv2D\r\n",
        "from keras.layers.convolutional import MaxPooling2D\r\n",
        "from keras.utils import np_utils\r\n",
        "from keras.preprocessing.image import ImageDataGenerator\r\n",
        "from PIL import Image"
      ],
      "execution_count": null,
      "outputs": []
    },
    {
      "cell_type": "code",
      "metadata": {
        "colab": {
          "base_uri": "https://localhost:8080/"
        },
        "id": "CIYg4-FpRz4r",
        "outputId": "efa1a80e-a789-4585-d494-52f5d241c40a"
      },
      "source": [
        "# train_datagen = ImageDataGenerator(rescale=1./255)\r\n",
        "# 학습용 데이터 부풀리기 - 샘플 이미지를 돌리고 비틀어서\r\n",
        "train_datagen = ImageDataGenerator(rescale=1./255, \r\n",
        "                                   rotation_range=10,\r\n",
        "                                   width_shift_range=0.2,\r\n",
        "                                   height_shift_range=0.2,\r\n",
        "                                   shear_range=0.7,\r\n",
        "                                   zoom_range=[0.9, 2.2],\r\n",
        "                                   horizontal_flip=True,\r\n",
        "                                   vertical_flip=True,\r\n",
        "                                   fill_mode='nearest')\r\n",
        "\r\n",
        "train_generator = train_datagen.flow_from_directory(\r\n",
        "        'data/train',\r\n",
        "        target_size=(24, 24),\r\n",
        "        batch_size=3,\r\n",
        "        class_mode='categorical')\r\n",
        "\r\n",
        "test_datagen = ImageDataGenerator(rescale=1./255)\r\n",
        "\r\n",
        "test_generator = test_datagen.flow_from_directory(\r\n",
        "        'data/test',\r\n",
        "        target_size=(24, 24),    \r\n",
        "        batch_size=3,\r\n",
        "        class_mode='categorical')"
      ],
      "execution_count": null,
      "outputs": [
        {
          "output_type": "stream",
          "text": [
            "Found 45 images belonging to 3 classes.\n",
            "Found 15 images belonging to 3 classes.\n"
          ],
          "name": "stdout"
        }
      ]
    },
    {
      "cell_type": "code",
      "metadata": {
        "colab": {
          "base_uri": "https://localhost:8080/"
        },
        "id": "Y9yhDoZtR18z",
        "outputId": "7dbe1fd3-307a-4afe-8a21-c7c4b6f79d07"
      },
      "source": [
        "model = Sequential()\r\n",
        "model.add(Conv2D(32, kernel_size=(3, 3),\r\n",
        "                 activation='relu',\r\n",
        "                 input_shape=(24,24,3)))\r\n",
        "model.add(Conv2D(64, (3, 3), activation='relu'))\r\n",
        "model.add(MaxPooling2D(pool_size=(2, 2)))\r\n",
        "model.add(Flatten())\r\n",
        "model.add(Dense(128, activation='relu'))\r\n",
        "model.add(Dense(3, activation='softmax'))\r\n",
        "\r\n",
        "model.compile(loss='categorical_crossentropy', optimizer='adam', metrics=['accuracy'])\r\n",
        "model.summary()"
      ],
      "execution_count": null,
      "outputs": [
        {
          "output_type": "stream",
          "text": [
            "Model: \"sequential_4\"\n",
            "_________________________________________________________________\n",
            "Layer (type)                 Output Shape              Param #   \n",
            "=================================================================\n",
            "conv2d_8 (Conv2D)            (None, 22, 22, 32)        896       \n",
            "_________________________________________________________________\n",
            "conv2d_9 (Conv2D)            (None, 20, 20, 64)        18496     \n",
            "_________________________________________________________________\n",
            "max_pooling2d_7 (MaxPooling2 (None, 10, 10, 64)        0         \n",
            "_________________________________________________________________\n",
            "flatten_4 (Flatten)          (None, 6400)              0         \n",
            "_________________________________________________________________\n",
            "dense_8 (Dense)              (None, 128)               819328    \n",
            "_________________________________________________________________\n",
            "dense_9 (Dense)              (None, 3)                 387       \n",
            "=================================================================\n",
            "Total params: 839,107\n",
            "Trainable params: 839,107\n",
            "Non-trainable params: 0\n",
            "_________________________________________________________________\n"
          ],
          "name": "stdout"
        }
      ]
    },
    {
      "cell_type": "code",
      "metadata": {
        "colab": {
          "base_uri": "https://localhost:8080/"
        },
        "id": "44ESHbYdR3Wv",
        "outputId": "52680ca1-b30d-4d1d-aca5-744f3b9fa54c"
      },
      "source": [
        "# 제네레이터로 생성된 배치로 학습시킬 경우 fit() 대신 fit_generator() 함수를 사용\r\n",
        "model.fit_generator(\r\n",
        "        train_generator,\r\n",
        "        steps_per_epoch=15,\r\n",
        "        epochs=50,\r\n",
        "        validation_data=test_generator\r\n",
        "        ,validation_steps=5\r\n",
        "    )\r\n",
        "\r\n",
        "# 제네레이터로 생성된 배치로 검증할 경우 evaluate() 대신 evaluate_generator() 함수를 사용\r\n",
        "print(\"-- Evaluate --\")\r\n",
        "scores = model.evaluate_generator(test_generator, steps=5)\r\n",
        "print(\"%s: %.2f%%\" %(model.metrics_names[1], scores[1]*100))\r\n",
        "\r\n",
        "# 역시 predict() 대신 predict_generator() 사용\r\n",
        "print(\"-- Predict --\")\r\n",
        "output = model.predict_generator(test_generator, steps=5)\r\n",
        "np.set_printoptions(formatter={'float': lambda x: \"{0:0.3f}\".format(x)})\r\n",
        "print(test_generator.class_indices)\r\n",
        "print(output)\r\n",
        "\r\n",
        "print(test_generator.filenames)"
      ],
      "execution_count": null,
      "outputs": [
        {
          "output_type": "stream",
          "text": [
            "/usr/local/lib/python3.6/dist-packages/tensorflow/python/keras/engine/training.py:1844: UserWarning: `Model.fit_generator` is deprecated and will be removed in a future version. Please use `Model.fit`, which supports generators.\n",
            "  warnings.warn('`Model.fit_generator` is deprecated and '\n"
          ],
          "name": "stderr"
        },
        {
          "output_type": "stream",
          "text": [
            "Epoch 1/50\n",
            "15/15 [==============================] - 1s 19ms/step - loss: 1.5731 - accuracy: 0.3070 - val_loss: 1.0869 - val_accuracy: 0.3333\n",
            "Epoch 2/50\n",
            "15/15 [==============================] - 0s 8ms/step - loss: 1.1001 - accuracy: 0.3440 - val_loss: 1.0794 - val_accuracy: 0.3333\n",
            "Epoch 3/50\n",
            "15/15 [==============================] - 0s 9ms/step - loss: 1.0505 - accuracy: 0.7091 - val_loss: 1.1002 - val_accuracy: 0.3333\n",
            "Epoch 4/50\n",
            "15/15 [==============================] - 0s 9ms/step - loss: 0.9458 - accuracy: 0.6493 - val_loss: 1.1401 - val_accuracy: 0.4000\n",
            "Epoch 5/50\n",
            "15/15 [==============================] - 0s 10ms/step - loss: 0.9093 - accuracy: 0.5454 - val_loss: 1.2029 - val_accuracy: 0.3333\n",
            "Epoch 6/50\n",
            "15/15 [==============================] - 0s 10ms/step - loss: 0.9318 - accuracy: 0.6284 - val_loss: 1.3382 - val_accuracy: 0.4000\n",
            "Epoch 7/50\n",
            "15/15 [==============================] - 0s 9ms/step - loss: 0.8243 - accuracy: 0.5452 - val_loss: 1.5428 - val_accuracy: 0.3333\n",
            "Epoch 8/50\n",
            "15/15 [==============================] - 0s 9ms/step - loss: 0.5922 - accuracy: 0.8086 - val_loss: 3.1913 - val_accuracy: 0.3333\n",
            "Epoch 9/50\n",
            "15/15 [==============================] - 0s 9ms/step - loss: 1.4511 - accuracy: 0.6061 - val_loss: 0.5639 - val_accuracy: 0.8667\n",
            "Epoch 10/50\n",
            "15/15 [==============================] - 0s 9ms/step - loss: 0.6277 - accuracy: 0.7675 - val_loss: 0.6718 - val_accuracy: 0.6667\n",
            "Epoch 11/50\n",
            "15/15 [==============================] - 0s 9ms/step - loss: 0.6908 - accuracy: 0.7279 - val_loss: 0.5926 - val_accuracy: 0.8000\n",
            "Epoch 12/50\n",
            "15/15 [==============================] - 0s 8ms/step - loss: 0.4560 - accuracy: 0.8799 - val_loss: 0.3233 - val_accuracy: 0.8667\n",
            "Epoch 13/50\n",
            "15/15 [==============================] - 0s 9ms/step - loss: 0.4797 - accuracy: 0.8611 - val_loss: 0.4274 - val_accuracy: 0.7333\n",
            "Epoch 14/50\n",
            "15/15 [==============================] - 0s 8ms/step - loss: 0.4050 - accuracy: 0.8574 - val_loss: 1.1054 - val_accuracy: 0.6667\n",
            "Epoch 15/50\n",
            "15/15 [==============================] - 0s 9ms/step - loss: 0.5090 - accuracy: 0.7894 - val_loss: 0.0161 - val_accuracy: 1.0000\n",
            "Epoch 16/50\n",
            "15/15 [==============================] - 0s 9ms/step - loss: 0.3103 - accuracy: 0.9321 - val_loss: 0.1363 - val_accuracy: 0.9333\n",
            "Epoch 17/50\n",
            "15/15 [==============================] - 0s 11ms/step - loss: 0.2698 - accuracy: 0.9341 - val_loss: 0.0076 - val_accuracy: 1.0000\n",
            "Epoch 18/50\n",
            "15/15 [==============================] - 0s 17ms/step - loss: 0.4133 - accuracy: 0.8336 - val_loss: 0.0103 - val_accuracy: 1.0000\n",
            "Epoch 19/50\n",
            "15/15 [==============================] - 0s 10ms/step - loss: 0.2480 - accuracy: 0.9388 - val_loss: 0.0221 - val_accuracy: 1.0000\n",
            "Epoch 20/50\n",
            "15/15 [==============================] - 0s 9ms/step - loss: 0.2846 - accuracy: 0.8552 - val_loss: 0.0489 - val_accuracy: 1.0000\n",
            "Epoch 21/50\n",
            "15/15 [==============================] - 0s 10ms/step - loss: 0.2403 - accuracy: 0.8543 - val_loss: 0.0077 - val_accuracy: 1.0000\n",
            "Epoch 22/50\n",
            "15/15 [==============================] - 0s 8ms/step - loss: 0.2466 - accuracy: 0.9254 - val_loss: 0.0155 - val_accuracy: 1.0000\n",
            "Epoch 23/50\n",
            "15/15 [==============================] - 0s 10ms/step - loss: 0.1604 - accuracy: 0.9130 - val_loss: 0.0171 - val_accuracy: 1.0000\n",
            "Epoch 24/50\n",
            "15/15 [==============================] - 0s 9ms/step - loss: 0.1053 - accuracy: 0.9777 - val_loss: 0.0094 - val_accuracy: 1.0000\n",
            "Epoch 25/50\n",
            "15/15 [==============================] - 0s 9ms/step - loss: 0.1825 - accuracy: 0.9576 - val_loss: 0.0087 - val_accuracy: 1.0000\n",
            "Epoch 26/50\n",
            "15/15 [==============================] - 0s 9ms/step - loss: 0.1820 - accuracy: 0.9613 - val_loss: 0.0141 - val_accuracy: 1.0000\n",
            "Epoch 27/50\n",
            "15/15 [==============================] - 0s 9ms/step - loss: 0.0959 - accuracy: 0.9877 - val_loss: 0.0046 - val_accuracy: 1.0000\n",
            "Epoch 28/50\n",
            "15/15 [==============================] - 0s 9ms/step - loss: 0.2073 - accuracy: 0.8755 - val_loss: 0.0297 - val_accuracy: 1.0000\n",
            "Epoch 29/50\n",
            "15/15 [==============================] - 0s 9ms/step - loss: 0.0814 - accuracy: 1.0000 - val_loss: 0.0140 - val_accuracy: 1.0000\n",
            "Epoch 30/50\n",
            "15/15 [==============================] - 0s 8ms/step - loss: 0.1806 - accuracy: 0.9453 - val_loss: 0.0200 - val_accuracy: 1.0000\n",
            "Epoch 31/50\n",
            "15/15 [==============================] - 0s 8ms/step - loss: 0.3096 - accuracy: 0.8902 - val_loss: 0.0505 - val_accuracy: 1.0000\n",
            "Epoch 32/50\n",
            "15/15 [==============================] - 0s 9ms/step - loss: 0.3108 - accuracy: 0.9229 - val_loss: 0.0219 - val_accuracy: 1.0000\n",
            "Epoch 33/50\n",
            "15/15 [==============================] - 0s 9ms/step - loss: 0.0426 - accuracy: 1.0000 - val_loss: 0.0084 - val_accuracy: 1.0000\n",
            "Epoch 34/50\n",
            "15/15 [==============================] - 0s 8ms/step - loss: 0.1330 - accuracy: 0.9653 - val_loss: 0.0191 - val_accuracy: 1.0000\n",
            "Epoch 35/50\n",
            "15/15 [==============================] - 0s 9ms/step - loss: 0.2973 - accuracy: 0.9276 - val_loss: 0.0247 - val_accuracy: 1.0000\n",
            "Epoch 36/50\n",
            "15/15 [==============================] - 0s 9ms/step - loss: 0.0889 - accuracy: 0.9957 - val_loss: 0.0336 - val_accuracy: 1.0000\n",
            "Epoch 37/50\n",
            "15/15 [==============================] - 0s 9ms/step - loss: 0.0920 - accuracy: 0.9558 - val_loss: 0.1539 - val_accuracy: 0.8667\n",
            "Epoch 38/50\n",
            "15/15 [==============================] - 0s 9ms/step - loss: 0.1415 - accuracy: 0.9677 - val_loss: 0.0207 - val_accuracy: 1.0000\n",
            "Epoch 39/50\n",
            "15/15 [==============================] - 0s 9ms/step - loss: 0.0887 - accuracy: 0.9503 - val_loss: 0.1341 - val_accuracy: 0.9333\n",
            "Epoch 40/50\n",
            "15/15 [==============================] - 0s 9ms/step - loss: 0.0549 - accuracy: 0.9884 - val_loss: 0.0962 - val_accuracy: 0.9333\n",
            "Epoch 41/50\n",
            "15/15 [==============================] - 0s 8ms/step - loss: 0.4280 - accuracy: 0.8902 - val_loss: 0.1073 - val_accuracy: 0.9333\n",
            "Epoch 42/50\n",
            "15/15 [==============================] - 0s 8ms/step - loss: 0.0787 - accuracy: 0.9861 - val_loss: 0.0017 - val_accuracy: 1.0000\n",
            "Epoch 43/50\n",
            "15/15 [==============================] - 0s 9ms/step - loss: 0.0508 - accuracy: 1.0000 - val_loss: 0.0094 - val_accuracy: 1.0000\n",
            "Epoch 44/50\n",
            "15/15 [==============================] - 0s 8ms/step - loss: 0.1558 - accuracy: 0.9295 - val_loss: 8.1663e-04 - val_accuracy: 1.0000\n",
            "Epoch 45/50\n",
            "15/15 [==============================] - 0s 9ms/step - loss: 0.0089 - accuracy: 1.0000 - val_loss: 7.6372e-04 - val_accuracy: 1.0000\n",
            "Epoch 46/50\n",
            "15/15 [==============================] - 0s 9ms/step - loss: 0.0098 - accuracy: 1.0000 - val_loss: 9.2353e-04 - val_accuracy: 1.0000\n",
            "Epoch 47/50\n",
            "15/15 [==============================] - 0s 8ms/step - loss: 0.0398 - accuracy: 0.9924 - val_loss: 1.9793e-04 - val_accuracy: 1.0000\n",
            "Epoch 48/50\n",
            "15/15 [==============================] - 0s 9ms/step - loss: 0.1769 - accuracy: 0.8991 - val_loss: 0.0612 - val_accuracy: 0.9333\n",
            "Epoch 49/50\n",
            "15/15 [==============================] - 0s 9ms/step - loss: 0.1586 - accuracy: 0.9242 - val_loss: 0.0295 - val_accuracy: 1.0000\n",
            "Epoch 50/50\n",
            "15/15 [==============================] - 0s 9ms/step - loss: 0.0978 - accuracy: 0.9835 - val_loss: 0.0072 - val_accuracy: 1.0000\n",
            "-- Evaluate --\n",
            "accuracy: 100.00%\n",
            "-- Predict --\n",
            "{'circle': 0, 'rectangle': 1, 'triangle': 2}\n",
            "[[0.000 0.000 1.000]\n",
            " [1.000 0.000 0.000]\n",
            " [1.000 0.000 0.000]\n",
            " [0.000 0.000 1.000]\n",
            " [0.007 0.011 0.983]\n",
            " [1.000 0.000 0.000]\n",
            " [0.054 0.946 0.000]\n",
            " [0.004 0.996 0.000]\n",
            " [0.000 0.000 1.000]\n",
            " [0.020 0.980 0.000]\n",
            " [0.000 0.000 1.000]\n",
            " [0.007 0.993 0.000]\n",
            " [1.000 0.000 0.000]\n",
            " [1.000 0.000 0.000]\n",
            " [0.003 0.997 0.000]]\n",
            "['circle/circle016.png', 'circle/circle017.png', 'circle/circle018.png', 'circle/circle019.png', 'circle/circle020.png', 'rectangle/rectangle016.png', 'rectangle/rectangle017.png', 'rectangle/rectangle018.png', 'rectangle/rectangle019.png', 'rectangle/rectangle020.png', 'triangle/triangle016.png', 'triangle/triangle017.png', 'triangle/triangle018.png', 'triangle/triangle019.png', 'triangle/triangle020.png']\n"
          ],
          "name": "stdout"
        },
        {
          "output_type": "stream",
          "text": [
            "/usr/local/lib/python3.6/dist-packages/tensorflow/python/keras/engine/training.py:1877: UserWarning: `Model.evaluate_generator` is deprecated and will be removed in a future version. Please use `Model.evaluate`, which supports generators.\n",
            "  warnings.warn('`Model.evaluate_generator` is deprecated and '\n",
            "/usr/local/lib/python3.6/dist-packages/tensorflow/python/keras/engine/training.py:1905: UserWarning: `Model.predict_generator` is deprecated and will be removed in a future version. Please use `Model.predict`, which supports generators.\n",
            "  warnings.warn('`Model.predict_generator` is deprecated and '\n"
          ],
          "name": "stderr"
        }
      ]
    }
  ]
}