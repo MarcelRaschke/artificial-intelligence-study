{
  "nbformat": 4,
  "nbformat_minor": 0,
  "metadata": {
    "colab": {
      "name": "02_CNN_Conv2D_Sample01_20210102.ipynb",
      "provenance": [],
      "collapsed_sections": []
    },
    "kernelspec": {
      "name": "python3",
      "display_name": "Python 3"
    },
    "accelerator": "GPU"
  },
  "cells": [
    {
      "cell_type": "code",
      "metadata": {
        "id": "sx6s7uyquR5o"
      },
      "source": [
        "#참고1: https://buomsoo-kim.github.io/keras/2018/05/02/Easy-deep-learning-with-Keras-8.md/\r\n",
        "#참고2: https://nittaku.tistory.com/264"
      ],
      "execution_count": null,
      "outputs": []
    },
    {
      "cell_type": "code",
      "metadata": {
        "colab": {
          "base_uri": "https://localhost:8080/"
        },
        "id": "c9mjadyAqnFV",
        "outputId": "08563b49-7cc6-4329-b5ba-708185868201"
      },
      "source": [
        "#%tensorflow_version 1.x\r\n",
        "import keras\r\n",
        "print(keras.__version__)\r\n",
        "import tensorflow as tf\r\n",
        "print(tf.__version__)# keras/tensorflow 2.x 사용시 버전\r\n",
        "# 2.4.3\r\n",
        "# 2.4.0"
      ],
      "execution_count": 1,
      "outputs": [
        {
          "output_type": "stream",
          "text": [
            "2.4.3\n",
            "2.4.0\n"
          ],
          "name": "stdout"
        }
      ]
    },
    {
      "cell_type": "code",
      "metadata": {
        "id": "1z1se7f5XpRw"
      },
      "source": [
        "import numpy as np\r\n",
        "from keras.models import Sequential\r\n",
        "from keras.layers import Dense\r\n",
        "from keras.layers import Flatten\r\n",
        "from keras.layers.convolutional import Conv2D\r\n",
        "from keras.layers.convolutional import MaxPooling2D\r\n",
        "from keras.utils import np_utils\r\n",
        "from keras.preprocessing.image import ImageDataGenerator\r\n",
        "from PIL import Image"
      ],
      "execution_count": 3,
      "outputs": []
    },
    {
      "cell_type": "code",
      "metadata": {
        "colab": {
          "base_uri": "https://localhost:8080/"
        },
        "id": "qFyBiuTJXpT_",
        "outputId": "85b6465e-720c-4901-ddfa-c1543e9c131e"
      },
      "source": [
        "model = Sequential()\r\n",
        "model.add(Conv2D(filters=32, kernel_size=(3, 3), strides=1, padding='same', #strides=1, padding='valid'\r\n",
        "                 activation='relu',\r\n",
        "                 input_shape=(24,24,3)))\r\n",
        "print(model.output_shape)\r\n",
        "model.add(MaxPooling2D(pool_size=(2, 2)))\r\n",
        "print(model.output_shape)\r\n",
        "\r\n",
        "model.add(Conv2D(64, (3, 3), activation='relu', strides=1, padding='same'))\r\n",
        "print(model.output_shape)\r\n",
        "model.add(MaxPooling2D(pool_size=(2, 2)))\r\n",
        "print(model.output_shape)\r\n",
        "\r\n",
        "model.add(Flatten())\r\n",
        "model.add(Dense(128, activation='relu'))\r\n",
        "model.add(Dense(3, activation='softmax'))\r\n",
        "\r\n",
        "model.compile(loss='categorical_crossentropy', optimizer='adam', metrics=['accuracy'])\r\n",
        "model.summary()"
      ],
      "execution_count": 11,
      "outputs": [
        {
          "output_type": "stream",
          "text": [
            "(None, 24, 24, 32)\n",
            "(None, 12, 12, 32)\n",
            "(None, 12, 12, 64)\n",
            "(None, 6, 6, 64)\n",
            "Model: \"sequential_7\"\n",
            "_________________________________________________________________\n",
            "Layer (type)                 Output Shape              Param #   \n",
            "=================================================================\n",
            "conv2d_12 (Conv2D)           (None, 24, 24, 32)        896       \n",
            "_________________________________________________________________\n",
            "max_pooling2d_12 (MaxPooling (None, 12, 12, 32)        0         \n",
            "_________________________________________________________________\n",
            "conv2d_13 (Conv2D)           (None, 12, 12, 64)        18496     \n",
            "_________________________________________________________________\n",
            "max_pooling2d_13 (MaxPooling (None, 6, 6, 64)          0         \n",
            "_________________________________________________________________\n",
            "flatten_6 (Flatten)          (None, 2304)              0         \n",
            "_________________________________________________________________\n",
            "dense_12 (Dense)             (None, 128)               295040    \n",
            "_________________________________________________________________\n",
            "dense_13 (Dense)             (None, 3)                 387       \n",
            "=================================================================\n",
            "Total params: 314,819\n",
            "Trainable params: 314,819\n",
            "Non-trainable params: 0\n",
            "_________________________________________________________________\n"
          ],
          "name": "stdout"
        }
      ]
    }
  ]
}