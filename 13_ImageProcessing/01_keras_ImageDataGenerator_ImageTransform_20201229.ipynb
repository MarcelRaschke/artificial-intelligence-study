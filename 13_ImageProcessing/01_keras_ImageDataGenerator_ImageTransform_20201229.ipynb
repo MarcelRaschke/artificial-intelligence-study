{
  "nbformat": 4,
  "nbformat_minor": 0,
  "metadata": {
    "colab": {
      "name": "01_face_detect_preporcessing_keras_20201229.ipynb",
      "provenance": [],
      "collapsed_sections": []
    },
    "kernelspec": {
      "name": "python3",
      "display_name": "Python 3"
    },
    "accelerator": "GPU"
  },
  "cells": [
    {
      "cell_type": "code",
      "metadata": {
        "id": "fwWERJqYXPUp"
      },
      "source": [
        "# https://keraskorea.github.io/posts/2018-10-24-little_data_powerful_model/"
      ],
      "execution_count": null,
      "outputs": []
    },
    {
      "cell_type": "code",
      "metadata": {
        "colab": {
          "base_uri": "https://localhost:8080/"
        },
        "id": "1yeipfKTfFgR",
        "outputId": "22227fc4-2f7d-402b-81c1-e9bae2030f58"
      },
      "source": [
        "# zip 유틸 설치\r\n",
        "!apt-get install zip unzip"
      ],
      "execution_count": null,
      "outputs": [
        {
          "output_type": "stream",
          "text": [
            "Reading package lists... Done\n",
            "Building dependency tree       \n",
            "Reading state information... Done\n",
            "zip is already the newest version (3.0-11build1).\n",
            "unzip is already the newest version (6.0-21ubuntu1.1).\n",
            "0 upgraded, 0 newly installed, 0 to remove and 15 not upgraded.\n"
          ],
          "name": "stdout"
        }
      ]
    },
    {
      "cell_type": "code",
      "metadata": {
        "id": "MRTYmLDdcuhj"
      },
      "source": [
        "# 원본경로 파일목록 읽기\r\n",
        "import os\r\n",
        "\r\n",
        "path = '/content/image'\r\n",
        "imgFileList = os.listdir(path)\r\n",
        "\r\n",
        "imgFileList = [x for x in imgFileList if 'jpg' in x] # jpg파일만 불러오기\r\n",
        "\r\n",
        "for i, file_name in enumerate(imgFileList):\r\n",
        "  print('i:',i+1 , ' ,name:', file_name)\r\n",
        "  #if i > 1 : break"
      ],
      "execution_count": null,
      "outputs": []
    },
    {
      "cell_type": "code",
      "metadata": {
        "id": "IfDXHu06Xa3_"
      },
      "source": [
        "# preview 이미지 생성 메소드 \r\n",
        "from keras.preprocessing.image import ImageDataGenerator, array_to_img, img_to_array, load_img\r\n",
        "\r\n",
        "def save_img_by_img_gen(path, file_name, MAX_GEN_CNT):\r\n",
        "    datagen = ImageDataGenerator(\r\n",
        "        rotation_range=30,\r\n",
        "        width_shift_range=0.2,\r\n",
        "        height_shift_range=0.2,\r\n",
        "        rescale=1./255,\r\n",
        "        shear_range=0.3,\r\n",
        "        zoom_range=0.5, #확대/축소 비율\r\n",
        "        brightness_range= [0.01, 2.0], # 밝기 비율\r\n",
        "        channel_shift_range=150, # rgb 채널 랜덤 섞기(명암 어둡게 변함)\r\n",
        "        horizontal_flip=True,  #가로 대칭 전환\r\n",
        "        cval = 255, # constant일때 여백 흰색\r\n",
        "        fill_mode='constant') #nearest constant\r\n",
        "\r\n",
        "    img = load_img(path+\"/\"+file_name)  # PIL 이미지\r\n",
        "    x = img_to_array(img)  # (3, 100, 100) 크기의 NumPy 배열\r\n",
        "    x = x.reshape((1,) + x.shape)  # (1, 3, 150, 150) 크기의 NumPy 배열\r\n",
        "\r\n",
        "    #파일명별 폴더 생성\r\n",
        "    file_name = file_name.replace(\".jpg\",\"\")\r\n",
        "    new_path = '/content/img_gen/' + file_name\r\n",
        "    if not(os.path.isdir(new_path)): os.makedirs(os.path.join(new_path))\r\n",
        "\r\n",
        "    # 아래 .flow() 함수는 임의 변환된 이미지를 배치 단위로 생성해서, save_to_dir저장\r\n",
        "    i = 0\r\n",
        "    for batch in datagen.flow(x, batch_size=1, save_to_dir='img_gen'+'/'+file_name, save_prefix=file_name, save_format='jpeg'):\r\n",
        "        i += 1\r\n",
        "        if i > MAX_GEN_CNT: break "
      ],
      "execution_count": null,
      "outputs": []
    },
    {
      "cell_type": "code",
      "metadata": {
        "id": "ZgbNLU5RdiEe"
      },
      "source": [
        "# 이미지 변환 파일 생성\r\n",
        "MAX_GEN_CNT = 200\r\n",
        "for i, file_name in enumerate(imgFileList):\r\n",
        "    save_img_by_img_gen(path, file_name, MAX_GEN_CNT)\r\n",
        "    print('i:',i+1 , ' ,name:', file_name + \" 변형 완료!\")"
      ],
      "execution_count": null,
      "outputs": []
    },
    {
      "cell_type": "code",
      "metadata": {
        "id": "jQPnvbTYzWJw"
      },
      "source": [
        "ls -alrt /content/image/"
      ],
      "execution_count": null,
      "outputs": []
    },
    {
      "cell_type": "code",
      "metadata": {
        "id": "9Vj7A9CBetI8"
      },
      "source": [
        "# #파일 목록 삭제\r\n",
        "# !\\rm -rf /content/tr_images.zip\r\n",
        "# !\\rm -rf /content/img_gen\r\n",
        "# # !\\rm -rf /content/image\r\n",
        "# !mkdir /content/img_gen\r\n",
        "# # !mkdir /content/image"
      ],
      "execution_count": null,
      "outputs": []
    },
    {
      "cell_type": "code",
      "metadata": {
        "id": "PC7aNTmGTeEQ"
      },
      "source": [
        "# 폴더압축 및 다운로드\r\n",
        "!zip -r /content/tr_images.zip /content/img_gen/*"
      ],
      "execution_count": null,
      "outputs": []
    },
    {
      "cell_type": "code",
      "metadata": {
        "id": "v5FOaJeerV-V"
      },
      "source": [
        "ls -alrt"
      ],
      "execution_count": null,
      "outputs": []
    },
    {
      "cell_type": "code",
      "metadata": {
        "id": "UsBmYSCPXa8r",
        "colab": {
          "base_uri": "https://localhost:8080/",
          "height": 17
        },
        "outputId": "edf6d2bc-5583-4858-baf4-d6905f3ae539"
      },
      "source": [
        "# 다운로드\r\n",
        "from google.colab import files\r\n",
        "files.download(\"/content/tr_images.zip\")"
      ],
      "execution_count": null,
      "outputs": [
        {
          "output_type": "display_data",
          "data": {
            "application/javascript": [
              "\n",
              "    async function download(id, filename, size) {\n",
              "      if (!google.colab.kernel.accessAllowed) {\n",
              "        return;\n",
              "      }\n",
              "      const div = document.createElement('div');\n",
              "      const label = document.createElement('label');\n",
              "      label.textContent = `Downloading \"${filename}\": `;\n",
              "      div.appendChild(label);\n",
              "      const progress = document.createElement('progress');\n",
              "      progress.max = size;\n",
              "      div.appendChild(progress);\n",
              "      document.body.appendChild(div);\n",
              "\n",
              "      const buffers = [];\n",
              "      let downloaded = 0;\n",
              "\n",
              "      const channel = await google.colab.kernel.comms.open(id);\n",
              "      // Send a message to notify the kernel that we're ready.\n",
              "      channel.send({})\n",
              "\n",
              "      for await (const message of channel.messages) {\n",
              "        // Send a message to notify the kernel that we're ready.\n",
              "        channel.send({})\n",
              "        if (message.buffers) {\n",
              "          for (const buffer of message.buffers) {\n",
              "            buffers.push(buffer);\n",
              "            downloaded += buffer.byteLength;\n",
              "            progress.value = downloaded;\n",
              "          }\n",
              "        }\n",
              "      }\n",
              "      const blob = new Blob(buffers, {type: 'application/binary'});\n",
              "      const a = document.createElement('a');\n",
              "      a.href = window.URL.createObjectURL(blob);\n",
              "      a.download = filename;\n",
              "      div.appendChild(a);\n",
              "      a.click();\n",
              "      div.remove();\n",
              "    }\n",
              "  "
            ],
            "text/plain": [
              "<IPython.core.display.Javascript object>"
            ]
          },
          "metadata": {
            "tags": []
          }
        },
        {
          "output_type": "display_data",
          "data": {
            "application/javascript": [
              "download(\"download_8aae2664-73de-47e8-ba0f-251dfb778d49\", \"tr_images.zip\", 54266903)"
            ],
            "text/plain": [
              "<IPython.core.display.Javascript object>"
            ]
          },
          "metadata": {
            "tags": []
          }
        }
      ]
    }
  ]
}