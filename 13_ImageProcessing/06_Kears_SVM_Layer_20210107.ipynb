{
  "nbformat": 4,
  "nbformat_minor": 0,
  "metadata": {
    "kernelspec": {
      "display_name": "Python 3",
      "language": "python",
      "name": "python3"
    },
    "language_info": {
      "codemirror_mode": {
        "name": "ipython",
        "version": 3
      },
      "file_extension": ".py",
      "mimetype": "text/x-python",
      "name": "python",
      "nbconvert_exporter": "python",
      "pygments_lexer": "ipython3",
      "version": "3.5.2"
    },
    "colab": {
      "name": "SVM Layer Keras_20210107.ipynb",
      "provenance": [],
      "collapsed_sections": []
    },
    "accelerator": "GPU"
  },
  "cells": [
    {
      "cell_type": "code",
      "metadata": {
        "id": "AHvXJkCAR5rt"
      },
      "source": [
        "# https://github.com/hgupta01/svm_classification_keras/blob/master/SVM%20Layer%20Keras.ipynb\n",
        "import tensorflow as tf\n",
        "from tensorflow.keras.datasets import mnist\n",
        "from tensorflow.keras.layers import Dense, Dropout, Input\n",
        "from tensorflow.keras.models import Model\n",
        "from tensorflow.keras.optimizers import RMSprop\n",
        "import tensorflow.keras.backend as K\n",
        "import numpy as np"
      ],
      "execution_count": null,
      "outputs": []
    },
    {
      "cell_type": "code",
      "metadata": {
        "id": "TsO0WolFR5r1",
        "colab": {
          "base_uri": "https://localhost:8080/"
        },
        "outputId": "43e645a9-e119-4b1f-ae31-44fa045b533d"
      },
      "source": [
        "# the data, split between train and test sets\n",
        "(x_train, y_train), (x_test, y_test) = mnist.load_data()\n",
        "\n",
        "x_train = x_train.reshape(60000, 784)\n",
        "x_test = x_test.reshape(10000, 784)\n",
        "x_train = x_train.astype('float32')\n",
        "x_test = x_test.astype('float32')\n",
        "x_train /= 255.\n",
        "x_test /= 255.\n",
        "print(x_train.shape[0], 'train samples')\n",
        "print(x_test.shape[0], 'test samples')\n",
        "print(x_train.shape)\n",
        "print(x_test.shape)\n",
        "\n",
        "num_classes = 10\n",
        "\n",
        "# convert class vectors to binary class matrices\n",
        "y_train = tf.keras.utils.to_categorical(y_train, num_classes)\n",
        "y_test = tf.keras.utils.to_categorical(y_test, num_classes)\n"
      ],
      "execution_count": null,
      "outputs": [
        {
          "output_type": "stream",
          "text": [
            "Downloading data from https://storage.googleapis.com/tensorflow/tf-keras-datasets/mnist.npz\n",
            "11493376/11490434 [==============================] - 0s 0us/step\n",
            "60000 train samples\n",
            "10000 test samples\n",
            "(60000, 784)\n",
            "(10000, 784)\n"
          ],
          "name": "stdout"
        }
      ]
    },
    {
      "cell_type": "code",
      "metadata": {
        "id": "6mEfNta0R5r2"
      },
      "source": [
        "def model_1(x_input):\n",
        "    x = Dense(512, activation='relu')(x_input)\n",
        "    x = Dense(512, activation='relu')(x)\n",
        "    x = Dropout(0.5)(x)\n",
        "    x_out = Dense(256, activation='relu')(x)\n",
        "    x_out = Dropout(0.5)(x)\n",
        "    return x_out"
      ],
      "execution_count": null,
      "outputs": []
    },
    {
      "cell_type": "code",
      "metadata": {
        "id": "zePoB_amR5r3"
      },
      "source": [
        "def model_2(x_input):\n",
        "    x = Dense(800, activation='sigmoid')(x_input)\n",
        "    x = Dropout(0.5)(x)\n",
        "    x = Dense(200, activation='sigmoid')(x)\n",
        "    x = Dropout(0.5)(x)\n",
        "    x_out = Dense(12)(x)\n",
        "    return x_out"
      ],
      "execution_count": null,
      "outputs": []
    },
    {
      "cell_type": "code",
      "metadata": {
        "id": "patlup9JR5r3"
      },
      "source": [
        "inputs = Input(shape=(784,))\n",
        "x      = model_1(inputs)\n",
        "x_out  = Dense(10, use_bias=False, activation='linear', name='svm')(x)\n",
        "model = Model(inputs, x_out)"
      ],
      "execution_count": null,
      "outputs": []
    },
    {
      "cell_type": "code",
      "metadata": {
        "id": "ar7nmOc0R5r4"
      },
      "source": [
        "def svm_loss(layer):\n",
        "    weights = layer.weights[0]\n",
        "    weights_tf = tf.convert_to_tensor(weights)\n",
        "    \n",
        "    def categorical_hinge_loss(y_true, y_pred):\n",
        "        pos = K.sum(y_true * y_pred, axis=-1)\n",
        "        neg = K.max((1.0 - y_true) * y_pred, axis=-1)\n",
        "        hinge_loss = K.mean(K.maximum(0.0, neg - pos + 1), axis=-1)\n",
        "        regularization_loss = 0.5*(tf.reduce_sum(tf.square(weights_tf)))\n",
        "        return regularization_loss + 0.4*hinge_loss\n",
        "    \n",
        "    return categorical_hinge_loss\n"
      ],
      "execution_count": null,
      "outputs": []
    },
    {
      "cell_type": "code",
      "metadata": {
        "id": "LqlRGSdjR5r4",
        "colab": {
          "base_uri": "https://localhost:8080/"
        },
        "outputId": "c7b7008e-8d38-4ad0-8443-6e3dcdf9747a"
      },
      "source": [
        "metrics = ['accuracy']\n",
        "optimizer = tf.keras.optimizers.RMSprop(lr=2e-3, decay=1e-5)\n",
        "#optimizer = tf.train.AdamOptimizer(1.e-3)\n",
        "\n",
        "model.compile(optimizer=optimizer, loss=svm_loss(model.get_layer('svm')), metrics=metrics)\n",
        "model.summary()"
      ],
      "execution_count": null,
      "outputs": [
        {
          "output_type": "stream",
          "text": [
            "Model: \"model\"\n",
            "_________________________________________________________________\n",
            "Layer (type)                 Output Shape              Param #   \n",
            "=================================================================\n",
            "input_1 (InputLayer)         [(None, 784)]             0         \n",
            "_________________________________________________________________\n",
            "dense (Dense)                (None, 512)               401920    \n",
            "_________________________________________________________________\n",
            "dense_1 (Dense)              (None, 512)               262656    \n",
            "_________________________________________________________________\n",
            "dropout (Dropout)            (None, 512)               0         \n",
            "_________________________________________________________________\n",
            "dropout_1 (Dropout)          (None, 512)               0         \n",
            "_________________________________________________________________\n",
            "svm (Dense)                  (None, 10)                5120      \n",
            "=================================================================\n",
            "Total params: 669,696\n",
            "Trainable params: 669,696\n",
            "Non-trainable params: 0\n",
            "_________________________________________________________________\n"
          ],
          "name": "stdout"
        }
      ]
    },
    {
      "cell_type": "code",
      "metadata": {
        "scrolled": false,
        "id": "Gvm2lcg8R5r5",
        "colab": {
          "base_uri": "https://localhost:8080/"
        },
        "outputId": "ba28ced7-0b3b-4829-be0b-772734968309"
      },
      "source": [
        "batch_size = 64\n",
        "epochs = 4\n",
        "\n",
        "history = model.fit(x_train, y_train,\n",
        "                    batch_size=batch_size,\n",
        "                    epochs=epochs,\n",
        "                    verbose=1,\n",
        "                    validation_data=(x_test, y_test))\n",
        "score = model.evaluate(x_test, y_test, verbose=0)\n",
        "print('Test loss:', score[0])\n",
        "print('Test accuracy:', score[1])\n"
      ],
      "execution_count": null,
      "outputs": [
        {
          "output_type": "stream",
          "text": [
            "Epoch 1/4\n",
            "938/938 [==============================] - 6s 4ms/step - loss: 10.1532 - accuracy: 0.8488 - val_loss: 10.0542 - val_accuracy: 0.9539\n",
            "Epoch 2/4\n",
            "938/938 [==============================] - 3s 3ms/step - loss: 10.0535 - accuracy: 0.9568 - val_loss: 10.0404 - val_accuracy: 0.9683\n",
            "Epoch 3/4\n",
            "938/938 [==============================] - 3s 4ms/step - loss: 10.0444 - accuracy: 0.9672 - val_loss: 10.0454 - val_accuracy: 0.9652\n",
            "Epoch 4/4\n",
            "938/938 [==============================] - 3s 3ms/step - loss: 10.0378 - accuracy: 0.9722 - val_loss: 10.0392 - val_accuracy: 0.9734\n",
            "Test loss: 10.03917121887207\n",
            "Test accuracy: 0.9733999967575073\n"
          ],
          "name": "stdout"
        }
      ]
    }
  ]
}