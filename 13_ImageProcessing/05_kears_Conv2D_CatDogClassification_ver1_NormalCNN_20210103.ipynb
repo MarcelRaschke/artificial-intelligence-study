{
  "nbformat": 4,
  "nbformat_minor": 0,
  "metadata": {
    "colab": {
      "name": "05_kears_Conv2D_CatDogClassification_ver1_NormalCNN_20210103.ipynb",
      "provenance": [],
      "collapsed_sections": []
    },
    "kernelspec": {
      "name": "python3",
      "display_name": "Python 3"
    },
    "accelerator": "GPU"
  },
  "cells": [
    {
      "cell_type": "code",
      "metadata": {
        "id": "ZHYiNNbmnbfp"
      },
      "source": [
        "# https://keraskorea.github.io/posts/2018-10-24-little_data_powerful_model/\r\n",
        "# cat/dog image: https://www.kaggle.com/c/dogs-vs-cats/data?select=test1.zip"
      ],
      "execution_count": null,
      "outputs": []
    },
    {
      "cell_type": "code",
      "metadata": {
        "colab": {
          "base_uri": "https://localhost:8080/"
        },
        "id": "jDiz-YOqEkyH",
        "outputId": "93e458a3-8e3b-4aaa-8748-8cc162aceadc"
      },
      "source": [
        "!mkdir /content/data\r\n",
        "!mkdir /content/data/train\r\n",
        "!mkdir /content/data/train/cat\r\n",
        "!mkdir /content/data/train/dog\r\n",
        "!mkdir /content/data/test\r\n",
        "!mkdir /content/data/test/cat\r\n",
        "!mkdir /content/data/test/dog"
      ],
      "execution_count": 1,
      "outputs": [
        {
          "output_type": "stream",
          "text": [
            "mkdir: cannot create directory ‘/content/data/test’: No such file or directory\n",
            "mkdir: cannot create directory ‘/content/data/test/cat’: No such file or directory\n",
            "mkdir: cannot create directory ‘/content/data/test/dog’: No such file or directory\n"
          ],
          "name": "stdout"
        }
      ]
    },
    {
      "cell_type": "code",
      "metadata": {
        "colab": {
          "base_uri": "https://localhost:8080/"
        },
        "id": "VxdZukxALIoR",
        "outputId": "5ff2952b-2a1d-4fa3-e350-cc0700303ecc"
      },
      "source": [
        "#%tensorflow_version 1.x\r\n",
        "import keras\r\n",
        "print(keras.__version__)\r\n",
        "import tensorflow as tf\r\n",
        "print(tf.__version__)# keras/tensorflow 2.x 사용시 버전\r\n",
        "# 2.4.3\r\n",
        "# 2.4.0"
      ],
      "execution_count": 18,
      "outputs": [
        {
          "output_type": "stream",
          "text": [
            "2.4.3\n",
            "2.4.0\n"
          ],
          "name": "stdout"
        }
      ]
    },
    {
      "cell_type": "code",
      "metadata": {
        "colab": {
          "base_uri": "https://localhost:8080/"
        },
        "id": "TSeZrt7n-UHX",
        "outputId": "a367cfcc-4c64-410f-b5ac-456458db6bdb"
      },
      "source": [
        "#https://gist.github.com/fchollet/0830affa1f7f19fd47b06d4cf89ed44d\r\n",
        "from keras.preprocessing.image import ImageDataGenerator\r\n",
        "from keras.models import Sequential\r\n",
        "from keras.layers import Conv2D, MaxPooling2D\r\n",
        "from keras.layers import Activation, Dropout, Flatten, Dense\r\n",
        "from keras import backend as K\r\n",
        "import numpy as np\r\n",
        "\r\n",
        "\r\n",
        "# dimensions of our images.\r\n",
        "img_width, img_height = 150, 150\r\n",
        "\r\n",
        "train_data_dir = 'data/train'\r\n",
        "validation_data_dir = 'data/test'\r\n",
        "nb_train_samples = 2000\r\n",
        "nb_validation_samples = 20\r\n",
        "epochs = 20\r\n",
        "batch_size = 16\r\n",
        "batch_size_val = 2\r\n",
        "\r\n",
        "# if K.image_data_format() == 'channels_first':\r\n",
        "#     input_shape = (3, img_width, img_height)\r\n",
        "# else:\r\n",
        "input_shape = (img_width, img_height, 3)"
      ],
      "execution_count": 19,
      "outputs": [
        {
          "output_type": "stream",
          "text": [
            "Model: \"sequential_3\"\n",
            "_________________________________________________________________\n",
            "Layer (type)                 Output Shape              Param #   \n",
            "=================================================================\n",
            "conv2d_9 (Conv2D)            (None, 148, 148, 32)      896       \n",
            "_________________________________________________________________\n",
            "activation_15 (Activation)   (None, 148, 148, 32)      0         \n",
            "_________________________________________________________________\n",
            "max_pooling2d_9 (MaxPooling2 (None, 74, 74, 32)        0         \n",
            "_________________________________________________________________\n",
            "conv2d_10 (Conv2D)           (None, 72, 72, 32)        9248      \n",
            "_________________________________________________________________\n",
            "activation_16 (Activation)   (None, 72, 72, 32)        0         \n",
            "_________________________________________________________________\n",
            "max_pooling2d_10 (MaxPooling (None, 36, 36, 32)        0         \n",
            "_________________________________________________________________\n",
            "conv2d_11 (Conv2D)           (None, 34, 34, 64)        18496     \n",
            "_________________________________________________________________\n",
            "activation_17 (Activation)   (None, 34, 34, 64)        0         \n",
            "_________________________________________________________________\n",
            "max_pooling2d_11 (MaxPooling (None, 17, 17, 64)        0         \n",
            "_________________________________________________________________\n",
            "flatten_3 (Flatten)          (None, 18496)             0         \n",
            "_________________________________________________________________\n",
            "dense_6 (Dense)              (None, 64)                1183808   \n",
            "_________________________________________________________________\n",
            "activation_18 (Activation)   (None, 64)                0         \n",
            "_________________________________________________________________\n",
            "dropout_3 (Dropout)          (None, 64)                0         \n",
            "_________________________________________________________________\n",
            "dense_7 (Dense)              (None, 1)                 65        \n",
            "_________________________________________________________________\n",
            "activation_19 (Activation)   (None, 1)                 0         \n",
            "=================================================================\n",
            "Total params: 1,212,513\n",
            "Trainable params: 1,212,513\n",
            "Non-trainable params: 0\n",
            "_________________________________________________________________\n"
          ],
          "name": "stdout"
        }
      ]
    },
    {
      "cell_type": "code",
      "metadata": {
        "id": "XwcwML6iMccE"
      },
      "source": [
        "model = Sequential()\r\n",
        "model.add(Conv2D(32, (3, 3), input_shape=input_shape))\r\n",
        "model.add(Activation('relu'))\r\n",
        "model.add(MaxPooling2D(pool_size=(2, 2)))\r\n",
        "\r\n",
        "model.add(Conv2D(32, (3, 3)))\r\n",
        "model.add(Activation('relu'))\r\n",
        "model.add(MaxPooling2D(pool_size=(2, 2)))\r\n",
        "\r\n",
        "model.add(Conv2D(64, (3, 3)))\r\n",
        "model.add(Activation('relu'))\r\n",
        "model.add(MaxPooling2D(pool_size=(2, 2)))\r\n",
        "\r\n",
        "model.add(Flatten())\r\n",
        "model.add(Dense(64))\r\n",
        "model.add(Activation('relu'))\r\n",
        "model.add(Dropout(0.5))\r\n",
        "model.add(Dense(1))\r\n",
        "model.add(Activation('sigmoid'))\r\n",
        "\r\n",
        "model.compile(loss='binary_crossentropy',\r\n",
        "              optimizer='rmsprop',\r\n",
        "              metrics=['accuracy'])\r\n",
        "model.summary()"
      ],
      "execution_count": null,
      "outputs": []
    },
    {
      "cell_type": "code",
      "metadata": {
        "colab": {
          "base_uri": "https://localhost:8080/"
        },
        "id": "YwwbdxC0__ax",
        "outputId": "7093dcf6-697b-45e6-f548-68c841d572f2"
      },
      "source": [
        "# this is the augmentation configuration we will use for training\r\n",
        "train_datagen = ImageDataGenerator(\r\n",
        "    rescale=1. / 255,\r\n",
        "    shear_range=0.2,\r\n",
        "    zoom_range=0.2,\r\n",
        "    horizontal_flip=True)\r\n",
        "\r\n",
        "# this is the augmentation configuration we will use for testing:\r\n",
        "# only rescaling\r\n",
        "test_datagen = ImageDataGenerator(rescale=1. / 255)\r\n",
        "\r\n",
        "train_generator = train_datagen.flow_from_directory(\r\n",
        "    train_data_dir,\r\n",
        "    target_size=(img_width, img_height),\r\n",
        "    batch_size=batch_size, #batch_size는 한번 flow_from_directory가 실행 될 때 생성할 이미지 수입니다.\r\n",
        "    # 즉, 100개의 데이터가 있을때 batch_size가 1이면 flow_from_directory를 100번실행해야 가지고 있는 100개의 데이터를 불러낼수가 있습니다.\r\n",
        "    class_mode='binary')\r\n",
        "\r\n",
        "validation_generator = test_datagen.flow_from_directory(\r\n",
        "    validation_data_dir,\r\n",
        "    target_size=(img_width, img_height),\r\n",
        "    batch_size=batch_size_val,\r\n",
        "    class_mode='binary')"
      ],
      "execution_count": 20,
      "outputs": [
        {
          "output_type": "stream",
          "text": [
            "Found 2000 images belonging to 2 classes.\n",
            "Found 20 images belonging to 2 classes.\n"
          ],
          "name": "stdout"
        }
      ]
    },
    {
      "cell_type": "code",
      "metadata": {
        "colab": {
          "base_uri": "https://localhost:8080/"
        },
        "id": "5JbwAuKiBXJi",
        "outputId": "36f1a5ab-900d-4291-954c-8a8f7a8d5c64"
      },
      "source": [
        "print('nb_train_samples // batch_size:', nb_train_samples // batch_size)\r\n",
        "print('nb_validation_samples//batch_size_val:', nb_validation_samples//batch_size_val)\r\n",
        "\r\n",
        "model.fit_generator(\r\n",
        "    train_generator,\r\n",
        "    steps_per_epoch=nb_train_samples // batch_size, #//:몫연산자 2000/16=125\r\n",
        "    epochs=epochs,\r\n",
        "    validation_data=validation_generator,\r\n",
        "    validation_steps=nb_validation_samples//batch_size_val\r\n",
        "    )\r\n",
        "\r\n",
        "model.save_weights('first_try.h5')"
      ],
      "execution_count": 21,
      "outputs": [
        {
          "output_type": "stream",
          "text": [
            "nb_train_samples // batch_size: 125\n",
            "nb_validation_samples//batch_size_val: 10\n",
            "Epoch 1/10\n"
          ],
          "name": "stdout"
        },
        {
          "output_type": "stream",
          "text": [
            "/usr/local/lib/python3.6/dist-packages/tensorflow/python/keras/engine/training.py:1844: UserWarning: `Model.fit_generator` is deprecated and will be removed in a future version. Please use `Model.fit`, which supports generators.\n",
            "  warnings.warn('`Model.fit_generator` is deprecated and '\n"
          ],
          "name": "stderr"
        },
        {
          "output_type": "stream",
          "text": [
            "125/125 [==============================] - 15s 115ms/step - loss: 0.7259 - accuracy: 0.5062 - val_loss: 0.6777 - val_accuracy: 0.7500\n",
            "Epoch 2/10\n",
            "125/125 [==============================] - 14s 115ms/step - loss: 0.6786 - accuracy: 0.5733 - val_loss: 0.6315 - val_accuracy: 0.5500\n",
            "Epoch 3/10\n",
            "125/125 [==============================] - 14s 110ms/step - loss: 0.6466 - accuracy: 0.6220 - val_loss: 0.5646 - val_accuracy: 0.7500\n",
            "Epoch 4/10\n",
            "125/125 [==============================] - 14s 110ms/step - loss: 0.6086 - accuracy: 0.6724 - val_loss: 0.5365 - val_accuracy: 0.6500\n",
            "Epoch 5/10\n",
            "125/125 [==============================] - 14s 111ms/step - loss: 0.5986 - accuracy: 0.6658 - val_loss: 0.4977 - val_accuracy: 0.7500\n",
            "Epoch 6/10\n",
            "125/125 [==============================] - 14s 110ms/step - loss: 0.5764 - accuracy: 0.7012 - val_loss: 0.5361 - val_accuracy: 0.6500\n",
            "Epoch 7/10\n",
            "125/125 [==============================] - 14s 112ms/step - loss: 0.5618 - accuracy: 0.7347 - val_loss: 0.4664 - val_accuracy: 0.6500\n",
            "Epoch 8/10\n",
            "125/125 [==============================] - 14s 113ms/step - loss: 0.5556 - accuracy: 0.7325 - val_loss: 0.4981 - val_accuracy: 0.7000\n",
            "Epoch 9/10\n",
            "125/125 [==============================] - 14s 113ms/step - loss: 0.5302 - accuracy: 0.7319 - val_loss: 0.5256 - val_accuracy: 0.6000\n",
            "Epoch 10/10\n",
            "125/125 [==============================] - 14s 112ms/step - loss: 0.5266 - accuracy: 0.7365 - val_loss: 0.4488 - val_accuracy: 0.7500\n"
          ],
          "name": "stdout"
        }
      ]
    },
    {
      "cell_type": "code",
      "metadata": {
        "colab": {
          "base_uri": "https://localhost:8080/"
        },
        "id": "GXivKXHSD2UY",
        "outputId": "0b4522e6-0dc9-45ee-dd58-f44475a42f4a"
      },
      "source": [
        "# 제네레이터로 생성된 배치로 검증할 경우 evaluate() 대신 evaluate_generator() 함수를 사용\r\n",
        "print(\"-- Evaluate --\")\r\n",
        "scores = model.evaluate_generator(validation_generator, steps=nb_validation_samples//batch_size_val)\r\n",
        "print(\"%s: %.2f%%\" %(model.metrics_names[1], scores[1]*100))\r\n"
      ],
      "execution_count": 22,
      "outputs": [
        {
          "output_type": "stream",
          "text": [
            "-- Evaluate --\n",
            "accuracy: 75.00%\n"
          ],
          "name": "stdout"
        },
        {
          "output_type": "stream",
          "text": [
            "/usr/local/lib/python3.6/dist-packages/tensorflow/python/keras/engine/training.py:1877: UserWarning: `Model.evaluate_generator` is deprecated and will be removed in a future version. Please use `Model.evaluate`, which supports generators.\n",
            "  warnings.warn('`Model.evaluate_generator` is deprecated and '\n"
          ],
          "name": "stderr"
        }
      ]
    },
    {
      "cell_type": "code",
      "metadata": {
        "colab": {
          "base_uri": "https://localhost:8080/"
        },
        "id": "bnSsi4ZKMl8M",
        "outputId": "cc62e294-f8a1-4911-c5c0-3654c02f60cf"
      },
      "source": [
        "# 역시 predict() 대신 predict_generator() 사용\r\n",
        "print(\"-- Predict --\")\r\n",
        "output = model.predict_generator(validation_generator, steps=nb_validation_samples//batch_size_val)\r\n",
        "np.set_printoptions(formatter={'float': lambda x: \"{0:0.3f}\".format(x)})\r\n",
        "print(validation_generator.class_indices)\r\n",
        "print(output)\r\n",
        "\r\n",
        "print(validation_generator.filenames)"
      ],
      "execution_count": 23,
      "outputs": [
        {
          "output_type": "stream",
          "text": [
            "-- Predict --\n",
            "{'cat': 0, 'dog': 1}\n",
            "[[0.385]\n",
            " [0.436]\n",
            " [0.446]\n",
            " [0.306]\n",
            " [0.496]\n",
            " [0.795]\n",
            " [0.129]\n",
            " [0.434]\n",
            " [0.549]\n",
            " [0.034]\n",
            " [0.003]\n",
            " [0.018]\n",
            " [0.920]\n",
            " [0.205]\n",
            " [0.040]\n",
            " [0.656]\n",
            " [0.221]\n",
            " [0.999]\n",
            " [0.296]\n",
            " [0.403]]\n",
            "['cat/10.jpg', 'cat/11.jpg', 'cat/14.jpg', 'cat/16.jpg', 'cat/20.jpg', 'cat/5.jpg', 'cat/6.jpg', 'cat/7.jpg', 'cat/8.jpg', 'cat/9.jpg', 'dog/1.jpg', 'dog/2.jpg', 'dog/21.jpg', 'dog/23.jpg', 'dog/27.jpg', 'dog/3.jpg', 'dog/30.jpg', 'dog/31.jpg', 'dog/33.jpg', 'dog/4.jpg']\n"
          ],
          "name": "stdout"
        },
        {
          "output_type": "stream",
          "text": [
            "/usr/local/lib/python3.6/dist-packages/tensorflow/python/keras/engine/training.py:1905: UserWarning: `Model.predict_generator` is deprecated and will be removed in a future version. Please use `Model.predict`, which supports generators.\n",
            "  warnings.warn('`Model.predict_generator` is deprecated and '\n"
          ],
          "name": "stderr"
        }
      ]
    }
  ]
}