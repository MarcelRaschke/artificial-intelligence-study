{
  "nbformat": 4,
  "nbformat_minor": 0,
  "metadata": {
    "colab": {
      "name": "pos_tagging_neural_nets_keras.ipynb",
      "provenance": [],
      "collapsed_sections": [],
      "machine_shape": "hm"
    },
    "kernelspec": {
      "name": "python3",
      "display_name": "Python 3"
    },
    "accelerator": "TPU"
  },
  "cells": [
    {
      "cell_type": "code",
      "metadata": {
        "id": "K12g61FmXVWW",
        "colab_type": "code",
        "colab": {}
      },
      "source": [
        "#https://github.com/Cdiscount/IT-Blog/blob/master/samples/DataScience/pos-tagging-neural-nets-keras/pos_tagging_neural_nets_keras.ipynb"
      ],
      "execution_count": 1,
      "outputs": []
    },
    {
      "cell_type": "code",
      "metadata": {
        "id": "VtockhoaXczz",
        "colab_type": "code",
        "colab": {
          "base_uri": "https://localhost:8080/",
          "height": 107
        },
        "outputId": "d4ff570c-fa0d-44c2-b552-856cd81f9dc4"
      },
      "source": [
        "# Ensure reproducibility\n",
        "import numpy as np\n",
        "\n",
        "CUSTOM_SEED = 42\n",
        "np.random.seed(CUSTOM_SEED)\n",
        "\n",
        "import nltk\n",
        "nltk.download('treebank')\n",
        "nltk.download('universal_tagset')"
      ],
      "execution_count": 2,
      "outputs": [
        {
          "output_type": "stream",
          "text": [
            "[nltk_data] Downloading package treebank to /root/nltk_data...\n",
            "[nltk_data]   Package treebank is already up-to-date!\n",
            "[nltk_data] Downloading package universal_tagset to /root/nltk_data...\n",
            "[nltk_data]   Package universal_tagset is already up-to-date!\n"
          ],
          "name": "stdout"
        },
        {
          "output_type": "execute_result",
          "data": {
            "text/plain": [
              "True"
            ]
          },
          "metadata": {
            "tags": []
          },
          "execution_count": 2
        }
      ]
    },
    {
      "cell_type": "code",
      "metadata": {
        "id": "PyHTnvxGXc2X",
        "colab_type": "code",
        "colab": {
          "base_uri": "https://localhost:8080/",
          "height": 271
        },
        "outputId": "5d1034c2-51d3-428e-c727-171ff2780c10"
      },
      "source": [
        "from nltk.corpus import treebank\n",
        "import random\n",
        "\n",
        "sentences = treebank.tagged_sents(tagset='universal')\n",
        "print('a random sentence: \\n-> {}'.format(random.choice(sentences)))\n",
        "\n",
        "for list_dat in treebank.sents()[0:10]:\n",
        "    print(' '.join(list_dat))\n",
        "\n",
        "sen_len = len(sentences)\n",
        "print('sen_len:', sen_len)\n",
        "sentences = sentences[0: int(sen_len/2)]"
      ],
      "execution_count": 3,
      "outputs": [
        {
          "output_type": "stream",
          "text": [
            "a random sentence: \n",
            "-> [('Foreigners', 'NOUN'), ('complain', 'VERB'), ('that', 'ADP'), ('they', 'PRON'), ('have', 'VERB'), ('limited', 'ADJ'), ('access', 'NOUN'), ('to', 'PRT'), ('government', 'NOUN'), ('procurement', 'NOUN'), ('in', 'ADP'), ('Japan', 'NOUN'), (',', '.'), ('in', 'ADP'), ('part', 'NOUN'), ('because', 'ADP'), ('Japanese', 'ADJ'), ('companies', 'NOUN'), ('unfairly', 'ADV'), ('undercut', 'VERB'), ('them', 'PRON'), ('.', '.')]\n",
            "Pierre Vinken , 61 years old , will join the board as a nonexecutive director Nov. 29 .\n",
            "Mr. Vinken is chairman of Elsevier N.V. , the Dutch publishing group .\n",
            "Rudolph Agnew , 55 years old and former chairman of Consolidated Gold Fields PLC , was named *-1 a nonexecutive director of this British industrial conglomerate .\n",
            "A form of asbestos once used * * to make Kent cigarette filters has caused a high percentage of cancer deaths among a group of workers exposed * to it more than 30 years ago , researchers reported 0 *T*-1 .\n",
            "The asbestos fiber , crocidolite , is unusually resilient once it enters the lungs , with even brief exposures to it causing symptoms that *T*-1 show up decades later , researchers said 0 *T*-2 .\n",
            "Lorillard Inc. , the unit of New York-based Loews Corp. that *T*-2 makes Kent cigarettes , stopped using crocidolite in its Micronite cigarette filters in 1956 .\n",
            "Although preliminary findings were reported *-2 more than a year ago , the latest results appear in today 's New England Journal of Medicine , a forum likely * to bring new attention to the problem .\n",
            "A Lorillard spokewoman said , `` This is an old story .\n",
            "We 're talking about years ago before anyone heard of asbestos having any questionable properties .\n",
            "There is no asbestos in our products now . ''\n",
            "sen_len: 3914\n"
          ],
          "name": "stdout"
        }
      ]
    },
    {
      "cell_type": "code",
      "metadata": {
        "id": "Y538QIAQXc9Y",
        "colab_type": "code",
        "colab": {
          "base_uri": "https://localhost:8080/",
          "height": 73
        },
        "outputId": "2cd2addf-a9a5-49db-f990-2a97a853a927"
      },
      "source": [
        "tags = set([tag for sentence in treebank.tagged_sents() for _, tag in sentence])\n",
        "print('nb_tags: {}\\ntags: {}'.format(len(tags), tags))"
      ],
      "execution_count": 4,
      "outputs": [
        {
          "output_type": "stream",
          "text": [
            "nb_tags: 46\n",
            "tags: {'CC', 'WDT', '-NONE-', 'UH', 'NNP', '#', '.', 'WP$', 'NN', 'MD', '-LRB-', 'VB', 'JJS', \"''\", ',', 'JJR', 'SYM', 'WP', 'JJ', 'POS', 'PRP', 'PRP$', 'NNS', 'VBG', 'DT', 'FW', 'TO', 'RBR', 'IN', 'PDT', 'VBN', '``', 'RP', 'VBD', 'WRB', 'RBS', 'VBP', 'LS', '-RRB-', 'NNPS', ':', 'EX', 'RB', '$', 'VBZ', 'CD'}\n"
          ],
          "name": "stdout"
        }
      ]
    },
    {
      "cell_type": "code",
      "metadata": {
        "id": "46GPvxWuXdAL",
        "colab_type": "code",
        "colab": {
          "base_uri": "https://localhost:8080/",
          "height": 55
        },
        "outputId": "4d0d29c4-803c-44ff-99b3-9c66c5562ecd"
      },
      "source": [
        "train_test_cutoff = int(.70 * len(sentences)) \n",
        "training_sentences = sentences[:train_test_cutoff]\n",
        "testing_sentences = sentences[train_test_cutoff:]\n",
        " \n",
        "train_val_cutoff = int(.30 * len(training_sentences))\n",
        "validation_sentences = training_sentences[:train_val_cutoff]\n",
        "training_sentences = training_sentences[train_val_cutoff:]\n",
        "\n",
        "print(training_sentences[0])"
      ],
      "execution_count": 5,
      "outputs": [
        {
          "output_type": "stream",
          "text": [
            "[('The', 'DET'), ('government', 'NOUN'), ('includes', 'VERB'), ('money', 'NOUN'), ('spent', 'VERB'), ('*', 'X'), ('on', 'ADP'), ('residential', 'ADJ'), ('renovation', 'NOUN'), (';', '.'), ('Dodge', 'NOUN'), ('does', 'VERB'), (\"n't\", 'ADV'), ('*?*', 'X'), ('.', '.')]\n"
          ],
          "name": "stdout"
        }
      ]
    },
    {
      "cell_type": "code",
      "metadata": {
        "id": "5oTdPSAbfdXx",
        "colab_type": "code",
        "colab": {
          "base_uri": "https://localhost:8080/",
          "height": 35
        },
        "outputId": "2b84eaea-1ab3-4dd2-9c58-14364121d114"
      },
      "source": [
        "print(len(training_sentences))"
      ],
      "execution_count": 18,
      "outputs": [
        {
          "output_type": "stream",
          "text": [
            "959\n"
          ],
          "name": "stdout"
        }
      ]
    },
    {
      "cell_type": "code",
      "metadata": {
        "id": "LxEAwxA2XdE5",
        "colab_type": "code",
        "colab": {}
      },
      "source": [
        "def add_basic_features(sentence_terms, index):\n",
        "    \"\"\" Compute some very basic word features.\n",
        "\n",
        "        :param sentence_terms: [w1, w2, ...] \n",
        "        :type sentence_terms: list\n",
        "        :param index: the index of the word \n",
        "        :type index: int\n",
        "        :return: dict containing features\n",
        "        :rtype: dict\n",
        "    \"\"\"\n",
        "    term = sentence_terms[index]\n",
        "    return {\n",
        "        'nb_terms': len(sentence_terms),\n",
        "        'term': term,\n",
        "        'is_first': index == 0,\n",
        "        'is_last': index == len(sentence_terms) - 1,\n",
        "        'is_capitalized': term[0].upper() == term[0],\n",
        "        'is_all_caps': term.upper() == term,\n",
        "        'is_all_lower': term.lower() == term,\n",
        "        'prefix-1': term[0],\n",
        "        'prefix-2': term[:2],\n",
        "        'prefix-3': term[:3],\n",
        "        'suffix-1': term[-1],\n",
        "        'suffix-2': term[-2:],\n",
        "        'suffix-3': term[-3:],\n",
        "        'prev_word': '' if index == 0 else sentence_terms[index - 1],\n",
        "        'next_word': '' if index == len(sentence_terms) - 1 else sentence_terms[index + 1]\n",
        "    }\n",
        "\n",
        "def untag(tagged_sentence):\n",
        "    \"\"\" \n",
        "    Remove the tag for each tagged term. \n",
        "\n",
        "    :param tagged_sentence: a POS tagged sentence\n",
        "    :type tagged_sentence: list\n",
        "    :return: a list of tags\n",
        "    :rtype: list of strings\n",
        "    \"\"\"\n",
        "    return [w for w, _ in tagged_sentence]\n",
        "\n",
        "def transform_to_dataset(tagged_sentences):\n",
        "    \"\"\"\n",
        "    Split tagged sentences to X and y datasets and append some basic features.\n",
        "\n",
        "    :param tagged_sentences: a list of POS tagged sentences\n",
        "    :param tagged_sentences: list of list of tuples (term_i, tag_i)\n",
        "    :return: \n",
        "    \"\"\"\n",
        "    X, y = [], []\n",
        "\n",
        "    for pos_tags in tagged_sentences:\n",
        "        for index, (term, class_) in enumerate(pos_tags):\n",
        "            # Add basic NLP features for each sentence term\n",
        "            X.append(add_basic_features(untag(pos_tags), index))\n",
        "            y.append(class_)\n",
        "    return X, y"
      ],
      "execution_count": 6,
      "outputs": []
    },
    {
      "cell_type": "code",
      "metadata": {
        "id": "M0T-8EifcQ_y",
        "colab_type": "code",
        "colab": {
          "base_uri": "https://localhost:8080/",
          "height": 73
        },
        "outputId": "b1893a30-fa73-48df-a956-a6288fb84364"
      },
      "source": [
        "print(untag(training_sentences[0]))\n",
        "\n",
        "print(add_basic_features(untag(training_sentences[0]), 0))\n",
        "\n",
        "# a, b = [], []\n",
        "# a, b = transform_to_dataset(training_sentences[0])\n",
        "# print(a)\n",
        "# print(b)"
      ],
      "execution_count": 7,
      "outputs": [
        {
          "output_type": "stream",
          "text": [
            "['The', 'government', 'includes', 'money', 'spent', '*', 'on', 'residential', 'renovation', ';', 'Dodge', 'does', \"n't\", '*?*', '.']\n",
            "{'nb_terms': 15, 'term': 'The', 'is_first': True, 'is_last': False, 'is_capitalized': True, 'is_all_caps': False, 'is_all_lower': False, 'prefix-1': 'T', 'prefix-2': 'Th', 'prefix-3': 'The', 'suffix-1': 'e', 'suffix-2': 'he', 'suffix-3': 'The', 'prev_word': '', 'next_word': 'government'}\n"
          ],
          "name": "stdout"
        }
      ]
    },
    {
      "cell_type": "code",
      "metadata": {
        "id": "nV23DXGiXdDS",
        "colab_type": "code",
        "colab": {
          "base_uri": "https://localhost:8080/",
          "height": 109
        },
        "outputId": "6a860d0b-5b5d-4352-e924-364066e134a1"
      },
      "source": [
        "X_train, y_train = transform_to_dataset(training_sentences)\n",
        "X_test, y_test = transform_to_dataset(testing_sentences)\n",
        "X_val, y_val = transform_to_dataset(validation_sentences)\n",
        "\n",
        "print('', len(X_train))\n",
        "print('', X_train[0:10])\n",
        "print('', len(y_train)) #, ' ,y_train.shape[1]:', y_train.shape[1])\n",
        "print('', y_train[0:10])"
      ],
      "execution_count": 8,
      "outputs": [
        {
          "output_type": "stream",
          "text": [
            " 24541\n",
            " [{'nb_terms': 15, 'term': 'The', 'is_first': True, 'is_last': False, 'is_capitalized': True, 'is_all_caps': False, 'is_all_lower': False, 'prefix-1': 'T', 'prefix-2': 'Th', 'prefix-3': 'The', 'suffix-1': 'e', 'suffix-2': 'he', 'suffix-3': 'The', 'prev_word': '', 'next_word': 'government'}, {'nb_terms': 15, 'term': 'government', 'is_first': False, 'is_last': False, 'is_capitalized': False, 'is_all_caps': False, 'is_all_lower': True, 'prefix-1': 'g', 'prefix-2': 'go', 'prefix-3': 'gov', 'suffix-1': 't', 'suffix-2': 'nt', 'suffix-3': 'ent', 'prev_word': 'The', 'next_word': 'includes'}, {'nb_terms': 15, 'term': 'includes', 'is_first': False, 'is_last': False, 'is_capitalized': False, 'is_all_caps': False, 'is_all_lower': True, 'prefix-1': 'i', 'prefix-2': 'in', 'prefix-3': 'inc', 'suffix-1': 's', 'suffix-2': 'es', 'suffix-3': 'des', 'prev_word': 'government', 'next_word': 'money'}, {'nb_terms': 15, 'term': 'money', 'is_first': False, 'is_last': False, 'is_capitalized': False, 'is_all_caps': False, 'is_all_lower': True, 'prefix-1': 'm', 'prefix-2': 'mo', 'prefix-3': 'mon', 'suffix-1': 'y', 'suffix-2': 'ey', 'suffix-3': 'ney', 'prev_word': 'includes', 'next_word': 'spent'}, {'nb_terms': 15, 'term': 'spent', 'is_first': False, 'is_last': False, 'is_capitalized': False, 'is_all_caps': False, 'is_all_lower': True, 'prefix-1': 's', 'prefix-2': 'sp', 'prefix-3': 'spe', 'suffix-1': 't', 'suffix-2': 'nt', 'suffix-3': 'ent', 'prev_word': 'money', 'next_word': '*'}, {'nb_terms': 15, 'term': '*', 'is_first': False, 'is_last': False, 'is_capitalized': True, 'is_all_caps': True, 'is_all_lower': True, 'prefix-1': '*', 'prefix-2': '*', 'prefix-3': '*', 'suffix-1': '*', 'suffix-2': '*', 'suffix-3': '*', 'prev_word': 'spent', 'next_word': 'on'}, {'nb_terms': 15, 'term': 'on', 'is_first': False, 'is_last': False, 'is_capitalized': False, 'is_all_caps': False, 'is_all_lower': True, 'prefix-1': 'o', 'prefix-2': 'on', 'prefix-3': 'on', 'suffix-1': 'n', 'suffix-2': 'on', 'suffix-3': 'on', 'prev_word': '*', 'next_word': 'residential'}, {'nb_terms': 15, 'term': 'residential', 'is_first': False, 'is_last': False, 'is_capitalized': False, 'is_all_caps': False, 'is_all_lower': True, 'prefix-1': 'r', 'prefix-2': 're', 'prefix-3': 'res', 'suffix-1': 'l', 'suffix-2': 'al', 'suffix-3': 'ial', 'prev_word': 'on', 'next_word': 'renovation'}, {'nb_terms': 15, 'term': 'renovation', 'is_first': False, 'is_last': False, 'is_capitalized': False, 'is_all_caps': False, 'is_all_lower': True, 'prefix-1': 'r', 'prefix-2': 're', 'prefix-3': 'ren', 'suffix-1': 'n', 'suffix-2': 'on', 'suffix-3': 'ion', 'prev_word': 'residential', 'next_word': ';'}, {'nb_terms': 15, 'term': ';', 'is_first': False, 'is_last': False, 'is_capitalized': True, 'is_all_caps': True, 'is_all_lower': True, 'prefix-1': ';', 'prefix-2': ';', 'prefix-3': ';', 'suffix-1': ';', 'suffix-2': ';', 'suffix-3': ';', 'prev_word': 'renovation', 'next_word': 'Dodge'}]\n",
            " 24541\n",
            " ['DET', 'NOUN', 'VERB', 'NOUN', 'VERB', 'X', 'ADP', 'ADJ', 'NOUN', '.']\n"
          ],
          "name": "stdout"
        }
      ]
    },
    {
      "cell_type": "code",
      "metadata": {
        "id": "NKMJtWamXc7H",
        "colab_type": "code",
        "colab": {
          "base_uri": "https://localhost:8080/",
          "height": 53
        },
        "outputId": "6ff17599-3591-4900-b825-2d0912a09d7d"
      },
      "source": [
        "from sklearn.feature_extraction import DictVectorizer\n",
        " \n",
        "dict_vectorizer = DictVectorizer(sparse=False)\n",
        "dict_vectorizer.fit(X_train + X_test + X_val)"
      ],
      "execution_count": 9,
      "outputs": [
        {
          "output_type": "execute_result",
          "data": {
            "text/plain": [
              "DictVectorizer(dtype=<class 'numpy.float64'>, separator='=', sort=True,\n",
              "               sparse=False)"
            ]
          },
          "metadata": {
            "tags": []
          },
          "execution_count": 9
        }
      ]
    },
    {
      "cell_type": "code",
      "metadata": {
        "id": "fND4mqIYXc5M",
        "colab_type": "code",
        "colab": {
          "base_uri": "https://localhost:8080/",
          "height": 161
        },
        "outputId": "b4728d82-ff80-4ea8-f2e9-15aea2df6f15"
      },
      "source": [
        "X_train = dict_vectorizer.transform(X_train)\n",
        "X_test = dict_vectorizer.transform(X_test)\n",
        "X_val = dict_vectorizer.transform(X_val)\n",
        "\n",
        "print('', X_train.shape)\n",
        "print('', X_train[0:10])"
      ],
      "execution_count": 10,
      "outputs": [
        {
          "output_type": "stream",
          "text": [
            " (24541, 31100)\n",
            " [[0. 0. 1. ... 0. 0. 0.]\n",
            " [0. 1. 0. ... 0. 0. 0.]\n",
            " [0. 1. 0. ... 0. 0. 0.]\n",
            " ...\n",
            " [0. 1. 0. ... 0. 0. 0.]\n",
            " [0. 1. 0. ... 0. 0. 0.]\n",
            " [1. 1. 1. ... 0. 0. 0.]]\n"
          ],
          "name": "stdout"
        }
      ]
    },
    {
      "cell_type": "code",
      "metadata": {
        "id": "hfBy5HYxYJXg",
        "colab_type": "code",
        "colab": {
          "base_uri": "https://localhost:8080/",
          "height": 53
        },
        "outputId": "2c5a8cdb-77ef-41ec-c5c5-3d4c6b71ffc6"
      },
      "source": [
        "from sklearn.preprocessing import LabelEncoder\n",
        "\n",
        "label_encoder = LabelEncoder()\n",
        "label_encoder.fit(y_train + y_test + y_val)\n",
        "\n",
        "y_train = label_encoder.transform(y_train)\n",
        "y_test = label_encoder.transform(y_test)\n",
        "y_val = label_encoder.transform(y_val)\n",
        "\n",
        "print('', y_train[0:10])\n",
        "print(len(list(set(y_train))))"
      ],
      "execution_count": 11,
      "outputs": [
        {
          "output_type": "stream",
          "text": [
            " [ 5  6 10  6 10 11  2  1  6  0]\n",
            "12\n"
          ],
          "name": "stdout"
        }
      ]
    },
    {
      "cell_type": "code",
      "metadata": {
        "id": "3H44vg4DYJaJ",
        "colab_type": "code",
        "colab": {}
      },
      "source": [
        "from keras.utils import np_utils\n",
        " \n",
        "y_train = np_utils.to_categorical(y_train)\n",
        "y_test = np_utils.to_categorical(y_test)\n",
        "y_val = np_utils.to_categorical(y_val)"
      ],
      "execution_count": 12,
      "outputs": []
    },
    {
      "cell_type": "code",
      "metadata": {
        "id": "fRV-RVtUYJgg",
        "colab_type": "code",
        "colab": {
          "base_uri": "https://localhost:8080/",
          "height": 197
        },
        "outputId": "62216033-33f8-4721-d020-cb6612cb540e"
      },
      "source": [
        "from keras.models import Sequential\n",
        "from keras.layers import Dense, Dropout, Activation\n",
        "\n",
        "def build_model(input_dim, hidden_neurons, output_dim):\n",
        "    \"\"\"\n",
        "    Construct, compile and return a Keras model which will be used to fit/predict\n",
        "    \"\"\"\n",
        "    model = Sequential([\n",
        "        Dense(hidden_neurons, input_dim=input_dim),\n",
        "        Activation('relu'),\n",
        "        Dropout(0.2),\n",
        "        Dense(hidden_neurons),\n",
        "        Activation('relu'),\n",
        "        Dropout(0.2),\n",
        "        Dense(output_dim, activation='softmax')\n",
        "    ])\n",
        "\n",
        "    model.compile(loss='categorical_crossentropy', optimizer='adam', metrics=['accuracy'])\n",
        "    return model\n",
        "\n",
        "from keras.wrappers.scikit_learn import KerasClassifier\n",
        "\n",
        "model_params = {\n",
        "    'build_fn': build_model,\n",
        "    'input_dim': X_train.shape[1],\n",
        "    'hidden_neurons': 512,\n",
        "    'output_dim': y_train.shape[1],\n",
        "    'epochs': 5,\n",
        "    'batch_size': 256,\n",
        "    'verbose': 1,\n",
        "    'validation_data': (X_val, y_val),\n",
        "    'shuffle': True\n",
        "}\n",
        "\n",
        "clf = KerasClassifier(**model_params)\n",
        "hist = clf.fit(X_train, y_train)"
      ],
      "execution_count": 13,
      "outputs": [
        {
          "output_type": "stream",
          "text": [
            "Epoch 1/5\n",
            "96/96 [==============================] - 6s 61ms/step - loss: 0.7263 - accuracy: 0.7912 - val_loss: 0.1999 - val_accuracy: 0.9359\n",
            "Epoch 2/5\n",
            "96/96 [==============================] - 5s 52ms/step - loss: 0.1190 - accuracy: 0.9641 - val_loss: 0.1753 - val_accuracy: 0.9441\n",
            "Epoch 3/5\n",
            "96/96 [==============================] - 5s 52ms/step - loss: 0.0577 - accuracy: 0.9831 - val_loss: 0.1714 - val_accuracy: 0.9491\n",
            "Epoch 4/5\n",
            "96/96 [==============================] - 5s 52ms/step - loss: 0.0330 - accuracy: 0.9901 - val_loss: 0.1939 - val_accuracy: 0.9442\n",
            "Epoch 5/5\n",
            "96/96 [==============================] - 5s 50ms/step - loss: 0.0204 - accuracy: 0.9936 - val_loss: 0.1859 - val_accuracy: 0.9499\n"
          ],
          "name": "stdout"
        }
      ]
    },
    {
      "cell_type": "code",
      "metadata": {
        "id": "98effTFxYJed",
        "colab_type": "code",
        "colab": {}
      },
      "source": [
        "import matplotlib.pyplot as plt\n",
        "\n",
        "def plot_model_performance(train_loss, train_acc, train_val_loss, train_val_acc):\n",
        "    \"\"\" Plot model loss and accuracy through epochs. \"\"\"\n",
        "\n",
        "    green = '#72C29B'\n",
        "    orange = '#FFA577'\n",
        "\n",
        "    with plt.xkcd():\n",
        "        fig, (ax1, ax2) = plt.subplots(2, figsize=(10, 8))\n",
        "        ax1.plot(range(1, len(train_loss) + 1), train_loss, green, linewidth=5,\n",
        "                 label='training')\n",
        "        ax1.plot(range(1, len(train_val_loss) + 1), train_val_loss, orange,\n",
        "                 linewidth=5, label='validation')\n",
        "        ax1.set_xlabel('# epoch')\n",
        "        ax1.set_ylabel('loss')\n",
        "        ax1.tick_params('y')\n",
        "        ax1.legend(loc='upper right', shadow=False)\n",
        "        ax1.set_title('Model loss through #epochs', fontweight='bold')\n",
        "\n",
        "        ax2.plot(range(1, len(train_acc) + 1), train_acc, green, linewidth=5,\n",
        "                 label='training')\n",
        "        ax2.plot(range(1, len(train_val_acc) + 1), train_val_acc, orange,\n",
        "                 linewidth=5, label='validation')\n",
        "        ax2.set_xlabel('# epoch')\n",
        "        ax2.set_ylabel('accuracy')\n",
        "        ax2.tick_params('y')\n",
        "        ax2.legend(loc='lower right', shadow=False)\n",
        "        ax2.set_title('Model accuracy through #epochs', fontweight='bold')\n",
        "\n",
        "    plt.tight_layout()\n",
        "    plt.show()"
      ],
      "execution_count": 14,
      "outputs": []
    },
    {
      "cell_type": "code",
      "metadata": {
        "id": "5oKrCb6mYJcz",
        "colab_type": "code",
        "colab": {
          "base_uri": "https://localhost:8080/",
          "height": 621
        },
        "outputId": "c55852ec-2517-422e-e686-1a2eb8e4bf4b"
      },
      "source": [
        "plot_model_performance(\n",
        "    train_loss=hist.history.get('loss', []),\n",
        "    train_acc=hist.history.get('acc', []),\n",
        "    train_val_loss=hist.history.get('val_loss', []),\n",
        "    train_val_acc=hist.history.get('val_acc', [])\n",
        ")"
      ],
      "execution_count": 15,
      "outputs": [
        {
          "output_type": "stream",
          "text": [
            "/usr/local/lib/python3.6/dist-packages/matplotlib/backends/backend_agg.py:214: RuntimeWarning: Glyph 8722 missing from current font.\n",
            "  font.set_text(s, 0.0, flags=flags)\n"
          ],
          "name": "stderr"
        },
        {
          "output_type": "display_data",
          "data": {
            "image/png": "[encoded data removed]",
            "text/plain": [
              "<Figure size 720x576 with 2 Axes>"
            ]
          },
          "metadata": {
            "tags": []
          }
        }
      ]
    },
    {
      "cell_type": "code",
      "metadata": {
        "id": "nKKfxvSnYmj7",
        "colab_type": "code",
        "colab": {
          "base_uri": "https://localhost:8080/",
          "height": 35
        },
        "outputId": "1e095333-f9e9-4cdd-b02b-d20ed9bfaf2e"
      },
      "source": [
        "score = clf.score(X_test, y_test, verbose=0)    \n",
        "print('model accuracy: {}'.format(score))"
      ],
      "execution_count": 16,
      "outputs": [
        {
          "output_type": "stream",
          "text": [
            "model accuracy: 0.9473750591278076\n"
          ],
          "name": "stdout"
        }
      ]
    },
    {
      "cell_type": "code",
      "metadata": {
        "id": "RW1oegA6Ymme",
        "colab_type": "code",
        "colab": {}
      },
      "source": [
        "#clf.model.save('/tmp/keras_mlp.h5')"
      ],
      "execution_count": 17,
      "outputs": []
    }
  ]
}