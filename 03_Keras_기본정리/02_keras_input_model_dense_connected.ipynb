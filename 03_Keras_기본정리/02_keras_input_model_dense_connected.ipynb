{
  "nbformat": 4,
  "nbformat_minor": 0,
  "metadata": {
    "colab": {
      "name": "02_keras-input-model.ipynb",
      "provenance": [],
      "collapsed_sections": []
    },
    "kernelspec": {
      "name": "python3",
      "display_name": "Python 3"
    },
    "accelerator": "GPU"
  },
  "cells": [
    {
      "cell_type": "code",
      "metadata": {
        "id": "Qsn_2_OD3jGh",
        "colab_type": "code",
        "colab": {
          "base_uri": "https://localhost:8080/",
          "height": 381
        },
        "outputId": "274952f3-a028-4b97-e65a-850e3540b788"
      },
      "source": [
        "#https://keras.io/getting-started/functional-api-guide/\n",
        "#First example: a densely-connected network\n",
        "\n",
        "from keras.layers import Input, Dense\n",
        "from keras.models import Model\n",
        "\n",
        "# This returns a tensor\n",
        "inputs = Input(shape=(784,))\n",
        "print(inputs.shape) #(?, 784)\n",
        "\n",
        "# a layer instance is callable on a tensor, and returns a tensor\n",
        "output_1 = Dense(64, activation='relu')(inputs)\n",
        "print(output_1.shape)\n",
        "\n",
        "output_2 = Dense(64, activation='relu')(output_1)\n",
        "print(output_2.shape)\n",
        "\n",
        "predictions = Dense(10, activation='softmax')(output_2)\n",
        "print(predictions.shape) #(?, 784)\n",
        "\n",
        "# This creates a model that includes\n",
        "# the Input layer and three Dense layers\n",
        "model = Model(inputs=inputs, outputs=predictions)\n",
        "model.summary()\n",
        "\n",
        "model.compile(optimizer='rmsprop',\n",
        "              loss='categorical_crossentropy',\n",
        "              metrics=['accuracy'])"
      ],
      "execution_count": 3,
      "outputs": [
        {
          "output_type": "stream",
          "text": [
            "(?, 784)\n",
            "(?, 64)\n",
            "(?, 64)\n",
            "(?, 10)\n",
            "Model: \"model_3\"\n",
            "_________________________________________________________________\n",
            "Layer (type)                 Output Shape              Param #   \n",
            "=================================================================\n",
            "input_3 (InputLayer)         (None, 784)               0         \n",
            "_________________________________________________________________\n",
            "dense_7 (Dense)              (None, 64)                50240     \n",
            "_________________________________________________________________\n",
            "dense_8 (Dense)              (None, 64)                4160      \n",
            "_________________________________________________________________\n",
            "dense_9 (Dense)              (None, 10)                650       \n",
            "=================================================================\n",
            "Total params: 55,050\n",
            "Trainable params: 55,050\n",
            "Non-trainable params: 0\n",
            "_________________________________________________________________\n"
          ],
          "name": "stdout"
        }
      ]
    },
    {
      "cell_type": "code",
      "metadata": {
        "id": "n7Kb2Nu66Kxn",
        "colab_type": "code",
        "colab": {
          "base_uri": "https://localhost:8080/",
          "height": 1000
        },
        "outputId": "1b6c4935-cbc7-4168-e1b6-9e27ec92e140"
      },
      "source": [
        "import numpy as np\n",
        "\n",
        "data = np.array([range(784)])\n",
        "print(data)\n",
        "print(data.shape) #(1, 784)\n",
        "labels = np.array([range(10)])\n",
        "print(labels.shape) #(1, 10)\n",
        "print(labels)\n",
        "\n",
        "model.fit(data, labels)  # starts training"
      ],
      "execution_count": 12,
      "outputs": [
        {
          "output_type": "stream",
          "text": [
            "[[  0   1   2   3   4   5   6   7   8   9  10  11  12  13  14  15  16  17\n",
            "   18  19  20  21  22  23  24  25  26  27  28  29  30  31  32  33  34  35\n",
            "   36  37  38  39  40  41  42  43  44  45  46  47  48  49  50  51  52  53\n",
            "   54  55  56  57  58  59  60  61  62  63  64  65  66  67  68  69  70  71\n",
            "   72  73  74  75  76  77  78  79  80  81  82  83  84  85  86  87  88  89\n",
            "   90  91  92  93  94  95  96  97  98  99 100 101 102 103 104 105 106 107\n",
            "  108 109 110 111 112 113 114 115 116 117 118 119 120 121 122 123 124 125\n",
            "  126 127 128 129 130 131 132 133 134 135 136 137 138 139 140 141 142 143\n",
            "  144 145 146 147 148 149 150 151 152 153 154 155 156 157 158 159 160 161\n",
            "  162 163 164 165 166 167 168 169 170 171 172 173 174 175 176 177 178 179\n",
            "  180 181 182 183 184 185 186 187 188 189 190 191 192 193 194 195 196 197\n",
            "  198 199 200 201 202 203 204 205 206 207 208 209 210 211 212 213 214 215\n",
            "  216 217 218 219 220 221 222 223 224 225 226 227 228 229 230 231 232 233\n",
            "  234 235 236 237 238 239 240 241 242 243 244 245 246 247 248 249 250 251\n",
            "  252 253 254 255 256 257 258 259 260 261 262 263 264 265 266 267 268 269\n",
            "  270 271 272 273 274 275 276 277 278 279 280 281 282 283 284 285 286 287\n",
            "  288 289 290 291 292 293 294 295 296 297 298 299 300 301 302 303 304 305\n",
            "  306 307 308 309 310 311 312 313 314 315 316 317 318 319 320 321 322 323\n",
            "  324 325 326 327 328 329 330 331 332 333 334 335 336 337 338 339 340 341\n",
            "  342 343 344 345 346 347 348 349 350 351 352 353 354 355 356 357 358 359\n",
            "  360 361 362 363 364 365 366 367 368 369 370 371 372 373 374 375 376 377\n",
            "  378 379 380 381 382 383 384 385 386 387 388 389 390 391 392 393 394 395\n",
            "  396 397 398 399 400 401 402 403 404 405 406 407 408 409 410 411 412 413\n",
            "  414 415 416 417 418 419 420 421 422 423 424 425 426 427 428 429 430 431\n",
            "  432 433 434 435 436 437 438 439 440 441 442 443 444 445 446 447 448 449\n",
            "  450 451 452 453 454 455 456 457 458 459 460 461 462 463 464 465 466 467\n",
            "  468 469 470 471 472 473 474 475 476 477 478 479 480 481 482 483 484 485\n",
            "  486 487 488 489 490 491 492 493 494 495 496 497 498 499 500 501 502 503\n",
            "  504 505 506 507 508 509 510 511 512 513 514 515 516 517 518 519 520 521\n",
            "  522 523 524 525 526 527 528 529 530 531 532 533 534 535 536 537 538 539\n",
            "  540 541 542 543 544 545 546 547 548 549 550 551 552 553 554 555 556 557\n",
            "  558 559 560 561 562 563 564 565 566 567 568 569 570 571 572 573 574 575\n",
            "  576 577 578 579 580 581 582 583 584 585 586 587 588 589 590 591 592 593\n",
            "  594 595 596 597 598 599 600 601 602 603 604 605 606 607 608 609 610 611\n",
            "  612 613 614 615 616 617 618 619 620 621 622 623 624 625 626 627 628 629\n",
            "  630 631 632 633 634 635 636 637 638 639 640 641 642 643 644 645 646 647\n",
            "  648 649 650 651 652 653 654 655 656 657 658 659 660 661 662 663 664 665\n",
            "  666 667 668 669 670 671 672 673 674 675 676 677 678 679 680 681 682 683\n",
            "  684 685 686 687 688 689 690 691 692 693 694 695 696 697 698 699 700 701\n",
            "  702 703 704 705 706 707 708 709 710 711 712 713 714 715 716 717 718 719\n",
            "  720 721 722 723 724 725 726 727 728 729 730 731 732 733 734 735 736 737\n",
            "  738 739 740 741 742 743 744 745 746 747 748 749 750 751 752 753 754 755\n",
            "  756 757 758 759 760 761 762 763 764 765 766 767 768 769 770 771 772 773\n",
            "  774 775 776 777 778 779 780 781 782 783]]\n",
            "(1, 784)\n",
            "(1, 10)\n",
            "[[0 1 2 3 4 5 6 7 8 9]]\n",
            "WARNING:tensorflow:From /usr/local/lib/python3.6/dist-packages/tensorflow_core/python/ops/math_grad.py:1424: where (from tensorflow.python.ops.array_ops) is deprecated and will be removed in a future version.\n",
            "Instructions for updating:\n",
            "Use tf.where in 2.0, which has the same broadcast rule as np.where\n",
            "WARNING:tensorflow:From /usr/local/lib/python3.6/dist-packages/keras/backend/tensorflow_backend.py:1033: The name tf.assign_add is deprecated. Please use tf.compat.v1.assign_add instead.\n",
            "\n",
            "WARNING:tensorflow:From /usr/local/lib/python3.6/dist-packages/keras/backend/tensorflow_backend.py:1020: The name tf.assign is deprecated. Please use tf.compat.v1.assign instead.\n",
            "\n",
            "WARNING:tensorflow:From /usr/local/lib/python3.6/dist-packages/keras/backend/tensorflow_backend.py:3005: The name tf.Session is deprecated. Please use tf.compat.v1.Session instead.\n",
            "\n",
            "Epoch 1/1\n",
            "WARNING:tensorflow:From /usr/local/lib/python3.6/dist-packages/keras/backend/tensorflow_backend.py:190: The name tf.get_default_session is deprecated. Please use tf.compat.v1.get_default_session instead.\n",
            "\n",
            "WARNING:tensorflow:From /usr/local/lib/python3.6/dist-packages/keras/backend/tensorflow_backend.py:197: The name tf.ConfigProto is deprecated. Please use tf.compat.v1.ConfigProto instead.\n",
            "\n",
            "WARNING:tensorflow:From /usr/local/lib/python3.6/dist-packages/keras/backend/tensorflow_backend.py:207: The name tf.global_variables is deprecated. Please use tf.compat.v1.global_variables instead.\n",
            "\n",
            "WARNING:tensorflow:From /usr/local/lib/python3.6/dist-packages/keras/backend/tensorflow_backend.py:216: The name tf.is_variable_initialized is deprecated. Please use tf.compat.v1.is_variable_initialized instead.\n",
            "\n",
            "WARNING:tensorflow:From /usr/local/lib/python3.6/dist-packages/keras/backend/tensorflow_backend.py:223: The name tf.variables_initializer is deprecated. Please use tf.compat.v1.variables_initializer instead.\n",
            "\n",
            "1/1 [==============================] - 5s 5s/step - loss: 660.8419 - acc: 0.0000e+00\n"
          ],
          "name": "stdout"
        },
        {
          "output_type": "execute_result",
          "data": {
            "text/plain": [
              "<keras.callbacks.History at 0x7fd3e8bb59e8>"
            ]
          },
          "metadata": {
            "tags": []
          },
          "execution_count": 12
        }
      ]
    },
    {
      "cell_type": "code",
      "metadata": {
        "id": "MXzjXOmZ6IvV",
        "colab_type": "code",
        "colab": {}
      },
      "source": [
        ""
      ],
      "execution_count": 0,
      "outputs": []
    }
  ]
}