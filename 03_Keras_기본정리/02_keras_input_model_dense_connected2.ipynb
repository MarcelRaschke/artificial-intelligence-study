{
  "nbformat": 4,
  "nbformat_minor": 0,
  "metadata": {
    "colab": {
      "name": "02_keras-input-model-dense-connected2.ipynb",
      "provenance": [],
      "collapsed_sections": []
    },
    "kernelspec": {
      "name": "python3",
      "display_name": "Python 3"
    },
    "accelerator": "GPU"
  },
  "cells": [
    {
      "cell_type": "code",
      "metadata": {
        "id": "Qsn_2_OD3jGh",
        "colab_type": "code",
        "outputId": "152aa9a1-7a06-44eb-cb90-79fd3565099c",
        "colab": {
          "base_uri": "https://localhost:8080/",
          "height": 508
        }
      },
      "source": [
        "#https://keras.io/getting-started/functional-api-guide/\n",
        "#First example: a densely-connected network\n",
        "\n",
        "from keras.layers import Input, Dense\n",
        "from keras.models import Model\n",
        "from keras.layers import TimeDistributed\n",
        "\n",
        "# Input tensor for sequences of 20 timesteps,\n",
        "# each containing a 784-dimensional vector\n",
        "input_sequences = Input(shape=(20, 784))\n",
        "print(input_sequences.shape)\n",
        "#(?, 20, 784)\n",
        "\n",
        "# a layer instance is callable on a tensor, and returns a tensor\n",
        "output_1 = Dense(64, activation='relu')(input_sequences)\n",
        "print(output_1.shape)\n",
        "#\n",
        "\n",
        "output_2 = Dense(64, activation='relu')(output_1)\n",
        "print(output_2.shape)\n",
        "\n",
        "predictions = Dense(10, activation='softmax')(output_2)\n",
        "print(predictions.shape)\n",
        "#(?, 20, 784)\n",
        "\n",
        "# This creates a model that includes\n",
        "# the Input layer and three Dense layers\n",
        "model = Model(inputs=input_sequences, outputs=predictions)\n",
        "\n",
        "# This applies our previous model to every timestep in the input sequences.\n",
        "# the output of the previous model was a 10-way softmax,\n",
        "# so the output of the layer below will be a sequence of 20 vectors of size 10.\n",
        "processed_sequences = TimeDistributed(model)(input_sequences)\n",
        "print(processed_sequences.shape)\n",
        "#(?, 20, 784)\n",
        "\n",
        "model.summary()\n",
        "\n",
        "model.compile(optimizer='rmsprop',\n",
        "              loss='categorical_crossentropy',\n",
        "              metrics=['accuracy'])"
      ],
      "execution_count": 3,
      "outputs": [
        {
          "output_type": "stream",
          "text": [
            "(?, 20, 784)\n",
            "WARNING:tensorflow:From /usr/local/lib/python3.6/dist-packages/keras/backend/tensorflow_backend.py:4432: The name tf.random_uniform is deprecated. Please use tf.random.uniform instead.\n",
            "\n",
            "(?, 20, 64)\n",
            "(?, 20, 64)\n",
            "(?, 20, 10)\n",
            "(?, 20, 10)\n",
            "Model: \"model_1\"\n",
            "_________________________________________________________________\n",
            "Layer (type)                 Output Shape              Param #   \n",
            "=================================================================\n",
            "input_3 (InputLayer)         (None, 20, 784)           0         \n",
            "_________________________________________________________________\n",
            "dense_2 (Dense)              (None, 20, 64)            50240     \n",
            "_________________________________________________________________\n",
            "dense_3 (Dense)              (None, 20, 64)            4160      \n",
            "_________________________________________________________________\n",
            "dense_4 (Dense)              (None, 20, 10)            650       \n",
            "=================================================================\n",
            "Total params: 55,050\n",
            "Trainable params: 55,050\n",
            "Non-trainable params: 0\n",
            "_________________________________________________________________\n",
            "WARNING:tensorflow:From /usr/local/lib/python3.6/dist-packages/keras/optimizers.py:793: The name tf.train.Optimizer is deprecated. Please use tf.compat.v1.train.Optimizer instead.\n",
            "\n",
            "WARNING:tensorflow:From /usr/local/lib/python3.6/dist-packages/keras/backend/tensorflow_backend.py:3576: The name tf.log is deprecated. Please use tf.math.log instead.\n",
            "\n"
          ],
          "name": "stdout"
        }
      ]
    },
    {
      "cell_type": "code",
      "metadata": {
        "id": "n7Kb2Nu66Kxn",
        "colab_type": "code",
        "outputId": "e2c40ccb-e7a6-42c2-b6bb-ff8243b09b87",
        "colab": {
          "base_uri": "https://localhost:8080/",
          "height": 965
        }
      },
      "source": [
        "import numpy as np\n",
        "\n",
        "data = np.array([[range(784) for _ in range(20)]]) \n",
        "print(data)\n",
        "print(data.shape) #(1, 20, 784)\n",
        "labels = np.array([[range(10) for _ in range(20)]])\n",
        "print(labels.shape) #(1, 20, 10)\n",
        "print(labels)\n",
        "\n",
        "model.fit(data, labels)  # starts training"
      ],
      "execution_count": 11,
      "outputs": [
        {
          "output_type": "stream",
          "text": [
            "[[[  0   1   2 ... 781 782 783]\n",
            "  [  0   1   2 ... 781 782 783]\n",
            "  [  0   1   2 ... 781 782 783]\n",
            "  ...\n",
            "  [  0   1   2 ... 781 782 783]\n",
            "  [  0   1   2 ... 781 782 783]\n",
            "  [  0   1   2 ... 781 782 783]]]\n",
            "(1, 20, 784)\n",
            "(1, 20, 10)\n",
            "[[[0 1 2 3 4 5 6 7 8 9]\n",
            "  [0 1 2 3 4 5 6 7 8 9]\n",
            "  [0 1 2 3 4 5 6 7 8 9]\n",
            "  [0 1 2 3 4 5 6 7 8 9]\n",
            "  [0 1 2 3 4 5 6 7 8 9]\n",
            "  [0 1 2 3 4 5 6 7 8 9]\n",
            "  [0 1 2 3 4 5 6 7 8 9]\n",
            "  [0 1 2 3 4 5 6 7 8 9]\n",
            "  [0 1 2 3 4 5 6 7 8 9]\n",
            "  [0 1 2 3 4 5 6 7 8 9]\n",
            "  [0 1 2 3 4 5 6 7 8 9]\n",
            "  [0 1 2 3 4 5 6 7 8 9]\n",
            "  [0 1 2 3 4 5 6 7 8 9]\n",
            "  [0 1 2 3 4 5 6 7 8 9]\n",
            "  [0 1 2 3 4 5 6 7 8 9]\n",
            "  [0 1 2 3 4 5 6 7 8 9]\n",
            "  [0 1 2 3 4 5 6 7 8 9]\n",
            "  [0 1 2 3 4 5 6 7 8 9]\n",
            "  [0 1 2 3 4 5 6 7 8 9]\n",
            "  [0 1 2 3 4 5 6 7 8 9]]]\n",
            "WARNING:tensorflow:From /usr/local/lib/python3.6/dist-packages/tensorflow_core/python/ops/math_grad.py:1424: where (from tensorflow.python.ops.array_ops) is deprecated and will be removed in a future version.\n",
            "Instructions for updating:\n",
            "Use tf.where in 2.0, which has the same broadcast rule as np.where\n",
            "WARNING:tensorflow:From /usr/local/lib/python3.6/dist-packages/keras/backend/tensorflow_backend.py:1033: The name tf.assign_add is deprecated. Please use tf.compat.v1.assign_add instead.\n",
            "\n",
            "WARNING:tensorflow:From /usr/local/lib/python3.6/dist-packages/keras/backend/tensorflow_backend.py:1020: The name tf.assign is deprecated. Please use tf.compat.v1.assign instead.\n",
            "\n",
            "WARNING:tensorflow:From /usr/local/lib/python3.6/dist-packages/keras/backend/tensorflow_backend.py:3005: The name tf.Session is deprecated. Please use tf.compat.v1.Session instead.\n",
            "\n",
            "Epoch 1/1\n",
            "WARNING:tensorflow:From /usr/local/lib/python3.6/dist-packages/keras/backend/tensorflow_backend.py:190: The name tf.get_default_session is deprecated. Please use tf.compat.v1.get_default_session instead.\n",
            "\n",
            "WARNING:tensorflow:From /usr/local/lib/python3.6/dist-packages/keras/backend/tensorflow_backend.py:197: The name tf.ConfigProto is deprecated. Please use tf.compat.v1.ConfigProto instead.\n",
            "\n",
            "WARNING:tensorflow:From /usr/local/lib/python3.6/dist-packages/keras/backend/tensorflow_backend.py:207: The name tf.global_variables is deprecated. Please use tf.compat.v1.global_variables instead.\n",
            "\n",
            "WARNING:tensorflow:From /usr/local/lib/python3.6/dist-packages/keras/backend/tensorflow_backend.py:216: The name tf.is_variable_initialized is deprecated. Please use tf.compat.v1.is_variable_initialized instead.\n",
            "\n",
            "WARNING:tensorflow:From /usr/local/lib/python3.6/dist-packages/keras/backend/tensorflow_backend.py:223: The name tf.variables_initializer is deprecated. Please use tf.compat.v1.variables_initializer instead.\n",
            "\n",
            "1/1 [==============================] - 5s 5s/step - loss: 644.7238 - acc: 0.0000e+00\n"
          ],
          "name": "stdout"
        },
        {
          "output_type": "execute_result",
          "data": {
            "text/plain": [
              "<keras.callbacks.History at 0x7f8c7c580438>"
            ]
          },
          "metadata": {
            "tags": []
          },
          "execution_count": 11
        }
      ]
    }
  ]
}