{
  "nbformat": 4,
  "nbformat_minor": 0,
  "metadata": {
    "colab": {
      "name": "SphericalKMeans_sample_20200227.ipynb",
      "provenance": [],
      "collapsed_sections": [],
      "machine_shape": "hm"
    },
    "kernelspec": {
      "name": "python3",
      "display_name": "Python 3"
    },
    "accelerator": "GPU"
  },
  "cells": [
    {
      "cell_type": "code",
      "metadata": {
        "id": "j_TDlefT10WQ",
        "colab_type": "code",
        "outputId": "91aac10f-9777-4d0b-f729-ef2c4442729c",
        "colab": {
          "base_uri": "https://localhost:8080/",
          "height": 53
        }
      },
      "source": [
        "# 모델과 weight값 저장후 재 로딩할수 있게 필요...\n",
        "#구글 드라이브 저장\n",
        "!pip install -U -q PyDrive\n",
        "from pydrive.auth import GoogleAuth\n",
        "from pydrive.drive import GoogleDrive\n",
        "from google.colab import auth\n",
        "from oauth2client.client import GoogleCredentials\n",
        "\n",
        "# 1. Authenticate and create the PyDrive client.\n",
        "auth.authenticate_user()\n",
        "gauth = GoogleAuth()\n",
        "print('gauth:',gauth)\n",
        "gauth.credentials = GoogleCredentials.get_application_default()\n",
        "\n",
        "drive = GoogleDrive(gauth)\n",
        "print('drive:', drive)\n",
        "\n",
        "def gcp_upload(file_name):\n",
        "    uploaded = drive.CreateFile({'title': file_name}) #, \"parents\": [{\"kind\": \"drive#fileLink\",\"id\": 'jukyellow@gmail.com'}]})\n",
        "    uploaded.SetContentString(file_name)\n",
        "    uploaded.SetContentFile('./' + file_name)\n",
        "    uploaded.Upload()\n",
        "    print('Uploaded file with ID {}'.format(uploaded.get('id')))"
      ],
      "execution_count": 1,
      "outputs": [
        {
          "output_type": "stream",
          "text": [
            "gauth: <pydrive.auth.GoogleAuth object at 0x7f002498c080>\n",
            "drive: <pydrive.drive.GoogleDrive object at 0x7f0015c9ecf8>\n"
          ],
          "name": "stdout"
        }
      ]
    },
    {
      "cell_type": "code",
      "metadata": {
        "id": "ApInvbtx1tG-",
        "colab_type": "code",
        "colab": {}
      },
      "source": [
        "#구글 드라이브에서 다운로드\n",
        "from google.colab import auth\n",
        "auth.authenticate_user()\n",
        "from googleapiclient.discovery import build\n",
        "drive_service = build('drive', 'v3')\n",
        "import io\n",
        "from io import BytesIO \n",
        "from googleapiclient.http import MediaIoBaseDownload\n",
        "\n",
        "\n",
        "def gcp_download(file_name, key):\n",
        "    #3. 모델 다운로드\n",
        "    #https://drive.google.com/open?id=1TlvbayGRCjAI6bOZrUYMmv6g6b95rnRM\n",
        "    request = drive_service.files().get_media(fileId=key)\n",
        "\n",
        "    downloaded = io.BytesIO()\n",
        "    downloader = MediaIoBaseDownload(downloaded, request)\n",
        "    done = False\n",
        "    while done is False:\n",
        "      status, done = downloader.next_chunk()\n",
        "      if status:\n",
        "          print(\"Download %%%d%%.\" % int(status.progress() * 100))\n",
        "      print(\"Download Complete!\")\n",
        "    downloaded.seek(0)\n",
        "\n",
        "    with open('/tmp/' + file_name, 'wb') as f:\n",
        "        f.write(downloaded.read())"
      ],
      "execution_count": 0,
      "outputs": []
    },
    {
      "cell_type": "code",
      "metadata": {
        "id": "Vyr8VNQGt9iW",
        "colab_type": "code",
        "outputId": "6e46cd70-bb45-4d33-bba2-cd0cd21d0e46",
        "colab": {
          "base_uri": "https://localhost:8080/",
          "height": 53
        }
      },
      "source": [
        "file_name = 'gd_sample.txt'\n",
        "gcp_download(file_name, '1FaEvvmYgEAh99e_ubbeZPqdV64_A4w5M')"
      ],
      "execution_count": 3,
      "outputs": [
        {
          "output_type": "stream",
          "text": [
            "Download %100%.\n",
            "Download Complete!\n"
          ],
          "name": "stdout"
        }
      ]
    },
    {
      "cell_type": "code",
      "metadata": {
        "id": "RwZ_mqQms9NF",
        "colab_type": "code",
        "outputId": "1a281709-d686-42a6-c7a9-42aa3528dc1c",
        "colab": {
          "base_uri": "https://localhost:8080/",
          "height": 89
        }
      },
      "source": [
        "ls -alrt /tmp/"
      ],
      "execution_count": 4,
      "outputs": [
        {
          "output_type": "stream",
          "text": [
            "total 5460\n",
            "drwxr-xr-x 1 root root    4096 Feb 27 11:44 \u001b[0m\u001b[01;34m..\u001b[0m/\n",
            "drwxrwxrwt 1 root root    4096 Feb 27 11:47 \u001b[30;42m.\u001b[0m/\n",
            "-rw-r--r-- 1 root root 5578948 Feb 27 11:47 gd_sample.txt\n"
          ],
          "name": "stdout"
        }
      ]
    },
    {
      "cell_type": "code",
      "metadata": {
        "id": "Z-IkVqOhC2lR",
        "colab_type": "code",
        "outputId": "3f26afb8-3e4f-4a1f-dead-a0edf06a96c1",
        "colab": {
          "base_uri": "https://localhost:8080/",
          "height": 143
        }
      },
      "source": [
        "# https://wikidocs.net/31698\n",
        "from sklearn.feature_extraction.text import TfidfVectorizer\n",
        "import numpy as np\n",
        "\n",
        "sparse_x_path = '/tmp/' + file_name\n",
        "\n",
        "corpus = []\n",
        "with open(sparse_x_path) as f:\n",
        "    for line in f:\n",
        "        corpus.append(line)\n",
        "corpus = np.array(corpus)\n",
        "print('corpus.shape:', corpus.shape)\n",
        "\n",
        "tfidfv = TfidfVectorizer().fit(corpus)\n",
        "print('type(tfidfv):', type(tfidfv))\n",
        "\n",
        "tfidf = tfidfv.transform(corpus)\n",
        "print('tfidf.shape:', tfidf[0])\n",
        "print('tfidf.shape:', tfidf.shape)\n",
        "print('type(tfidf):', type(tfidf))\n",
        "\n",
        "#tfidf_arr = tfidf.toarray()\n",
        "#print(tfidf_arr.vocabulary_)"
      ],
      "execution_count": 5,
      "outputs": [
        {
          "output_type": "stream",
          "text": [
            "corpus.shape: (242366,)\n",
            "type(tfidfv): <class 'sklearn.feature_extraction.text.TfidfVectorizer'>\n",
            "tfidf.shape:   (0, 56522)\t0.536620773656817\n",
            "  (0, 56287)\t0.5961121038878314\n",
            "  (0, 46553)\t0.5972340453108668\n",
            "tfidf.shape: (242366, 81089)\n",
            "type(tfidf): <class 'scipy.sparse.csr.csr_matrix'>\n"
          ],
          "name": "stdout"
        }
      ]
    },
    {
      "cell_type": "code",
      "metadata": {
        "id": "RdkdTD2--2Ci",
        "colab_type": "code",
        "outputId": "419cc643-7848-4352-8961-0f126e37603c",
        "colab": {
          "base_uri": "https://localhost:8080/",
          "height": 107
        }
      },
      "source": [
        "!git clone https://github.com/jukyellow/clustering4docs"
      ],
      "execution_count": 6,
      "outputs": [
        {
          "output_type": "stream",
          "text": [
            "Cloning into 'clustering4docs'...\n",
            "remote: Enumerating objects: 268, done.\u001b[K\n",
            "Receiving objects:   0% (1/268)   \rReceiving objects:   1% (3/268)   \rReceiving objects:   2% (6/268)   \rReceiving objects:   3% (9/268)   \rReceiving objects:   4% (11/268)   \rReceiving objects:   5% (14/268)   \rReceiving objects:   6% (17/268)   \rReceiving objects:   7% (19/268)   \rReceiving objects:   8% (22/268)   \rReceiving objects:   9% (25/268)   \rReceiving objects:  10% (27/268)   \rReceiving objects:  11% (30/268)   \rReceiving objects:  12% (33/268)   \rReceiving objects:  13% (35/268)   \rReceiving objects:  14% (38/268)   \rReceiving objects:  15% (41/268)   \rReceiving objects:  16% (43/268)   \rReceiving objects:  17% (46/268)   \rReceiving objects:  18% (49/268)   \rReceiving objects:  19% (51/268)   \rReceiving objects:  20% (54/268)   \rReceiving objects:  21% (57/268)   \rReceiving objects:  22% (59/268)   \rReceiving objects:  23% (62/268)   \rReceiving objects:  24% (65/268)   \rReceiving objects:  25% (67/268)   \rReceiving objects:  26% (70/268)   \rReceiving objects:  27% (73/268)   \rReceiving objects:  28% (76/268)   \rReceiving objects:  29% (78/268)   \rReceiving objects:  30% (81/268)   \rReceiving objects:  31% (84/268)   \rReceiving objects:  32% (86/268)   \rReceiving objects:  33% (89/268)   \rReceiving objects:  34% (92/268)   \rReceiving objects:  35% (94/268)   \rReceiving objects:  36% (97/268)   \rremote: Total 268 (delta 0), reused 0 (delta 0), pack-reused 268\u001b[K\n",
            "Receiving objects:  37% (100/268)   \rReceiving objects:  38% (102/268)   \rReceiving objects:  39% (105/268)   \rReceiving objects:  40% (108/268)   \rReceiving objects:  41% (110/268)   \rReceiving objects:  42% (113/268)   \rReceiving objects:  43% (116/268)   \rReceiving objects:  44% (118/268)   \rReceiving objects:  45% (121/268)   \rReceiving objects:  46% (124/268)   \rReceiving objects:  47% (126/268)   \rReceiving objects:  48% (129/268)   \rReceiving objects:  49% (132/268)   \rReceiving objects:  50% (134/268)   \rReceiving objects:  51% (137/268)   \rReceiving objects:  52% (140/268)   \rReceiving objects:  53% (143/268)   \rReceiving objects:  54% (145/268)   \rReceiving objects:  55% (148/268)   \rReceiving objects:  56% (151/268)   \rReceiving objects:  57% (153/268)   \rReceiving objects:  58% (156/268)   \rReceiving objects:  59% (159/268)   \rReceiving objects:  60% (161/268)   \rReceiving objects:  61% (164/268)   \rReceiving objects:  62% (167/268)   \rReceiving objects:  63% (169/268)   \rReceiving objects:  64% (172/268)   \rReceiving objects:  65% (175/268)   \rReceiving objects:  66% (177/268)   \rReceiving objects:  67% (180/268)   \rReceiving objects:  68% (183/268)   \rReceiving objects:  69% (185/268)   \rReceiving objects:  70% (188/268)   \rReceiving objects:  71% (191/268)   \rReceiving objects:  72% (193/268)   \rReceiving objects:  73% (196/268)   \rReceiving objects:  74% (199/268)   \rReceiving objects:  75% (201/268)   \rReceiving objects:  76% (204/268)   \rReceiving objects:  77% (207/268)   \rReceiving objects:  78% (210/268)   \rReceiving objects:  79% (212/268)   \rReceiving objects:  80% (215/268)   \rReceiving objects:  81% (218/268)   \rReceiving objects:  82% (220/268)   \rReceiving objects:  83% (223/268)   \rReceiving objects:  84% (226/268)   \rReceiving objects:  85% (228/268)   \rReceiving objects:  86% (231/268)   \rReceiving objects:  87% (234/268)   \rReceiving objects:  88% (236/268)   \rReceiving objects:  89% (239/268)   \rReceiving objects:  90% (242/268)   \rReceiving objects:  91% (244/268)   \rReceiving objects:  92% (247/268)   \rReceiving objects:  93% (250/268)   \rReceiving objects:  94% (252/268)   \rReceiving objects:  95% (255/268)   \rReceiving objects:  96% (258/268)   \rReceiving objects:  97% (260/268)   \rReceiving objects:  98% (263/268)   \rReceiving objects:  99% (266/268)   \rReceiving objects: 100% (268/268)   \rReceiving objects: 100% (268/268), 1.15 MiB | 24.61 MiB/s, done.\n",
            "Resolving deltas:   0% (0/147)   \rResolving deltas:   8% (13/147)   \rResolving deltas:  18% (27/147)   \rResolving deltas:  19% (28/147)   \rResolving deltas:  22% (33/147)   \rResolving deltas:  38% (56/147)   \rResolving deltas:  40% (59/147)   \rResolving deltas:  45% (67/147)   \rResolving deltas:  53% (78/147)   \rResolving deltas:  57% (84/147)   \rResolving deltas:  68% (100/147)   \rResolving deltas:  76% (113/147)   \rResolving deltas:  79% (117/147)   \rResolving deltas:  82% (121/147)   \rResolving deltas:  92% (136/147)   \rResolving deltas:  93% (137/147)   \rResolving deltas:  95% (140/147)   \rResolving deltas:  97% (144/147)   \rResolving deltas:  99% (146/147)   \rResolving deltas: 100% (147/147)   \rResolving deltas: 100% (147/147), done.\n"
          ],
          "name": "stdout"
        }
      ]
    },
    {
      "cell_type": "code",
      "metadata": {
        "id": "3YtrHb_qGEvV",
        "colab_type": "code",
        "outputId": "a93b01e5-82ef-4d85-f6e9-17d3d270c671",
        "colab": {
          "base_uri": "https://localhost:8080/",
          "height": 143
        }
      },
      "source": [
        "ls -alrt"
      ],
      "execution_count": 7,
      "outputs": [
        {
          "output_type": "stream",
          "text": [
            "total 32\n",
            "drwxr-xr-x 1 root root 4096 Feb  5 18:37 \u001b[0m\u001b[01;34msample_data\u001b[0m/\n",
            "drwxr-xr-x 1 root root 4096 Feb 27 11:44 \u001b[01;34m..\u001b[0m/\n",
            "drwxr-xr-x 1 root root 4096 Feb 27 11:47 \u001b[01;34m.config\u001b[0m/\n",
            "-rw-r--r-- 1 root root 2610 Feb 27 11:47 adc.json\n",
            "drwxr-xr-x 1 root root 4096 Feb 27 11:47 \u001b[01;34m.\u001b[0m/\n",
            "drwxr-xr-x 5 root root 4096 Feb 27 11:47 \u001b[01;34mclustering4docs\u001b[0m/\n"
          ],
          "name": "stdout"
        }
      ]
    },
    {
      "cell_type": "code",
      "metadata": {
        "id": "B9-Wsy3gFahJ",
        "colab_type": "code",
        "outputId": "f4a9b0c4-fe64-48f3-fa1a-c5d87b489b08",
        "colab": {
          "base_uri": "https://localhost:8080/",
          "height": 35
        }
      },
      "source": [
        "import time\n",
        "import sys\n",
        "#sys.path.append('../')\n",
        "sys.path.append('./clustering4docs/')\n",
        "import soyclustering\n",
        "\n",
        "print(soyclustering.__version__)\n",
        "n_clusters = 101"
      ],
      "execution_count": 8,
      "outputs": [
        {
          "output_type": "stream",
          "text": [
            "0.1.0\n"
          ],
          "name": "stdout"
        }
      ]
    },
    {
      "cell_type": "code",
      "metadata": {
        "id": "BDG_MVQWFd6Z",
        "colab_type": "code",
        "outputId": "8cfb2c21-2149-4826-e19a-d68fa28ba2cc",
        "colab": {
          "base_uri": "https://localhost:8080/",
          "height": 233
        }
      },
      "source": [
        "from soyclustering import SphericalKMeans\n",
        "\n",
        "kmeans = SphericalKMeans(\n",
        "    n_clusters=n_clusters,\n",
        "    init='k-means++',\n",
        "    sparsity=None,\n",
        "    max_iter=10,\n",
        "    tol=0.0001,\n",
        "    verbose = True\n",
        ")\n",
        "\n",
        "t = time.time()\n",
        "labels = kmeans.fit_predict(tfidf)\n",
        "t = time.time() - t\n",
        "\n",
        "print('process time = {} seconds'.format('%.3f' % t))"
      ],
      "execution_count": 9,
      "outputs": [
        {
          "output_type": "stream",
          "text": [
            "initialization_time=2.956792 sec, sparsity=3.91e-05\n",
            "n_iter=1, changed=97695, inertia=218978.984, iter_time=1.226 sec, sparsity=0.0168\n",
            "n_iter=2, changed=66277, inertia=198782.419, iter_time=1.164 sec, sparsity=0.0199\n",
            "n_iter=3, changed=47326, inertia=192701.134, iter_time=1.218 sec, sparsity=0.0218\n",
            "n_iter=4, changed=26636, inertia=190074.128, iter_time=1.169 sec, sparsity=0.0222\n",
            "n_iter=5, changed=15515, inertia=188605.172, iter_time=1.183 sec, sparsity=0.0224\n",
            "n_iter=6, changed=10146, inertia=187836.850, iter_time=1.146 sec, sparsity=0.0225\n",
            "n_iter=7, changed=7357, inertia=187361.539, iter_time=1.242 sec, sparsity=0.0225\n",
            "n_iter=8, changed=5014, inertia=187027.311, iter_time=1.174 sec, sparsity=0.0225\n",
            "n_iter=9, changed=3058, inertia=186890.563, iter_time=1.175 sec, sparsity=0.0224\n",
            "n_iter=10, changed=2682, inertia=186797.612, iter_time=1.166 sec, sparsity=0.0225\n",
            "process time = 14.977 seconds\n"
          ],
          "name": "stdout"
        }
      ]
    },
    {
      "cell_type": "code",
      "metadata": {
        "id": "HdKeZGQUGpjz",
        "colab_type": "code",
        "outputId": "d7562d02-63c1-4965-899b-61384997a7c4",
        "colab": {
          "base_uri": "https://localhost:8080/",
          "height": 35
        }
      },
      "source": [
        "import sklearn\n",
        "print(sklearn.__version__)\n",
        "\n",
        "# scikit-learn KMeans use only Euclidean\n",
        "from sklearn.preprocessing import normalize\n",
        "x_ = normalize(tfidf)"
      ],
      "execution_count": 10,
      "outputs": [
        {
          "output_type": "stream",
          "text": [
            "0.22.1\n"
          ],
          "name": "stdout"
        }
      ]
    },
    {
      "cell_type": "code",
      "metadata": {
        "id": "UabTLXazG65E",
        "colab_type": "code",
        "outputId": "1f9f5aed-e301-4a11-9a15-80512fc10e29",
        "colab": {
          "base_uri": "https://localhost:8080/",
          "height": 233
        }
      },
      "source": [
        "from sklearn.cluster import KMeans\n",
        "\n",
        "kmeans_sklearn = KMeans(\n",
        "    n_clusters=n_clusters,\n",
        "    init='k-means++',\n",
        "    n_init=1,\n",
        "    max_iter=10,\n",
        "    tol=0.0001,\n",
        "    verbose=1\n",
        ")\n",
        "\n",
        "t = time.time()\n",
        "_label = kmeans_sklearn.fit_predict(x_)\n",
        "t = time.time() - t\n",
        "\n",
        "print('process time = {} seconds'.format('%.3f' % t))"
      ],
      "execution_count": 11,
      "outputs": [
        {
          "output_type": "stream",
          "text": [
            "Initialization complete\n",
            "Iteration  0, inertia 239396.447\n",
            "Iteration  1, inertia 232662.733\n",
            "Iteration  2, inertia 227262.628\n",
            "Iteration  3, inertia 225448.582\n",
            "Iteration  4, inertia 224885.962\n",
            "Iteration  5, inertia 224739.357\n",
            "Iteration  6, inertia 224472.849\n",
            "Iteration  7, inertia 224070.986\n",
            "Iteration  8, inertia 224023.769\n",
            "Iteration  9, inertia 223991.009\n",
            "process time = 19.328 seconds\n"
          ],
          "name": "stdout"
        }
      ]
    },
    {
      "cell_type": "code",
      "metadata": {
        "id": "5oJyKlDyH4kG",
        "colab_type": "code",
        "outputId": "7f1436ce-adb4-4ccc-876e-e72f65de66d4",
        "colab": {
          "base_uri": "https://localhost:8080/",
          "height": 145
        }
      },
      "source": [
        "#word2index를 생성하기만 하면되는데, 굳이 word2vec를 만들필요는없음..\n",
        "# 파라메터값 지정\n",
        "num_features   = 300  # 문자 벡터 차원 수 (300:wiki, data가 적으므로 100차원만)\n",
        "min_word_count = 1   # 최소 문자 수 : 해당 출현빈도수 이하의 단어는 무시(*학습하는데 부담이 되지 않는다면 일반적으로 작게 설정)\n",
        "num_workers    = 4    # 병렬 처리 스레드 수\n",
        "context        = 3    # 문자열 창 크기 (평균 문자 길이를 고려?: HS품명 평균3)\n",
        "downsampling   = 1e-3 # 문자 빈도수 Downsample : 빈도수가 큰값에 대해 평준화적용\n",
        "sg_type        = 1    # 0:CBOW(skip-gram보다 빠름), 1:skip-gram(느리지만 성능이 더좋음?)\n",
        "\n",
        "# 초기화 및 모델 학습\n",
        "from gensim.models import word2vec\n",
        "from gensim.models.keyedvectors import KeyedVectors\n",
        "from gensim.models.wrappers import FastText\n",
        "\n",
        "model_name = '300features_1minwords_3context_sg1_sample'\n",
        "#gd_mode_key = '1G-aMJt4k5np7C_usIFZnguAxuVGffnke' # https://drive.google.com/open?id=1G-aMJt4k5np7C_usIFZnguAxuVGffnke\n",
        "\n",
        "def createWord2vec(new_sentence, model_name, IS_UPLOAD=False):\n",
        "    start = time.time() # 시작시간\n",
        "    print('IS_W2V_CREATE START!') \n",
        "    # 모델 생성\n",
        "    model = word2vec.Word2Vec(new_sentence, \n",
        "                              workers=num_workers, \n",
        "                              size=num_features, \n",
        "                              min_count=min_word_count,\n",
        "                              window=context,\n",
        "                              sample=downsampling,\n",
        "                              sg = sg_type) \n",
        "    print(model)\n",
        "\n",
        "    # 학습이 완료 되면 필요없는 메모리를 unload 시킨다.\n",
        "    model.init_sims(replace=True)\n",
        "    model.save(model_name)\n",
        "\n",
        "    if IS_UPLOAD:\n",
        "        # 2. predict 모델 저장/업로드\n",
        "        #w2v model feature\n",
        "        upload_weight('', model_name, drive)\n",
        "        print('IS_W2V_CREATE END!')  \n",
        "\n",
        "    end = time.time()\n",
        "    elapsed = end - start\n",
        "    print(\"Time taken for model creating: \", elapsed, \"seconds.\")\n",
        "    return model\n",
        "\n",
        "new_sentence = [words.split() for words in corpus]\n",
        "print(len(new_sentence))\n",
        "model = createWord2vec(new_sentence, model_name, IS_UPLOAD=False)"
      ],
      "execution_count": 15,
      "outputs": [
        {
          "output_type": "stream",
          "text": [
            "242366\n",
            "IS_W2V_CREATE START!\n",
            "Word2Vec(vocab=113846, size=300, alpha=0.025)\n"
          ],
          "name": "stdout"
        },
        {
          "output_type": "stream",
          "text": [
            "/usr/local/lib/python3.6/dist-packages/smart_open/smart_open_lib.py:402: UserWarning: This function is deprecated, use smart_open.open instead. See the migration notes for details: https://github.com/RaRe-Technologies/smart_open/blob/master/README.rst#migrating-to-the-new-open-function\n",
            "  'See the migration notes for details: %s' % _MIGRATION_NOTES_URL\n"
          ],
          "name": "stderr"
        },
        {
          "output_type": "stream",
          "text": [
            "Time taken for model creating:  35.932371377944946 seconds.\n"
          ],
          "name": "stdout"
        }
      ]
    },
    {
      "cell_type": "code",
      "metadata": {
        "id": "S3FNoLmeHH7m",
        "colab_type": "code",
        "outputId": "d06ae6b0-5662-416a-a355-28d773b9e092",
        "colab": {
          "base_uri": "https://localhost:8080/",
          "height": 35
        }
      },
      "source": [
        "from soyclustering import proportion_keywords\n",
        "\n",
        "print('model.wv.index2word:', len(model.wv.index2word))\n",
        "\n",
        "keywords = proportion_keywords(\n",
        "    kmeans.cluster_centers_,\n",
        "    labels,\n",
        "    index2word=model.wv.index2word,\n",
        "    topk=30,\n",
        "    candidates_topk=100\n",
        ")"
      ],
      "execution_count": 16,
      "outputs": [
        {
          "output_type": "stream",
          "text": [
            "model.wv.index2word: 113846\n"
          ],
          "name": "stdout"
        }
      ]
    },
    {
      "cell_type": "code",
      "metadata": {
        "id": "QIRT3M1UHQK6",
        "colab_type": "code",
        "outputId": "fc6eeac5-28f5-4e6a-be01-792bb2d83941",
        "colab": {
          "base_uri": "https://localhost:8080/",
          "height": 557
        }
      },
      "source": [
        "keywords[59]"
      ],
      "execution_count": 17,
      "outputs": [
        {
          "output_type": "execute_result",
          "data": {
            "text/plain": [
              "[('MACRALEX', 1.0),\n",
              " ('OXIDIDED', 1.0),\n",
              " ('4/110', 1.0),\n",
              " ('4-3-3', 1.0),\n",
              " ('HWALSAM', 0.9995604962847932),\n",
              " ('KL-400', 0.9995589760633384),\n",
              " ('SIROKOSHI', 0.999445321747579),\n",
              " ('CME', 0.999402334117458),\n",
              " ('SALTRAM', 0.9993833679060897),\n",
              " ('PINNACLE', 0.998953657624274),\n",
              " ('LA-CE', 0.9989529316734753),\n",
              " ('KATUSO', 0.9987510308187098),\n",
              " ('BERMUDAGRASS', 0.9987004614136981),\n",
              " ('TOPMIX', 0.9981172561156201),\n",
              " ('OLDPOX', 0.9980843081729648),\n",
              " ('TONNA', 0.9963533048710835),\n",
              " ('CHAVE', 0.996308803461794),\n",
              " ('TARE,2.05KG,6PC/CTN(2016.06.01)', 0.9960643339293401),\n",
              " ('DAL(BLACK', 0.9960249229366923),\n",
              " ('REFF', 0.9959155614050198),\n",
              " ('BRUSCHETTA', 0.9950910498716886),\n",
              " ('RONAFLAIR', 0.9948179580502908),\n",
              " ('ENVIRONMENTAL', 0.9947687095102826),\n",
              " ('CURRY(BAMOND)-MILD', 0.9945306515214383),\n",
              " ('TT(G)', 0.9934679526871377),\n",
              " ('KANAMYCINE', 0.9931831872930224),\n",
              " ('BONEIN', 0.9931208311128459),\n",
              " ('0.25MOL/L-SULFURIC', 0.9921949154173182),\n",
              " ('DESACETYL', 0.992170722340245),\n",
              " ('SS', 0.9907668873976888)]"
            ]
          },
          "metadata": {
            "tags": []
          },
          "execution_count": 17
        }
      ]
    },
    {
      "cell_type": "code",
      "metadata": {
        "id": "XUR1HkDdHS5p",
        "colab_type": "code",
        "outputId": "67922556-c199-423e-8a0a-4ba83928a9e7",
        "colab": {
          "base_uri": "https://localhost:8080/",
          "height": 1000
        }
      },
      "source": [
        "for cluster_idx, keyword in enumerate(keywords):\n",
        "    if cluster_idx % 5 == 0:\n",
        "        print()\n",
        "    keyword = '///'.join([w for w,_ in keyword])\n",
        "    print('cluster#{} : {}'.format(cluster_idx, keyword))"
      ],
      "execution_count": 18,
      "outputs": [
        {
          "output_type": "stream",
          "text": [
            "\n",
            "cluster#0 : 4-BROMO-2-METHOXYBENZYL///MEAT(B.Q.F)///LIVINGSTONII///MANDJI///190OTS///D.C.P///JAERAESIC///TRICHLORFON///BALBI///PUREWHITE///2-CHLOROPHENYLACETYLENE,///MXS///PTB///DUBAI///NONGSIMNEOGURI///PHOSPHIRC///OLIGOMERS///GROCERY;///PRESERVATIVE///DIDISCUS///POMIDORO///GYERANGWAJA///40MESH///HD(E)///TRUFFLESHELL///CRISIS///FISH(WITH///EPD///SPRD///VEAN\n",
            "cluster#1 : HMC///B/IN///FLUSHINGS///EDULIS)SLICE///CHROMIUN///PARCE///ABSORB.///SOLUTION(N/40)///SULPHOSUCCINATE).///LYCOPODII///NO.23///SI2H6-4N8-10KG-44LDISS632///FLAKES(NON-GMO)///PEAR&WET///CYANUS///TOMT///VALSARTAN///monitor///DARMERA///GAFFEL///BAHIA///GINGER)///BUKID///HAL///JUICE(DRINK)///NITRATES,///REMOVAL///SAUCE(20%)(280G*24)///GUM(BOTTLE///BEEFTRMG(85.00CL)\n",
            "cluster#2 : ALUMINM///RODENT///CASONA///513///DRINK(WON///PARTHENIUM///BORUYNG///RADIO///M/E&G/E-SYS///SSF///RAMARIA///SUREFLAM///REHYD///N,N,N,N-TETRAMETHYIETHYIENEDIAMINE///FROZ.RIB.F.W.ROUND///CT20///BIOCERA///AGLNCD///POSTERIOR///CHO-MATE///SOIUM///1,5-DIAMINOPENTANE///GTEH///CYPRIPEDIUM///CHANA(CHICKPEAS)///ATRAOTYLODIS///METHANSULFONIC///SULPHONYL///ETERNACOLL///FOOD(RABBIT)\n",
            "cluster#3 : DOKGOTAG///MUGIKURA///KK3///BROMOETHANE,///STONEAGE///ASSAY///CUCUDAS///VINEGAR(KL1010)///PROTEX25(NEEDLE///SEMICOSIL///ENTRAIL///NIULANSHANERGUOTOU///EPIDERMAL///312G///TITA///ACETYL-L-CARNITINE///ADVERTISING///PACK,///BOKKUM///CHEWS-ORANGE///MLASSES///5-PHENYLCYCLOHEXANE-1,3-DIONE,///GX-Z///H-GRADE///SEALYT///SULFAMONOMETHOXINE///NEOPENTYL///BANGLADESH///TRANS-1,2-CYCLOHEXANEDIOL///MULTIDRAW\n",
            "cluster#4 : GAYDA///SAMPLES(CAN///GLUTINUS///RAOZEN///LINN)///AZZURRO///PERONI///COFFEE(ORIGINAL)///NASTRO///PIRAAT///0.5%///SF-SILVER///DAMPING(15KG/CAN)///PAULIN///PFUNGSTADTER///11,22(ROW)///SWEET5CT///PASTES///SUPERFRESH///SHIFT///EXIGENT///FRAGMENT///LVIE///EUREKA///TELMISARTAN///DIAMINO///GROSSYPIUM///GD///2-ETHYLHEXANOATE,///FASSBRAUSE\n",
            "\n",
            "cluster#5 : 3IN1///DBD///HFIPMA///50%)///HIMBEERE///CAMELLEON///DOENGANG///55G///GLENFIDDCH///1640G///DEM.HERB///CHF11S///G-OS///ASINARI///MDCLXV///POWDERS(DRY///12/CSHOUSE///acid;///JEWEL///2-4R///KEENMIND///RACLETTE///HERSHEY'S///TARE,2.2KG,6PC/CTN(2017.01.13)///CARBON;GERMANY///VOCL3(VANADIUM///MALATE///OK///CORPS///4LB*6PK/CS\n",
            "cluster#6 : AHC///MISCANTHUS///LONGFINNED///5W40///DIFLUPREDNATE///HUKUROHUNORI///RACHEL///TAMINCO///K-FLEX///MYCOPHENOLATE///CAROBACID///SENDAS///potato,///EONG///VALACYCLOVIR///DAN(PRESERVED///BENCHMARK///2-METHYL-2-BUTANOL,///DOMA///SHOULDER&S///NPW-150///SOLEA///FINGERLING///TUREEN///TODA///BELLAS///THALIANA///FURADUR///ESAFLOR///OLIVACEUS:HIRAME)\n",
            "cluster#7 : 3815///TETRAOXIDE///ITACONIC///50LBS///UHK///DULCAMARA///USING///PD(PLEOTICUS///PETROLATUM,TECHNICAL///COCOATE///MEGAJOULE///5-FLUORO-1,3-DIMETHYL-2-NITROBENZENE,///YOGURBIG///DRESSING(WASABI),1L,9PK/CTN(2015.05.27)///2-IODOBENZYL///STERILISED(RECLEANED)///GLUTARALDEHYDE///FOODS(CHILDRENS///SSEOLEUN///PHOSPHOROTH///ETHYLCYCLOHEXYL///PLANDOOL///INTACT(IN///MODCARB///MAITRE///FATE///NDA-12///NEEDLES///5.0N///STRAWBERRIES(VARIETY\n",
            "cluster#8 : 1997///DISCOLORATION///ISOPHTHALATE///1604///ALUMINUM(A)///PRODUCTD///POWDER,-40///7.5GM///CRABON///ABRADANT///EMEREX///790///CARCASES///UNBLEACHED///OILS(THAN///1.7MIU///ACAMPE///\"TREIBACHER///AVEBE///ETEXILATE///DEXOS1///COFFEE-MOCHA///XOIDE///TRIFLUOROETHYL///DEHYDRACETIC///NATURE'S///BIS(2,3,4,5,6///ANAL///SL-17(WA)///PADDING)\n",
            "cluster#9 : ROS///2500///CAMPHORQUINONE///APRY///CODONOPSIS?///RICO(GREEN///1-BROMOPYRENE///SW3IMMING///MF-RL///ACTINIDIAE///FMENTHOL///BRISKET,OUTSIDE///PEANUTS(GOLD)///LAND///TONGUES///TECHLUB///KERNELSHS///1:2:4///ASSFRUIT///ORIENTALLS///3-CHLORO-1-PROPANOL,///TIOE///BUTANOWE///SRYSTAL///SI2H6-4N8-10KG-44LDISS632///SNAILS,PREPARED///G/N///FORHIGH///SNACK(PIE)///FENNED\n",
            "\n",
            "cluster#10 : SULFIDE(H2S)///RAMNISTA///FRACTURE///POLLACK-GUT///3-ETHOXYBENZALDEHYDE,///NITRITES///ORANGE&MANGO///LETSBE///ALPINE///2000IU///BICYCLO///DIMETHYLCYCL///64G///IMITATUIN///RIPS///ERYTHORBATE///SAUTE///DANMUJI&PICKLES///8000///DITAB///ENBIOLAC///BRMFC-J4510N///MATTONI///CAUGHT)///CHAM)///FLAVOSPROUTS///PROPOILS///S-OYSTER///FXDQ24MVJU///FRUCTO\n",
            "cluster#11 : ECOLYT///FILLETS(H/L)///SARDEN///SYNCH///QUE///ULTRACID///130G///SANDLANCE(FOR///DUTASTERIDE///JIKOMI///BFG10///RADIX(?곗뒳)///SOLUTION-PREMIX///ROTENON///P-PLUS///BONELESS;CHILLED///AMPROLIUM///3CT///CABONATE///FSMP///SOFTENING///IN/SN///TRIMS(85.00.00CL)///PELAMIS)///G-MYCO///4-NITROBENZOTRIFLUORIDE///PERIWINKLE///GINGER-JUJUBE///SESQUIHYDRATE,///CAMGOGIA\n",
            "cluster#12 : SUSTANCES///BANGE&ETC///ROUANNIERES///HEXAHYDROXOANTIMONATE(V)///TMTM(T)///POINTS)(COLOR///4-HYDROXYACETOPHENONE,///XMAS///CHARANTIA///APIDRA///TRIPACK///FLAG/MOTOR///DISSAN///TARGER///CEFPROZIL(E)///ANTI-ITCHING///1,1,2,2-TETRABROMOETHANE///AROMATICS(TECHSOL-100)///(240ML///GRANDES///Cheong///55%,///BETAFIN///SAND)///ACTREL3338L///LEAST///SI2H6///ROASTED-NOT///RUSTIKANA///DICHLOROTOLUENE\n",
            "cluster#13 : GINNANSO///NACL///SICOMIN///SULPHITES;///30LB/C///ESPR.ETHY.ABAYA///997///PFSX1DS///UNIVERSE///GRAINSTED///SPLINTS///VITIS///NUDDLE&RICE///ROUNDED///BENZACARE///S-SMALL///TRI-BASIC///ZAKURO///EQUIPMENT,///METABISULPHITH///DIFFERENTIAL///BONELESS-SAMPLE///FLOWERS(LILY)///SAPSAP(PONYFISH)///VIENNA,ETC///12EA)///KOME///IMPROVEMENT///ALPHALINE///INSTUNT\n",
            "cluster#14 : AQUALOUR///SHRIMP(1.8KG)///1KG*4JR/CS///FABIAN///STP///ENERGEX///KOHAKU///ROASTED&SEASON///FREKOTE///B.G///MILKCHC&MM///OXIDE(N2O)///347///GALLO///ARMEEN///NYC///BENZALDEHYDE,///NITZSCHIELLA///CALBEE///SD)(MIXTURE)///309N///OCTYLPHENOL,///SETIGERUS///SCAVINO///ROMEO///NEOPORTERIS///NAHROFIT///PRZECIER///BLACK,INK///ANALYZER)\n",
            "\n",
            "cluster#15 : 2-METHACRYLATE///AP.KG.1///MULTIPASTE///GAUR///FAVOURITES///LIQUISMOKE///2-TETRAHYDROFURAN///BALSARN///DRUGAR///DESICCANT(DYE///INK.///OCIO///TRANSFORMATIVE///ETHER-PHENOLS,///FEX///1084///ORANG///PATAGONICA)///QUEEN(TOMATO&YOGURT)///DELO///EYEBRIGHT///PORK,CHILLED///SACCHARUM///OIL(COLD///ECOMAG///NFS-HAIR/SKIN&NAIL///Patent!///MAME-SWEETBOILED///INORGANICACIDS///UKON\n",
            "cluster#16 : PAMOIC///ROTIE///GLYCOL(PROPANE-1,2-DIOL)?///TROUBLE///3-(ACRLOYLOXY)PROPYLTRIMETHOXYSILANE///BOQUETE///DENTISTRY///N-OCTADECANE,///C9(K-100)///RASPBRY///ANAEROBIC///BARLEYS///2.1KG/EA///PERYLENETETRACARBOXYLIC///COG///KORCHAKOLSKIY///SEED(FOENICULUM///MAEAL///MIX(ROSEBUD///CASCADE///PHENYL)PROPANOL///DOWON///BAIM///PANT///IHS///LIQUER///BRAUN///VALERALDEHYDE///MICROSILICA(SILICA///SYSTANE\n",
            "cluster#17 : BOUQUET///PD///MEN\"///CRANBERRY///SHLESH///CHURROS///FEED(FLAKE)///VAC///1-BROMO-4-CHLOROBENZENE,///NITRIDESSYNTHETIC///REANDNE///HAG///EPOXIDE///SELECTION(SAMPLE)///DRESSING,1L/9PK/CTN(2015.08.16)///BODIES(C)///2,3-DICHLOROTOLUENE,///DELOS///MARQUISE///GK-78403///SEED&ETC///CALDIC///PIGS///300-500GRMS///SKIMMINGS///COOLIX///SEASONNINGS///AMALTY///4303D///GECKO\n",
            "cluster#18 : TUF///CRACKER(280G///INTEGR///BIODIESEL///3-TERT-BUTYL-4-HYDRO///4-CHLOROPHENYL///PYRACLONIL///BAICAL///3-ALLYLSALICYLALDEHYDE,///LOPHIOMUS///LINGUINITTE///SSTUFTS///DEVILS///1.8L(2016.05.18)///JAM,ETC///P-2O-5///58%///SCHAEFFER///BIOLIGO-GL4630///OMYA///DIBROMOANTHRACENE///CATCHER///ENERPAN///ZENUS///PROVEN///LIFEGUARD///ADAMSVENUS///ACETEM///CONSTA///CONCEALER\n",
            "cluster#19 : WADDINGS///CERAMIDE-LC///JEOTGAL///MULTITEST///LODIDEU///PANCAKESYRUP///TG/N///HANGARI///HAEPSSAL///SUPERMINT///BOILIED///SILIKA///LONGTIME///STROOP///LUTZVILLE///DUMPLING(MANDOO)///Series///SSALGUKSU-CURRY///ALKYLPHENOLS///LAMBDA///GHEESE///MOZZARELA///GRADE,99.5%MIN///RIBERA///W/HOT///SUFFRUTICOSA///SURIMI(FA///COLONY///LUBA-PRINT///SOLUBLES,\n",
            "\n",
            "cluster#20 : MICROPIGMO///KUVIOKEKSI///PXL///ALKOHLISCHES///KERNELS)///YXTEND///HYDRATOR///MIEROGRANULES///GUNGIM///GOI///WURTH///HOMPO///2,3,4,5-TETRACHLOROPHENOL///VOL.)///FRUTEK///0.5N-POTASSIUM///MADMA///COREANUS///MARTINI///MARUTEMPU///PREM(MW)///STREPTOCOCCUS///4-ETHYLPHENOL,///2,3,4,5,6-PENTAFLUOROSTYRENE,///HEXATRIACONTANE///9092DR///SERRE///PIGMNT///RADISH)///STEARTRIMONIM\n",
            "cluster#21 : OIL(EH)1*227G///THERAGRA///TOMATO(LYCOPERSICON///SYOUZU///ETHANE(HFC///4448404605///STEVIOSIDE///PARTING///LECITHINE///5W20///PANEER///DIPENTABRYTHRITOL///6PC/CTN(2017.04.19)///DIARESIN///SMILAX///JALAPENO,///S-4///SYNTHAPUR(TM)///PRITNING///0.3MM///TASARI///PREPAK///PRIAMINE///NAPHTHA)///IMIDOCARB///2402C///VALEROLACTONE///DEVIL'S///NOODLE-OYSTER///VE\n",
            "cluster#22 : CERVUS///GARRAFAS///RA-PTBP///8.5%///YK-2831(INK-OIL)///CATIONIC///PURE(FOR///GREASE-ROTATION///KEICHUP///SEA-BREAMS///SPAGHETTI.///HEAWOOL///TSUYU,1.8L,6PK/CTN(2016.01.17)///STRAWBERRY&CHOCOLATE///FIAKES///BILL///TAIL(TIPPED)///LONGBEACH///P-NAPHTHOLBENZEIN///SYOUYUAJI///280G(15.05.18)///GLEDITSIAE///RINDLESS///ANTIOXIDANTE///HIDDEN///OIL(FOC)///RAHM///Mammos///MALYASIAN///ARMADOR\n",
            "cluster#23 : FULLERENES///WINEMASTERS///QUORN///GENROKU///VYNYL///DANGMYUN(C-2)///OCTAPHENYLCYCLOTETRASILOXANE///BACCARAT,ETC///FLAXSSED///PASCAL///CASSETTE///FRIEDTOFU///EXTRACT-NS,BYUNGPUL///BNT///CHZ///IFO///THIOSALICYLIC///KELP,///FRUCTONE///AQUATENSID///LIGUIARIA///IF///CHU-HI///KELP(SEA///YOOK///Desk///ASSEMBLE///MONROSSO///METHANOL(METHYL///CALVIN\n",
            "cluster#24 : BUTTERMILK,///ARSENICS///DRINK-MANGO///13.61KG/CS///OPTOMEGA///TRIHYDROXY///M.Y.///56///DICYCLOHEXYLAMINE///KS9HOME///ORCHEX///ROSTING///CIROXIN///750ml///1664///KASTURI///ROATED///2.7-3.6KG///LEVAN-H///CANAS///SCULPT///TRANS-4-OXO-2///1.7KG/9EA/CS///NEILGHERRNSE///SINK),///DELICACY///ETIZOLAM///Flexible///STABILIZER-B///SEALS-PHOCA\n",
            "\n",
            "cluster#25 : ACETALS///PACKS,KAYA///BEANS(VIGNA///FAKE///TERPENE(D-LIMONENE)///GELOXAL-10///CUCUMARIA///VILLACRECES///EXPANSIVE///CHISMAS///COUDERT///SAH///99.995%,(METALS///CARAMELIA///ANSUNGTANGMYUN&S///SOALOCUST///HYPRENE///CAMEROON///NOASHI/EBI///HUMAN,///RHODODENDRON///PEF///CHICKEN(NEW)///TONGJORIM///REJOYCE///E-GLASS///PROPAN///HEMA///AZ-SW///SCAPSULE(550mg*180Caps)\n",
            "cluster#26 : INERMIS(GUTTED)///DEONJANG///CAROPHYLL///ZAGRA///FLOUNDER(FARMED)///SALCHICHON///EVISCERATED-A///MATSAL(CRAB)///PATERNOSTINI///GP003///SM/SL/CF/EC///DELIZIE///MONOFLORAL///KUPI///BUTYENE///BUONDOLCE///BAC)///CRYSTALS,///DUNAPOL///BUSAN(BULK)///PINEAPPLE&SWEET///LAPONITE///Izmir///HONNY///MANYEGA///CHEONGJUNG///67GM*72///AQUASOLVENT-G///GUAIFENESIN///AMORPHOS\n",
            "cluster#27 : KRAUTER///TRIMETHYLCHLOROSILANE///PEACH,///SOUP(MILD)///MIXED-XYLENE(ISOMER///CHEDDR///MYOTEIN///5000ML///OPI///SOLVST34///BIRLA///DIETHANOLAMINE///ROAM///OCTOPUS(WHOLE///SAAB///ESSSE///TRIPHENYLMETHANOL///99.9(METALS///BENZYLIDENEACETONE,///88-12///DRESSING,1L,9PK/CTN(2014.12.11)///VIGNELACROIX///SILICIN///CLAMWORM///RECUTITA///PREMIUM(FOR///MIRIN,1L,12PC/CTN(2016.04.16)///CKL///CEFIXIME///PYRIFLUQUINAZON\n",
            "cluster#28 : MULYEOT(SYRUP)///MANGO,STRAWBERRY///ACTIPLEX///Purple///TEIGWAREN///MIVATEX///GYEONGOKKHWALLEOKSO///MYRITOL///SEAWEED(SUSHINORI)///PALTA///SPLITTIN///3-BROMOIODOBENZENE///IMPRIDA///SULPHOXYLATES///BISCOTTI///Cake///GOSSYPIUM///INSPIRED///RIB(RIBS///PROOF///SPHERE///2-CHLOROPROPANE,///CREMES///UNFUSED///INCOTEX///SERITAE///PLANTAGO///DEVINEDE///HP-260///FLUOREN\n",
            "cluster#29 : ADORE///SLAG)///CAPSU///SOYJOY///CATYLEN///DICE;FROZEN///CJ-FRYING///OP-LQ///JAMONGCHA///DOOYOU///BEANS(GREEN///MITTLERER///SANTENAY///DUMPLING(JAP///EPOCROS///LAYERED///SUPREX///AIREN///HAI///MAIVAE///CANND///GARD///ORANGEBEVERAGE///J.J///OBTUSA///CHIICKEN///MARIANI///GUAGLIONE///MEKABU(BULK)///CIPROBAY\n",
            "\n",
            "cluster#30 : 2-CYCLOPROPYL-4(4-FLUOROPHENYL)-QUINOYL-3-METHANOL///SORBENT///500GM*30PK/CS///AKAMUTUS///DORACRYL///VINEGAR-YANGJO///MONOVANADATE///ACTIVONOL-5///1,7-HEPTANEDIOL,///GD203///ACETAMINOPHENE///GRAPES)///EPOS///DIFLUORO(OXAIATO)BORATE///COOKDE///pufa///ACEROMINE///CREMY(MILK///CANAARY///1-CHLOROOCTANE,///DESOXIMETASONE///2(400G)///FLAMERS///THICKENERS,///SYMBICORT///LIMIN///META-AMINOPHENOL///LAMARCK///MALDON///MOMO\n",
            "cluster#31 : 99.5%(///NEER///ETHANLO///GAS(INCLUDED///TIE///DIFFUSAE///GLOSSS/LIP///EDWARDS///DIISOAMYL///MARCA///FILETTI///SUGARCANE///CREAM(2.5KG///SNACK(MACARONI)///MOGAS(ULP)///SIDDHA///EPIOL///2-BUTYNE///ALTA///EAGLEHAWK///GLENKINCHIE///DINNER///POLLOCK(SLICED)///HIBISCUSBL///1007///GLUCAN///VIATEMZA///ANGUSTIFOLIA///BRWON///PIEZOELECTRIC\n",
            "cluster#32 : YELLOWN///GLUTAMIC///C6TL///BUTYROSPERMUM///IN,SKIN///1050G*8///CALIAFORNIA///ISEUL///KUSUK///PROCARE///PROPIONATE(PMP)///CACSIUM///MONKIFISH///(ROCK///ETRIDIAZOLE///SKINLESSW///DASHIMA///TEA(TEA///2PCS///VEGAVAL///CARBOTRON///DANJOU///STOPIT///NARVAUX///Clay(MA)///1000UG///COND///POLI///SAUCE(350G)///PRV\n",
            "cluster#33 : AGONIST///UNSALTD///HYDROGENPHOSPHAT///CHALCOGRAMMA///PRESLIA///SEEWEED///TUNGSTIC(VI)///PUFFER(TORAFUGU)///5-LITER///SUNCO///HYDROXIDE(10%///AMIDOSULFURIC///Minerals///U0424BD///CONNOISSEUR///OKAY///CARDAMOMI///BP/USP/EP///SAVORY///KETOTOP///1.5-NAPHTHALENE///RETANAL///MONTAL///10120896///GERMALL///MASTE///15:0///Local///SANGPUM)///MUSHROOM(?쒓퀬踰꾩꽢蹂띠쓬)\n",
            "cluster#34 : T6///26.3%///HYANGGEOTHAN///500M/R///INDICUM///FINIX///MIX(SAVORY///2-ACETYLCYCLOHEXANONE,///SCAPSULE(180Caps*2Boxes)///PHELLODENDRON///LIPBALMS///MACROCIDE///CAKE-LONG///FUJIMI///JUJUBE,///RAT(10///SUPERPRETZEL///STACKS///JANS///34S///DD1020A///GASTRON///VEYERINARY///CH.CLASSICO///SUGARCOATED///3,4-DIMETHYL-1,2-CYCLOPENTADIONE///ODONGTONG///NITROG///VIRGINANA///NULUNGGI\n",
            "\n",
            "cluster#35 : O-PHENYL///ALUMINIUM-DROSS///MONO-SODIUM///SOLMOI///800M///SPELTER///VINCHAUD///JEOLDAN///MINAREX///SAHARA///STAY-C35///PTEROCARPUS///BOWL,2260G/6CTN(2015.07.14)///BOWL,2260G/6CTN(2015.03.21)///ANTHRACITE(0.9-1.1MM)///PREVENTIVES///NUREUNGJI///MARGARINE;///CINNAMALDEHYDE,///TIEFENBRUNER///FERROCYANIDES///LUMS///ALIMENTOS///OAM///OXIDO///ESA///YAMAGOBO///YFA-BM///CARICOL///PERPPER\n",
            "cluster#36 : 042678///LIVINGSTON///SANGKAEMON///HAY(PER)///MONOPROPYL///IRON(IIIII)///1-FLUORO-2-NITROBENZENE,///mask///IGE///COCOALKYL///SATEN///TYCHSON///MAXIMIZER///ALUMOP///OCTOPUS(ONE///SUN\"///D-10///SWETA///SILVE///158///BISCUIT(WAFFLE)///EPOVITAN///MD-1024///PARAMENTHANE///2-METHYL-PROPANEDIOL///GOODY///STRAWBERRY,DRIED///MILESIME///MBIT///LABS\n",
            "cluster#37 : HAMBURG///MIS///LIGNITE///5-BROMO-1,2,3-TRIMETHOXYBENZENE,///2-CHLOROPYRIMIDINE///\"STRAWBERRY\"///5R///JANG-A///PFA///625///NAPROPAMIDE///GORDON///SABOSTAB///4-VINYLPHENOL,///LOZENGE///CUTILET///3-FLUOROPHENYLBORONIC///5-BROMO-2,4-DICHLOROPYRIMIDINE///SEAW///FENHEXAMIDE///PUNCTATUS:KOHADA)///720/.5OZ///SAUCE,300G,12PC/CTN(2016.10.30)///CHON///ASSAY)///YUDAI///ISONONANOATE(KAK109)///HALFCUT///CABAGIN///1.2-PROPYLENEDIAMINE\n",
            "cluster#38 : CUPCAKE///MOX-78///PORTARYTE///BAR(FREE///FELCAFE///ROASTED(DECAFFEINATED)///DOVER///200GR///KEISHITSU///SULPHATES.///MEAT(OTOSHIMI)///POWDERFOR///DOT-3///SERGIO///HOSTAVIN///Gold///GABA///BOSTER///EXTRRACT///SHRIMPAS///SOUP,1.8L,6PK/CTN(2016.04.03)///YU///PHOS-CHECK///CORROSIV///HEXAMETAPHOSPATE///AXI///MEAT&PASTE///PROPAFENONE///10119905///MEDULLA\n",
            "cluster#39 : ALTAIR\n",
            "\n",
            "cluster#40 : GREDE///SIJANG///REVELATEUR///CONFIRMATION///HOT(KARAKUCHI)///YSILANE///4-AMINOBIPHENYL///ACRYLOYL///AMADO///VERNICIFLUAE///Bottle)/OEM///SPEAKER///PANIR///SUPERFRUITS///SEASONGS///CRACKER-S///CFR///LACQUER?///TSUYU,1.8L,6PK/CTN(2015.08.07)///CRACKING///GYUNG///LOGANBERRIES///MATERAIL///STOLICHNAYA///100,APIDRA///DPNP///GLYLOID///DEMOLI///SEPERCH///COLORIS\n",
            "cluster#41 : CHANGJIA///N-MF(N-METHYL///HESPERIDES///ACTIVONOL-PAF///CONFECTIONERY,NOT///TONKOTU///HERBASOL///3-CHLORO-2-METHYLPROPENE,///PHENETOLE,///TRIGLYCERIDE(CONTENT///THINBREAD///GEMS///DINTY///TEA(TB)///PALIPERIDONE///ZHAOZHUANG///TILMICOSIN///SUNDUBU///SSALNUN///16-16-8///PAYS///ROUNDY///SNUFF///AFTER///FLA///AUGUSTIN///PEES(P-(1-ETHOXYETHOXY)STYRENE)///505///TWINKLE///GENSING\n",
            "cluster#42 : KW///YANNAMEI///1,6-DIBROMOHEXANE,///MAGENSIUM///CAMBELL///TREME///CORNET///CANTALOUPES///AMINOETHYLETHANOLAMINE///ORZADA///JUICE,///KRISPIES///W/R(A)8KG///ARGENTINUS)///LIQUID-8801550001316(8801550001316)///3%BLUE///1-METHOXY-2-METHYL-2-PROPANOL,///RITAN///DUORO///CHEMSTAIN///SULPHUREUS///CRACKER(CHAPSALJYUNBYUNG)///SELF-REACTIVE///OXIDANT///LINTEUS)///D/BROWN///AWABI(BOILED)///FERMIVIN///A-BLADE///2-ETHYLHEXANOATE,\n",
            "cluster#43 : OXYMETAZOLINE///SHUTO///CIABATTA///5100///WING&LONGNOSE///ALBANESS///YELLOW,///225MG///HOYAS///BRAYCO///)-ARABINOSE///SHRIMP(VANNAMEI)///SSALJJOLMYEON///AOSA///POLLACK(R)///PLASTER,CAS04,///TOURMALINE///CLE///GUINNESS///MICROBLEND///LUTETIUM/CERIUM/YTTRIUM///PICILLIBACTA///40-4///LIMALIN///CALCILO///CASPASE///BURGERKING///DWC-100///CHOCOBOY///JOGHURT\n",
            "cluster#44 : TOASTED,SALTED///ROSEBUD///PREZEL///SOUP,1.8L,6PK/CTN(2016.04.11)///SNACK(MINI///WARRLS///GRANU///13ML///GASES,///BLANKING///MIYEOKJULGI///LIME-LEMONGRASS///OLAK///DX-III///OSS///HUMULUS///PYRROLO///KLGFGRNLAW/RAIS///KEEMUM///MOISTURIZED///SUSPENSA///CASSETTE///DI-TERTIARY///BRWON///SULPHATE(BLANC///12X1L///SPORIX///GULDEN///ANDAQUATIC///360240\n",
            "\n",
            "cluster#45 : METASMART///NOVASOL///FUERU///A.S.S.///LEFLUNOMIDE///TROPEA///R10-0312///99.9999%(REO)///HAATBAN///HALF-CUT///TETRAFLUOROPROPYLEATHER///HARDENERS///NOVI///DF-908///BEER-ALCOHOL///KM///VAL///CHIORIDE///TREATIES///OTELLON///HEXANE,///270G///CUTTED///\"ANKAKE\"///BEOPJU(KOREAN///ZENATO///MACE///BLANCOROL///MEMILGUKSOO///GOCCE\n",
            "cluster#46 : 2.93KG*6CN/CS///BRAED///SIH4///SHOACASE///XILITOL///13-DIMETHYL-6///MS-51///SULTANA///RARE-EAR///OCTAFLUOROPROPANE///JURYUCHEOEUMCHEOREOM///KANUMA///40D///ZNO///DEMI-SODA///SIEBOLD&ZUCCARINI///IUMINOPHORES///CHALJIN///03-G321-05T///NONAFLUOROBUTANESULFONYL///ANYSOL-150E///CLINOLEIC,///NIBBLES///SOMYUN)///BANRAI///TOFUJEON///METVIX///TOTM///TRIS(ETHYLENEDIAMINE)COBALT(III)///BIOGUS\n",
            "cluster#47 : MINCED///JAMS&SOUP///OFFICE///BRION///CARDIO-MYOTES///FF///LIGLARIA///OXIDES)///CAMPANULATA///AGAR-KELP///LUBRAJEL///CREAM,CHOCOLATE///HARDENER,///PHENOL///ONDANSETRON///TONIC///SHIUEH///JEDWARDS///SOUP,1.8L,6PK/CTN(2015.10.01)///COD,///SANDWICH///SARDINE///ZEPALTAS///WEAVER///SAIRA///HYDROIODIC///SNACK-EGG///RAVICHIP///TIRAMISU///SIPPING\n",
            "cluster#48 : WANOSAKE///GARBAPIA///PRO-FAT///0.500///BINGTANBOK///WALNUT.///HE(GAS///510R///MULBERRIES,///SWEETEND///IRONBARK///NANOLUB///SOMEN///SEAWEED(STEM)///KARTO(L)///1.3-PROPANE///PEROXY-HEXANE///SOUP,6PK/CTN(2015.12.27)///FLUTOLANIL///P0REMIX///POLYACRYLIC///BKG///CHIVACURE///VITAPLEX///C1698///FANNINGS///CYCLOPROPYLACETYLENE,///FEUILLETINE///PHOTINITIATIOR///SOUP,6PK/CTN(2016.06.02)\n",
            "cluster#49 : TETRAFLUOROBUTAN///ANACK-POTATO///3.6KG///AMBERMOR///BID///LX7///GLAZES///BLACN///SG-95///PROMOTION///THICK&CHUNKY///DIISOCYANATE)///200GM/PK///HAEPUNG///PBG///TYZOR///MELJIN///OPTIMA///POINTS)(COLOR///POLYOL.///PPURIFIED///MSK-NE150///DNU///7302///4-HYDROXYACETOPHENONE,///HEXAHYDROXOANTIMONATE(V)///CAMPREDON///MERE///SACHTLEBEN///INNOVALOE\n",
            "\n",
            "cluster#50 : HIMALAYAN///POVERO///SYNERCELLS///VALENTINS///LARYNGO///YOSHIDAS///3.8///2GH&REACTIVE///FRISCH///M2011100///BEROCCA///PALET///DRINK(ORANGE///FUMARYL///64OZ*6EA/CS///VIT-RDA500///NOVA-LACT///1176///ANC///WAKOSIL///CHEESE&ONION///KEMIRA///2-ETHYLHEXANOIC///SOUP,1.8L,6PK/CTN(2015.07.16)///MANGANITE(20%)CATHODE///CHLOROFORM-D,///TEA-8801550233977(TD2036A)///MRS///&NBSP;NOT///SPECIFICATIONS\n",
            "cluster#51 : HYNAMAI\n",
            "cluster#52 : 3\"/96CT///KEMPRINT///DICAPRATE(NPDC)///BAKRWARE///OIL(UCO)///2-FLUOROSTYRENE,///BAGSR/SCALD///CITYRON///NICOTINELL///DOSIRAK///63010284///GRADUATES///UNICOLOR///RIAKEY///DUCK)///PHOSPOGYPSUM///VANSGR///PREPARES///APLLE///SKANAMIC///SEASONINGE///PROV///POWDED///32/200L///150)///SUPPLETAN///EA35///18%///3N///ISOLATD\n",
            "cluster#53 : MRNE///DARFANTA///12.00TON///BISTORT///CROTON(CODIAEUM///JUICE(PEACHI)///FLAUTA///BERLIQUET///ISOINDOLINE///BIOMET///1.045///EELS(ANGUILLA)///DESCLAU///OCTANOIC///TRICOCEREUS///AUSSIE///NUTRIICIOUS///MANDORLA///DEGLI///2715///BERRYGOOD///KELLERBIER///AMINO-COMPOUNDS///PEPTIDE-NC1///PROPANOIC///2/5QT///NEBRO///68BX///KC-8///GIGANTIC\n",
            "cluster#54 : KATLA(GUTTED)///SYM3D///MARUMAN///1-IODO-4-NITROBENZENE,///BAEKNYEONJEONGSEONG///SOMBRERO///MS75D///3,4-THIOPHENEDICARBOXYLIC///MYEON)///CYCLEN///PASTE(PREMIUM///ZUWAI///NATURIANA///C5R///HAPPY-COLA///SUPERMAR///CANNABINA///SHINRAMEN///311///GREENISL///CARBON(CARBON///10W-30///DICYLCOPENTADIENES///ASENSA///APPLE&CARROT///DANMUJI-TAKUWAN///1-SHRIMP///PHENOLS:PHENOL-ALCOHOLS///LUDISIA///173\n",
            "\n",
            "cluster#55 : SVN///DONGGASEU///TERIYAKI,///SNACK(KIMMATNA)///ORGEAT(ALMOND)///GAERTNER///BREAD,PASTRY,CAKES///CHOYU///TILLANDSA///P-ANISYL///TRINORO///MINT/COOCKIES///10(E)///B(10KG)///EICOSAPENTAENOIC///CHOCOCHIP&ETC///MSBST/FLP///ESP.FOR///NUTRIAS///HYDRAU///KOIDZURMI///CLARITHROMYCIN///GENERATION///DUBIA///SLICE(MATSUKASA)///CARROT(?밴렐蹂띠쓬)///DODECACARBONYL///TELISH///ACDI///MICRO-CRYSTAL\n",
            "cluster#56 : OMEGAMIN///HYDROALC///CAPTIVATING///W/ALMONDS///ANUNDILUTED///A/HI///STANDARDISED///781///SOLUTION-SNSO4///SHANY///BASILIKUM///TOLUAMIDE///GLASS,///C309/X:K09///SEASONING(F.O.C)///MS-1///THIODIPROPIONATE///RIND,SINGLE///VITAVEGGIE///PELLET(LOWER)///APPROCRON///SAUCE(4*5000ML)///NAROSAN///CRAEAMER///SYLOID244///MAXBON///SPUR///DICABOXYCLI///6/26OZ(737///DISP.BLUE\n",
            "cluster#57 : TESTOSTERONE///O3X5/G///COF.STICK///MOMORDICA///BLEOMYCIN///APR(AMMONIUM///EOE///TAMANEGI///RE-CLEANED///OXYTRICHLORIDE)///SAMPLER///ACRYLAMID///TAIL(PTO)///LIQUIBAND///FILLET(SKIN-ON)IQF///FALOVR///ELECRODE///KYCEROL92///SIZZLING///TRIPHENYLETHYLENE,///COSMETIC(SAMPLE)///RADIATA///HOTCAKE///ANCHOVIAR///2C///AMELI///THIN&THICK///DAECHEONG///CO-PREMIUM///AUXILIAR\n",
            "cluster#58 : SASSI///BASILCUM///SWIMMIN///1-BROMO-4,4,4-TRIFLUOROBUTANE,///GOOKHWABBANG&ICECRIM-MUL///MABTHERA///RISTE(N.C.V)///MY-52///CRAB)///HOTDOG///TRIPH///MEAT(WHELK)///R.B.D.WINTERISED///FOTI///MADOPAR///GLOVERI-GUTTED///RISO/RICE///PENOXSULAM///LINURON///TARE,2.2KG,6PC/CTN(2016.09.09)///2457///METABLSULFLTE///020///5X1K///H.543///R-22(HCFC-22)///VULNOC///WHOLLY///PUNK///NITROETHANE,\n",
            "cluster#59 : MACRALEX///OXIDIDED///4/110///4-3-3///HWALSAM///KL-400///SIROKOSHI///CME///SALTRAM///PINNACLE///LA-CE///KATUSO///BERMUDAGRASS///TOPMIX///OLDPOX///TONNA///CHAVE///TARE,2.05KG,6PC/CTN(2016.06.01)///DAL(BLACK///REFF///BRUSCHETTA///RONAFLAIR///ENVIRONMENTAL///CURRY(BAMOND)-MILD///TT(G)///KANAMYCINE///BONEIN///0.25MOL/L-SULFURIC///DESACETYL///SS\n",
            "\n",
            "cluster#60 : VITAMIC///Recon(paper-ilban)///CONFECTIONARY-CHIPS(GOGUMA)///SULPHUR,///B,H,20,LOCAL)(5074N000005)///CHAROLTTE///4-T-BUTYLBENZENEPROPIONALDEHYDE///BUMPKINS///LARUIC///WHISKY///TTOUKSHIM///AP/LA///4-BROMO-3,5-DIMETHOXYBENZALDEHYDE///BRANCA///JCH///VALERIAN///SOJU(PACK)///TRAVERTINO///MAREDSOUS///CORVINETTE///0.02N-SODIUM///BRAYCOTE///CIINROLL///FARO///JYUN///SUNCHIP///LOAM///CONFECTIONARY-CHIPS(KIMMATNA)///OTEHRS///PASSATA\n",
            "cluster#61 : 1,3-PROPENE///ACTIVER///VITANINS///MOTUL///SAJAPYO///FISH(CHIRIMAN)///MCA///SPINDLE///ACAL///PEIRA///SACHAINCHI///BALS///SOLIDHYDROCARBON///CONTROLLERS///LOESS///75W-90(J)-C-200L///APPLICATION///FRUIT(LYCIUM///497///IMMERSION///PLLA///SUSTERRA///SHATTER-PACKED///SEOTAMEX///PEPPERS&ONION///LYGOMME///BUBY///VINCENTE///CHENGKYONG///4-OCTYNE,\n",
            "cluster#62 : POLYPHENOL///THREEPLY&PORK///IV(K)///MF-80///MF-60///VALL///PEROXYMONOSULFATE;OXONE///FROSTY///BROADBEAN///CHUNGKING///2,2-AZODI(2-METHYLBUTYRONITR///VEGETABLE(EBIDLB///MAYONNAISE?///SLUDGE)///GENSHU///QUINIA///BIOLACTICO///CAMPINA///SQUID(LOLIGO)///BTCH///SILI///BACIALE'2013///TARGER///CUNOX///5-DMTR///SERLCLTE///PAGURUS)///PYRIDOXAL-D5,///.BEER///PRE-CKED\n",
            "cluster#63 : CHLORIDE(SOCL2)///RUNTA///0.032-0.063MM(230-450///SNACKS(SAMPLES)///400GM///TETRAFLUOROBORIC///ANTI-TG///ETHYL-2-METHYL///03B41024///FLOUR&///FAMVIR///7080///ATOPALM///T.G.///VIE///INTRIDE(PCBN)///RAFFIA///BICOLORE///INJ.PFS.///140///ANDELUNA///3-(HYDROXYMETHYL)-ADAMANTAN-1-OL///MERCUREY///PPORTWEIN///EN-D500I///COLLINES///BUTYRALDEHYDE///MAESILCHA///CYLINDERS)///1-TETRADECANOL,\n",
            "cluster#64 : IKOLA///LIRAC///CANDY-8801204307948(SC2105A)///3-METHOXY-4,5-METHYLENEDIOXYBENZOATE///1,3-DIAMINOPROPANE///PROCOUGH///TREATMEN///PRETEIN///BISKOTA///PGI///SAPIN///RLS///FUITS///ASINONE///48OZ///PASTRY,///SCUDERIA///PHOSPHTE///HOD///POPPINGBALLS///DECAFFEINED///GUTS///INT-MC-C///DIOXIDE(ANATASE)///METASILICATED///ATHENA///NPW??FOR///MUKOROSSI///D-GLUCITOL///2,3-DIMETHYLBUTANE,\n",
            "\n",
            "cluster#65 : OCOTPUS///CREMY(MILK)///HVU///LUXAN///KUROGUWAI///BAEF///MA)///POICARI///EDMOND///SHRIMP(SHELL///DRIED&MIXED///TICAGRELOR///STRAW/LIME///GRAFTS///PERISHIABLE///DRESSING,///DRESSING,1L/9PK/CTN(2014.12.25)///NGOC///TRIFLUOROACETATE///KC-TEX050(S)///MEALEXPELLER///PRIVAT-EXPORT///SINE///STARCH,///TANGERINE&ETC///ZDCPIG///F/STA///BAILING///VEO///BELLIES,SKINLESS\n",
            "cluster#66 : 3,5-BIS(BROMOMETHYL)TOLUENE,///HOMATROPINE///SULFACHLOROPYRIDAZINE///NAC100(T-400)///KARTO///3,4-DICHLOROPYRIDINE///GIZZARDS///BIOMIX///2-BENZYL-S-PROPANOL///HAIRTALFISH///NUT&ETC///OUT///NEETS///REVIVE///Ink(1kg)///ALIZE///TETRABROMOAURATE(III)///CAROAT///CHAMPONG&ETC///ZEMPLAR///CONVENTIONAL///RADERMACHERA///QAIB200///SLAC///ANDAQUATIC///EHTANE///SI2H6-4N8-10KG-44LDISS632///DARMERA///CAMPIONATURA///173\n",
            "cluster#67 : FILARE///DIPHENYLACETYLENE,///KRIS///NAPHTHALENE-1,4,5,8-TETRACARBOXYLIC///RINGLAND///220AH///FOSB///HOSTAPERM///PARSULFATE///VSF///MONAZITE///FARFARAE///PIRIPIRI///MILLAD///PYRIDYL///MILK,///VETNAM///PEPPER(BEIGINGHONG)///BINTULU///FIRELIGHTER///TNF///PURPOSES///MEDICIN///BAILA///CALLES///TRIGLYCERIDE)///HG-N///GINO///FLAKES///2.1KG(2PCS/BOX)\n",
            "cluster#68 : SEICHES///BCN///YGAY///BEGI///ENDFEED///PATISSERIE///TITANYL///SANYAN///WALLEYE///110GM*12EA////FRACTIONTED///99.99%(META///CHARDONNAY(SAMPLE)///CYCLENES///TEUKSEN///ELASTRON///DIGESTIV///CHLOROETHYL///MONGOLICUM///PINEAPPLEJUICE///M245///80W-90/D200L///ORIGINAL;U.S.A///LINGULATA///SEXUAL///SAUCE(12*2,000ML)///MENTHE///5-AMINO-1H-TETRAZOLE///MICROFITERED///LATTES\n",
            "cluster#69 : MALTODEXTRINS///0W-20(J)-J-200L///IAMNZ///ACETAMIDE(DMAC)///MOCK///DAUNOCIN///PHARMATOSE(R)///22584,CHINA///CONGELADA///KOBE///1-HYDROXYETHANE-1.1-DIPHOSPHONIC///Real///80W90///KABURI///DASHI,1.8L,6PC/CTN(2016.12.16)///GLASSAGE///GRAFT/PROSTHESIS///CHRYSOPA///2,3,3,3-TETRAFLUOROPROPENE///1310///P1C///FRAISE///ACUTA///MINI-BEUTEL///OXADIAZON///ACID(1M)///11-BROMOUNDECANOL,///PIKE-BOILED///METAVANADATE(AMV)///RAWON\n",
            "\n",
            "cluster#70 : W.BURGUNDER///STYCAST///SVO.2///MDP-S///CAMPIONI///EUTECTIC///ATHEROGENIC///HAEO///ISOBUTYRATE,///GYMNOCALYCIUM///4425///BULK&ETC///GLASSBONDING///048///DRESSING,1L,9PK/CTN(2015.04.24)///SVO.1///3-BROMOTOLUENE,///GEM///INTERLEUKIN///ROTHENBERG///SWCNT///9.0///ZYRTEC///M,P-CRESOL///CHLIRIDE///2-BUTANONE,///DIOXLDE///TEFRIED///Q&A///GS-L200\n",
            "cluster#71 : RAMYUN(MULTI)///BASE&ETC///CRUSTACEANS,MOLLUSCS///MOUSE(LABORATORY)///Redberry///HYDRIDOTRIS(TERT-BUTOXY)ALUMINATE,///PLEXIGLAS/PLASTIC///DOHLER///CRANBERRY&LIME///RAG/JM-1///CHROMATE,///42///NURSERY///95DE///CHLOROXYLENO(P-CHLORO-M-XYLENOL///Burn&Energy///C-16///POWERCELL///HELADIV///HOT)///HONGSAM-ONE///COFFEE(LIQUID///COMPLANATI///BENZOTRIAZOL///SCONZA///WULIANGJIAO///SULFAMATE,///CYCLOPHOSPHAMIDE///HANSAM///12/39Z\n",
            "cluster#72 : ROYGEL///60SOFT///ALMONDS(DRIED)///120*30///3-2PC///30/8)///DECEN-2500///THROWER///IML///PACKGAGE///INTERMIXTURE///ESSENT///SUPERGELMIX///IN-VITOR///FIH///ATOMY///1132///MOBILTHERM///NOODLES(ANCHOVY///FRITTER,HOTTEOK///ETHYL,///MICROFITERED///FILLET,///SHRIMP.TREATED///COLLARBONES///stone///FLA///COCOO///63010418///SILGE\n",
            "cluster#73 : PF0033AK///STRAWS///STAKES///CEFALEXIN///MACROCIDE///FLUOROCARBON///MALTING///PATSE///TOUR///SEASONING(BIBIMJANG)///CETRIZINE///SOUP(ASEPTIC)///EMD///LITHOPS///CICLESONIDE///OXIDO///GLICENAT///7553///SORBETH-30///5-PHENYLCYCLOHEXANE-1,3-DIONE,///15W/40(KIXX///TIDBIT///KUPI///7(WHITE///ROASTED&SESONED///F/R///HAEMULTANGMYEON///TITA///PIEZOELECTRIC///CHEESE&ONION\n",
            "cluster#74 : SINTHETIC///MEBENDAZOLE///WARA///HORSE-RADISH///KBF4///W/ROOT///HAIR(SCOURED)///EDETANA///RAINCOAST///SKINCAINE///N,N'-BIS(3-AMINOPROPYL)ETHYLENEDIAMINE///POWER(FE203)///PROPRANOLOL///RIFTED///KIMCHI(20)///1-PENTENE,///SCHNEEBALLEN///TF///BOREALIS///JRU///PRE-FILLED///IMINE-FUNCTION///MAREMMA///AGNETS///FR-V///VIGABATRIN///LAVER(ENTEROMORPHA)///HOJIBLANCA///GRACILARIA(DRIED///LAVRANIA\n",
            "\n",
            "cluster#75 : PYRIDOXAL-5-PHOSPHATE///CHAMJON///HEXAFLUOROALUMINATE(SYNTHETIC///99.98(METALS///1,4-BUTANEDIAMMONIUM///TPC///DUALITE///ENDIVE(CICHORIUM///DIE///TITANATE(TNBT)///1260///LEDIPASVIR///3.4'-DPE,///YELLOWFINTUNA///N-GLYCOLYLNEURAMINIC///SOZOLL///BONELESS(COLLAR)(COV)///KP(Thailand)///HORIZNO///HWB///MAX1000///ANPANMAN///FARNESIANA///CHAME///CHLORID///AVENANTHRAMIDE///SYRIN///BAGELS///CJW///TONGKAT\n",
            "cluster#76 : N-HEXYL///SWSAME///HIJIKI///SUJI-AONORI///FULVESTRANT///EXTRACTARIFFA///K-80///GTL///AMMONIATED///CURTS///2-PYRIDINE///DRESSING,1L,9PK/CTN(2015.02.05)///ENFLOX///CONFORMAL///D1000///SCALLET///850G///METRIALS///SUD///TRIETHYLPHOSPHATE///Feed///SILTECH///MIXED(AN15-03)///CONDITION///4-SULFONIC///KARA-A-GE/DEEP///ABSORB///OIL(YMDO///ZINCOXIDES///VIET\n",
            "cluster#77 : BLACKMARLIN///TRIETHYLENEGLYCOLDIMETHYLETHER///FRIED(HAEMUL)///CORTROL///EVERY///T1100///GLUTARALDEHYDE,///EHRBASOL///BEAN-BRAZIL///O-BENZOYL///AXSORB///TUSCAN///BANDEJA///383///TAPE(S-TYPE)&S///SYNTHERMO///COOKIS///SALIDINE///CARTRIDGE///ULTRA-S4///MAOHUAT///BRAND,///375///ULTRA-S3///WANGJAIDU///MESQUITE///PZW2///15W/50///VEGETAUX///BAMBINO\n",
            "cluster#78 : MIX-ORIJINAL///INDOLO///KOUBOKU///HELLANTHUS///JOSEN///1-(2-BROMOETHYL)NAPHTHALENE,///BONGGU///LAVER(SOY///MIDDLES///HOUTTUYNJAE///TROPAEOIUM///RPRESERVED///TOPPOKI(RICE///INDICATING///MME///FLOUR,MEAL///ALLWEILER///DIOCTYL///ACID(HF///SEASQUIRT(HALOCYNTHIA///RED,YELLOW///BLUEBERRY,///OILS;RADIA///GRANOTE///RAFFINATE-1///STYRAX///GARLAND///LA2PU///VLAG///BIOFLOR\n",
            "cluster#79 : 99.96%(METALS///SCAR///CREMAFRUTTA///RAS///PROBIO-K///RADIATION///GEARBOX///ALUMINATE(95%);///24X340G(THAI///ESCRAVOS///EMPTINESS///CT340///DRATE///GRATUITAS///FIRED///PAGLIA/FIENO///TOBIAS///SABOWAX///ALSATANG///WOUL///SEROQUEL///LICORICE(GLYCYRRHIZAE///ESSO///7261///OPV///MUSCULOSO///3,3///SEASONING)///LETHICIN///4-N-HEXYLRESORCINOL,\n",
            "\n",
            "cluster#80 : NOVALED///THIOCYANATE///PIANO///GRANULE///PV-5(30350000000)///CHLOROFROM///DICHLORIDE///Recon(PV-5)///BRIDGING///MELAFINE///891684///MOISANS///AMORPHOUS///170///ETHER(MEDG)///SESAME///CAROB///35PERCENT///PYRITHIONE///ONION///DAMAINE///A/KBP///TOMATOES(2550G/1530G)///NOODLE-SAMYANG///GESCHNITTEN///DACQUI///4///KIMCHI///GRAPHTOL///VINEGAR\n",
            "cluster#81 : SQUALANE(HIGHEST)///FLOWERS-INT///EPTATRETUS///FRUIT-FLAVORED///FREIGEN///1-(BROMOMETHYL)NAPHTHALENE///AQ.SOLN.,///2.2-BIS///PHYTOGEN///SQUALNE///FRACTIONSL///SANDLANCE///SUSHIEBI///TETRAKIS(TRIPHENYLPHOSPHINE)PLATINUM(0),///HANAHREUM///99%(TOTAL///SAW///BK///MUSTARDS///MENISCUS///EPOS///CHAMO///TOOPING///ECONA///CUP-JAPANESE///COBERINE///YOPOKKI///CHERRYBERRY///TS-F13///BOBYIRANG\n",
            "cluster#82 : CHROMATE(ALODINE)///TENDERLOIN,///200X///23G///N.O.S.///CAMPS///BATTERDE///HORN(FOOD///DISSOSTICHUS///ELIYA///ITALY///SILICA.///SPAKLE///MET-14///SORBETH-30///20T///XDP///ALTOS///CETRIZINE///CROMTEC///RELAXING///CHEF1///DI-TERT-BUTYL-4-METHYLPHENOL///MARM///PBTR///AMINO-ALDEHYDES///BENZONATATE///HEMATOLOGY///SNAPDRAGON///MATZOS\n",
            "cluster#83 : CRF///PANNA,ETC///BLAGNY///PASTE-FER///BENFURACARB///CIS2PHENYLCYCLOPROPYLAMINE///GOLDKAOLI///SANKO///ENDURON///TASSO///ALBAFIL///TDAE///GANE///CRAWFISH///TOPOKKI8///MUSICATO///CARIBIDE///STYRENES///CHALSSALI///SNACK(WASABI///BOTAN///COMPLESX///QUINA///TITE///DAELIM150115///ARABIANA///KUCHEN///GERMINIATUS///DIISOPROPOXIDE///MENMA\n",
            "cluster#84 : ED-3RL///CJ-3///RUBBY///CTR///GREEN-7///4-BROMOBENZYLAMINE///DISILAZANE///BENIZAKE///FERMO///THIRD///ICE(2.5KG///SEAWEDD///CRITTERS///CRUMBLED///METREX///BAEBULGOGI///SPECTINOMYCINE///NIR///BALLOON///DPG///DAY-CHEM///NEOBEE///COAT///FIRM///COTY///PENTASODIUM///寃⑥옄??///SAUCE&SEASONINGS///LIPOCIRE///KOCOSOL-200ND\n",
            "\n",
            "cluster#85 : Instant///PREPRED///PEARL,///BPO///SLIDES///MOZZARELLINE///12/23.5OZ///CROXIDE///N,N'-METHYLENEBISACRYLAMIDE///NAMYANG&ETC///DW///2,6-DICHLOROBENZYL///9.6%///Moringa///CANDELILLA///6/4.5CONQUEST-SAMPLE///SYNERCELL///DRINK(MANGO///PROVOLA///TECHSOL-S///CUPCAKES(BANANA)&ETC///2-BROMO-13///CUIC///AXANOVA///VEGETABLE(MIXED)///9,10-DIHYDROPHENANTHRENE///LINSEED,ORGANIC///PREPARATION(DANMUJI)///PANPYRIN///RAPSBERRY\n",
            "cluster#86 : GUANAJA///DCPNA(2,6-DICHLORO-P-NITRO///1-IODO-3,5-BIS(TRIFLUOROMETHYL)BENZENE,///RISELING///WAFFELETT///48.0%///JU-PLUM///CHEONGJUS///LOCOMOTIVES///RUMINUP///DICABRO///JUNMAIDAIGINJYO///MOROSIL///SOGOGI///BALLERINA-ORIGINAL///CRMY///ETHYLVANILLIN///HCI///TSUYU,2L(2016.03.05)///AICE///2H20///CUCUMBERS(S)///3624EE///DRESSING,1L/9PK/CTN(2015.05.23)///CERMET///PETAX///250ML*6BT///970///SEOL///SAMI\n",
            "cluster#87 : FECL2///BUNGKIL///JERKIES///MARCONA///DEIONEZED///210G*24///327///OINT///TARE,2.2KG,6PC/CTN(2017.01.25)///250KG(M)///ALATURKA///TUNA(OTTOGI)///CEM///RILEY///CYANOACETATE///ACT.///CFIA///SLUDGE(BUNKER-C)///MYKISS)///LEVER///16/N///OSCOLET///99.0-101.0%///LME///EYE-WASH///WHAL///COLLA///SORBUS///290G///SMITHS\n",
            "cluster#88 : DESSICATED///SUNPURO///HORNFISH///BREWERY///INY///MEGRIM///BIOLAK///SM-319///BARLAUCH///DODOHAN///P/S///BISCUITS,CARACKERS///Crispbread;///PREPARATION;COFFEE///SENSEHOT///ATL///LUNACURE///KATSUODASHISYOUYU///HOSHINO///SOMERSET///PENTAMINE///RICOLA///NICPRPN///G3H///BG-3///PAINT-CLEANER///9880/9910(1KG///BUTANE)///BIBABE///CHRISTOPHE\n",
            "cluster#89 : 1-BROMO-4-CHLORO-2-NITROBENZENE,///4-PHENYLPHENOL,///BLEND-STRAWBERRY///ISONONAONOATE///RETUNE///LAVER&ACORN///,UNFERMENTED///6O///PROCID///HEXAETHYLENE///ORIGINAL100///CLAIR///Virginia(PINE///ELUENT///DEVCON///MAESTRELLA///BUONDOLOCE///1,7-OCTADIYNE,///MAINICHI///AKOSPREAD///NOODLE(CHICK)///COTTA,///?-ALANINE///MEDOW///0.2N-SODIUM///RESERVAL///WALLNUT///1,2-DIHYDROXYBENZENE///ICETEA///BLACK&WHITE\n",
            "\n",
            "cluster#90 : AGGLOMERATER///HEIWA///NEMATODE///VINAGAR///LNDN///STD2///TRACKTORQUE///NARUTO///JUICE,GUAVA///MOUSE(5///NUTRIA///ELEFINER///PRESPARATION///TETRAPHENYLBORATE///NOURISHING///FBB///SABLE)///GREASE-GREASE///SHOTARY&ETC///MAPECURE///CHEESE&MAYO///P-STYRENE///PRE-VITES///GIM-DOSIRAK///E&D///FRUIT&ETC///MALTOSE(MONOHYDRATE)///KOOLICE///NPC///SOUP,1.8L,6PK/CTN(2015.12.18)\n",
            "cluster#91 : LF///MONOLITE///KLASSNO///MAGNETIC,///LANTHANOXIDE///ANGELICAE///C)///SERVIWRAP///POMODOSI///UNHYDRATE///1-BROMONONANE,///CAC03///NI-CO///DK-2///700IW///ELASTOLAR///C.A.MEY.///CLOUDI///CYANATE,///CICLESONIDE///DMESTIC///CONGO///SAKUSAKU///ERYTHROSIN///,1-QT///TRIFLUOROMETHANESULFONIMIDE///R-RF///RUSSIN///BORONTRICHLORIDE///GINJO\n",
            "cluster#92 : ASW///SPRAYS///FENCHONE///CM-65///C-BACK///MANGANESE(III)///GUTEED///SYRUP-HAZELNUT///ETCHANT-FERRIC///CHOCOKUKI///LETHY///SAIKYOMISO///BENIOPHENONE-3///DDOKBOKI///PEPERS///LPV///ANHEUNG///REHMANNIA///CHIYODA///KOREA-RADISH///PIKOKEU///FONTANILLES///FIOODING///SCIADOPITYS///CUTTEL///DIBROMONEOPENTYL///DANDOL///MATUA///S-BPDA///TAMARIN\n",
            "cluster#93 : A330/A340,///COOLSTAR///CEFOTETAN///BENZOTHIADIAZINE///KANRONI///GUM,POWDER///SAVOURY///ECG///SANCK(HOT///22200///HYDR///STERAMIST///3-PHENOXY///17D///NONGSIMSAEUTANGKEUNSABALMYEON///MONOMERS///NAF///1*5///HAIL///COLOUURING///TETRAMETHYLETHYLENEDIAMINE///ACIDS.///B.GAS///PRE-PORT///PINEAPPLE(NO///VANARESIN///98.9%///DINITRATE///CHIVERS///MECHANICAL\n",
            "cluster#94 : UTH///0.05N-SULFURIC///POTTING///RESION///HEGI///(HYDROCHLORIC///LVY///ROTEBOEUF///BUENO///HYFOAMA///CIGA///SCAIA///MELON(RED)///ACAI///MEDIFOOD///5014///MYRCENOL///LINALOOLS///FROVATRIPTAN///UDON-SEAFOOD///CLAUDEL///SK-PYSOL///VANNAMEI,PIN///HAREUBANG///ETHOXIDE///SUPERTHERM///SERIEORO///200GAL///JP///MAND\n",
            "\n",
            "cluster#95 : LEUKOKINE///BOXUS///DDT(ISO)(CLOFENOTANE(INN),///SWITZ///PHOSPHORODIFLUORIDIC///180caps///4(E)-FLEXI///M-POLYREX///SHAVED///RADICCHO(CICHORIUM///RTC-NT60///CYOKOBIN///N.OD///GARDEN-HYUGA///ISONALINE///ENCRUSTED///DIFLUORROBENZONITRILE///HOKKIGAI///MSF///CHRM///CHIP,COOKIES///GUNGIM///TACTIC///WISH///HANWOO///CUTTELFSIH(C.SKIN///SNACK(APPLE)///NYEBAR///ASSEMBLE///TERR.OCEAN\n",
            "cluster#96 : DIAMINE)PLATINUM(II)///MATSUTAKE///PUERARIAE///YFA-30HR///SARIGOMTANGMYUN///VAREIGATED///SAVOUR///HIYASHUWA///COMPLATE///ELLEN///(500ML///ACC///BEAUTI///HEXACHLOROIRIDATE(IV),///WHITE)///ONGRONAT///5X4.5KG///TALISKER///MARMALDE///TERRINEOL///SUBMICRON///TEDDY///BIOGUS///4.4///SACCHAROMYCES///TAOKAENOI///CHICHEN(SAMGE-TANG)///NOODLE)///LITRI///FLUID-IMPERMEABLE\n",
            "cluster#97 : BREAM(ISHIGAKIDAI)///TILAPIAS(OREOCHROMIS///PDTL///5-NORBORNENE-2-CARBOXALDEHYDE,///RUTHENUS///BUM///MALEATE,///HIGHSIL///AMPULE///SOLANUM///99.2%///3KG*6BT/CS///PREPRD///EDTA-2NACU///BANNANAS///0.3ML///MOM///VERA///95%(SIO///0.8///JAKCET///MURICATO///RHIZPMA///OKONOMIYAKIKO///RIFAMYCIN///HONGSAM)///ALEXIT///CHOICES///CONCENTR///530\n",
            "cluster#98 : VERMONT///STICKLETTI&POTATO///7191///L-GLUTAMINE,///PALMITOYL///ANYONE-D///AGLIANICO///JADOT///TOPFER///SIAMANG///10HL///POWDER,SMOOTHIE///2102///MCT300-500G///ORANGE-MANDARIN///MILKIS-MELON///CUNOX///MILPRF///ACC-N4///GERMANE///HEXALON///ODAENG///ALPHABOND///SLUDGE)///SERPENTINE///PIGMNT///BUTS///DANMUJI-TAKUWAN///SUGARCOATED///SERRE\n",
            "cluster#99 : (VJ///FB-400&ETC///Chinese///DORAPHOR///CAROLUS,///PENTAFLUOROBUTANE///1,250ML///ACIDCHROME///06-5364///SHUTKEE///2MG/2ML///PLUMWINE///FUFL///PAINT)///PHENYLPROPIONIC///CHEEZ///SAUCE,2.2KG,6PC/CTN(2016.10.21)///NONGSIMGIMCHISABALMYEON///ACID(H3P04)///ALFOSCERATE///SEOCHEON///PENTAFLUOROETHANE///TETRAPAK///THAMPYRON///PRSCO///FLAME/FIRE-RETARDANT///MISIE///GARCENIA///CUMI///S-160\n",
            "\n",
            "cluster#100 : CYLCLO///BIOCARBOTRON///CYCLOHEXANESULFONYL///CONCRETIO///BUKWHEAT///BLENDED///MESOTRIONE///ALE,ETC///HUSKED(BROWN)///LAMBADA///KUZUKIRI-DRIED///SAUCE,2.1KG,6PC/CTN///CUREZOL///DISSLOVE///032755///OIL-VIRGIN///RARIX///MANSENG///CAMPIONATURA///MAKGULRI///SZECHWAN///HEX.TURKISH///SEAWATE///H.///SHIAWASEDO///S-SHORT///SECRETO///BUNCHING///PYROLUSITE///SYOUYURAMEN,6PK/CTN(2016.05.01)\n"
          ],
          "name": "stdout"
        }
      ]
    }
  ]
}