{
  "nbformat": 4,
  "nbformat_minor": 0,
  "metadata": {
    "colab": {
      "name": "cluster_test01_kmean_visualize_IRIS_20200120.ipynb",
      "provenance": []
    },
    "kernelspec": {
      "name": "python3",
      "display_name": "Python 3"
    },
    "accelerator": "GPU"
  },
  "cells": [
    {
      "cell_type": "code",
      "metadata": {
        "id": "eosrCq242o7N",
        "colab_type": "code",
        "outputId": "091c5ad4-9bbe-4dab-8b3f-6d0b64692072",
        "colab": {
          "base_uri": "https://localhost:8080/",
          "height": 204
        }
      },
      "source": [
        "#참고: https://github.com/bwcho75/dataanalyticsandML\n",
        "\n",
        "from sklearn import datasets\n",
        "import pandas as pd\n",
        "iris = datasets.load_iris()\n",
        "\n",
        "labels = pd.DataFrame(iris.target)\n",
        "labels.columns=['labels']\n",
        "data = pd.DataFrame(iris.data)\n",
        "data.columns=['Sepal length','Sepal width','Petal length','Petal width']\n",
        "data = pd.concat([data,labels],axis=1)\n",
        "\n",
        "data.head()"
      ],
      "execution_count": 1,
      "outputs": [
        {
          "output_type": "execute_result",
          "data": {
            "text/html": [
              "<div>\n",
              "<style scoped>\n",
              "    .dataframe tbody tr th:only-of-type {\n",
              "        vertical-align: middle;\n",
              "    }\n",
              "\n",
              "    .dataframe tbody tr th {\n",
              "        vertical-align: top;\n",
              "    }\n",
              "\n",
              "    .dataframe thead th {\n",
              "        text-align: right;\n",
              "    }\n",
              "</style>\n",
              "<table border=\"1\" class=\"dataframe\">\n",
              "  <thead>\n",
              "    <tr style=\"text-align: right;\">\n",
              "      <th></th>\n",
              "      <th>Sepal length</th>\n",
              "      <th>Sepal width</th>\n",
              "      <th>Petal length</th>\n",
              "      <th>Petal width</th>\n",
              "      <th>labels</th>\n",
              "    </tr>\n",
              "  </thead>\n",
              "  <tbody>\n",
              "    <tr>\n",
              "      <th>0</th>\n",
              "      <td>5.1</td>\n",
              "      <td>3.5</td>\n",
              "      <td>1.4</td>\n",
              "      <td>0.2</td>\n",
              "      <td>0</td>\n",
              "    </tr>\n",
              "    <tr>\n",
              "      <th>1</th>\n",
              "      <td>4.9</td>\n",
              "      <td>3.0</td>\n",
              "      <td>1.4</td>\n",
              "      <td>0.2</td>\n",
              "      <td>0</td>\n",
              "    </tr>\n",
              "    <tr>\n",
              "      <th>2</th>\n",
              "      <td>4.7</td>\n",
              "      <td>3.2</td>\n",
              "      <td>1.3</td>\n",
              "      <td>0.2</td>\n",
              "      <td>0</td>\n",
              "    </tr>\n",
              "    <tr>\n",
              "      <th>3</th>\n",
              "      <td>4.6</td>\n",
              "      <td>3.1</td>\n",
              "      <td>1.5</td>\n",
              "      <td>0.2</td>\n",
              "      <td>0</td>\n",
              "    </tr>\n",
              "    <tr>\n",
              "      <th>4</th>\n",
              "      <td>5.0</td>\n",
              "      <td>3.6</td>\n",
              "      <td>1.4</td>\n",
              "      <td>0.2</td>\n",
              "      <td>0</td>\n",
              "    </tr>\n",
              "  </tbody>\n",
              "</table>\n",
              "</div>"
            ],
            "text/plain": [
              "   Sepal length  Sepal width  Petal length  Petal width  labels\n",
              "0           5.1          3.5           1.4          0.2       0\n",
              "1           4.9          3.0           1.4          0.2       0\n",
              "2           4.7          3.2           1.3          0.2       0\n",
              "3           4.6          3.1           1.5          0.2       0\n",
              "4           5.0          3.6           1.4          0.2       0"
            ]
          },
          "metadata": {
            "tags": []
          },
          "execution_count": 1
        }
      ]
    },
    {
      "cell_type": "code",
      "metadata": {
        "id": "j8snsVvX3MFg",
        "colab_type": "code",
        "colab": {
          "base_uri": "https://localhost:8080/",
          "height": 204
        },
        "outputId": "33f7a006-1b62-4944-9e55-66d45b7fa990"
      },
      "source": [
        "feature = data[ ['Sepal length','Sepal width']]\n",
        "feature.head()"
      ],
      "execution_count": 2,
      "outputs": [
        {
          "output_type": "execute_result",
          "data": {
            "text/html": [
              "<div>\n",
              "<style scoped>\n",
              "    .dataframe tbody tr th:only-of-type {\n",
              "        vertical-align: middle;\n",
              "    }\n",
              "\n",
              "    .dataframe tbody tr th {\n",
              "        vertical-align: top;\n",
              "    }\n",
              "\n",
              "    .dataframe thead th {\n",
              "        text-align: right;\n",
              "    }\n",
              "</style>\n",
              "<table border=\"1\" class=\"dataframe\">\n",
              "  <thead>\n",
              "    <tr style=\"text-align: right;\">\n",
              "      <th></th>\n",
              "      <th>Sepal length</th>\n",
              "      <th>Sepal width</th>\n",
              "    </tr>\n",
              "  </thead>\n",
              "  <tbody>\n",
              "    <tr>\n",
              "      <th>0</th>\n",
              "      <td>5.1</td>\n",
              "      <td>3.5</td>\n",
              "    </tr>\n",
              "    <tr>\n",
              "      <th>1</th>\n",
              "      <td>4.9</td>\n",
              "      <td>3.0</td>\n",
              "    </tr>\n",
              "    <tr>\n",
              "      <th>2</th>\n",
              "      <td>4.7</td>\n",
              "      <td>3.2</td>\n",
              "    </tr>\n",
              "    <tr>\n",
              "      <th>3</th>\n",
              "      <td>4.6</td>\n",
              "      <td>3.1</td>\n",
              "    </tr>\n",
              "    <tr>\n",
              "      <th>4</th>\n",
              "      <td>5.0</td>\n",
              "      <td>3.6</td>\n",
              "    </tr>\n",
              "  </tbody>\n",
              "</table>\n",
              "</div>"
            ],
            "text/plain": [
              "   Sepal length  Sepal width\n",
              "0           5.1          3.5\n",
              "1           4.9          3.0\n",
              "2           4.7          3.2\n",
              "3           4.6          3.1\n",
              "4           5.0          3.6"
            ]
          },
          "metadata": {
            "tags": []
          },
          "execution_count": 2
        }
      ]
    },
    {
      "cell_type": "code",
      "metadata": {
        "id": "O4PFjWM_3MJ3",
        "colab_type": "code",
        "outputId": "44b8d22a-f4bf-4b95-c627-3875fedd3dba",
        "colab": {
          "base_uri": "https://localhost:8080/",
          "height": 269
        }
      },
      "source": [
        "from sklearn.cluster import KMeans\n",
        "import matplotlib.pyplot  as plt\n",
        "import seaborn as sns\n",
        "\n",
        "# create model and prediction\n",
        "model = KMeans(n_clusters=3,algorithm='auto')\n",
        "model.fit(feature)\n",
        "predict = pd.DataFrame(model.predict(feature))\n",
        "predict.columns=['predict']\n",
        "\n",
        "# concatenate labels to df as a new column\n",
        "r = pd.concat([feature,predict],axis=1)\n",
        "\n",
        "print(r)"
      ],
      "execution_count": 4,
      "outputs": [
        {
          "output_type": "stream",
          "text": [
            "     Sepal length  Sepal width  predict\n",
            "0             5.1          3.5        1\n",
            "1             4.9          3.0        1\n",
            "2             4.7          3.2        1\n",
            "3             4.6          3.1        1\n",
            "4             5.0          3.6        1\n",
            "..            ...          ...      ...\n",
            "145           6.7          3.0        2\n",
            "146           6.3          2.5        0\n",
            "147           6.5          3.0        2\n",
            "148           6.2          3.4        2\n",
            "149           5.9          3.0        0\n",
            "\n",
            "[150 rows x 3 columns]\n"
          ],
          "name": "stdout"
        }
      ]
    },
    {
      "cell_type": "code",
      "metadata": {
        "id": "YyxHWSk3m3S5",
        "colab_type": "code",
        "colab": {
          "base_uri": "https://localhost:8080/",
          "height": 266
        },
        "outputId": "645b0b30-6d9c-475f-9132-c24ef185e281"
      },
      "source": [
        "centers = pd.DataFrame(model.cluster_centers_,columns=['Sepal length','Sepal width'])\n",
        "center_x = centers['Sepal length']\n",
        "center_y = centers['Sepal width']\n",
        "\n",
        "# scatter plot\n",
        "plt.scatter(r['Sepal length'],r['Sepal width'],c=r['predict'],alpha=0.5)\n",
        "plt.scatter(center_x,center_y,s=50,marker='D',c='r')\n",
        "plt.show()\n"
      ],
      "execution_count": 5,
      "outputs": [
        {
          "output_type": "display_data",
          "data": {
            "image/png": "[encoded data removed]",
            "text/plain": [
              "<Figure size 432x288 with 1 Axes>"
            ]
          },
          "metadata": {
            "tags": []
          }
        }
      ]
    },
    {
      "cell_type": "code",
      "metadata": {
        "id": "Z_poT8B4m3Z3",
        "colab_type": "code",
        "colab": {
          "base_uri": "https://localhost:8080/",
          "height": 107
        },
        "outputId": "0c7990cc-343c-468b-d95b-44f6348eff2f"
      },
      "source": [
        "ct = pd.crosstab(data['labels'],r['predict'])\n",
        "print (ct)"
      ],
      "execution_count": 6,
      "outputs": [
        {
          "output_type": "stream",
          "text": [
            "predict   0   1   2\n",
            "labels             \n",
            "0         0  50   0\n",
            "1        38   0  12\n",
            "2        15   0  35\n"
          ],
          "name": "stdout"
        }
      ]
    },
    {
      "cell_type": "code",
      "metadata": {
        "id": "E-iaGrWynIfB",
        "colab_type": "code",
        "colab": {
          "base_uri": "https://localhost:8080/",
          "height": 107
        },
        "outputId": "20ed87d3-b6fd-48f6-bf58-f0a537fb5a5f"
      },
      "source": [
        "from sklearn.pipeline import make_pipeline\n",
        "from sklearn.preprocessing import StandardScaler\n",
        "from sklearn.cluster import KMeans\n",
        "\n",
        "scaler = StandardScaler()\n",
        "model = KMeans(n_clusters=3)\n",
        "pipeline = make_pipeline(scaler,model)\n",
        "pipeline.fit(feature)\n",
        "predict = pd.DataFrame(pipeline.predict(feature))\n",
        "predict.columns=['predict']\n",
        "\n",
        "# concatenate labels to df as a new column\n",
        "r = pd.concat([feature,predict],axis=1)\n",
        "\n",
        "ct = pd.crosstab(data['labels'],r['predict'])\n",
        "print (ct)"
      ],
      "execution_count": 7,
      "outputs": [
        {
          "output_type": "stream",
          "text": [
            "predict   0   1   2\n",
            "labels             \n",
            "0         0   1  49\n",
            "1        13  36   1\n",
            "2        30  20   0\n"
          ],
          "name": "stdout"
        }
      ]
    },
    {
      "cell_type": "code",
      "metadata": {
        "id": "ccLg7EasnIjg",
        "colab_type": "code",
        "colab": {
          "base_uri": "https://localhost:8080/",
          "height": 281
        },
        "outputId": "6fafe8fb-bbb2-462f-eced-e580601e42db"
      },
      "source": [
        "import matplotlib.pyplot  as plt\n",
        "\n",
        "plt.subplot(1,2,1)\n",
        "plt.hist(data['Sepal length'])\n",
        "plt.title('Sepal length')\n",
        "plt.subplot(1,2,2)\n",
        "plt.hist(data['Sepal width'])\n",
        "plt.title('Sepal width')\n",
        "plt.show()"
      ],
      "execution_count": 8,
      "outputs": [
        {
          "output_type": "display_data",
          "data": {
            "image/png": "[encoded data removed]",
            "text/plain": [
              "<Figure size 432x288 with 2 Axes>"
            ]
          },
          "metadata": {
            "tags": []
          }
        }
      ]
    },
    {
      "cell_type": "code",
      "metadata": {
        "id": "GMbFXW2znInL",
        "colab_type": "code",
        "colab": {
          "base_uri": "https://localhost:8080/",
          "height": 279
        },
        "outputId": "0ddecb76-6536-46ae-e4bf-d376fbeb148a"
      },
      "source": [
        "ks = range(1,10)\n",
        "inertias = []\n",
        "\n",
        "for k in ks:\n",
        "    model = KMeans(n_clusters=k)\n",
        "    model.fit(feature)\n",
        "    inertias.append(model.inertia_)\n",
        "    \n",
        "# Plot ks vs inertias\n",
        "plt.plot(ks, inertias, '-o')\n",
        "plt.xlabel('number of clusters, k')\n",
        "plt.ylabel('inertia')\n",
        "plt.xticks(ks)\n",
        "plt.show()"
      ],
      "execution_count": 9,
      "outputs": [
        {
          "output_type": "display_data",
          "data": {
            "image/png": "[encoded data removed]",
            "text/plain": [
              "<Figure size 432x288 with 1 Axes>"
            ]
          },
          "metadata": {
            "tags": []
          }
        }
      ]
    }
  ]
}