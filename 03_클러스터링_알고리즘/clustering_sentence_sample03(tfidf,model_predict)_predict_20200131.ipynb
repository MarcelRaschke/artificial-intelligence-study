{
  "nbformat": 4,
  "nbformat_minor": 0,
  "metadata": {
    "colab": {
      "name": "clustering_kmeans_text_tfidf_sample03_20200131.ipynb",
      "provenance": []
    },
    "kernelspec": {
      "name": "python3",
      "display_name": "Python 3"
    },
    "accelerator": "GPU"
  },
  "cells": [
    {
      "cell_type": "code",
      "metadata": {
        "id": "dQfj9RU3I7TL",
        "colab_type": "code",
        "colab": {
          "base_uri": "https://localhost:8080/",
          "height": 701
        },
        "outputId": "027d7f72-2ea0-4887-de1f-91b5d83cd319"
      },
      "source": [
        "#참고: https://pythonprogramminglanguage.com/kmeans-text-clustering/\n",
        "from sklearn.feature_extraction.text import TfidfVectorizer\n",
        "from sklearn.cluster import KMeans\n",
        "from sklearn.metrics import adjusted_rand_score\n",
        "\n",
        "documents = [\"This little kitty came to play when I was eating at a restaurant.\",\n",
        "             \"Merley has the best squooshy kitten belly.\",\n",
        "             \"Google Translate app is incredible.\",\n",
        "             \"If you open 100 tab in google you get a smiley face.\",\n",
        "             \"Best cat photo I've ever taken.\",\n",
        "             \"Climbing ninja cat.\",\n",
        "             \"Impressed with google map feedback.\",\n",
        "             \"Key promoter extension for Google Chrome.\"]\n",
        "\n",
        "vectorizer = TfidfVectorizer(stop_words='english')\n",
        "X = vectorizer.fit_transform(documents)\n",
        "print(X)"
      ],
      "execution_count": 2,
      "outputs": [
        {
          "output_type": "stream",
          "text": [
            "  (0, 26)\t0.408248290463863\n",
            "  (0, 8)\t0.408248290463863\n",
            "  (0, 24)\t0.408248290463863\n",
            "  (0, 4)\t0.408248290463863\n",
            "  (0, 17)\t0.408248290463863\n",
            "  (0, 18)\t0.408248290463863\n",
            "  (1, 2)\t0.46114911435169365\n",
            "  (1, 16)\t0.46114911435169365\n",
            "  (1, 28)\t0.46114911435169365\n",
            "  (1, 3)\t0.38647894810790673\n",
            "  (1, 20)\t0.46114911435169365\n",
            "  (2, 14)\t0.5421620785047858\n",
            "  (2, 1)\t0.5421620785047858\n",
            "  (2, 31)\t0.5421620785047858\n",
            "  (2, 12)\t0.3437744055250645\n",
            "  (3, 10)\t0.43024950073848917\n",
            "  (3, 27)\t0.43024950073848917\n",
            "  (3, 29)\t0.43024950073848917\n",
            "  (3, 0)\t0.43024950073848917\n",
            "  (3, 22)\t0.43024950073848917\n",
            "  (3, 12)\t0.272812821493793\n",
            "  (4, 30)\t0.47647419687686043\n",
            "  (4, 32)\t0.47647419687686043\n",
            "  (4, 23)\t0.47647419687686043\n",
            "  (4, 5)\t0.399322563306691\n",
            "  (4, 3)\t0.399322563306691\n",
            "  (5, 21)\t0.6083131546128155\n",
            "  (5, 7)\t0.6083131546128155\n",
            "  (5, 5)\t0.5098138992318764\n",
            "  (6, 11)\t0.5421620785047858\n",
            "  (6, 19)\t0.5421620785047858\n",
            "  (6, 13)\t0.5421620785047858\n",
            "  (6, 12)\t0.3437744055250645\n",
            "  (7, 6)\t0.47661983877752523\n",
            "  (7, 9)\t0.47661983877752523\n",
            "  (7, 25)\t0.47661983877752523\n",
            "  (7, 15)\t0.47661983877752523\n",
            "  (7, 12)\t0.30221534893969804\n"
          ],
          "name": "stdout"
        }
      ]
    },
    {
      "cell_type": "code",
      "metadata": {
        "id": "N_Gowx7RJUJZ",
        "colab_type": "code",
        "colab": {
          "base_uri": "https://localhost:8080/",
          "height": 71
        },
        "outputId": "6ea6fbef-a948-400c-a1e8-d5abe99fc8cf"
      },
      "source": [
        "true_k = 2\n",
        "model = KMeans(n_clusters=true_k, init='k-means++', max_iter=100, n_init=1)\n",
        "model.fit(X)"
      ],
      "execution_count": 3,
      "outputs": [
        {
          "output_type": "execute_result",
          "data": {
            "text/plain": [
              "KMeans(algorithm='auto', copy_x=True, init='k-means++', max_iter=100,\n",
              "       n_clusters=2, n_init=1, n_jobs=None, precompute_distances='auto',\n",
              "       random_state=None, tol=0.0001, verbose=0)"
            ]
          },
          "metadata": {
            "tags": []
          },
          "execution_count": 3
        }
      ]
    },
    {
      "cell_type": "code",
      "metadata": {
        "id": "k0d2dml-JWC_",
        "colab_type": "code",
        "colab": {
          "base_uri": "https://localhost:8080/",
          "height": 485
        },
        "outputId": "09ede05f-4981-471b-998e-9da04f28f0e4"
      },
      "source": [
        "print(\"Top terms per cluster:\")\n",
        "order_centroids = model.cluster_centers_.argsort()[:, ::-1]\n",
        "terms = vectorizer.get_feature_names()\n",
        "for i in range(true_k):\n",
        "    print(\"Cluster %d:\" % i),\n",
        "    for ind in order_centroids[i, :10]:\n",
        "        print(' %s' % terms[ind]),\n",
        "    print\n",
        "\n",
        "print(\"\\n\")\n",
        "print(\"Prediction\")"
      ],
      "execution_count": 4,
      "outputs": [
        {
          "output_type": "stream",
          "text": [
            "Top terms per cluster:\n",
            "Cluster 0:\n",
            " cat\n",
            " best\n",
            " climbing\n",
            " ninja\n",
            " key\n",
            " chrome\n",
            " promoter\n",
            " extension\n",
            " ve\n",
            " taken\n",
            "Cluster 1:\n",
            " google\n",
            " impressed\n",
            " app\n",
            " incredible\n",
            " feedback\n",
            " translate\n",
            " map\n",
            " face\n",
            " 100\n",
            " smiley\n",
            "\n",
            "\n",
            "Prediction\n"
          ],
          "name": "stdout"
        }
      ]
    },
    {
      "cell_type": "code",
      "metadata": {
        "id": "PWB8EQFtJXd2",
        "colab_type": "code",
        "colab": {
          "base_uri": "https://localhost:8080/",
          "height": 53
        },
        "outputId": "338e0bfb-ff98-43e0-868c-3375469d37f8"
      },
      "source": [
        "Y = vectorizer.transform([\"chrome browser to open.\"])\n",
        "prediction = model.predict(Y)\n",
        "print(prediction)\n",
        "\n",
        "Y = vectorizer.transform([\"google has maps\"])\n",
        "prediction = model.predict(Y)\n",
        "print(prediction)\n",
        " "
      ],
      "execution_count": 6,
      "outputs": [
        {
          "output_type": "stream",
          "text": [
            "[0]\n",
            "[1]\n"
          ],
          "name": "stdout"
        }
      ]
    }
  ]
}