{
  "nbformat": 4,
  "nbformat_minor": 0,
  "metadata": {
    "colab": {
      "name": "clustering_w2v_kmeans_randomforest_sample_20200208.ipynb",
      "provenance": []
    },
    "kernelspec": {
      "name": "python3",
      "display_name": "Python 3"
    },
    "accelerator": "GPU"
  },
  "cells": [
    {
      "cell_type": "code",
      "metadata": {
        "id": "h6ehPqbbAN2L",
        "colab_type": "code",
        "colab": {}
      },
      "source": [
        "#참고: https://programmers.co.kr/learn/courses/21/lessons/1701\n",
        "\n",
        "import pandas as pd\n",
        "import numpy as np\n",
        "from gensim.models import Word2Vec\n",
        "from sklearn.cluster import KMeans\n",
        "from sklearn.ensemble import RandomForestClassifier\n",
        "\n",
        "from bs4 import BeautifulSoup\n",
        "import re\n",
        "import time\n",
        "\n",
        "from nltk.corpus import stopwords\n",
        "import nltk.data\n",
        "\n",
        "import matplotlib.pyplot as plt\n",
        "import seaborn as sns\n",
        "%matplotlib inline"
      ],
      "execution_count": 0,
      "outputs": []
    },
    {
      "cell_type": "code",
      "metadata": {
        "id": "kOZgWXeATA2x",
        "colab_type": "code",
        "colab": {
          "base_uri": "https://localhost:8080/",
          "height": 127
        },
        "outputId": "e9f14041-e182-4a65-c328-983d15786240"
      },
      "source": [
        "from google.colab import drive\n",
        "import os\n",
        "drive.mount('/content/gdrive')"
      ],
      "execution_count": 2,
      "outputs": [
        {
          "output_type": "stream",
          "text": [
            "Go to this URL in a browser: https://accounts.google.com/o/oauth2/auth?client_id=947318989803-6bn6qk8qdgf4n4g3pfee6491hc0brc4i.apps.googleusercontent.com&redirect_uri=urn%3aietf%3awg%3aoauth%3a2.0%3aoob&response_type=code&scope=email%20https%3a%2f%2fwww.googleapis.com%2fauth%2fdocs.test%20https%3a%2f%2fwww.googleapis.com%2fauth%2fdrive%20https%3a%2f%2fwww.googleapis.com%2fauth%2fdrive.photos.readonly%20https%3a%2f%2fwww.googleapis.com%2fauth%2fpeopleapi.readonly\n",
            "\n",
            "Enter your authorization code:\n",
            "··········\n",
            "Mounted at /content/gdrive\n"
          ],
          "name": "stdout"
        }
      ]
    },
    {
      "cell_type": "code",
      "metadata": {
        "id": "VkPU9nmQgNrp",
        "colab_type": "code",
        "colab": {}
      },
      "source": [
        "from gensim.test.utils import datapath, get_tmpfile\n",
        "feature_data = datapath('/content/gdrive/My Drive/AI/kaggle/' + '300features_40minwords_10text') \n",
        "train_data = datapath('/content/gdrive/My Drive/AI/kaggle/' + 'labeledTrainData.tsv') \n",
        "test_data = datapath('/content/gdrive/My Drive/AI/kaggle/' + 'testData.tsv') "
      ],
      "execution_count": 0,
      "outputs": []
    },
    {
      "cell_type": "code",
      "metadata": {
        "id": "N_yrd-E6NZ74",
        "colab_type": "code",
        "colab": {
          "base_uri": "https://localhost:8080/",
          "height": 91
        },
        "outputId": "f57df8ca-ecba-49e4-a8d8-8dce67aba22f"
      },
      "source": [
        "model = Word2Vec.load(feature_data)\n",
        "#model.intersect_word2vec_format(fname=feature_file, binary=False)\n",
        "model"
      ],
      "execution_count": 4,
      "outputs": [
        {
          "output_type": "stream",
          "text": [
            "/usr/local/lib/python3.6/dist-packages/smart_open/smart_open_lib.py:402: UserWarning: This function is deprecated, use smart_open.open instead. See the migration notes for details: https://github.com/RaRe-Technologies/smart_open/blob/master/README.rst#migrating-to-the-new-open-function\n",
            "  'See the migration notes for details: %s' % _MIGRATION_NOTES_URL\n"
          ],
          "name": "stderr"
        },
        {
          "output_type": "execute_result",
          "data": {
            "text/plain": [
              "<gensim.models.word2vec.Word2Vec at 0x7fa5c94d5be0>"
            ]
          },
          "metadata": {
            "tags": []
          },
          "execution_count": 4
        }
      ]
    },
    {
      "cell_type": "code",
      "metadata": {
        "id": "tBOFIM_3NZ-a",
        "colab_type": "code",
        "colab": {
          "base_uri": "https://localhost:8080/",
          "height": 71
        },
        "outputId": "795718eb-95bf-4bc4-dc44-2a579f1a6fbd"
      },
      "source": [
        "# 숫자로 단어를 표현\n",
        "# Word2Vec 모델은 어휘의 각 단어에 대한 feature 벡터로 구성되며\n",
        "# 'syn0'이라는 넘파이 배열로 저장된다.\n",
        "# syn0의 행 수는 모델 어휘의 단어 수\n",
        "# 컬럼 수는 2부에서 설정한 피처 벡터의 크기\n",
        "type(model.wv.syn0)"
      ],
      "execution_count": 5,
      "outputs": [
        {
          "output_type": "stream",
          "text": [
            "/usr/local/lib/python3.6/dist-packages/ipykernel_launcher.py:1: DeprecationWarning: Call to deprecated `syn0` (Attribute will be removed in 4.0.0, use self.wv.vectors instead).\n",
            "  \"\"\"Entry point for launching an IPython kernel.\n"
          ],
          "name": "stderr"
        },
        {
          "output_type": "execute_result",
          "data": {
            "text/plain": [
              "numpy.ndarray"
            ]
          },
          "metadata": {
            "tags": []
          },
          "execution_count": 5
        }
      ]
    },
    {
      "cell_type": "code",
      "metadata": {
        "id": "f-mB8fQENaDa",
        "colab_type": "code",
        "colab": {
          "base_uri": "https://localhost:8080/",
          "height": 71
        },
        "outputId": "485e6913-0ee0-4740-c80d-4a125d5b5f5e"
      },
      "source": [
        "# syn0의 행 수는 모델 어휘의 단어 수\n",
        "# 열 수는 2부에서 설정한 특징 벡터의 크기\n",
        "model.wv.syn0.shape"
      ],
      "execution_count": 6,
      "outputs": [
        {
          "output_type": "stream",
          "text": [
            "/usr/local/lib/python3.6/dist-packages/ipykernel_launcher.py:1: DeprecationWarning: Call to deprecated `syn0` (Attribute will be removed in 4.0.0, use self.wv.vectors instead).\n",
            "  \"\"\"Entry point for launching an IPython kernel.\n"
          ],
          "name": "stderr"
        },
        {
          "output_type": "execute_result",
          "data": {
            "text/plain": [
              "(11986, 300)"
            ]
          },
          "metadata": {
            "tags": []
          },
          "execution_count": 6
        }
      ]
    },
    {
      "cell_type": "code",
      "metadata": {
        "id": "ieYhePayNaBn",
        "colab_type": "code",
        "colab": {
          "base_uri": "https://localhost:8080/",
          "height": 35
        },
        "outputId": "ad706d73-7ba7-4784-bed8-3d70aae44f0b"
      },
      "source": [
        "# 개별 단어 벡터 접근\n",
        "model.wv['flower'].shape"
      ],
      "execution_count": 7,
      "outputs": [
        {
          "output_type": "execute_result",
          "data": {
            "text/plain": [
              "(300,)"
            ]
          },
          "metadata": {
            "tags": []
          },
          "execution_count": 7
        }
      ]
    },
    {
      "cell_type": "code",
      "metadata": {
        "id": "rMgc9_a4T-C8",
        "colab_type": "code",
        "colab": {
          "base_uri": "https://localhost:8080/",
          "height": 71
        },
        "outputId": "f60381af-a974-42db-faa4-f45f9ba81670"
      },
      "source": [
        "model.wv['flower'][:10]"
      ],
      "execution_count": 8,
      "outputs": [
        {
          "output_type": "execute_result",
          "data": {
            "text/plain": [
              "array([ 0.01834406,  0.15109576,  0.08696021, -0.08180085,  0.18334594,\n",
              "       -0.00667839,  0.09402244, -0.04177794,  0.04398022, -0.03917499],\n",
              "      dtype=float32)"
            ]
          },
          "metadata": {
            "tags": []
          },
          "execution_count": 8
        }
      ]
    },
    {
      "cell_type": "code",
      "metadata": {
        "id": "VQ7LA-NZT-IL",
        "colab_type": "code",
        "colab": {
          "base_uri": "https://localhost:8080/",
          "height": 323
        },
        "outputId": "ee88f7b5-2d53-4279-fc78-d4a5cea25326"
      },
      "source": [
        "# 단어 벡터에서 k-means를 실행하고 일부 클러스터를 찍어본다.\n",
        "start = time.time() # 시작시간\n",
        "\n",
        "# 클러스터의 크기 \"k\"를 어휘 크기의 1/5이나 평균 5단어로 설정한다.\n",
        "word_vectors = model.wv.syn0 # 어휘의 feature vector\n",
        "print('word_vectors:', word_vectors)\n",
        "\n",
        "num_clusters = word_vectors.shape[0] / 5\n",
        "num_clusters = int(num_clusters)\n",
        "print('word_vectors.shape[0]:', word_vectors.shape[0], ' ,num_clusters:', num_clusters)\n",
        "\n",
        "# K means 를 정의하고 학습시킨다.\n",
        "kmeans_clustering = KMeans( n_clusters = num_clusters )\n",
        "idx = kmeans_clustering.fit_predict( word_vectors )\n",
        "\n",
        "# 끝난 시간에서 시작시각을 빼서 걸린 시간을 구한다.\n",
        "end = time.time()\n",
        "elapsed = end - start\n",
        "print(\"Time taken for K Means clustering: \", elapsed, \"seconds.\")"
      ],
      "execution_count": 39,
      "outputs": [
        {
          "output_type": "stream",
          "text": [
            "/usr/local/lib/python3.6/dist-packages/ipykernel_launcher.py:4: DeprecationWarning: Call to deprecated `syn0` (Attribute will be removed in 4.0.0, use self.wv.vectors instead).\n",
            "  after removing the cwd from sys.path.\n"
          ],
          "name": "stderr"
        },
        {
          "output_type": "stream",
          "text": [
            "word_vectors: [[ 0.0317538  -0.02474832  0.07860017 ... -0.09599912 -0.06242267\n",
            "  -0.02094566]\n",
            " [-0.03075177 -0.00111953 -0.12395684 ... -0.02033539  0.06501389\n",
            "   0.07448852]\n",
            " [ 0.03041891 -0.02029556  0.03499588 ... -0.04192805 -0.00141165\n",
            "  -0.03356636]\n",
            " ...\n",
            " [ 0.02147275 -0.01034448 -0.03287955 ...  0.06800372  0.01527916\n",
            "  -0.01323599]\n",
            " [ 0.17598395 -0.06208686 -0.08641047 ...  0.03861715  0.01693828\n",
            "  -0.02470312]\n",
            " [ 0.0571405  -0.07898206 -0.03367015 ... -0.00755543 -0.01346191\n",
            "  -0.10721017]]\n",
            "word_vectors.shape[0]: 11986  ,num_clusters: 2397\n",
            "Time taken for K Means clustering:  695.2943165302277 seconds.\n"
          ],
          "name": "stdout"
        }
      ]
    },
    {
      "cell_type": "code",
      "metadata": {
        "id": "NWGXUFOmT-OU",
        "colab_type": "code",
        "colab": {
          "base_uri": "https://localhost:8080/",
          "height": 1000
        },
        "outputId": "837342cc-b3d1-4d9a-dc68-21752d98d30c"
      },
      "source": [
        "# 각 어휘 단어를 클러스터 번호에 매핑되게 word/Index 사전을 만든다.\n",
        "idx = list(idx)\n",
        "names = model.wv.index2word\n",
        "word_centroid_map = {names[i]: idx[i] for i in range(len(names))}\n",
        "#     word_centroid_map = dict(zip( model.wv.index2word, idx ))\n",
        "\n",
        "sorted_names = sorted(word_centroid_map.items(), key=lambda x: x[1], reverse=True) #value로 소팅(여기서 value는 idx)\n",
        "cnt=0\n",
        "for i, name in enumerate(sorted_names):\n",
        "    print(':', i, ' ,name:',name)\n",
        "    if(cnt>=50): break\n",
        "    cnt=cnt+1\n",
        "    \n",
        "\n",
        "# 첫 번째 클러스터의 처음 10개를 출력\n",
        "for cluster in range(0,10):\n",
        "    # 클러스터 번호를 출력\n",
        "    print(\"\\nCluster {}\".format(cluster))\n",
        "\n",
        "    # 클러스터 번호와 클러스터에 있는 단어를 찍는다.\n",
        "    words = []\n",
        "    for i in range(0,len(list(word_centroid_map.values()))):\n",
        "        if( list(word_centroid_map.values())[i] == cluster ):\n",
        "            words.append(list(word_centroid_map.keys())[i])\n",
        "    print(words)"
      ],
      "execution_count": 63,
      "outputs": [
        {
          "output_type": "stream",
          "text": [
            ": 0  ,name: ('salut', 2396)\n",
            ": 1  ,name: ('throwaway', 2395)\n",
            ": 2  ,name: ('hoax', 2394)\n",
            ": 3  ,name: ('outta', 2393)\n",
            ": 4  ,name: ('bash', 2392)\n",
            ": 5  ,name: ('rough', 2391)\n",
            ": 6  ,name: ('sting', 2390)\n",
            ": 7  ,name: ('howler', 2390)\n",
            ": 8  ,name: ('smother', 2390)\n",
            ": 9  ,name: ('blah', 2389)\n",
            ": 10  ,name: ('yada', 2389)\n",
            ": 11  ,name: ('dun', 2389)\n",
            ": 12  ,name: ('old', 2388)\n",
            ": 13  ,name: ('ago', 2388)\n",
            ": 14  ,name: ('field', 2387)\n",
            ": 15  ,name: ('fish', 2387)\n",
            ": 16  ,name: ('belt', 2387)\n",
            ": 17  ,name: ('jam', 2387)\n",
            ": 18  ,name: ('branch', 2387)\n",
            ": 19  ,name: ('deck', 2387)\n",
            ": 20  ,name: ('leaf', 2387)\n",
            ": 21  ,name: ('rubbl', 2387)\n",
            ": 22  ,name: ('pioneer', 2386)\n",
            ": 23  ,name: ('rever', 2386)\n",
            ": 24  ,name: ('quintessenti', 2386)\n",
            ": 25  ,name: ('renown', 2386)\n",
            ": 26  ,name: ('panahi', 2386)\n",
            ": 27  ,name: ('curb', 2385)\n",
            ": 28  ,name: ('pc', 2384)\n",
            ": 29  ,name: ('er', 2383)\n",
            ": 30  ,name: ('ne', 2383)\n",
            ": 31  ,name: ('birch', 2382)\n",
            ": 32  ,name: ('thora', 2382)\n",
            ": 33  ,name: ('witherspoon', 2382)\n",
            ": 34  ,name: ('outshin', 2382)\n",
            ": 35  ,name: ('bai', 2382)\n",
            ": 36  ,name: ('both', 2381)\n",
            ": 37  ,name: ('lodger', 2380)\n",
            ": 38  ,name: ('kane', 2379)\n",
            ": 39  ,name: ('coma', 2378)\n",
            ": 40  ,name: ('tranc', 2378)\n",
            ": 41  ,name: ('holder', 2377)\n",
            ": 42  ,name: ('loop', 2376)\n",
            ": 43  ,name: ('till', 2375)\n",
            ": 44  ,name: ('til', 2375)\n",
            ": 45  ,name: ('readili', 2374)\n",
            ": 46  ,name: ('number', 2373)\n",
            ": 47  ,name: ('press', 2372)\n",
            ": 48  ,name: ('plain', 2371)\n",
            ": 49  ,name: ('downright', 2371)\n",
            ": 50  ,name: ('hanna', 2370)\n",
            "\n",
            "Cluster 0\n",
            "['cassel', 'hampton', 'gardenia']\n",
            "\n",
            "Cluster 1\n",
            "['penetr', 'flare', 'grit']\n",
            "\n",
            "Cluster 2\n",
            "['juici', 'unintend', 'smut']\n",
            "\n",
            "Cluster 3\n",
            "['sourc']\n",
            "\n",
            "Cluster 4\n",
            "['lifestyl', 'domest', 'dubious', 'decenc', 'societ', 'ecolog']\n",
            "\n",
            "Cluster 5\n",
            "['whit', 'hatton', 'fargo', 'silva', 'rickman', 'ar', 'stuntman', 'coltran', 'yul', 'brynner', 'darkman']\n",
            "\n",
            "Cluster 6\n",
            "['kennedi', 'marshal', 'pete', 'mccarthi', 'bishop', 'karl', 'sander', 'kent', 'marcus', 'patton', 'ivan', 'kerri', 'marcel', 'reverend', 'clayton', 'bart', 'nevill', 'bradford', 'hanson', 'amo', 'det', 'erik', 'col', 'prof', 'dirk', 'blacki', 'menjou', 'gerald', 'holt', 'churchil', 'adolph', 'jefferson', 'webster', 'picard', 'donovan', 'hoyt', 'luther', 'kessler', 'ferguson', 'trent', 'sutton', 'gage', 'muller', 'janic', 'stefan', 'wellington', 'lombardi', 'xavier', 'manuel', 'ame', 'walton', 'vogel', 'antoni', 'damien', 'foreman', 'skinner', 'eliot', 'hawkin', 'oswald', 'leopold', 'beckett']\n",
            "\n",
            "Cluster 7\n",
            "['march', 'april', 'septemb', 'august', 'pm', 'octob', 'decemb', 'anniversari', 'januari', 'novemb', 'amc', 'februari']\n",
            "\n",
            "Cluster 8\n",
            "['escap', 'hide', 'flee', 'clutch', 'retreat', 'ditch', 'forg', 'evacu', 'evict', 'withdraw', 'fled', 'banish', 'rehabilit', 'expel', 'trespass']\n",
            "\n",
            "Cluster 9\n",
            "['salli', 'mia', 'farrow', 'cecilia', 'johansson']\n"
          ],
          "name": "stdout"
        }
      ]
    },
    {
      "cell_type": "code",
      "metadata": {
        "id": "99F63PneULup",
        "colab_type": "code",
        "colab": {
          "base_uri": "https://localhost:8080/",
          "height": 325
        },
        "outputId": "8bbdc1df-9616-4c3b-b93f-fda90e49791b"
      },
      "source": [
        "\"\"\"\n",
        "판다스로 데이터프레임 형태의 데이터로 읽어온다.\n",
        "QUOTE_MINIMAL (0), QUOTE_ALL (1), \n",
        "QUOTE_NONNUMERIC (2) or QUOTE_NONE (3).\n",
        "\n",
        "그리고 이전 튜토리얼에서 했던 것처럼 clean_train_reviews 와 \n",
        "clean_test_reviews 로 텍스트를 정제한다.\n",
        "\"\"\"\n",
        "train = pd.read_csv(train_data, header=0, delimiter=\"\\t\", quoting=3)\n",
        "test = pd.read_csv(test_data, header=0, delimiter=\"\\t\", quoting=3)\n",
        "# unlabeled_train = pd.read_csv( 'data/unlabeledTrainData.tsv', header=0,  delimiter=\"\\t\", quoting=3 )\n",
        "\n",
        "print(train)\n",
        "print(train['sentiment'][0], ':', train['review'][0])\n",
        "print(train['sentiment'][2], ':', train['review'][2])"
      ],
      "execution_count": 37,
      "outputs": [
        {
          "output_type": "stream",
          "text": [
            "              id  sentiment                                             review\n",
            "0       \"5814_8\"          1  \"With all this stuff going down at the moment ...\n",
            "1       \"2381_9\"          1  \"\\\"The Classic War of the Worlds\\\" by Timothy ...\n",
            "2       \"7759_3\"          0  \"The film starts with a manager (Nicholas Bell...\n",
            "3       \"3630_4\"          0  \"It must be assumed that those who praised thi...\n",
            "4       \"9495_8\"          1  \"Superbly trashy and wondrously unpretentious ...\n",
            "...          ...        ...                                                ...\n",
            "24995   \"3453_3\"          0  \"It seems like more consideration has gone int...\n",
            "24996   \"5064_1\"          0  \"I don't believe they made this film. Complete...\n",
            "24997  \"10905_3\"          0  \"Guy is a loser. Can't get girls, needs to bui...\n",
            "24998  \"10194_3\"          0  \"This 30 minute documentary Buñuel made in the...\n",
            "24999   \"8478_8\"          1  \"I saw this movie as a child and it broke my h...\n",
            "\n",
            "[25000 rows x 3 columns]\n",
            "1 : \"With all this stuff going down at the moment with MJ i've started listening to his music, watching the odd documentary here and there, watched The Wiz and watched Moonwalker again. Maybe i just want to get a certain insight into this guy who i thought was really cool in the eighties just to maybe make up my mind whether he is guilty or innocent. Moonwalker is part biography, part feature film which i remember going to see at the cinema when it was originally released. Some of it has subtle messages about MJ's feeling towards the press and also the obvious message of drugs are bad m'kay.<br /><br />Visually impressive but of course this is all about Michael Jackson so unless you remotely like MJ in anyway then you are going to hate this and find it boring. Some may call MJ an egotist for consenting to the making of this movie BUT MJ and most of his fans would say that he made it for the fans which if true is really nice of him.<br /><br />The actual feature film bit when it finally starts is only on for 20 minutes or so excluding the Smooth Criminal sequence and Joe Pesci is convincing as a psychopathic all powerful drug lord. Why he wants MJ dead so bad is beyond me. Because MJ overheard his plans? Nah, Joe Pesci's character ranted that he wanted people to know it is he who is supplying drugs etc so i dunno, maybe he just hates MJ's music.<br /><br />Lots of cool things in this like MJ turning into a car and a robot and the whole Speed Demon sequence. Also, the director must have had the patience of a saint when it came to filming the kiddy Bad sequence as usually directors hate working with one kid let alone a whole bunch of them performing a complex dance scene.<br /><br />Bottom line, this movie is for people who like MJ on one level or another (which i think is most people). If not, then stay away. It does try and give off a wholesome message and ironically MJ's bestest buddy in this movie is a girl! Michael Jackson is truly one of the most talented people ever to grace this planet but is he guilty? Well, with all the attention i've gave this subject....hmmm well i don't know because people can be different behind closed doors, i know this for a fact. He is either an extremely nice but stupid guy or one of the most sickest liars. I hope he is not the latter.\"\n",
            "0 : \"The film starts with a manager (Nicholas Bell) giving welcome investors (Robert Carradine) to Primal Park . A secret project mutating a primal animal using fossilized DNA, like ¨Jurassik Park¨, and some scientists resurrect one of nature's most fearsome predators, the Sabretooth tiger or Smilodon . Scientific ambition turns deadly, however, and when the high voltage fence is opened the creature escape and begins savagely stalking its prey - the human visitors , tourists and scientific.Meanwhile some youngsters enter in the restricted area of the security center and are attacked by a pack of large pre-historical animals which are deadlier and bigger . In addition , a security agent (Stacy Haiduk) and her mate (Brian Wimmer) fight hardly against the carnivorous Smilodons. The Sabretooths, themselves , of course, are the real star stars and they are astounding terrifyingly though not convincing. The giant animals savagely are stalking its prey and the group run afoul and fight against one nature's most fearsome predators. Furthermore a third Sabretooth more dangerous and slow stalks its victims.<br /><br />The movie delivers the goods with lots of blood and gore as beheading, hair-raising chills,full of scares when the Sabretooths appear with mediocre special effects.The story provides exciting and stirring entertainment but it results to be quite boring .The giant animals are majority made by computer generator and seem totally lousy .Middling performances though the players reacting appropriately to becoming food.Actors give vigorously physical performances dodging the beasts ,running,bound and leaps or dangling over walls . And it packs a ridiculous final deadly scene. No for small kids by realistic,gory and violent attack scenes . Other films about Sabretooths or Smilodon are the following : ¨Sabretooth(2002)¨by James R Hickox with Vanessa Angel, David Keith and John Rhys Davies and the much better ¨10.000 BC(2006)¨ by Roland Emmerich with with Steven Strait, Cliff Curtis and Camilla Belle. This motion picture filled with bloody moments is badly directed by George Miller and with no originality because takes too many elements from previous films. Miller is an Australian director usually working for television (Tidal wave, Journey to the center of the earth, and many others) and occasionally for cinema ( The man from Snowy river, Zeus and Roxanne,Robinson Crusoe ). Rating : Below average, bottom of barrel.\"\n"
          ],
          "name": "stdout"
        }
      ]
    },
    {
      "cell_type": "code",
      "metadata": {
        "id": "qh4dEo3AU_NR",
        "colab_type": "code",
        "colab": {
          "base_uri": "https://localhost:8080/",
          "height": 53
        },
        "outputId": "aee1a8ab-8c62-4331-c023-d7f0491834b1"
      },
      "source": [
        "#https://github.com/wendykan/DeepLearningMovies/blob/master/KaggleWord2VecUtility.py\n",
        "import re\n",
        "import nltk\n",
        "nltk.download('stopwords')\n",
        "\n",
        "import pandas as pd\n",
        "import numpy as np\n",
        "\n",
        "from bs4 import BeautifulSoup\n",
        "from nltk.corpus import stopwords\n",
        "\n",
        "class KaggleWord2VecUtility(object):\n",
        "    \"\"\"KaggleWord2VecUtility is a utility class for processing raw HTML text into segments for further learning\"\"\"\n",
        "\n",
        "    @staticmethod\n",
        "    def review_to_wordlist( review, remove_stopwords=False ):\n",
        "        # Function to convert a document to a sequence of words,\n",
        "        # optionally removing stop words.  Returns a list of words.\n",
        "        #\n",
        "        # 1. Remove HTML\n",
        "        review_text = BeautifulSoup(review).get_text()\n",
        "        #\n",
        "        # 2. Remove non-letters\n",
        "        review_text = re.sub(\"[^a-zA-Z]\",\" \", review_text)\n",
        "        #\n",
        "        # 3. Convert words to lower case and split them\n",
        "        words = review_text.lower().split()\n",
        "        #\n",
        "        # 4. Optionally remove stop words (false by default)\n",
        "        if remove_stopwords:\n",
        "            stops = set(stopwords.words(\"english\"))\n",
        "            words = [w for w in words if not w in stops]\n",
        "        #\n",
        "        # 5. Return a list of words\n",
        "        return(words)\n",
        "\n",
        "    # Define a function to split a review into parsed sentences\n",
        "    @staticmethod\n",
        "    def review_to_sentences( review, tokenizer, remove_stopwords=False ):\n",
        "        # Function to split a review into parsed sentences. Returns a\n",
        "        # list of sentences, where each sentence is a list of words\n",
        "        #\n",
        "        # 1. Use the NLTK tokenizer to split the paragraph into sentences\n",
        "        raw_sentences = tokenizer.tokenize(review.decode('utf8').strip())\n",
        "        #\n",
        "        # 2. Loop over each sentence\n",
        "        sentences = []\n",
        "        for raw_sentence in raw_sentences:\n",
        "            # If a sentence is empty, skip it\n",
        "            if len(raw_sentence) > 0:\n",
        "                # Otherwise, call review_to_wordlist to get a list of words\n",
        "                sentences.append( KaggleWord2VecUtility.review_to_wordlist( raw_sentence, \\\n",
        "                  remove_stopwords ))\n",
        "        #\n",
        "        # Return the list of sentences (each sentence is a list of words,\n",
        "        # so this returns a list of lists\n",
        "        return sentences"
      ],
      "execution_count": 12,
      "outputs": [
        {
          "output_type": "stream",
          "text": [
            "[nltk_data] Downloading package stopwords to /root/nltk_data...\n",
            "[nltk_data]   Unzipping corpora/stopwords.zip.\n"
          ],
          "name": "stdout"
        }
      ]
    },
    {
      "cell_type": "code",
      "metadata": {
        "id": "COKOQ3fzU_T5",
        "colab_type": "code",
        "colab": {}
      },
      "source": [
        "# 학습 리뷰를 정제한다.\n",
        "clean_train_reviews = []\n",
        "for review in train[\"review\"]:\n",
        "    clean_train_reviews.append(\n",
        "        KaggleWord2VecUtility.review_to_wordlist( review, \\\n",
        "        remove_stopwords=True ))"
      ],
      "execution_count": 0,
      "outputs": []
    },
    {
      "cell_type": "code",
      "metadata": {
        "id": "l6CUNcbOkOvr",
        "colab_type": "code",
        "colab": {}
      },
      "source": [
        "# 테스트 리뷰를 정제한다.\n",
        "clean_test_reviews = []\n",
        "for review in test[\"review\"]:\n",
        "    clean_test_reviews.append(\n",
        "        KaggleWord2VecUtility.review_to_wordlist( review, \\\n",
        "        remove_stopwords=True ))"
      ],
      "execution_count": 0,
      "outputs": []
    },
    {
      "cell_type": "code",
      "metadata": {
        "id": "Zwd_JuuykOte",
        "colab_type": "code",
        "colab": {
          "base_uri": "https://localhost:8080/",
          "height": 107
        },
        "outputId": "c0c8cbf2-1961-4e40-f8e6-af07f6789e89"
      },
      "source": [
        "# bags of centroids 생성\n",
        "# 속도를 위해 centroid 학습 세트 bag을 미리 할당한다.\n",
        "train_centroids = np.zeros((train[\"review\"].size, num_clusters), \\\n",
        "    dtype=\"float32\" )\n",
        "\n",
        "train_centroids[:5]"
      ],
      "execution_count": 15,
      "outputs": [
        {
          "output_type": "execute_result",
          "data": {
            "text/plain": [
              "array([[0., 0., 0., ..., 0., 0., 0.],\n",
              "       [0., 0., 0., ..., 0., 0., 0.],\n",
              "       [0., 0., 0., ..., 0., 0., 0.],\n",
              "       [0., 0., 0., ..., 0., 0., 0.],\n",
              "       [0., 0., 0., ..., 0., 0., 0.]], dtype=float32)"
            ]
          },
          "metadata": {
            "tags": []
          },
          "execution_count": 15
        }
      ]
    },
    {
      "cell_type": "code",
      "metadata": {
        "id": "yv15nsGGU_Zc",
        "colab_type": "code",
        "colab": {}
      },
      "source": [
        "# centroid 는 두 클러스터의 중심점을 정의 한 다음 중심점의 거리를 측정한 것\n",
        "def create_bag_of_centroids( wordlist, word_centroid_map ):\n",
        "\n",
        "    # 클러스터의 수는 word / centroid map에서 가장 높은 클러스트 인덱스와 같다.\n",
        "    num_centroids = max( word_centroid_map.values() ) + 1\n",
        "    print(\"num_centroids:\", num_centroids)\n",
        "\n",
        "    # 속도를 위해 bag of centroids vector를 미리 할당한다.\n",
        "    bag_of_centroids = np.zeros( num_centroids, dtype=\"float32\" )\n",
        "    print(\"bag_of_centroids:\", bag_of_centroids)\n",
        "\n",
        "    # 루프를 돌며 단어가 word_centroid_map에 있다면\n",
        "    # 해당하는 클러스터의 수를 하나씩 증가시켜 준다.\n",
        "    for word in wordlist:\n",
        "        if word in word_centroid_map:\n",
        "            index = word_centroid_map[word]\n",
        "            bag_of_centroids[index] += 1\n",
        "            print('word_centroid_map!!! word:', word, ',map index:',index, ',bag_of_centroids[index]:', bag_of_centroids[index])\n",
        "\n",
        "    print('bag_of_centroids:', bag_of_centroids)\n",
        "    # bag of centroids를 반환한다.\n",
        "    return bag_of_centroids"
      ],
      "execution_count": 0,
      "outputs": []
    },
    {
      "cell_type": "code",
      "metadata": {
        "id": "o6jOANo-kRTf",
        "colab_type": "code",
        "colab": {
          "base_uri": "https://localhost:8080/",
          "height": 1000
        },
        "outputId": "655e820c-5465-4a86-8e95-ae3ae9b16552"
      },
      "source": [
        "# 학습 리뷰를 bags of centroids로 변환한다.\n",
        "counter = 0\n",
        "for review in clean_train_reviews:\n",
        "    train_centroids[counter] = create_bag_of_centroids( review, \\\n",
        "        word_centroid_map )\n",
        "    if counter >= 0 : break\n",
        "    counter += 1\n",
        "\n",
        "print(train_centroids[0])\n",
        "\n",
        "# 테스트 리뷰도 같은 방법으로 반복해 준다.\n",
        "test_centroids = np.zeros(( test[\"review\"].size, num_clusters), \\\n",
        "    dtype=\"float32\" )\n",
        "\n",
        "counter = 0\n",
        "for review in clean_test_reviews:\n",
        "    test_centroids[counter] = create_bag_of_centroids( review, \\\n",
        "        word_centroid_map )\n",
        "    if counter >= 0 : break\n",
        "    counter += 1\n",
        "\n",
        "\n",
        "# 랜덤포레스트를 사용하여 학습시키고 예측\n",
        "forest = RandomForestClassifier(n_estimators = 100)\n",
        "\n",
        "# train 데이터의 레이블을 통해 학습시키고 예측한다.\n",
        "# 시간이 좀 소요되기 때문에 %time을 통해 걸린 시간을 찍도록 함\n",
        "print(\"Fitting a random forest to labeled training data...\")\n",
        "%time forest = forest.fit(train_centroids, train[\"sentiment\"])"
      ],
      "execution_count": 25,
      "outputs": [
        {
          "output_type": "stream",
          "text": [
            "num_centroids: 2397\n",
            "bag_of_centroids: [0. 0. 0. ... 0. 0. 0.]\n",
            "word_centroid_map!!! word: stuff ,map index: 2350 ,bag_of_centroids[index]: 1.0\n",
            "word_centroid_map!!! word: moment ,map index: 1262 ,bag_of_centroids[index]: 1.0\n",
            "word_centroid_map!!! word: mj ,map index: 1141 ,bag_of_centroids[index]: 1.0\n",
            "word_centroid_map!!! word: music ,map index: 908 ,bag_of_centroids[index]: 1.0\n",
            "word_centroid_map!!! word: odd ,map index: 1441 ,bag_of_centroids[index]: 1.0\n",
            "word_centroid_map!!! word: want ,map index: 1502 ,bag_of_centroids[index]: 1.0\n",
            "word_centroid_map!!! word: get ,map index: 724 ,bag_of_centroids[index]: 1.0\n",
            "word_centroid_map!!! word: certain ,map index: 462 ,bag_of_centroids[index]: 1.0\n",
            "word_centroid_map!!! word: insight ,map index: 1073 ,bag_of_centroids[index]: 1.0\n",
            "word_centroid_map!!! word: guy ,map index: 1107 ,bag_of_centroids[index]: 1.0\n",
            "word_centroid_map!!! word: thought ,map index: 1448 ,bag_of_centroids[index]: 1.0\n",
            "word_centroid_map!!! word: cool ,map index: 411 ,bag_of_centroids[index]: 1.0\n",
            "word_centroid_map!!! word: make ,map index: 1826 ,bag_of_centroids[index]: 1.0\n",
            "word_centroid_map!!! word: mind ,map index: 2209 ,bag_of_centroids[index]: 1.0\n",
            "word_centroid_map!!! word: whether ,map index: 199 ,bag_of_centroids[index]: 1.0\n",
            "word_centroid_map!!! word: part ,map index: 602 ,bag_of_centroids[index]: 1.0\n",
            "word_centroid_map!!! word: part ,map index: 602 ,bag_of_centroids[index]: 2.0\n",
            "word_centroid_map!!! word: film ,map index: 1293 ,bag_of_centroids[index]: 1.0\n",
            "word_centroid_map!!! word: see ,map index: 156 ,bag_of_centroids[index]: 1.0\n",
            "word_centroid_map!!! word: cinema ,map index: 1652 ,bag_of_centroids[index]: 1.0\n",
            "word_centroid_map!!! word: mj ,map index: 1141 ,bag_of_centroids[index]: 2.0\n",
            "word_centroid_map!!! word: press ,map index: 2142 ,bag_of_centroids[index]: 1.0\n",
            "word_centroid_map!!! word: also ,map index: 1093 ,bag_of_centroids[index]: 1.0\n",
            "word_centroid_map!!! word: obvious ,map index: 683 ,bag_of_centroids[index]: 1.0\n",
            "word_centroid_map!!! word: bad ,map index: 2313 ,bag_of_centroids[index]: 1.0\n",
            "word_centroid_map!!! word: kay ,map index: 638 ,bag_of_centroids[index]: 1.0\n",
            "word_centroid_map!!! word: michael ,map index: 323 ,bag_of_centroids[index]: 1.0\n",
            "word_centroid_map!!! word: jackson ,map index: 452 ,bag_of_centroids[index]: 1.0\n",
            "word_centroid_map!!! word: unless ,map index: 770 ,bag_of_centroids[index]: 1.0\n",
            "word_centroid_map!!! word: like ,map index: 2273 ,bag_of_centroids[index]: 1.0\n",
            "word_centroid_map!!! word: mj ,map index: 1141 ,bag_of_centroids[index]: 3.0\n",
            "word_centroid_map!!! word: anyway ,map index: 171 ,bag_of_centroids[index]: 1.0\n",
            "word_centroid_map!!! word: hate ,map index: 123 ,bag_of_centroids[index]: 1.0\n",
            "word_centroid_map!!! word: find ,map index: 813 ,bag_of_centroids[index]: 1.0\n",
            "word_centroid_map!!! word: may ,map index: 2348 ,bag_of_centroids[index]: 1.0\n",
            "word_centroid_map!!! word: call ,map index: 1159 ,bag_of_centroids[index]: 1.0\n",
            "word_centroid_map!!! word: mj ,map index: 1141 ,bag_of_centroids[index]: 4.0\n",
            "word_centroid_map!!! word: egotist ,map index: 1534 ,bag_of_centroids[index]: 1.0\n",
            "word_centroid_map!!! word: mj ,map index: 1141 ,bag_of_centroids[index]: 5.0\n",
            "word_centroid_map!!! word: would ,map index: 2348 ,bag_of_centroids[index]: 2.0\n",
            "word_centroid_map!!! word: say ,map index: 188 ,bag_of_centroids[index]: 1.0\n",
            "word_centroid_map!!! word: made ,map index: 1826 ,bag_of_centroids[index]: 2.0\n",
            "word_centroid_map!!! word: true ,map index: 1538 ,bag_of_centroids[index]: 1.0\n",
            "word_centroid_map!!! word: nice ,map index: 1440 ,bag_of_centroids[index]: 1.0\n",
            "word_centroid_map!!! word: actual ,map index: 1608 ,bag_of_centroids[index]: 1.0\n",
            "word_centroid_map!!! word: film ,map index: 1293 ,bag_of_centroids[index]: 2.0\n",
            "word_centroid_map!!! word: bit ,map index: 2055 ,bag_of_centroids[index]: 1.0\n",
            "word_centroid_map!!! word: smooth ,map index: 1859 ,bag_of_centroids[index]: 1.0\n",
            "word_centroid_map!!! word: joe ,map index: 170 ,bag_of_centroids[index]: 1.0\n",
            "word_centroid_map!!! word: pesci ,map index: 1110 ,bag_of_centroids[index]: 1.0\n",
            "word_centroid_map!!! word: drug ,map index: 1634 ,bag_of_centroids[index]: 1.0\n",
            "word_centroid_map!!! word: lord ,map index: 356 ,bag_of_centroids[index]: 1.0\n",
            "word_centroid_map!!! word: mj ,map index: 1141 ,bag_of_centroids[index]: 6.0\n",
            "word_centroid_map!!! word: dead ,map index: 676 ,bag_of_centroids[index]: 1.0\n",
            "word_centroid_map!!! word: bad ,map index: 2313 ,bag_of_centroids[index]: 2.0\n",
            "word_centroid_map!!! word: beyond ,map index: 1930 ,bag_of_centroids[index]: 1.0\n",
            "word_centroid_map!!! word: mj ,map index: 1141 ,bag_of_centroids[index]: 7.0\n",
            "word_centroid_map!!! word: nah ,map index: 1778 ,bag_of_centroids[index]: 1.0\n",
            "word_centroid_map!!! word: joe ,map index: 170 ,bag_of_centroids[index]: 2.0\n",
            "word_centroid_map!!! word: pesci ,map index: 1110 ,bag_of_centroids[index]: 2.0\n",
            "word_centroid_map!!! word: character ,map index: 34 ,bag_of_centroids[index]: 1.0\n",
            "word_centroid_map!!! word: know ,map index: 1448 ,bag_of_centroids[index]: 2.0\n",
            "word_centroid_map!!! word: etc ,map index: 1166 ,bag_of_centroids[index]: 1.0\n",
            "word_centroid_map!!! word: dunno ,map index: 2033 ,bag_of_centroids[index]: 1.0\n",
            "word_centroid_map!!! word: mj ,map index: 1141 ,bag_of_centroids[index]: 8.0\n",
            "word_centroid_map!!! word: music ,map index: 908 ,bag_of_centroids[index]: 2.0\n",
            "word_centroid_map!!! word: cool ,map index: 411 ,bag_of_centroids[index]: 2.0\n",
            "word_centroid_map!!! word: like ,map index: 2273 ,bag_of_centroids[index]: 2.0\n",
            "word_centroid_map!!! word: mj ,map index: 1141 ,bag_of_centroids[index]: 9.0\n",
            "word_centroid_map!!! word: car ,map index: 2242 ,bag_of_centroids[index]: 1.0\n",
            "word_centroid_map!!! word: robot ,map index: 828 ,bag_of_centroids[index]: 1.0\n",
            "word_centroid_map!!! word: whole ,map index: 2148 ,bag_of_centroids[index]: 1.0\n",
            "word_centroid_map!!! word: speed ,map index: 629 ,bag_of_centroids[index]: 1.0\n",
            "word_centroid_map!!! word: demon ,map index: 386 ,bag_of_centroids[index]: 1.0\n",
            "word_centroid_map!!! word: also ,map index: 1093 ,bag_of_centroids[index]: 2.0\n",
            "word_centroid_map!!! word: director ,map index: 414 ,bag_of_centroids[index]: 1.0\n",
            "word_centroid_map!!! word: must ,map index: 229 ,bag_of_centroids[index]: 1.0\n",
            "word_centroid_map!!! word: saint ,map index: 690 ,bag_of_centroids[index]: 1.0\n",
            "word_centroid_map!!! word: came ,map index: 923 ,bag_of_centroids[index]: 1.0\n",
            "word_centroid_map!!! word: bad ,map index: 2313 ,bag_of_centroids[index]: 3.0\n",
            "word_centroid_map!!! word: hate ,map index: 123 ,bag_of_centroids[index]: 2.0\n",
            "word_centroid_map!!! word: one ,map index: 1874 ,bag_of_centroids[index]: 1.0\n",
            "word_centroid_map!!! word: kid ,map index: 863 ,bag_of_centroids[index]: 1.0\n",
            "word_centroid_map!!! word: let ,map index: 1497 ,bag_of_centroids[index]: 1.0\n",
            "word_centroid_map!!! word: whole ,map index: 2148 ,bag_of_centroids[index]: 2.0\n",
            "word_centroid_map!!! word: bunch ,map index: 1380 ,bag_of_centroids[index]: 1.0\n",
            "word_centroid_map!!! word: complex ,map index: 621 ,bag_of_centroids[index]: 1.0\n",
            "word_centroid_map!!! word: scene ,map index: 1262 ,bag_of_centroids[index]: 2.0\n",
            "word_centroid_map!!! word: bottom ,map index: 1109 ,bag_of_centroids[index]: 1.0\n",
            "word_centroid_map!!! word: line ,map index: 1524 ,bag_of_centroids[index]: 1.0\n",
            "word_centroid_map!!! word: like ,map index: 2273 ,bag_of_centroids[index]: 3.0\n",
            "word_centroid_map!!! word: mj ,map index: 1141 ,bag_of_centroids[index]: 10.0\n",
            "word_centroid_map!!! word: one ,map index: 1874 ,bag_of_centroids[index]: 2.0\n",
            "word_centroid_map!!! word: level ,map index: 930 ,bag_of_centroids[index]: 1.0\n",
            "word_centroid_map!!! word: think ,map index: 188 ,bag_of_centroids[index]: 2.0\n",
            "word_centroid_map!!! word: stay ,map index: 2046 ,bag_of_centroids[index]: 1.0\n",
            "word_centroid_map!!! word: away ,map index: 1700 ,bag_of_centroids[index]: 1.0\n",
            "word_centroid_map!!! word: give ,map index: 1074 ,bag_of_centroids[index]: 1.0\n",
            "word_centroid_map!!! word: mj ,map index: 1141 ,bag_of_centroids[index]: 11.0\n",
            "word_centroid_map!!! word: girl ,map index: 1954 ,bag_of_centroids[index]: 1.0\n",
            "word_centroid_map!!! word: michael ,map index: 323 ,bag_of_centroids[index]: 2.0\n",
            "word_centroid_map!!! word: jackson ,map index: 452 ,bag_of_centroids[index]: 2.0\n",
            "word_centroid_map!!! word: one ,map index: 1874 ,bag_of_centroids[index]: 3.0\n",
            "word_centroid_map!!! word: ever ,map index: 2351 ,bag_of_centroids[index]: 1.0\n",
            "word_centroid_map!!! word: grace ,map index: 859 ,bag_of_centroids[index]: 1.0\n",
            "word_centroid_map!!! word: planet ,map index: 563 ,bag_of_centroids[index]: 1.0\n",
            "word_centroid_map!!! word: well ,map index: 1842 ,bag_of_centroids[index]: 1.0\n",
            "word_centroid_map!!! word: gave ,map index: 1074 ,bag_of_centroids[index]: 2.0\n",
            "word_centroid_map!!! word: subject ,map index: 1055 ,bag_of_centroids[index]: 1.0\n",
            "word_centroid_map!!! word: hmmm ,map index: 1368 ,bag_of_centroids[index]: 1.0\n",
            "word_centroid_map!!! word: well ,map index: 1842 ,bag_of_centroids[index]: 2.0\n",
            "word_centroid_map!!! word: know ,map index: 1448 ,bag_of_centroids[index]: 3.0\n",
            "word_centroid_map!!! word: behind ,map index: 869 ,bag_of_centroids[index]: 1.0\n",
            "word_centroid_map!!! word: know ,map index: 1448 ,bag_of_centroids[index]: 4.0\n",
            "word_centroid_map!!! word: fact ,map index: 2341 ,bag_of_centroids[index]: 1.0\n",
            "word_centroid_map!!! word: either ,map index: 653 ,bag_of_centroids[index]: 1.0\n",
            "word_centroid_map!!! word: nice ,map index: 1440 ,bag_of_centroids[index]: 2.0\n",
            "word_centroid_map!!! word: stupid ,map index: 329 ,bag_of_centroids[index]: 1.0\n",
            "word_centroid_map!!! word: guy ,map index: 1107 ,bag_of_centroids[index]: 2.0\n",
            "word_centroid_map!!! word: one ,map index: 1874 ,bag_of_centroids[index]: 4.0\n",
            "word_centroid_map!!! word: hope ,map index: 654 ,bag_of_centroids[index]: 1.0\n",
            "word_centroid_map!!! word: latter ,map index: 1813 ,bag_of_centroids[index]: 1.0\n",
            "bag_of_centroids: [0. 0. 0. ... 0. 0. 0.]\n",
            "[0. 0. 0. ... 0. 0. 0.]\n",
            "num_centroids: 2397\n",
            "bag_of_centroids: [0. 0. 0. ... 0. 0. 0.]\n",
            "word_centroid_map!!! word: film ,map index: 1293 ,bag_of_centroids[index]: 1.0\n",
            "word_centroid_map!!! word: main ,map index: 1001 ,bag_of_centroids[index]: 1.0\n",
            "word_centroid_map!!! word: nostalgia ,map index: 772 ,bag_of_centroids[index]: 1.0\n",
            "word_centroid_map!!! word: loss ,map index: 1366 ,bag_of_centroids[index]: 1.0\n",
            "word_centroid_map!!! word: older ,map index: 1451 ,bag_of_centroids[index]: 1.0\n",
            "word_centroid_map!!! word: younger ,map index: 1451 ,bag_of_centroids[index]: 2.0\n",
            "word_centroid_map!!! word: craftsmanship ,map index: 1718 ,bag_of_centroids[index]: 1.0\n",
            "word_centroid_map!!! word: film ,map index: 1293 ,bag_of_centroids[index]: 2.0\n",
            "word_centroid_map!!! word: enjoy ,map index: 420 ,bag_of_centroids[index]: 1.0\n",
            "word_centroid_map!!! word: pace ,map index: 738 ,bag_of_centroids[index]: 1.0\n",
            "word_centroid_map!!! word: constant ,map index: 2205 ,bag_of_centroids[index]: 1.0\n",
            "word_centroid_map!!! word: full ,map index: 1429 ,bag_of_centroids[index]: 1.0\n",
            "word_centroid_map!!! word: need ,map index: 1502 ,bag_of_centroids[index]: 1.0\n",
            "word_centroid_map!!! word: show ,map index: 703 ,bag_of_centroids[index]: 1.0\n",
            "word_centroid_map!!! word: show ,map index: 703 ,bag_of_centroids[index]: 2.0\n",
            "word_centroid_map!!! word: fear ,map index: 1115 ,bag_of_centroids[index]: 1.0\n",
            "word_centroid_map!!! word: show ,map index: 703 ,bag_of_centroids[index]: 3.0\n",
            "word_centroid_map!!! word: show ,map index: 703 ,bag_of_centroids[index]: 4.0\n",
            "word_centroid_map!!! word: anger ,map index: 1366 ,bag_of_centroids[index]: 2.0\n",
            "word_centroid_map!!! word: short ,map index: 1131 ,bag_of_centroids[index]: 1.0\n",
            "word_centroid_map!!! word: film ,map index: 1293 ,bag_of_centroids[index]: 3.0\n",
            "word_centroid_map!!! word: made ,map index: 1826 ,bag_of_centroids[index]: 1.0\n",
            "word_centroid_map!!! word: perfect ,map index: 748 ,bag_of_centroids[index]: 1.0\n",
            "word_centroid_map!!! word: diamond ,map index: 335 ,bag_of_centroids[index]: 1.0\n",
            "word_centroid_map!!! word: small ,map index: 1375 ,bag_of_centroids[index]: 1.0\n",
            "word_centroid_map!!! word: huston ,map index: 1319 ,bag_of_centroids[index]: 1.0\n",
            "word_centroid_map!!! word: poem ,map index: 1767 ,bag_of_centroids[index]: 1.0\n",
            "word_centroid_map!!! word: fit ,map index: 2025 ,bag_of_centroids[index]: 1.0\n",
            "word_centroid_map!!! word: tact ,map index: 1406 ,bag_of_centroids[index]: 1.0\n",
            "bag_of_centroids: [0. 0. 0. ... 0. 0. 0.]\n",
            "Fitting a random forest to labeled training data...\n",
            "CPU times: user 26.5 s, sys: 2.17 ms, total: 26.5 s\n",
            "Wall time: 26.6 s\n"
          ],
          "name": "stdout"
        }
      ]
    },
    {
      "cell_type": "code",
      "metadata": {
        "id": "JwC4WxvskRVz",
        "colab_type": "code",
        "colab": {
          "base_uri": "https://localhost:8080/",
          "height": 53
        },
        "outputId": "70d76a2d-81e1-443f-b2bf-66ab6445a11a"
      },
      "source": [
        "from sklearn.model_selection import cross_val_score\n",
        "%time score = np.mean(cross_val_score(\\\n",
        "    forest, train_centroids, train['sentiment'], cv=10,\\\n",
        "    scoring='roc_auc'))"
      ],
      "execution_count": 18,
      "outputs": [
        {
          "output_type": "stream",
          "text": [
            "CPU times: user 3min 56s, sys: 262 ms, total: 3min 56s\n",
            "Wall time: 3min 56s\n"
          ],
          "name": "stdout"
        }
      ]
    },
    {
      "cell_type": "code",
      "metadata": {
        "id": "78P8NrfNkRYG",
        "colab_type": "code",
        "colab": {
          "base_uri": "https://localhost:8080/",
          "height": 53
        },
        "outputId": "5055d427-5792-475a-deba-c0da88777f1e"
      },
      "source": [
        "%time result = forest.predict(test_centroids)"
      ],
      "execution_count": 19,
      "outputs": [
        {
          "output_type": "stream",
          "text": [
            "CPU times: user 1.68 s, sys: 2.51 ms, total: 1.68 s\n",
            "Wall time: 1.69 s\n"
          ],
          "name": "stdout"
        }
      ]
    },
    {
      "cell_type": "code",
      "metadata": {
        "id": "fFiTwIhykUvx",
        "colab_type": "code",
        "colab": {
          "base_uri": "https://localhost:8080/",
          "height": 35
        },
        "outputId": "bf5d9dc2-0d71-46ca-b387-f85f0a9e02eb"
      },
      "source": [
        "score"
      ],
      "execution_count": 20,
      "outputs": [
        {
          "output_type": "execute_result",
          "data": {
            "text/plain": [
              "0.869580128"
            ]
          },
          "metadata": {
            "tags": []
          },
          "execution_count": 20
        }
      ]
    },
    {
      "cell_type": "code",
      "metadata": {
        "id": "1VarjO_xkUx3",
        "colab_type": "code",
        "colab": {}
      },
      "source": [
        "# 결과를 csv로 저장\n",
        "output = pd.DataFrame(data={\"id\":test[\"id\"], \"sentiment\":result})\n",
        "output.to_csv(\"submit_BagOfCentroids_{0:.5f}.csv\".format(score), index=False, quoting=3)"
      ],
      "execution_count": 0,
      "outputs": []
    },
    {
      "cell_type": "code",
      "metadata": {
        "id": "cizRvnOo14Zo",
        "colab_type": "code",
        "colab": {
          "base_uri": "https://localhost:8080/",
          "height": 143
        },
        "outputId": "7b93f3a4-0ff0-4db4-b01c-faad39f8eee8"
      },
      "source": [
        "ls -alrt"
      ],
      "execution_count": 31,
      "outputs": [
        {
          "output_type": "stream",
          "text": [
            "total 300\n",
            "drwxr-xr-x 1 root root   4096 Feb  5 18:37 \u001b[0m\u001b[01;34msample_data\u001b[0m/\n",
            "drwxr-xr-x 1 root root   4096 Feb  6 17:12 \u001b[01;34m.config\u001b[0m/\n",
            "drwxr-xr-x 1 root root   4096 Feb  8 07:14 \u001b[01;34m..\u001b[0m/\n",
            "drwx------ 4 root root   4096 Feb  8 07:16 \u001b[01;34mgdrive\u001b[0m/\n",
            "drwxr-xr-x 1 root root   4096 Feb  8 08:08 \u001b[01;34m.\u001b[0m/\n",
            "-rw-r--r-- 1 root root 282792 Feb  8 08:08 submit_BagOfCentroids_0.86958.csv\n"
          ],
          "name": "stdout"
        }
      ]
    },
    {
      "cell_type": "code",
      "metadata": {
        "id": "P-4cwFju158m",
        "colab_type": "code",
        "colab": {}
      },
      "source": [
        "from google.colab import files\n",
        "files.download(\"/content/submit_BagOfCentroids_0.86958.csv\")"
      ],
      "execution_count": 0,
      "outputs": []
    },
    {
      "cell_type": "code",
      "metadata": {
        "id": "Qz6H5GdPkU0N",
        "colab_type": "code",
        "colab": {
          "base_uri": "https://localhost:8080/",
          "height": 352
        },
        "outputId": "cc36849a-45a1-469d-e513-80e075e47419"
      },
      "source": [
        "fig, axes = plt.subplots(ncols=2)\n",
        "fig.set_size_inches(12,5)\n",
        "sns.countplot(train['sentiment'], ax=axes[0])\n",
        "sns.countplot(output['sentiment'], ax=axes[1])"
      ],
      "execution_count": 33,
      "outputs": [
        {
          "output_type": "execute_result",
          "data": {
            "text/plain": [
              "<matplotlib.axes._subplots.AxesSubplot at 0x7fa5b02ea2b0>"
            ]
          },
          "metadata": {
            "tags": []
          },
          "execution_count": 33
        },
        {
          "output_type": "display_data",
          "data": {
            "image/png": "[encoded data removed]",
            "text/plain": [
              "<Figure size 864x360 with 2 Axes>"
            ]
          },
          "metadata": {
            "tags": []
          }
        }
      ]
    },
    {
      "cell_type": "code",
      "metadata": {
        "id": "lUZaMuVRkY-x",
        "colab_type": "code",
        "colab": {
          "base_uri": "https://localhost:8080/",
          "height": 89
        },
        "outputId": "40835f5b-7dd7-40eb-89d7-e3d535a9c76a"
      },
      "source": [
        "output_sentiment = output['sentiment'].value_counts()\n",
        "print(output_sentiment[0] - output_sentiment[1])\n",
        "output_sentiment"
      ],
      "execution_count": 34,
      "outputs": [
        {
          "output_type": "stream",
          "text": [
            "954\n"
          ],
          "name": "stdout"
        },
        {
          "output_type": "execute_result",
          "data": {
            "text/plain": [
              "0    12977\n",
              "1    12023\n",
              "Name: sentiment, dtype: int64"
            ]
          },
          "metadata": {
            "tags": []
          },
          "execution_count": 34
        }
      ]
    }
  ]
}