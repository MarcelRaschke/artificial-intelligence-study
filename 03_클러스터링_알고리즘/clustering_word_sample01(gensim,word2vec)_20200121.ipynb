{
 "cells": [
  {
   "cell_type": "code",
   "execution_count": 0,
   "metadata": {
    "colab": {},
    "colab_type": "code",
    "id": "U-_1RWAj4Zlm"
   },
   "outputs": [],
   "source": [
    "#참고: https://ai.intelligentonlinetools.com/ml/k-means-clustering-example-word2vec/"
   ]
  },
  {
   "cell_type": "code",
   "execution_count": 0,
   "metadata": {
    "colab": {},
    "colab_type": "code",
    "id": "BGcNYmAq5TBU"
   },
   "outputs": [],
   "source": [
    "from gensim.models import Word2Vec\n",
    "sentences = [['this', 'is', 'the', 'good', 'machine', 'learning', 'book'],\n",
    "            ['this', 'is',  'another', 'book'],\n",
    "            ['one', 'more', 'book'],\n",
    "            ['this', 'is', 'the', 'new', 'post'],\n",
    "            ['this', 'is', 'about', 'machine', 'learning', 'post'],  \n",
    "            ['and', 'this', 'is', 'the', 'last', 'post']]\n",
    "model = Word2Vec(sentences, min_count=1)"
   ]
  },
  {
   "cell_type": "code",
   "execution_count": 3,
   "metadata": {
    "colab": {
     "base_uri": "https://localhost:8080/",
     "height": 721
    },
    "colab_type": "code",
    "id": "ESIADq4w5S_4",
    "outputId": "90a92a28-b740-4543-8430-69afaafc5063"
   },
   "outputs": [
    {
     "name": "stdout",
     "output_type": "stream",
     "text": [
      "0.023353813\n",
      "-0.10754849\n",
      "[('one', 0.14598448574543), ('is', 0.13943694531917572)]\n",
      "[-4.7865706e-03 -3.3655725e-03  3.6772056e-03  2.6717687e-03\n",
      " -6.4278621e-04 -1.6032662e-03 -3.4779939e-03 -3.9768117e-03\n",
      " -5.2826636e-04 -1.7691392e-03  4.3365979e-03  8.9867774e-04\n",
      " -3.4589423e-03  4.4711269e-03 -4.2403485e-03  4.2561497e-04\n",
      " -8.4554171e-04  2.9751720e-04  1.6832502e-04  4.8678848e-03\n",
      " -4.3857479e-03 -3.0034701e-03 -2.6908508e-03 -4.0027127e-03\n",
      "  2.1901345e-03  4.0382436e-03 -3.3062603e-03 -4.1648587e-03\n",
      "  3.2902551e-03  2.7271523e-03  2.4503334e-03  1.1538177e-03\n",
      " -3.8903526e-03 -2.7898683e-03 -2.1985339e-03  2.4648628e-03\n",
      " -1.4365839e-03  4.6427897e-03  1.4018184e-03  4.4470332e-03\n",
      " -8.9780852e-04 -2.7360104e-03 -6.7369750e-04  1.4307260e-03\n",
      " -1.3570393e-03  4.3455539e-03 -6.9131370e-04  4.3572094e-03\n",
      " -3.3887373e-03 -2.2484553e-05  7.3495525e-04 -1.3822878e-03\n",
      "  2.4161921e-03  3.6134440e-03 -8.5956551e-04 -2.8032428e-03\n",
      "  4.1230596e-03 -3.3643453e-03  2.8990367e-03 -4.8799813e-03\n",
      " -1.1569988e-03  2.9558362e-03 -1.7258344e-03  3.6671446e-03\n",
      " -3.7506197e-03 -1.6936442e-03  2.8156033e-03 -2.9856847e-03\n",
      " -8.0870761e-04  3.6092985e-03 -2.9852819e-03  4.0765852e-03\n",
      "  3.2939119e-03 -4.0372415e-03 -3.7940727e-03  4.1044131e-03\n",
      "  4.5967028e-03 -1.7412712e-03 -4.0181647e-03 -3.7232728e-03\n",
      " -1.9202769e-03 -1.1552556e-03 -5.7634759e-05  1.5197172e-03\n",
      "  4.7954891e-04  1.0940024e-03 -2.2041926e-03  3.5021545e-03\n",
      " -2.3043074e-03 -3.2964004e-03 -4.3495679e-03  1.2838014e-03\n",
      "  4.4648023e-03  3.3410541e-03 -4.9277395e-03  3.0234356e-03\n",
      "  2.7930763e-04  2.8000341e-03  1.4720259e-03  3.2187125e-03]\n"
     ]
    },
    {
     "name": "stderr",
     "output_type": "stream",
     "text": [
      "/usr/local/lib/python3.6/dist-packages/ipykernel_launcher.py:1: DeprecationWarning: Call to deprecated `similarity` (Method will be removed in 4.0.0, use self.wv.similarity() instead).\n",
      "  \"\"\"Entry point for launching an IPython kernel.\n",
      "/usr/local/lib/python3.6/dist-packages/gensim/matutils.py:737: FutureWarning: Conversion of the second argument of issubdtype from `int` to `np.signedinteger` is deprecated. In future, it will be treated as `np.int64 == np.dtype(int).type`.\n",
      "  if np.issubdtype(vec.dtype, np.int):\n",
      "/usr/local/lib/python3.6/dist-packages/ipykernel_launcher.py:2: DeprecationWarning: Call to deprecated `similarity` (Method will be removed in 4.0.0, use self.wv.similarity() instead).\n",
      "  \n",
      "/usr/local/lib/python3.6/dist-packages/ipykernel_launcher.py:5: DeprecationWarning: Call to deprecated `most_similar` (Method will be removed in 4.0.0, use self.wv.most_similar() instead).\n",
      "  \"\"\"\n",
      "/usr/local/lib/python3.6/dist-packages/ipykernel_launcher.py:7: DeprecationWarning: Call to deprecated `__getitem__` (Method will be removed in 4.0.0, use self.wv.__getitem__() instead).\n",
      "  import sys\n"
     ]
    }
   ],
   "source": [
    "print (model.similarity('this', 'is'))\n",
    "print (model.similarity('post', 'book'))\n",
    "#output -0.0198180344218\n",
    "#output -0.079446731287\n",
    "print (model.most_similar(positive=['machine'], negative=[], topn=2))\n",
    "#output: [('new', 0.24608060717582703), ('is', 0.06899910420179367)]\n",
    "print (model['the'])\n",
    "#output [-0.00217354 -0.00237131  0.00296396 ...,  0.00138597  0.00291924  0.00409528]\n"
   ]
  },
  {
   "cell_type": "code",
   "execution_count": 6,
   "metadata": {
    "colab": {
     "base_uri": "https://localhost:8080/",
     "height": 53
    },
    "colab_type": "code",
    "id": "JYLwRhBy5S7w",
    "outputId": "24882d53-a2fe-45be-ade0-f5ee36aefaa6"
   },
   "outputs": [
    {
     "name": "stdout",
     "output_type": "stream",
     "text": [
      "['this', 'is', 'the', 'good', 'machine', 'learning', 'book', 'another', 'one', 'more', 'new', 'post', 'about', 'and', 'last']\n",
      "15\n"
     ]
    }
   ],
   "source": [
    "#https://stackoverflow.com/questions/42517435/gensim-word2vec-in-python3-missing-vocab\n",
    "print (list(model.wv.vocab))\n",
    "print (len(list(model.wv.vocab)))"
   ]
  },
  {
   "cell_type": "code",
   "execution_count": 10,
   "metadata": {
    "colab": {
     "base_uri": "https://localhost:8080/",
     "height": 287
    },
    "colab_type": "code",
    "id": "QlPhZoGI5ald",
    "outputId": "7bd3b2f4-d678-4924-ee39-7d8ee84e2b97"
   },
   "outputs": [
    {
     "name": "stdout",
     "output_type": "stream",
     "text": [
      "[[ 0.00047418  0.00301717 -0.00027212 ... -0.00289225  0.00467428\n",
      "   0.00352464]\n",
      " [ 0.00159856 -0.003975   -0.00161724 ... -0.00336506  0.00459991\n",
      "  -0.00253039]\n",
      " [-0.00478657 -0.00336557  0.00367721 ...  0.00280003  0.00147203\n",
      "   0.00321871]\n",
      " ...\n",
      " [ 0.00487436 -0.00334671  0.0019469  ...  0.00270051 -0.00346076\n",
      "  -0.00424068]\n",
      " [ 0.0015871   0.00237888 -0.00028152 ...  0.00242213 -0.00226949\n",
      "  -0.00033409]\n",
      " [ 0.00111988  0.00167457  0.00255583 ...  0.00031491  0.0007933\n",
      "   0.00303352]]\n"
     ]
    },
    {
     "name": "stderr",
     "output_type": "stream",
     "text": [
      "/usr/local/lib/python3.6/dist-packages/ipykernel_launcher.py:1: DeprecationWarning: Call to deprecated `__getitem__` (Method will be removed in 4.0.0, use self.wv.__getitem__() instead).\n",
      "  \"\"\"Entry point for launching an IPython kernel.\n"
     ]
    }
   ],
   "source": [
    "X = model[model.wv.vocab]\n",
    "print(X)"
   ]
  },
  {
   "cell_type": "code",
   "execution_count": 9,
   "metadata": {
    "colab": {
     "base_uri": "https://localhost:8080/",
     "height": 35
    },
    "colab_type": "code",
    "id": "QnnZNaWf5ajZ",
    "outputId": "c1dbb183-3218-4e7d-cf28-885d6c11689f"
   },
   "outputs": [
    {
     "name": "stdout",
     "output_type": "stream",
     "text": [
      "[2, 0, 0, 2, 0, 2, 1, 2, 0, 0, 1, 0, 0, 2, 0]\n"
     ]
    }
   ],
   "source": [
    "from nltk.cluster import KMeansClusterer\n",
    "import nltk\n",
    "\n",
    "NUM_CLUSTERS=3\n",
    "\n",
    "kclusterer = KMeansClusterer(NUM_CLUSTERS, distance=nltk.cluster.util.cosine_distance, repeats=25)\n",
    "assigned_clusters = kclusterer.cluster(X, assign_clusters=True)\n",
    "print (assigned_clusters)\n",
    "# output: [0, 2, 1, 2, 2, 1, 2, 2, 0, 1, 0, 1, 2, 1, 2]"
   ]
  },
  {
   "cell_type": "code",
   "execution_count": 11,
   "metadata": {
    "colab": {
     "base_uri": "https://localhost:8080/",
     "height": 287
    },
    "colab_type": "code",
    "id": "NiWgLhNO5g0M",
    "outputId": "26ea7ab0-16b4-4130-8901-62cdc8cea552"
   },
   "outputs": [
    {
     "name": "stdout",
     "output_type": "stream",
     "text": [
      "this:2\n",
      "is:0\n",
      "the:0\n",
      "good:2\n",
      "machine:0\n",
      "learning:2\n",
      "book:1\n",
      "another:2\n",
      "one:0\n",
      "more:0\n",
      "new:1\n",
      "post:0\n",
      "about:0\n",
      "and:2\n",
      "last:0\n"
     ]
    }
   ],
   "source": [
    "words = list(model.wv.vocab)\n",
    "for i, word in enumerate(words):  \n",
    "    print (word + \":\" + str(assigned_clusters[i]))"
   ]
  },
  {
   "cell_type": "code",
   "execution_count": 12,
   "metadata": {
    "colab": {
     "base_uri": "https://localhost:8080/",
     "height": 1000
    },
    "colab_type": "code",
    "id": "4joigD8j5jEi",
    "outputId": "023d63cb-05dc-4e84-8fd9-0aae9cba0bb7"
   },
   "outputs": [
    {
     "name": "stdout",
     "output_type": "stream",
     "text": [
      "Cluster id labels for inputted data\n",
      "[0 2 0 0 1 0 0 1 1 2 1 2 2 0 0]\n",
      "Centroids data\n",
      "[[ 3.69429355e-04 -5.34996041e-04 -3.50475544e-04  8.87554488e-04\n",
      "  -3.03833192e-04 -1.24560366e-03 -2.10413081e-03 -8.54395214e-04\n",
      "  -1.03886973e-03  1.65346032e-03 -3.87265463e-05  2.01638904e-04\n",
      "  -1.52124418e-03 -2.05318793e-05  1.01998029e-03 -1.07320753e-04\n",
      "  -6.67085988e-04 -1.37241819e-04  8.87490402e-04 -1.35590427e-03\n",
      "  -2.89555988e-04 -2.10375246e-03  2.55881750e-04 -1.70046813e-03\n",
      "  -1.52275257e-03  2.27593933e-03 -1.51485053e-03 -2.17643427e-03\n",
      "   1.75629091e-03  1.65622379e-03  1.28367660e-03  6.61173253e-04\n",
      "  -6.60056772e-04 -7.31275417e-04  9.56446456e-05  5.18151268e-04\n",
      "  -7.57790811e-04 -6.73014438e-04  1.36906828e-03  1.79551623e-03\n",
      "   1.43639045e-03  8.44559749e-04  2.29433691e-03 -1.41273940e-03\n",
      "  -1.57245828e-04  7.71166757e-04  2.36076739e-04 -8.59385473e-04\n",
      "  -1.82589531e-04  2.09941785e-03  2.21481710e-03 -4.44412348e-04\n",
      "   2.49417638e-03  2.78238929e-03  3.85346328e-04 -8.93535384e-04\n",
      "  -1.25929539e-04  1.29911164e-03  1.73478422e-03 -1.17271685e-03\n",
      "   1.16746826e-03  1.26564264e-04  5.54071215e-04  1.41234050e-04\n",
      "  -6.51487440e-04 -6.17792713e-04 -2.62389745e-04 -6.61637459e-04\n",
      "   1.55110611e-05  7.47704413e-04  4.83420677e-04  1.08145480e-03\n",
      "  -1.72768184e-03  5.09088917e-04 -2.56325351e-03  3.80195794e-04\n",
      "   2.18470953e-03 -7.02489400e-04  4.86172794e-05 -1.14028633e-03\n",
      "   4.01247729e-04  1.41108443e-03 -1.72137370e-04 -6.99261669e-04\n",
      "   5.99013001e-05 -2.05249083e-03 -8.46913375e-04  1.01724558e-03\n",
      "   6.19175786e-04  1.52733538e-03 -1.64874084e-03 -3.78739758e-04\n",
      "   3.01697291e-05  1.13949052e-03 -2.04346492e-03 -3.76598502e-04\n",
      "   3.52796400e-04 -7.25413673e-04  7.34333065e-04  1.67180900e-03]\n",
      " [ 1.65045611e-04 -3.25056608e-05  1.82837714e-03 -3.34611349e-03\n",
      "   5.93896038e-05  4.79858340e-04  3.87023028e-04 -1.92938966e-03\n",
      "  -1.56043074e-03  1.77183142e-03  4.43640398e-04 -2.08374672e-03\n",
      "   9.96884424e-04  1.00094336e-03 -8.16591491e-04  1.93454500e-03\n",
      "   2.75325496e-03 -5.09007601e-04  4.22690820e-04 -1.88036356e-05\n",
      "  -1.41201750e-03  1.70576014e-03  4.19267395e-04  1.73122669e-03\n",
      "  -2.98749399e-03 -1.67138455e-03  2.63778400e-03 -1.04281213e-03\n",
      "  -1.98268215e-04 -1.26373023e-04 -1.29397213e-03 -1.45856757e-03\n",
      "   7.11399654e-04 -2.23595672e-03 -4.56109934e-04 -8.87362636e-04\n",
      "   1.56039884e-03  7.26577011e-04 -5.42578520e-04 -1.30260130e-03\n",
      "  -1.64038921e-03  1.46019261e-03 -3.43977660e-03  1.70601194e-03\n",
      "   2.70710629e-03  8.93186545e-04  1.00696587e-03  2.42115650e-03\n",
      "  -2.49902043e-03  9.92942019e-04  1.47228350e-03  2.16761883e-03\n",
      "  -1.14582328e-03 -1.16841705e-03  1.22325873e-04 -2.89991614e-03\n",
      "  -8.37012776e-05 -4.26313432e-04 -1.14488392e-03 -4.81630035e-04\n",
      "   6.04161760e-04  1.40346907e-04 -1.44572742e-03  2.66673160e-03\n",
      "   7.39462965e-04 -5.06012468e-04 -1.09305794e-04  1.11455459e-03\n",
      "   4.89872997e-04  1.63412106e-03 -1.59201794e-03 -5.64160815e-04\n",
      "   4.72634565e-06 -1.11358310e-03  1.53646735e-03 -6.92120928e-04\n",
      "   8.40639404e-04  5.38152060e-04 -3.99610610e-04  1.03045278e-03\n",
      "   6.73019094e-05  1.48981693e-03 -1.20417494e-03  3.01588734e-04\n",
      "   5.48834912e-04 -2.09709187e-03  2.34796735e-03 -2.91097979e-03\n",
      "  -2.19100606e-04 -1.98517181e-03 -2.93937046e-05 -3.01246415e-04\n",
      "  -2.93784367e-04 -3.44861508e-03  4.18960117e-04  1.96468295e-03\n",
      "   2.03185901e-03  4.00849211e-04 -1.87833258e-03  3.29780346e-03]\n",
      " [ 1.64014450e-03 -2.38020415e-03 -1.15576852e-03  9.02709551e-04\n",
      "   1.24807208e-04  1.43875193e-03  1.44603034e-03  1.12054753e-03\n",
      "  -1.93765503e-04 -2.78278068e-03 -2.00488069e-03 -2.97757145e-03\n",
      "  -1.42593705e-03  2.34466698e-03 -2.80590286e-03 -7.73339998e-04\n",
      "  -1.16120896e-03  4.53221379e-04 -3.00138420e-03 -1.63117307e-03\n",
      "  -2.01885682e-03 -1.76093017e-04  3.09318677e-03  1.83666684e-03\n",
      "   4.86848876e-06  3.80777288e-04 -8.16730724e-04 -4.08814056e-04\n",
      "   1.47789123e-03  1.28442154e-03 -1.34308951e-03  1.77615962e-03\n",
      "  -2.82534398e-03 -7.30607426e-05 -8.83181579e-04 -7.75345892e-04\n",
      "   2.03405088e-03  2.44377856e-03 -3.25031485e-03 -1.73320726e-03\n",
      "  -2.06579501e-03 -1.18771207e-03 -1.32338086e-03  9.40365193e-04\n",
      "  -1.91573286e-03 -5.32255159e-04 -2.35761027e-03 -1.71334343e-03\n",
      "   1.46584341e-03 -3.47376056e-03  3.32984026e-03  2.09991750e-03\n",
      "  -1.00490463e-03 -5.15376742e-04 -6.61503291e-04  8.79999658e-04\n",
      "   4.42678982e-04  9.37454170e-05 -5.44155482e-05 -7.58178008e-04\n",
      "  -1.33758271e-03  1.09136605e-03  7.68101483e-04 -4.19017999e-03\n",
      "   1.40632223e-03 -2.01597321e-03  7.11484463e-04  3.79023812e-04\n",
      "  -1.68807560e-03 -3.13746091e-03 -3.89581022e-04  5.55158826e-04\n",
      "  -2.49634101e-03 -1.61887798e-03  3.97347845e-04 -6.21627260e-04\n",
      "   4.12979687e-04  1.66725914e-03  1.56857981e-03 -6.30166032e-04\n",
      "   1.82345510e-03 -4.48059931e-04 -6.48720306e-05 -2.50986102e-03\n",
      "   4.90867882e-04  3.51608964e-04  1.04863814e-03  1.09036919e-03\n",
      "  -1.73821370e-03 -1.42316148e-03  6.50708564e-04 -1.56274182e-04\n",
      "   3.38398479e-03 -1.58499693e-04  1.11368881e-03 -8.98063241e-04\n",
      "  -1.89226598e-03 -1.20212347e-03  1.91511621e-03 -4.74743312e-04]]\n",
      "Score (Opposite of the value of X on the K-means objective which is Sum of distances of samples to their closest cluster center):\n",
      "-0.009705577\n",
      "Silhouette_score: \n",
      "0.03401082\n"
     ]
    }
   ],
   "source": [
    "from sklearn import cluster\n",
    "from sklearn import metrics\n",
    "kmeans = cluster.KMeans(n_clusters=NUM_CLUSTERS)\n",
    "kmeans.fit(X)\n",
    " \n",
    "labels = kmeans.labels_\n",
    "centroids = kmeans.cluster_centers_\n",
    " \n",
    "print (\"Cluster id labels for inputted data\")\n",
    "print (labels)\n",
    "print (\"Centroids data\")\n",
    "print (centroids)\n",
    " \n",
    "print (\"Score (Opposite of the value of X on the K-means objective which is Sum of distances of samples to their closest cluster center):\")\n",
    "print (kmeans.score(X))\n",
    " \n",
    "silhouette_score = metrics.silhouette_score(X, labels, metric='euclidean')\n",
    " \n",
    "print (\"Silhouette_score: \")\n",
    "print (silhouette_score)"
   ]
  }
 ],
 "metadata": {
  "accelerator": "GPU",
  "colab": {
   "name": "clustering_word_sample01_20200121.ipynb",
   "provenance": []
  },
  "kernelspec": {
   "display_name": "Python 3",
   "language": "python",
   "name": "python3"
  },
  "language_info": {
   "codemirror_mode": {
    "name": "ipython",
    "version": 3
   },
   "file_extension": ".py",
   "mimetype": "text/x-python",
   "name": "python",
   "nbconvert_exporter": "python",
   "pygments_lexer": "ipython3",
   "version": "3.7.1"
  }
 },
 "nbformat": 4,
 "nbformat_minor": 1
}
