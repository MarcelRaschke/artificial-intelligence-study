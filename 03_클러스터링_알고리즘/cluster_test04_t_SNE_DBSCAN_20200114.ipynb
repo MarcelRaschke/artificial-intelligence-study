{
  "nbformat": 4,
  "nbformat_minor": 0,
  "metadata": {
    "colab": {
      "name": "cluster_test04_t-SNE_DBSCAN_20200114.ipynb",
      "provenance": []
    },
    "kernelspec": {
      "name": "python3",
      "display_name": "Python 3"
    },
    "accelerator": "GPU"
  },
  "cells": [
    {
      "cell_type": "code",
      "metadata": {
        "id": "E9Wbm9OZ5jzS",
        "colab_type": "code",
        "outputId": "c1d4ba9f-23b1-4441-9f75-b1f316c6572b",
        "colab": {
          "base_uri": "https://localhost:8080/",
          "height": 154
        }
      },
      "source": [
        "#참고: https://yamalab.tistory.com/118\n",
        "\n",
        "from keras.datasets import mnist\n",
        "import numpy as np\n",
        "\n",
        "(x_train, y_train), (x_test, y_test) = mnist.load_data()\n",
        "x_train = x_train.astype('float32') / 255.\n",
        "x_test = x_test.astype('float32') / 255.\n",
        "x_train = x_train.reshape((len(x_train), np.prod(x_train.shape[1:])))\n",
        "x_test = x_test.reshape((len(x_test), np.prod(x_test.shape[1:])))\n",
        "print (x_train.shape)\n",
        "print (x_test.shape)"
      ],
      "execution_count": 1,
      "outputs": [
        {
          "output_type": "stream",
          "text": [
            "Using TensorFlow backend.\n"
          ],
          "name": "stderr"
        },
        {
          "output_type": "display_data",
          "data": {
            "text/html": [
              "<p style=\"color: red;\">\n",
              "The default version of TensorFlow in Colab will soon switch to TensorFlow 2.x.<br>\n",
              "We recommend you <a href=\"https://www.tensorflow.org/guide/migrate\" target=\"_blank\">upgrade</a> now \n",
              "or ensure your notebook will continue to use TensorFlow 1.x via the <code>%tensorflow_version 1.x</code> magic:\n",
              "<a href=\"https://colab.research.google.com/notebooks/tensorflow_version.ipynb\" target=\"_blank\">more info</a>.</p>\n"
            ],
            "text/plain": [
              "<IPython.core.display.HTML object>"
            ]
          },
          "metadata": {
            "tags": []
          }
        },
        {
          "output_type": "stream",
          "text": [
            "Downloading data from https://s3.amazonaws.com/img-datasets/mnist.npz\n",
            "11493376/11490434 [==============================] - 2s 0us/step\n",
            "(60000, 784)\n",
            "(10000, 784)\n"
          ],
          "name": "stdout"
        }
      ]
    },
    {
      "cell_type": "code",
      "metadata": {
        "id": "a6U9veu55vHA",
        "colab_type": "code",
        "colab": {}
      },
      "source": [
        "from sklearn.manifold import TSNE\n",
        "model = TSNE(learning_rate=300)\n",
        "transformed = model.fit_transform(x_train)"
      ],
      "execution_count": 0,
      "outputs": []
    },
    {
      "cell_type": "code",
      "metadata": {
        "id": "1QBwWQbKAC82",
        "colab_type": "code",
        "colab": {}
      },
      "source": [
        "plt.rcParams['figure.figsize'] = [20, 16]\n",
        "xs = transformed[:,0]\n",
        "ys = transformed[:,1]\n",
        "plt.scatter(xs,ys)\n",
        "plt.show()"
      ],
      "execution_count": 0,
      "outputs": []
    },
    {
      "cell_type": "code",
      "metadata": {
        "id": "FvhY85cK_9Tc",
        "colab_type": "code",
        "colab": {}
      },
      "source": [
        "from sklearn.cluster import DBSCAN\n",
        "model = DBSCAN(eps=2.4, min_samples=100)\n",
        "predict = model.fit(transformed)\n",
        "pd.Series(predict.labels_).value_counts()\n",
        "\n",
        "y_pred = predict.labels_"
      ],
      "execution_count": 0,
      "outputs": []
    },
    {
      "cell_type": "code",
      "metadata": {
        "id": "bqw9Kk95-2kQ",
        "colab_type": "code",
        "colab": {}
      },
      "source": [
        "# Assign result to df\n",
        "dataset = pd.DataFrame({'Column1':transformed[:,0],'Column2':transformed[:,1]})\n",
        "dataset['cluster_num'] = pd.Series(predict.labels_)\n",
        "\n",
        "# Cluster Viz 1\n",
        "plt.rcParams['figure.figsize'] = [5, 4]\n",
        "plt.scatter(dataset[dataset['cluster_num'] == 0]['Column1'], \n",
        "            dataset[dataset['cluster_num'] == 0]['Column2'], \n",
        "            s = 50, c = 'red', label = 'Customer Group 1')\n",
        "plt.scatter(dataset[dataset['cluster_num'] == 1]['Column1'], \n",
        "            dataset[dataset['cluster_num'] == 1]['Column2'], \n",
        "            s = 50, c = 'orange', label = 'Customer Group 2')\n",
        "plt.scatter(dataset[dataset['cluster_num'] == 2]['Column1'], \n",
        "            dataset[dataset['cluster_num'] == 2]['Column2'], \n",
        "            s = 50, c = 'yellow', label = 'Customer Group 3')\n",
        "plt.scatter(dataset[dataset['cluster_num'] == 3]['Column1'], \n",
        "            dataset[dataset['cluster_num'] == 3]['Column2'], \n",
        "            s = 50, c = 'green', label = 'Customer Group 4')\n",
        "plt.scatter(dataset[dataset['cluster_num'] == 4]['Column1'], \n",
        "            dataset[dataset['cluster_num'] == 4]['Column2'], \n",
        "            s = 50, c = 'blue', label = 'Customer Group 5')\n",
        "plt.scatter(dataset[dataset['cluster_num'] == 5]['Column1'], \n",
        "            dataset[dataset['cluster_num'] == 5]['Column2'], \n",
        "            s = 50, c = 'darkblue', label = 'Customer Group 6')\n",
        "plt.scatter(dataset[dataset['cluster_num'] == 6]['Column1'], \n",
        "            dataset[dataset['cluster_num'] == 6]['Column2'], \n",
        "            s = 50, c = 'purple', label = 'Customer Group 7')\n",
        "plt.scatter(dataset[dataset['cluster_num'] == 7]['Column1'], \n",
        "            dataset[dataset['cluster_num'] == 7]['Column2'], \n",
        "            s = 50, c = 'gray', label = 'Customer Group 8')\n",
        "plt.scatter(dataset[dataset['cluster_num'] == 8]['Column1'], \n",
        "            dataset[dataset['cluster_num'] == 8]['Column2'], \n",
        "            s = 50, c = 'black', label = 'Customer Group 9')\n",
        "plt.scatter(dataset[dataset['cluster_num'] == 9]['Column1'], \n",
        "            dataset[dataset['cluster_num'] == 9]['Column2'], \n",
        "            s = 50, c = 'magenta', label = 'Customer Group 10')\n",
        "plt.title('Type Of Keyword')\n",
        "plt.show()"
      ],
      "execution_count": 0,
      "outputs": []
    },
    {
      "cell_type": "code",
      "metadata": {
        "id": "Yh_DOtWQAYvO",
        "colab_type": "code",
        "colab": {}
      },
      "source": [
        "import matplotlib.pyplot as plt\n",
        "\n",
        "def viz_img(y_pred):\n",
        "    n = 10\n",
        "    fig = plt.figure(1)\n",
        "    box_index = 1\n",
        "    for cluster in range(10):\n",
        "        result = np.where(y_pred == cluster)\n",
        "        for i in np.random.choice(result[0].tolist(), n, replace=False):\n",
        "            ax = fig.add_subplot(n, n, box_index)\n",
        "            plt.imshow(x_train[i].reshape(28, 28))\n",
        "            plt.gray()\n",
        "            ax.get_xaxis().set_visible(False)\n",
        "            ax.get_yaxis().set_visible(False)\n",
        "            box_index += 1\n",
        "    plt.show()\n",
        "    \n",
        "viz_img(y_pred)"
      ],
      "execution_count": 0,
      "outputs": []
    }
  ]
}