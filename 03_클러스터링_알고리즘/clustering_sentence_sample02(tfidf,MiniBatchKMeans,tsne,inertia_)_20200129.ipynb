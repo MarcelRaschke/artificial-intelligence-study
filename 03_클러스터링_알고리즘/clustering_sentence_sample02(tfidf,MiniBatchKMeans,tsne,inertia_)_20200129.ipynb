{
  "nbformat": 4,
  "nbformat_minor": 0,
  "metadata": {
    "colab": {
      "name": "clustering_sentence_sample02(MiniBatchKMeans)_20200129.ipynb.ipynb",
      "provenance": [],
      "collapsed_sections": []
    },
    "kernelspec": {
      "name": "python3",
      "display_name": "Python 3"
    },
    "accelerator": "GPU"
  },
  "cells": [
    {
      "cell_type": "code",
      "metadata": {
        "id": "HTs5MBtyLwHx",
        "colab_type": "code",
        "colab": {}
      },
      "source": [
        "#참고: https://www.kaggle.com/jbencina/clustering-documents-with-tfidf-and-kmeans\n",
        "import numpy as np\n",
        "import pandas as pd\n",
        "import matplotlib.pyplot as plt\n",
        "import matplotlib.cm as cm\n",
        "\n",
        "from sklearn.cluster import MiniBatchKMeans\n",
        "from sklearn.feature_extraction.text import TfidfVectorizer\n",
        "from sklearn.decomposition import PCA\n",
        "from sklearn.manifold import TSNE"
      ],
      "execution_count": 0,
      "outputs": []
    },
    {
      "cell_type": "code",
      "metadata": {
        "id": "OAv45FHrMIwa",
        "colab_type": "code",
        "colab": {}
      },
      "source": [
        "sentences = [\n",
        "        \"Nature is beautiful\",\"I like green apples\",\n",
        "        \"We should protect the trees\",\"Fruit trees provide fruits\",\n",
        "        \"Green apples are tasty\", \"This is the test\",\n",
        "        \"Plastic cup\", \"Plastic plate\",\n",
        "        \"bredding horse\", \"racing horse\"\n",
        "        ]"
      ],
      "execution_count": 0,
      "outputs": []
    },
    {
      "cell_type": "code",
      "metadata": {
        "id": "sc7oj5LxLx_N",
        "colab_type": "code",
        "colab": {
          "base_uri": "https://localhost:8080/",
          "height": 35
        },
        "outputId": "cc43398f-087e-419d-d1d3-b46ae9994909"
      },
      "source": [
        "tfidf = TfidfVectorizer(\n",
        "    min_df = 2,\n",
        "    max_df = 50,\n",
        "    max_features = 8000,\n",
        "    stop_words = 'english'\n",
        ")\n",
        "tfidf.fit(sentences)\n",
        "tfidf_matrix = tfidf.transform(sentences)\n",
        "\n",
        "print('tfidf_matrix:', tfidf_matrix.shape)"
      ],
      "execution_count": 39,
      "outputs": [
        {
          "output_type": "stream",
          "text": [
            "tfidf_matrix: (10, 5)\n"
          ],
          "name": "stdout"
        }
      ]
    },
    {
      "cell_type": "code",
      "metadata": {
        "id": "Kfy38r4TLyDv",
        "colab_type": "code",
        "colab": {
          "base_uri": "https://localhost:8080/",
          "height": 179
        },
        "outputId": "36033495-6fff-4bef-beaa-5ef7d0b9f7d3"
      },
      "source": [
        "#10, 50, 100, 200, 300, ...arr값으로 테스트해보기...\n",
        "#def find_optimal_clusters(data, max_k):\n",
        "sse = []\n",
        "iters = range(1, 10, 1)\n",
        "#k_arr = [10, 50, 100, 200, 300, 400, 500, 600, 700, 800, 900, 1000, 2000, 3000]    \n",
        "def find_optimal_clusters(data):\n",
        "    for k in iters:\n",
        "        sse.append(MiniBatchKMeans(n_clusters=k, init_size=1024, batch_size=2048, random_state=20).fit(data).inertia_)\n",
        "        print('Fit {} clusters'.format(k))\n",
        "        \n",
        "find_optimal_clusters(tfidf_matrix)"
      ],
      "execution_count": 40,
      "outputs": [
        {
          "output_type": "stream",
          "text": [
            "Fit 1 clusters\n",
            "Fit 2 clusters\n",
            "Fit 3 clusters\n",
            "Fit 4 clusters\n",
            "Fit 5 clusters\n",
            "Fit 6 clusters\n",
            "Fit 7 clusters\n",
            "Fit 8 clusters\n",
            "Fit 9 clusters\n"
          ],
          "name": "stdout"
        }
      ]
    },
    {
      "cell_type": "code",
      "metadata": {
        "id": "2ne3N3nKLyCB",
        "colab_type": "code",
        "colab": {
          "base_uri": "https://localhost:8080/",
          "height": 313
        },
        "outputId": "3418e658-e043-4c16-b029-03f0a634dee2"
      },
      "source": [
        "f, ax = plt.subplots(1, 1)\n",
        "ax.plot(iters, sse, marker='o')\n",
        "ax.set_xlabel('Cluster Centers')\n",
        "ax.set_xticks(iters)\n",
        "ax.set_xticklabels(iters)\n",
        "ax.set_ylabel('SSE')\n",
        "ax.set_title('SSE by Cluster Center Plot')"
      ],
      "execution_count": 41,
      "outputs": [
        {
          "output_type": "execute_result",
          "data": {
            "text/plain": [
              "Text(0.5, 1.0, 'SSE by Cluster Center Plot')"
            ]
          },
          "metadata": {
            "tags": []
          },
          "execution_count": 41
        },
        {
          "output_type": "display_data",
          "data": {
            "image/png": "[encoded data removed]",
            "text/plain": [
              "<Figure size 432x288 with 1 Axes>"
            ]
          },
          "metadata": {
            "tags": []
          }
        }
      ]
    },
    {
      "cell_type": "code",
      "metadata": {
        "id": "VRWEcb0eL3lF",
        "colab_type": "code",
        "colab": {}
      },
      "source": [
        "clusters = MiniBatchKMeans(n_clusters=5, init_size=1024, batch_size=2048, random_state=20).fit_predict(tfidf_matrix)"
      ],
      "execution_count": 0,
      "outputs": []
    },
    {
      "cell_type": "code",
      "metadata": {
        "id": "KPK9d6kAL5wS",
        "colab_type": "code",
        "colab": {
          "base_uri": "https://localhost:8080/",
          "height": 390
        },
        "outputId": "6e77aaae-8507-40ee-f5d3-63d23caa9531"
      },
      "source": [
        "def plot_tsne_pca(data, labels):\n",
        "    max_label = max(labels)\n",
        "    max_items = np.random.choice(range(data.shape[0]), size=5, replace=False)\n",
        "    \n",
        "    pca = PCA(n_components=2).fit_transform(data[max_items,:].todense())\n",
        "    tsne = TSNE().fit_transform(PCA(n_components=3).fit_transform(data[max_items,:].todense()))    \n",
        "    \n",
        "    idx = np.random.choice(range(pca.shape[0]), size=5, replace=False)\n",
        "    label_subset = labels[max_items]\n",
        "    label_subset = [cm.hsv(i/max_label) for i in label_subset[idx]]\n",
        "    \n",
        "    f, ax = plt.subplots(1, 2, figsize=(14, 6))\n",
        "    \n",
        "    ax[0].scatter(pca[idx, 0], pca[idx, 1], c=label_subset)\n",
        "    ax[0].set_title('PCA Cluster Plot')\n",
        "    \n",
        "    ax[1].scatter(tsne[idx, 0], tsne[idx, 1], c=label_subset)\n",
        "    ax[1].set_title('TSNE Cluster Plot')\n",
        "    \n",
        "plot_tsne_pca(tfidf_matrix, clusters)"
      ],
      "execution_count": 42,
      "outputs": [
        {
          "output_type": "display_data",
          "data": {
            "image/png": "[encoded data removed]",
            "text/plain": [
              "<Figure size 1008x432 with 2 Axes>"
            ]
          },
          "metadata": {
            "tags": []
          }
        }
      ]
    },
    {
      "cell_type": "code",
      "metadata": {
        "id": "jWlWTJRzL3nc",
        "colab_type": "code",
        "colab": {
          "base_uri": "https://localhost:8080/",
          "height": 413
        },
        "outputId": "195fd834-cd9d-4c6b-c992-83bf041f0041"
      },
      "source": [
        "def get_top_keywords(data, clusters, labels, n_terms):\n",
        "    print('clusters:', clusters)\n",
        "    df = pd.DataFrame(data.todense()).groupby(clusters).mean()\n",
        "    print('df:', df)\n",
        "\n",
        "    for i,r in df.iterrows():\n",
        "        print('\\nCluster {}'.format(i))\n",
        "        print(','.join([labels[t] for t in np.argsort(r)[-n_terms:]]))\n",
        "            \n",
        "get_top_keywords(tfidf_matrix, clusters, tfidf.get_feature_names(), 3)"
      ],
      "execution_count": 43,
      "outputs": [
        {
          "output_type": "stream",
          "text": [
            "clusters: [2 1 0 0 1 2 3 3 4 4]\n",
            "df:           0         1    2    3    4\n",
            "0  0.000000  0.000000  0.0  0.0  1.0\n",
            "1  0.707107  0.707107  0.0  0.0  0.0\n",
            "2  0.000000  0.000000  0.0  0.0  0.0\n",
            "3  0.000000  0.000000  0.0  1.0  0.0\n",
            "4  0.000000  0.000000  1.0  0.0  0.0\n",
            "\n",
            "Cluster 0\n",
            "horse,plastic,trees\n",
            "\n",
            "Cluster 1\n",
            "trees,apples,green\n",
            "\n",
            "Cluster 2\n",
            "horse,plastic,trees\n",
            "\n",
            "Cluster 3\n",
            "horse,trees,plastic\n",
            "\n",
            "Cluster 4\n",
            "plastic,trees,horse\n"
          ],
          "name": "stdout"
        }
      ]
    }
  ]
}