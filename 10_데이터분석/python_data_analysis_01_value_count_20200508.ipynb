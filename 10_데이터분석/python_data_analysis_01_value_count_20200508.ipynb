{
  "nbformat": 4,
  "nbformat_minor": 0,
  "metadata": {
    "colab": {
      "name": "python_data_analysis_01_value-count_20200508.ipynb",
      "provenance": []
    },
    "kernelspec": {
      "name": "python3",
      "display_name": "Python 3"
    }
  },
  "cells": [
    {
      "cell_type": "code",
      "metadata": {
        "id": "qpBaOiOUFjC9",
        "colab_type": "code",
        "colab": {
          "base_uri": "https://localhost:8080/",
          "height": 593
        },
        "outputId": "bf0b9828-e2ed-464b-f032-30cb6f298aa5"
      },
      "source": [
        "#참고: Python for Data Analysis(파이썬 라이브러리를 이용한 데이터 분석)\n",
        "#1. word count 및 정렬\n",
        "\n",
        "import numpy as np\n",
        "import pandas as pd\n",
        "\n",
        "values = pd.Series(['apple','oragne','apple', 'banana'] * 2)\n",
        "print('values:', values)\n",
        "print()\n",
        "\n",
        "print('pd.unique(values):', pd.unique(values))\n",
        "print('pd.value_counts(values):', pd.value_counts(values))\n",
        "print()\n",
        "\n",
        "pd_val_cnt = pd.value_counts(values)\n",
        "print('type(pd_val_cnt):', type(pd_val_cnt))\n",
        "print('pd_val_cnt[0]:', pd_val_cnt[0])\n",
        "print()\n",
        "\n",
        "print('index정렬:', pd_val_cnt.sort_index())\n",
        "print('index 역순정렬:', pd_val_cnt.sort_index(ascending=False)) #axis=1\n",
        "print()\n",
        "\n",
        "print('value 정렬:', pd_val_cnt.sort_values(ascending=False))"
      ],
      "execution_count": 2,
      "outputs": [
        {
          "output_type": "stream",
          "text": [
            "values: 0     apple\n",
            "1    oragne\n",
            "2     apple\n",
            "3    banana\n",
            "4     apple\n",
            "5    oragne\n",
            "6     apple\n",
            "7    banana\n",
            "dtype: object\n",
            "\n",
            "pd.unique(values): ['apple' 'oragne' 'banana']\n",
            "pd.value_counts(values): apple     4\n",
            "banana    2\n",
            "oragne    2\n",
            "dtype: int64\n",
            "\n",
            "type(pd_val_cnt): <class 'pandas.core.series.Series'>\n",
            "pd_val_cnt[0]: 4\n",
            "\n",
            "index정렬: apple     4\n",
            "banana    2\n",
            "oragne    2\n",
            "dtype: int64\n",
            "index 역순정렬: oragne    2\n",
            "banana    2\n",
            "apple     4\n",
            "dtype: int64\n",
            "\n",
            "value 정렬: apple     4\n",
            "oragne    2\n",
            "banana    2\n",
            "dtype: int64\n"
          ],
          "name": "stdout"
        }
      ]
    }
  ]
}